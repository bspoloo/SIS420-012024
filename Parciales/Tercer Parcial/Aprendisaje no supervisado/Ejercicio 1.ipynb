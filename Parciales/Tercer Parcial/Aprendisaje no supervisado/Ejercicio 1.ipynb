{
  "cells": [
    {
      "cell_type": "markdown",
      "metadata": {
        "colab_type": "text",
        "id": "view-in-github"
      },
      "source": [
        "<a href=\"https://colab.research.google.com/github/bspoloo/SIS420-012024/blob/main/Parciales/Segundo%20Parcial/Aprendizaje%20no%20supervisado/D2(171).ipynb\" target=\"_parent\"><img src=\"https://colab.research.google.com/assets/colab-badge.svg\" alt=\"Open In Colab\"/></a>"
      ]
    },
    {
      "cell_type": "markdown",
      "metadata": {
        "id": "uX1pNyXFZ_hP"
      },
      "source": [
        "# Segundo parcial (Aprendizaje no supervisado)\n",
        " <h3>Implementacion del clustering haciendo uso del algoritmo K-Means.<h3>\n",
        " <HR>\n",
        " <h3>\n",
        "  NOMBRES:\n",
        "\n",
        "  * POLO ORELLANA BRAYAN SIMON\n",
        "  <br>\n",
        "  CARRERA: INGENIERIA DE SISTEMAS\n",
        "  <BR>\n",
        "  FECHA: 04/06/2024 <BR>\n",
        "\n",
        "  * [Enlace de invitacion para ser colaborador](https://github.com/bspoloo/SIS420-012024/invitations)\n",
        "  \n",
        "  * [Enlace al git hub](https://github.com/bspoloo/SIS420-012024/tree/main/Parciales/Tercer%20Parcial)\n",
        "\n",
        " <h3>"
      ]
    },
    {
      "cell_type": "markdown",
      "metadata": {
        "id": "suo-AQ2hZ_hP"
      },
      "source": [
        "Para el parcial hizo uso del dataset `MiningProcess_Flotation_Plant_Database.csv` para aplpicar el modelo de **clustering** usando el algoritmo de **k-means**.\n",
        "\n",
        "El enlace al dataset es [Quality Prediction in a Mining Process](https://www.kaggle.com/datasets/edumagalhaes/quality-prediction-in-a-mining-process).\n",
        "\n",
        "El archivo `MiningProcess_Flotation_Plant_Database.csv` bases de datos de plantas de fabricación del mundo real, especialmente de plantas mineras, que proviene de una de las partes más importantes de un proceso minero: ¡una planta de flotación!\n",
        "\n"
      ]
    },
    {
      "cell_type": "markdown",
      "metadata": {
        "id": "aiY4e73I7Aqq"
      },
      "source": [
        "# ML - Aprendizaje No Supervisado\n",
        "\n",
        "Si bien todos los ejemplos de *Machine Learning* que hemos visto hasta ahora en esta serie se han basado en aprendizaje supervisado (nuestros datos van acompañados de las etiquetas correspondientes, ejemplos de la tarea que queremos llevar a cabo) la mayoría de los datos no están etiquetados.\n",
        "\n",
        "Antes con esta problemática se tenia dos alternativas:\n",
        "* etiquetar datos manualmente (lo cual require de tiempo, esfuerzo y dinero en el caso de querer desarrollar sistemas reales)\n",
        "* bien usar técnicas de aprendizaje no supervisado, o *Unsupervised Learning* en inglés."
      ]
    },
    {
      "cell_type": "markdown",
      "metadata": {
        "id": "M7GuSQ1j7Aqr"
      },
      "source": [
        "## Clustering\n",
        "\n",
        "De entre las diferentes técnicas de aprendizaje no supervisado, el *Clustering* es una de las más usadas. Este técnica consiste en identificar aquellas muestras similares del conjunto de datos y asignarlas a un *cluster*, o grupo. Esto permite aplicaciones tales como:\n",
        "* segmentación de clientes.\n",
        "* análisis de datos.\n",
        "* reducción de la dimensionalidad.\n",
        "* detección de anomalías.\n",
        "* aprendizaje semi-supervisado.\n",
        "* motores de búsqueda.\n",
        "* semgentación de imágenes."
      ]
    },
    {
      "cell_type": "markdown",
      "metadata": {
        "id": "A5t7WNyc7Aqr"
      },
      "source": [
        "### K-Means"
      ]
    },
    {
      "cell_type": "markdown",
      "metadata": {
        "id": "ISahHdYb7Aqr"
      },
      "source": [
        "El algoritmo de *K-Means* es uno de los más usados a la hora de aplicar *Clustering*, ya que es un método rápido y eficiente. Vamos a generar un conjunto de datos sintético para aprender a usar esta técnica."
      ]
    },
    {
      "cell_type": "markdown",
      "metadata": {
        "id": "cHth6CdBZ_hQ"
      },
      "source": [
        "#### Importamos las librerisa necesarias"
      ]
    },
    {
      "cell_type": "code",
      "execution_count": 12,
      "metadata": {
        "id": "jmBuLrUM7Aqs"
      },
      "outputs": [],
      "source": [
        "from sklearn.datasets import make_blobs #Para generar conjuntos de datos simulados con una distribución específica\n",
        "import numpy as np #para el manejo de matrices y vectores\n",
        "\n",
        "# used for manipulating directory paths\n",
        "import os\n",
        "\n",
        "# Scientific and vector computation for python\n",
        "import numpy as np\n",
        "import matplotlib.pyplot as plt\n",
        "import pandas as pd\n",
        "\n",
        "# Optimization module in scipy\n",
        "from scipy import optimize\n",
        "\n",
        "# will be used to load MATLAB mat datafile format\n",
        "from scipy.io import loadmat\n",
        "\n",
        "import pandas as pd\n",
        "#esta tabulate nos sirve para hacer tablas\n",
        "from tabulate import tabulate\n",
        "\n",
        "# Librerias para graficación (trazado de gráficos)\n",
        "from matplotlib import pyplot\n",
        "# tells matplotlib to embed plots within the notebook\n",
        "#Para separa el 20% y 80%\n",
        "from sklearn.model_selection import train_test_split\n",
        "%matplotlib inline"
      ]
    },
    {
      "cell_type": "markdown",
      "metadata": {
        "id": "JJmWkIh97Aqx"
      },
      "source": [
        "## K-Means para aprendizaje no supervisado."
      ]
    },
    {
      "cell_type": "markdown",
      "metadata": {
        "id": "h-qBvfoY7Aqx"
      },
      "source": [
        "El aprendizaje semi-supervisado (o *Semi-supervised Learning*) comprende el conjunto de técnicas que nos permiten entrenar modelos con datasets parcialmente etiquetados."
      ]
    },
    {
      "cell_type": "code",
      "execution_count": 41,
      "metadata": {
        "id": "0k2I6FdxYUJn"
      },
      "outputs": [],
      "source": [
        "def  featureNormalize(X):\n",
        "    X_norm = X.copy()\n",
        "\n",
        "    #creamos un array de ceros con una longitud igual al número de columnas en el array X. La variable mu y sigma se inicializa como este array de ceros.\n",
        "    mu = np.zeros(X.shape[1])\n",
        "    sigma = np.zeros(X.shape[1])\n",
        "\n",
        "    #Creamos el promedio de cada columna de X\n",
        "    mu = np.mean(X, axis = 0)\n",
        "    sigma = np.std(X, axis = 0)\n",
        "\n",
        "    # sigma[sigma == 0] = 1\n",
        "\n",
        "    #normalizamos los datos con la siguiente formula\n",
        "    X_norm = (X - mu) / sigma\n",
        "\n",
        "    return X_norm, mu, sigma"
      ]
    },
    {
      "cell_type": "code",
      "execution_count": null,
      "metadata": {
        "id": "UEakn-jrbwh8"
      },
      "outputs": [],
      "source": [
        "from google.colab import drive\n",
        "drive.mount(\"/content/gdrive\")"
      ]
    },
    {
      "cell_type": "markdown",
      "metadata": {
        "id": "v4BsETtDZ_hf"
      },
      "source": [
        "### Carga del dataset"
      ]
    },
    {
      "cell_type": "code",
      "execution_count": 31,
      "metadata": {},
      "outputs": [],
      "source": [
        "def graficar_imagenes(data, num_images=5):\n",
        "    # Asegúrate de que no estamos intentando graficar más imágenes de las que existen en el dataset\n",
        "    num_images = min(num_images, len(data))\n",
        "\n",
        "    # Define el tamaño de la figura\n",
        "    plt.figure(figsize=(10, 2 * num_images))\n",
        "\n",
        "    for i in range(num_images):\n",
        "        # Extrae la imagen y la redimensiona\n",
        "        image = data.iloc[i].values\n",
        "        image = image.reshape(32, 32, 3)\n",
        "        image = image.astype(np.uint8)\n",
        "\n",
        "        # Crea un subplot para cada imagen\n",
        "        plt.subplot(1, num_images, i + 1)\n",
        "        plt.imshow(image)\n",
        "        plt.axis('off')\n",
        "\n",
        "    plt.show()"
      ]
    },
    {
      "cell_type": "code",
      "execution_count": 15,
      "metadata": {
        "colab": {
          "base_uri": "https://localhost:8080/"
        },
        "id": "GwTApE3M7Aqx",
        "outputId": "8ef03cb1-f05b-4620-d3fc-d142dd95bdd6"
      },
      "outputs": [
        {
          "data": {
            "text/html": [
              "<div>\n",
              "<style scoped>\n",
              "    .dataframe tbody tr th:only-of-type {\n",
              "        vertical-align: middle;\n",
              "    }\n",
              "\n",
              "    .dataframe tbody tr th {\n",
              "        vertical-align: top;\n",
              "    }\n",
              "\n",
              "    .dataframe thead th {\n",
              "        text-align: right;\n",
              "    }\n",
              "</style>\n",
              "<table border=\"1\" class=\"dataframe\">\n",
              "  <thead>\n",
              "    <tr style=\"text-align: right;\">\n",
              "      <th></th>\n",
              "      <th>0</th>\n",
              "      <th>1</th>\n",
              "      <th>2</th>\n",
              "      <th>3</th>\n",
              "      <th>4</th>\n",
              "      <th>5</th>\n",
              "      <th>6</th>\n",
              "      <th>7</th>\n",
              "      <th>8</th>\n",
              "      <th>9</th>\n",
              "      <th>...</th>\n",
              "      <th>3062</th>\n",
              "      <th>3063</th>\n",
              "      <th>3064</th>\n",
              "      <th>3065</th>\n",
              "      <th>3066</th>\n",
              "      <th>3067</th>\n",
              "      <th>3068</th>\n",
              "      <th>3069</th>\n",
              "      <th>3070</th>\n",
              "      <th>3071</th>\n",
              "    </tr>\n",
              "  </thead>\n",
              "  <tbody>\n",
              "    <tr>\n",
              "      <th>0</th>\n",
              "      <td>87.0</td>\n",
              "      <td>40.0</td>\n",
              "      <td>238.0</td>\n",
              "      <td>87.0</td>\n",
              "      <td>40.0</td>\n",
              "      <td>238.0</td>\n",
              "      <td>87.0</td>\n",
              "      <td>40.0</td>\n",
              "      <td>238.0</td>\n",
              "      <td>87.0</td>\n",
              "      <td>...</td>\n",
              "      <td>255.0</td>\n",
              "      <td>255.0</td>\n",
              "      <td>255.0</td>\n",
              "      <td>255.0</td>\n",
              "      <td>255.0</td>\n",
              "      <td>255.0</td>\n",
              "      <td>255.0</td>\n",
              "      <td>255.0</td>\n",
              "      <td>255.0</td>\n",
              "      <td>255.0</td>\n",
              "    </tr>\n",
              "    <tr>\n",
              "      <th>1</th>\n",
              "      <td>0.0</td>\n",
              "      <td>0.0</td>\n",
              "      <td>0.0</td>\n",
              "      <td>0.0</td>\n",
              "      <td>0.0</td>\n",
              "      <td>0.0</td>\n",
              "      <td>0.0</td>\n",
              "      <td>0.0</td>\n",
              "      <td>0.0</td>\n",
              "      <td>0.0</td>\n",
              "      <td>...</td>\n",
              "      <td>0.0</td>\n",
              "      <td>0.0</td>\n",
              "      <td>0.0</td>\n",
              "      <td>0.0</td>\n",
              "      <td>0.0</td>\n",
              "      <td>0.0</td>\n",
              "      <td>0.0</td>\n",
              "      <td>0.0</td>\n",
              "      <td>0.0</td>\n",
              "      <td>0.0</td>\n",
              "    </tr>\n",
              "    <tr>\n",
              "      <th>2</th>\n",
              "      <td>0.0</td>\n",
              "      <td>0.0</td>\n",
              "      <td>0.0</td>\n",
              "      <td>0.0</td>\n",
              "      <td>0.0</td>\n",
              "      <td>0.0</td>\n",
              "      <td>0.0</td>\n",
              "      <td>0.0</td>\n",
              "      <td>0.0</td>\n",
              "      <td>0.0</td>\n",
              "      <td>...</td>\n",
              "      <td>0.0</td>\n",
              "      <td>0.0</td>\n",
              "      <td>0.0</td>\n",
              "      <td>0.0</td>\n",
              "      <td>0.0</td>\n",
              "      <td>0.0</td>\n",
              "      <td>0.0</td>\n",
              "      <td>0.0</td>\n",
              "      <td>0.0</td>\n",
              "      <td>0.0</td>\n",
              "    </tr>\n",
              "    <tr>\n",
              "      <th>3</th>\n",
              "      <td>0.0</td>\n",
              "      <td>0.0</td>\n",
              "      <td>0.0</td>\n",
              "      <td>0.0</td>\n",
              "      <td>0.0</td>\n",
              "      <td>0.0</td>\n",
              "      <td>0.0</td>\n",
              "      <td>0.0</td>\n",
              "      <td>0.0</td>\n",
              "      <td>0.0</td>\n",
              "      <td>...</td>\n",
              "      <td>0.0</td>\n",
              "      <td>0.0</td>\n",
              "      <td>0.0</td>\n",
              "      <td>0.0</td>\n",
              "      <td>0.0</td>\n",
              "      <td>0.0</td>\n",
              "      <td>0.0</td>\n",
              "      <td>0.0</td>\n",
              "      <td>0.0</td>\n",
              "      <td>0.0</td>\n",
              "    </tr>\n",
              "    <tr>\n",
              "      <th>4</th>\n",
              "      <td>0.0</td>\n",
              "      <td>0.0</td>\n",
              "      <td>0.0</td>\n",
              "      <td>0.0</td>\n",
              "      <td>0.0</td>\n",
              "      <td>0.0</td>\n",
              "      <td>0.0</td>\n",
              "      <td>0.0</td>\n",
              "      <td>0.0</td>\n",
              "      <td>0.0</td>\n",
              "      <td>...</td>\n",
              "      <td>0.0</td>\n",
              "      <td>0.0</td>\n",
              "      <td>0.0</td>\n",
              "      <td>0.0</td>\n",
              "      <td>0.0</td>\n",
              "      <td>0.0</td>\n",
              "      <td>0.0</td>\n",
              "      <td>0.0</td>\n",
              "      <td>0.0</td>\n",
              "      <td>0.0</td>\n",
              "    </tr>\n",
              "  </tbody>\n",
              "</table>\n",
              "<p>5 rows × 3072 columns</p>\n",
              "</div>"
            ],
            "text/plain": [
              "      0     1      2     3     4      5     6     7      8     9  ...   3062  \\\n",
              "0  87.0  40.0  238.0  87.0  40.0  238.0  87.0  40.0  238.0  87.0  ...  255.0   \n",
              "1   0.0   0.0    0.0   0.0   0.0    0.0   0.0   0.0    0.0   0.0  ...    0.0   \n",
              "2   0.0   0.0    0.0   0.0   0.0    0.0   0.0   0.0    0.0   0.0  ...    0.0   \n",
              "3   0.0   0.0    0.0   0.0   0.0    0.0   0.0   0.0    0.0   0.0  ...    0.0   \n",
              "4   0.0   0.0    0.0   0.0   0.0    0.0   0.0   0.0    0.0   0.0  ...    0.0   \n",
              "\n",
              "    3063   3064   3065   3066   3067   3068   3069   3070   3071  \n",
              "0  255.0  255.0  255.0  255.0  255.0  255.0  255.0  255.0  255.0  \n",
              "1    0.0    0.0    0.0    0.0    0.0    0.0    0.0    0.0    0.0  \n",
              "2    0.0    0.0    0.0    0.0    0.0    0.0    0.0    0.0    0.0  \n",
              "3    0.0    0.0    0.0    0.0    0.0    0.0    0.0    0.0    0.0  \n",
              "4    0.0    0.0    0.0    0.0    0.0    0.0    0.0    0.0    0.0  \n",
              "\n",
              "[5 rows x 3072 columns]"
            ]
          },
          "execution_count": 15,
          "metadata": {},
          "output_type": "execute_result"
        }
      ],
      "source": [
        "# dataset = pd.read_csv('/content/gdrive/MyDrive/Datasets/MiningProcess_Flotation_Plant_Database.csv', delimiter=',')\n",
        "dataset = pd.read_csv('./data_1.csv', delimiter=',')\n",
        "\n",
        "dataset.head()"
      ]
    },
    {
      "cell_type": "code",
      "execution_count": 38,
      "metadata": {
        "id": "tP90lul6YUJp",
        "outputId": "2ffce2cb-f78d-4692-b6b0-924652b538b9"
      },
      "outputs": [
        {
          "name": "stdout",
          "output_type": "stream",
          "text": [
            "<class 'pandas.core.frame.DataFrame'>\n",
            "RangeIndex: 50000 entries, 0 to 49999\n",
            "Columns: 3072 entries, 0 to 3071\n",
            "dtypes: float64(3072)\n",
            "memory usage: 1.1 GB\n"
          ]
        }
      ],
      "source": [
        "dataset.info()\n"
      ]
    },
    {
      "cell_type": "code",
      "execution_count": 39,
      "metadata": {},
      "outputs": [
        {
          "data": {
            "text/html": [
              "<div>\n",
              "<style scoped>\n",
              "    .dataframe tbody tr th:only-of-type {\n",
              "        vertical-align: middle;\n",
              "    }\n",
              "\n",
              "    .dataframe tbody tr th {\n",
              "        vertical-align: top;\n",
              "    }\n",
              "\n",
              "    .dataframe thead th {\n",
              "        text-align: right;\n",
              "    }\n",
              "</style>\n",
              "<table border=\"1\" class=\"dataframe\">\n",
              "  <thead>\n",
              "    <tr style=\"text-align: right;\">\n",
              "      <th></th>\n",
              "      <th>0</th>\n",
              "      <th>1</th>\n",
              "      <th>2</th>\n",
              "      <th>3</th>\n",
              "      <th>4</th>\n",
              "      <th>5</th>\n",
              "      <th>6</th>\n",
              "      <th>7</th>\n",
              "      <th>8</th>\n",
              "      <th>9</th>\n",
              "      <th>...</th>\n",
              "      <th>3062</th>\n",
              "      <th>3063</th>\n",
              "      <th>3064</th>\n",
              "      <th>3065</th>\n",
              "      <th>3066</th>\n",
              "      <th>3067</th>\n",
              "      <th>3068</th>\n",
              "      <th>3069</th>\n",
              "      <th>3070</th>\n",
              "      <th>3071</th>\n",
              "    </tr>\n",
              "  </thead>\n",
              "  <tbody>\n",
              "    <tr>\n",
              "      <th>count</th>\n",
              "      <td>50000.000000</td>\n",
              "      <td>50000.000000</td>\n",
              "      <td>50000.000000</td>\n",
              "      <td>50000.000000</td>\n",
              "      <td>50000.000000</td>\n",
              "      <td>50000.000000</td>\n",
              "      <td>50000.000000</td>\n",
              "      <td>50000.000000</td>\n",
              "      <td>50000.000000</td>\n",
              "      <td>50000.000000</td>\n",
              "      <td>...</td>\n",
              "      <td>50000.000000</td>\n",
              "      <td>50000.000000</td>\n",
              "      <td>50000.000000</td>\n",
              "      <td>50000.000000</td>\n",
              "      <td>50000.000000</td>\n",
              "      <td>50000.000000</td>\n",
              "      <td>50000.000000</td>\n",
              "      <td>50000.000000</td>\n",
              "      <td>50000.000000</td>\n",
              "      <td>50000.000000</td>\n",
              "    </tr>\n",
              "    <tr>\n",
              "      <th>mean</th>\n",
              "      <td>0.001740</td>\n",
              "      <td>0.000800</td>\n",
              "      <td>0.004760</td>\n",
              "      <td>0.001740</td>\n",
              "      <td>0.000800</td>\n",
              "      <td>0.004760</td>\n",
              "      <td>0.001740</td>\n",
              "      <td>0.000800</td>\n",
              "      <td>0.004760</td>\n",
              "      <td>0.001740</td>\n",
              "      <td>...</td>\n",
              "      <td>0.005100</td>\n",
              "      <td>0.005100</td>\n",
              "      <td>0.005100</td>\n",
              "      <td>0.005100</td>\n",
              "      <td>0.005100</td>\n",
              "      <td>0.005100</td>\n",
              "      <td>0.005100</td>\n",
              "      <td>0.005100</td>\n",
              "      <td>0.005100</td>\n",
              "      <td>0.005100</td>\n",
              "    </tr>\n",
              "    <tr>\n",
              "      <th>std</th>\n",
              "      <td>0.389076</td>\n",
              "      <td>0.178885</td>\n",
              "      <td>1.064368</td>\n",
              "      <td>0.389076</td>\n",
              "      <td>0.178885</td>\n",
              "      <td>1.064368</td>\n",
              "      <td>0.389076</td>\n",
              "      <td>0.178885</td>\n",
              "      <td>1.064368</td>\n",
              "      <td>0.389076</td>\n",
              "      <td>...</td>\n",
              "      <td>1.140395</td>\n",
              "      <td>1.140395</td>\n",
              "      <td>1.140395</td>\n",
              "      <td>1.140395</td>\n",
              "      <td>1.140395</td>\n",
              "      <td>1.140395</td>\n",
              "      <td>1.140395</td>\n",
              "      <td>1.140395</td>\n",
              "      <td>1.140395</td>\n",
              "      <td>1.140395</td>\n",
              "    </tr>\n",
              "    <tr>\n",
              "      <th>min</th>\n",
              "      <td>0.000000</td>\n",
              "      <td>0.000000</td>\n",
              "      <td>0.000000</td>\n",
              "      <td>0.000000</td>\n",
              "      <td>0.000000</td>\n",
              "      <td>0.000000</td>\n",
              "      <td>0.000000</td>\n",
              "      <td>0.000000</td>\n",
              "      <td>0.000000</td>\n",
              "      <td>0.000000</td>\n",
              "      <td>...</td>\n",
              "      <td>0.000000</td>\n",
              "      <td>0.000000</td>\n",
              "      <td>0.000000</td>\n",
              "      <td>0.000000</td>\n",
              "      <td>0.000000</td>\n",
              "      <td>0.000000</td>\n",
              "      <td>0.000000</td>\n",
              "      <td>0.000000</td>\n",
              "      <td>0.000000</td>\n",
              "      <td>0.000000</td>\n",
              "    </tr>\n",
              "    <tr>\n",
              "      <th>25%</th>\n",
              "      <td>0.000000</td>\n",
              "      <td>0.000000</td>\n",
              "      <td>0.000000</td>\n",
              "      <td>0.000000</td>\n",
              "      <td>0.000000</td>\n",
              "      <td>0.000000</td>\n",
              "      <td>0.000000</td>\n",
              "      <td>0.000000</td>\n",
              "      <td>0.000000</td>\n",
              "      <td>0.000000</td>\n",
              "      <td>...</td>\n",
              "      <td>0.000000</td>\n",
              "      <td>0.000000</td>\n",
              "      <td>0.000000</td>\n",
              "      <td>0.000000</td>\n",
              "      <td>0.000000</td>\n",
              "      <td>0.000000</td>\n",
              "      <td>0.000000</td>\n",
              "      <td>0.000000</td>\n",
              "      <td>0.000000</td>\n",
              "      <td>0.000000</td>\n",
              "    </tr>\n",
              "    <tr>\n",
              "      <th>50%</th>\n",
              "      <td>0.000000</td>\n",
              "      <td>0.000000</td>\n",
              "      <td>0.000000</td>\n",
              "      <td>0.000000</td>\n",
              "      <td>0.000000</td>\n",
              "      <td>0.000000</td>\n",
              "      <td>0.000000</td>\n",
              "      <td>0.000000</td>\n",
              "      <td>0.000000</td>\n",
              "      <td>0.000000</td>\n",
              "      <td>...</td>\n",
              "      <td>0.000000</td>\n",
              "      <td>0.000000</td>\n",
              "      <td>0.000000</td>\n",
              "      <td>0.000000</td>\n",
              "      <td>0.000000</td>\n",
              "      <td>0.000000</td>\n",
              "      <td>0.000000</td>\n",
              "      <td>0.000000</td>\n",
              "      <td>0.000000</td>\n",
              "      <td>0.000000</td>\n",
              "    </tr>\n",
              "    <tr>\n",
              "      <th>75%</th>\n",
              "      <td>0.000000</td>\n",
              "      <td>0.000000</td>\n",
              "      <td>0.000000</td>\n",
              "      <td>0.000000</td>\n",
              "      <td>0.000000</td>\n",
              "      <td>0.000000</td>\n",
              "      <td>0.000000</td>\n",
              "      <td>0.000000</td>\n",
              "      <td>0.000000</td>\n",
              "      <td>0.000000</td>\n",
              "      <td>...</td>\n",
              "      <td>0.000000</td>\n",
              "      <td>0.000000</td>\n",
              "      <td>0.000000</td>\n",
              "      <td>0.000000</td>\n",
              "      <td>0.000000</td>\n",
              "      <td>0.000000</td>\n",
              "      <td>0.000000</td>\n",
              "      <td>0.000000</td>\n",
              "      <td>0.000000</td>\n",
              "      <td>0.000000</td>\n",
              "    </tr>\n",
              "    <tr>\n",
              "      <th>max</th>\n",
              "      <td>87.000000</td>\n",
              "      <td>40.000000</td>\n",
              "      <td>238.000000</td>\n",
              "      <td>87.000000</td>\n",
              "      <td>40.000000</td>\n",
              "      <td>238.000000</td>\n",
              "      <td>87.000000</td>\n",
              "      <td>40.000000</td>\n",
              "      <td>238.000000</td>\n",
              "      <td>87.000000</td>\n",
              "      <td>...</td>\n",
              "      <td>255.000000</td>\n",
              "      <td>255.000000</td>\n",
              "      <td>255.000000</td>\n",
              "      <td>255.000000</td>\n",
              "      <td>255.000000</td>\n",
              "      <td>255.000000</td>\n",
              "      <td>255.000000</td>\n",
              "      <td>255.000000</td>\n",
              "      <td>255.000000</td>\n",
              "      <td>255.000000</td>\n",
              "    </tr>\n",
              "  </tbody>\n",
              "</table>\n",
              "<p>8 rows × 3072 columns</p>\n",
              "</div>"
            ],
            "text/plain": [
              "                  0             1             2             3             4  \\\n",
              "count  50000.000000  50000.000000  50000.000000  50000.000000  50000.000000   \n",
              "mean       0.001740      0.000800      0.004760      0.001740      0.000800   \n",
              "std        0.389076      0.178885      1.064368      0.389076      0.178885   \n",
              "min        0.000000      0.000000      0.000000      0.000000      0.000000   \n",
              "25%        0.000000      0.000000      0.000000      0.000000      0.000000   \n",
              "50%        0.000000      0.000000      0.000000      0.000000      0.000000   \n",
              "75%        0.000000      0.000000      0.000000      0.000000      0.000000   \n",
              "max       87.000000     40.000000    238.000000     87.000000     40.000000   \n",
              "\n",
              "                  5             6             7             8             9  \\\n",
              "count  50000.000000  50000.000000  50000.000000  50000.000000  50000.000000   \n",
              "mean       0.004760      0.001740      0.000800      0.004760      0.001740   \n",
              "std        1.064368      0.389076      0.178885      1.064368      0.389076   \n",
              "min        0.000000      0.000000      0.000000      0.000000      0.000000   \n",
              "25%        0.000000      0.000000      0.000000      0.000000      0.000000   \n",
              "50%        0.000000      0.000000      0.000000      0.000000      0.000000   \n",
              "75%        0.000000      0.000000      0.000000      0.000000      0.000000   \n",
              "max      238.000000     87.000000     40.000000    238.000000     87.000000   \n",
              "\n",
              "       ...          3062          3063          3064          3065  \\\n",
              "count  ...  50000.000000  50000.000000  50000.000000  50000.000000   \n",
              "mean   ...      0.005100      0.005100      0.005100      0.005100   \n",
              "std    ...      1.140395      1.140395      1.140395      1.140395   \n",
              "min    ...      0.000000      0.000000      0.000000      0.000000   \n",
              "25%    ...      0.000000      0.000000      0.000000      0.000000   \n",
              "50%    ...      0.000000      0.000000      0.000000      0.000000   \n",
              "75%    ...      0.000000      0.000000      0.000000      0.000000   \n",
              "max    ...    255.000000    255.000000    255.000000    255.000000   \n",
              "\n",
              "               3066          3067          3068          3069          3070  \\\n",
              "count  50000.000000  50000.000000  50000.000000  50000.000000  50000.000000   \n",
              "mean       0.005100      0.005100      0.005100      0.005100      0.005100   \n",
              "std        1.140395      1.140395      1.140395      1.140395      1.140395   \n",
              "min        0.000000      0.000000      0.000000      0.000000      0.000000   \n",
              "25%        0.000000      0.000000      0.000000      0.000000      0.000000   \n",
              "50%        0.000000      0.000000      0.000000      0.000000      0.000000   \n",
              "75%        0.000000      0.000000      0.000000      0.000000      0.000000   \n",
              "max      255.000000    255.000000    255.000000    255.000000    255.000000   \n",
              "\n",
              "               3071  \n",
              "count  50000.000000  \n",
              "mean       0.005100  \n",
              "std        1.140395  \n",
              "min        0.000000  \n",
              "25%        0.000000  \n",
              "50%        0.000000  \n",
              "75%        0.000000  \n",
              "max      255.000000  \n",
              "\n",
              "[8 rows x 3072 columns]"
            ]
          },
          "execution_count": 39,
          "metadata": {},
          "output_type": "execute_result"
        }
      ],
      "source": [
        "dataset.describe()"
      ]
    },
    {
      "cell_type": "code",
      "execution_count": 37,
      "metadata": {},
      "outputs": [
        {
          "data": {
            "image/png": "[encoded data removed]",
            "text/plain": [
              "<Figure size 1000x2000 with 10 Axes>"
            ]
          },
          "metadata": {},
          "output_type": "display_data"
        }
      ],
      "source": [
        "graficar_imagenes(dataset, num_images=10)"
      ]
    },
    {
      "cell_type": "markdown",
      "metadata": {
        "id": "R944hZA4YUJp"
      },
      "source": [
        "Verficamos que no exista valores nulos:"
      ]
    },
    {
      "cell_type": "code",
      "execution_count": 40,
      "metadata": {
        "id": "4VihVbC2YUJp",
        "outputId": "9b4103b9-cf57-49e5-d87c-c1e20b9bf049"
      },
      "outputs": [
        {
          "data": {
            "text/plain": [
              "0       False\n",
              "1       False\n",
              "2       False\n",
              "3       False\n",
              "4       False\n",
              "        ...  \n",
              "3067    False\n",
              "3068    False\n",
              "3069    False\n",
              "3070    False\n",
              "3071    False\n",
              "Length: 3072, dtype: bool"
            ]
          },
          "execution_count": 40,
          "metadata": {},
          "output_type": "execute_result"
        }
      ],
      "source": [
        "dataset.isna().any()"
      ]
    },
    {
      "cell_type": "markdown",
      "metadata": {
        "id": "rD0KUrFJYUJp"
      },
      "source": [
        "Se observa que todos los datos son de enteros, por lo tanto no se realiza ningun tipo de procesamiento de datos."
      ]
    },
    {
      "cell_type": "markdown",
      "metadata": {
        "id": "omE7E2TxZ_hf"
      },
      "source": [
        "#### Normalizacion de las caracteristicas"
      ]
    },
    {
      "cell_type": "code",
      "execution_count": 102,
      "metadata": {
        "id": "NqS0gPuNZ_hg",
        "outputId": "1e1694d1-fc12-4ded-d6bd-6529973b3d32"
      },
      "outputs": [
        {
          "name": "stdout",
          "output_type": "stream",
          "text": [
            "la cantidad total de datos:  50000\n"
          ]
        }
      ],
      "source": [
        "print(\"la cantidad total de datos: \", dataset.shape[0])"
      ]
    },
    {
      "cell_type": "markdown",
      "metadata": {
        "id": "eys-5I_wYUJq"
      },
      "source": [
        "Como podemos observar en siguiente cuadro, se ve que el valor minimo y maximo en todos es demasiado diferente, para eso normalizaremos los datos, esto para que esten a una misma escala y el modelo pueda converger mejor:"
      ]
    },
    {
      "cell_type": "code",
      "execution_count": 103,
      "metadata": {
        "id": "FPOyaTn_YUJq",
        "outputId": "1b8dd556-331e-4e9b-b9d5-5a1d61b79d0f"
      },
      "outputs": [
        {
          "data": {
            "text/html": [
              "<div>\n",
              "<style scoped>\n",
              "    .dataframe tbody tr th:only-of-type {\n",
              "        vertical-align: middle;\n",
              "    }\n",
              "\n",
              "    .dataframe tbody tr th {\n",
              "        vertical-align: top;\n",
              "    }\n",
              "\n",
              "    .dataframe thead th {\n",
              "        text-align: right;\n",
              "    }\n",
              "</style>\n",
              "<table border=\"1\" class=\"dataframe\">\n",
              "  <thead>\n",
              "    <tr style=\"text-align: right;\">\n",
              "      <th></th>\n",
              "      <th>0</th>\n",
              "      <th>1</th>\n",
              "      <th>2</th>\n",
              "      <th>3</th>\n",
              "      <th>4</th>\n",
              "      <th>5</th>\n",
              "      <th>6</th>\n",
              "      <th>7</th>\n",
              "      <th>8</th>\n",
              "      <th>9</th>\n",
              "      <th>...</th>\n",
              "      <th>3063</th>\n",
              "      <th>3064</th>\n",
              "      <th>3065</th>\n",
              "      <th>3066</th>\n",
              "      <th>3067</th>\n",
              "      <th>3068</th>\n",
              "      <th>3069</th>\n",
              "      <th>3070</th>\n",
              "      <th>3071</th>\n",
              "      <th>Cluster</th>\n",
              "    </tr>\n",
              "  </thead>\n",
              "  <tbody>\n",
              "    <tr>\n",
              "      <th>count</th>\n",
              "      <td>50000.000000</td>\n",
              "      <td>50000.000000</td>\n",
              "      <td>50000.000000</td>\n",
              "      <td>50000.000000</td>\n",
              "      <td>50000.000000</td>\n",
              "      <td>50000.000000</td>\n",
              "      <td>50000.000000</td>\n",
              "      <td>50000.000000</td>\n",
              "      <td>50000.000000</td>\n",
              "      <td>50000.000000</td>\n",
              "      <td>...</td>\n",
              "      <td>50000.000000</td>\n",
              "      <td>50000.000000</td>\n",
              "      <td>50000.000000</td>\n",
              "      <td>50000.000000</td>\n",
              "      <td>50000.000000</td>\n",
              "      <td>50000.000000</td>\n",
              "      <td>50000.000000</td>\n",
              "      <td>50000.000000</td>\n",
              "      <td>50000.000000</td>\n",
              "      <td>50000.000000</td>\n",
              "    </tr>\n",
              "    <tr>\n",
              "      <th>mean</th>\n",
              "      <td>0.001740</td>\n",
              "      <td>0.000800</td>\n",
              "      <td>0.004760</td>\n",
              "      <td>0.001740</td>\n",
              "      <td>0.000800</td>\n",
              "      <td>0.004760</td>\n",
              "      <td>0.001740</td>\n",
              "      <td>0.000800</td>\n",
              "      <td>0.004760</td>\n",
              "      <td>0.001740</td>\n",
              "      <td>...</td>\n",
              "      <td>0.005100</td>\n",
              "      <td>0.005100</td>\n",
              "      <td>0.005100</td>\n",
              "      <td>0.005100</td>\n",
              "      <td>0.005100</td>\n",
              "      <td>0.005100</td>\n",
              "      <td>0.005100</td>\n",
              "      <td>0.005100</td>\n",
              "      <td>0.005100</td>\n",
              "      <td>0.000020</td>\n",
              "    </tr>\n",
              "    <tr>\n",
              "      <th>std</th>\n",
              "      <td>0.389076</td>\n",
              "      <td>0.178885</td>\n",
              "      <td>1.064368</td>\n",
              "      <td>0.389076</td>\n",
              "      <td>0.178885</td>\n",
              "      <td>1.064368</td>\n",
              "      <td>0.389076</td>\n",
              "      <td>0.178885</td>\n",
              "      <td>1.064368</td>\n",
              "      <td>0.389076</td>\n",
              "      <td>...</td>\n",
              "      <td>1.140395</td>\n",
              "      <td>1.140395</td>\n",
              "      <td>1.140395</td>\n",
              "      <td>1.140395</td>\n",
              "      <td>1.140395</td>\n",
              "      <td>1.140395</td>\n",
              "      <td>1.140395</td>\n",
              "      <td>1.140395</td>\n",
              "      <td>1.140395</td>\n",
              "      <td>0.004472</td>\n",
              "    </tr>\n",
              "    <tr>\n",
              "      <th>min</th>\n",
              "      <td>0.000000</td>\n",
              "      <td>0.000000</td>\n",
              "      <td>0.000000</td>\n",
              "      <td>0.000000</td>\n",
              "      <td>0.000000</td>\n",
              "      <td>0.000000</td>\n",
              "      <td>0.000000</td>\n",
              "      <td>0.000000</td>\n",
              "      <td>0.000000</td>\n",
              "      <td>0.000000</td>\n",
              "      <td>...</td>\n",
              "      <td>0.000000</td>\n",
              "      <td>0.000000</td>\n",
              "      <td>0.000000</td>\n",
              "      <td>0.000000</td>\n",
              "      <td>0.000000</td>\n",
              "      <td>0.000000</td>\n",
              "      <td>0.000000</td>\n",
              "      <td>0.000000</td>\n",
              "      <td>0.000000</td>\n",
              "      <td>0.000000</td>\n",
              "    </tr>\n",
              "    <tr>\n",
              "      <th>25%</th>\n",
              "      <td>0.000000</td>\n",
              "      <td>0.000000</td>\n",
              "      <td>0.000000</td>\n",
              "      <td>0.000000</td>\n",
              "      <td>0.000000</td>\n",
              "      <td>0.000000</td>\n",
              "      <td>0.000000</td>\n",
              "      <td>0.000000</td>\n",
              "      <td>0.000000</td>\n",
              "      <td>0.000000</td>\n",
              "      <td>...</td>\n",
              "      <td>0.000000</td>\n",
              "      <td>0.000000</td>\n",
              "      <td>0.000000</td>\n",
              "      <td>0.000000</td>\n",
              "      <td>0.000000</td>\n",
              "      <td>0.000000</td>\n",
              "      <td>0.000000</td>\n",
              "      <td>0.000000</td>\n",
              "      <td>0.000000</td>\n",
              "      <td>0.000000</td>\n",
              "    </tr>\n",
              "    <tr>\n",
              "      <th>50%</th>\n",
              "      <td>0.000000</td>\n",
              "      <td>0.000000</td>\n",
              "      <td>0.000000</td>\n",
              "      <td>0.000000</td>\n",
              "      <td>0.000000</td>\n",
              "      <td>0.000000</td>\n",
              "      <td>0.000000</td>\n",
              "      <td>0.000000</td>\n",
              "      <td>0.000000</td>\n",
              "      <td>0.000000</td>\n",
              "      <td>...</td>\n",
              "      <td>0.000000</td>\n",
              "      <td>0.000000</td>\n",
              "      <td>0.000000</td>\n",
              "      <td>0.000000</td>\n",
              "      <td>0.000000</td>\n",
              "      <td>0.000000</td>\n",
              "      <td>0.000000</td>\n",
              "      <td>0.000000</td>\n",
              "      <td>0.000000</td>\n",
              "      <td>0.000000</td>\n",
              "    </tr>\n",
              "    <tr>\n",
              "      <th>75%</th>\n",
              "      <td>0.000000</td>\n",
              "      <td>0.000000</td>\n",
              "      <td>0.000000</td>\n",
              "      <td>0.000000</td>\n",
              "      <td>0.000000</td>\n",
              "      <td>0.000000</td>\n",
              "      <td>0.000000</td>\n",
              "      <td>0.000000</td>\n",
              "      <td>0.000000</td>\n",
              "      <td>0.000000</td>\n",
              "      <td>...</td>\n",
              "      <td>0.000000</td>\n",
              "      <td>0.000000</td>\n",
              "      <td>0.000000</td>\n",
              "      <td>0.000000</td>\n",
              "      <td>0.000000</td>\n",
              "      <td>0.000000</td>\n",
              "      <td>0.000000</td>\n",
              "      <td>0.000000</td>\n",
              "      <td>0.000000</td>\n",
              "      <td>0.000000</td>\n",
              "    </tr>\n",
              "    <tr>\n",
              "      <th>max</th>\n",
              "      <td>87.000000</td>\n",
              "      <td>40.000000</td>\n",
              "      <td>238.000000</td>\n",
              "      <td>87.000000</td>\n",
              "      <td>40.000000</td>\n",
              "      <td>238.000000</td>\n",
              "      <td>87.000000</td>\n",
              "      <td>40.000000</td>\n",
              "      <td>238.000000</td>\n",
              "      <td>87.000000</td>\n",
              "      <td>...</td>\n",
              "      <td>255.000000</td>\n",
              "      <td>255.000000</td>\n",
              "      <td>255.000000</td>\n",
              "      <td>255.000000</td>\n",
              "      <td>255.000000</td>\n",
              "      <td>255.000000</td>\n",
              "      <td>255.000000</td>\n",
              "      <td>255.000000</td>\n",
              "      <td>255.000000</td>\n",
              "      <td>1.000000</td>\n",
              "    </tr>\n",
              "  </tbody>\n",
              "</table>\n",
              "<p>8 rows × 3073 columns</p>\n",
              "</div>"
            ],
            "text/plain": [
              "                  0             1             2             3             4  \\\n",
              "count  50000.000000  50000.000000  50000.000000  50000.000000  50000.000000   \n",
              "mean       0.001740      0.000800      0.004760      0.001740      0.000800   \n",
              "std        0.389076      0.178885      1.064368      0.389076      0.178885   \n",
              "min        0.000000      0.000000      0.000000      0.000000      0.000000   \n",
              "25%        0.000000      0.000000      0.000000      0.000000      0.000000   \n",
              "50%        0.000000      0.000000      0.000000      0.000000      0.000000   \n",
              "75%        0.000000      0.000000      0.000000      0.000000      0.000000   \n",
              "max       87.000000     40.000000    238.000000     87.000000     40.000000   \n",
              "\n",
              "                  5             6             7             8             9  \\\n",
              "count  50000.000000  50000.000000  50000.000000  50000.000000  50000.000000   \n",
              "mean       0.004760      0.001740      0.000800      0.004760      0.001740   \n",
              "std        1.064368      0.389076      0.178885      1.064368      0.389076   \n",
              "min        0.000000      0.000000      0.000000      0.000000      0.000000   \n",
              "25%        0.000000      0.000000      0.000000      0.000000      0.000000   \n",
              "50%        0.000000      0.000000      0.000000      0.000000      0.000000   \n",
              "75%        0.000000      0.000000      0.000000      0.000000      0.000000   \n",
              "max      238.000000     87.000000     40.000000    238.000000     87.000000   \n",
              "\n",
              "       ...          3063          3064          3065          3066  \\\n",
              "count  ...  50000.000000  50000.000000  50000.000000  50000.000000   \n",
              "mean   ...      0.005100      0.005100      0.005100      0.005100   \n",
              "std    ...      1.140395      1.140395      1.140395      1.140395   \n",
              "min    ...      0.000000      0.000000      0.000000      0.000000   \n",
              "25%    ...      0.000000      0.000000      0.000000      0.000000   \n",
              "50%    ...      0.000000      0.000000      0.000000      0.000000   \n",
              "75%    ...      0.000000      0.000000      0.000000      0.000000   \n",
              "max    ...    255.000000    255.000000    255.000000    255.000000   \n",
              "\n",
              "               3067          3068          3069          3070          3071  \\\n",
              "count  50000.000000  50000.000000  50000.000000  50000.000000  50000.000000   \n",
              "mean       0.005100      0.005100      0.005100      0.005100      0.005100   \n",
              "std        1.140395      1.140395      1.140395      1.140395      1.140395   \n",
              "min        0.000000      0.000000      0.000000      0.000000      0.000000   \n",
              "25%        0.000000      0.000000      0.000000      0.000000      0.000000   \n",
              "50%        0.000000      0.000000      0.000000      0.000000      0.000000   \n",
              "75%        0.000000      0.000000      0.000000      0.000000      0.000000   \n",
              "max      255.000000    255.000000    255.000000    255.000000    255.000000   \n",
              "\n",
              "            Cluster  \n",
              "count  50000.000000  \n",
              "mean       0.000020  \n",
              "std        0.004472  \n",
              "min        0.000000  \n",
              "25%        0.000000  \n",
              "50%        0.000000  \n",
              "75%        0.000000  \n",
              "max        1.000000  \n",
              "\n",
              "[8 rows x 3073 columns]"
            ]
          },
          "execution_count": 103,
          "metadata": {},
          "output_type": "execute_result"
        }
      ],
      "source": [
        "dataset_norm, mu, sigma = featureNormalize(dataset)\n",
        "dataset_norm.describe()\n",
        "dataset.describe()"
      ]
    },
    {
      "cell_type": "markdown",
      "metadata": {},
      "source": [
        "Verificamos que no haya duplicados:"
      ]
    },
    {
      "cell_type": "code",
      "execution_count": 46,
      "metadata": {},
      "outputs": [
        {
          "name": "stdout",
          "output_type": "stream",
          "text": [
            "Número de duplicados: 49998\n"
          ]
        }
      ],
      "source": [
        "# Verificar duplicados\n",
        "duplicados = dataset_norm.duplicated().sum()\n",
        "print(f'Número de duplicados: {duplicados}')\n",
        "\n",
        "# Eliminar duplicados\n",
        "dataset_norm_dedup = dataset_norm.drop_duplicates()"
      ]
    },
    {
      "cell_type": "code",
      "execution_count": 51,
      "metadata": {},
      "outputs": [
        {
          "data": {
            "text/html": [
              "<div>\n",
              "<style scoped>\n",
              "    .dataframe tbody tr th:only-of-type {\n",
              "        vertical-align: middle;\n",
              "    }\n",
              "\n",
              "    .dataframe tbody tr th {\n",
              "        vertical-align: top;\n",
              "    }\n",
              "\n",
              "    .dataframe thead th {\n",
              "        text-align: right;\n",
              "    }\n",
              "</style>\n",
              "<table border=\"1\" class=\"dataframe\">\n",
              "  <thead>\n",
              "    <tr style=\"text-align: right;\">\n",
              "      <th></th>\n",
              "      <th>0</th>\n",
              "      <th>1</th>\n",
              "      <th>2</th>\n",
              "      <th>3</th>\n",
              "      <th>4</th>\n",
              "      <th>5</th>\n",
              "      <th>6</th>\n",
              "      <th>7</th>\n",
              "      <th>8</th>\n",
              "      <th>9</th>\n",
              "      <th>...</th>\n",
              "      <th>3062</th>\n",
              "      <th>3063</th>\n",
              "      <th>3064</th>\n",
              "      <th>3065</th>\n",
              "      <th>3066</th>\n",
              "      <th>3067</th>\n",
              "      <th>3068</th>\n",
              "      <th>3069</th>\n",
              "      <th>3070</th>\n",
              "      <th>3071</th>\n",
              "    </tr>\n",
              "  </thead>\n",
              "  <tbody>\n",
              "    <tr>\n",
              "      <th>0</th>\n",
              "      <td>223.604562</td>\n",
              "      <td>223.604562</td>\n",
              "      <td>223.604562</td>\n",
              "      <td>223.604562</td>\n",
              "      <td>223.604562</td>\n",
              "      <td>223.604562</td>\n",
              "      <td>223.604562</td>\n",
              "      <td>223.604562</td>\n",
              "      <td>223.604562</td>\n",
              "      <td>223.604562</td>\n",
              "      <td>...</td>\n",
              "      <td>223.604562</td>\n",
              "      <td>223.604562</td>\n",
              "      <td>223.604562</td>\n",
              "      <td>223.604562</td>\n",
              "      <td>223.604562</td>\n",
              "      <td>223.604562</td>\n",
              "      <td>223.604562</td>\n",
              "      <td>223.604562</td>\n",
              "      <td>223.604562</td>\n",
              "      <td>223.604562</td>\n",
              "    </tr>\n",
              "    <tr>\n",
              "      <th>1</th>\n",
              "      <td>-0.004472</td>\n",
              "      <td>-0.004472</td>\n",
              "      <td>-0.004472</td>\n",
              "      <td>-0.004472</td>\n",
              "      <td>-0.004472</td>\n",
              "      <td>-0.004472</td>\n",
              "      <td>-0.004472</td>\n",
              "      <td>-0.004472</td>\n",
              "      <td>-0.004472</td>\n",
              "      <td>-0.004472</td>\n",
              "      <td>...</td>\n",
              "      <td>-0.004472</td>\n",
              "      <td>-0.004472</td>\n",
              "      <td>-0.004472</td>\n",
              "      <td>-0.004472</td>\n",
              "      <td>-0.004472</td>\n",
              "      <td>-0.004472</td>\n",
              "      <td>-0.004472</td>\n",
              "      <td>-0.004472</td>\n",
              "      <td>-0.004472</td>\n",
              "      <td>-0.004472</td>\n",
              "    </tr>\n",
              "  </tbody>\n",
              "</table>\n",
              "<p>2 rows × 3072 columns</p>\n",
              "</div>"
            ],
            "text/plain": [
              "            0           1           2           3           4           5  \\\n",
              "0  223.604562  223.604562  223.604562  223.604562  223.604562  223.604562   \n",
              "1   -0.004472   -0.004472   -0.004472   -0.004472   -0.004472   -0.004472   \n",
              "\n",
              "            6           7           8           9  ...        3062  \\\n",
              "0  223.604562  223.604562  223.604562  223.604562  ...  223.604562   \n",
              "1   -0.004472   -0.004472   -0.004472   -0.004472  ...   -0.004472   \n",
              "\n",
              "         3063        3064        3065        3066        3067        3068  \\\n",
              "0  223.604562  223.604562  223.604562  223.604562  223.604562  223.604562   \n",
              "1   -0.004472   -0.004472   -0.004472   -0.004472   -0.004472   -0.004472   \n",
              "\n",
              "         3069        3070        3071  \n",
              "0  223.604562  223.604562  223.604562  \n",
              "1   -0.004472   -0.004472   -0.004472  \n",
              "\n",
              "[2 rows x 3072 columns]"
            ]
          },
          "execution_count": 51,
          "metadata": {},
          "output_type": "execute_result"
        }
      ],
      "source": [
        "dataset_norm_dedup"
      ]
    },
    {
      "cell_type": "markdown",
      "metadata": {
        "id": "MA-vmdUrYUJq"
      },
      "source": [
        "#### Calculo del numero de clusters"
      ]
    },
    {
      "cell_type": "markdown",
      "metadata": {
        "id": "Hko1cHXQ7Aqx"
      },
      "source": [
        "Imagina que el dataset no estuviese etiquetado, es decir, que tuviésemos solo los dígitos sin la clase (sólo $X$ y no $y$) y tampoco supiésemos cuantas clases diferentes tenemos. Lo primero que podríamos hacer es entrenar un modelo de *K-Means* con, por ejemplos, 50 grupos."
      ]
    },
    {
      "cell_type": "markdown",
      "metadata": {
        "id": "v9RxC9d7Z_hg"
      },
      "source": [
        "en ``kmeans.fit_transform(X_train)`` transformamos X_train en una matriz de distancias a los centroides de los clústeres. X_digits_dist contendrá una matriz donde cada fila representará una instancia de X_train y cada columna representará la distancia de esa instancia a cada uno de los 50 centroides de los clústeres.\n",
        "\n",
        "* la fila es la instancia de X_train.\n",
        "* la columna es la distancia de esa instancia a cada centroide de los 50 clusteres."
      ]
    },
    {
      "cell_type": "markdown",
      "metadata": {
        "id": "QDRC-Ww6Z_hg"
      },
      "source": [
        "#### Aplicacion del metodo de la silueta:"
      ]
    },
    {
      "cell_type": "code",
      "execution_count": 101,
      "metadata": {
        "id": "d6Mp4k4LZ_hg",
        "outputId": "1d738f2c-e775-4043-abdd-a84c574a4a09"
      },
      "outputs": [
        {
          "name": "stderr",
          "output_type": "stream",
          "text": [
            "f:\\programas\\Python\\Lib\\site-packages\\sklearn\\base.py:1474: ConvergenceWarning: Number of distinct clusters (2) found smaller than n_clusters (3). Possibly due to duplicate points in X.\n",
            "  return fit_method(estimator, *args, **kwargs)\n",
            "f:\\programas\\Python\\Lib\\site-packages\\sklearn\\base.py:1474: ConvergenceWarning: Number of distinct clusters (2) found smaller than n_clusters (4). Possibly due to duplicate points in X.\n",
            "  return fit_method(estimator, *args, **kwargs)\n",
            "f:\\programas\\Python\\Lib\\site-packages\\sklearn\\base.py:1474: ConvergenceWarning: Number of distinct clusters (2) found smaller than n_clusters (5). Possibly due to duplicate points in X.\n",
            "  return fit_method(estimator, *args, **kwargs)\n",
            "f:\\programas\\Python\\Lib\\site-packages\\sklearn\\base.py:1474: ConvergenceWarning: Number of distinct clusters (2) found smaller than n_clusters (6). Possibly due to duplicate points in X.\n",
            "  return fit_method(estimator, *args, **kwargs)\n",
            "f:\\programas\\Python\\Lib\\site-packages\\sklearn\\base.py:1474: ConvergenceWarning: Number of distinct clusters (2) found smaller than n_clusters (7). Possibly due to duplicate points in X.\n",
            "  return fit_method(estimator, *args, **kwargs)\n",
            "f:\\programas\\Python\\Lib\\site-packages\\sklearn\\base.py:1474: ConvergenceWarning: Number of distinct clusters (2) found smaller than n_clusters (8). Possibly due to duplicate points in X.\n",
            "  return fit_method(estimator, *args, **kwargs)\n",
            "f:\\programas\\Python\\Lib\\site-packages\\sklearn\\base.py:1474: ConvergenceWarning: Number of distinct clusters (2) found smaller than n_clusters (9). Possibly due to duplicate points in X.\n",
            "  return fit_method(estimator, *args, **kwargs)\n"
          ]
        },
        {
          "data": {
            "image/png": "[encoded data removed]",
            "text/plain": [
              "<Figure size 1000x600 with 1 Axes>"
            ]
          },
          "metadata": {},
          "output_type": "display_data"
        }
      ],
      "source": [
        "from sklearn.cluster import KMeans\n",
        "from sklearn.metrics import silhouette_score\n",
        "import matplotlib.pyplot as plt\n",
        "\n",
        "silhouette_scores = []\n",
        "for k in range(2, 10):\n",
        "    kmeans = KMeans(n_clusters=k, n_init=10, random_state=42)\n",
        "    labels = kmeans.fit_predict(dataset_norm[:2000])\n",
        "    score = silhouette_score(dataset_norm[:2000], labels)\n",
        "    silhouette_scores.append(score)\n",
        "\n",
        "# Graficar el coeficiente de silueta\n",
        "plt.figure(figsize=(10, 6))\n",
        "plt.plot(range(2, 10), silhouette_scores, marker='o')\n",
        "plt.xlabel('Número de Clusters')\n",
        "plt.ylabel('Coeficiente de Silueta')\n",
        "plt.title('Coeficiente de Silueta para diferentes números de Clusters')\n",
        "plt.show()"
      ]
    },
    {
      "cell_type": "code",
      "execution_count": 88,
      "metadata": {},
      "outputs": [
        {
          "data": {
            "text/plain": [
              "[0.9995, 0.9995, 0.9995, 0.9995, 0.9995, 0.9995, 0.9995, 0.9995]"
            ]
          },
          "execution_count": 88,
          "metadata": {},
          "output_type": "execute_result"
        }
      ],
      "source": [
        "silhouette_scores"
      ]
    },
    {
      "cell_type": "code",
      "execution_count": 89,
      "metadata": {
        "id": "GxNpuyM1YUJr",
        "outputId": "2d76c363-8abf-4e46-cc0f-56869a00e1aa"
      },
      "outputs": [
        {
          "name": "stdout",
          "output_type": "stream",
          "text": [
            "El mejor valor de K es: 2 con coeficiente de silueta de: 0.9995\n"
          ]
        }
      ],
      "source": [
        "max_score_idx = np.argmax(silhouette_scores) + 2\n",
        "max_score = max(silhouette_scores)\n",
        "print(\"El mejor valor de K es:\", max_score_idx, \"con coeficiente de silueta de:\", max_score)"
      ]
    },
    {
      "cell_type": "markdown",
      "metadata": {
        "id": "QqjIMdhRYUJr"
      },
      "source": [
        "#### Aplicacion del metodo del codo:"
      ]
    },
    {
      "cell_type": "code",
      "execution_count": 80,
      "metadata": {
        "id": "gEwGIcjxYUJr",
        "outputId": "a719e490-558c-4dfe-cc76-33d2ce433a95"
      },
      "outputs": [
        {
          "name": "stderr",
          "output_type": "stream",
          "text": [
            "f:\\programas\\Python\\Lib\\site-packages\\sklearn\\base.py:1474: ConvergenceWarning: Number of distinct clusters (2) found smaller than n_clusters (3). Possibly due to duplicate points in X.\n",
            "  return fit_method(estimator, *args, **kwargs)\n",
            "f:\\programas\\Python\\Lib\\site-packages\\sklearn\\base.py:1474: ConvergenceWarning: Number of distinct clusters (2) found smaller than n_clusters (4). Possibly due to duplicate points in X.\n",
            "  return fit_method(estimator, *args, **kwargs)\n",
            "f:\\programas\\Python\\Lib\\site-packages\\sklearn\\base.py:1474: ConvergenceWarning: Number of distinct clusters (2) found smaller than n_clusters (5). Possibly due to duplicate points in X.\n",
            "  return fit_method(estimator, *args, **kwargs)\n",
            "f:\\programas\\Python\\Lib\\site-packages\\sklearn\\base.py:1474: ConvergenceWarning: Number of distinct clusters (2) found smaller than n_clusters (6). Possibly due to duplicate points in X.\n",
            "  return fit_method(estimator, *args, **kwargs)\n",
            "f:\\programas\\Python\\Lib\\site-packages\\sklearn\\base.py:1474: ConvergenceWarning: Number of distinct clusters (2) found smaller than n_clusters (7). Possibly due to duplicate points in X.\n",
            "  return fit_method(estimator, *args, **kwargs)\n",
            "f:\\programas\\Python\\Lib\\site-packages\\sklearn\\base.py:1474: ConvergenceWarning: Number of distinct clusters (2) found smaller than n_clusters (8). Possibly due to duplicate points in X.\n",
            "  return fit_method(estimator, *args, **kwargs)\n",
            "f:\\programas\\Python\\Lib\\site-packages\\sklearn\\base.py:1474: ConvergenceWarning: Number of distinct clusters (2) found smaller than n_clusters (9). Possibly due to duplicate points in X.\n",
            "  return fit_method(estimator, *args, **kwargs)\n",
            "f:\\programas\\Python\\Lib\\site-packages\\sklearn\\base.py:1474: ConvergenceWarning: Number of distinct clusters (2) found smaller than n_clusters (10). Possibly due to duplicate points in X.\n",
            "  return fit_method(estimator, *args, **kwargs)\n"
          ]
        },
        {
          "data": {
            "image/png": "[encoded data removed]",
            "text/plain": [
              "<Figure size 1000x600 with 1 Axes>"
            ]
          },
          "metadata": {},
          "output_type": "display_data"
        }
      ],
      "source": [
        "def optimal_number_of_clusters(X, max_k=20):\n",
        "    wcss = []\n",
        "    valores_k = list(range(1, max_k + 1))\n",
        "\n",
        "    for k in valores_k:\n",
        "        kmeans = KMeans(n_clusters=k, n_init=10, random_state=42)\n",
        "        kmeans.fit(X)\n",
        "        wcss.append(kmeans.inertia_)\n",
        "\n",
        "    # Graficar WCSS\n",
        "    plt.figure(figsize=(10, 6))\n",
        "    plt.plot(valores_k, wcss, marker='o')\n",
        "    plt.xlabel('Número de Clusters (k)')\n",
        "    plt.ylabel('WCSS')\n",
        "    plt.title('Método del Codo para determinar el número óptimo de clusters')\n",
        "    plt.grid(True)\n",
        "    plt.show()\n",
        "\n",
        "    # Encontrar el punto de codo\n",
        "    diff_wcss = np.diff(wcss)\n",
        "    second_diff_wcss = np.diff(diff_wcss)\n",
        "    optimal_k = np.argmin(second_diff_wcss)\n",
        "\n",
        "    return optimal_k\n",
        "\n",
        "# Uso de la función\n",
        "optimal_k = optimal_number_of_clusters(dataset_norm[:2000], max_k=10)"
      ]
    },
    {
      "cell_type": "markdown",
      "metadata": {
        "id": "V3HBg-oEYUJr"
      },
      "source": [
        "haciendo predicciones para ver a que grupo pertenece algunos datos insertados:"
      ]
    },
    {
      "cell_type": "code",
      "execution_count": 90,
      "metadata": {
        "id": "G1w5xq5lYUJs",
        "outputId": "1c17d698-2b14-47d2-85c0-16fabdc40daf"
      },
      "outputs": [
        {
          "name": "stdout",
          "output_type": "stream",
          "text": [
            "k =  2 inertia =  9.680943293431669e-23\n",
            "k =  6 inertia =  9.680943293431669e-23\n",
            "el mejor k es:  2\n"
          ]
        },
        {
          "name": "stderr",
          "output_type": "stream",
          "text": [
            "f:\\programas\\Python\\Lib\\site-packages\\sklearn\\base.py:1474: ConvergenceWarning: Number of distinct clusters (2) found smaller than n_clusters (6). Possibly due to duplicate points in X.\n",
            "  return fit_method(estimator, *args, **kwargs)\n"
          ]
        }
      ],
      "source": [
        "import numpy as np\n",
        "from sklearn.cluster import KMeans\n",
        "\n",
        "#nuestro k es 13\n",
        "k1 = max_score_idx #-> del método de la silueta\n",
        "k2 = optimal_k#-> del metodo del codo\n",
        "valores_K = [k1, k2]\n",
        "best_kmeans = None\n",
        "\n",
        "for k in valores_K:\n",
        "    kmeans = KMeans(n_clusters=k, random_state=42)\n",
        "    kmeans.fit(dataset_norm)\n",
        "    print(\"k = \", k, \"inertia = \", kmeans.inertia_)\n",
        "\n",
        "    if (best_kmeans is None or\n",
        "        kmeans.inertia_ < best_kmeans.inertia_):\n",
        "        best_kmeans = kmeans\n",
        "\n",
        "print(\"el mejor k es: \", best_kmeans.n_clusters)\n"
      ]
    },
    {
      "cell_type": "code",
      "execution_count": 95,
      "metadata": {
        "id": "B7J70B8rYUJs"
      },
      "outputs": [],
      "source": [
        "kmeans = best_kmeans"
      ]
    },
    {
      "cell_type": "code",
      "execution_count": 92,
      "metadata": {
        "id": "X8IotvPAYUJs",
        "outputId": "08798c3a-4c00-4d2d-be32-c462552a034c"
      },
      "outputs": [
        {
          "name": "stdout",
          "output_type": "stream",
          "text": [
            "La cantidad de elementos en el grupo  0  es de:  49999\n",
            "La cantidad de elementos en el grupo  1  es de:  1\n"
          ]
        }
      ],
      "source": [
        "for i in range(2):\n",
        "    print(\"La cantidad de elementos en el grupo \",i,\" es de: \",len(kmeans.labels_[ kmeans.labels_ == i ]) )"
      ]
    },
    {
      "cell_type": "code",
      "execution_count": 93,
      "metadata": {
        "id": "qp1d30phYUJs",
        "outputId": "4f3f63ae-1a8b-46e3-8877-e4878c2ae9aa"
      },
      "outputs": [
        {
          "data": {
            "text/html": [
              "<div>\n",
              "<style scoped>\n",
              "    .dataframe tbody tr th:only-of-type {\n",
              "        vertical-align: middle;\n",
              "    }\n",
              "\n",
              "    .dataframe tbody tr th {\n",
              "        vertical-align: top;\n",
              "    }\n",
              "\n",
              "    .dataframe thead th {\n",
              "        text-align: right;\n",
              "    }\n",
              "</style>\n",
              "<table border=\"1\" class=\"dataframe\">\n",
              "  <thead>\n",
              "    <tr style=\"text-align: right;\">\n",
              "      <th></th>\n",
              "      <th>0</th>\n",
              "      <th>1</th>\n",
              "      <th>2</th>\n",
              "      <th>3</th>\n",
              "      <th>4</th>\n",
              "      <th>5</th>\n",
              "      <th>6</th>\n",
              "      <th>7</th>\n",
              "      <th>8</th>\n",
              "      <th>9</th>\n",
              "      <th>...</th>\n",
              "      <th>3063</th>\n",
              "      <th>3064</th>\n",
              "      <th>3065</th>\n",
              "      <th>3066</th>\n",
              "      <th>3067</th>\n",
              "      <th>3068</th>\n",
              "      <th>3069</th>\n",
              "      <th>3070</th>\n",
              "      <th>3071</th>\n",
              "      <th>Cluster</th>\n",
              "    </tr>\n",
              "  </thead>\n",
              "  <tbody>\n",
              "    <tr>\n",
              "      <th>0</th>\n",
              "      <td>87.0</td>\n",
              "      <td>40.0</td>\n",
              "      <td>238.0</td>\n",
              "      <td>87.0</td>\n",
              "      <td>40.0</td>\n",
              "      <td>238.0</td>\n",
              "      <td>87.0</td>\n",
              "      <td>40.0</td>\n",
              "      <td>238.0</td>\n",
              "      <td>87.0</td>\n",
              "      <td>...</td>\n",
              "      <td>255.0</td>\n",
              "      <td>255.0</td>\n",
              "      <td>255.0</td>\n",
              "      <td>255.0</td>\n",
              "      <td>255.0</td>\n",
              "      <td>255.0</td>\n",
              "      <td>255.0</td>\n",
              "      <td>255.0</td>\n",
              "      <td>255.0</td>\n",
              "      <td>1</td>\n",
              "    </tr>\n",
              "    <tr>\n",
              "      <th>1</th>\n",
              "      <td>0.0</td>\n",
              "      <td>0.0</td>\n",
              "      <td>0.0</td>\n",
              "      <td>0.0</td>\n",
              "      <td>0.0</td>\n",
              "      <td>0.0</td>\n",
              "      <td>0.0</td>\n",
              "      <td>0.0</td>\n",
              "      <td>0.0</td>\n",
              "      <td>0.0</td>\n",
              "      <td>...</td>\n",
              "      <td>0.0</td>\n",
              "      <td>0.0</td>\n",
              "      <td>0.0</td>\n",
              "      <td>0.0</td>\n",
              "      <td>0.0</td>\n",
              "      <td>0.0</td>\n",
              "      <td>0.0</td>\n",
              "      <td>0.0</td>\n",
              "      <td>0.0</td>\n",
              "      <td>0</td>\n",
              "    </tr>\n",
              "    <tr>\n",
              "      <th>2</th>\n",
              "      <td>0.0</td>\n",
              "      <td>0.0</td>\n",
              "      <td>0.0</td>\n",
              "      <td>0.0</td>\n",
              "      <td>0.0</td>\n",
              "      <td>0.0</td>\n",
              "      <td>0.0</td>\n",
              "      <td>0.0</td>\n",
              "      <td>0.0</td>\n",
              "      <td>0.0</td>\n",
              "      <td>...</td>\n",
              "      <td>0.0</td>\n",
              "      <td>0.0</td>\n",
              "      <td>0.0</td>\n",
              "      <td>0.0</td>\n",
              "      <td>0.0</td>\n",
              "      <td>0.0</td>\n",
              "      <td>0.0</td>\n",
              "      <td>0.0</td>\n",
              "      <td>0.0</td>\n",
              "      <td>0</td>\n",
              "    </tr>\n",
              "    <tr>\n",
              "      <th>3</th>\n",
              "      <td>0.0</td>\n",
              "      <td>0.0</td>\n",
              "      <td>0.0</td>\n",
              "      <td>0.0</td>\n",
              "      <td>0.0</td>\n",
              "      <td>0.0</td>\n",
              "      <td>0.0</td>\n",
              "      <td>0.0</td>\n",
              "      <td>0.0</td>\n",
              "      <td>0.0</td>\n",
              "      <td>...</td>\n",
              "      <td>0.0</td>\n",
              "      <td>0.0</td>\n",
              "      <td>0.0</td>\n",
              "      <td>0.0</td>\n",
              "      <td>0.0</td>\n",
              "      <td>0.0</td>\n",
              "      <td>0.0</td>\n",
              "      <td>0.0</td>\n",
              "      <td>0.0</td>\n",
              "      <td>0</td>\n",
              "    </tr>\n",
              "    <tr>\n",
              "      <th>4</th>\n",
              "      <td>0.0</td>\n",
              "      <td>0.0</td>\n",
              "      <td>0.0</td>\n",
              "      <td>0.0</td>\n",
              "      <td>0.0</td>\n",
              "      <td>0.0</td>\n",
              "      <td>0.0</td>\n",
              "      <td>0.0</td>\n",
              "      <td>0.0</td>\n",
              "      <td>0.0</td>\n",
              "      <td>...</td>\n",
              "      <td>0.0</td>\n",
              "      <td>0.0</td>\n",
              "      <td>0.0</td>\n",
              "      <td>0.0</td>\n",
              "      <td>0.0</td>\n",
              "      <td>0.0</td>\n",
              "      <td>0.0</td>\n",
              "      <td>0.0</td>\n",
              "      <td>0.0</td>\n",
              "      <td>0</td>\n",
              "    </tr>\n",
              "  </tbody>\n",
              "</table>\n",
              "<p>5 rows × 3073 columns</p>\n",
              "</div>"
            ],
            "text/plain": [
              "      0     1      2     3     4      5     6     7      8     9  ...   3063  \\\n",
              "0  87.0  40.0  238.0  87.0  40.0  238.0  87.0  40.0  238.0  87.0  ...  255.0   \n",
              "1   0.0   0.0    0.0   0.0   0.0    0.0   0.0   0.0    0.0   0.0  ...    0.0   \n",
              "2   0.0   0.0    0.0   0.0   0.0    0.0   0.0   0.0    0.0   0.0  ...    0.0   \n",
              "3   0.0   0.0    0.0   0.0   0.0    0.0   0.0   0.0    0.0   0.0  ...    0.0   \n",
              "4   0.0   0.0    0.0   0.0   0.0    0.0   0.0   0.0    0.0   0.0  ...    0.0   \n",
              "\n",
              "    3064   3065   3066   3067   3068   3069   3070   3071  Cluster  \n",
              "0  255.0  255.0  255.0  255.0  255.0  255.0  255.0  255.0        1  \n",
              "1    0.0    0.0    0.0    0.0    0.0    0.0    0.0    0.0        0  \n",
              "2    0.0    0.0    0.0    0.0    0.0    0.0    0.0    0.0        0  \n",
              "3    0.0    0.0    0.0    0.0    0.0    0.0    0.0    0.0        0  \n",
              "4    0.0    0.0    0.0    0.0    0.0    0.0    0.0    0.0        0  \n",
              "\n",
              "[5 rows x 3073 columns]"
            ]
          },
          "execution_count": 93,
          "metadata": {},
          "output_type": "execute_result"
        }
      ],
      "source": [
        "\n",
        "dataset['Cluster'] = kmeans.labels_\n",
        "dataset.head()"
      ]
    },
    {
      "cell_type": "markdown",
      "metadata": {
        "id": "4AbDJ2_rYUJ6"
      },
      "source": [
        "#### Visualizando los clusters que se formaron\n",
        "\n",
        "Aqui aplicamos el analisis de componentes principales para darnos una idea de como se formaron los clusters, esto debido a que no podemos graficar todas las caracteristicas debido a su dimension.\n",
        "\n",
        "Para esto usaremos y la libreria de `PCA`, para indicar que solo queremos los dos componentes principales."
      ]
    },
    {
      "cell_type": "code",
      "execution_count": 94,
      "metadata": {
        "id": "YzPULL6YYUJ6",
        "outputId": "dc914d9a-cdab-44cf-b1d6-9be68dccf210"
      },
      "outputs": [
        {
          "data": {
            "text/html": [
              "<div>\n",
              "<style scoped>\n",
              "    .dataframe tbody tr th:only-of-type {\n",
              "        vertical-align: middle;\n",
              "    }\n",
              "\n",
              "    .dataframe tbody tr th {\n",
              "        vertical-align: top;\n",
              "    }\n",
              "\n",
              "    .dataframe thead th {\n",
              "        text-align: right;\n",
              "    }\n",
              "</style>\n",
              "<table border=\"1\" class=\"dataframe\">\n",
              "  <thead>\n",
              "    <tr style=\"text-align: right;\">\n",
              "      <th></th>\n",
              "      <th>Componente_1</th>\n",
              "      <th>Componente_2</th>\n",
              "      <th>Cluster</th>\n",
              "    </tr>\n",
              "  </thead>\n",
              "  <tbody>\n",
              "    <tr>\n",
              "      <th>0</th>\n",
              "      <td>12393.422772</td>\n",
              "      <td>6.199079e-17</td>\n",
              "      <td>1</td>\n",
              "    </tr>\n",
              "    <tr>\n",
              "      <th>1</th>\n",
              "      <td>-0.247873</td>\n",
              "      <td>5.649632e-17</td>\n",
              "      <td>0</td>\n",
              "    </tr>\n",
              "    <tr>\n",
              "      <th>2</th>\n",
              "      <td>-0.247873</td>\n",
              "      <td>5.850770e-17</td>\n",
              "      <td>0</td>\n",
              "    </tr>\n",
              "    <tr>\n",
              "      <th>3</th>\n",
              "      <td>-0.247873</td>\n",
              "      <td>5.640845e-17</td>\n",
              "      <td>0</td>\n",
              "    </tr>\n",
              "    <tr>\n",
              "      <th>4</th>\n",
              "      <td>-0.247873</td>\n",
              "      <td>5.649706e-17</td>\n",
              "      <td>0</td>\n",
              "    </tr>\n",
              "    <tr>\n",
              "      <th>...</th>\n",
              "      <td>...</td>\n",
              "      <td>...</td>\n",
              "      <td>...</td>\n",
              "    </tr>\n",
              "    <tr>\n",
              "      <th>49995</th>\n",
              "      <td>-0.247873</td>\n",
              "      <td>6.056484e-17</td>\n",
              "      <td>0</td>\n",
              "    </tr>\n",
              "    <tr>\n",
              "      <th>49996</th>\n",
              "      <td>-0.247873</td>\n",
              "      <td>6.056484e-17</td>\n",
              "      <td>0</td>\n",
              "    </tr>\n",
              "    <tr>\n",
              "      <th>49997</th>\n",
              "      <td>-0.247873</td>\n",
              "      <td>6.056484e-17</td>\n",
              "      <td>0</td>\n",
              "    </tr>\n",
              "    <tr>\n",
              "      <th>49998</th>\n",
              "      <td>-0.247873</td>\n",
              "      <td>6.056484e-17</td>\n",
              "      <td>0</td>\n",
              "    </tr>\n",
              "    <tr>\n",
              "      <th>49999</th>\n",
              "      <td>-0.247873</td>\n",
              "      <td>-3.163816e-17</td>\n",
              "      <td>0</td>\n",
              "    </tr>\n",
              "  </tbody>\n",
              "</table>\n",
              "<p>50000 rows × 3 columns</p>\n",
              "</div>"
            ],
            "text/plain": [
              "       Componente_1  Componente_2  Cluster\n",
              "0      12393.422772  6.199079e-17        1\n",
              "1         -0.247873  5.649632e-17        0\n",
              "2         -0.247873  5.850770e-17        0\n",
              "3         -0.247873  5.640845e-17        0\n",
              "4         -0.247873  5.649706e-17        0\n",
              "...             ...           ...      ...\n",
              "49995     -0.247873  6.056484e-17        0\n",
              "49996     -0.247873  6.056484e-17        0\n",
              "49997     -0.247873  6.056484e-17        0\n",
              "49998     -0.247873  6.056484e-17        0\n",
              "49999     -0.247873 -3.163816e-17        0\n",
              "\n",
              "[50000 rows x 3 columns]"
            ]
          },
          "execution_count": 94,
          "metadata": {},
          "output_type": "execute_result"
        }
      ],
      "source": [
        "from sklearn.decomposition import PCA\n",
        "pca = PCA(n_components=2)\n",
        "pca_dataset = pca.fit_transform(dataset_norm)\n",
        "\n",
        "# Creamos un DataFrame con los dos valores de los componentes principales\n",
        "pca_dataset_df = pd.DataFrame(data=pca_dataset, columns=['Componente_1', 'Componente_2'])\n",
        "pca_nombres_df = pd.concat([pca_dataset_df, dataset['Cluster']], axis=1)\n",
        "\n",
        "pca_nombres_df"
      ]
    },
    {
      "cell_type": "markdown",
      "metadata": {
        "id": "PtKiNeu2YUJ6"
      },
      "source": [
        "Graficando:"
      ]
    },
    {
      "cell_type": "code",
      "execution_count": 98,
      "metadata": {
        "id": "vEvTcoq5YUJ7",
        "outputId": "2ab6c19f-c16f-4ca2-a5d2-8f3f14671333"
      },
      "outputs": [
        {
          "data": {
            "image/png": "[encoded data removed]",
            "text/plain": [
              "<Figure size 1000x500 with 2 Axes>"
            ]
          },
          "metadata": {},
          "output_type": "display_data"
        }
      ],
      "source": [
        "plt.figure(figsize=(10, 5))  # Ajusta el tamaño de la figura según sea necesario\n",
        "plt.scatter(pca_nombres_df['Componente_1'], pca_nombres_df['Componente_2'], c=pca_nombres_df['Cluster'], cmap='viridis')\n",
        "plt.xlabel('Componente Principal 1')\n",
        "plt.ylabel('Componente Principal 2')\n",
        "plt.title('Visualización de Clusters con Componentes Principales')\n",
        "plt.colorbar(label='Cluster')\n",
        "plt.show()\n"
      ]
    }
  ],
  "metadata": {
    "colab": {
      "include_colab_link": true,
      "provenance": [],
      "toc_visible": true
    },
    "kernelspec": {
      "display_name": "Python 3.8.12 ('base')",
      "language": "python",
      "name": "python3"
    },
    "language_info": {
      "codemirror_mode": {
        "name": "ipython",
        "version": 3
      },
      "file_extension": ".py",
      "mimetype": "text/x-python",
      "name": "python",
      "nbconvert_exporter": "python",
      "pygments_lexer": "ipython3",
      "version": "3.12.2"
    },
    "orig_nbformat": 4,
    "vscode": {
      "interpreter": {
        "hash": "74dbfc52f168b3071122cf9c0781887d6121c12f9c1b29bca56ce221bccb2a07"
      }
    }
  },
  "nbformat": 4,
  "nbformat_minor": 0
}
