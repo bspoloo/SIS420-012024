{
 "cells": [
  {
   "cell_type": "markdown",
   "metadata": {},
   "source": [
    "# Laboratorio 7 (Aprendizaje por refuerzo) Grupo 1\n",
    " <h3>Implementacion de Algoritmos de Gradiente<h3>\n",
    " <HR>\n",
    " <h3>\n",
    "  NOMBRES:\n",
    "  \n",
    "  * POLO ORELLANA BRAYAN SIMON\n",
    "  * LOPEZ CHIRI DIMAR GABRIEL\n",
    "  \n",
    "  <br>\n",
    "  CARRERA: INGENIERIA DE SISTEMAS\n",
    "  <BR>\n",
    "  FECHA: 17/06/2024 <BR>\n",
    "\n",
    "  * [Enlace de invitacion para ser colaborador](https://github.com/bspoloo/SIS420-012024/invitations)\n",
    "  \n",
    "  * [Enlace al git hub](https://github.com/bspoloo/SIS420-012024/tree/main/Laboratorios/Laboratorio%207)\n",
    "\n",
    " <h3>"
   ]
  },
  {
   "cell_type": "markdown",
   "metadata": {},
   "source": [
    "\"Softmax Action Selection\" o \"Softmax Policy\". En este enfoque, en lugar de seleccionar acciones basadas únicamente en sus valores estimados (como en los métodos $\\epsilon$-greedy), se asigna una preferencia \n",
    "𝐻\n",
    "𝑡\n",
    "(\n",
    "𝑎\n",
    ")\n",
    "H \n",
    "t\n",
    "​\n",
    " (a) a cada acción \n",
    "𝑎\n",
    "a. La probabilidad \n",
    "𝜋\n",
    "𝑡\n",
    "(\n",
    "𝑎\n",
    ")\n",
    "π \n",
    "t\n",
    "​\n",
    " (a) de seleccionar la acción \n",
    "𝑎\n",
    "a en el tiempo \n",
    "𝑡\n",
    "t está determinada por la función softmax:\n",
    "\n",
    "$$\n",
    "    \\pi_t(a) = \\frac{e^{H_t(a)}}{\\sum_{b=1}^k e^{H_t(b)}}\n",
    "$$\n",
    "\n",
    "donde $\\tilde{R_t}$ es el promedio de todas las recompensas hasta el instante $t$ (incluído). Este valor actúa como referencia con la que comparamos la recompensa. Si es mayor, la probabilidad de escoger esa acción en el futuro aumenta. Si es menor, la probabilidad se reduce. Las acciones no escogidas, se actualizan en el sentido opuesto.\n",
    "\n",
    "$$\n",
    "    \\begin{array}{ll}\n",
    "        H_{t+1}(a) = H_{t}(a) + \\alpha(R_t-\\tilde{R_t})(1-\\pi_t(A_t)) & \\text{y} \\\\\n",
    "        H_{t+1}(a) = H_{t}(a) - \\alpha(R_t-\\tilde{R_t})\\pi_t(a) & \\text{para toda } a \\neq A_t\n",
    "    \\end{array}\n",
    "$$\n",
    "\n"
   ]
  },
  {
   "cell_type": "markdown",
   "metadata": {},
   "source": [
    "## Importacion librerias\n",
    "importamos las librerias necesarias para la realizacion de este laboratorio:"
   ]
  },
  {
   "cell_type": "code",
   "execution_count": 36,
   "metadata": {},
   "outputs": [],
   "source": [
    "\n",
    "import gymnasium as gym\n",
    "import numpy as np\n",
    "import matplotlib.pyplot as plt#Importamos la librería gym para poder utilizar el entorno de OpenAI\n",
    "import gymnasium as gym\n",
    "#Importamos la librería numpy para poder trabajar con arrays\n",
    "import numpy as np\n",
    "#Importamos la librería matplotlib para poder realizar gráficas\n",
    "import matplotlib.pyplot as plt \n",
    "#Importamos la librería os para poder interactuar con el sistema operativo\n",
    "import os\n",
    "#Importamos la función clear_output de la librería IPython.display para poder limpiar la salida de la celda\n",
    "from IPython.display import clear_output\n",
    "#Importamos la librería random para poder generar números aleatorios \n",
    "import random\n",
    "#Importamos la librería matplotlib para poder realizar gráficas \n",
    "import matplotlib.pyplot as plt\n",
    "#Importamos la librería pickle para poder guardar los datos en un archivo \n",
    "import pickle\n",
    "#Importamos la librería time para poder utilizar la función sleep\n",
    "import time\n",
    "#Importamos la librería pandas para poder trabajar con dataframes \n",
    "import pandas as pd\n",
    "from matplotlib import animation\n",
    "import os\n",
    "from IPython.display import clear_output\n",
    "import random\n",
    "import matplotlib.pyplot as plt\n",
    "import pickle\n",
    "import time"
   ]
  },
  {
   "cell_type": "markdown",
   "metadata": {},
   "source": [
    "## Creacion de funcion para graficar las recompensas acumuladas cada episodio\n",
    "Esta Clase tien la funcion de graficar, el cual toma los parametros de premios por episodio, el numero de episodios:"
   ]
  },
  {
   "cell_type": "code",
   "execution_count": 37,
   "metadata": {},
   "outputs": [],
   "source": [
    "\n",
    "def Graphic_Average_reward_per_alpha(reward_per_epsilon, alphas):\n",
    "    plt.figure(figsize=(8, 5))\n",
    "    for alpha in alphas:\n",
    "        plt.plot(reward_per_epsilon[alpha], label=f'$\\epsilon$ = {alpha}')\n",
    "    plt.legend()\n",
    "    plt.grid(True)\n",
    "    plt.xlabel('Episodios')\n",
    "    plt.ylabel('Recompensa media')\n",
    "    plt.title('Recompensa media por episodio para diferentes valores de $\\epsilon$')\n",
    "    plt.show()"
   ]
  },
  {
   "cell_type": "code",
   "execution_count": 42,
   "metadata": {},
   "outputs": [
    {
     "ename": "",
     "evalue": "",
     "output_type": "error",
     "traceback": [
      "\u001b[1;31mThe Kernel crashed while executing code in the current cell or a previous cell. \n",
      "\u001b[1;31mPlease review the code in the cell(s) to identify a possible cause of the failure. \n",
      "\u001b[1;31mClick <a href='https://aka.ms/vscodeJupyterKernelCrash'>here</a> for more info. \n",
      "\u001b[1;31mView Jupyter <a href='command:jupyter.viewOutput'>log</a> for further details."
     ]
    }
   ],
   "source": [
    "def run(episodes, is_training=True, render=False):\n",
    "    env = gym.make('CliffWalking-v0', render_mode=\"human\" if render else None)\n",
    "\n",
    "    if(is_training):\n",
    "        q = np.zeros((env.observation_space.n, env.action_space.n))\n",
    "    else:\n",
    "        with open('CliffWalking.pkl', 'rb') as f:\n",
    "            q = pickle.load(f)\n",
    "\n",
    "    learning_rate_a = 0.1\n",
    "    discount_factor_g = 0.99\n",
    "    epsilon = 1\n",
    "    epsilon_decay_rate = 0.0005\n",
    "    rng = np.random.default_rng()\n",
    "    RENDER_AT_EPISODE = 10\n",
    "    time_step=0\n",
    "    rewards_per_episode = np.zeros(episodes)\n",
    "\n",
    "    for i in range(episodes):\n",
    "        if i%10_000 == 0:\n",
    "            print(f\"Currently on episode {i}\")\n",
    "        state = env.reset()\n",
    "        terminated = False\n",
    "        truncated = False\n",
    "        episode_reward = 0\n",
    "\n",
    "        while(not terminated and not truncated):\n",
    "            if is_training and rng.random() < epsilon:\n",
    "                action = env.action_space.sample() # escoje una accion aleatoria 'a = np.random.randint(5) + 1'\n",
    "            else:\n",
    "                action = np.argmax(q[state,:]) # escoje la mejor accion 'mejor_accion = max(q, key=q.get)'\n",
    "\n",
    "            new_state, reward, terminated, truncated, info = env.step(action)\n",
    "\n",
    "            if is_training:\n",
    "                q[state,action] = q[state,action] + learning_rate_a * (\n",
    "                    reward + discount_factor_g * np.max(q[new_state,:]) - q[state,action]\n",
    "                )\n",
    "            state = new_state\n",
    "            episode_reward += reward\n",
    "            time_step+=1\n",
    "            if i%RENDER_AT_EPISODE == 0:\n",
    "                clear_output(wait=True)\n",
    "                env.render()\n",
    "\n",
    "        epsilon = max(epsilon - epsilon_decay_rate, 0.01)\n",
    "        rewards_per_episode[i] = episode_reward\n",
    "        print(f\"Episode {i}/{episodes}, Epsilon: {epsilon:.4f}, Reward: {episode_reward:.4f}\")\n",
    "\n",
    "    env.close()\n",
    "\n",
    "    window_size = 1000\n",
    "    sum_rewards = np.zeros(episodes)\n",
    "    for t in range(episodes):\n",
    "        sum_rewards[t] = np.sum(rewards_per_episode[max(0, t-window_size):(t+1)])\n",
    "    \n",
    "    print(\"Final average reward:\", np.mean(sum_rewards[-1000:]))\n",
    "    plt.plot(sum_rewards)\n",
    "    plt.savefig('CliffWalking.png')\n",
    "\n",
    "    if is_training:\n",
    "        with open(\"CliffWalking.pkl\", \"wb\") as f:\n",
    "            pickle.dump(q, f)\n",
    "\n",
    "    return sum_rewards"
   ]
  },
  {
   "cell_type": "code",
   "execution_count": 41,
   "metadata": {},
   "outputs": [
    {
     "name": "stdout",
     "output_type": "stream",
     "text": [
      "Currently on episode 0\n"
     ]
    },
    {
     "ename": "TypeError",
     "evalue": "only integer scalar arrays can be converted to a scalar index",
     "output_type": "error",
     "traceback": [
      "\u001b[1;31m---------------------------------------------------------------------------\u001b[0m",
      "\u001b[1;31mTypeError\u001b[0m                                 Traceback (most recent call last)",
      "Cell \u001b[1;32mIn[41], line 2\u001b[0m\n\u001b[0;32m      1\u001b[0m \u001b[38;5;28;01mif\u001b[39;00m \u001b[38;5;18m__name__\u001b[39m \u001b[38;5;241m==\u001b[39m \u001b[38;5;124m\"\u001b[39m\u001b[38;5;124m__main__\u001b[39m\u001b[38;5;124m\"\u001b[39m:\n\u001b[1;32m----> 2\u001b[0m     \u001b[43mrun\u001b[49m\u001b[43m(\u001b[49m\u001b[38;5;241;43m5000\u001b[39;49m\u001b[43m,\u001b[49m\u001b[43m \u001b[49m\u001b[43mis_training\u001b[49m\u001b[38;5;241;43m=\u001b[39;49m\u001b[38;5;28;43;01mTrue\u001b[39;49;00m\u001b[43m,\u001b[49m\u001b[43m \u001b[49m\u001b[43mrender\u001b[49m\u001b[38;5;241;43m=\u001b[39;49m\u001b[38;5;28;43;01mFalse\u001b[39;49;00m\u001b[43m)\u001b[49m\n",
      "Cell \u001b[1;32mIn[40], line 24\u001b[0m, in \u001b[0;36mrun\u001b[1;34m(episodes, is_training, render)\u001b[0m\n\u001b[0;32m     21\u001b[0m     \u001b[38;5;28mprint\u001b[39m(\u001b[38;5;124mf\u001b[39m\u001b[38;5;124m\"\u001b[39m\u001b[38;5;124mCurrently on episode \u001b[39m\u001b[38;5;132;01m{\u001b[39;00mi\u001b[38;5;132;01m}\u001b[39;00m\u001b[38;5;124m\"\u001b[39m)\n\u001b[0;32m     23\u001b[0m beetter_action \u001b[38;5;241m=\u001b[39m np\u001b[38;5;241m.\u001b[39margmax(q, axis\u001b[38;5;241m=\u001b[39m\u001b[38;5;241m1\u001b[39m)\n\u001b[1;32m---> 24\u001b[0m state, _ \u001b[38;5;241m=\u001b[39m \u001b[43menv\u001b[49m\u001b[38;5;241;43m.\u001b[39;49m\u001b[43mreset\u001b[49m\u001b[43m(\u001b[49m\u001b[43m)\u001b[49m\u001b[43m[\u001b[49m\u001b[43mbeetter_action\u001b[49m\u001b[43m]\u001b[49m\n\u001b[0;32m     25\u001b[0m terminated \u001b[38;5;241m=\u001b[39m \u001b[38;5;28;01mFalse\u001b[39;00m\n\u001b[0;32m     26\u001b[0m truncated \u001b[38;5;241m=\u001b[39m \u001b[38;5;28;01mFalse\u001b[39;00m\n",
      "\u001b[1;31mTypeError\u001b[0m: only integer scalar arrays can be converted to a scalar index"
     ]
    }
   ],
   "source": [
    "if __name__ == \"__main__\":\n",
    "    run(5000, is_training=True, render=False)"
   ]
  }
 ],
 "metadata": {
  "kernelspec": {
   "display_name": "manim-gymAI-venv",
   "language": "python",
   "name": "python3"
  },
  "language_info": {
   "codemirror_mode": {
    "name": "ipython",
    "version": 3
   },
   "file_extension": ".py",
   "mimetype": "text/x-python",
   "name": "python",
   "nbconvert_exporter": "python",
   "pygments_lexer": "ipython3",
   "version": "3.12.2"
  },
  "orig_nbformat": 4
 },
 "nbformat": 4,
 "nbformat_minor": 2
}
