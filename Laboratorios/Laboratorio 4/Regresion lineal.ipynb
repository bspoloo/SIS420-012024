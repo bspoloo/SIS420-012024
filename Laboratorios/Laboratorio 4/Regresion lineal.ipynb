{
 "cells": [
  {
   "cell_type": "markdown",
   "metadata": {},
   "source": [
    "# Laboratorio 4(Aplicacion de Regularizacion) Grupo 1\n",
    " <h3>En este laboratorio se hizo el uso del dataset para aplicar la regularización y sin utilizar regularización, y com siguiente se presento los resultados de ambas experiencias<h3>\n",
    " <HR>\n",
    " <h3>\n",
    "  NOMBRE: POLO ORELLANA BRAYAN SIMON <br>\n",
    "  CARRERA: INGENIERIA DE SISTEMAS <BR>\n",
    "  FECHA: 26/03/2024 <BR>\n",
    "\n",
    "  * [Enlace de invitacion para ser colaborador](https://github.com/bspoloo/SIS420-012024/invitations)\n",
    "  \n",
    "  * [Enlace al git hub](https://github.com/bspoloo/SIS420-012024/tree/main/Laboratorios/Lab%201)\n",
    "  \n",
    "  * [Enlace al Colab](https://colab.research.google.com/github/bspoloo/SIS420-012024/blob/main/Laboratorios/Laboratorio%204/Regresion%20lineal.ipynb?hl=es#scrollTo=jmDd6cd2hQ_W)\n",
    "  \n",
    " <h3>\n",
    "\n",
    " Para el laboratorio implementando regularizacion se hizo uso del dataset para predecir el precio de las casas en USA. El enlace al dataset es [House Sales in King County, USA](https://www.kaggle.com/datasets/harlfoxem/housesalesprediction).\n",
    "\n",
    "El conjunto de datos, denominado ``kc_house_data.csv``, contiene un conjunto de entrenamiento de precios de casas en el condado de King. Este conjunto de datos probablemente incluye varias características relevantes para predecir el precio de las casas, como el tamaño de la vivienda, el número de habitaciones, la ubicación, las características específicas de la casa, etc.\n"
   ]
  },
  {
   "cell_type": "markdown",
   "metadata": {},
   "source": [
    "Primero se importo todas las librerias necesarias:"
   ]
  },
  {
   "cell_type": "code",
   "execution_count": 596,
   "metadata": {},
   "outputs": [],
   "source": [
    "# utilizando la libreria os para manejos de directorios\n",
    "import os\n",
    "\n",
    "# Computacion vectorial y cientifica para python\n",
    "import numpy as np\n",
    "\n",
    "#importamos pandas para el manejo del dataset, y separarlos dentro de una matriz\n",
    "import pandas as pd\n",
    "\n",
    "#esta tabulate nos sirve para hacer tablas\n",
    "from tabulate import tabulate\n",
    "\n",
    "# Librerias para graficación (trazado de gráficos)\n",
    "from matplotlib import pyplot\n",
    "from mpl_toolkits.mplot3d import Axes3D  # -> Necesario para graficar superficies 3D\n",
    "\n",
    "#Para separa el 20% y 80%\n",
    "from sklearn.model_selection import train_test_split\n",
    "\n",
    "# llama a matplotlib a embeber graficas dentro de los cuadernillos\n",
    "%matplotlib inline"
   ]
  },
  {
   "cell_type": "markdown",
   "metadata": {},
   "source": [
    "## Carga de datos del dataset\n",
    "\n",
    "cargamos los datos haciendo el uso de la libreria **Pandas** que  es una herramienta poderosa y versátil utilizada para manipulación y análisis de datos. Ofrece estructuras de datos flexibles y eficientes para trabajar con datos tabulares, como hojas de cálculo en Excel o tablas SQL. Algunas de las funcionalidades clave de pandas incluyen:"
   ]
  },
  {
   "cell_type": "code",
   "execution_count": 597,
   "metadata": {},
   "outputs": [
    {
     "data": {
      "text/html": [
       "<div>\n",
       "<style scoped>\n",
       "    .dataframe tbody tr th:only-of-type {\n",
       "        vertical-align: middle;\n",
       "    }\n",
       "\n",
       "    .dataframe tbody tr th {\n",
       "        vertical-align: top;\n",
       "    }\n",
       "\n",
       "    .dataframe thead th {\n",
       "        text-align: right;\n",
       "    }\n",
       "</style>\n",
       "<table border=\"1\" class=\"dataframe\">\n",
       "  <thead>\n",
       "    <tr style=\"text-align: right;\">\n",
       "      <th></th>\n",
       "      <th>id</th>\n",
       "      <th>date</th>\n",
       "      <th>price</th>\n",
       "      <th>bedrooms</th>\n",
       "      <th>bathrooms</th>\n",
       "      <th>sqft_living</th>\n",
       "      <th>sqft_lot</th>\n",
       "      <th>floors</th>\n",
       "      <th>waterfront</th>\n",
       "      <th>view</th>\n",
       "      <th>...</th>\n",
       "      <th>grade</th>\n",
       "      <th>sqft_above</th>\n",
       "      <th>sqft_basement</th>\n",
       "      <th>yr_built</th>\n",
       "      <th>yr_renovated</th>\n",
       "      <th>zipcode</th>\n",
       "      <th>lat</th>\n",
       "      <th>long</th>\n",
       "      <th>sqft_living15</th>\n",
       "      <th>sqft_lot15</th>\n",
       "    </tr>\n",
       "  </thead>\n",
       "  <tbody>\n",
       "    <tr>\n",
       "      <th>0</th>\n",
       "      <td>7129300520</td>\n",
       "      <td>20141013T000000</td>\n",
       "      <td>221900.0</td>\n",
       "      <td>3</td>\n",
       "      <td>1.00</td>\n",
       "      <td>1180</td>\n",
       "      <td>5650</td>\n",
       "      <td>1.0</td>\n",
       "      <td>0</td>\n",
       "      <td>0</td>\n",
       "      <td>...</td>\n",
       "      <td>7</td>\n",
       "      <td>1180</td>\n",
       "      <td>0</td>\n",
       "      <td>1955</td>\n",
       "      <td>0</td>\n",
       "      <td>98178</td>\n",
       "      <td>47.5112</td>\n",
       "      <td>-122.257</td>\n",
       "      <td>1340</td>\n",
       "      <td>5650</td>\n",
       "    </tr>\n",
       "    <tr>\n",
       "      <th>1</th>\n",
       "      <td>6414100192</td>\n",
       "      <td>20141209T000000</td>\n",
       "      <td>538000.0</td>\n",
       "      <td>3</td>\n",
       "      <td>2.25</td>\n",
       "      <td>2570</td>\n",
       "      <td>7242</td>\n",
       "      <td>2.0</td>\n",
       "      <td>0</td>\n",
       "      <td>0</td>\n",
       "      <td>...</td>\n",
       "      <td>7</td>\n",
       "      <td>2170</td>\n",
       "      <td>400</td>\n",
       "      <td>1951</td>\n",
       "      <td>1991</td>\n",
       "      <td>98125</td>\n",
       "      <td>47.7210</td>\n",
       "      <td>-122.319</td>\n",
       "      <td>1690</td>\n",
       "      <td>7639</td>\n",
       "    </tr>\n",
       "    <tr>\n",
       "      <th>2</th>\n",
       "      <td>5631500400</td>\n",
       "      <td>20150225T000000</td>\n",
       "      <td>180000.0</td>\n",
       "      <td>2</td>\n",
       "      <td>1.00</td>\n",
       "      <td>770</td>\n",
       "      <td>10000</td>\n",
       "      <td>1.0</td>\n",
       "      <td>0</td>\n",
       "      <td>0</td>\n",
       "      <td>...</td>\n",
       "      <td>6</td>\n",
       "      <td>770</td>\n",
       "      <td>0</td>\n",
       "      <td>1933</td>\n",
       "      <td>0</td>\n",
       "      <td>98028</td>\n",
       "      <td>47.7379</td>\n",
       "      <td>-122.233</td>\n",
       "      <td>2720</td>\n",
       "      <td>8062</td>\n",
       "    </tr>\n",
       "    <tr>\n",
       "      <th>3</th>\n",
       "      <td>2487200875</td>\n",
       "      <td>20141209T000000</td>\n",
       "      <td>604000.0</td>\n",
       "      <td>4</td>\n",
       "      <td>3.00</td>\n",
       "      <td>1960</td>\n",
       "      <td>5000</td>\n",
       "      <td>1.0</td>\n",
       "      <td>0</td>\n",
       "      <td>0</td>\n",
       "      <td>...</td>\n",
       "      <td>7</td>\n",
       "      <td>1050</td>\n",
       "      <td>910</td>\n",
       "      <td>1965</td>\n",
       "      <td>0</td>\n",
       "      <td>98136</td>\n",
       "      <td>47.5208</td>\n",
       "      <td>-122.393</td>\n",
       "      <td>1360</td>\n",
       "      <td>5000</td>\n",
       "    </tr>\n",
       "    <tr>\n",
       "      <th>4</th>\n",
       "      <td>1954400510</td>\n",
       "      <td>20150218T000000</td>\n",
       "      <td>510000.0</td>\n",
       "      <td>3</td>\n",
       "      <td>2.00</td>\n",
       "      <td>1680</td>\n",
       "      <td>8080</td>\n",
       "      <td>1.0</td>\n",
       "      <td>0</td>\n",
       "      <td>0</td>\n",
       "      <td>...</td>\n",
       "      <td>8</td>\n",
       "      <td>1680</td>\n",
       "      <td>0</td>\n",
       "      <td>1987</td>\n",
       "      <td>0</td>\n",
       "      <td>98074</td>\n",
       "      <td>47.6168</td>\n",
       "      <td>-122.045</td>\n",
       "      <td>1800</td>\n",
       "      <td>7503</td>\n",
       "    </tr>\n",
       "    <tr>\n",
       "      <th>...</th>\n",
       "      <td>...</td>\n",
       "      <td>...</td>\n",
       "      <td>...</td>\n",
       "      <td>...</td>\n",
       "      <td>...</td>\n",
       "      <td>...</td>\n",
       "      <td>...</td>\n",
       "      <td>...</td>\n",
       "      <td>...</td>\n",
       "      <td>...</td>\n",
       "      <td>...</td>\n",
       "      <td>...</td>\n",
       "      <td>...</td>\n",
       "      <td>...</td>\n",
       "      <td>...</td>\n",
       "      <td>...</td>\n",
       "      <td>...</td>\n",
       "      <td>...</td>\n",
       "      <td>...</td>\n",
       "      <td>...</td>\n",
       "      <td>...</td>\n",
       "    </tr>\n",
       "    <tr>\n",
       "      <th>21608</th>\n",
       "      <td>263000018</td>\n",
       "      <td>20140521T000000</td>\n",
       "      <td>360000.0</td>\n",
       "      <td>3</td>\n",
       "      <td>2.50</td>\n",
       "      <td>1530</td>\n",
       "      <td>1131</td>\n",
       "      <td>3.0</td>\n",
       "      <td>0</td>\n",
       "      <td>0</td>\n",
       "      <td>...</td>\n",
       "      <td>8</td>\n",
       "      <td>1530</td>\n",
       "      <td>0</td>\n",
       "      <td>2009</td>\n",
       "      <td>0</td>\n",
       "      <td>98103</td>\n",
       "      <td>47.6993</td>\n",
       "      <td>-122.346</td>\n",
       "      <td>1530</td>\n",
       "      <td>1509</td>\n",
       "    </tr>\n",
       "    <tr>\n",
       "      <th>21609</th>\n",
       "      <td>6600060120</td>\n",
       "      <td>20150223T000000</td>\n",
       "      <td>400000.0</td>\n",
       "      <td>4</td>\n",
       "      <td>2.50</td>\n",
       "      <td>2310</td>\n",
       "      <td>5813</td>\n",
       "      <td>2.0</td>\n",
       "      <td>0</td>\n",
       "      <td>0</td>\n",
       "      <td>...</td>\n",
       "      <td>8</td>\n",
       "      <td>2310</td>\n",
       "      <td>0</td>\n",
       "      <td>2014</td>\n",
       "      <td>0</td>\n",
       "      <td>98146</td>\n",
       "      <td>47.5107</td>\n",
       "      <td>-122.362</td>\n",
       "      <td>1830</td>\n",
       "      <td>7200</td>\n",
       "    </tr>\n",
       "    <tr>\n",
       "      <th>21610</th>\n",
       "      <td>1523300141</td>\n",
       "      <td>20140623T000000</td>\n",
       "      <td>402101.0</td>\n",
       "      <td>2</td>\n",
       "      <td>0.75</td>\n",
       "      <td>1020</td>\n",
       "      <td>1350</td>\n",
       "      <td>2.0</td>\n",
       "      <td>0</td>\n",
       "      <td>0</td>\n",
       "      <td>...</td>\n",
       "      <td>7</td>\n",
       "      <td>1020</td>\n",
       "      <td>0</td>\n",
       "      <td>2009</td>\n",
       "      <td>0</td>\n",
       "      <td>98144</td>\n",
       "      <td>47.5944</td>\n",
       "      <td>-122.299</td>\n",
       "      <td>1020</td>\n",
       "      <td>2007</td>\n",
       "    </tr>\n",
       "    <tr>\n",
       "      <th>21611</th>\n",
       "      <td>291310100</td>\n",
       "      <td>20150116T000000</td>\n",
       "      <td>400000.0</td>\n",
       "      <td>3</td>\n",
       "      <td>2.50</td>\n",
       "      <td>1600</td>\n",
       "      <td>2388</td>\n",
       "      <td>2.0</td>\n",
       "      <td>0</td>\n",
       "      <td>0</td>\n",
       "      <td>...</td>\n",
       "      <td>8</td>\n",
       "      <td>1600</td>\n",
       "      <td>0</td>\n",
       "      <td>2004</td>\n",
       "      <td>0</td>\n",
       "      <td>98027</td>\n",
       "      <td>47.5345</td>\n",
       "      <td>-122.069</td>\n",
       "      <td>1410</td>\n",
       "      <td>1287</td>\n",
       "    </tr>\n",
       "    <tr>\n",
       "      <th>21612</th>\n",
       "      <td>1523300157</td>\n",
       "      <td>20141015T000000</td>\n",
       "      <td>325000.0</td>\n",
       "      <td>2</td>\n",
       "      <td>0.75</td>\n",
       "      <td>1020</td>\n",
       "      <td>1076</td>\n",
       "      <td>2.0</td>\n",
       "      <td>0</td>\n",
       "      <td>0</td>\n",
       "      <td>...</td>\n",
       "      <td>7</td>\n",
       "      <td>1020</td>\n",
       "      <td>0</td>\n",
       "      <td>2008</td>\n",
       "      <td>0</td>\n",
       "      <td>98144</td>\n",
       "      <td>47.5941</td>\n",
       "      <td>-122.299</td>\n",
       "      <td>1020</td>\n",
       "      <td>1357</td>\n",
       "    </tr>\n",
       "  </tbody>\n",
       "</table>\n",
       "<p>21613 rows × 21 columns</p>\n",
       "</div>"
      ],
      "text/plain": [
       "               id             date     price  bedrooms  bathrooms  \\\n",
       "0      7129300520  20141013T000000  221900.0         3       1.00   \n",
       "1      6414100192  20141209T000000  538000.0         3       2.25   \n",
       "2      5631500400  20150225T000000  180000.0         2       1.00   \n",
       "3      2487200875  20141209T000000  604000.0         4       3.00   \n",
       "4      1954400510  20150218T000000  510000.0         3       2.00   \n",
       "...           ...              ...       ...       ...        ...   \n",
       "21608   263000018  20140521T000000  360000.0         3       2.50   \n",
       "21609  6600060120  20150223T000000  400000.0         4       2.50   \n",
       "21610  1523300141  20140623T000000  402101.0         2       0.75   \n",
       "21611   291310100  20150116T000000  400000.0         3       2.50   \n",
       "21612  1523300157  20141015T000000  325000.0         2       0.75   \n",
       "\n",
       "       sqft_living  sqft_lot  floors  waterfront  view  ...  grade  \\\n",
       "0             1180      5650     1.0           0     0  ...      7   \n",
       "1             2570      7242     2.0           0     0  ...      7   \n",
       "2              770     10000     1.0           0     0  ...      6   \n",
       "3             1960      5000     1.0           0     0  ...      7   \n",
       "4             1680      8080     1.0           0     0  ...      8   \n",
       "...            ...       ...     ...         ...   ...  ...    ...   \n",
       "21608         1530      1131     3.0           0     0  ...      8   \n",
       "21609         2310      5813     2.0           0     0  ...      8   \n",
       "21610         1020      1350     2.0           0     0  ...      7   \n",
       "21611         1600      2388     2.0           0     0  ...      8   \n",
       "21612         1020      1076     2.0           0     0  ...      7   \n",
       "\n",
       "       sqft_above  sqft_basement  yr_built  yr_renovated  zipcode      lat  \\\n",
       "0            1180              0      1955             0    98178  47.5112   \n",
       "1            2170            400      1951          1991    98125  47.7210   \n",
       "2             770              0      1933             0    98028  47.7379   \n",
       "3            1050            910      1965             0    98136  47.5208   \n",
       "4            1680              0      1987             0    98074  47.6168   \n",
       "...           ...            ...       ...           ...      ...      ...   \n",
       "21608        1530              0      2009             0    98103  47.6993   \n",
       "21609        2310              0      2014             0    98146  47.5107   \n",
       "21610        1020              0      2009             0    98144  47.5944   \n",
       "21611        1600              0      2004             0    98027  47.5345   \n",
       "21612        1020              0      2008             0    98144  47.5941   \n",
       "\n",
       "          long  sqft_living15  sqft_lot15  \n",
       "0     -122.257           1340        5650  \n",
       "1     -122.319           1690        7639  \n",
       "2     -122.233           2720        8062  \n",
       "3     -122.393           1360        5000  \n",
       "4     -122.045           1800        7503  \n",
       "...        ...            ...         ...  \n",
       "21608 -122.346           1530        1509  \n",
       "21609 -122.362           1830        7200  \n",
       "21610 -122.299           1020        2007  \n",
       "21611 -122.069           1410        1287  \n",
       "21612 -122.299           1020        1357  \n",
       "\n",
       "[21613 rows x 21 columns]"
      ]
     },
     "execution_count": 597,
     "metadata": {},
     "output_type": "execute_result"
    }
   ],
   "source": [
    "#cargamos el dataset a un dataframe\n",
    "df = pd.read_csv('kc_house_data.csv', delimiter=',')\n",
    "\n",
    "#mostramos el dataset\n",
    "df"
   ]
  },
  {
   "cell_type": "markdown",
   "metadata": {},
   "source": [
    "## Analisis del dataset\n",
    "Hacemos un analisis del dataset mostrando su informacion usando la funcion de `info()`:"
   ]
  },
  {
   "cell_type": "code",
   "execution_count": 598,
   "metadata": {},
   "outputs": [
    {
     "name": "stdout",
     "output_type": "stream",
     "text": [
      "<class 'pandas.core.frame.DataFrame'>\n",
      "RangeIndex: 21613 entries, 0 to 21612\n",
      "Data columns (total 21 columns):\n",
      " #   Column         Non-Null Count  Dtype  \n",
      "---  ------         --------------  -----  \n",
      " 0   id             21613 non-null  int64  \n",
      " 1   date           21613 non-null  object \n",
      " 2   price          21613 non-null  float64\n",
      " 3   bedrooms       21613 non-null  int64  \n",
      " 4   bathrooms      21613 non-null  float64\n",
      " 5   sqft_living    21613 non-null  int64  \n",
      " 6   sqft_lot       21613 non-null  int64  \n",
      " 7   floors         21613 non-null  float64\n",
      " 8   waterfront     21613 non-null  int64  \n",
      " 9   view           21613 non-null  int64  \n",
      " 10  condition      21613 non-null  int64  \n",
      " 11  grade          21613 non-null  int64  \n",
      " 12  sqft_above     21613 non-null  int64  \n",
      " 13  sqft_basement  21613 non-null  int64  \n",
      " 14  yr_built       21613 non-null  int64  \n",
      " 15  yr_renovated   21613 non-null  int64  \n",
      " 16  zipcode        21613 non-null  int64  \n",
      " 17  lat            21613 non-null  float64\n",
      " 18  long           21613 non-null  float64\n",
      " 19  sqft_living15  21613 non-null  int64  \n",
      " 20  sqft_lot15     21613 non-null  int64  \n",
      "dtypes: float64(5), int64(15), object(1)\n",
      "memory usage: 3.5+ MB\n"
     ]
    }
   ],
   "source": [
    "df.info()"
   ]
  },
  {
   "cell_type": "code",
   "execution_count": 599,
   "metadata": {},
   "outputs": [
    {
     "data": {
      "text/html": [
       "<div>\n",
       "<style scoped>\n",
       "    .dataframe tbody tr th:only-of-type {\n",
       "        vertical-align: middle;\n",
       "    }\n",
       "\n",
       "    .dataframe tbody tr th {\n",
       "        vertical-align: top;\n",
       "    }\n",
       "\n",
       "    .dataframe thead th {\n",
       "        text-align: right;\n",
       "    }\n",
       "</style>\n",
       "<table border=\"1\" class=\"dataframe\">\n",
       "  <thead>\n",
       "    <tr style=\"text-align: right;\">\n",
       "      <th></th>\n",
       "      <th>price</th>\n",
       "      <th>bedrooms</th>\n",
       "      <th>bathrooms</th>\n",
       "      <th>sqft_living</th>\n",
       "      <th>sqft_lot</th>\n",
       "      <th>floors</th>\n",
       "      <th>waterfront</th>\n",
       "      <th>view</th>\n",
       "      <th>condition</th>\n",
       "      <th>grade</th>\n",
       "      <th>sqft_above</th>\n",
       "      <th>sqft_basement</th>\n",
       "      <th>yr_built</th>\n",
       "      <th>yr_renovated</th>\n",
       "      <th>zipcode</th>\n",
       "      <th>lat</th>\n",
       "      <th>long</th>\n",
       "      <th>sqft_living15</th>\n",
       "      <th>sqft_lot15</th>\n",
       "    </tr>\n",
       "  </thead>\n",
       "  <tbody>\n",
       "    <tr>\n",
       "      <th>0</th>\n",
       "      <td>221900.0</td>\n",
       "      <td>3.0</td>\n",
       "      <td>1.00</td>\n",
       "      <td>1180.0</td>\n",
       "      <td>5650.0</td>\n",
       "      <td>1.0</td>\n",
       "      <td>0.0</td>\n",
       "      <td>0.0</td>\n",
       "      <td>3.0</td>\n",
       "      <td>7.0</td>\n",
       "      <td>1180.0</td>\n",
       "      <td>0.0</td>\n",
       "      <td>1955.0</td>\n",
       "      <td>0.0</td>\n",
       "      <td>98178.0</td>\n",
       "      <td>47.5112</td>\n",
       "      <td>-122.257</td>\n",
       "      <td>1340.0</td>\n",
       "      <td>5650.0</td>\n",
       "    </tr>\n",
       "    <tr>\n",
       "      <th>1</th>\n",
       "      <td>538000.0</td>\n",
       "      <td>3.0</td>\n",
       "      <td>2.25</td>\n",
       "      <td>2570.0</td>\n",
       "      <td>7242.0</td>\n",
       "      <td>2.0</td>\n",
       "      <td>0.0</td>\n",
       "      <td>0.0</td>\n",
       "      <td>3.0</td>\n",
       "      <td>7.0</td>\n",
       "      <td>2170.0</td>\n",
       "      <td>400.0</td>\n",
       "      <td>1951.0</td>\n",
       "      <td>1991.0</td>\n",
       "      <td>98125.0</td>\n",
       "      <td>47.7210</td>\n",
       "      <td>-122.319</td>\n",
       "      <td>1690.0</td>\n",
       "      <td>7639.0</td>\n",
       "    </tr>\n",
       "    <tr>\n",
       "      <th>2</th>\n",
       "      <td>180000.0</td>\n",
       "      <td>2.0</td>\n",
       "      <td>1.00</td>\n",
       "      <td>770.0</td>\n",
       "      <td>10000.0</td>\n",
       "      <td>1.0</td>\n",
       "      <td>0.0</td>\n",
       "      <td>0.0</td>\n",
       "      <td>3.0</td>\n",
       "      <td>6.0</td>\n",
       "      <td>770.0</td>\n",
       "      <td>0.0</td>\n",
       "      <td>1933.0</td>\n",
       "      <td>0.0</td>\n",
       "      <td>98028.0</td>\n",
       "      <td>47.7379</td>\n",
       "      <td>-122.233</td>\n",
       "      <td>2720.0</td>\n",
       "      <td>8062.0</td>\n",
       "    </tr>\n",
       "    <tr>\n",
       "      <th>3</th>\n",
       "      <td>604000.0</td>\n",
       "      <td>4.0</td>\n",
       "      <td>3.00</td>\n",
       "      <td>1960.0</td>\n",
       "      <td>5000.0</td>\n",
       "      <td>1.0</td>\n",
       "      <td>0.0</td>\n",
       "      <td>0.0</td>\n",
       "      <td>5.0</td>\n",
       "      <td>7.0</td>\n",
       "      <td>1050.0</td>\n",
       "      <td>910.0</td>\n",
       "      <td>1965.0</td>\n",
       "      <td>0.0</td>\n",
       "      <td>98136.0</td>\n",
       "      <td>47.5208</td>\n",
       "      <td>-122.393</td>\n",
       "      <td>1360.0</td>\n",
       "      <td>5000.0</td>\n",
       "    </tr>\n",
       "    <tr>\n",
       "      <th>4</th>\n",
       "      <td>510000.0</td>\n",
       "      <td>3.0</td>\n",
       "      <td>2.00</td>\n",
       "      <td>1680.0</td>\n",
       "      <td>8080.0</td>\n",
       "      <td>1.0</td>\n",
       "      <td>0.0</td>\n",
       "      <td>0.0</td>\n",
       "      <td>3.0</td>\n",
       "      <td>8.0</td>\n",
       "      <td>1680.0</td>\n",
       "      <td>0.0</td>\n",
       "      <td>1987.0</td>\n",
       "      <td>0.0</td>\n",
       "      <td>98074.0</td>\n",
       "      <td>47.6168</td>\n",
       "      <td>-122.045</td>\n",
       "      <td>1800.0</td>\n",
       "      <td>7503.0</td>\n",
       "    </tr>\n",
       "    <tr>\n",
       "      <th>...</th>\n",
       "      <td>...</td>\n",
       "      <td>...</td>\n",
       "      <td>...</td>\n",
       "      <td>...</td>\n",
       "      <td>...</td>\n",
       "      <td>...</td>\n",
       "      <td>...</td>\n",
       "      <td>...</td>\n",
       "      <td>...</td>\n",
       "      <td>...</td>\n",
       "      <td>...</td>\n",
       "      <td>...</td>\n",
       "      <td>...</td>\n",
       "      <td>...</td>\n",
       "      <td>...</td>\n",
       "      <td>...</td>\n",
       "      <td>...</td>\n",
       "      <td>...</td>\n",
       "      <td>...</td>\n",
       "    </tr>\n",
       "    <tr>\n",
       "      <th>21608</th>\n",
       "      <td>360000.0</td>\n",
       "      <td>3.0</td>\n",
       "      <td>2.50</td>\n",
       "      <td>1530.0</td>\n",
       "      <td>1131.0</td>\n",
       "      <td>3.0</td>\n",
       "      <td>0.0</td>\n",
       "      <td>0.0</td>\n",
       "      <td>3.0</td>\n",
       "      <td>8.0</td>\n",
       "      <td>1530.0</td>\n",
       "      <td>0.0</td>\n",
       "      <td>2009.0</td>\n",
       "      <td>0.0</td>\n",
       "      <td>98103.0</td>\n",
       "      <td>47.6993</td>\n",
       "      <td>-122.346</td>\n",
       "      <td>1530.0</td>\n",
       "      <td>1509.0</td>\n",
       "    </tr>\n",
       "    <tr>\n",
       "      <th>21609</th>\n",
       "      <td>400000.0</td>\n",
       "      <td>4.0</td>\n",
       "      <td>2.50</td>\n",
       "      <td>2310.0</td>\n",
       "      <td>5813.0</td>\n",
       "      <td>2.0</td>\n",
       "      <td>0.0</td>\n",
       "      <td>0.0</td>\n",
       "      <td>3.0</td>\n",
       "      <td>8.0</td>\n",
       "      <td>2310.0</td>\n",
       "      <td>0.0</td>\n",
       "      <td>2014.0</td>\n",
       "      <td>0.0</td>\n",
       "      <td>98146.0</td>\n",
       "      <td>47.5107</td>\n",
       "      <td>-122.362</td>\n",
       "      <td>1830.0</td>\n",
       "      <td>7200.0</td>\n",
       "    </tr>\n",
       "    <tr>\n",
       "      <th>21610</th>\n",
       "      <td>402101.0</td>\n",
       "      <td>2.0</td>\n",
       "      <td>0.75</td>\n",
       "      <td>1020.0</td>\n",
       "      <td>1350.0</td>\n",
       "      <td>2.0</td>\n",
       "      <td>0.0</td>\n",
       "      <td>0.0</td>\n",
       "      <td>3.0</td>\n",
       "      <td>7.0</td>\n",
       "      <td>1020.0</td>\n",
       "      <td>0.0</td>\n",
       "      <td>2009.0</td>\n",
       "      <td>0.0</td>\n",
       "      <td>98144.0</td>\n",
       "      <td>47.5944</td>\n",
       "      <td>-122.299</td>\n",
       "      <td>1020.0</td>\n",
       "      <td>2007.0</td>\n",
       "    </tr>\n",
       "    <tr>\n",
       "      <th>21611</th>\n",
       "      <td>400000.0</td>\n",
       "      <td>3.0</td>\n",
       "      <td>2.50</td>\n",
       "      <td>1600.0</td>\n",
       "      <td>2388.0</td>\n",
       "      <td>2.0</td>\n",
       "      <td>0.0</td>\n",
       "      <td>0.0</td>\n",
       "      <td>3.0</td>\n",
       "      <td>8.0</td>\n",
       "      <td>1600.0</td>\n",
       "      <td>0.0</td>\n",
       "      <td>2004.0</td>\n",
       "      <td>0.0</td>\n",
       "      <td>98027.0</td>\n",
       "      <td>47.5345</td>\n",
       "      <td>-122.069</td>\n",
       "      <td>1410.0</td>\n",
       "      <td>1287.0</td>\n",
       "    </tr>\n",
       "    <tr>\n",
       "      <th>21612</th>\n",
       "      <td>325000.0</td>\n",
       "      <td>2.0</td>\n",
       "      <td>0.75</td>\n",
       "      <td>1020.0</td>\n",
       "      <td>1076.0</td>\n",
       "      <td>2.0</td>\n",
       "      <td>0.0</td>\n",
       "      <td>0.0</td>\n",
       "      <td>3.0</td>\n",
       "      <td>7.0</td>\n",
       "      <td>1020.0</td>\n",
       "      <td>0.0</td>\n",
       "      <td>2008.0</td>\n",
       "      <td>0.0</td>\n",
       "      <td>98144.0</td>\n",
       "      <td>47.5941</td>\n",
       "      <td>-122.299</td>\n",
       "      <td>1020.0</td>\n",
       "      <td>1357.0</td>\n",
       "    </tr>\n",
       "  </tbody>\n",
       "</table>\n",
       "<p>21613 rows × 19 columns</p>\n",
       "</div>"
      ],
      "text/plain": [
       "          price  bedrooms  bathrooms  sqft_living  sqft_lot  floors  \\\n",
       "0      221900.0       3.0       1.00       1180.0    5650.0     1.0   \n",
       "1      538000.0       3.0       2.25       2570.0    7242.0     2.0   \n",
       "2      180000.0       2.0       1.00        770.0   10000.0     1.0   \n",
       "3      604000.0       4.0       3.00       1960.0    5000.0     1.0   \n",
       "4      510000.0       3.0       2.00       1680.0    8080.0     1.0   \n",
       "...         ...       ...        ...          ...       ...     ...   \n",
       "21608  360000.0       3.0       2.50       1530.0    1131.0     3.0   \n",
       "21609  400000.0       4.0       2.50       2310.0    5813.0     2.0   \n",
       "21610  402101.0       2.0       0.75       1020.0    1350.0     2.0   \n",
       "21611  400000.0       3.0       2.50       1600.0    2388.0     2.0   \n",
       "21612  325000.0       2.0       0.75       1020.0    1076.0     2.0   \n",
       "\n",
       "       waterfront  view  condition  grade  sqft_above  sqft_basement  \\\n",
       "0             0.0   0.0        3.0    7.0      1180.0            0.0   \n",
       "1             0.0   0.0        3.0    7.0      2170.0          400.0   \n",
       "2             0.0   0.0        3.0    6.0       770.0            0.0   \n",
       "3             0.0   0.0        5.0    7.0      1050.0          910.0   \n",
       "4             0.0   0.0        3.0    8.0      1680.0            0.0   \n",
       "...           ...   ...        ...    ...         ...            ...   \n",
       "21608         0.0   0.0        3.0    8.0      1530.0            0.0   \n",
       "21609         0.0   0.0        3.0    8.0      2310.0            0.0   \n",
       "21610         0.0   0.0        3.0    7.0      1020.0            0.0   \n",
       "21611         0.0   0.0        3.0    8.0      1600.0            0.0   \n",
       "21612         0.0   0.0        3.0    7.0      1020.0            0.0   \n",
       "\n",
       "       yr_built  yr_renovated  zipcode      lat     long  sqft_living15  \\\n",
       "0        1955.0           0.0  98178.0  47.5112 -122.257         1340.0   \n",
       "1        1951.0        1991.0  98125.0  47.7210 -122.319         1690.0   \n",
       "2        1933.0           0.0  98028.0  47.7379 -122.233         2720.0   \n",
       "3        1965.0           0.0  98136.0  47.5208 -122.393         1360.0   \n",
       "4        1987.0           0.0  98074.0  47.6168 -122.045         1800.0   \n",
       "...         ...           ...      ...      ...      ...            ...   \n",
       "21608    2009.0           0.0  98103.0  47.6993 -122.346         1530.0   \n",
       "21609    2014.0           0.0  98146.0  47.5107 -122.362         1830.0   \n",
       "21610    2009.0           0.0  98144.0  47.5944 -122.299         1020.0   \n",
       "21611    2004.0           0.0  98027.0  47.5345 -122.069         1410.0   \n",
       "21612    2008.0           0.0  98144.0  47.5941 -122.299         1020.0   \n",
       "\n",
       "       sqft_lot15  \n",
       "0          5650.0  \n",
       "1          7639.0  \n",
       "2          8062.0  \n",
       "3          5000.0  \n",
       "4          7503.0  \n",
       "...           ...  \n",
       "21608      1509.0  \n",
       "21609      7200.0  \n",
       "21610      2007.0  \n",
       "21611      1287.0  \n",
       "21612      1357.0  \n",
       "\n",
       "[21613 rows x 19 columns]"
      ]
     },
     "execution_count": 599,
     "metadata": {},
     "output_type": "execute_result"
    }
   ],
   "source": [
    "dataset = df.drop(['id', 'date'], axis=1).astype(float)\n",
    "dataset"
   ]
  },
  {
   "cell_type": "markdown",
   "metadata": {},
   "source": [
    "Se puede notar que nuestro dataset cuenta con 21 columnas, donde nuestra colummna `price` sera nuestra Y_predicha, el cual se busca calcular el precio de una casa dada 20 caracteristicas."
   ]
  },
  {
   "cell_type": "markdown",
   "metadata": {},
   "source": [
    "## Separacion del 80% de los datos para entrenamiento y 20% para pruebas\n",
    "\n",
    "Haremos uso de la libreria `sklearn` haciendo uso de su funcion `train_test_split()`, donde recibe como parametros:\n",
    "\n",
    "`Arrays o matrices de características (X): `Estos son los datos que se utilizarán para hacer predicciones. Por lo general, son las variables independientes o características del conjunto de datos.\n",
    "\n",
    "`test_size (opcional):` Este parámetro especifica el tamaño del conjunto de prueba. Puede ser un número decimal entre 0 y 1, que representa el porcentaje del conjunto de datos que se asignará al conjunto de prueba, o puede ser un entero que representa el número absoluto de muestras en el conjunto de prueba. Por ejemplo, si test_size=0.2, se asignará el 20% del conjunto de datos al conjunto de prueba.\n",
    "\n",
    "`train_size (opcional):` Este parámetro especifica el tamaño del conjunto de entrenamiento. Al igual que test_size, puede ser un número decimal entre 0 y 1 o un entero que representa el número absoluto de muestras en el conjunto de entrenamiento. Si no se proporciona, se calcula automáticamente como 1 - test_size.\n",
    "\n",
    "`random_state (opcional):` Este parámetro permite establecer una semilla para la generación de números pseudoaleatorios. Esto garantiza que la división de los datos sea reproducible. Si se establece en un número entero, el resultado será el mismo cada vez que se ejecute el código."
   ]
  },
  {
   "cell_type": "code",
   "execution_count": 600,
   "metadata": {},
   "outputs": [
    {
     "name": "stdout",
     "output_type": "stream",
     "text": [
      "  X[:,0] X[:, 1]   X[:, 2]   X[:, 3] X[:, 4] X[:, 5] X[:, 6] X[:, 7]X[:, 8]   X[:, 9]  X[:, 10]  X[:, 11]  X[:, 12]  X[:, 13]  X[:, 14]  X[:, 15]  X[:, 16]  X[:, 17]         Y\n",
      "------------------------------------------------------------------------------------------------------------------------------------------------------------------------------------\n",
      "       3       2      1780     13095       1       0       0       4       9      1780       0      1983         0     98042     47.37   -122.15      2750      13095        325000\n",
      "       2       1      1000      3700       1       0       0       3       6       800     200      1929         0     98118     47.55   -122.29      1270       5000        257000\n",
      "       3       1      1080      7486       2       0       0       3       6       990      90      1942         0     98146     47.48   -122.33      1170       7800        228500\n",
      "       3       2      2090      7500       1       0       0       4       7      1280     810      1977         0     98031     47.40   -122.17      1800       7350        288000\n",
      "       2       2      1741      1439       2       0       0       3       8      1446     295      2007         0     98034     47.70   -122.21      2090      10454        479000\n",
      "       3       2      2340     51836       2       0       0       3       8      1510     830      1978         0     98027     47.48   -122.03      2060      77536        459900\n",
      "       5       3      2040      7488       1       0       0       4       7      1200     840      1969         0     98034     47.73   -122.17      1530       7488        449500\n",
      "       5       2      3320     13138       1       0       2       4       9      1900    1420      1964         0     98028     47.76   -122.27      2820      13138        769000\n",
      "       3       2      1760      8400       1       0       0       4       8      1460     300      1960         0     98136     47.54   -122.39      1980       8400        680000\n",
      "       3       2      1610      5024       2       0       0       3       7      1610       0      2004         0     98038     47.38   -122.04      1790       3717        293500\n"
     ]
    }
   ],
   "source": [
    "#retiramos el id y la fecha del las columnas, quitamos el precio ya que ira a el vector Y, tambien quitamos los titulos, covierto a float\n",
    "dataset = df.drop(['id', 'date'], axis=1).astype(float)\n",
    "\n",
    "#separamos el 20% para test y el 80% para entrenamiento deld dataset\n",
    "train_dataset, test_dataset = train_test_split(dataset, test_size=0.2, random_state=42)\n",
    "\n",
    "# Seleccionamos las columnas para X y la columna 'price' para y\n",
    "X_test = test_dataset.drop(['price'], axis=1).values\n",
    "y_test = test_dataset['price'].values\n",
    "m_test = len(y_test)\n",
    "\n",
    "# Seleccionamos las columnas para X y la columna 'price' para y\n",
    "X_train = train_dataset.drop(['price'], axis=1).values\n",
    "y_train = train_dataset['price'].values\n",
    "m_train = len(y_test)\n",
    "# Ahora, X y y deberían contener datos numéricos del 80% del dataset\n",
    "\n",
    "# imprimir todos las X de datos solo 10\n",
    "print('{:>8s}{:>8s}{:>10s}{:>10s}{:>8s}{:>8s}{:>8s}{:>8s}{:>6s}{:>10s}{:>10s}{:>10s}{:>10s}{:>10s}{:>10s}{:>10s}{:>10s}{:>10s}{:>10s}'.format(\n",
    "    'X[:,0]', 'X[:, 1]', 'X[:, 2]', 'X[:, 3]', 'X[:, 4]', 'X[:, 5]', 'X[:, 6]', 'X[:, 7]', 'X[:, 8]', 'X[:, 9]', 'X[:, 10]', 'X[:, 11]',\n",
    "    'X[:, 12]', 'X[:, 13]', 'X[:, 14]', 'X[:, 15]', 'X[:, 16]', 'X[:, 17]', 'Y'\n",
    "))\n",
    "print('-' * 180)\n",
    "\n",
    "for i in range(10):\n",
    "    print('{:8.0f}{:8.0f}{:10.0f}{:10.0f}{:8.0f}{:8.0f}{:8.0f}{:8.0f}{:8.0f}{:10.0f}{:8.0f}{:10.0f}{:10.0f}{:10.0f}{:10.2f}{:10.2f}{:10.0f}{:11.0f}{:14.0f}'.format(\n",
    "        X_train[i, 0], \n",
    "        X_train[i, 1], \n",
    "        X_train[i, 2], \n",
    "        X_train[i, 3], \n",
    "        X_train[i, 4], \n",
    "        X_train[i, 5], \n",
    "        X_train[i, 6], \n",
    "        X_train[i, 7], \n",
    "        X_train[i, 8], \n",
    "        X_train[i, 9], \n",
    "        X_train[i, 10], \n",
    "        X_train[i, 11],\n",
    "        X_train[i, 12],\n",
    "        X_train[i, 13], \n",
    "        X_train[i, 14], \n",
    "        X_train[i, 15], \n",
    "        X_train[i, 16], \n",
    "        X_train[i, 17], \n",
    "        y_train[i]\n",
    "    ))\n"
   ]
  },
  {
   "cell_type": "code",
   "execution_count": 601,
   "metadata": {},
   "outputs": [
    {
     "name": "stdout",
     "output_type": "stream",
     "text": [
      " \n",
      "El 80% de ejemplos para entrenamiento son la cantidad de: 17290 de ejemplos\n",
      "El 20% de ejemplos para pruebas son la cantidad de: 4323 de ejemplos\n",
      "La cantidad total de ejemplos es de: 21613 de ejemplos\n"
     ]
    }
   ],
   "source": [
    "#mostramos la cantidad de ejemplos\n",
    "print(\" \")\n",
    "print('El 80% de ejemplos para entrenamiento son la cantidad de: {:.0f} de ejemplos'.format( len(train_dataset)))\n",
    "print('El 20% de ejemplos para pruebas son la cantidad de: {:.0f} de ejemplos'.format( len(test_dataset)))\n",
    "print('La cantidad total de ejemplos es de: {:.0f} de ejemplos'.format( len(dataset)))"
   ]
  },
  {
   "cell_type": "markdown",
   "metadata": {},
   "source": [
    "## Funcion para la Normalización de caracteristicas\n",
    "\n",
    "Al visualizar los datos se puede observar que las caracteristicas tienen diferentes magnitudes, por lo cual se debe transformar cada valor en una escala de valores similares, esto con el fin de que el descenso por el gradiente pueda converger mas rapidamente. En este caso\n",
    "\n",
    "Hacemos el uso de la siguiente funcion para normalizar los datos:"
   ]
  },
  {
   "cell_type": "code",
   "execution_count": 602,
   "metadata": {},
   "outputs": [],
   "source": [
    "def  featureNormalize(X):\n",
    "    X_norm = X.copy()\n",
    "\n",
    "    #creamos un array de ceros con una longitud igual al número de columnas en el array X. La variable mu y sigma se inicializa como este array de ceros.\n",
    "    mu = np.zeros(X.shape[1])\n",
    "    sigma = np.zeros(X.shape[1])\n",
    "\n",
    "    #Creamos el promedio de cada filaa de X\n",
    "    #media de cada columna\n",
    "    mu = np.mean(X, axis = 0)\n",
    "    \n",
    "    #desviacion estandar de cada fila de X\n",
    "    sigma = np.std(X, axis = 0)\n",
    "    \n",
    "    sigma[sigma == 0] = 1\n",
    "    \n",
    "    #normalizamos los datos con la siguiente formula\n",
    "    X_norm = (X - mu) / sigma\n",
    "\n",
    "    return X_norm, mu, sigma"
   ]
  },
  {
   "cell_type": "markdown",
   "metadata": {},
   "source": [
    "## Funcion para graficar"
   ]
  },
  {
   "cell_type": "code",
   "execution_count": 603,
   "metadata": {},
   "outputs": [],
   "source": [
    "# Creamos una funcion que nos ayude con las graficas de cada dato respecto a la Y predicha\n",
    "def graficarDatos(x, y, xlabel, ylabel):\n",
    "    fig = pyplot.figure()\n",
    "    pyplot.plot(x, y, 'ro', ms=10, mec='k')\n",
    "\n",
    "    pyplot.xlabel(xlabel)\n",
    "    pyplot.ylabel(ylabel)"
   ]
  },
  {
   "cell_type": "markdown",
   "metadata": {},
   "source": [
    "## Creacion de la funcion del error cuadratico medio"
   ]
  },
  {
   "cell_type": "code",
   "execution_count": 604,
   "metadata": {},
   "outputs": [],
   "source": [
    "#Creamos la funcion:\n",
    "def mean_squared_error(y_pred, y_actual):\n",
    "    resta = y_pred - y_actual\n",
    "    err_cuadrado = np.sum(resta ** 2)\n",
    "    return err_cuadrado / len(y_pred)"
   ]
  },
  {
   "cell_type": "markdown",
   "metadata": {},
   "source": [
    "## Funcion de calculo de costo con regularizacion"
   ]
  },
  {
   "cell_type": "code",
   "execution_count": 605,
   "metadata": {},
   "outputs": [],
   "source": [
    "#aumentamos el parametro de lambda para aplicar regularizacion\n",
    "#Creamos la funcion de calcular costo\n",
    "def calcularCostoCR(X, y, theta, lambda_):\n",
    "    m = y.size\n",
    "    J = 0\n",
    "    \n",
    "    #creamos una varable temporal para theta, donde decimos que el primer valor de temp es 0, esto para respetar la formula donde j = 1\n",
    "    temp = theta.copy()\n",
    "    #definimos el primer valor de temp como 0 esto para no afectar a los 1 en nuestra matriz X\n",
    "    temp[0] = 0\n",
    "    #h = np.dot(X, theta)\n",
    "    # print(h)\n",
    "    J = (1/(2 * m)) * np.sum(np.square(np.dot(X, theta) - y)) - (lambda_)* np.sum(np.square(temp))\n",
    "    return J"
   ]
  },
  {
   "cell_type": "markdown",
   "metadata": {},
   "source": [
    "### Funcion de descenso por el gradiente con regularizacion"
   ]
  },
  {
   "cell_type": "code",
   "execution_count": 606,
   "metadata": {},
   "outputs": [],
   "source": [
    "#Creamos la funcion para calcular el descenso por Gradiente\n",
    "def calcularDescensoGradienteCR(X, y, theta, alpha,lambda_, numero_iteraciones):\n",
    "    m = y.shape[0]\n",
    "    theta = theta.copy()\n",
    "    J_historico = []\n",
    "\n",
    "    for i in range(numero_iteraciones):\n",
    "        \n",
    "        \n",
    "        theta = theta*(1-((alpha*lambda_)/m)) - (alpha / m) * (np.dot(X, theta) - y).dot(X)\n",
    "        # se hace uso de la funcion de costo para calcular el costo en cada iteracion, sin olvidar del parametro lambda_\n",
    "        J_historico.append(calcularCostoCR(X, y, theta, lambda_))\n",
    "\n",
    "    return theta, J_historico"
   ]
  },
  {
   "cell_type": "markdown",
   "metadata": {},
   "source": [
    "## Funcion de calculo de costo sin regularizacion"
   ]
  },
  {
   "cell_type": "code",
   "execution_count": 607,
   "metadata": {},
   "outputs": [],
   "source": [
    "def calcularCostoSR(X, y, theta):\n",
    "    m = y.size\n",
    "    J = 0\n",
    "    #h = np.dot(X, theta)\n",
    "    # print(h)\n",
    "    J = (1/(2 * m)) * np.sum(np.square(np.dot(X, theta) - y))\n",
    "    return J"
   ]
  },
  {
   "cell_type": "markdown",
   "metadata": {},
   "source": [
    "### Funcion de descenso por el gradiente sin regularizacion"
   ]
  },
  {
   "cell_type": "code",
   "execution_count": 608,
   "metadata": {},
   "outputs": [],
   "source": [
    "#Creamos la funcion para calcular el descenso por Gradiente\n",
    "def calcularDescensoGradienteSR(X, y, theta, alpha, numero_iteraciones):\n",
    "    m = y.shape[0]\n",
    "    theta = theta.copy()\n",
    "    J_historico = []\n",
    "\n",
    "    for i in range(numero_iteraciones):\n",
    "        \n",
    "        theta = theta - (alpha / m) * (np.dot(X, theta) - y).dot(X)\n",
    "        # se hace uso de la funcion de costo para calcular el costo en cada iteracion\n",
    "        J_historico.append(calcularCostoSR(X, y, theta))\n",
    "\n",
    "    return theta, J_historico"
   ]
  },
  {
   "cell_type": "markdown",
   "metadata": {},
   "source": [
    "## Funcion del calculo de la ecuacion de la normal con regularizacion"
   ]
  },
  {
   "cell_type": "code",
   "execution_count": 609,
   "metadata": {},
   "outputs": [],
   "source": [
    "def calcularThethaEcuacionNormalCR(X, y, lambda_):\n",
    "    m,n = X.shape\n",
    "    \n",
    "    # Creamos la matriz L\n",
    "    L = np.eye(n)  # Matriz identidad de tamaño (n+1) x (n+1)\n",
    "    L[0, 0] = 0  # Establecemos el primer elemento de la matriz L en 0\n",
    "    \n",
    "    theta = np.zeros(X.shape[1])\n",
    "\n",
    "    theta = np.dot(np.dot(np.linalg.inv(np.dot(np.transpose(X),X) + (lambda_*L)), np.transpose(X)),y)\n",
    "\n",
    "    return theta"
   ]
  },
  {
   "cell_type": "markdown",
   "metadata": {},
   "source": [
    "## Funcion del calculo de la ecuacion de la normal sin regularizacion"
   ]
  },
  {
   "cell_type": "code",
   "execution_count": 610,
   "metadata": {},
   "outputs": [],
   "source": [
    "def calcularThethaEcuacionNormalSR(X, y):\n",
    "    theta = np.zeros(X.shape[1])\n",
    "\n",
    "    theta = np.dot(np.dot(np.linalg.inv(np.dot(np.transpose(X),X)),np.transpose(X)),y)\n",
    "\n",
    "    return theta"
   ]
  },
  {
   "cell_type": "markdown",
   "metadata": {},
   "source": [
    "## 1. Usando Regularizacion\n",
    "\n",
    "La regularización es una técnica utilizada en el aprendizaje automático para prevenir el **sobreajuste (overfitting)** de un modelo a los datos de entrenamiento.\n",
    "\n",
    "El sobreajuste ocurre cuando un modelo se ajusta demasiado bien a los datos de entrenamiento y captura el ruido o las fluctuaciones aleatorias en los datos en lugar de aprender la verdadera relación subyacente entre las características y la variable objetivo. Esto puede resultar en un rendimiento deficiente del modelo cuando se enfrenta a nuevos datos que no formaban parte del conjunto de entrenamiento."
   ]
  },
  {
   "cell_type": "markdown",
   "metadata": {},
   "source": [
    "### 1.1 regresion lineal multivariable"
   ]
  },
  {
   "cell_type": "markdown",
   "metadata": {},
   "source": [
    "Carga de los datos para la regresion lineal multivariable:"
   ]
  },
  {
   "cell_type": "code",
   "execution_count": 611,
   "metadata": {},
   "outputs": [],
   "source": [
    "#hacemos una copia de y_train y y_test para usarlo en la regresion lineal multivariable\n",
    "\n",
    "#estos datos seran usados para el entrenamiento\n",
    "X_testRLM = X_test.copy()\n",
    "y_testRLM = y_test.copy()\n",
    "m_test_RLM = len(y_testRLM)\n",
    "\n",
    "#estos datos seran usados para el test\n",
    "X_trainRLM = X_train.copy()\n",
    "y_trainRLM = y_train.copy()\n",
    "m_train_RLM = len(y_trainRLM)"
   ]
  },
  {
   "cell_type": "markdown",
   "metadata": {},
   "source": [
    "#### 1.1.1 Normalizacion de las caracteristicas\n",
    "\n",
    "Se hace uso de la funcion de `featureNormalize(X) ` donde se recibe un parametro de tipo matriz para normalizar cada dato dentro de ella, retornandome la **matriz normalizda**, **sigma(desviacion estandar)**, y mi **mu(media)**."
   ]
  },
  {
   "cell_type": "code",
   "execution_count": 612,
   "metadata": {},
   "outputs": [
    {
     "name": "stdout",
     "output_type": "stream",
     "text": [
      "    X[:,0]   X[:, 1]   X[:, 2]   X[:, 3]   X[:, 4]   X[:, 5]   X[:, 6]   X[:, 7]   X[:, 8]   X[:, 9]  X[:, 10]  X[:, 11]  X[:, 12]  X[:, 13]  X[:, 14]  X[:, 15]  X[:, 16]  X[:, 17]\n",
      "------------------------------------------------------------------------------------------------------------------------------------------------------------------------------------\n",
      "    -0.395    -0.474    -0.324    -0.044    -0.920    -0.085    -0.306     0.909     1.150    -0.007    -0.656     0.404    -0.208    -0.675    -1.397     0.442     1.126     0.013\n",
      "    -1.469    -1.453    -1.184    -0.286    -0.920    -0.085    -0.306    -0.625    -1.413    -1.200    -0.200    -1.431    -0.208     0.751    -0.060    -0.540    -1.047    -0.281\n",
      "    -0.395    -1.453    -1.095    -0.188     0.002    -0.085    -0.306    -0.625    -1.413    -0.969    -0.451    -0.989    -0.208     1.276    -0.553    -0.860    -1.193    -0.179\n",
      "    -0.395     0.178     0.018    -0.188    -0.920    -0.085    -0.306     0.909    -0.559    -0.616     1.190     0.200    -0.208    -0.881    -1.194     0.300    -0.268    -0.195\n",
      "    -1.469     0.504    -0.367    -0.344     0.923    -0.085    -0.306    -0.625     0.296    -0.414     0.016     1.219    -0.208    -0.825     1.040     0.037     0.157    -0.083\n",
      "    -0.395    -0.474     0.293     0.954     0.002    -0.085    -0.306    -0.625     0.296    -0.336     1.236     0.234    -0.208    -0.956    -0.547     1.275     0.113     2.355\n",
      "     1.752     0.830    -0.037    -0.188    -0.920    -0.085    -0.306     0.909    -0.559    -0.713     1.258    -0.072    -0.208    -0.825     1.218     0.300    -0.665    -0.190\n",
      "     1.752     0.178     1.373    -0.043    -0.920    -0.085     2.320     0.909     1.150     0.139     2.580    -0.241    -0.208    -0.937     1.435    -0.390     1.229     0.015\n",
      "    -0.395    -0.474    -0.346    -0.165    -0.920    -0.085    -0.306     0.909     0.296    -0.397     0.028    -0.377    -0.208     1.088    -0.179    -1.252    -0.004    -0.157\n",
      "    -0.395     0.504    -0.511    -0.252     0.923    -0.085    -0.306    -0.625    -0.559    -0.214    -0.656     1.117    -0.208    -0.750    -1.279     1.218    -0.283    -0.327\n"
     ]
    }
   ],
   "source": [
    "#introductimos los datos a la funcion de normalizacion\n",
    "X_norm_RLM, mu_RLM, sigma_RLM = featureNormalize(X_trainRLM)\n",
    "\n",
    "# imprimimos algunos valores de X_norm\n",
    "print('{:>10s}{:>10s}{:>10s}{:>10s}{:>10s}{:>10s}{:>10s}{:>10s}{:>10s}{:>10s}{:>10s}{:>10s}{:>10s}{:>10s}{:>10s}{:>10s}{:>10s}{:>10s}'.format(\n",
    "    'X[:,0]', 'X[:, 1]', 'X[:, 2]', 'X[:, 3]', 'X[:, 4]', 'X[:, 5]', 'X[:, 6]', 'X[:, 7]', 'X[:, 8]', 'X[:, 9]', 'X[:, 10]', 'X[:, 11]',\n",
    "    'X[:, 12]', 'X[:, 13]', 'X[:, 14]', 'X[:, 15]', 'X[:, 16]', 'X[:, 17]'\n",
    "))\n",
    "print('-' * 180)\n",
    "\n",
    "for i in range(10):\n",
    "    print('{:10.3f}{:10.3f}{:10.3f}{:10.3f}{:10.3f}{:10.3f}{:10.3f}{:10.3f}{:10.3f}{:10.3f}{:10.3f}{:10.3f}{:10.3f}{:10.3f}{:10.3f}{:10.3f}{:10.3f}{:10.3f}'.format(\n",
    "        X_norm_RLM[i, 0], \n",
    "        X_norm_RLM[i, 1], \n",
    "        X_norm_RLM[i, 2], \n",
    "        X_norm_RLM[i, 3], \n",
    "        X_norm_RLM[i, 4], \n",
    "        X_norm_RLM[i, 5], \n",
    "        X_norm_RLM[i, 6], \n",
    "        X_norm_RLM[i, 7], \n",
    "        X_norm_RLM[i, 8], \n",
    "        X_norm_RLM[i, 9], \n",
    "        X_norm_RLM[i, 10], \n",
    "        X_norm_RLM[i, 11],\n",
    "        X_norm_RLM[i, 12],\n",
    "        X_norm_RLM[i, 13], \n",
    "        X_norm_RLM[i, 14], \n",
    "        X_norm_RLM[i, 15], \n",
    "        X_norm_RLM[i, 16], \n",
    "        X_norm_RLM[i, 17],))\n",
    "\n"
   ]
  },
  {
   "cell_type": "markdown",
   "metadata": {},
   "source": [
    "#### 1.1.2 Agregamos la columna de unos a nuestra matriz"
   ]
  },
  {
   "cell_type": "code",
   "execution_count": 613,
   "metadata": {},
   "outputs": [
    {
     "name": "stdout",
     "output_type": "stream",
     "text": [
      "    X[:,0]   X[:, 1]   X[:, 2]   X[:, 3]   X[:, 4]   X[:, 5]   X[:, 6]   X[:, 7]   X[:, 8]   X[:, 9]  X[:, 10]  X[:, 11]  X[:, 12]  X[:, 13]  X[:, 14]  X[:, 15]  X[:, 16]  X[:, 17]  X[:, 18]\n",
      "------------------------------------------------------------------------------------------------------------------------------------------------------------------------------------\n",
      "     1.000    -0.395    -0.474    -0.324    -0.044    -0.920    -0.085    -0.306     0.909     1.150    -0.007    -0.656     0.404    -0.208    -0.675    -1.397     0.442     1.126     0.013\n",
      "     1.000    -1.469    -1.453    -1.184    -0.286    -0.920    -0.085    -0.306    -0.625    -1.413    -1.200    -0.200    -1.431    -0.208     0.751    -0.060    -0.540    -1.047    -0.281\n",
      "     1.000    -0.395    -1.453    -1.095    -0.188     0.002    -0.085    -0.306    -0.625    -1.413    -0.969    -0.451    -0.989    -0.208     1.276    -0.553    -0.860    -1.193    -0.179\n",
      "     1.000    -0.395     0.178     0.018    -0.188    -0.920    -0.085    -0.306     0.909    -0.559    -0.616     1.190     0.200    -0.208    -0.881    -1.194     0.300    -0.268    -0.195\n",
      "     1.000    -1.469     0.504    -0.367    -0.344     0.923    -0.085    -0.306    -0.625     0.296    -0.414     0.016     1.219    -0.208    -0.825     1.040     0.037     0.157    -0.083\n",
      "     1.000    -0.395    -0.474     0.293     0.954     0.002    -0.085    -0.306    -0.625     0.296    -0.336     1.236     0.234    -0.208    -0.956    -0.547     1.275     0.113     2.355\n",
      "     1.000     1.752     0.830    -0.037    -0.188    -0.920    -0.085    -0.306     0.909    -0.559    -0.713     1.258    -0.072    -0.208    -0.825     1.218     0.300    -0.665    -0.190\n",
      "     1.000     1.752     0.178     1.373    -0.043    -0.920    -0.085     2.320     0.909     1.150     0.139     2.580    -0.241    -0.208    -0.937     1.435    -0.390     1.229     0.015\n",
      "     1.000    -0.395    -0.474    -0.346    -0.165    -0.920    -0.085    -0.306     0.909     0.296    -0.397     0.028    -0.377    -0.208     1.088    -0.179    -1.252    -0.004    -0.157\n",
      "     1.000    -0.395     0.504    -0.511    -0.252     0.923    -0.085    -0.306    -0.625    -0.559    -0.214    -0.656     1.117    -0.208    -0.750    -1.279     1.218    -0.283    -0.327\n"
     ]
    }
   ],
   "source": [
    "X_ready_RLM = np.concatenate([np.ones((m_train_RLM, 1)), X_norm_RLM], axis=1)\n",
    "\n",
    "# imprimimos algunos valores de X_norm\n",
    "print('{:>10s}{:>10s}{:>10s}{:>10s}{:>10s}{:>10s}{:>10s}{:>10s}{:>10s}{:>10s}{:>10s}{:>10s}{:>10s}{:>10s}{:>10s}{:>10s}{:>10s}{:>10s}{:>10s}'.format(\n",
    "    'X[:,0]', 'X[:, 1]', 'X[:, 2]', 'X[:, 3]', 'X[:, 4]', 'X[:, 5]', 'X[:, 6]', 'X[:, 7]', 'X[:, 8]', 'X[:, 9]', 'X[:, 10]', 'X[:, 11]',\n",
    "    'X[:, 12]', 'X[:, 13]', 'X[:, 14]', 'X[:, 15]', 'X[:, 16]', 'X[:, 17]', 'X[:, 18]'\n",
    "))\n",
    "print('-' * 180)\n",
    "\n",
    "for i in range(10):\n",
    "    print('{:10.3f}{:10.3f}{:10.3f}{:10.3f}{:10.3f}{:10.3f}{:10.3f}{:10.3f}{:10.3f}{:10.3f}{:10.3f}{:10.3f}{:10.3f}{:10.3f}{:10.3f}{:10.3f}{:10.3f}{:10.3f}{:10.3f}'.format(\n",
    "        X_ready_RLM[i, 0], \n",
    "        X_ready_RLM[i, 1], \n",
    "        X_ready_RLM[i, 2], \n",
    "        X_ready_RLM[i, 3], \n",
    "        X_ready_RLM[i, 4], \n",
    "        X_ready_RLM[i, 5], \n",
    "        X_ready_RLM[i, 6], \n",
    "        X_ready_RLM[i, 7], \n",
    "        X_ready_RLM[i, 8], \n",
    "        X_ready_RLM[i, 9], \n",
    "        X_ready_RLM[i, 10], \n",
    "        X_ready_RLM[i, 11],\n",
    "        X_ready_RLM[i, 12],\n",
    "        X_ready_RLM[i, 13], \n",
    "        X_ready_RLM[i, 14], \n",
    "        X_ready_RLM[i, 15], \n",
    "        X_ready_RLM[i, 16], \n",
    "        X_ready_RLM[i, 17],\n",
    "        X_ready_RLM[i, 18]))"
   ]
  },
  {
   "cell_type": "markdown",
   "metadata": {},
   "source": [
    "#### 1.1.3 Descenso por el gradiente\n",
    "\n",
    "El descenso por el gradiente con la función de costo es un algoritmo fundamental en el aprendizaje automático supervisado, especialmente en problemas de optimización de modelos. Su propósito principal es minimizar la función de costo (o pérdida) de un modelo mediante ajustes iterativos de los parámetros del modelo."
   ]
  },
  {
   "cell_type": "markdown",
   "metadata": {},
   "source": [
    "##### 1.1.3.1 Cálculo del costo $J(\\theta)$"
   ]
  },
  {
   "cell_type": "markdown",
   "metadata": {},
   "source": [
    "hacemos uso de la funcion `def calcularCosto(X, y, theta, lambda_)`;"
   ]
  },
  {
   "cell_type": "markdown",
   "metadata": {},
   "source": [
    "Ejemplo de funcionamiento de la funcion computeCoste con dos valores diferentes de $\\theta$."
   ]
  },
  {
   "cell_type": "code",
   "execution_count": 614,
   "metadata": {},
   "outputs": [
    {
     "name": "stdout",
     "output_type": "stream",
     "text": [
      "19\n",
      "########################################################################################################\n",
      "con theta:[0.2 3.  0.2 0.1 3.  0.2 1.1 2.  0.7 0.8 5.8 0.9 0.7 2.  0.5 0.8 1.  0.2\n",
      " 0.3] se obtiene un costo de: 209918657079.17972\n",
      "########################################################################################################\n",
      "con theta:[0.1  2.   0.5  0.2  8.   0.7  1.3  8.   1.7  0.7  7.1  0.6  0.6  1.\n",
      " 0.3  0.9  2.   0.12 0.7 ] se obtiene un costo de: 209917322958.34518\n"
     ]
    }
   ],
   "source": [
    "theta_RLM=np.array([0.2, 3.0, 0.2,0.1, 3.0, 0.2,1.1, 2.0, 0.7,0.8, 5.8, 0.9,0.7, 2.0, 0.5,0.8, 1.0, 0.2,0.3])\n",
    "theta_RLM1=np.array([0.1, 2.0, 0.5,0.2, 8.0, 0.7,1.3, 8.0, 1.7,0.7, 7.1, 0.6,0.6, 1.0, 0.3,0.9, 2.0, 0.12,0.7])\n",
    "\n",
    "lambda_ = 1000\n",
    "print(theta_RLM.shape[0])\n",
    "print(f\"########################################################################################################\")\n",
    "print(f\"con theta:{ theta_RLM } se obtiene un costo de: {calcularCostoCR(X_ready_RLM, y_trainRLM, theta_RLM, lambda_)}\")\n",
    "print(f\"########################################################################################################\")\n",
    "print(f\"con theta:{ theta_RLM1 } se obtiene un costo de: {calcularCostoCR(X_ready_RLM, y_trainRLM, theta_RLM1, lambda_)}\")"
   ]
  },
  {
   "cell_type": "markdown",
   "metadata": {},
   "source": [
    "##### 1.1.3.2Descenso por el gradiente\n",
    "\n",
    "Hacemos uso de la funcion para hacer el calculo del descenso por el gradiente y asi encontrar nuestras **Thetas**, se hizo la modificacion para que la funcion ahora reciba el parametro de ``lamda_``"
   ]
  },
  {
   "cell_type": "markdown",
   "metadata": {},
   "source": [
    "Se inicializan los parametros $\\theta$ con 0 y la taza de aprendizaje $\\alpha$ con 0.00009."
   ]
  },
  {
   "cell_type": "code",
   "execution_count": 615,
   "metadata": {},
   "outputs": [
    {
     "name": "stdout",
     "output_type": "stream",
     "text": [
      "########################################################################################################\n",
      "Los valores de theta calculados son:\n",
      "theta 1: 508365.7462798359\n",
      "theta 2: -26084.92072240401\n",
      "theta 3: 32574.661825699863\n",
      "theta 4: 75973.92420693494\n",
      "theta 5: 3490.701797793405\n",
      "theta 6: 5308.488501739493\n",
      "theta 7: 45592.46256299852\n",
      "theta 8: 40806.737553644714\n",
      "theta 9: 17216.481128814194\n",
      "theta 10: 100298.40007364952\n",
      "theta 11: 69786.85078422852\n",
      "theta 12: 26422.51908007741\n",
      "theta 13: -68841.53191970603\n",
      "theta 14: 10307.734041905405\n",
      "theta 15: -23812.73811003455\n",
      "theta 16: 79080.6895746627\n",
      "theta 17: -26282.732513208754\n",
      "theta 18: 23461.520125301162\n",
      "theta 19: -7693.289596007626\n",
      "########################################################################################################\n",
      "con un costo de: -40168774868060.55 \n",
      "la cantidad de theta son:  19\n"
     ]
    }
   ],
   "source": [
    "#creamos un theta con 19 columnas de ceros\n",
    "theta = np.zeros(len(X_ready_RLM[0]))\n",
    "\n",
    "#numero de iteraciones sera 1000000 y un alpha 0.00009\n",
    "num_ite_RLM = 20000\n",
    "alpha_RLM = 0.0009\n",
    "lambda_RLM = 1000\n",
    "\n",
    "theta_RLM, J_historico_RLM = calcularDescensoGradienteCR(X_ready_RLM, y_trainRLM, theta , alpha_RLM,lambda_RLM, num_ite_RLM)\n",
    "print(\"########################################################################################################\")\n",
    "print(\"Los valores de theta calculados son:\")\n",
    "i = 0\n",
    "for tht_RLM in theta_RLM:\n",
    "    i += 1\n",
    "    print(f\"theta {i}: {tht_RLM}\")\n",
    "\n",
    "print(f\"########################################################################################################\")\n",
    "#mostramos el ultimo costo, este seria el mejor costo\n",
    "print(f\"con un costo de: { J_historico_RLM[-1]} \")\n",
    "\n",
    "print(\"la cantidad de theta son: \", theta_RLM.shape[0])"
   ]
  },
  {
   "cell_type": "markdown",
   "metadata": {},
   "source": [
    "#### 1.1.4 Grafica de la convergencia del costo\n",
    "graficamos el costo"
   ]
  },
  {
   "cell_type": "code",
   "execution_count": 616,
   "metadata": {},
   "outputs": [
    {
     "data": {
      "text/plain": [
       "Text(0, 0.5, 'Costo J')"
      ]
     },
     "execution_count": 616,
     "metadata": {},
     "output_type": "execute_result"
    },
    {
     "data": {
      "image/png": "[encoded data removed]",
      "text/plain": [
       "<Figure size 640x480 with 1 Axes>"
      ]
     },
     "metadata": {},
     "output_type": "display_data"
    }
   ],
   "source": [
    "pyplot.plot(np.arange(len(J_historico_RLM)), J_historico_RLM, lw=2)\n",
    "pyplot.title(\"Grafica de la convergencia del costo\")\n",
    "pyplot.xlabel('Numero de iteraciones')\n",
    "pyplot.ylabel('Costo J')"
   ]
  },
  {
   "cell_type": "markdown",
   "metadata": {},
   "source": [
    "##### 1.1.4.1 Grafica de la regresion lineal\n",
    "\n",
    "En esta parte se trazan los datos de entrenamiento y una línea que representa la regresión lineal ajustada a esos datos."
   ]
  },
  {
   "cell_type": "code",
   "execution_count": 617,
   "metadata": {},
   "outputs": [
    {
     "data": {
      "text/plain": [
       "<matplotlib.legend.Legend at 0x20402a9a720>"
      ]
     },
     "execution_count": 617,
     "metadata": {},
     "output_type": "execute_result"
    },
    {
     "data": {
      "image/png": "[encoded data removed]",
      "text/plain": [
       "<Figure size 640x480 with 1 Axes>"
      ]
     },
     "metadata": {},
     "output_type": "display_data"
    }
   ],
   "source": [
    "graficarDatos(X_norm_RLM[:, 1],  X_norm_RLM[:, 2] , \"X_norm_1\", \"X_norm_2\")\n",
    "\n",
    "pyplot.plot(X_norm_RLM[:,1], np.dot(X_ready_RLM, theta_RLM), '-')\n",
    "\n",
    "pyplot.legend(['Datos de entrenamiento', 'regresion lineal'])"
   ]
  },
  {
   "cell_type": "markdown",
   "metadata": {},
   "source": [
    "haciendo una pequeña prueba:"
   ]
  },
  {
   "cell_type": "code",
   "execution_count": 618,
   "metadata": {},
   "outputs": [
    {
     "name": "stdout",
     "output_type": "stream",
     "text": [
      "La prediccion de la casa es de: [189473.66534301]\n"
     ]
    }
   ],
   "source": [
    "X_arrayRLM = np.array([1,3,1,1180,5650,1,0,0,3,7,1180,0,1955,0,98178,47.5112,-122.257,1340,5650])\n",
    "X_arrayRLM = X_arrayRLM.reshape(1, -1)\n",
    "\n",
    "X_arrayRLM[:, 1:] = (X_arrayRLM[:, 1:] - mu_RLM) / sigma_RLM\n",
    "\n",
    "prediccion_RLM = np.dot(X_arrayRLM, theta_RLM)\n",
    "\n",
    "print (f\"La prediccion de la casa es de: {prediccion_RLM}\")"
   ]
  },
  {
   "cell_type": "markdown",
   "metadata": {},
   "source": [
    "#### 1.1.5 Ejemplos de Predicciones"
   ]
  },
  {
   "cell_type": "markdown",
   "metadata": {},
   "source": [
    "Se creo una matriz con 11 ejemplos, donde se hace las predicciones correspondientes:"
   ]
  },
  {
   "cell_type": "code",
   "execution_count": 619,
   "metadata": {},
   "outputs": [
    {
     "name": "stdout",
     "output_type": "stream",
     "text": [
      "20\n",
      "19\n",
      "+----+------------+-------------+---------------+------------+----------+--------------+--------+-------------+---------+--------------+-----------------+------------+----------------+-----------+---------+----------+-----------------+--------------+----------+\n",
      "|    |   bedrooms |   bathrooms |   sqft_living |   sqft_lot |   floors |   waterfront |   view |   condition |   grade |   sqft_above |   sqft_basement |   yr_built |   yr_renovated |   zipcode |     lat |     long |   sqft_living15 |   sqft_lot15 |    Price |\n",
      "+====+============+=============+===============+============+==========+==============+========+=============+=========+==============+=================+============+================+===========+=========+==========+=================+==============+==========+\n",
      "|  1 |          3 |        1    |          1180 |       5650 |      1   |            0 |      0 |           3 |       7 |         1180 |               0 |       1955 |              0 |     98178 | 47.5112 | -122.257 |            1340 |         5650 | 189474   |\n",
      "+----+------------+-------------+---------------+------------+----------+--------------+--------+-------------+---------+--------------+-----------------+------------+----------------+-----------+---------+----------+-----------------+--------------+----------+\n",
      "|  1 |          2 |        0.75 |          1020 |       1076 |      2   |            0 |      0 |           3 |       7 |         1020 |               0 |       2008 |              0 |     98144 | 47.5941 | -122.299 |            1020 |         1357 | 125863   |\n",
      "+----+------------+-------------+---------------+------------+----------+--------------+--------+-------------+---------+--------------+-----------------+------------+----------------+-----------+---------+----------+-----------------+--------------+----------+\n",
      "|  1 |          4 |        2.75 |          3555 |       6565 |      2   |            0 |      0 |           3 |       9 |         3555 |               0 |       2014 |              0 |     98053 | 47.6847 | -122.017 |            3625 |         5637 | 868441   |\n",
      "+----+------------+-------------+---------------+------------+----------+--------------+--------+-------------+---------+--------------+-----------------+------------+----------------+-----------+---------+----------+-----------------+--------------+----------+\n",
      "|  1 |          2 |        1    |          1040 |      13920 |      1   |            0 |      0 |           3 |       6 |         1040 |               0 |       1973 |           1867 |     98198 | 47.3756 | -122.306 |            1100 |         7575 |  29069.4 |\n",
      "+----+------------+-------------+---------------+------------+----------+--------------+--------+-------------+---------+--------------+-----------------+------------+----------------+-----------+---------+----------+-----------------+--------------+----------+\n",
      "|  1 |          4 |        1.75 |          1860 |       7350 |      1   |            0 |      0 |           4 |       7 |         1090 |             770 |       1977 |           1900 |     98031 | 47.3979 | -122.174 |            1710 |         7350 | 310926   |\n",
      "+----+------------+-------------+---------------+------------+----------+--------------+--------+-------------+---------+--------------+-----------------+------------+----------------+-----------+---------+----------+-----------------+--------------+----------+\n",
      "|  1 |          1 |        1    |          1060 |      54846 |      1   |            1 |      4 |           3 |       5 |         1060 |               0 |       1935 |              0 |     98070 | 47.4716 | -122.445 |            2258 |        31762 | 944730   |\n",
      "+----+------------+-------------+---------------+------------+----------+--------------+--------+-------------+---------+--------------+-----------------+------------+----------------+-----------+---------+----------+-----------------+--------------+----------+\n",
      "|  1 |          4 |        1.5  |          2220 |       9496 |      1   |            0 |      0 |           4 |       7 |         1490 |             730 |       1954 |              0 |     98004 | 47.6233 | -122.206 |            1800 |         8286 | 516504   |\n",
      "+----+------------+-------------+---------------+------------+----------+--------------+--------+-------------+---------+--------------+-----------------+------------+----------------+-----------+---------+----------+-----------------+--------------+----------+\n",
      "|  1 |          4 |        1.5  |          1560 |       6534 |      1   |            0 |      0 |           4 |       7 |         1560 |               0 |       1962 |              0 |     98007 | 47.6012 | -122.152 |            1560 |         6969 | 372275   |\n",
      "+----+------------+-------------+---------------+------------+----------+--------------+--------+-------------+---------+--------------+-----------------+------------+----------------+-----------+---------+----------+-----------------+--------------+----------+\n",
      "|  1 |          5 |        3    |          2510 |       4125 |      1.5 |            0 |      3 |           5 |       8 |         1590 |             920 |       1925 |              0 |     98144 | 47.5968 | -122.29  |            2190 |         5415 | 893800   |\n",
      "+----+------------+-------------+---------------+------------+----------+--------------+--------+-------------+---------+--------------+-----------------+------------+----------------+-----------+---------+----------+-----------------+--------------+----------+\n",
      "|  1 |          3 |        2.5  |          1680 |       2096 |      2   |            0 |      0 |           3 |       8 |         1380 |             300 |       2008 |              0 |     98117 | 47.6904 | -122.37  |            1360 |         2096 | 453765   |\n",
      "+----+------------+-------------+---------------+------------+----------+--------------+--------+-------------+---------+--------------+-----------------+------------+----------------+-----------+---------+----------+-----------------+--------------+----------+\n",
      "|  1 |          3 |        2.25 |          2020 |       3600 |      2   |            0 |      0 |           3 |       8 |         2020 |               0 |       1998 |              0 |     98033 | 47.6678 | -122.165 |            2070 |         3699 | 541687   |\n",
      "+----+------------+-------------+---------------+------------+----------+--------------+--------+-------------+---------+--------------+-----------------+------------+----------------+-----------+---------+----------+-----------------+--------------+----------+\n"
     ]
    }
   ],
   "source": [
    "#Creamos la matriz con 11 ejemplos para hacer la prueba predecir un precio de cada ejemplo:\n",
    "matriz_datos_RLM = np.array([\n",
    "    [1,3,1,1180,5650,1,0,0,3,7,1180,0,1955,0,98178,47.5112,-122.257,1340,5650],\n",
    "    [1,2,0.75,1020,1076,2,0,0,3,7,1020,0,2008,0,98144,47.5941,-122.299,1020,1357],\n",
    "    [1,4,2.75,3555,6565,2,0,0,3,9,3555,0,2014,0,98053,47.6847,-122.017,3625,5637],\n",
    "    [1,2,1,1040,13920,1,0,0,3,6,1040,0,1973,1867,98198,47.3756,-122.306,1100,7575],\n",
    "    [1,4,1.75,1860,7350,1,0,0,4,7,1090,770,1977,1900,98031,47.3979,-122.174,1710,7350],\n",
    "    [1,1,1,1060,54846,1,1,4,3,5,1060,0,1935,0,98070,47.4716,-122.445,2258,31762],\n",
    "    [1,4,1.5,2220,9496,1,0,0,4,7,1490,730,1954,0,98004,47.6233,-122.206,1800,8286],\n",
    "    [1,4,1.5,1560,6534,1,0,0,4,7,1560,0,1962,0,98007,47.6012,-122.152,1560,6969],\n",
    "    [1,5,3,2510,4125,1.5,0,3,5,8,1590,920,1925,0,98144,47.5968,-122.29,2190,5415],\n",
    "    [1,3,2.5,1680,2096,2,0,0,3,8,1380,300,2008,0,98117,47.6904,-122.37,1360,2096],\n",
    "    [1,3,2.25,2020,3600,2,0,0,3,8,2020,0,1998,0,98033,47.6678,-122.165,2070,3699]\n",
    "])\n",
    "\n",
    "#creamos un vector parta almacenar cada Y predicha\n",
    "y_pre_RLM = []\n",
    "matriz_datos_RLM_copy = matriz_datos_RLM.copy()\n",
    "\n",
    "#Normalizamos todos, menos el primer valor de cada ejemplo\n",
    "\n",
    "matriz_datos_RLM_copy[:, 1:] = (matriz_datos_RLM_copy[:, 1:] - mu_RLM) / sigma_RLM\n",
    "\n",
    "\n",
    "#Calculamos la Y predicha de los 11 ejemplos de prediccion\n",
    "for datos in matriz_datos_RLM_copy:\n",
    "    y_pre_RLM.append(np.dot(datos, theta_RLM))\n",
    "\n",
    "matriz_datos_RLM = np.column_stack((matriz_datos_RLM, y_pre_RLM))\n",
    "\n",
    "nombres_columnas = ['bedrooms','bathrooms','sqft_living','sqft_lot','floors','waterfront','view','condition','grade','sqft_above','sqft_basement','yr_built','yr_renovated','zipcode','lat','long','sqft_living15','sqft_lot15','Price']\n",
    "\n",
    "# Convertir la matriz en una lista de listas\n",
    "datos_para_tabla = matriz_datos_RLM.tolist()\n",
    "\n",
    "print(len(matriz_datos_RLM[0]))\n",
    "print(len(matriz_datos_RLM_copy[0]))\n",
    "\n",
    "# Imprimir la tabla\n",
    "print(tabulate(datos_para_tabla, headers=nombres_columnas, tablefmt='grid'))"
   ]
  },
  {
   "cell_type": "markdown",
   "metadata": {},
   "source": [
    "#### 1.1.6 Validaciones\n",
    "Para hacer las validaciones correspondientes, primero se crea la funcion del **Mean squeared error**\n",
    "\n",
    "Siguiendo el consejo de 80/20, donde 80% es para la fase de entrenamiento, y 20% es para la fase de prueba.\n",
    "\n",
    "haciendo calculo del error cuadratico medio:"
   ]
  },
  {
   "cell_type": "code",
   "execution_count": 620,
   "metadata": {},
   "outputs": [
    {
     "name": "stdout",
     "output_type": "stream",
     "text": [
      "Error Cuadrático Medio (MSE) = 46646059292.16167\n",
      "Raíz del Error Cuadrático Medio (RMSE) = 215976.98787639776\n"
     ]
    }
   ],
   "source": [
    "#Concatenamos de unos a la primera posicion del X_test\n",
    "X_testRLM_ready = np.concatenate([np.ones((m_test_RLM, 1)), X_testRLM], axis=1)\n",
    "\n",
    "# Normalizamos todos, menos el primer valor de cada ejemplo porque este contiene los unos\n",
    "X_testRLM_ready[:, 1:] = (X_testRLM_ready[:, 1:] - mu_RLM) / sigma_RLM\n",
    "\n",
    "#creamos un array que almacenara cada una de las y_predicha\n",
    "y_predicha_RLM = []\n",
    "for data_RLM in X_testRLM_ready:\n",
    "    y_predicha_RLM.append(np.dot(data_RLM, theta_RLM))\n",
    "\n",
    "mse_RLM = mean_squared_error(y_predicha_RLM, y_testRLM)\n",
    "#calculamos el error cuadratico medio:\n",
    "print('Error Cuadrático Medio (MSE) = ' + str(mse_RLM))\n",
    "print('Raíz del Error Cuadrático Medio (RMSE) = ' + str(np.sqrt(mse_RLM)))"
   ]
  },
  {
   "cell_type": "markdown",
   "metadata": {},
   "source": [
    "### 1.2 Regresion Polinomica"
   ]
  },
  {
   "cell_type": "markdown",
   "metadata": {},
   "source": [
    "Importamos **PolynomialFeatures** es una clase en scikit-learn que se utiliza para generar características polinómicas a partir de un conjunto de características existente. En el contexto de regresión polinómica, puedes usar PolynomialFeatures para generar nuevas características que son combinaciones polinómicas de las características originales."
   ]
  },
  {
   "cell_type": "code",
   "execution_count": 621,
   "metadata": {},
   "outputs": [],
   "source": [
    "from sklearn.preprocessing import PolynomialFeatures"
   ]
  },
  {
   "cell_type": "markdown",
   "metadata": {},
   "source": [
    "Carga de los datos para la regresion lineal multivariable:"
   ]
  },
  {
   "cell_type": "code",
   "execution_count": 622,
   "metadata": {},
   "outputs": [
    {
     "name": "stdout",
     "output_type": "stream",
     "text": [
      "la cantidad de columnas de X_trainRLP es de:  190\n",
      "la cantidad de ejemplos de X_trainRLP es de:  17290\n"
     ]
    }
   ],
   "source": [
    "#hacemos una copia de y_train y y_test para usarlo en la regresion lineal multivariable\n",
    "\n",
    "#estos datos seran usados para el entrenamiento\n",
    "X_testRLP = X_test.copy()\n",
    "y_testRLP = y_test.copy()\n",
    "m_test_RLP = len(y_testRLM)\n",
    "#estos datos seran usados para el test\n",
    "\n",
    "#hacemos uso de la libreria PolynomialFeatures para hacer la regresion polinomial de grado 2\n",
    "poly = PolynomialFeatures(degree=2)\n",
    "#hacemos una copia de y_train y y_test para usarlo en la regresion polinomial\n",
    "X_trainRLP = poly.fit_transform(X_train.copy())\n",
    "y_trainRLP = y_train.copy()\n",
    "m_train_RLP = len(y_trainRLM)\n",
    "\n",
    "print(\"la cantidad de columnas de X_trainRLP es de: \", X_trainRLP.shape[1])\n",
    "print(\"la cantidad de ejemplos de X_trainRLP es de: \", X_trainRLP.shape[0])"
   ]
  },
  {
   "cell_type": "markdown",
   "metadata": {},
   "source": [
    "#### 1.2.1 Normalizacion de las caracteristicas\n",
    "\n",
    "Se hace uso de la funcion de `featureNormalize(X) ` para normalizar cada una de las 190 feactures de mi nueva matriz de datos donde se recibe un parametro de tipo matriz para normalizar cada dato dentro de ella, retornandome la **matriz normalizda**, **sigma(desviacion estandar)**, y mi **mu(media)**."
   ]
  },
  {
   "cell_type": "code",
   "execution_count": 623,
   "metadata": {},
   "outputs": [
    {
     "data": {
      "text/plain": [
       "(17290, 190)"
      ]
     },
     "execution_count": 623,
     "metadata": {},
     "output_type": "execute_result"
    }
   ],
   "source": [
    "#introductimos los datos a la funcion de normalizacion\n",
    "X_norm_RLP, mu_RLP, sigma_RLP = featureNormalize(X_trainRLP)\n",
    "\n",
    "X_norm_RLP.shape"
   ]
  },
  {
   "cell_type": "markdown",
   "metadata": {},
   "source": [
    "#### 1.2.2 Agregamos la columna de unos a nuestra matriz"
   ]
  },
  {
   "cell_type": "code",
   "execution_count": 624,
   "metadata": {},
   "outputs": [
    {
     "name": "stdout",
     "output_type": "stream",
     "text": [
      "La cantidad de columnas de X_ready_RLP es de:  191\n"
     ]
    }
   ],
   "source": [
    "X_ready_RLP = np.concatenate([np.ones((m_train_RLP, 1)), X_norm_RLP], axis=1)\n",
    "print(\"La cantidad de columnas de X_ready_RLP es de: \", X_ready_RLP.shape[1])"
   ]
  },
  {
   "cell_type": "markdown",
   "metadata": {},
   "source": [
    "#### 1.2.3 Descenso por el gradiente\n",
    "\n",
    "haciendo uso de la funcio de `calcularCosto(X , y, theta, lamda_)` donde `X` sera nuestra matriz normalizada, y sera nuestra `y_predicha` que en este caso sera el precio, `Thetha` que seran nuestros valores inciales, y `lamda_` que sera nuestro parametro de regularizacion."
   ]
  },
  {
   "cell_type": "markdown",
   "metadata": {},
   "source": [
    "##### 1.2.3.1 Cálculo del costo $J(\\theta)$"
   ]
  },
  {
   "cell_type": "markdown",
   "metadata": {},
   "source": [
    "Ejemplo de funcionamiento de la funcion computeCoste con dos valores diferentes de $\\theta$."
   ]
  },
  {
   "cell_type": "code",
   "execution_count": 625,
   "metadata": {},
   "outputs": [
    {
     "name": "stdout",
     "output_type": "stream",
     "text": [
      "191\n",
      "########################################################################################################\n",
      "con theta:[0.31923396 0.42895051 0.47071397 0.54344065 0.55685772 0.1421117\n",
      " 0.33832083 0.29532933 0.9320385  0.51910061 0.41154488 0.6709685\n",
      " 0.74412308 0.08275137 0.18165494 0.69169477 0.26803327 0.6850969\n",
      " 0.90714537 0.40226344 0.06512512 0.89462583 0.03111564 0.09976449\n",
      " 0.94900786 0.38524485 0.00202868 0.86454045 0.99210479 0.38241969\n",
      " 0.9551183  0.3138     0.93734338 0.84865763 0.12883331 0.14378514\n",
      " 0.88646884 0.45781774 0.86181575 0.94672891 0.33545623 0.47233158\n",
      " 0.98522673 0.5905523  0.94597075 0.69109245 0.08046985 0.06984984\n",
      " 0.84449558 0.56307467 0.96843509 0.47427677 0.58947916 0.83682136\n",
      " 0.05704211 0.36598692 0.69138114 0.35827318 0.95329412 0.16796546\n",
      " 0.8428513  0.41838722 0.01968023 0.14911957 0.99847958 0.79806596\n",
      " 0.2182756  0.32394366 0.34860127 0.85986085 0.0879301  0.63493071\n",
      " 0.90124762 0.42680755 0.27827621 0.83328923 0.76478124 0.20349273\n",
      " 0.13843976 0.66875484 0.48786855 0.88455873 0.45432394 0.11699587\n",
      " 0.621117   0.5066866  0.62726136 0.69242352 0.39463118 0.39392833\n",
      " 0.48467029 0.85304125 0.98644008 0.96488194 0.86366314 0.38758068\n",
      " 0.28283644 0.90241769 0.22870413 0.1236055  0.54413588 0.93041678\n",
      " 0.80168365 0.41878282 0.94636715 0.16562277 0.30910622 0.83367831\n",
      " 0.78648657 0.26572837 0.70429505 0.55372207 0.84014109 0.34123289\n",
      " 0.90890903 0.78947838 0.98978666 0.6529463  0.95655212 0.60902228\n",
      " 0.09814784 0.67384725 0.88957899 0.33811804 0.39097745 0.07625877\n",
      " 0.8806297  0.07296651 0.06709503 0.01060551 0.60871219 0.9075157\n",
      " 0.65349128 0.0565436  0.10675657 0.1769157  0.07820464 0.56642256\n",
      " 0.31229383 0.52882481 0.00825751 0.98057385 0.2697048  0.18330004\n",
      " 0.64844252 0.63855482 0.05049302 0.99445844 0.06670338 0.44961001\n",
      " 0.57678054 0.6934622  0.86670378 0.03399402 0.96870215 0.32120911\n",
      " 0.63447128 0.35527606 0.70077589 0.97794443 0.29224115 0.51254911\n",
      " 0.1402468  0.27945815 0.05734408 0.30986927 0.63877672 0.13458661\n",
      " 0.19650267 0.62951752 0.23406798 0.58844738 0.76725251 0.03247995\n",
      " 0.67582539 0.83239371 0.82799265 0.86420222 0.54230213 0.1350637\n",
      " 0.74839727 0.24597908 0.60418436 0.74446599 0.42141843 0.59906073\n",
      " 0.27254397 0.14601573 0.75303258 0.27627837 0.44526615] se obtiene un costo de: 209911144672.27615\n",
      "########################################################################################################\n",
      "con theta:[0.09406423 0.29324613 0.79143841 0.06241348 0.98577082 0.84229877\n",
      " 0.52860129 0.00797027 0.25023354 0.9967144  0.37466218 0.73628558\n",
      " 0.39273639 0.0633119  0.97251623 0.19662693 0.65137651 0.02885949\n",
      " 0.85610271 0.13789419 0.1388097  0.39337917 0.3618849  0.63699966\n",
      " 0.42967975 0.24214256 0.18267863 0.13634794 0.23803669 0.31816067\n",
      " 0.09636969 0.80330114 0.63453369 0.3822933  0.74340923 0.94197667\n",
      " 0.8035904  0.48455423 0.36416052 0.83412907 0.34031237 0.7367077\n",
      " 0.78112673 0.60429961 0.83822726 0.89177269 0.25155673 0.30193272\n",
      " 0.10157223 0.33404602 0.43034451 0.37589987 0.54146398 0.5650392\n",
      " 0.00872613 0.8464699  0.34589614 0.9384608  0.10196268 0.30630033\n",
      " 0.11463563 0.69171474 0.47500798 0.8078094  0.34969401 0.22050544\n",
      " 0.79690449 0.77760172 0.66929883 0.61626399 0.50888242 0.42233118\n",
      " 0.62200168 0.17792799 0.70294756 0.89862697 0.09859154 0.71901025\n",
      " 0.87217684 0.29577681 0.04574438 0.61965198 0.53486655 0.60042867\n",
      " 0.14523663 0.94406382 0.1881115  0.64353164 0.2638302  0.14104376\n",
      " 0.69653856 0.97631288 0.82959605 0.87016704 0.59807701 0.40661714\n",
      " 0.04292386 0.65075003 0.98308948 0.11384957 0.246138   0.20434378\n",
      " 0.83922289 0.22212042 0.19426408 0.89772178 0.45840228 0.93429965\n",
      " 0.76831264 0.36225285 0.04662399 0.58297234 0.11630878 0.45858326\n",
      " 0.94253048 0.54668135 0.80969752 0.64360399 0.67422115 0.12448859\n",
      " 0.60674846 0.73876699 0.39527263 0.40372757 0.0465323  0.90210175\n",
      " 0.22989473 0.7319779  0.15221355 0.79757816 0.15676393 0.80767658\n",
      " 0.24607924 0.68395876 0.53823653 0.41088337 0.62177444 0.39190968\n",
      " 0.77161164 0.22313673 0.72639209 0.07695169 0.76119166 0.19683135\n",
      " 0.41051574 0.93025134 0.09476151 0.34628674 0.76552545 0.3951117\n",
      " 0.27064553 0.34933608 0.434242   0.30412755 0.4801218  0.77300043\n",
      " 0.98787944 0.62565107 0.9784801  0.14612256 0.94507783 0.76297162\n",
      " 0.7671349  0.08829805 0.3875119  0.22337557 0.91150522 0.30696315\n",
      " 0.64347918 0.32341711 0.83878943 0.50328751 0.13186333 0.72434597\n",
      " 0.83152864 0.55296982 0.30554668 0.56582242 0.00132287 0.7675095\n",
      " 0.48840483 0.88891788 0.97314566 0.84148386 0.43302119 0.91093938\n",
      " 0.24762162 0.28294892 0.41574317 0.32992186 0.91637711] se obtiene un costo de: 209911491922.63837\n"
     ]
    }
   ],
   "source": [
    "#creamos un theta con 190 columnas de valores aleatorios\n",
    "theta_RLP=np.random.rand(len(X_ready_RLP[1]))\n",
    "theta_RLP1=np.random.rand(len(X_ready_RLP[1]))\n",
    "\n",
    "print(len(theta_RLP))\n",
    "lambda_RLP = 1000\n",
    "\n",
    "print(f\"########################################################################################################\")\n",
    "print(f\"con theta:{ theta_RLP } se obtiene un costo de: {calcularCostoCR(X_ready_RLP, y_trainRLP, theta_RLP, lambda_RLP)}\")\n",
    "print(f\"########################################################################################################\")\n",
    "print(f\"con theta:{ theta_RLP1 } se obtiene un costo de: {calcularCostoCR(X_ready_RLP, y_trainRLP, theta_RLP1, lambda_RLP)}\")"
   ]
  },
  {
   "cell_type": "markdown",
   "metadata": {},
   "source": [
    "##### 1.2.3.2Descenso por el gradiente\n",
    "\n",
    "Creamos la funcion para hacer el calculo del descenso por el gradiente y asi encontrar nuestras **Thetas**, se hizo la modificacion para que la funcion ahora reciba el parametro de ``lamda_``\n",
    "\n",
    "Haciendo uso de la funcion de `calcularDescensoGradiente(X,y, theta, alpha, lambda_,num_iteraciones)`:"
   ]
  },
  {
   "cell_type": "code",
   "execution_count": 626,
   "metadata": {},
   "outputs": [
    {
     "name": "stdout",
     "output_type": "stream",
     "text": [
      "########################################################################################################\n",
      "Los valores de theta calculados son:\n",
      "theta 1: 506690.16632420995\n",
      "theta 2: 0.0\n",
      "theta 3: -4869.568831817847\n",
      "theta 4: -3302.437230533268\n",
      "theta 5: -3995.4304658379574\n",
      "theta 6: 2462.9916305665342\n",
      "theta 7: -76.88404571681362\n",
      "theta 8: -1347.5967408726085\n",
      "theta 9: -2415.5025995470683\n",
      "theta 10: -1045.882694283271\n",
      "theta 11: 11358.670177644903\n",
      "theta 12: -2238.753262428334\n",
      "theta 13: -4070.018350738615\n",
      "theta 14: -13506.557644431094\n",
      "theta 15: -3382.063558865369\n",
      "theta 16: -14516.47647239336\n",
      "theta 17: 22377.153711792827\n",
      "theta 18: -7581.491594826943\n",
      "theta 19: 153.07355692618592\n",
      "theta 20: 2323.937544516285\n",
      "theta 21: 5381.324552649309\n",
      "theta 22: -626.2003750293295\n",
      "theta 23: 1479.3689846131508\n",
      "theta 24: -2965.578238021956\n",
      "theta 25: -955.0894907620598\n",
      "theta 26: 5247.6121031143375\n",
      "theta 27: -945.135091164095\n",
      "theta 28: 1515.7595243294722\n",
      "theta 29: 8507.28199289683\n",
      "theta 30: 4629.039629835807\n",
      "theta 31: -6474.373336712528\n",
      "theta 32: -6310.787143624547\n",
      "theta 33: -2684.504711096665\n",
      "theta 34: -4904.40079862803\n",
      "theta 35: -4452.668435190236\n",
      "theta 36: 4770.3346521386065\n",
      "theta 37: -232.32840053554588\n",
      "theta 38: -2602.959176882355\n",
      "theta 39: 15338.21443992279\n",
      "theta 40: 21095.96085334548\n",
      "theta 41: -3348.8866571451667\n",
      "theta 42: 2482.341274163342\n",
      "theta 43: 6582.436322636701\n",
      "theta 44: 8703.915246166769\n",
      "theta 45: 857.2692059498034\n",
      "theta 46: 16870.649538594815\n",
      "theta 47: 21661.04653022808\n",
      "theta 48: 7339.197408879531\n",
      "theta 49: -3790.323739912862\n",
      "theta 50: -1066.1711906865592\n",
      "theta 51: -3325.8715249318057\n",
      "theta 52: -2882.122065499491\n",
      "theta 53: 3183.130342880686\n",
      "theta 54: 4606.662831598628\n",
      "theta 55: -4055.5295937765036\n",
      "theta 56: 23994.278009201014\n",
      "theta 57: -4082.191423268429\n",
      "theta 58: 2920.216743264301\n",
      "theta 59: 16187.88080174189\n",
      "theta 60: 12263.523869921259\n",
      "theta 61: 5877.8218012953275\n",
      "theta 62: 17634.97557836984\n",
      "theta 63: 24858.20315037248\n",
      "theta 64: 9577.536883670144\n",
      "theta 65: -5263.175159014431\n",
      "theta 66: 12576.386205799607\n",
      "theta 67: -4024.1906412642943\n",
      "theta 68: -3511.5194329462583\n",
      "theta 69: 3831.672189690776\n",
      "theta 70: 6458.565411944222\n",
      "theta 71: -6456.786289970245\n",
      "theta 72: 2686.7450073008067\n",
      "theta 73: -3049.5407274208046\n",
      "theta 74: -1534.6653696398996\n",
      "theta 75: -319.1829798017068\n",
      "theta 76: 2101.520935483528\n",
      "theta 77: 1919.3525832788089\n",
      "theta 78: -2880.0668518252473\n",
      "theta 79: -7478.798913876016\n",
      "theta 80: 2671.3524851221196\n",
      "theta 81: -1763.310881718775\n",
      "theta 82: 2452.8776874872233\n",
      "theta 83: 2380.483667382777\n",
      "theta 84: -2445.4485834857596\n",
      "theta 85: 122.0157654956715\n",
      "theta 86: 10022.14770419575\n",
      "theta 87: 2634.519121828844\n",
      "theta 88: -1251.1822716733677\n",
      "theta 89: -749.9898497638017\n",
      "theta 90: 4804.337552542719\n",
      "theta 91: 7913.639524866471\n",
      "theta 92: -184.60563664470558\n",
      "theta 93: 11046.794368624636\n",
      "theta 94: -838.9385622396801\n",
      "theta 95: -5372.586830153655\n",
      "theta 96: -71.9025221432161\n",
      "theta 97: 229.06650110586662\n",
      "theta 98: -33.73093051310474\n",
      "theta 99: -8897.369896778408\n",
      "theta 100: -6163.520509097547\n",
      "theta 101: -1347.5967408726085\n",
      "theta 102: -2898.5446675020144\n",
      "theta 103: -2521.606235634244\n",
      "theta 104: 4368.673805024573\n",
      "theta 105: 17661.907256755596\n",
      "theta 106: 8573.411550944673\n",
      "theta 107: -1058.202113460467\n",
      "theta 108: -6412.4617181972235\n",
      "theta 109: -1385.2804137883206\n",
      "theta 110: -1168.771185125885\n",
      "theta 111: 1407.9296089025581\n",
      "theta 112: 14647.2137325446\n",
      "theta 113: -2646.3073494601877\n",
      "theta 114: 1801.908078128077\n",
      "theta 115: 5445.229411620967\n",
      "theta 116: 6673.204094395901\n",
      "theta 117: 16235.765699537324\n",
      "theta 118: -872.6947672637904\n",
      "theta 119: -2841.329030090746\n",
      "theta 120: -4627.194871503613\n",
      "theta 121: -2430.675666186078\n",
      "theta 122: -2188.9146264382193\n",
      "theta 123: 2376.7917238787295\n",
      "theta 124: 8274.69882067016\n",
      "theta 125: -3332.08232555353\n",
      "theta 126: 366.38250282250937\n",
      "theta 127: 14483.036620285387\n",
      "theta 128: 6395.025444504274\n",
      "theta 129: 1025.1758674631003\n",
      "theta 130: -2524.6859985254605\n",
      "theta 131: -3900.8099236653925\n",
      "theta 132: -1099.2722957490462\n",
      "theta 133: -672.3956775763857\n",
      "theta 134: 1012.5585751400299\n",
      "theta 135: 17257.18344677205\n",
      "theta 136: 1299.6435436664842\n",
      "theta 137: 22879.01512702394\n",
      "theta 138: 15847.306942316049\n",
      "theta 139: 9158.208526468019\n",
      "theta 140: 8924.720488633637\n",
      "theta 141: 3927.44618065759\n",
      "theta 142: 11321.561016538733\n",
      "theta 143: 12095.712334466743\n",
      "theta 144: -11598.451367294403\n",
      "theta 145: 7450.300827907425\n",
      "theta 146: -786.9555038429644\n",
      "theta 147: 20944.65979354031\n",
      "theta 148: 23862.76183723268\n",
      "theta 149: -3359.459107809992\n",
      "theta 150: 12058.130623344767\n",
      "theta 151: -2267.7554828928896\n",
      "theta 152: -1803.2165677933826\n",
      "theta 153: 2084.6931840849857\n",
      "theta 154: 2947.70553294328\n",
      "theta 155: -6219.779783524478\n",
      "theta 156: -13773.59953399455\n",
      "theta 157: -4633.570155382665\n",
      "theta 158: 10450.30172873227\n",
      "theta 159: -4074.2874719173815\n",
      "theta 160: -3887.1722718460214\n",
      "theta 161: 4017.58607250763\n",
      "theta 162: 12308.29152281055\n",
      "theta 163: -4113.394567917\n",
      "theta 164: -12990.542877597587\n",
      "theta 165: -3219.3943100249703\n",
      "theta 166: -14191.502232935409\n",
      "theta 167: -9229.030993011913\n",
      "theta 168: 13298.414604074322\n",
      "theta 169: -2345.8104952100966\n",
      "theta 170: 2394.004941451737\n",
      "theta 171: -3125.7978735993997\n",
      "theta 172: -3410.478061227508\n",
      "theta 173: -3355.2342582351475\n",
      "theta 174: 3394.3386722861037\n",
      "theta 175: 17928.64403818695\n",
      "theta 176: -2045.778700897406\n",
      "theta 177: -14516.653707701369\n",
      "theta 178: 18443.900908527467\n",
      "theta 179: -555.0246795339075\n",
      "theta 180: 130.25142579561478\n",
      "theta 181: 2308.7396846332335\n",
      "theta 182: 22132.691830349708\n",
      "theta 183: -22647.907558780335\n",
      "theta 184: 577.8552636594823\n",
      "theta 185: 2214.9283511935046\n",
      "theta 186: 7595.940999697218\n",
      "theta 187: -315.49348409846095\n",
      "theta 188: -2307.6968544112087\n",
      "theta 189: 3645.9533550291453\n",
      "theta 190: -1418.6917296490321\n",
      "theta 191: 4430.791124331883\n",
      "########################################################################################################\n",
      "con un costo de: -13768336190219.828 \n",
      "la cantidad de theta son:  191\n"
     ]
    }
   ],
   "source": [
    "#creamos un theta con 19 columnas de ceros\n",
    "theta_RLP = np.zeros(len(X_ready_RLP[0]))\n",
    "\n",
    "#numero de iteraciones sera 1000000 y un alpha 0.00009\n",
    "num_ite_RLP = 6000\n",
    "alpha_RLP = 0.0009\n",
    "lambda__RLP = 1000\n",
    "\n",
    "theta_RLP, J_historico_RLP = calcularDescensoGradienteCR(X_ready_RLP, y_trainRLP, theta_RLP , alpha_RLP,lambda_RLP, num_ite_RLP)\n",
    "print(\"########################################################################################################\")\n",
    "print(\"Los valores de theta calculados son:\")\n",
    "i = 0\n",
    "for tht in theta_RLP:\n",
    "    i += 1\n",
    "    print(f\"theta {i}: {tht}\")\n",
    "\n",
    "print(f\"########################################################################################################\")\n",
    "#mostramos el ultimo costo, este seria el mejor costo\n",
    "print(f\"con un costo de: { J_historico_RLP[-1]} \")\n",
    "\n",
    "print(\"la cantidad de theta son: \", theta_RLP.shape[0])"
   ]
  },
  {
   "cell_type": "markdown",
   "metadata": {},
   "source": [
    "#### 1.2.4 Grafica de la convergencia del costo\n",
    "graficamos el costo"
   ]
  },
  {
   "cell_type": "code",
   "execution_count": 627,
   "metadata": {},
   "outputs": [
    {
     "data": {
      "text/plain": [
       "Text(0, 0.5, 'Costo J')"
      ]
     },
     "execution_count": 627,
     "metadata": {},
     "output_type": "execute_result"
    },
    {
     "data": {
      "image/png": "[encoded data removed]",
      "text/plain": [
       "<Figure size 640x480 with 1 Axes>"
      ]
     },
     "metadata": {},
     "output_type": "display_data"
    }
   ],
   "source": [
    "pyplot.plot(np.arange(len(J_historico_RLP)), J_historico_RLP, lw=2)\n",
    "pyplot.title(\"Grafica de la convergencia del costo\")\n",
    "pyplot.xlabel('Numero de iteraciones')\n",
    "pyplot.ylabel('Costo J')"
   ]
  },
  {
   "cell_type": "markdown",
   "metadata": {},
   "source": [
    "##### 1.2.4.1 Grafica de la regresion Polinomial\n",
    "\n",
    "En esta parte se trazan los datos de entrenamiento y una línea que representa la regresión lineal ajustada a esos datos."
   ]
  },
  {
   "cell_type": "code",
   "execution_count": 628,
   "metadata": {},
   "outputs": [
    {
     "data": {
      "text/plain": [
       "<matplotlib.legend.Legend at 0x2040bfd2960>"
      ]
     },
     "execution_count": 628,
     "metadata": {},
     "output_type": "execute_result"
    },
    {
     "data": {
      "image/png": "[encoded data removed]",
      "text/plain": [
       "<Figure size 640x480 with 1 Axes>"
      ]
     },
     "metadata": {},
     "output_type": "display_data"
    }
   ],
   "source": [
    "graficarDatos(X_norm_RLP[:, 150], X_norm_RLP[:, 151] , \"X_norm_150\", \"X_norm_151\")\n",
    "\n",
    "pyplot.plot(X_norm_RLP[:,150], np.dot(X_ready_RLP, theta_RLP), '-')\n",
    "\n",
    "pyplot.legend(['Datos de entrenamiento', 'regresion lineal'])"
   ]
  },
  {
   "cell_type": "markdown",
   "metadata": {},
   "source": [
    "haciendo una pequeña prueba:"
   ]
  },
  {
   "cell_type": "code",
   "execution_count": 629,
   "metadata": {},
   "outputs": [
    {
     "name": "stdout",
     "output_type": "stream",
     "text": [
      "La prediccion de la casa es de: [229666.87559657]\n"
     ]
    }
   ],
   "source": [
    "X_arrayRLP = np.array([3,1,1180,5650,1,0,0,3,7,1180,0,1955,0,98178,47.5112,-122.257,1340,5650])\n",
    "X_arrayRLP = X_arrayRLP.reshape(1, -1)\n",
    "\n",
    "poly = PolynomialFeatures(degree=2)\n",
    "#hacemos una copia de y_train y y_test para usarlo en la regresion polinomial\n",
    "X_arrayRLP = poly.fit_transform(X_arrayRLP)\n",
    "\n",
    "X_arrayRLP = np.concatenate([np.ones((X_arrayRLP.shape[0], 1)), X_arrayRLP], axis=1)\n",
    "\n",
    "X_arrayRLP[:, 1:] = (X_arrayRLP[:, 1:] - mu_RLP) / sigma_RLP\n",
    "\n",
    "prediccion_RLP = np.dot(X_arrayRLP, theta_RLP)\n",
    "\n",
    "print (f\"La prediccion de la casa es de: {prediccion_RLP}\")"
   ]
  },
  {
   "cell_type": "markdown",
   "metadata": {},
   "source": [
    "#### 1.2.5 Ejemplos de Predicciones\n",
    "\n",
    "Se creo una matriz con 11 ejemplos, donde se hace las predicciones correspondientes:"
   ]
  },
  {
   "cell_type": "code",
   "execution_count": 630,
   "metadata": {},
   "outputs": [
    {
     "name": "stdout",
     "output_type": "stream",
     "text": [
      "20\n",
      "19\n",
      "+------------+-------------+---------------+------------+----------+--------------+--------+-------------+---------+--------------+-----------------+------------+----------------+-----------+---------+----------+-----------------+--------------+-----------+\n",
      "|   bedrooms |   bathrooms |   sqft_living |   sqft_lot |   floors |   waterfront |   view |   condition |   grade |   sqft_above |   sqft_basement |   yr_built |   yr_renovated |   zipcode |     lat |     long |   sqft_living15 |   sqft_lot15 |     Price |\n",
      "+============+=============+===============+============+==========+==============+========+=============+=========+==============+=================+============+================+===========+=========+==========+=================+==============+===========+\n",
      "|          3 |        1    |          1180 |       5650 |      1   |            0 |      0 |           3 |       7 |         1180 |               0 |       1955 |              0 |     98178 | 47.5112 | -122.257 |            1340 |         5650 | 229667    |\n",
      "+------------+-------------+---------------+------------+----------+--------------+--------+-------------+---------+--------------+-----------------+------------+----------------+-----------+---------+----------+-----------------+--------------+-----------+\n",
      "|          2 |        0.75 |          1020 |       1076 |      2   |            0 |      0 |           3 |       7 |         1020 |               0 |       2008 |              0 |     98144 | 47.5941 | -122.299 |            1020 |         1357 | 197654    |\n",
      "+------------+-------------+---------------+------------+----------+--------------+--------+-------------+---------+--------------+-----------------+------------+----------------+-----------+---------+----------+-----------------+--------------+-----------+\n",
      "|          4 |        2.75 |          3555 |       6565 |      2   |            0 |      0 |           3 |       9 |         3555 |               0 |       2014 |              0 |     98053 | 47.6847 | -122.017 |            3625 |         5637 | 827520    |\n",
      "+------------+-------------+---------------+------------+----------+--------------+--------+-------------+---------+--------------+-----------------+------------+----------------+-----------+---------+----------+-----------------+--------------+-----------+\n",
      "|          2 |        1    |          1040 |      13920 |      1   |            0 |      0 |           3 |       6 |         1040 |               0 |       1973 |           1867 |     98198 | 47.3756 | -122.306 |            1100 |         7575 |   6256.83 |\n",
      "+------------+-------------+---------------+------------+----------+--------------+--------+-------------+---------+--------------+-----------------+------------+----------------+-----------+---------+----------+-----------------+--------------+-----------+\n",
      "|          4 |        1.75 |          1860 |       7350 |      1   |            0 |      0 |           4 |       7 |         1090 |             770 |       1977 |           1900 |     98031 | 47.3979 | -122.174 |            1710 |         7350 | 310882    |\n",
      "+------------+-------------+---------------+------------+----------+--------------+--------+-------------+---------+--------------+-----------------+------------+----------------+-----------+---------+----------+-----------------+--------------+-----------+\n",
      "|          1 |        1    |          1060 |      54846 |      1   |            1 |      4 |           3 |       5 |         1060 |               0 |       1935 |              0 |     98070 | 47.4716 | -122.445 |            2258 |        31762 | 477163    |\n",
      "+------------+-------------+---------------+------------+----------+--------------+--------+-------------+---------+--------------+-----------------+------------+----------------+-----------+---------+----------+-----------------+--------------+-----------+\n",
      "|          4 |        1.5  |          2220 |       9496 |      1   |            0 |      0 |           4 |       7 |         1490 |             730 |       1954 |              0 |     98004 | 47.6233 | -122.206 |            1800 |         8286 | 485976    |\n",
      "+------------+-------------+---------------+------------+----------+--------------+--------+-------------+---------+--------------+-----------------+------------+----------------+-----------+---------+----------+-----------------+--------------+-----------+\n",
      "|          4 |        1.5  |          1560 |       6534 |      1   |            0 |      0 |           4 |       7 |         1560 |               0 |       1962 |              0 |     98007 | 47.6012 | -122.152 |            1560 |         6969 | 391671    |\n",
      "+------------+-------------+---------------+------------+----------+--------------+--------+-------------+---------+--------------+-----------------+------------+----------------+-----------+---------+----------+-----------------+--------------+-----------+\n",
      "|          5 |        3    |          2510 |       4125 |      1.5 |            0 |      3 |           5 |       8 |         1590 |             920 |       1925 |              0 |     98144 | 47.5968 | -122.29  |            2190 |         5415 | 872751    |\n",
      "+------------+-------------+---------------+------------+----------+--------------+--------+-------------+---------+--------------+-----------------+------------+----------------+-----------+---------+----------+-----------------+--------------+-----------+\n",
      "|          3 |        2.5  |          1680 |       2096 |      2   |            0 |      0 |           3 |       8 |         1380 |             300 |       2008 |              0 |     98117 | 47.6904 | -122.37  |            1360 |         2096 | 457235    |\n",
      "+------------+-------------+---------------+------------+----------+--------------+--------+-------------+---------+--------------+-----------------+------------+----------------+-----------+---------+----------+-----------------+--------------+-----------+\n",
      "|          3 |        2.25 |          2020 |       3600 |      2   |            0 |      0 |           3 |       8 |         2020 |               0 |       1998 |              0 |     98033 | 47.6678 | -122.165 |            2070 |         3699 | 513438    |\n",
      "+------------+-------------+---------------+------------+----------+--------------+--------+-------------+---------+--------------+-----------------+------------+----------------+-----------+---------+----------+-----------------+--------------+-----------+\n"
     ]
    }
   ],
   "source": [
    "#Creamos la matriz con 11 ejemplos para hacer la prueba predecir un precio de cada ejemplo:\n",
    "matriz_datos_RLP = np.array([\n",
    "    [3,1,1180,5650,1,0,0,3,7,1180,0,1955,0,98178,47.5112,-122.257,1340,5650],\n",
    "    [2,0.75,1020,1076,2,0,0,3,7,1020,0,2008,0,98144,47.5941,-122.299,1020,1357],\n",
    "    [4,2.75,3555,6565,2,0,0,3,9,3555,0,2014,0,98053,47.6847,-122.017,3625,5637],\n",
    "    [2,1,1040,13920,1,0,0,3,6,1040,0,1973,1867,98198,47.3756,-122.306,1100,7575],\n",
    "    [4,1.75,1860,7350,1,0,0,4,7,1090,770,1977,1900,98031,47.3979,-122.174,1710,7350],\n",
    "    [1,1,1060,54846,1,1,4,3,5,1060,0,1935,0,98070,47.4716,-122.445,2258,31762],\n",
    "    [4,1.5,2220,9496,1,0,0,4,7,1490,730,1954,0,98004,47.6233,-122.206,1800,8286],\n",
    "    [4,1.5,1560,6534,1,0,0,4,7,1560,0,1962,0,98007,47.6012,-122.152,1560,6969],\n",
    "    [5,3,2510,4125,1.5,0,3,5,8,1590,920,1925,0,98144,47.5968,-122.29,2190,5415],\n",
    "    [3,2.5,1680,2096,2,0,0,3,8,1380,300,2008,0,98117,47.6904,-122.37,1360,2096],\n",
    "    [3,2.25,2020,3600,2,0,0,3,8,2020,0,1998,0,98033,47.6678,-122.165,2070,3699]\n",
    "])\n",
    "\n",
    "#creamos un vector parta almacenar cada Y predicha\n",
    "y_pre_RLP = []\n",
    "\n",
    "matriz_datos_RLP_copy = matriz_datos_RLP.copy()\n",
    "\n",
    "poly = PolynomialFeatures(degree=2)\n",
    "#hacemos una copia de y_train y y_test para usarlo en la regresion polinomial\n",
    "matriz_datos_RLP = poly.fit_transform(matriz_datos_RLP)\n",
    "\n",
    "matriz_datos_RLP = np.concatenate([np.ones((matriz_datos_RLP.shape[0], 1)), matriz_datos_RLP], axis=1)\n",
    "\n",
    "\n",
    "#Normalizamos todos, menos el primer valor de cada ejemplo\n",
    "\n",
    "matriz_datos_RLP[:, 1:] = (matriz_datos_RLP[:, 1:] - mu_RLP) / sigma_RLP\n",
    "\n",
    "\n",
    "#Calculamos la Y predicha de los 11 ejemplos de prediccion\n",
    "for datos in matriz_datos_RLP:\n",
    "    y_pre_RLP.append(np.dot(datos, theta_RLP.T))\n",
    "\n",
    "matriz_datos_RLP_copy = np.column_stack((matriz_datos_RLP_copy, y_pre_RLP))\n",
    "\n",
    "nombres_columnas = ['bedrooms','bathrooms','sqft_living','sqft_lot','floors','waterfront','view','condition','grade','sqft_above','sqft_basement','yr_built','yr_renovated','zipcode','lat','long','sqft_living15','sqft_lot15','Price']\n",
    "\n",
    "# Convertir la matriz en una lista de listas\n",
    "datos_para_tabla = matriz_datos_RLP_copy.tolist()\n",
    "\n",
    "print(len(matriz_datos_RLM[0]))\n",
    "print(len(matriz_datos_RLM_copy[0]))\n",
    "\n",
    "# Imprimir la tabla\n",
    "print(tabulate(datos_para_tabla, headers=nombres_columnas, tablefmt='grid'))"
   ]
  },
  {
   "cell_type": "markdown",
   "metadata": {},
   "source": [
    "#### 1.2.6 Validaciones\n",
    "Para hacer las validaciones correspondientes, primero se crea la funcion del **Mean squeared error**\n",
    "\n",
    "Siguiendo el consejo de 80/20, donde 80% es para la fase de entrenamiento, y 20% es para la fase de prueba.\n",
    "\n",
    "haciendo calculo del error cuadratico medio:"
   ]
  },
  {
   "cell_type": "code",
   "execution_count": 631,
   "metadata": {},
   "outputs": [
    {
     "name": "stdout",
     "output_type": "stream",
     "text": [
      "Error Cuadrático Medio (MSE) = 40762801583.29683\n",
      "Raíz del Error Cuadrático Medio (RMSE) = 201897.9979675302\n"
     ]
    }
   ],
   "source": [
    "poly = PolynomialFeatures(degree=2)\n",
    "#hacemos una copia de y_train y y_test para usarlo en la regresion polinomial\n",
    "X_testRLP = poly.fit_transform(X_testRLP)\n",
    "\n",
    "# Normalizamos todos, menos el primer valor de cada ejemplo porque este contiene los unos\n",
    "X_testRLP = (X_testRLP - mu_RLP) / sigma_RLP\n",
    "\n",
    "#Concatenamos de unos a la primera posicion del X_test\n",
    "X_testRLP_ready = np.concatenate([np.ones((m_test_RLP, 1)), X_testRLP], axis=1)\n",
    "\n",
    "#creamos un array que almacenara cada una de las y_predicha\n",
    "y_predicha_RLP = []\n",
    "for data_RLP in X_testRLP_ready:\n",
    "    y_predicha_RLP.append(np.dot(data_RLP, theta_RLP))\n",
    "\n",
    "mse_RLP = mean_squared_error(y_predicha_RLP, y_testRLP)\n",
    "#calculamos el error cuadratico medio:\n",
    "#calculamos el error cuadratico medio:\n",
    "print('Error Cuadrático Medio (MSE) = ' + str(mse_RLP))\n",
    "print('Raíz del Error Cuadrático Medio (RMSE) = ' + str(np.sqrt(mse_RLP)))"
   ]
  },
  {
   "cell_type": "markdown",
   "metadata": {},
   "source": [
    "### 1.3 Ecuacion de la normal\n",
    "\n",
    "Utilizada en el contexto de la regresión lineal para calcular los parámetros del modelo de regresión directamente a partir de los datos de entrenamiento. Se denomina \"normal\" porque se deriva de la \"ecuación normal\" de un sistema de ecuaciones lineales."
   ]
  },
  {
   "cell_type": "markdown",
   "metadata": {},
   "source": [
    "#### 1.3.1 Agregando la columna de unos a la matriz $X$ para tener el termino de intersección"
   ]
  },
  {
   "cell_type": "code",
   "execution_count": 632,
   "metadata": {},
   "outputs": [
    {
     "name": "stdout",
     "output_type": "stream",
     "text": [
      "X_ren[:,0]  X_ren[:, 1]  X_ren[:, 2]  X_ren[:, 3]  X_ren[:, 4]  X_ren[:, 5]  X_ren[:, 6]  X_ren[:, 7]  X_ren[:, 8]  X_ren[:, 9]  X_ren[:, 10]  X_ren[:, 11]  X_ren[:, 12]  X_ren[:, 13]  X_ren[:, 14]  X_ren[:, 15]  X_ren[:, 16]  X_ren[:, 17]  X_ren[:, 18]\n",
      "--------------------------------------------------------------------------------------------------------------------------------------------------------------------------------------------------------------------------------------------------------------------\n",
      "         1           2           2           1390          6670           1            0             0           3             6          720           670         1941             0          98115           48          -122            920          6380\n",
      "         1           3           3           2540          8604           2            0             0           3             8         2540             0         1991             0          98092           47          -122           2260          7438\n",
      "         1           3           3           3280         10558           1            0             2           4             9         2040          1240         1979             0          98006           48          -122           3150          9998\n",
      "         1           4           3           2060         21344           1            0             0           2             8         1460           600         1978             0          98005           48          -122           2060         16088\n",
      "         1           3           1           1060          9241           1            0             0           4             7         1060             0         1956             0          98133           48          -122           1900          6484\n",
      "         1           2           1            800          4046           1            0             0           3             7          800             0         1940             0          98117           48          -122           1400          4046\n",
      "         1           3           2           1560         14288           1            0             0           3             6          780           780         1944             0          98125           48          -122           1320          8928\n",
      "         1           4           2           2040         11850           1            0             2           3             7         1020          1020         1959             0          98033           48          -122           2040          8504\n",
      "         1           5           2           3750         91681           2            1             4           3            10         3750             0         1925             0          98118           48          -122           3540         24293\n",
      "         1           2           2           1440          4225           1            0             0           3             8         1440             0         2005             0          98053           48          -122           1680          6200\n"
     ]
    }
   ],
   "source": [
    "# Cargamos los datos utilizando pandasd\n",
    "data = pd.read_csv('kc_house_data.csv', delimiter=',')\n",
    "\n",
    "#retiramos el id y la fecha del las columnas, quitamos el precio ya que ira a el vector Y, tambien quitamos los titulos\n",
    "dataset = data.drop(['id', 'date'], axis=1).astype(float)\n",
    "\n",
    "# Seleccionar aleatoriamente 20,000 ejemplos\n",
    "sampled_dataset = dataset.sample(n=20000, random_state=42)\n",
    "\n",
    "train_dataset, test_dataset = train_test_split(sampled_dataset, test_size=0.2, random_state=42)\n",
    "\n",
    "X_testEc = test_dataset.drop(['price'], axis=1).values\n",
    "y_testEc = test_dataset['price'].values\n",
    "m_testEc = len(y_testEc)\n",
    "\n",
    "# Seleccionamos las columnas para X y la columna 'price' para Y\n",
    "X_trainEc = train_dataset.drop(['price'], axis=1).values\n",
    "y_trainEc = train_dataset['price'].values\n",
    "m_trainEc = len(y_trainEc)\n",
    "\n",
    "#añadimos unos a la X\n",
    "X_ren = np.concatenate([np.ones((m_trainEc, 1)), X_trainEc], axis=1)\n",
    "\n",
    "#Imprimimos X_ready\n",
    "print('{:>8s}{:>10s}{:>10s}{:>10s}{:>8s}{:>8s}{:>8s}{:>8s}{:>6s}{:>10s}{:>10s}{:>10s}{:>10s}{:>10s}{:>10s}{:>10s}{:>10s}{:>10s}{:>10s}'.format(\n",
    "    'X_ren[:,0]', '  X_ren[:, 1]', '  X_ren[:, 2]', '  X_ren[:, 3]', '  X_ren[:, 4]', '  X_ren[:, 5]', '  X_ren[:, 6]', '  X_ren[:, 7]', '  X_ren[:, 8]', '  X_ren[:, 9]', '  X_ren[:, 10]', '  X_ren[:, 11]',\n",
    "    '  X_ren[:, 12]', '  X_ren[:, 13]', '  X_ren[:, 14]', '  X_ren[:, 15]', '  X_ren[:, 16]', '  X_ren[:, 17]', '  X_ren[:, 18]'\n",
    "))\n",
    "print('-' * 260)\n",
    "\n",
    "for i in range(10):\n",
    "    print('{:10.0f}{:12.0f}{:12.0f}{:15.0f}{:14.0f}{:12.0f}{:13.0f}{:14.0f}{:12.0f}{:14.0f}{:13.0f}{:14.0f}{:13.0f}{:14.0f}{:15.0f}{:13.0f}{:14.0f}{:15.0f}{:14.0f}'.format(\n",
    "        X_ren[i, 0], X_ren[i, 1], X_ren[i, 2], X_ren[i, 3], X_ren[i, 4], X_ren[i, 5], X_ren[i, 6], X_ren[i, 7], X_ren[i, 8], X_ren[i, 9], X_ren[i, 10], X_ren[i, 11],\n",
    "        X_ren[i, 12], X_ren[i, 13], X_ren[i, 14], X_ren[i, 15], X_ren[i, 16], X_ren[i, 17], X_ren[i, 18]\n",
    "    ))"
   ]
  },
  {
   "cell_type": "markdown",
   "metadata": {},
   "source": [
    "#### 1.3.2 Calculando Theta"
   ]
  },
  {
   "cell_type": "code",
   "execution_count": 633,
   "metadata": {},
   "outputs": [
    {
     "name": "stdout",
     "output_type": "stream",
     "text": [
      "########################################################################################################\n",
      "Los valores de theta usando la ecuacion de la normal es calculados son:\n",
      "theta 1: 2693979.917729182\n",
      "theta 2: -38736.85779052556\n",
      "theta 3: 31626.94094242448\n",
      "theta 4: 120.97182354138238\n",
      "theta 5: 0.02176411252180918\n",
      "theta 6: 21617.720152530528\n",
      "theta 7: 62327.35927787108\n",
      "theta 8: 62940.69827965201\n",
      "theta 9: 17709.42778153056\n",
      "theta 10: 99429.60939657292\n",
      "theta 11: 64.21046443993296\n",
      "theta 12: 56.76153198926804\n",
      "theta 13: -3171.3563311629127\n",
      "theta 14: 22.195685971886096\n",
      "theta 15: -70.42016517903511\n",
      "theta 16: 125587.59564667387\n",
      "theta 17: -30925.407833100686\n",
      "theta 18: 33.449250353321325\n",
      "theta 19: -0.5077583847040019\n",
      "########################################################################################################\n"
     ]
    }
   ],
   "source": [
    "# Calculamos thea haciendo uso de la funcion\n",
    "lambda_Ec = 1000\n",
    "theta_Ec = calcularThethaEcuacionNormalCR(X_ren, y_trainEc, lambda_Ec);\n",
    "\n",
    "print(f\"########################################################################################################\")\n",
    "print(\"Los valores de theta usando la ecuacion de la normal es calculados son:\")\n",
    "i = 0\n",
    "for thtEc in theta_Ec:\n",
    "    i += 1\n",
    "    print(f\"theta {i}: {thtEc}\")\n",
    "print(f\"########################################################################################################\")"
   ]
  },
  {
   "cell_type": "markdown",
   "metadata": {},
   "source": [
    "Haciendo pequeña prueba"
   ]
  },
  {
   "cell_type": "code",
   "execution_count": 634,
   "metadata": {},
   "outputs": [
    {
     "name": "stdout",
     "output_type": "stream",
     "text": [
      "La prediccion de la casa es de: 274693.1375955767\n"
     ]
    }
   ],
   "source": [
    "X_arrayEc = np.array([1,3,1,1180,5650,1,0,0,3,7,1180,0,1955,0,98178,47.5112,-122.257,1340,5650])\n",
    "\n",
    "prediccion_Ec = np.dot(X_arrayEc, theta_Ec)\n",
    "\n",
    "print (f\"La prediccion de la casa es de: {prediccion_Ec}\")"
   ]
  },
  {
   "cell_type": "markdown",
   "metadata": {},
   "source": [
    "#### 1.3.3 Ejemplos de Predicciones haciendo uso de la Ecuacion de la normal\n",
    "\n",
    "Se creo una matriz con 11 ejemplos, donde se hace las predicciones correpondientes:"
   ]
  },
  {
   "cell_type": "code",
   "execution_count": 635,
   "metadata": {},
   "outputs": [
    {
     "name": "stdout",
     "output_type": "stream",
     "text": [
      "+----+------------+-------------+---------------+------------+----------+--------------+--------+-------------+---------+--------------+-----------------+------------+----------------+-----------+---------+----------+-----------------+--------------+---------+\n",
      "|    |   bedrooms |   bathrooms |   sqft_living |   sqft_lot |   floors |   waterfront |   view |   condition |   grade |   sqft_above |   sqft_basement |   yr_built |   yr_renovated |   zipcode |     lat |     long |   sqft_living15 |   sqft_lot15 |   Price |\n",
      "+====+============+=============+===============+============+==========+==============+========+=============+=========+==============+=================+============+================+===========+=========+==========+=================+==============+=========+\n",
      "|  1 |          3 |        1    |          1180 |       5650 |      1   |            0 |      0 |           3 |       7 |         1180 |               0 |       1955 |              0 |     98178 | 47.5112 | -122.257 |            1340 |         5650 |  274693 |\n",
      "+----+------------+-------------+---------------+------------+----------+--------------+--------+-------------+---------+--------------+-----------------+------------+----------------+-----------+---------+----------+-----------------+--------------+---------+\n",
      "|  1 |          2 |        0.75 |          1020 |       1076 |      2   |            0 |      0 |           3 |       7 |         1020 |               0 |       2008 |              0 |     98144 | 47.5941 | -122.299 |            1020 |         1357 |  134911 |\n",
      "+----+------------+-------------+---------------+------------+----------+--------------+--------+-------------+---------+--------------+-----------------+------------+----------------+-----------+---------+----------+-----------------+--------------+---------+\n",
      "|  1 |          4 |        2.75 |          3555 |       6565 |      2   |            0 |      0 |           3 |       9 |         3555 |               0 |       2014 |              0 |     98053 | 47.6847 | -122.017 |            3625 |         5637 |  864106 |\n",
      "+----+------------+-------------+---------------+------------+----------+--------------+--------+-------------+---------+--------------+-----------------+------------+----------------+-----------+---------+----------+-----------------+--------------+---------+\n",
      "|  1 |          2 |        1    |          1040 |      13920 |      1   |            0 |      0 |           3 |       6 |         1040 |               0 |       1973 |           2020 |     98198 | 47.3756 | -122.306 |            1100 |         7575 |  150078 |\n",
      "+----+------------+-------------+---------------+------------+----------+--------------+--------+-------------+---------+--------------+-----------------+------------+----------------+-----------+---------+----------+-----------------+--------------+---------+\n",
      "|  1 |          4 |        1.75 |          1860 |       7350 |      1   |            0 |      0 |           4 |       7 |         1090 |             770 |       1977 |           2000 |     98031 | 47.3979 | -122.174 |            1710 |         7350 |  377302 |\n",
      "+----+------------+-------------+---------------+------------+----------+--------------+--------+-------------+---------+--------------+-----------------+------------+----------------+-----------+---------+----------+-----------------+--------------+---------+\n",
      "|  1 |          1 |        1    |          1060 |      54846 |      1   |            1 |      4 |           3 |       5 |         1060 |               0 |       1935 |              0 |     98070 | 47.4716 | -122.445 |            2258 |        31762 |  535568 |\n",
      "+----+------------+-------------+---------------+------------+----------+--------------+--------+-------------+---------+--------------+-----------------+------------+----------------+-----------+---------+----------+-----------------+--------------+---------+\n",
      "|  1 |          4 |        1.5  |          2220 |       9496 |      1   |            0 |      0 |           4 |       7 |         1490 |             730 |       1954 |              0 |     98004 | 47.6233 | -122.206 |            1800 |         8286 |  498689 |\n",
      "+----+------------+-------------+---------------+------------+----------+--------------+--------+-------------+---------+--------------+-----------------+------------+----------------+-----------+---------+----------+-----------------+--------------+---------+\n",
      "|  1 |          4 |        1.5  |          1560 |       6534 |      1   |            0 |      0 |           4 |       7 |         1560 |               0 |       1962 |              0 |     98007 | 47.6012 | -122.152 |            1560 |         6969 |  344455 |\n",
      "+----+------------+-------------+---------------+------------+----------+--------------+--------+-------------+---------+--------------+-----------------+------------+----------------+-----------+---------+----------+-----------------+--------------+---------+\n",
      "|  1 |          5 |        3    |          2510 |       4125 |      1.5 |            0 |      3 |           5 |       8 |         1590 |             920 |       1925 |              0 |     98144 | 47.5968 | -122.29  |            2190 |         5415 |  972216 |\n",
      "+----+------------+-------------+---------------+------------+----------+--------------+--------+-------------+---------+--------------+-----------------+------------+----------------+-----------+---------+----------+-----------------+--------------+---------+\n",
      "|  1 |          3 |        2.5  |          1680 |       2096 |      2   |            0 |      0 |           3 |       8 |         1380 |             300 |       2008 |              0 |     98117 | 47.6904 | -122.37  |            1360 |         2096 |  398147 |\n",
      "+----+------------+-------------+---------------+------------+----------+--------------+--------+-------------+---------+--------------+-----------------+------------+----------------+-----------+---------+----------+-----------------+--------------+---------+\n",
      "|  1 |          3 |        2.25 |          2020 |       3600 |      2   |            0 |      0 |           3 |       8 |         2020 |               0 |       1998 |              0 |     98033 | 47.6678 | -122.165 |            2070 |         3699 |  506856 |\n",
      "+----+------------+-------------+---------------+------------+----------+--------------+--------+-------------+---------+--------------+-----------------+------------+----------------+-----------+---------+----------+-----------------+--------------+---------+\n"
     ]
    }
   ],
   "source": [
    "matriz_datosEc = np.array([\n",
    "    [1,3,1,1180,5650,1,0,0,3,7,1180,0,1955,0,98178,47.5112,-122.257,1340,5650],\n",
    "    [1,2,0.75,1020,1076,2,0,0,3,7,1020,0,2008,0,98144,47.5941,-122.299,1020,1357],\n",
    "    [1,4,2.75,3555,6565,2,0,0,3,9,3555,0,2014,0,98053,47.6847,-122.017,3625,5637],\n",
    "    [1,2,1,1040,13920,1,0,0,3,6,1040,0,1973,2020,98198,47.3756,-122.306,1100,7575],\n",
    "    [1,4,1.75,1860,7350,1,0,0,4,7,1090,770,1977,2000,98031,47.3979,-122.174,1710,7350],\n",
    "    [1,1,1,1060,54846,1,1,4,3,5,1060,0,1935,0,98070,47.4716,-122.445,2258,31762],\n",
    "    [1,4,1.5,2220,9496,1,0,0,4,7,1490,730,1954,0,98004,47.6233,-122.206,1800,8286],\n",
    "    [1,4,1.5,1560,6534,1,0,0,4,7,1560,0,1962,0,98007,47.6012,-122.152,1560,6969],\n",
    "    [1,5,3,2510,4125,1.5,0,3,5,8,1590,920,1925,0,98144,47.5968,-122.29,2190,5415],\n",
    "    [1,3,2.5,1680,2096,2,0,0,3,8,1380,300,2008,0,98117,47.6904,-122.37,1360,2096],\n",
    "    [1,3,2.25,2020,3600,2,0,0,3,8,2020,0,1998,0,98033,47.6678,-122.165,2070,3699]\n",
    "])\n",
    "\n",
    "#creamos un vector parta almacenar cada Y predicha\n",
    "y_pre_Ec = []\n",
    "#Calculamos la Y predicha de los 11 ejemplos de prediccion\n",
    "for datosEc in matriz_datosEc:\n",
    "    y_pre_Ec.append(np.dot(datosEc, theta_Ec))\n",
    "\n",
    "matriz_datosEc = np.column_stack((matriz_datosEc, y_pre_Ec))\n",
    "\n",
    "nombres_columnas = ['bedrooms','bathrooms','sqft_living','sqft_lot','floors','waterfront','view','condition','grade','sqft_above','sqft_basement','yr_built','yr_renovated','zipcode','lat','long','sqft_living15','sqft_lot15','Price']\n",
    "\n",
    "# Convertir la matriz en una lista de listas\n",
    "datos_para_tabla = matriz_datosEc.tolist()\n",
    "\n",
    "# Imprimir la tabla\n",
    "print(tabulate(datos_para_tabla, headers=nombres_columnas, tablefmt='grid'))"
   ]
  },
  {
   "cell_type": "markdown",
   "metadata": {},
   "source": [
    "#### 1.3.4 Validaciones\n",
    "Para hacer las validaciones correspondientes, primero se crea la funcion del **Mean squeared error**\n",
    "\n",
    "Siguiendo el consejo de 80/20, donde 80% es para la fase de entrenamiento, y 20% es para la fase de prueba."
   ]
  },
  {
   "cell_type": "code",
   "execution_count": 636,
   "metadata": {},
   "outputs": [
    {
     "name": "stdout",
     "output_type": "stream",
     "text": [
      "Error Cuadrático Medio (MSE) = 46140716256.15447\n",
      "Raíz del Error Cuadrático Medio (RMSE) = 214803.90186436204\n"
     ]
    }
   ],
   "source": [
    "#Concatenamos de unos a la primera posicion del X_test\n",
    "X_ready_testEc = np.concatenate([np.ones((m_testEc, 1)), X_testEc], axis=1)\n",
    "\n",
    "#creamos un array que almacenara cada una de las y_predicha\n",
    "y_predicha_Ec = []\n",
    "for data_test_ready in X_ready_testEc:\n",
    "    y_predicha_Ec.append(np.dot(data_test_ready, theta_Ec))\n",
    "\n",
    "#calculamos el error cuadratico medio:\n",
    "mse_Ec = mean_squared_error(y_predicha_Ec, y_testEc)\n",
    "#calculamos el error cuadratico medio:\n",
    "print('Error Cuadrático Medio (MSE) = ' + str(mse_Ec))\n",
    "print('Raíz del Error Cuadrático Medio (RMSE) = ' + str(np.sqrt(mse_Ec)))"
   ]
  },
  {
   "cell_type": "markdown",
   "metadata": {},
   "source": [
    "## 2. Usando sin regularizacion"
   ]
  },
  {
   "cell_type": "markdown",
   "metadata": {},
   "source": [
    "En esta parte del laboratorio no se usara la parte de regularizacion, esto para ver como es el comportamiento del modelo."
   ]
  },
  {
   "cell_type": "markdown",
   "metadata": {},
   "source": [
    "### 2.1 regresion lineal multivariable"
   ]
  },
  {
   "cell_type": "code",
   "execution_count": 637,
   "metadata": {},
   "outputs": [],
   "source": [
    "#hacemos una copia de y_train y y_test para usarlo en la regresion lineal multivariable\n",
    "\n",
    "#estos datos seran usados para el entrenamiento\n",
    "X_testRLM = X_test.copy()\n",
    "y_testRLM = y_test.copy()\n",
    "m_test_RLM = len(y_testRLM)\n",
    "\n",
    "#estos datos seran usados para el test\n",
    "X_trainRLM = X_train.copy()\n",
    "y_trainRLM = y_train.copy()\n",
    "m_train_RLM = len(y_trainRLM)"
   ]
  },
  {
   "cell_type": "markdown",
   "metadata": {},
   "source": [
    "#### 2.1.1 Normalizacion de las caracteristicas\n",
    "\n",
    "Se hace uso de la funcion de `featureNormalize(X) ` donde se recibe un parametro de tipo matriz para normalizar cada dato dentro de ella, retornandome la **matriz normalizda**, **sigma(desviacion estandar)**, y mi **mu(media)**."
   ]
  },
  {
   "cell_type": "code",
   "execution_count": 638,
   "metadata": {},
   "outputs": [
    {
     "name": "stdout",
     "output_type": "stream",
     "text": [
      "    X[:,0]   X[:, 1]   X[:, 2]   X[:, 3]   X[:, 4]   X[:, 5]   X[:, 6]   X[:, 7]   X[:, 8]   X[:, 9]  X[:, 10]  X[:, 11]  X[:, 12]  X[:, 13]  X[:, 14]  X[:, 15]  X[:, 16]  X[:, 17]\n",
      "------------------------------------------------------------------------------------------------------------------------------------------------------------------------------------\n",
      "    -0.395    -0.474    -0.324    -0.044    -0.920    -0.085    -0.306     0.909     1.150    -0.007    -0.656     0.404    -0.208    -0.675    -1.397     0.442     1.126     0.013\n",
      "    -1.469    -1.453    -1.184    -0.286    -0.920    -0.085    -0.306    -0.625    -1.413    -1.200    -0.200    -1.431    -0.208     0.751    -0.060    -0.540    -1.047    -0.281\n",
      "    -0.395    -1.453    -1.095    -0.188     0.002    -0.085    -0.306    -0.625    -1.413    -0.969    -0.451    -0.989    -0.208     1.276    -0.553    -0.860    -1.193    -0.179\n",
      "    -0.395     0.178     0.018    -0.188    -0.920    -0.085    -0.306     0.909    -0.559    -0.616     1.190     0.200    -0.208    -0.881    -1.194     0.300    -0.268    -0.195\n",
      "    -1.469     0.504    -0.367    -0.344     0.923    -0.085    -0.306    -0.625     0.296    -0.414     0.016     1.219    -0.208    -0.825     1.040     0.037     0.157    -0.083\n",
      "    -0.395    -0.474     0.293     0.954     0.002    -0.085    -0.306    -0.625     0.296    -0.336     1.236     0.234    -0.208    -0.956    -0.547     1.275     0.113     2.355\n",
      "     1.752     0.830    -0.037    -0.188    -0.920    -0.085    -0.306     0.909    -0.559    -0.713     1.258    -0.072    -0.208    -0.825     1.218     0.300    -0.665    -0.190\n",
      "     1.752     0.178     1.373    -0.043    -0.920    -0.085     2.320     0.909     1.150     0.139     2.580    -0.241    -0.208    -0.937     1.435    -0.390     1.229     0.015\n",
      "    -0.395    -0.474    -0.346    -0.165    -0.920    -0.085    -0.306     0.909     0.296    -0.397     0.028    -0.377    -0.208     1.088    -0.179    -1.252    -0.004    -0.157\n",
      "    -0.395     0.504    -0.511    -0.252     0.923    -0.085    -0.306    -0.625    -0.559    -0.214    -0.656     1.117    -0.208    -0.750    -1.279     1.218    -0.283    -0.327\n"
     ]
    }
   ],
   "source": [
    "#introductimos los datos a la funcion de normalizacion\n",
    "X_norm_RLM, mu_RLM, sigma_RLM = featureNormalize(X_trainRLM)\n",
    "\n",
    "# imprimimos algunos valores de X_norm\n",
    "print('{:>10s}{:>10s}{:>10s}{:>10s}{:>10s}{:>10s}{:>10s}{:>10s}{:>10s}{:>10s}{:>10s}{:>10s}{:>10s}{:>10s}{:>10s}{:>10s}{:>10s}{:>10s}'.format(\n",
    "    'X[:,0]', 'X[:, 1]', 'X[:, 2]', 'X[:, 3]', 'X[:, 4]', 'X[:, 5]', 'X[:, 6]', 'X[:, 7]', 'X[:, 8]', 'X[:, 9]', 'X[:, 10]', 'X[:, 11]',\n",
    "    'X[:, 12]', 'X[:, 13]', 'X[:, 14]', 'X[:, 15]', 'X[:, 16]', 'X[:, 17]'\n",
    "))\n",
    "print('-' * 180)\n",
    "\n",
    "for i in range(10):\n",
    "    print('{:10.3f}{:10.3f}{:10.3f}{:10.3f}{:10.3f}{:10.3f}{:10.3f}{:10.3f}{:10.3f}{:10.3f}{:10.3f}{:10.3f}{:10.3f}{:10.3f}{:10.3f}{:10.3f}{:10.3f}{:10.3f}'.format(\n",
    "        X_norm_RLM[i, 0], \n",
    "        X_norm_RLM[i, 1], \n",
    "        X_norm_RLM[i, 2], \n",
    "        X_norm_RLM[i, 3], \n",
    "        X_norm_RLM[i, 4], \n",
    "        X_norm_RLM[i, 5], \n",
    "        X_norm_RLM[i, 6], \n",
    "        X_norm_RLM[i, 7], \n",
    "        X_norm_RLM[i, 8], \n",
    "        X_norm_RLM[i, 9], \n",
    "        X_norm_RLM[i, 10], \n",
    "        X_norm_RLM[i, 11],\n",
    "        X_norm_RLM[i, 12],\n",
    "        X_norm_RLM[i, 13], \n",
    "        X_norm_RLM[i, 14], \n",
    "        X_norm_RLM[i, 15], \n",
    "        X_norm_RLM[i, 16], \n",
    "        X_norm_RLM[i, 17],))"
   ]
  },
  {
   "cell_type": "markdown",
   "metadata": {},
   "source": [
    "#### 2.1.2 Agregamos la columna de unos a nuestra matriz\n",
    "\n",
    "Agregamos nuestra variable de sesgo que sera nuestra columna de unos."
   ]
  },
  {
   "cell_type": "code",
   "execution_count": 639,
   "metadata": {},
   "outputs": [
    {
     "name": "stdout",
     "output_type": "stream",
     "text": [
      "    X[:,0]   X[:, 1]   X[:, 2]   X[:, 3]   X[:, 4]   X[:, 5]   X[:, 6]   X[:, 7]   X[:, 8]   X[:, 9]  X[:, 10]  X[:, 11]  X[:, 12]  X[:, 13]  X[:, 14]  X[:, 15]  X[:, 16]  X[:, 17]  X[:, 18]\n",
      "------------------------------------------------------------------------------------------------------------------------------------------------------------------------------------\n",
      "     1.000    -0.395    -0.474    -0.324    -0.044    -0.920    -0.085    -0.306     0.909     1.150    -0.007    -0.656     0.404    -0.208    -0.675    -1.397     0.442     1.126     0.013\n",
      "     1.000    -1.469    -1.453    -1.184    -0.286    -0.920    -0.085    -0.306    -0.625    -1.413    -1.200    -0.200    -1.431    -0.208     0.751    -0.060    -0.540    -1.047    -0.281\n",
      "     1.000    -0.395    -1.453    -1.095    -0.188     0.002    -0.085    -0.306    -0.625    -1.413    -0.969    -0.451    -0.989    -0.208     1.276    -0.553    -0.860    -1.193    -0.179\n",
      "     1.000    -0.395     0.178     0.018    -0.188    -0.920    -0.085    -0.306     0.909    -0.559    -0.616     1.190     0.200    -0.208    -0.881    -1.194     0.300    -0.268    -0.195\n",
      "     1.000    -1.469     0.504    -0.367    -0.344     0.923    -0.085    -0.306    -0.625     0.296    -0.414     0.016     1.219    -0.208    -0.825     1.040     0.037     0.157    -0.083\n",
      "     1.000    -0.395    -0.474     0.293     0.954     0.002    -0.085    -0.306    -0.625     0.296    -0.336     1.236     0.234    -0.208    -0.956    -0.547     1.275     0.113     2.355\n",
      "     1.000     1.752     0.830    -0.037    -0.188    -0.920    -0.085    -0.306     0.909    -0.559    -0.713     1.258    -0.072    -0.208    -0.825     1.218     0.300    -0.665    -0.190\n",
      "     1.000     1.752     0.178     1.373    -0.043    -0.920    -0.085     2.320     0.909     1.150     0.139     2.580    -0.241    -0.208    -0.937     1.435    -0.390     1.229     0.015\n",
      "     1.000    -0.395    -0.474    -0.346    -0.165    -0.920    -0.085    -0.306     0.909     0.296    -0.397     0.028    -0.377    -0.208     1.088    -0.179    -1.252    -0.004    -0.157\n",
      "     1.000    -0.395     0.504    -0.511    -0.252     0.923    -0.085    -0.306    -0.625    -0.559    -0.214    -0.656     1.117    -0.208    -0.750    -1.279     1.218    -0.283    -0.327\n"
     ]
    }
   ],
   "source": [
    "X_ready_RLM = np.concatenate([np.ones((m_train_RLM, 1)), X_norm_RLM], axis=1)\n",
    "\n",
    "# imprimimos algunos valores de X_norm\n",
    "print('{:>10s}{:>10s}{:>10s}{:>10s}{:>10s}{:>10s}{:>10s}{:>10s}{:>10s}{:>10s}{:>10s}{:>10s}{:>10s}{:>10s}{:>10s}{:>10s}{:>10s}{:>10s}{:>10s}'.format(\n",
    "    'X[:,0]', 'X[:, 1]', 'X[:, 2]', 'X[:, 3]', 'X[:, 4]', 'X[:, 5]', 'X[:, 6]', 'X[:, 7]', 'X[:, 8]', 'X[:, 9]', 'X[:, 10]', 'X[:, 11]',\n",
    "    'X[:, 12]', 'X[:, 13]', 'X[:, 14]', 'X[:, 15]', 'X[:, 16]', 'X[:, 17]', 'X[:, 18]'\n",
    "))\n",
    "print('-' * 180)\n",
    "\n",
    "for i in range(10):\n",
    "    print('{:10.3f}{:10.3f}{:10.3f}{:10.3f}{:10.3f}{:10.3f}{:10.3f}{:10.3f}{:10.3f}{:10.3f}{:10.3f}{:10.3f}{:10.3f}{:10.3f}{:10.3f}{:10.3f}{:10.3f}{:10.3f}{:10.3f}'.format(\n",
    "        X_ready_RLM[i, 0], \n",
    "        X_ready_RLM[i, 1], \n",
    "        X_ready_RLM[i, 2], \n",
    "        X_ready_RLM[i, 3], \n",
    "        X_ready_RLM[i, 4], \n",
    "        X_ready_RLM[i, 5], \n",
    "        X_ready_RLM[i, 6], \n",
    "        X_ready_RLM[i, 7], \n",
    "        X_ready_RLM[i, 8], \n",
    "        X_ready_RLM[i, 9], \n",
    "        X_ready_RLM[i, 10], \n",
    "        X_ready_RLM[i, 11],\n",
    "        X_ready_RLM[i, 12],\n",
    "        X_ready_RLM[i, 13], \n",
    "        X_ready_RLM[i, 14], \n",
    "        X_ready_RLM[i, 15], \n",
    "        X_ready_RLM[i, 16], \n",
    "        X_ready_RLM[i, 17],\n",
    "        X_ready_RLM[i, 18]))"
   ]
  },
  {
   "cell_type": "markdown",
   "metadata": {},
   "source": [
    "#### 2.1.3 Descenso por el gradiente\n",
    "\n",
    "El descenso por el gradiente con la función de costo es un algoritmo fundamental en el aprendizaje automático supervisado, especialmente en problemas de optimización de modelos. Su propósito principal es minimizar la función de costo (o pérdida) de un modelo mediante ajustes iterativos de los parámetros del modelo."
   ]
  },
  {
   "cell_type": "markdown",
   "metadata": {},
   "source": [
    "##### 2.1.3.1 Cálculo del costo $J(\\theta)$"
   ]
  },
  {
   "cell_type": "markdown",
   "metadata": {},
   "source": [
    "Haciendo uso de la funcion `calcularCostoSR(X,y,theta)` con un ejemplo de funcionamiento de la funcion computeCoste con dos valores diferentes de $\\theta$."
   ]
  },
  {
   "cell_type": "code",
   "execution_count": 640,
   "metadata": {},
   "outputs": [
    {
     "name": "stdout",
     "output_type": "stream",
     "text": [
      "19\n",
      "########################################################################################################\n",
      "con theta:[0.2 3.  0.2 0.1 3.  0.2 1.1 2.  0.7 0.8 5.8 0.9 0.7 2.  0.5 0.8 1.  0.2\n",
      " 0.3] se obtiene un costo de: 209918722469.17972\n",
      "########################################################################################################\n",
      "con theta:[0.1  2.   0.5  0.2  8.   0.7  1.3  8.   1.7  0.7  7.1  0.6  0.6  1.\n",
      " 0.3  0.9  2.   0.12 0.7 ] se obtiene un costo de: 209917518342.74518\n"
     ]
    }
   ],
   "source": [
    "theta_RLM=np.array([0.2, 3.0, 0.2,0.1, 3.0, 0.2,1.1, 2.0, 0.7,0.8, 5.8, 0.9,0.7, 2.0, 0.5,0.8, 1.0, 0.2,0.3])\n",
    "theta_RLM1=np.array([0.1, 2.0, 0.5,0.2, 8.0, 0.7,1.3, 8.0, 1.7,0.7, 7.1, 0.6,0.6, 1.0, 0.3,0.9, 2.0, 0.12,0.7])\n",
    "\n",
    "print(theta.shape[0])\n",
    "print(f\"########################################################################################################\")\n",
    "print(f\"con theta:{ theta_RLM } se obtiene un costo de: {calcularCostoSR(X_ready_RLM, y_trainRLM, theta_RLM)}\")\n",
    "print(f\"########################################################################################################\")\n",
    "print(f\"con theta:{ theta_RLM1 } se obtiene un costo de: {calcularCostoSR(X_ready_RLM, y_trainRLM, theta_RLM1)}\")"
   ]
  },
  {
   "cell_type": "markdown",
   "metadata": {},
   "source": [
    "##### 2.1.3.2Descenso por el gradiente\n",
    "\n",
    "Hacemos uso de la funcion para hacer el calculo del descenso por el gradiente y asi encontrar nuestras **Thetas**, ahora ya no recibira el parametro de ``lamda_``:"
   ]
  },
  {
   "cell_type": "markdown",
   "metadata": {},
   "source": [
    "Se inicializan los parametros $\\theta$ con 0 y la taza de aprendizaje $\\alpha$ con 0.00009."
   ]
  },
  {
   "cell_type": "code",
   "execution_count": 641,
   "metadata": {},
   "outputs": [
    {
     "name": "stdout",
     "output_type": "stream",
     "text": [
      "########################################################################################################\n",
      "Los valores de theta calculados son:\n",
      "theta 1: 504779.1501080341\n",
      "theta 2: -18119.190355848543\n",
      "theta 3: 30169.282961937464\n",
      "theta 4: 71312.73596737614\n",
      "theta 5: 2818.4074518078824\n",
      "theta 6: 7470.034713691754\n",
      "theta 7: 45469.80320892104\n",
      "theta 8: 43857.62535859122\n",
      "theta 9: 21926.776567094752\n",
      "theta 10: 87742.30180578487\n",
      "theta 11: 64111.514154491095\n",
      "theta 12: 27411.560264747117\n",
      "theta 13: -56095.4395173484\n",
      "theta 14: 15423.087765555643\n",
      "theta 15: -13138.933323754825\n",
      "theta 16: 79851.69917942701\n",
      "theta 17: -25331.818198262612\n",
      "theta 18: 41333.051678554795\n",
      "theta 19: -5619.496940121401\n",
      "########################################################################################################\n",
      "con un costo de: 20588012047.449326 \n",
      "la cantidad de theta son:  19\n"
     ]
    }
   ],
   "source": [
    "#creamos un theta con 19 columnas de ceros\n",
    "theta_RLM = np.zeros(len(X_ready_RLM[0]))\n",
    "\n",
    "#numero de iteraciones sera 1000000 y un alpha 0.00009\n",
    "num_ite_RLM = 3100\n",
    "alpha_RLM = 0.0009\n",
    "\n",
    "theta_RLM, J_historico_RLM = calcularDescensoGradienteSR(X_ready_RLM, y_trainRLM, theta_RLM, alpha_RLM, num_ite_RLM)\n",
    "print(\"########################################################################################################\")\n",
    "print(\"Los valores de theta calculados son:\")\n",
    "i = 0\n",
    "for tht in theta_RLM:\n",
    "    i += 1\n",
    "    print(f\"theta {i}: {tht}\")\n",
    "\n",
    "print(f\"########################################################################################################\")\n",
    "#mostramos el ultimo costo, este seria el mejor costo\n",
    "print(f\"con un costo de: { J_historico_RLM[-1]} \")\n",
    "print(\"la cantidad de theta son: \", theta.shape[0])"
   ]
  },
  {
   "cell_type": "markdown",
   "metadata": {},
   "source": [
    "#### 2.1.4 Grafica de la convergencia del costo\n",
    "graficamos el costo"
   ]
  },
  {
   "cell_type": "code",
   "execution_count": 642,
   "metadata": {},
   "outputs": [
    {
     "data": {
      "text/plain": [
       "Text(0, 0.5, 'Costo J')"
      ]
     },
     "execution_count": 642,
     "metadata": {},
     "output_type": "execute_result"
    },
    {
     "data": {
      "image/png": "[encoded data removed]",
      "text/plain": [
       "<Figure size 640x480 with 1 Axes>"
      ]
     },
     "metadata": {},
     "output_type": "display_data"
    }
   ],
   "source": [
    "pyplot.plot(np.arange(len(J_historico_RLM)), J_historico_RLM, lw=2)\n",
    "pyplot.title(\"Grafica de la convergencia del costo\")\n",
    "pyplot.xlabel('Numero de iteraciones')\n",
    "pyplot.ylabel('Costo J')"
   ]
  },
  {
   "cell_type": "markdown",
   "metadata": {},
   "source": [
    "##### 2.1.4.1 Grafica de la regresion lineal\n",
    "\n",
    "En esta parte se trazan los datos de entrenamiento y una línea que representa la regresión lineal ajustada a esos datos."
   ]
  },
  {
   "cell_type": "code",
   "execution_count": 643,
   "metadata": {},
   "outputs": [
    {
     "data": {
      "text/plain": [
       "<matplotlib.legend.Legend at 0x2040bf52720>"
      ]
     },
     "execution_count": 643,
     "metadata": {},
     "output_type": "execute_result"
    },
    {
     "data": {
      "image/png": "[encoded data removed]",
      "text/plain": [
       "<Figure size 640x480 with 1 Axes>"
      ]
     },
     "metadata": {},
     "output_type": "display_data"
    }
   ],
   "source": [
    "graficarDatos(X_ready_RLM[:, 1],  X_ready_RLM[:, 2] , \"X_ready_RLM_1\", \"X_ready_RLM_2\")\n",
    "\n",
    "pyplot.plot(X_ready_RLM[:,1], np.dot(X_ready_RLM, theta_RLM), '-')\n",
    "\n",
    "pyplot.legend(['Datos de entrenamiento', 'regresion lineal'])"
   ]
  },
  {
   "cell_type": "markdown",
   "metadata": {},
   "source": [
    "haciendo una pequeña prueba:"
   ]
  },
  {
   "cell_type": "code",
   "execution_count": 644,
   "metadata": {},
   "outputs": [
    {
     "name": "stdout",
     "output_type": "stream",
     "text": [
      "La prediccion de la casa es de: [189696.00534635]\n"
     ]
    }
   ],
   "source": [
    "X_arrayRLM = np.array([1,3,1,1180,5650,1,0,0,3,7,1180,0,1955,0,98178,47.5112,-122.257,1340,5650])\n",
    "X_arrayRLM = X_arrayRLM.reshape(1, -1)\n",
    "\n",
    "X_arrayRLM[:, 1:] = (X_arrayRLM[:, 1:] - mu_RLM) / sigma_RLM\n",
    "\n",
    "prediccion_RLM = np.dot(X_arrayRLM, theta_RLM)\n",
    "\n",
    "print (f\"La prediccion de la casa es de: {prediccion_RLM}\")"
   ]
  },
  {
   "cell_type": "markdown",
   "metadata": {},
   "source": [
    "#### 2.1.5 Ejemplos de Predicciones\n",
    "\n",
    "Se creo una matriz con 11 ejemplos, donde se hace las predicciones correspondientes:"
   ]
  },
  {
   "cell_type": "code",
   "execution_count": 645,
   "metadata": {},
   "outputs": [
    {
     "name": "stdout",
     "output_type": "stream",
     "text": [
      "20\n",
      "19\n",
      "+----+------------+-------------+---------------+------------+----------+--------------+--------+-------------+---------+--------------+-----------------+------------+----------------+-----------+---------+----------+-----------------+--------------+----------+\n",
      "|    |   bedrooms |   bathrooms |   sqft_living |   sqft_lot |   floors |   waterfront |   view |   condition |   grade |   sqft_above |   sqft_basement |   yr_built |   yr_renovated |   zipcode |     lat |     long |   sqft_living15 |   sqft_lot15 |    Price |\n",
      "+====+============+=============+===============+============+==========+==============+========+=============+=========+==============+=================+============+================+===========+=========+==========+=================+==============+==========+\n",
      "|  1 |          3 |        1    |          1180 |       5650 |      1   |            0 |      0 |           3 |       7 |         1180 |               0 |       1955 |              0 |     98178 | 47.5112 | -122.257 |            1340 |         5650 | 189696   |\n",
      "+----+------------+-------------+---------------+------------+----------+--------------+--------+-------------+---------+--------------+-----------------+------------+----------------+-----------+---------+----------+-----------------+--------------+----------+\n",
      "|  1 |          2 |        0.75 |          1020 |       1076 |      2   |            0 |      0 |           3 |       7 |         1020 |               0 |       2008 |              0 |     98144 | 47.5941 | -122.299 |            1020 |         1357 | 131909   |\n",
      "+----+------------+-------------+---------------+------------+----------+--------------+--------+-------------+---------+--------------+-----------------+------------+----------------+-----------+---------+----------+-----------------+--------------+----------+\n",
      "|  1 |          4 |        2.75 |          3555 |       6565 |      2   |            0 |      0 |           3 |       9 |         3555 |               0 |       2014 |              0 |     98053 | 47.6847 | -122.017 |            3625 |         5637 | 888692   |\n",
      "+----+------------+-------------+---------------+------------+----------+--------------+--------+-------------+---------+--------------+-----------------+------------+----------------+-----------+---------+----------+-----------------+--------------+----------+\n",
      "|  1 |          2 |        1    |          1040 |      13920 |      1   |            0 |      0 |           3 |       6 |         1040 |               0 |       1973 |           1867 |     98198 | 47.3756 | -122.306 |            1100 |         7575 |  61536.8 |\n",
      "+----+------------+-------------+---------------+------------+----------+--------------+--------+-------------+---------+--------------+-----------------+------------+----------------+-----------+---------+----------+-----------------+--------------+----------+\n",
      "|  1 |          4 |        1.75 |          1860 |       7350 |      1   |            0 |      0 |           4 |       7 |         1090 |             770 |       1977 |           1900 |     98031 | 47.3979 | -122.174 |            1710 |         7350 | 337669   |\n",
      "+----+------------+-------------+---------------+------------+----------+--------------+--------+-------------+---------+--------------+-----------------+------------+----------------+-----------+---------+----------+-----------------+--------------+----------+\n",
      "|  1 |          1 |        1    |          1060 |      54846 |      1   |            1 |      4 |           3 |       5 |         1060 |               0 |       1935 |              0 |     98070 | 47.4716 | -122.445 |            2258 |        31762 | 958745   |\n",
      "+----+------------+-------------+---------------+------------+----------+--------------+--------+-------------+---------+--------------+-----------------+------------+----------------+-----------+---------+----------+-----------------+--------------+----------+\n",
      "|  1 |          4 |        1.5  |          2220 |       9496 |      1   |            0 |      0 |           4 |       7 |         1490 |             730 |       1954 |              0 |     98004 | 47.6233 | -122.206 |            1800 |         8286 | 503007   |\n",
      "+----+------------+-------------+---------------+------------+----------+--------------+--------+-------------+---------+--------------+-----------------+------------+----------------+-----------+---------+----------+-----------------+--------------+----------+\n",
      "|  1 |          4 |        1.5  |          1560 |       6534 |      1   |            0 |      0 |           4 |       7 |         1560 |               0 |       1962 |              0 |     98007 | 47.6012 | -122.152 |            1560 |         6969 | 358003   |\n",
      "+----+------------+-------------+---------------+------------+----------+--------------+--------+-------------+---------+--------------+-----------------+------------+----------------+-----------+---------+----------+-----------------+--------------+----------+\n",
      "|  1 |          5 |        3    |          2510 |       4125 |      1.5 |            0 |      3 |           5 |       8 |         1590 |             920 |       1925 |              0 |     98144 | 47.5968 | -122.29  |            2190 |         5415 | 917762   |\n",
      "+----+------------+-------------+---------------+------------+----------+--------------+--------+-------------+---------+--------------+-----------------+------------+----------------+-----------+---------+----------+-----------------+--------------+----------+\n",
      "|  1 |          3 |        2.5  |          1680 |       2096 |      2   |            0 |      0 |           3 |       8 |         1380 |             300 |       2008 |              0 |     98117 | 47.6904 | -122.37  |            1360 |         2096 | 450553   |\n",
      "+----+------------+-------------+---------------+------------+----------+--------------+--------+-------------+---------+--------------+-----------------+------------+----------------+-----------+---------+----------+-----------------+--------------+----------+\n",
      "|  1 |          3 |        2.25 |          2020 |       3600 |      2   |            0 |      0 |           3 |       8 |         2020 |               0 |       1998 |              0 |     98033 | 47.6678 | -122.165 |            2070 |         3699 | 531254   |\n",
      "+----+------------+-------------+---------------+------------+----------+--------------+--------+-------------+---------+--------------+-----------------+------------+----------------+-----------+---------+----------+-----------------+--------------+----------+\n"
     ]
    }
   ],
   "source": [
    "#Creamos la matriz con 11 ejemplos para hacer la prueba predecir un precio de cada ejemplo:\n",
    "matriz_datos_RLM = np.array([\n",
    "    [1,3,1,1180,5650,1,0,0,3,7,1180,0,1955,0,98178,47.5112,-122.257,1340,5650],\n",
    "    [1,2,0.75,1020,1076,2,0,0,3,7,1020,0,2008,0,98144,47.5941,-122.299,1020,1357],\n",
    "    [1,4,2.75,3555,6565,2,0,0,3,9,3555,0,2014,0,98053,47.6847,-122.017,3625,5637],\n",
    "    [1,2,1,1040,13920,1,0,0,3,6,1040,0,1973,1867,98198,47.3756,-122.306,1100,7575],\n",
    "    [1,4,1.75,1860,7350,1,0,0,4,7,1090,770,1977,1900,98031,47.3979,-122.174,1710,7350],\n",
    "    [1,1,1,1060,54846,1,1,4,3,5,1060,0,1935,0,98070,47.4716,-122.445,2258,31762],\n",
    "    [1,4,1.5,2220,9496,1,0,0,4,7,1490,730,1954,0,98004,47.6233,-122.206,1800,8286],\n",
    "    [1,4,1.5,1560,6534,1,0,0,4,7,1560,0,1962,0,98007,47.6012,-122.152,1560,6969],\n",
    "    [1,5,3,2510,4125,1.5,0,3,5,8,1590,920,1925,0,98144,47.5968,-122.29,2190,5415],\n",
    "    [1,3,2.5,1680,2096,2,0,0,3,8,1380,300,2008,0,98117,47.6904,-122.37,1360,2096],\n",
    "    [1,3,2.25,2020,3600,2,0,0,3,8,2020,0,1998,0,98033,47.6678,-122.165,2070,3699]\n",
    "])\n",
    "\n",
    "#creamos un vector parta almacenar cada Y predicha\n",
    "y_pre_RLM = []\n",
    "matriz_datos_RLM_copy = matriz_datos_RLM.copy()\n",
    "\n",
    "#Normalizamos todos, menos el primer valor de cada ejemplo\n",
    "\n",
    "matriz_datos_RLM_copy[:, 1:] = (matriz_datos_RLM_copy[:, 1:] - mu_RLM) / sigma_RLM\n",
    "\n",
    "\n",
    "#Calculamos la Y predicha de los 11 ejemplos de prediccion\n",
    "for datos in matriz_datos_RLM_copy:\n",
    "    y_pre_RLM.append(np.dot(datos, theta_RLM))\n",
    "\n",
    "matriz_datos_RLM = np.column_stack((matriz_datos_RLM, y_pre_RLM))\n",
    "\n",
    "nombres_columnas = ['bedrooms','bathrooms','sqft_living','sqft_lot','floors','waterfront','view','condition','grade','sqft_above','sqft_basement','yr_built','yr_renovated','zipcode','lat','long','sqft_living15','sqft_lot15','Price']\n",
    "\n",
    "# Convertir la matriz en una lista de listas\n",
    "datos_para_tabla = matriz_datos_RLM.tolist()\n",
    "\n",
    "print(len(matriz_datos_RLM[0]))\n",
    "print(len(matriz_datos_RLM_copy[0]))\n",
    "\n",
    "# Imprimir la tabla\n",
    "print(tabulate(datos_para_tabla, headers=nombres_columnas, tablefmt='grid'))"
   ]
  },
  {
   "cell_type": "markdown",
   "metadata": {},
   "source": [
    "#### 2.1.6 Validaciones\n",
    "Para hacer las validaciones correspondientes, primero se crea la funcion del **Mean squeared error**\n",
    "\n",
    "Siguiendo el consejo de 80/20, donde 80% es para la fase de entrenamiento, y 20% es para la fase de prueba.\n",
    "\n",
    "haciendo calculo del error cuadratico medio:"
   ]
  },
  {
   "cell_type": "code",
   "execution_count": 646,
   "metadata": {},
   "outputs": [
    {
     "name": "stdout",
     "output_type": "stream",
     "text": [
      "Error Cuadrático Medio (MSE) = 47647558790.402115\n",
      "Raíz del Error Cuadrático Medio (RMSE) = 218283.2077609318\n"
     ]
    }
   ],
   "source": [
    "#Concatenamos de unos a la primera posicion del X_test\n",
    "X_testRLM_ready = np.concatenate([np.ones((m_test_RLM, 1)), X_testRLM], axis=1)\n",
    "\n",
    "# Normalizamos todos, menos el primer valor de cada ejemplo porque este contiene los unos\n",
    "X_testRLM_ready[:, 1:] = (X_testRLM_ready[:, 1:] - mu_RLM) / sigma_RLM\n",
    "\n",
    "#creamos un array que almacenara cada una de las y_predicha\n",
    "y_predicha_RLM = []\n",
    "for data_RLM in X_testRLM_ready:\n",
    "    y_predicha_RLM.append(np.dot(data_RLM, theta_RLM))\n",
    "\n",
    "mse_RLM = mean_squared_error(y_predicha_RLM, y_testRLM)\n",
    "#calculamos el error cuadratico medio:\n",
    "print('Error Cuadrático Medio (MSE) = ' + str(mse_RLM))\n",
    "print('Raíz del Error Cuadrático Medio (RMSE) = ' + str(np.sqrt(mse_RLM)))"
   ]
  },
  {
   "cell_type": "markdown",
   "metadata": {},
   "source": [
    "### 2.2 Regresion Polinomica"
   ]
  },
  {
   "cell_type": "markdown",
   "metadata": {},
   "source": [
    "haciendo uso de **PolynomialFeatures**:"
   ]
  },
  {
   "cell_type": "markdown",
   "metadata": {},
   "source": [
    "Carga de los datos para la regresion Polinomial:"
   ]
  },
  {
   "cell_type": "code",
   "execution_count": 647,
   "metadata": {},
   "outputs": [
    {
     "name": "stdout",
     "output_type": "stream",
     "text": [
      "la cantidad de columnas de X_trainRLP es de:  190\n",
      "la cantidad de ejemplos de X_trainRLP es de:  17290\n"
     ]
    }
   ],
   "source": [
    "#hacemos una copia de y_train y y_test para usarlo en la regresion lineal multivariable\n",
    "\n",
    "#estos datos seran usados para el entrenamiento\n",
    "X_testRLP = X_test.copy()\n",
    "y_testRLP = y_test.copy()\n",
    "m_test_RLP = len(y_testRLM)\n",
    "#estos datos seran usados para el test\n",
    "\n",
    "#hacemos uso de la libreria PolynomialFeatures para hacer la regresion polinomial de grado 2\n",
    "poly = PolynomialFeatures(degree=2)\n",
    "#hacemos una copia de y_train y y_test para usarlo en la regresion polinomial\n",
    "X_trainRLP = poly.fit_transform(X_train.copy())\n",
    "y_trainRLP = y_train.copy()\n",
    "m_train_RLP = len(y_trainRLM)\n",
    "\n",
    "print(\"la cantidad de columnas de X_trainRLP es de: \", X_trainRLP.shape[1])\n",
    "print(\"la cantidad de ejemplos de X_trainRLP es de: \", X_trainRLP.shape[0])"
   ]
  },
  {
   "cell_type": "markdown",
   "metadata": {},
   "source": [
    "#### 2.2.1 Normalizacion de las caracteristicas\n",
    "\n",
    "Se hace uso de la funcion de `featureNormalize(X) ` para normalizar cada una de las 190 feactures de mi nueva matriz de datos donde se recibe un parametro de tipo matriz para normalizar cada dato dentro de ella, retornandome la **matriz normalizda**, **sigma(desviacion estandar)**, y mi **mu(media)**."
   ]
  },
  {
   "cell_type": "code",
   "execution_count": 648,
   "metadata": {},
   "outputs": [
    {
     "data": {
      "text/plain": [
       "(17290, 190)"
      ]
     },
     "execution_count": 648,
     "metadata": {},
     "output_type": "execute_result"
    }
   ],
   "source": [
    "#introductimos los datos a la funcion de normalizacion\n",
    "X_norm_RLP, mu_RLP, sigma_RLP = featureNormalize(X_trainRLP)\n",
    "\n",
    "X_norm_RLP.shape"
   ]
  },
  {
   "cell_type": "markdown",
   "metadata": {},
   "source": [
    "#### 2.2.2 Agregamos la columna de unos a nuestra matriz"
   ]
  },
  {
   "cell_type": "code",
   "execution_count": 649,
   "metadata": {},
   "outputs": [
    {
     "name": "stdout",
     "output_type": "stream",
     "text": [
      "La cantidad de columnas de X_ready_RLP es de:  191\n"
     ]
    }
   ],
   "source": [
    "X_ready_RLP = np.concatenate([np.ones((m_train_RLP, 1)), X_norm_RLP], axis=1)\n",
    "print(\"La cantidad de columnas de X_ready_RLP es de: \", X_ready_RLP.shape[1])"
   ]
  },
  {
   "cell_type": "markdown",
   "metadata": {},
   "source": [
    "#### 2.2.3 Descenso por el gradiente\n",
    "\n",
    "haciendo uso de la funcio de `calcularCosto(X , y, theta, lamda_)` donde `X` sera nuestra matriz normalizada, y sera nuestra `y_predicha` que en este caso sera el precio, `Thetha` que seran nuestros valores inciales, pero en este caso sin incluir el parametro de regularizacion."
   ]
  },
  {
   "cell_type": "markdown",
   "metadata": {},
   "source": [
    "##### 2.2.3.1 Cálculo del costo $J(\\theta)$"
   ]
  },
  {
   "cell_type": "code",
   "execution_count": 650,
   "metadata": {},
   "outputs": [
    {
     "name": "stdout",
     "output_type": "stream",
     "text": [
      "191\n",
      "########################################################################################################\n",
      "con theta:[0.39758016 0.06051    0.9354676  0.10622591 0.66254704 0.43575142\n",
      " 0.59519968 0.03190044 0.86625491 0.02915883 0.6379486  0.8664184\n",
      " 0.21325504 0.504328   0.53463734 0.09352648 0.91719091 0.76035435\n",
      " 0.34701044 0.3533298  0.47515147 0.77906723 0.70034528 0.809697\n",
      " 0.82633729 0.65979965 0.05054126 0.21709607 0.55704671 0.70885909\n",
      " 0.2864399  0.49770572 0.04556571 0.52231865 0.71724138 0.30924009\n",
      " 0.17972767 0.67483798 0.84055361 0.69769538 0.46322357 0.52651958\n",
      " 0.36865282 0.22406398 0.73332425 0.57748976 0.52518567 0.72278181\n",
      " 0.35969471 0.14833357 0.75743912 0.91883167 0.77265951 0.94676645\n",
      " 0.586203   0.43406636 0.24936514 0.20752988 0.20330922 0.15694266\n",
      " 0.58094401 0.61370166 0.86231196 0.62383078 0.83499268 0.66816953\n",
      " 0.33178729 0.94065742 0.48533639 0.78707168 0.13890198 0.29724098\n",
      " 0.59848363 0.05447011 0.79090801 0.372305   0.09996136 0.09099021\n",
      " 0.91475402 0.07278894 0.59467365 0.08580211 0.02173671 0.48021225\n",
      " 0.7665951  0.10864964 0.38897014 0.12826139 0.47954234 0.42101636\n",
      " 0.32964296 0.60145576 0.71642042 0.26205815 0.78302447 0.63738625\n",
      " 0.29179453 0.67878012 0.68497445 0.43022318 0.59263475 0.58005065\n",
      " 0.57973527 0.42404116 0.07142695 0.48922372 0.5296259  0.55265106\n",
      " 0.89490204 0.58264537 0.78952603 0.26083742 0.50808291 0.2503552\n",
      " 0.37817336 0.68623085 0.20022872 0.24149545 0.20317705 0.16105205\n",
      " 0.93648942 0.56367246 0.78345553 0.91906186 0.03719267 0.54585924\n",
      " 0.95438256 0.54465536 0.07512478 0.92802416 0.5387513  0.38587568\n",
      " 0.70375345 0.91764764 0.10143198 0.00987294 0.25831174 0.10228784\n",
      " 0.29720636 0.96729114 0.239223   0.27812816 0.46177825 0.8085194\n",
      " 0.86466582 0.44016924 0.87450495 0.08192186 0.0830176  0.54122677\n",
      " 0.70804963 0.90827895 0.08206723 0.56313499 0.91729166 0.2776811\n",
      " 0.41514978 0.09265074 0.22311323 0.30684626 0.42484798 0.29185072\n",
      " 0.39156117 0.18406732 0.75150209 0.93304379 0.43246614 0.43868018\n",
      " 0.82441028 0.74237733 0.84795513 0.65110461 0.09031358 0.91773204\n",
      " 0.45083295 0.78436538 0.57355488 0.89822266 0.53011498 0.69451552\n",
      " 0.37091677 0.78785817 0.90305784 0.29252573 0.05299749 0.31361541\n",
      " 0.94258165 0.90907722 0.38529619 0.02696972 0.30185348] se obtiene un costo de: 209911707407.9932\n",
      "########################################################################################################\n",
      "con theta:[0.28799387 0.89038053 0.47602399 0.56726642 0.83234466 0.05441942\n",
      " 0.26064044 0.47415363 0.77750449 0.24922844 0.37380883 0.3626896\n",
      " 0.46389798 0.12761251 0.56641338 0.67692246 0.459765   0.42097749\n",
      " 0.99999253 0.49027241 0.64113816 0.30477619 0.39687016 0.73695655\n",
      " 0.80156016 0.7980651  0.16592903 0.34883347 0.05832942 0.6399449\n",
      " 0.91341263 0.60786146 0.13985479 0.78364481 0.17891899 0.69079131\n",
      " 0.23331384 0.14291788 0.89874262 0.32035045 0.82532882 0.9922476\n",
      " 0.44089903 0.1360532  0.34228682 0.85010351 0.81071625 0.27714045\n",
      " 0.67296148 0.92611291 0.00150442 0.64228237 0.82722038 0.94457229\n",
      " 0.82334583 0.52782279 0.00578108 0.62830862 0.17336158 0.61478709\n",
      " 0.03716583 0.82083993 0.27960433 0.51686423 0.59835433 0.22116225\n",
      " 0.93202021 0.60980176 0.00266417 0.86571296 0.52876227 0.28989802\n",
      " 0.0842802  0.60315949 0.10326988 0.66548373 0.17138872 0.11358856\n",
      " 0.38205614 0.89695941 0.71529182 0.67643126 0.18261347 0.42391043\n",
      " 0.55527607 0.22897954 0.58825569 0.89382803 0.18764588 0.53553337\n",
      " 0.67727118 0.66413012 0.89095147 0.55701997 0.65411755 0.58608722\n",
      " 0.22183085 0.7012272  0.91618505 0.75107417 0.10224791 0.26678489\n",
      " 0.9956499  0.2371964  0.173241   0.3825149  0.38611353 0.6520002\n",
      " 0.13119686 0.54995411 0.37239248 0.97546012 0.20035779 0.88358935\n",
      " 0.02637398 0.45421784 0.71169553 0.21224766 0.16066346 0.6075583\n",
      " 0.72034331 0.65213761 0.33305362 0.06509642 0.83334172 0.58334493\n",
      " 0.89453825 0.67882578 0.04267911 0.03660271 0.96565101 0.33491239\n",
      " 0.55443312 0.33767693 0.75595175 0.55518217 0.5127243  0.34003723\n",
      " 0.15971896 0.16002953 0.64587221 0.2913015  0.5280512  0.28970861\n",
      " 0.56624011 0.19470995 0.63148521 0.62779106 0.23855357 0.01636495\n",
      " 0.34093057 0.71197492 0.18809319 0.9544872  0.19655112 0.96332658\n",
      " 0.15810472 0.4020966  0.14811595 0.99627736 0.29864156 0.59953783\n",
      " 0.15935286 0.31912058 0.65964573 0.37284471 0.05315067 0.52431593\n",
      " 0.82061442 0.92197825 0.08558944 0.24433244 0.46380592 0.00872668\n",
      " 0.65683509 0.64032393 0.21862452 0.40517203 0.9165949  0.4040469\n",
      " 0.89476922 0.09485045 0.36580129 0.56382035 0.81905869 0.20319318\n",
      " 0.35669131 0.43929741 0.70313934 0.89459733 0.59709118] se obtiene un costo de: 209911197927.5538\n"
     ]
    }
   ],
   "source": [
    "#creamos un theta con 190 columnas de valores aleatorios\n",
    "theta_RLP1=np.random.rand(len(X_ready_RLP[1]))\n",
    "theta_RLP2=np.random.rand(len(X_ready_RLP[1]))\n",
    "\n",
    "\n",
    "print(len(theta_RLP1))\n",
    "lambda_RLP = 1000\n",
    "\n",
    "print(f\"########################################################################################################\")\n",
    "print(f\"con theta:{ theta_RLP1 } se obtiene un costo de: {calcularCostoSR(X_ready_RLP, y_trainRLP, theta_RLP1)}\")\n",
    "print(f\"########################################################################################################\")\n",
    "print(f\"con theta:{ theta_RLP2 } se obtiene un costo de: {calcularCostoSR(X_ready_RLP, y_trainRLP, theta_RLP2)}\")"
   ]
  },
  {
   "cell_type": "markdown",
   "metadata": {},
   "source": [
    "##### 2.2.3.2 Descenso por el gradiente\n",
    "\n",
    "Creamos la funcion para hacer el calculo del descenso por el gradiente y asi encontrar nuestras **Thetas**\n",
    "Haciendo uso de la funcion de `calcularDescensoGradiente(X,y, theta, alpha,num_iteraciones)`:"
   ]
  },
  {
   "cell_type": "code",
   "execution_count": 651,
   "metadata": {},
   "outputs": [
    {
     "name": "stdout",
     "output_type": "stream",
     "text": [
      "########################################################################################################\n",
      "Los valores de theta calculados son:\n",
      "theta 1: 531806.0770503972\n",
      "theta 2: 0.0\n",
      "theta 3: -5027.547654926053\n",
      "theta 4: -3405.583454332372\n",
      "theta 5: -4340.000567059962\n",
      "theta 6: 2560.597990457745\n",
      "theta 7: -135.5873300674213\n",
      "theta 8: -1534.3834064607408\n",
      "theta 9: -2643.153146097622\n",
      "theta 10: -978.6053047329448\n",
      "theta 11: 11706.566492131156\n",
      "theta 12: -2444.512891977379\n",
      "theta 13: -4397.26101907355\n",
      "theta 14: -13861.064475767756\n",
      "theta 15: -3584.1656550969365\n",
      "theta 16: -15487.982233005612\n",
      "theta 17: 22752.350939377066\n",
      "theta 18: -7916.315620747603\n",
      "theta 19: -39.50904618574523\n",
      "theta 20: 2391.2750734227648\n",
      "theta 21: 5927.747187432195\n",
      "theta 22: -401.48583997824176\n",
      "theta 23: 1600.4974361417515\n",
      "theta 24: -3084.296285224395\n",
      "theta 25: -999.1001485370211\n",
      "theta 26: 5396.732832365082\n",
      "theta 27: -845.1002724275138\n",
      "theta 28: 1444.6779624870035\n",
      "theta 29: 8605.357580226633\n",
      "theta 30: 4723.056099636129\n",
      "theta 31: -6369.611817254209\n",
      "theta 32: -6468.7638581460005\n",
      "theta 33: -2626.6508845395933\n",
      "theta 34: -5064.361315868975\n",
      "theta 35: -4610.589453861021\n",
      "theta 36: 4928.494576289731\n",
      "theta 37: -227.62105737853926\n",
      "theta 38: -2699.1837607917646\n",
      "theta 39: 15727.636691193278\n",
      "theta 40: 21469.93149702061\n",
      "theta 41: -3495.512133836473\n",
      "theta 42: 2649.0322994628837\n",
      "theta 43: 6910.609703403216\n",
      "theta 44: 9018.178698737272\n",
      "theta 45: 739.6111663300917\n",
      "theta 46: 17019.29004148297\n",
      "theta 47: 21940.027032535574\n",
      "theta 48: 7750.577936448252\n",
      "theta 49: -3895.8071640778953\n",
      "theta 50: -793.3186177995545\n",
      "theta 51: -3430.653664257517\n",
      "theta 52: -2987.4523900625136\n",
      "theta 53: 3287.563680528006\n",
      "theta 54: 4911.096288560896\n",
      "theta 55: -4160.763120477073\n",
      "theta 56: 24456.12945921899\n",
      "theta 57: -4296.077121491845\n",
      "theta 58: 2958.3269519545684\n",
      "theta 59: 16717.229906909113\n",
      "theta 60: 12782.670173327282\n",
      "theta 61: 5387.598038007337\n",
      "theta 62: 17624.13005961147\n",
      "theta 63: 25222.10947829252\n",
      "theta 64: 10081.058748334182\n",
      "theta 65: -5590.225362901177\n",
      "theta 66: 12976.992668436516\n",
      "theta 67: -4370.16220517528\n",
      "theta 68: -3861.3409751591007\n",
      "theta 69: 4179.234709381707\n",
      "theta 70: 6704.772563965765\n",
      "theta 71: -6580.11041460308\n",
      "theta 72: 2950.72968977748\n",
      "theta 73: -3107.2030219799203\n",
      "theta 74: -1592.1923319114958\n",
      "theta 75: -365.175744713913\n",
      "theta 76: 2233.625384908486\n",
      "theta 77: 1868.0099151193472\n",
      "theta 78: -3062.938677663714\n",
      "theta 79: -7722.13227503855\n",
      "theta 80: 2747.9298569153593\n",
      "theta 81: -1656.3686840311095\n",
      "theta 82: 2550.4394087887886\n",
      "theta 83: 2480.985748728373\n",
      "theta 84: -2543.883111487904\n",
      "theta 85: 77.70844043329936\n",
      "theta 86: 10101.042755143435\n",
      "theta 87: 2656.6166799331827\n",
      "theta 88: -1092.7041398256845\n",
      "theta 89: -546.203050958509\n",
      "theta 90: 4740.995467604527\n",
      "theta 91: 8047.271751453029\n",
      "theta 92: -204.5786691653027\n",
      "theta 93: 11250.714359731694\n",
      "theta 94: -903.3781294419498\n",
      "theta 95: -5403.062576516617\n",
      "theta 96: -132.19789212423626\n",
      "theta 97: 171.78018757338626\n",
      "theta 98: 24.81186417243833\n",
      "theta 99: -8749.447843242187\n",
      "theta 100: -6220.124049305384\n",
      "theta 101: -1534.3834064607408\n",
      "theta 102: -3112.802741138585\n",
      "theta 103: -2745.4470429615367\n",
      "theta 104: 4457.340493023847\n",
      "theta 105: 18219.503633718763\n",
      "theta 106: 8903.482969321487\n",
      "theta 107: -1239.422576189541\n",
      "theta 108: -6804.795445951609\n",
      "theta 109: -1571.5483616143163\n",
      "theta 110: -1358.084204595048\n",
      "theta 111: 1594.2670033849035\n",
      "theta 112: 14676.562897128757\n",
      "theta 113: -2881.647220665182\n",
      "theta 114: 1467.7532750494418\n",
      "theta 115: 5046.6470452216945\n",
      "theta 116: 6655.6878961554885\n",
      "theta 117: 16925.515588846316\n",
      "theta 118: -915.8505775870576\n",
      "theta 119: -3046.732460522712\n",
      "theta 120: -4827.4171095774855\n",
      "theta 121: -2658.7478900985166\n",
      "theta 122: -2421.2098588116737\n",
      "theta 123: 2606.5478507044595\n",
      "theta 124: 8442.018226210539\n",
      "theta 125: -3385.337586307304\n",
      "theta 126: 412.8266906678137\n",
      "theta 127: 14652.016191902763\n",
      "theta 128: 6123.237171567981\n",
      "theta 129: 500.89190649765396\n",
      "theta 130: -2469.2095650889955\n",
      "theta 131: -4063.180114070509\n",
      "theta 132: -1034.6498392443725\n",
      "theta 133: -601.2223073783823\n",
      "theta 134: 943.753765227246\n",
      "theta 135: 16776.108409844084\n",
      "theta 136: 1493.7268400635637\n",
      "theta 137: 23179.38487316281\n",
      "theta 138: 15890.27569227039\n",
      "theta 139: 9024.775728741908\n",
      "theta 140: 9247.724343515463\n",
      "theta 141: 3811.7900829485307\n",
      "theta 142: 11666.045356811454\n",
      "theta 143: 12441.01900482499\n",
      "theta 144: -11945.657386900635\n",
      "theta 145: 7607.479739816213\n",
      "theta 146: -735.8401656194944\n",
      "theta 147: 21164.836984043162\n",
      "theta 148: 24567.596518573377\n",
      "theta 149: -3560.374364504369\n",
      "theta 150: 12386.203806577954\n",
      "theta 151: -2474.408502054423\n",
      "theta 152: -2013.2222261981144\n",
      "theta 153: 2292.445808545301\n",
      "theta 154: 3211.581783076908\n",
      "theta 155: -6302.80676166686\n",
      "theta 156: -13622.232223529229\n",
      "theta 157: -4936.489876183033\n",
      "theta 158: 10945.575291573059\n",
      "theta 159: -4402.687042944619\n",
      "theta 160: -4217.557314985986\n",
      "theta 161: 4347.124014298378\n",
      "theta 162: 12343.571474666758\n",
      "theta 163: -4342.95009895655\n",
      "theta 164: -13358.932829975267\n",
      "theta 165: -3424.452761544593\n",
      "theta 166: -14586.072204187374\n",
      "theta 167: -9512.053848112515\n",
      "theta 168: 13635.994528062936\n",
      "theta 169: -2504.2052051442934\n",
      "theta 170: 2447.871068107736\n",
      "theta 171: -3334.010823557863\n",
      "theta 172: -3612.2691952076325\n",
      "theta 173: -3556.426156528837\n",
      "theta 174: 3596.632964636654\n",
      "theta 175: 17834.544657533934\n",
      "theta 176: -2081.57134450885\n",
      "theta 177: -15488.215188507158\n",
      "theta 178: 18626.527631470515\n",
      "theta 179: -460.3156390781901\n",
      "theta 180: -64.08610536484163\n",
      "theta 181: 2376.149530209365\n",
      "theta 182: 22515.26261081615\n",
      "theta 183: -23096.766015184105\n",
      "theta 184: 382.24524156409706\n",
      "theta 185: 2285.786138070412\n",
      "theta 186: 7929.945708208996\n",
      "theta 187: -120.59763172818\n",
      "theta 188: -2375.953032819311\n",
      "theta 189: 3730.485165463406\n",
      "theta 190: -1425.3411821283637\n",
      "theta 191: 4611.694589000756\n",
      "########################################################################################################\n",
      "con un costo de: 15222543374.700386 \n",
      "la cantidad de theta son:  191\n"
     ]
    }
   ],
   "source": [
    "#creamos un theta con 19 columnas de ceros\n",
    "theta_RLP = np.zeros(len(X_ready_RLP[0]))\n",
    "\n",
    "#numero de iteraciones sera 1000000 y un alpha 0.0009\n",
    "num_ite_RLP = 5000\n",
    "alpha_RLP = 0.0009\n",
    "\n",
    "theta_RLP, J_historico_RLP = calcularDescensoGradienteSR(X_ready_RLP, y_trainRLP, theta_RLP , alpha_RLP, num_ite_RLP)\n",
    "print(\"########################################################################################################\")\n",
    "print(\"Los valores de theta calculados son:\")\n",
    "i = 0\n",
    "for tht2 in theta_RLP:\n",
    "    i += 1\n",
    "    print(f\"theta {i}: {tht2}\")\n",
    "\n",
    "print(f\"########################################################################################################\")\n",
    "#mostramos el ultimo costo, este seria el mejor costo\n",
    "print(f\"con un costo de: { J_historico_RLP[-1]} \")\n",
    "\n",
    "print(\"la cantidad de theta son: \", theta_RLP.shape[0])"
   ]
  },
  {
   "cell_type": "markdown",
   "metadata": {},
   "source": [
    "#### 2.2.4 Grafica de la convergencia del costo\n",
    "Graficamos el costo"
   ]
  },
  {
   "cell_type": "code",
   "execution_count": 652,
   "metadata": {},
   "outputs": [
    {
     "data": {
      "text/plain": [
       "Text(0, 0.5, 'Costo J')"
      ]
     },
     "execution_count": 652,
     "metadata": {},
     "output_type": "execute_result"
    },
    {
     "data": {
      "image/png": "[encoded data removed]",
      "text/plain": [
       "<Figure size 640x480 with 1 Axes>"
      ]
     },
     "metadata": {},
     "output_type": "display_data"
    }
   ],
   "source": [
    "pyplot.plot(np.arange(len(J_historico_RLP)), J_historico_RLP, lw=2)\n",
    "pyplot.title(\"Grafica de la convergencia del costo\")\n",
    "pyplot.xlabel('Numero de iteraciones')\n",
    "pyplot.ylabel('Costo J')"
   ]
  },
  {
   "cell_type": "markdown",
   "metadata": {},
   "source": [
    "##### 2.2.4.1 Grafica de la regresion Polinomial\n",
    "\n",
    "En esta parte se trazan los datos de entrenamiento y una línea que representa la regresión lineal ajustada a esos datos."
   ]
  },
  {
   "cell_type": "code",
   "execution_count": 653,
   "metadata": {},
   "outputs": [
    {
     "data": {
      "text/plain": [
       "<matplotlib.legend.Legend at 0x2040c6f7650>"
      ]
     },
     "execution_count": 653,
     "metadata": {},
     "output_type": "execute_result"
    },
    {
     "data": {
      "image/png": "[encoded data removed]",
      "text/plain": [
       "<Figure size 640x480 with 1 Axes>"
      ]
     },
     "metadata": {},
     "output_type": "display_data"
    }
   ],
   "source": [
    "graficarDatos(X_norm_RLP[:, 150], X_norm_RLP[:, 151] , \"X_norm_150\", \"X_norm_151\")\n",
    "\n",
    "pyplot.plot(X_norm_RLP[:,150], np.dot(X_ready_RLP, theta_RLP), '-')\n",
    "\n",
    "pyplot.legend(['Datos de entrenamiento', 'regresion lineal'])"
   ]
  },
  {
   "cell_type": "markdown",
   "metadata": {},
   "source": [
    "haciendo una pequeña prueba:"
   ]
  },
  {
   "cell_type": "code",
   "execution_count": 654,
   "metadata": {},
   "outputs": [
    {
     "name": "stdout",
     "output_type": "stream",
     "text": [
      "La prediccion de la casa es de: [253211.63162483]\n"
     ]
    }
   ],
   "source": [
    "X_arrayRLP = np.array([3,1,1180,5650,1,0,0,3,7,1180,0,1955,0,98178,47.5112,-122.257,1340,5650])\n",
    "X_arrayRLP = X_arrayRLP.reshape(1, -1)\n",
    "\n",
    "poly = PolynomialFeatures(degree=2)\n",
    "#hacemos una copia de y_train y y_test para usarlo en la regresion polinomial\n",
    "X_arrayRLP = poly.fit_transform(X_arrayRLP)\n",
    "\n",
    "X_arrayRLP = np.concatenate([np.ones((X_arrayRLP.shape[0], 1)), X_arrayRLP], axis=1)\n",
    "\n",
    "X_arrayRLP[:, 1:] = (X_arrayRLP[:, 1:] - mu_RLP) / sigma_RLP\n",
    "\n",
    "prediccion_RLP = np.dot(X_arrayRLP, theta_RLP)\n",
    "\n",
    "print (f\"La prediccion de la casa es de: {prediccion_RLP}\")"
   ]
  },
  {
   "cell_type": "markdown",
   "metadata": {},
   "source": [
    "#### 2.2.5 Ejemplos de Predicciones\n",
    "\n",
    "Se creo una matriz con 11 ejemplos, donde se hace las predicciones correspondientes:"
   ]
  },
  {
   "cell_type": "code",
   "execution_count": 655,
   "metadata": {},
   "outputs": [
    {
     "name": "stdout",
     "output_type": "stream",
     "text": [
      "20\n",
      "19\n",
      "+------------+-------------+---------------+------------+----------+--------------+--------+-------------+---------+--------------+-----------------+------------+----------------+-----------+---------+----------+-----------------+--------------+----------+\n",
      "|   bedrooms |   bathrooms |   sqft_living |   sqft_lot |   floors |   waterfront |   view |   condition |   grade |   sqft_above |   sqft_basement |   yr_built |   yr_renovated |   zipcode |     lat |     long |   sqft_living15 |   sqft_lot15 |    Price |\n",
      "+============+=============+===============+============+==========+==============+========+=============+=========+==============+=================+============+================+===========+=========+==========+=================+==============+==========+\n",
      "|          3 |        1    |          1180 |       5650 |      1   |            0 |      0 |           3 |       7 |         1180 |               0 |       1955 |              0 |     98178 | 47.5112 | -122.257 |            1340 |         5650 | 253212   |\n",
      "+------------+-------------+---------------+------------+----------+--------------+--------+-------------+---------+--------------+-----------------+------------+----------------+-----------+---------+----------+-----------------+--------------+----------+\n",
      "|          2 |        0.75 |          1020 |       1076 |      2   |            0 |      0 |           3 |       7 |         1020 |               0 |       2008 |              0 |     98144 | 47.5941 | -122.299 |            1020 |         1357 | 221272   |\n",
      "+------------+-------------+---------------+------------+----------+--------------+--------+-------------+---------+--------------+-----------------+------------+----------------+-----------+---------+----------+-----------------+--------------+----------+\n",
      "|          4 |        2.75 |          3555 |       6565 |      2   |            0 |      0 |           3 |       9 |         3555 |               0 |       2014 |              0 |     98053 | 47.6847 | -122.017 |            3625 |         5637 | 850335   |\n",
      "+------------+-------------+---------------+------------+----------+--------------+--------+-------------+---------+--------------+-----------------+------------+----------------+-----------+---------+----------+-----------------+--------------+----------+\n",
      "|          2 |        1    |          1040 |      13920 |      1   |            0 |      0 |           3 |       6 |         1040 |               0 |       1973 |           1867 |     98198 | 47.3756 | -122.306 |            1100 |         7575 |  21692.9 |\n",
      "+------------+-------------+---------------+------------+----------+--------------+--------+-------------+---------+--------------+-----------------+------------+----------------+-----------+---------+----------+-----------------+--------------+----------+\n",
      "|          4 |        1.75 |          1860 |       7350 |      1   |            0 |      0 |           4 |       7 |         1090 |             770 |       1977 |           1900 |     98031 | 47.3979 | -122.174 |            1710 |         7350 | 331609   |\n",
      "+------------+-------------+---------------+------------+----------+--------------+--------+-------------+---------+--------------+-----------------+------------+----------------+-----------+---------+----------+-----------------+--------------+----------+\n",
      "|          1 |        1    |          1060 |      54846 |      1   |            1 |      4 |           3 |       5 |         1060 |               0 |       1935 |              0 |     98070 | 47.4716 | -122.445 |            2258 |        31762 | 484934   |\n",
      "+------------+-------------+---------------+------------+----------+--------------+--------+-------------+---------+--------------+-----------------+------------+----------------+-----------+---------+----------+-----------------+--------------+----------+\n",
      "|          4 |        1.5  |          2220 |       9496 |      1   |            0 |      0 |           4 |       7 |         1490 |             730 |       1954 |              0 |     98004 | 47.6233 | -122.206 |            1800 |         8286 | 512074   |\n",
      "+------------+-------------+---------------+------------+----------+--------------+--------+-------------+---------+--------------+-----------------+------------+----------------+-----------+---------+----------+-----------------+--------------+----------+\n",
      "|          4 |        1.5  |          1560 |       6534 |      1   |            0 |      0 |           4 |       7 |         1560 |               0 |       1962 |              0 |     98007 | 47.6012 | -122.152 |            1560 |         6969 | 419778   |\n",
      "+------------+-------------+---------------+------------+----------+--------------+--------+-------------+---------+--------------+-----------------+------------+----------------+-----------+---------+----------+-----------------+--------------+----------+\n",
      "|          5 |        3    |          2510 |       4125 |      1.5 |            0 |      3 |           5 |       8 |         1590 |             920 |       1925 |              0 |     98144 | 47.5968 | -122.29  |            2190 |         5415 | 895334   |\n",
      "+------------+-------------+---------------+------------+----------+--------------+--------+-------------+---------+--------------+-----------------+------------+----------------+-----------+---------+----------+-----------------+--------------+----------+\n",
      "|          3 |        2.5  |          1680 |       2096 |      2   |            0 |      0 |           3 |       8 |         1380 |             300 |       2008 |              0 |     98117 | 47.6904 | -122.37  |            1360 |         2096 | 482704   |\n",
      "+------------+-------------+---------------+------------+----------+--------------+--------+-------------+---------+--------------+-----------------+------------+----------------+-----------+---------+----------+-----------------+--------------+----------+\n",
      "|          3 |        2.25 |          2020 |       3600 |      2   |            0 |      0 |           3 |       8 |         2020 |               0 |       1998 |              0 |     98033 | 47.6678 | -122.165 |            2070 |         3699 | 539959   |\n",
      "+------------+-------------+---------------+------------+----------+--------------+--------+-------------+---------+--------------+-----------------+------------+----------------+-----------+---------+----------+-----------------+--------------+----------+\n"
     ]
    }
   ],
   "source": [
    "#Creamos la matriz con 11 ejemplos para hacer la prueba predecir un precio de cada ejemplo:\n",
    "matriz_datos_RLP = np.array([\n",
    "    [3,1,1180,5650,1,0,0,3,7,1180,0,1955,0,98178,47.5112,-122.257,1340,5650],\n",
    "    [2,0.75,1020,1076,2,0,0,3,7,1020,0,2008,0,98144,47.5941,-122.299,1020,1357],\n",
    "    [4,2.75,3555,6565,2,0,0,3,9,3555,0,2014,0,98053,47.6847,-122.017,3625,5637],\n",
    "    [2,1,1040,13920,1,0,0,3,6,1040,0,1973,1867,98198,47.3756,-122.306,1100,7575],\n",
    "    [4,1.75,1860,7350,1,0,0,4,7,1090,770,1977,1900,98031,47.3979,-122.174,1710,7350],\n",
    "    [1,1,1060,54846,1,1,4,3,5,1060,0,1935,0,98070,47.4716,-122.445,2258,31762],\n",
    "    [4,1.5,2220,9496,1,0,0,4,7,1490,730,1954,0,98004,47.6233,-122.206,1800,8286],\n",
    "    [4,1.5,1560,6534,1,0,0,4,7,1560,0,1962,0,98007,47.6012,-122.152,1560,6969],\n",
    "    [5,3,2510,4125,1.5,0,3,5,8,1590,920,1925,0,98144,47.5968,-122.29,2190,5415],\n",
    "    [3,2.5,1680,2096,2,0,0,3,8,1380,300,2008,0,98117,47.6904,-122.37,1360,2096],\n",
    "    [3,2.25,2020,3600,2,0,0,3,8,2020,0,1998,0,98033,47.6678,-122.165,2070,3699]\n",
    "])\n",
    "\n",
    "#creamos un vector parta almacenar cada Y predicha\n",
    "y_pre_RLP = []\n",
    "\n",
    "matriz_datos_RLP_copy = matriz_datos_RLP.copy()\n",
    "\n",
    "poly = PolynomialFeatures(degree=2)\n",
    "#hacemos una copia de y_train y y_test para usarlo en la regresion polinomial\n",
    "matriz_datos_RLP = poly.fit_transform(matriz_datos_RLP)\n",
    "\n",
    "matriz_datos_RLP = np.concatenate([np.ones((matriz_datos_RLP.shape[0], 1)), matriz_datos_RLP], axis=1)\n",
    "\n",
    "\n",
    "#Normalizamos todos, menos el primer valor de cada ejemplo\n",
    "\n",
    "matriz_datos_RLP[:, 1:] = (matriz_datos_RLP[:, 1:] - mu_RLP) / sigma_RLP\n",
    "\n",
    "\n",
    "#Calculamos la Y predicha de los 11 ejemplos de prediccion\n",
    "for datos in matriz_datos_RLP:\n",
    "    y_pre_RLP.append(np.dot(datos, theta_RLP.T))\n",
    "\n",
    "matriz_datos_RLP_copy = np.column_stack((matriz_datos_RLP_copy, y_pre_RLP))\n",
    "\n",
    "nombres_columnas = ['bedrooms','bathrooms','sqft_living','sqft_lot','floors','waterfront','view','condition','grade','sqft_above','sqft_basement','yr_built','yr_renovated','zipcode','lat','long','sqft_living15','sqft_lot15','Price']\n",
    "\n",
    "# Convertir la matriz en una lista de listas\n",
    "datos_para_tabla = matriz_datos_RLP_copy.tolist()\n",
    "\n",
    "print(len(matriz_datos_RLM[0]))\n",
    "print(len(matriz_datos_RLM_copy[0]))\n",
    "\n",
    "# Imprimir la tabla\n",
    "print(tabulate(datos_para_tabla, headers=nombres_columnas, tablefmt='grid'))"
   ]
  },
  {
   "cell_type": "markdown",
   "metadata": {},
   "source": [
    "### 2.3 Ecuacion de la normal\n",
    "\n",
    "Utilizada en el contexto de la regresión lineal para calcular los parámetros del modelo de regresión directamente a partir de los datos de entrenamiento. Se denomina \"normal\" porque se deriva de la \"ecuación normal\" de un sistema de ecuaciones lineales."
   ]
  },
  {
   "cell_type": "markdown",
   "metadata": {},
   "source": [
    "#### 2.3.1 Agregando la columna de unos a la matriz $X$ para tener el termino de intersección"
   ]
  },
  {
   "cell_type": "code",
   "execution_count": 656,
   "metadata": {},
   "outputs": [
    {
     "name": "stdout",
     "output_type": "stream",
     "text": [
      "X_ren[:,0]  X_ren[:, 1]  X_ren[:, 2]  X_ren[:, 3]  X_ren[:, 4]  X_ren[:, 5]  X_ren[:, 6]  X_ren[:, 7]  X_ren[:, 8]  X_ren[:, 9]  X_ren[:, 10]  X_ren[:, 11]  X_ren[:, 12]  X_ren[:, 13]  X_ren[:, 14]  X_ren[:, 15]  X_ren[:, 16]  X_ren[:, 17]  X_ren[:, 18]\n",
      "--------------------------------------------------------------------------------------------------------------------------------------------------------------------------------------------------------------------------------------------------------------------\n",
      "         1           2           2           1390          6670           1            0             0           3             6          720           670         1941             0          98115           48          -122            920          6380\n",
      "         1           3           3           2540          8604           2            0             0           3             8         2540             0         1991             0          98092           47          -122           2260          7438\n",
      "         1           3           3           3280         10558           1            0             2           4             9         2040          1240         1979             0          98006           48          -122           3150          9998\n",
      "         1           4           3           2060         21344           1            0             0           2             8         1460           600         1978             0          98005           48          -122           2060         16088\n",
      "         1           3           1           1060          9241           1            0             0           4             7         1060             0         1956             0          98133           48          -122           1900          6484\n",
      "         1           2           1            800          4046           1            0             0           3             7          800             0         1940             0          98117           48          -122           1400          4046\n",
      "         1           3           2           1560         14288           1            0             0           3             6          780           780         1944             0          98125           48          -122           1320          8928\n",
      "         1           4           2           2040         11850           1            0             2           3             7         1020          1020         1959             0          98033           48          -122           2040          8504\n",
      "         1           5           2           3750         91681           2            1             4           3            10         3750             0         1925             0          98118           48          -122           3540         24293\n",
      "         1           2           2           1440          4225           1            0             0           3             8         1440             0         2005             0          98053           48          -122           1680          6200\n"
     ]
    }
   ],
   "source": [
    "# Cargamos los datos utilizando pandasd\n",
    "data = pd.read_csv('kc_house_data.csv', delimiter=',')\n",
    "\n",
    "#retiramos el id y la fecha del las columnas, quitamos el precio ya que ira a el vector Y, tambien quitamos los titulos\n",
    "dataset = data.drop(['id', 'date'], axis=1).astype(float)\n",
    "\n",
    "# Seleccionar aleatoriamente 20,000 ejemplos\n",
    "sampled_dataset = dataset.sample(n=20000, random_state=42)\n",
    "\n",
    "train_dataset, test_dataset = train_test_split(sampled_dataset, test_size=0.2, random_state=42)\n",
    "\n",
    "X_testEc = test_dataset.drop(['price'], axis=1).values\n",
    "y_testEc = test_dataset['price'].values\n",
    "m_testEc = len(y_testEc)\n",
    "\n",
    "# Seleccionamos las columnas para X y la columna 'price' para Y\n",
    "X_trainEc = train_dataset.drop(['price'], axis=1).values\n",
    "y_trainEc = train_dataset['price'].values\n",
    "m_trainEc = len(y_trainEc)\n",
    "\n",
    "#añadimos unos a la X\n",
    "X_ren = np.concatenate([np.ones((m_trainEc, 1)), X_trainEc], axis=1)\n",
    "\n",
    "#Imprimimos X_ready\n",
    "print('{:>8s}{:>10s}{:>10s}{:>10s}{:>8s}{:>8s}{:>8s}{:>8s}{:>6s}{:>10s}{:>10s}{:>10s}{:>10s}{:>10s}{:>10s}{:>10s}{:>10s}{:>10s}{:>10s}'.format(\n",
    "    'X_ren[:,0]', '  X_ren[:, 1]', '  X_ren[:, 2]', '  X_ren[:, 3]', '  X_ren[:, 4]', '  X_ren[:, 5]', '  X_ren[:, 6]', '  X_ren[:, 7]', '  X_ren[:, 8]', '  X_ren[:, 9]', '  X_ren[:, 10]', '  X_ren[:, 11]',\n",
    "    '  X_ren[:, 12]', '  X_ren[:, 13]', '  X_ren[:, 14]', '  X_ren[:, 15]', '  X_ren[:, 16]', '  X_ren[:, 17]', '  X_ren[:, 18]'\n",
    "))\n",
    "print('-' * 260)\n",
    "\n",
    "for i in range(10):\n",
    "    print('{:10.0f}{:12.0f}{:12.0f}{:15.0f}{:14.0f}{:12.0f}{:13.0f}{:14.0f}{:12.0f}{:14.0f}{:13.0f}{:14.0f}{:13.0f}{:14.0f}{:15.0f}{:13.0f}{:14.0f}{:15.0f}{:14.0f}'.format(\n",
    "        X_ren[i, 0], X_ren[i, 1], X_ren[i, 2], X_ren[i, 3], X_ren[i, 4], X_ren[i, 5], X_ren[i, 6], X_ren[i, 7], X_ren[i, 8], X_ren[i, 9], X_ren[i, 10], X_ren[i, 11],\n",
    "        X_ren[i, 12], X_ren[i, 13], X_ren[i, 14], X_ren[i, 15], X_ren[i, 16], X_ren[i, 17], X_ren[i, 18]\n",
    "    ))"
   ]
  },
  {
   "cell_type": "markdown",
   "metadata": {},
   "source": [
    "#### 2.3.2 Calculando Theta"
   ]
  },
  {
   "cell_type": "code",
   "execution_count": 657,
   "metadata": {},
   "outputs": [
    {
     "name": "stdout",
     "output_type": "stream",
     "text": [
      "########################################################################################################\n",
      "Los valores de theta usando la ecuacion de la normal es calculados son:\n",
      "theta 1: 15550765.562788932\n",
      "theta 2: -3336164.915750435\n",
      "theta 3: -384208.4392969166\n",
      "theta 4: 38293.39210539675\n",
      "theta 5: 0.2649409555920973\n",
      "theta 6: 269602.53481336473\n",
      "theta 7: 1540664.1240256045\n",
      "theta 8: -25775.18209456873\n",
      "theta 9: 14609.543056991997\n",
      "theta 10: 149134.68604321865\n",
      "theta 11: -37727.46992693181\n",
      "theta 12: -37623.77740831107\n",
      "theta 13: -2556.2520189300158\n",
      "theta 14: 18.57716656465609\n",
      "theta 15: -567.0177064511505\n",
      "theta 16: 610567.276181861\n",
      "theta 17: -215629.0738984424\n",
      "theta 18: 27.76142619483184\n",
      "theta 19: -0.3921443226667025\n",
      "########################################################################################################\n"
     ]
    }
   ],
   "source": [
    "# Calculamos thea haciendo uso de la funcion\n",
    "lambda_Ec = 1000\n",
    "theta_Ec = calcularThethaEcuacionNormalSR(X_ren, y_trainEc);\n",
    "\n",
    "print(f\"########################################################################################################\")\n",
    "print(\"Los valores de theta usando la ecuacion de la normal es calculados son:\")\n",
    "i = 0\n",
    "for thtEc in theta_Ec:\n",
    "    i += 1\n",
    "    print(f\"theta {i}: {thtEc}\")\n",
    "print(f\"########################################################################################################\")"
   ]
  },
  {
   "cell_type": "markdown",
   "metadata": {},
   "source": [
    "Haciendo pequeña prueba"
   ]
  },
  {
   "cell_type": "code",
   "execution_count": 658,
   "metadata": {},
   "outputs": [
    {
     "name": "stdout",
     "output_type": "stream",
     "text": [
      "La prediccion de la casa es de: 1924516.7039576033\n"
     ]
    }
   ],
   "source": [
    "X_arrayEc = np.array([1,3,1,1180,5650,1,0,0,3,7,1180,0,1955,0,98178,47.5112,-122.257,1340,5650])\n",
    "\n",
    "prediccion_Ec = np.dot(X_arrayEc, theta_Ec.T)\n",
    "\n",
    "print (f\"La prediccion de la casa es de: {prediccion_Ec}\")"
   ]
  },
  {
   "cell_type": "markdown",
   "metadata": {},
   "source": [
    "#### 2.3.3 Ejemplos de Predicciones haciendo uso de la Ecuacion de la normal\n",
    "Se creo una matriz con 11 ejemplos, donde se hace las predicciones correpondientes:"
   ]
  },
  {
   "cell_type": "code",
   "execution_count": 659,
   "metadata": {},
   "outputs": [
    {
     "name": "stdout",
     "output_type": "stream",
     "text": [
      "+----+------------+-------------+---------------+------------+----------+--------------+--------+-------------+---------+--------------+-----------------+------------+----------------+-----------+---------+----------+-----------------+--------------+-------------------+\n",
      "|    |   bedrooms |   bathrooms |   sqft_living |   sqft_lot |   floors |   waterfront |   view |   condition |   grade |   sqft_above |   sqft_basement |   yr_built |   yr_renovated |   zipcode |     lat |     long |   sqft_living15 |   sqft_lot15 |             Price |\n",
      "+====+============+=============+===============+============+==========+==============+========+=============+=========+==============+=================+============+================+===========+=========+==========+=================+==============+===================+\n",
      "|  1 |          3 |        1    |          1180 |       5650 |      1   |            0 |      0 |           3 |       7 |         1180 |               0 |       1955 |              0 |     98178 | 47.5112 | -122.257 |            1340 |         5650 |       1.92452e+06 |\n",
      "+----+------------+-------------+---------------+------------+----------+--------------+--------+-------------+---------+--------------+-----------------+------------+----------------+-----------+---------+----------+-----------------+--------------+-------------------+\n",
      "|  1 |          2 |        0.75 |          1020 |       1076 |      2   |            0 |      0 |           3 |       7 |         1020 |               0 |       2008 |              0 |     98144 | 47.5941 | -122.299 |            1020 |         1357 |       5.47085e+06 |\n",
      "+----+------------+-------------+---------------+------------+----------+--------------+--------+-------------+---------+--------------+-----------------+------------+----------------+-----------+---------+----------+-----------------+--------------+-------------------+\n",
      "|  1 |          4 |        2.75 |          3555 |       6565 |      2   |            0 |      0 |           3 |       9 |         3555 |               0 |       2014 |              0 |     98053 | 47.6847 | -122.017 |            3625 |         5637 | -134153           |\n",
      "+----+------------+-------------+---------------+------------+----------+--------------+--------+-------------+---------+--------------+-----------------+------------+----------------+-----------+---------+----------+-----------------+--------------+-------------------+\n",
      "|  1 |          2 |        1    |          1040 |      13920 |      1   |            0 |      0 |           3 |       6 |         1040 |               0 |       1973 |           2020 |     98198 | 47.3756 | -122.306 |            1100 |         7575 |       4.93504e+06 |\n",
      "+----+------------+-------------+---------------+------------+----------+--------------+--------+-------------+---------+--------------+-----------------+------------+----------------+-----------+---------+----------+-----------------+--------------+-------------------+\n",
      "|  1 |          4 |        1.75 |          1860 |       7350 |      1   |            0 |      0 |           4 |       7 |         1090 |             770 |       1977 |           2000 |     98031 | 47.3979 | -122.174 |            1710 |         7350 |      -1.23328e+06 |\n",
      "+----+------------+-------------+---------------+------------+----------+--------------+--------+-------------+---------+--------------+-----------------+------------+----------------+-----------+---------+----------+-----------------+--------------+-------------------+\n",
      "|  1 |          1 |        1    |          1060 |      54846 |      1   |            1 |      4 |           3 |       5 |         1060 |               0 |       1935 |              0 |     98070 | 47.4716 | -122.445 |            2258 |        31762 |       9.82523e+06 |\n",
      "+----+------------+-------------+---------------+------------+----------+--------------+--------+-------------+---------+--------------+-----------------+------------+----------------+-----------+---------+----------+-----------------+--------------+-------------------+\n",
      "|  1 |          4 |        1.5  |          2220 |       9496 |      1   |            0 |      0 |           4 |       7 |         1490 |             730 |       1954 |              0 |     98004 | 47.6233 | -122.206 |            1800 |         8286 | -753468           |\n",
      "+----+------------+-------------+---------------+------------+----------+--------------+--------+-------------+---------+--------------+-----------------+------------+----------------+-----------+---------+----------+-----------------+--------------+-------------------+\n",
      "|  1 |          4 |        1.5  |          1560 |       6534 |      1   |            0 |      0 |           4 |       7 |         1560 |               0 |       1962 |              0 |     98007 | 47.6012 | -122.152 |            1560 |         6969 |      -1.25689e+06 |\n",
      "+----+------------+-------------+---------------+------------+----------+--------------+--------+-------------+---------+--------------+-----------------+------------+----------------+-----------+---------+----------+-----------------+--------------+-------------------+\n",
      "|  1 |          5 |        3    |          2510 |       4125 |      1.5 |            0 |      3 |           5 |       8 |         1590 |             920 |       1925 |              0 |     98144 | 47.5968 | -122.29  |            2190 |         5415 |      -4.2537e+06  |\n",
      "+----+------------+-------------+---------------+------------+----------+--------------+--------+-------------+---------+--------------+-----------------+------------+----------------+-----------+---------+----------+-----------------+--------------+-------------------+\n",
      "|  1 |          3 |        2.5  |          1680 |       2096 |      2   |            0 |      0 |           3 |       8 |         1380 |             300 |       2008 |              0 |     98117 | 47.6904 | -122.37  |            1360 |         2096 |       2.1149e+06  |\n",
      "+----+------------+-------------+---------------+------------+----------+--------------+--------+-------------+---------+--------------+-----------------+------------+----------------+-----------+---------+----------+-----------------+--------------+-------------------+\n",
      "|  1 |          3 |        2.25 |          2020 |       3600 |      2   |            0 |      0 |           3 |       8 |         2020 |               0 |       1998 |              0 |     98033 | 47.6678 | -122.165 |            2070 |         3699 |       2.40693e+06 |\n",
      "+----+------------+-------------+---------------+------------+----------+--------------+--------+-------------+---------+--------------+-----------------+------------+----------------+-----------+---------+----------+-----------------+--------------+-------------------+\n"
     ]
    }
   ],
   "source": [
    "matriz_datosEc = np.array([\n",
    "    [1,3,1,1180,5650,1,0,0,3,7,1180,0,1955,0,98178,47.5112,-122.257,1340,5650],\n",
    "    [1,2,0.75,1020,1076,2,0,0,3,7,1020,0,2008,0,98144,47.5941,-122.299,1020,1357],\n",
    "    [1,4,2.75,3555,6565,2,0,0,3,9,3555,0,2014,0,98053,47.6847,-122.017,3625,5637],\n",
    "    [1,2,1,1040,13920,1,0,0,3,6,1040,0,1973,2020,98198,47.3756,-122.306,1100,7575],\n",
    "    [1,4,1.75,1860,7350,1,0,0,4,7,1090,770,1977,2000,98031,47.3979,-122.174,1710,7350],\n",
    "    [1,1,1,1060,54846,1,1,4,3,5,1060,0,1935,0,98070,47.4716,-122.445,2258,31762],\n",
    "    [1,4,1.5,2220,9496,1,0,0,4,7,1490,730,1954,0,98004,47.6233,-122.206,1800,8286],\n",
    "    [1,4,1.5,1560,6534,1,0,0,4,7,1560,0,1962,0,98007,47.6012,-122.152,1560,6969],\n",
    "    [1,5,3,2510,4125,1.5,0,3,5,8,1590,920,1925,0,98144,47.5968,-122.29,2190,5415],\n",
    "    [1,3,2.5,1680,2096,2,0,0,3,8,1380,300,2008,0,98117,47.6904,-122.37,1360,2096],\n",
    "    [1,3,2.25,2020,3600,2,0,0,3,8,2020,0,1998,0,98033,47.6678,-122.165,2070,3699]\n",
    "])\n",
    "\n",
    "#creamos un vector parta almacenar cada Y predicha\n",
    "y_pre_Ec = []\n",
    "#Calculamos la Y predicha de los 11 ejemplos de prediccion\n",
    "for datosEc in matriz_datosEc:\n",
    "    y_pre_Ec.append(np.dot(datosEc, theta_Ec))\n",
    "\n",
    "matriz_datosEc = np.column_stack((matriz_datosEc, y_pre_Ec))\n",
    "\n",
    "nombres_columnas = ['bedrooms','bathrooms','sqft_living','sqft_lot','floors','waterfront','view','condition','grade','sqft_above','sqft_basement','yr_built','yr_renovated','zipcode','lat','long','sqft_living15','sqft_lot15','Price']\n",
    "\n",
    "# Convertir la matriz en una lista de listas\n",
    "datos_para_tabla = matriz_datosEc.tolist()\n",
    "\n",
    "# Imprimir la tabla\n",
    "print(tabulate(datos_para_tabla, headers=nombres_columnas, tablefmt='grid'))"
   ]
  },
  {
   "cell_type": "markdown",
   "metadata": {},
   "source": [
    "#### 2.3.4 Validaciones\n",
    "Para hacer las validaciones correspondientes, primero se crea la funcion del **Mean squeared error**\n",
    "\n",
    "Siguiendo el consejo de 80/20, donde 80% es para la fase de entrenamiento, y 20% es para la fase de prueba."
   ]
  },
  {
   "cell_type": "code",
   "execution_count": 660,
   "metadata": {},
   "outputs": [
    {
     "name": "stdout",
     "output_type": "stream",
     "text": [
      "Error Cuadrático Medio (MSE) = 8652638787130.842\n",
      "Raíz del Error Cuadrático Medio (RMSE) = 2941536.8070331607\n"
     ]
    }
   ],
   "source": [
    "#Concatenamos de unos a la primera posicion del X_test para la ecuacion normal\n",
    "X_ready_testEc = np.concatenate([np.ones((m_testEc, 1)), X_testEc], axis=1)\n",
    "\n",
    "#creamos un array que almacenara cada una de las y_predicha\n",
    "y_predicha_Ec = []\n",
    "for data_test_ready in X_ready_testEc:\n",
    "    y_predicha_Ec.append(np.dot(data_test_ready, theta_Ec))\n",
    "\n",
    "#calculamos el error cuadratico medio:\n",
    "mse_Ec = mean_squared_error(y_predicha_Ec, y_testEc)\n",
    "#calculamos el error cuadratico medio:\n",
    "print('Error Cuadrático Medio (MSE) = ' + str(mse_Ec))\n",
    "print('Raíz del Error Cuadrático Medio (RMSE) = ' + str(np.sqrt(mse_Ec)))"
   ]
  }
 ],
 "metadata": {
  "kernelspec": {
   "display_name": "Python 3",
   "language": "python",
   "name": "python3"
  },
  "language_info": {
   "codemirror_mode": {
    "name": "ipython",
    "version": 3
   },
   "file_extension": ".py",
   "mimetype": "text/x-python",
   "name": "python",
   "nbconvert_exporter": "python",
   "pygments_lexer": "ipython3",
   "version": "3.12.2"
  }
 },
 "nbformat": 4,
 "nbformat_minor": 2
}
