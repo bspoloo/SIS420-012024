{
 "cells": [
  {
   "cell_type": "markdown",
   "metadata": {},
   "source": [
    "# Laboratorio 4(Aplicacion de Regularizacion - Regresion Lineal) Grupo 1\n",
    " <h3>En este laboratorio se hizo el uso del dataset para aplicar la regularización y sin utilizar regularización a la Regresion Lineal, y como siguiente se presento los resultados de ambas experiencias<h3>\n",
    " <HR>\n",
    " <h3>\n",
    "  NOMBRE: POLO ORELLANA BRAYAN SIMON <br>\n",
    "  CARRERA: INGENIERIA DE SISTEMAS <BR>\n",
    "  FECHA: 26/03/2024 <BR>\n",
    "\n",
    "  * [Enlace de invitacion para ser colaborador](https://github.com/bspoloo/SIS420-012024/invitations)\n",
    "  \n",
    "  * [Enlace al git hub](https://github.com/bspoloo/SIS420-012024/tree/main/Laboratorios/Lab%201)\n",
    "  \n",
    "  * [Enlace al Colab](https://colab.research.google.com/github/bspoloo/SIS420-012024/blob/main/Laboratorios/Laboratorio%204/Regresion%20lineal.ipynb?hl=es#scrollTo=jmDd6cd2hQ_W)\n",
    "  \n",
    " <h3>\n",
    "\n",
    " Para el laboratorio implementando regularizacion se hizo uso del dataset para predecir el precio de las casas en USA. El enlace al dataset es [House Sales in King County, USA](https://www.kaggle.com/datasets/harlfoxem/housesalesprediction).\n",
    "\n",
    "El conjunto de datos, denominado ``kc_house_data.csv``, contiene un conjunto de entrenamiento de precios de casas en el condado de King. Este conjunto de datos probablemente incluye varias características relevantes para predecir el precio de las casas, como el tamaño de la vivienda, el número de habitaciones, la ubicación, las características específicas de la casa, etc.\n"
   ]
  },
  {
   "cell_type": "markdown",
   "metadata": {},
   "source": [
    "Primero se importo todas las librerias necesarias:"
   ]
  },
  {
   "cell_type": "code",
   "execution_count": 46,
   "metadata": {},
   "outputs": [],
   "source": [
    "# utilizando la libreria os para manejos de directorios\n",
    "import os\n",
    "\n",
    "# Computacion vectorial y cientifica para python\n",
    "import numpy as np\n",
    "\n",
    "#importamos pandas para el manejo del dataset, y separarlos dentro de una matriz\n",
    "import pandas as pd\n",
    "\n",
    "#esta tabulate nos sirve para hacer tablas\n",
    "from tabulate import tabulate\n",
    "\n",
    "# Librerias para graficación (trazado de gráficos)\n",
    "from matplotlib import pyplot\n",
    "from mpl_toolkits.mplot3d import Axes3D  # -> Necesario para graficar superficies 3D\n",
    "\n",
    "#Para separa el 20% y 80%\n",
    "from sklearn.model_selection import train_test_split\n",
    "\n",
    "# llama a matplotlib a embeber graficas dentro de los cuadernillos\n",
    "%matplotlib inline"
   ]
  },
  {
   "cell_type": "markdown",
   "metadata": {},
   "source": [
    "## Carga de datos del dataset\n",
    "\n",
    "cargamos los datos haciendo el uso de la libreria **Pandas** que  es una herramienta poderosa y versátil utilizada para manipulación y análisis de datos. Ofrece estructuras de datos flexibles y eficientes para trabajar con datos tabulares, como hojas de cálculo en Excel o tablas SQL. Algunas de las funcionalidades clave de pandas incluyen:"
   ]
  },
  {
   "cell_type": "code",
   "execution_count": 47,
   "metadata": {},
   "outputs": [
    {
     "data": {
      "text/html": [
       "<div>\n",
       "<style scoped>\n",
       "    .dataframe tbody tr th:only-of-type {\n",
       "        vertical-align: middle;\n",
       "    }\n",
       "\n",
       "    .dataframe tbody tr th {\n",
       "        vertical-align: top;\n",
       "    }\n",
       "\n",
       "    .dataframe thead th {\n",
       "        text-align: right;\n",
       "    }\n",
       "</style>\n",
       "<table border=\"1\" class=\"dataframe\">\n",
       "  <thead>\n",
       "    <tr style=\"text-align: right;\">\n",
       "      <th></th>\n",
       "      <th>id</th>\n",
       "      <th>date</th>\n",
       "      <th>price</th>\n",
       "      <th>bedrooms</th>\n",
       "      <th>bathrooms</th>\n",
       "      <th>sqft_living</th>\n",
       "      <th>sqft_lot</th>\n",
       "      <th>floors</th>\n",
       "      <th>waterfront</th>\n",
       "      <th>view</th>\n",
       "      <th>...</th>\n",
       "      <th>grade</th>\n",
       "      <th>sqft_above</th>\n",
       "      <th>sqft_basement</th>\n",
       "      <th>yr_built</th>\n",
       "      <th>yr_renovated</th>\n",
       "      <th>zipcode</th>\n",
       "      <th>lat</th>\n",
       "      <th>long</th>\n",
       "      <th>sqft_living15</th>\n",
       "      <th>sqft_lot15</th>\n",
       "    </tr>\n",
       "  </thead>\n",
       "  <tbody>\n",
       "    <tr>\n",
       "      <th>0</th>\n",
       "      <td>7129300520</td>\n",
       "      <td>20141013T000000</td>\n",
       "      <td>221900.0</td>\n",
       "      <td>3</td>\n",
       "      <td>1.00</td>\n",
       "      <td>1180</td>\n",
       "      <td>5650</td>\n",
       "      <td>1.0</td>\n",
       "      <td>0</td>\n",
       "      <td>0</td>\n",
       "      <td>...</td>\n",
       "      <td>7</td>\n",
       "      <td>1180</td>\n",
       "      <td>0</td>\n",
       "      <td>1955</td>\n",
       "      <td>0</td>\n",
       "      <td>98178</td>\n",
       "      <td>47.5112</td>\n",
       "      <td>-122.257</td>\n",
       "      <td>1340</td>\n",
       "      <td>5650</td>\n",
       "    </tr>\n",
       "    <tr>\n",
       "      <th>1</th>\n",
       "      <td>6414100192</td>\n",
       "      <td>20141209T000000</td>\n",
       "      <td>538000.0</td>\n",
       "      <td>3</td>\n",
       "      <td>2.25</td>\n",
       "      <td>2570</td>\n",
       "      <td>7242</td>\n",
       "      <td>2.0</td>\n",
       "      <td>0</td>\n",
       "      <td>0</td>\n",
       "      <td>...</td>\n",
       "      <td>7</td>\n",
       "      <td>2170</td>\n",
       "      <td>400</td>\n",
       "      <td>1951</td>\n",
       "      <td>1991</td>\n",
       "      <td>98125</td>\n",
       "      <td>47.7210</td>\n",
       "      <td>-122.319</td>\n",
       "      <td>1690</td>\n",
       "      <td>7639</td>\n",
       "    </tr>\n",
       "    <tr>\n",
       "      <th>2</th>\n",
       "      <td>5631500400</td>\n",
       "      <td>20150225T000000</td>\n",
       "      <td>180000.0</td>\n",
       "      <td>2</td>\n",
       "      <td>1.00</td>\n",
       "      <td>770</td>\n",
       "      <td>10000</td>\n",
       "      <td>1.0</td>\n",
       "      <td>0</td>\n",
       "      <td>0</td>\n",
       "      <td>...</td>\n",
       "      <td>6</td>\n",
       "      <td>770</td>\n",
       "      <td>0</td>\n",
       "      <td>1933</td>\n",
       "      <td>0</td>\n",
       "      <td>98028</td>\n",
       "      <td>47.7379</td>\n",
       "      <td>-122.233</td>\n",
       "      <td>2720</td>\n",
       "      <td>8062</td>\n",
       "    </tr>\n",
       "    <tr>\n",
       "      <th>3</th>\n",
       "      <td>2487200875</td>\n",
       "      <td>20141209T000000</td>\n",
       "      <td>604000.0</td>\n",
       "      <td>4</td>\n",
       "      <td>3.00</td>\n",
       "      <td>1960</td>\n",
       "      <td>5000</td>\n",
       "      <td>1.0</td>\n",
       "      <td>0</td>\n",
       "      <td>0</td>\n",
       "      <td>...</td>\n",
       "      <td>7</td>\n",
       "      <td>1050</td>\n",
       "      <td>910</td>\n",
       "      <td>1965</td>\n",
       "      <td>0</td>\n",
       "      <td>98136</td>\n",
       "      <td>47.5208</td>\n",
       "      <td>-122.393</td>\n",
       "      <td>1360</td>\n",
       "      <td>5000</td>\n",
       "    </tr>\n",
       "    <tr>\n",
       "      <th>4</th>\n",
       "      <td>1954400510</td>\n",
       "      <td>20150218T000000</td>\n",
       "      <td>510000.0</td>\n",
       "      <td>3</td>\n",
       "      <td>2.00</td>\n",
       "      <td>1680</td>\n",
       "      <td>8080</td>\n",
       "      <td>1.0</td>\n",
       "      <td>0</td>\n",
       "      <td>0</td>\n",
       "      <td>...</td>\n",
       "      <td>8</td>\n",
       "      <td>1680</td>\n",
       "      <td>0</td>\n",
       "      <td>1987</td>\n",
       "      <td>0</td>\n",
       "      <td>98074</td>\n",
       "      <td>47.6168</td>\n",
       "      <td>-122.045</td>\n",
       "      <td>1800</td>\n",
       "      <td>7503</td>\n",
       "    </tr>\n",
       "    <tr>\n",
       "      <th>...</th>\n",
       "      <td>...</td>\n",
       "      <td>...</td>\n",
       "      <td>...</td>\n",
       "      <td>...</td>\n",
       "      <td>...</td>\n",
       "      <td>...</td>\n",
       "      <td>...</td>\n",
       "      <td>...</td>\n",
       "      <td>...</td>\n",
       "      <td>...</td>\n",
       "      <td>...</td>\n",
       "      <td>...</td>\n",
       "      <td>...</td>\n",
       "      <td>...</td>\n",
       "      <td>...</td>\n",
       "      <td>...</td>\n",
       "      <td>...</td>\n",
       "      <td>...</td>\n",
       "      <td>...</td>\n",
       "      <td>...</td>\n",
       "      <td>...</td>\n",
       "    </tr>\n",
       "    <tr>\n",
       "      <th>21608</th>\n",
       "      <td>263000018</td>\n",
       "      <td>20140521T000000</td>\n",
       "      <td>360000.0</td>\n",
       "      <td>3</td>\n",
       "      <td>2.50</td>\n",
       "      <td>1530</td>\n",
       "      <td>1131</td>\n",
       "      <td>3.0</td>\n",
       "      <td>0</td>\n",
       "      <td>0</td>\n",
       "      <td>...</td>\n",
       "      <td>8</td>\n",
       "      <td>1530</td>\n",
       "      <td>0</td>\n",
       "      <td>2009</td>\n",
       "      <td>0</td>\n",
       "      <td>98103</td>\n",
       "      <td>47.6993</td>\n",
       "      <td>-122.346</td>\n",
       "      <td>1530</td>\n",
       "      <td>1509</td>\n",
       "    </tr>\n",
       "    <tr>\n",
       "      <th>21609</th>\n",
       "      <td>6600060120</td>\n",
       "      <td>20150223T000000</td>\n",
       "      <td>400000.0</td>\n",
       "      <td>4</td>\n",
       "      <td>2.50</td>\n",
       "      <td>2310</td>\n",
       "      <td>5813</td>\n",
       "      <td>2.0</td>\n",
       "      <td>0</td>\n",
       "      <td>0</td>\n",
       "      <td>...</td>\n",
       "      <td>8</td>\n",
       "      <td>2310</td>\n",
       "      <td>0</td>\n",
       "      <td>2014</td>\n",
       "      <td>0</td>\n",
       "      <td>98146</td>\n",
       "      <td>47.5107</td>\n",
       "      <td>-122.362</td>\n",
       "      <td>1830</td>\n",
       "      <td>7200</td>\n",
       "    </tr>\n",
       "    <tr>\n",
       "      <th>21610</th>\n",
       "      <td>1523300141</td>\n",
       "      <td>20140623T000000</td>\n",
       "      <td>402101.0</td>\n",
       "      <td>2</td>\n",
       "      <td>0.75</td>\n",
       "      <td>1020</td>\n",
       "      <td>1350</td>\n",
       "      <td>2.0</td>\n",
       "      <td>0</td>\n",
       "      <td>0</td>\n",
       "      <td>...</td>\n",
       "      <td>7</td>\n",
       "      <td>1020</td>\n",
       "      <td>0</td>\n",
       "      <td>2009</td>\n",
       "      <td>0</td>\n",
       "      <td>98144</td>\n",
       "      <td>47.5944</td>\n",
       "      <td>-122.299</td>\n",
       "      <td>1020</td>\n",
       "      <td>2007</td>\n",
       "    </tr>\n",
       "    <tr>\n",
       "      <th>21611</th>\n",
       "      <td>291310100</td>\n",
       "      <td>20150116T000000</td>\n",
       "      <td>400000.0</td>\n",
       "      <td>3</td>\n",
       "      <td>2.50</td>\n",
       "      <td>1600</td>\n",
       "      <td>2388</td>\n",
       "      <td>2.0</td>\n",
       "      <td>0</td>\n",
       "      <td>0</td>\n",
       "      <td>...</td>\n",
       "      <td>8</td>\n",
       "      <td>1600</td>\n",
       "      <td>0</td>\n",
       "      <td>2004</td>\n",
       "      <td>0</td>\n",
       "      <td>98027</td>\n",
       "      <td>47.5345</td>\n",
       "      <td>-122.069</td>\n",
       "      <td>1410</td>\n",
       "      <td>1287</td>\n",
       "    </tr>\n",
       "    <tr>\n",
       "      <th>21612</th>\n",
       "      <td>1523300157</td>\n",
       "      <td>20141015T000000</td>\n",
       "      <td>325000.0</td>\n",
       "      <td>2</td>\n",
       "      <td>0.75</td>\n",
       "      <td>1020</td>\n",
       "      <td>1076</td>\n",
       "      <td>2.0</td>\n",
       "      <td>0</td>\n",
       "      <td>0</td>\n",
       "      <td>...</td>\n",
       "      <td>7</td>\n",
       "      <td>1020</td>\n",
       "      <td>0</td>\n",
       "      <td>2008</td>\n",
       "      <td>0</td>\n",
       "      <td>98144</td>\n",
       "      <td>47.5941</td>\n",
       "      <td>-122.299</td>\n",
       "      <td>1020</td>\n",
       "      <td>1357</td>\n",
       "    </tr>\n",
       "  </tbody>\n",
       "</table>\n",
       "<p>21613 rows × 21 columns</p>\n",
       "</div>"
      ],
      "text/plain": [
       "               id             date     price  bedrooms  bathrooms  \\\n",
       "0      7129300520  20141013T000000  221900.0         3       1.00   \n",
       "1      6414100192  20141209T000000  538000.0         3       2.25   \n",
       "2      5631500400  20150225T000000  180000.0         2       1.00   \n",
       "3      2487200875  20141209T000000  604000.0         4       3.00   \n",
       "4      1954400510  20150218T000000  510000.0         3       2.00   \n",
       "...           ...              ...       ...       ...        ...   \n",
       "21608   263000018  20140521T000000  360000.0         3       2.50   \n",
       "21609  6600060120  20150223T000000  400000.0         4       2.50   \n",
       "21610  1523300141  20140623T000000  402101.0         2       0.75   \n",
       "21611   291310100  20150116T000000  400000.0         3       2.50   \n",
       "21612  1523300157  20141015T000000  325000.0         2       0.75   \n",
       "\n",
       "       sqft_living  sqft_lot  floors  waterfront  view  ...  grade  \\\n",
       "0             1180      5650     1.0           0     0  ...      7   \n",
       "1             2570      7242     2.0           0     0  ...      7   \n",
       "2              770     10000     1.0           0     0  ...      6   \n",
       "3             1960      5000     1.0           0     0  ...      7   \n",
       "4             1680      8080     1.0           0     0  ...      8   \n",
       "...            ...       ...     ...         ...   ...  ...    ...   \n",
       "21608         1530      1131     3.0           0     0  ...      8   \n",
       "21609         2310      5813     2.0           0     0  ...      8   \n",
       "21610         1020      1350     2.0           0     0  ...      7   \n",
       "21611         1600      2388     2.0           0     0  ...      8   \n",
       "21612         1020      1076     2.0           0     0  ...      7   \n",
       "\n",
       "       sqft_above  sqft_basement  yr_built  yr_renovated  zipcode      lat  \\\n",
       "0            1180              0      1955             0    98178  47.5112   \n",
       "1            2170            400      1951          1991    98125  47.7210   \n",
       "2             770              0      1933             0    98028  47.7379   \n",
       "3            1050            910      1965             0    98136  47.5208   \n",
       "4            1680              0      1987             0    98074  47.6168   \n",
       "...           ...            ...       ...           ...      ...      ...   \n",
       "21608        1530              0      2009             0    98103  47.6993   \n",
       "21609        2310              0      2014             0    98146  47.5107   \n",
       "21610        1020              0      2009             0    98144  47.5944   \n",
       "21611        1600              0      2004             0    98027  47.5345   \n",
       "21612        1020              0      2008             0    98144  47.5941   \n",
       "\n",
       "          long  sqft_living15  sqft_lot15  \n",
       "0     -122.257           1340        5650  \n",
       "1     -122.319           1690        7639  \n",
       "2     -122.233           2720        8062  \n",
       "3     -122.393           1360        5000  \n",
       "4     -122.045           1800        7503  \n",
       "...        ...            ...         ...  \n",
       "21608 -122.346           1530        1509  \n",
       "21609 -122.362           1830        7200  \n",
       "21610 -122.299           1020        2007  \n",
       "21611 -122.069           1410        1287  \n",
       "21612 -122.299           1020        1357  \n",
       "\n",
       "[21613 rows x 21 columns]"
      ]
     },
     "execution_count": 47,
     "metadata": {},
     "output_type": "execute_result"
    }
   ],
   "source": [
    "#cargamos el dataset a un dataframe\n",
    "df = pd.read_csv('kc_house_data.csv', delimiter=',')\n",
    "\n",
    "#mostramos el dataset\n",
    "df"
   ]
  },
  {
   "cell_type": "markdown",
   "metadata": {},
   "source": [
    "## Analisis del dataset\n",
    "Hacemos un analisis del dataset mostrando su informacion usando la funcion de `info()`:"
   ]
  },
  {
   "cell_type": "code",
   "execution_count": 48,
   "metadata": {},
   "outputs": [
    {
     "name": "stdout",
     "output_type": "stream",
     "text": [
      "<class 'pandas.core.frame.DataFrame'>\n",
      "RangeIndex: 21613 entries, 0 to 21612\n",
      "Data columns (total 21 columns):\n",
      " #   Column         Non-Null Count  Dtype  \n",
      "---  ------         --------------  -----  \n",
      " 0   id             21613 non-null  int64  \n",
      " 1   date           21613 non-null  object \n",
      " 2   price          21613 non-null  float64\n",
      " 3   bedrooms       21613 non-null  int64  \n",
      " 4   bathrooms      21613 non-null  float64\n",
      " 5   sqft_living    21613 non-null  int64  \n",
      " 6   sqft_lot       21613 non-null  int64  \n",
      " 7   floors         21613 non-null  float64\n",
      " 8   waterfront     21613 non-null  int64  \n",
      " 9   view           21613 non-null  int64  \n",
      " 10  condition      21613 non-null  int64  \n",
      " 11  grade          21613 non-null  int64  \n",
      " 12  sqft_above     21613 non-null  int64  \n",
      " 13  sqft_basement  21613 non-null  int64  \n",
      " 14  yr_built       21613 non-null  int64  \n",
      " 15  yr_renovated   21613 non-null  int64  \n",
      " 16  zipcode        21613 non-null  int64  \n",
      " 17  lat            21613 non-null  float64\n",
      " 18  long           21613 non-null  float64\n",
      " 19  sqft_living15  21613 non-null  int64  \n",
      " 20  sqft_lot15     21613 non-null  int64  \n",
      "dtypes: float64(5), int64(15), object(1)\n",
      "memory usage: 3.5+ MB\n"
     ]
    }
   ],
   "source": [
    "df.info()"
   ]
  },
  {
   "cell_type": "code",
   "execution_count": 49,
   "metadata": {},
   "outputs": [
    {
     "data": {
      "text/html": [
       "<div>\n",
       "<style scoped>\n",
       "    .dataframe tbody tr th:only-of-type {\n",
       "        vertical-align: middle;\n",
       "    }\n",
       "\n",
       "    .dataframe tbody tr th {\n",
       "        vertical-align: top;\n",
       "    }\n",
       "\n",
       "    .dataframe thead th {\n",
       "        text-align: right;\n",
       "    }\n",
       "</style>\n",
       "<table border=\"1\" class=\"dataframe\">\n",
       "  <thead>\n",
       "    <tr style=\"text-align: right;\">\n",
       "      <th></th>\n",
       "      <th>price</th>\n",
       "      <th>bedrooms</th>\n",
       "      <th>bathrooms</th>\n",
       "      <th>sqft_living</th>\n",
       "      <th>sqft_lot</th>\n",
       "      <th>floors</th>\n",
       "      <th>waterfront</th>\n",
       "      <th>view</th>\n",
       "      <th>condition</th>\n",
       "      <th>grade</th>\n",
       "      <th>sqft_above</th>\n",
       "      <th>sqft_basement</th>\n",
       "      <th>yr_built</th>\n",
       "      <th>yr_renovated</th>\n",
       "      <th>zipcode</th>\n",
       "      <th>lat</th>\n",
       "      <th>long</th>\n",
       "      <th>sqft_living15</th>\n",
       "      <th>sqft_lot15</th>\n",
       "    </tr>\n",
       "  </thead>\n",
       "  <tbody>\n",
       "    <tr>\n",
       "      <th>0</th>\n",
       "      <td>221900.0</td>\n",
       "      <td>3.0</td>\n",
       "      <td>1.00</td>\n",
       "      <td>1180.0</td>\n",
       "      <td>5650.0</td>\n",
       "      <td>1.0</td>\n",
       "      <td>0.0</td>\n",
       "      <td>0.0</td>\n",
       "      <td>3.0</td>\n",
       "      <td>7.0</td>\n",
       "      <td>1180.0</td>\n",
       "      <td>0.0</td>\n",
       "      <td>1955.0</td>\n",
       "      <td>0.0</td>\n",
       "      <td>98178.0</td>\n",
       "      <td>47.5112</td>\n",
       "      <td>-122.257</td>\n",
       "      <td>1340.0</td>\n",
       "      <td>5650.0</td>\n",
       "    </tr>\n",
       "    <tr>\n",
       "      <th>1</th>\n",
       "      <td>538000.0</td>\n",
       "      <td>3.0</td>\n",
       "      <td>2.25</td>\n",
       "      <td>2570.0</td>\n",
       "      <td>7242.0</td>\n",
       "      <td>2.0</td>\n",
       "      <td>0.0</td>\n",
       "      <td>0.0</td>\n",
       "      <td>3.0</td>\n",
       "      <td>7.0</td>\n",
       "      <td>2170.0</td>\n",
       "      <td>400.0</td>\n",
       "      <td>1951.0</td>\n",
       "      <td>1991.0</td>\n",
       "      <td>98125.0</td>\n",
       "      <td>47.7210</td>\n",
       "      <td>-122.319</td>\n",
       "      <td>1690.0</td>\n",
       "      <td>7639.0</td>\n",
       "    </tr>\n",
       "    <tr>\n",
       "      <th>2</th>\n",
       "      <td>180000.0</td>\n",
       "      <td>2.0</td>\n",
       "      <td>1.00</td>\n",
       "      <td>770.0</td>\n",
       "      <td>10000.0</td>\n",
       "      <td>1.0</td>\n",
       "      <td>0.0</td>\n",
       "      <td>0.0</td>\n",
       "      <td>3.0</td>\n",
       "      <td>6.0</td>\n",
       "      <td>770.0</td>\n",
       "      <td>0.0</td>\n",
       "      <td>1933.0</td>\n",
       "      <td>0.0</td>\n",
       "      <td>98028.0</td>\n",
       "      <td>47.7379</td>\n",
       "      <td>-122.233</td>\n",
       "      <td>2720.0</td>\n",
       "      <td>8062.0</td>\n",
       "    </tr>\n",
       "    <tr>\n",
       "      <th>3</th>\n",
       "      <td>604000.0</td>\n",
       "      <td>4.0</td>\n",
       "      <td>3.00</td>\n",
       "      <td>1960.0</td>\n",
       "      <td>5000.0</td>\n",
       "      <td>1.0</td>\n",
       "      <td>0.0</td>\n",
       "      <td>0.0</td>\n",
       "      <td>5.0</td>\n",
       "      <td>7.0</td>\n",
       "      <td>1050.0</td>\n",
       "      <td>910.0</td>\n",
       "      <td>1965.0</td>\n",
       "      <td>0.0</td>\n",
       "      <td>98136.0</td>\n",
       "      <td>47.5208</td>\n",
       "      <td>-122.393</td>\n",
       "      <td>1360.0</td>\n",
       "      <td>5000.0</td>\n",
       "    </tr>\n",
       "    <tr>\n",
       "      <th>4</th>\n",
       "      <td>510000.0</td>\n",
       "      <td>3.0</td>\n",
       "      <td>2.00</td>\n",
       "      <td>1680.0</td>\n",
       "      <td>8080.0</td>\n",
       "      <td>1.0</td>\n",
       "      <td>0.0</td>\n",
       "      <td>0.0</td>\n",
       "      <td>3.0</td>\n",
       "      <td>8.0</td>\n",
       "      <td>1680.0</td>\n",
       "      <td>0.0</td>\n",
       "      <td>1987.0</td>\n",
       "      <td>0.0</td>\n",
       "      <td>98074.0</td>\n",
       "      <td>47.6168</td>\n",
       "      <td>-122.045</td>\n",
       "      <td>1800.0</td>\n",
       "      <td>7503.0</td>\n",
       "    </tr>\n",
       "    <tr>\n",
       "      <th>...</th>\n",
       "      <td>...</td>\n",
       "      <td>...</td>\n",
       "      <td>...</td>\n",
       "      <td>...</td>\n",
       "      <td>...</td>\n",
       "      <td>...</td>\n",
       "      <td>...</td>\n",
       "      <td>...</td>\n",
       "      <td>...</td>\n",
       "      <td>...</td>\n",
       "      <td>...</td>\n",
       "      <td>...</td>\n",
       "      <td>...</td>\n",
       "      <td>...</td>\n",
       "      <td>...</td>\n",
       "      <td>...</td>\n",
       "      <td>...</td>\n",
       "      <td>...</td>\n",
       "      <td>...</td>\n",
       "    </tr>\n",
       "    <tr>\n",
       "      <th>21608</th>\n",
       "      <td>360000.0</td>\n",
       "      <td>3.0</td>\n",
       "      <td>2.50</td>\n",
       "      <td>1530.0</td>\n",
       "      <td>1131.0</td>\n",
       "      <td>3.0</td>\n",
       "      <td>0.0</td>\n",
       "      <td>0.0</td>\n",
       "      <td>3.0</td>\n",
       "      <td>8.0</td>\n",
       "      <td>1530.0</td>\n",
       "      <td>0.0</td>\n",
       "      <td>2009.0</td>\n",
       "      <td>0.0</td>\n",
       "      <td>98103.0</td>\n",
       "      <td>47.6993</td>\n",
       "      <td>-122.346</td>\n",
       "      <td>1530.0</td>\n",
       "      <td>1509.0</td>\n",
       "    </tr>\n",
       "    <tr>\n",
       "      <th>21609</th>\n",
       "      <td>400000.0</td>\n",
       "      <td>4.0</td>\n",
       "      <td>2.50</td>\n",
       "      <td>2310.0</td>\n",
       "      <td>5813.0</td>\n",
       "      <td>2.0</td>\n",
       "      <td>0.0</td>\n",
       "      <td>0.0</td>\n",
       "      <td>3.0</td>\n",
       "      <td>8.0</td>\n",
       "      <td>2310.0</td>\n",
       "      <td>0.0</td>\n",
       "      <td>2014.0</td>\n",
       "      <td>0.0</td>\n",
       "      <td>98146.0</td>\n",
       "      <td>47.5107</td>\n",
       "      <td>-122.362</td>\n",
       "      <td>1830.0</td>\n",
       "      <td>7200.0</td>\n",
       "    </tr>\n",
       "    <tr>\n",
       "      <th>21610</th>\n",
       "      <td>402101.0</td>\n",
       "      <td>2.0</td>\n",
       "      <td>0.75</td>\n",
       "      <td>1020.0</td>\n",
       "      <td>1350.0</td>\n",
       "      <td>2.0</td>\n",
       "      <td>0.0</td>\n",
       "      <td>0.0</td>\n",
       "      <td>3.0</td>\n",
       "      <td>7.0</td>\n",
       "      <td>1020.0</td>\n",
       "      <td>0.0</td>\n",
       "      <td>2009.0</td>\n",
       "      <td>0.0</td>\n",
       "      <td>98144.0</td>\n",
       "      <td>47.5944</td>\n",
       "      <td>-122.299</td>\n",
       "      <td>1020.0</td>\n",
       "      <td>2007.0</td>\n",
       "    </tr>\n",
       "    <tr>\n",
       "      <th>21611</th>\n",
       "      <td>400000.0</td>\n",
       "      <td>3.0</td>\n",
       "      <td>2.50</td>\n",
       "      <td>1600.0</td>\n",
       "      <td>2388.0</td>\n",
       "      <td>2.0</td>\n",
       "      <td>0.0</td>\n",
       "      <td>0.0</td>\n",
       "      <td>3.0</td>\n",
       "      <td>8.0</td>\n",
       "      <td>1600.0</td>\n",
       "      <td>0.0</td>\n",
       "      <td>2004.0</td>\n",
       "      <td>0.0</td>\n",
       "      <td>98027.0</td>\n",
       "      <td>47.5345</td>\n",
       "      <td>-122.069</td>\n",
       "      <td>1410.0</td>\n",
       "      <td>1287.0</td>\n",
       "    </tr>\n",
       "    <tr>\n",
       "      <th>21612</th>\n",
       "      <td>325000.0</td>\n",
       "      <td>2.0</td>\n",
       "      <td>0.75</td>\n",
       "      <td>1020.0</td>\n",
       "      <td>1076.0</td>\n",
       "      <td>2.0</td>\n",
       "      <td>0.0</td>\n",
       "      <td>0.0</td>\n",
       "      <td>3.0</td>\n",
       "      <td>7.0</td>\n",
       "      <td>1020.0</td>\n",
       "      <td>0.0</td>\n",
       "      <td>2008.0</td>\n",
       "      <td>0.0</td>\n",
       "      <td>98144.0</td>\n",
       "      <td>47.5941</td>\n",
       "      <td>-122.299</td>\n",
       "      <td>1020.0</td>\n",
       "      <td>1357.0</td>\n",
       "    </tr>\n",
       "  </tbody>\n",
       "</table>\n",
       "<p>21613 rows × 19 columns</p>\n",
       "</div>"
      ],
      "text/plain": [
       "          price  bedrooms  bathrooms  sqft_living  sqft_lot  floors  \\\n",
       "0      221900.0       3.0       1.00       1180.0    5650.0     1.0   \n",
       "1      538000.0       3.0       2.25       2570.0    7242.0     2.0   \n",
       "2      180000.0       2.0       1.00        770.0   10000.0     1.0   \n",
       "3      604000.0       4.0       3.00       1960.0    5000.0     1.0   \n",
       "4      510000.0       3.0       2.00       1680.0    8080.0     1.0   \n",
       "...         ...       ...        ...          ...       ...     ...   \n",
       "21608  360000.0       3.0       2.50       1530.0    1131.0     3.0   \n",
       "21609  400000.0       4.0       2.50       2310.0    5813.0     2.0   \n",
       "21610  402101.0       2.0       0.75       1020.0    1350.0     2.0   \n",
       "21611  400000.0       3.0       2.50       1600.0    2388.0     2.0   \n",
       "21612  325000.0       2.0       0.75       1020.0    1076.0     2.0   \n",
       "\n",
       "       waterfront  view  condition  grade  sqft_above  sqft_basement  \\\n",
       "0             0.0   0.0        3.0    7.0      1180.0            0.0   \n",
       "1             0.0   0.0        3.0    7.0      2170.0          400.0   \n",
       "2             0.0   0.0        3.0    6.0       770.0            0.0   \n",
       "3             0.0   0.0        5.0    7.0      1050.0          910.0   \n",
       "4             0.0   0.0        3.0    8.0      1680.0            0.0   \n",
       "...           ...   ...        ...    ...         ...            ...   \n",
       "21608         0.0   0.0        3.0    8.0      1530.0            0.0   \n",
       "21609         0.0   0.0        3.0    8.0      2310.0            0.0   \n",
       "21610         0.0   0.0        3.0    7.0      1020.0            0.0   \n",
       "21611         0.0   0.0        3.0    8.0      1600.0            0.0   \n",
       "21612         0.0   0.0        3.0    7.0      1020.0            0.0   \n",
       "\n",
       "       yr_built  yr_renovated  zipcode      lat     long  sqft_living15  \\\n",
       "0        1955.0           0.0  98178.0  47.5112 -122.257         1340.0   \n",
       "1        1951.0        1991.0  98125.0  47.7210 -122.319         1690.0   \n",
       "2        1933.0           0.0  98028.0  47.7379 -122.233         2720.0   \n",
       "3        1965.0           0.0  98136.0  47.5208 -122.393         1360.0   \n",
       "4        1987.0           0.0  98074.0  47.6168 -122.045         1800.0   \n",
       "...         ...           ...      ...      ...      ...            ...   \n",
       "21608    2009.0           0.0  98103.0  47.6993 -122.346         1530.0   \n",
       "21609    2014.0           0.0  98146.0  47.5107 -122.362         1830.0   \n",
       "21610    2009.0           0.0  98144.0  47.5944 -122.299         1020.0   \n",
       "21611    2004.0           0.0  98027.0  47.5345 -122.069         1410.0   \n",
       "21612    2008.0           0.0  98144.0  47.5941 -122.299         1020.0   \n",
       "\n",
       "       sqft_lot15  \n",
       "0          5650.0  \n",
       "1          7639.0  \n",
       "2          8062.0  \n",
       "3          5000.0  \n",
       "4          7503.0  \n",
       "...           ...  \n",
       "21608      1509.0  \n",
       "21609      7200.0  \n",
       "21610      2007.0  \n",
       "21611      1287.0  \n",
       "21612      1357.0  \n",
       "\n",
       "[21613 rows x 19 columns]"
      ]
     },
     "execution_count": 49,
     "metadata": {},
     "output_type": "execute_result"
    }
   ],
   "source": [
    "dataset = df.drop(['id', 'date'], axis=1).astype(float)\n",
    "dataset"
   ]
  },
  {
   "cell_type": "markdown",
   "metadata": {},
   "source": [
    "Se puede notar que nuestro dataset cuenta con 21 columnas, donde nuestra colummna `price` sera nuestra Y_predicha, el cual se busca calcular el precio de una casa dada 20 caracteristicas."
   ]
  },
  {
   "cell_type": "markdown",
   "metadata": {},
   "source": [
    "## Separacion del 80% de los datos para entrenamiento y 20% para pruebas\n",
    "\n",
    "Haremos uso de la libreria `sklearn` haciendo uso de su funcion `train_test_split()`, donde recibe como parametros:\n",
    "\n",
    "`Arrays o matrices de características (X): `Estos son los datos que se utilizarán para hacer predicciones. Por lo general, son las variables independientes o características del conjunto de datos.\n",
    "\n",
    "`test_size (opcional):` Este parámetro especifica el tamaño del conjunto de prueba. Puede ser un número decimal entre 0 y 1, que representa el porcentaje del conjunto de datos que se asignará al conjunto de prueba, o puede ser un entero que representa el número absoluto de muestras en el conjunto de prueba. Por ejemplo, si test_size=0.2, se asignará el 20% del conjunto de datos al conjunto de prueba.\n",
    "\n",
    "`train_size (opcional):` Este parámetro especifica el tamaño del conjunto de entrenamiento. Al igual que test_size, puede ser un número decimal entre 0 y 1 o un entero que representa el número absoluto de muestras en el conjunto de entrenamiento. Si no se proporciona, se calcula automáticamente como 1 - test_size.\n",
    "\n",
    "`random_state (opcional):` Este parámetro permite establecer una semilla para la generación de números pseudoaleatorios. Esto garantiza que la división de los datos sea reproducible. Si se establece en un número entero, el resultado será el mismo cada vez que se ejecute el código."
   ]
  },
  {
   "cell_type": "code",
   "execution_count": 50,
   "metadata": {},
   "outputs": [
    {
     "name": "stdout",
     "output_type": "stream",
     "text": [
      "  X[:,0] X[:, 1]   X[:, 2]   X[:, 3] X[:, 4] X[:, 5] X[:, 6] X[:, 7]X[:, 8]   X[:, 9]  X[:, 10]  X[:, 11]  X[:, 12]  X[:, 13]  X[:, 14]  X[:, 15]  X[:, 16]  X[:, 17]         Y\n",
      "------------------------------------------------------------------------------------------------------------------------------------------------------------------------------------\n",
      "       3       2      1780     13095       1       0       0       4       9      1780       0      1983         0     98042     47.37   -122.15      2750      13095        325000\n",
      "       2       1      1000      3700       1       0       0       3       6       800     200      1929         0     98118     47.55   -122.29      1270       5000        257000\n",
      "       3       1      1080      7486       2       0       0       3       6       990      90      1942         0     98146     47.48   -122.33      1170       7800        228500\n",
      "       3       2      2090      7500       1       0       0       4       7      1280     810      1977         0     98031     47.40   -122.17      1800       7350        288000\n",
      "       2       2      1741      1439       2       0       0       3       8      1446     295      2007         0     98034     47.70   -122.21      2090      10454        479000\n",
      "       3       2      2340     51836       2       0       0       3       8      1510     830      1978         0     98027     47.48   -122.03      2060      77536        459900\n",
      "       5       3      2040      7488       1       0       0       4       7      1200     840      1969         0     98034     47.73   -122.17      1530       7488        449500\n",
      "       5       2      3320     13138       1       0       2       4       9      1900    1420      1964         0     98028     47.76   -122.27      2820      13138        769000\n",
      "       3       2      1760      8400       1       0       0       4       8      1460     300      1960         0     98136     47.54   -122.39      1980       8400        680000\n",
      "       3       2      1610      5024       2       0       0       3       7      1610       0      2004         0     98038     47.38   -122.04      1790       3717        293500\n"
     ]
    }
   ],
   "source": [
    "#retiramos el id y la fecha del las columnas, quitamos el precio ya que ira a el vector Y, tambien quitamos los titulos, covierto a float\n",
    "dataset = df.drop(['id', 'date'], axis=1).astype(float)\n",
    "\n",
    "#separamos el 20% para test y el 80% para entrenamiento deld dataset\n",
    "train_dataset, test_dataset = train_test_split(dataset, test_size=0.2, random_state=42)\n",
    "\n",
    "# Seleccionamos las columnas para X y la columna 'price' para y\n",
    "X_test = test_dataset.drop(['price'], axis=1).values\n",
    "y_test = test_dataset['price'].values\n",
    "m_test = len(y_test)\n",
    "\n",
    "# Seleccionamos las columnas para X y la columna 'price' para y\n",
    "X_train = train_dataset.drop(['price'], axis=1).values\n",
    "y_train = train_dataset['price'].values\n",
    "m_train = len(y_test)\n",
    "# Ahora, X y y deberían contener datos numéricos del 80% del dataset\n",
    "\n",
    "# imprimir todos las X de datos solo 10\n",
    "print('{:>8s}{:>8s}{:>10s}{:>10s}{:>8s}{:>8s}{:>8s}{:>8s}{:>6s}{:>10s}{:>10s}{:>10s}{:>10s}{:>10s}{:>10s}{:>10s}{:>10s}{:>10s}{:>10s}'.format(\n",
    "    'X[:,0]', 'X[:, 1]', 'X[:, 2]', 'X[:, 3]', 'X[:, 4]', 'X[:, 5]', 'X[:, 6]', 'X[:, 7]', 'X[:, 8]', 'X[:, 9]', 'X[:, 10]', 'X[:, 11]',\n",
    "    'X[:, 12]', 'X[:, 13]', 'X[:, 14]', 'X[:, 15]', 'X[:, 16]', 'X[:, 17]', 'Y'\n",
    "))\n",
    "print('-' * 180)\n",
    "\n",
    "for i in range(10):\n",
    "    print('{:8.0f}{:8.0f}{:10.0f}{:10.0f}{:8.0f}{:8.0f}{:8.0f}{:8.0f}{:8.0f}{:10.0f}{:8.0f}{:10.0f}{:10.0f}{:10.0f}{:10.2f}{:10.2f}{:10.0f}{:11.0f}{:14.0f}'.format(\n",
    "        X_train[i, 0], \n",
    "        X_train[i, 1], \n",
    "        X_train[i, 2], \n",
    "        X_train[i, 3], \n",
    "        X_train[i, 4], \n",
    "        X_train[i, 5], \n",
    "        X_train[i, 6], \n",
    "        X_train[i, 7], \n",
    "        X_train[i, 8], \n",
    "        X_train[i, 9], \n",
    "        X_train[i, 10], \n",
    "        X_train[i, 11],\n",
    "        X_train[i, 12],\n",
    "        X_train[i, 13], \n",
    "        X_train[i, 14], \n",
    "        X_train[i, 15], \n",
    "        X_train[i, 16], \n",
    "        X_train[i, 17], \n",
    "        y_train[i]\n",
    "    ))\n"
   ]
  },
  {
   "cell_type": "code",
   "execution_count": 51,
   "metadata": {},
   "outputs": [
    {
     "name": "stdout",
     "output_type": "stream",
     "text": [
      " \n",
      "El 80% de ejemplos para entrenamiento son la cantidad de: 17290 de ejemplos\n",
      "El 20% de ejemplos para pruebas son la cantidad de: 4323 de ejemplos\n",
      "La cantidad total de ejemplos es de: 21613 de ejemplos\n"
     ]
    }
   ],
   "source": [
    "#mostramos la cantidad de ejemplos\n",
    "print(\" \")\n",
    "print('El 80% de ejemplos para entrenamiento son la cantidad de: {:.0f} de ejemplos'.format( len(train_dataset)))\n",
    "print('El 20% de ejemplos para pruebas son la cantidad de: {:.0f} de ejemplos'.format( len(test_dataset)))\n",
    "print('La cantidad total de ejemplos es de: {:.0f} de ejemplos'.format( len(dataset)))"
   ]
  },
  {
   "cell_type": "markdown",
   "metadata": {},
   "source": [
    "## Funcion para la Normalización de caracteristicas\n",
    "\n",
    "Al visualizar los datos se puede observar que las caracteristicas tienen diferentes magnitudes, por lo cual se debe transformar cada valor en una escala de valores similares, esto con el fin de que el descenso por el gradiente pueda converger mas rapidamente. En este caso\n",
    "\n",
    "Hacemos el uso de la siguiente funcion para normalizar los datos:"
   ]
  },
  {
   "cell_type": "code",
   "execution_count": 52,
   "metadata": {},
   "outputs": [],
   "source": [
    "def  featureNormalize(X):\n",
    "    X_norm = X.copy()\n",
    "\n",
    "    #creamos un array de ceros con una longitud igual al número de columnas en el array X. La variable mu y sigma se inicializa como este array de ceros.\n",
    "    mu = np.zeros(X.shape[1])\n",
    "    sigma = np.zeros(X.shape[1])\n",
    "\n",
    "    #Creamos el promedio de cada filaa de X\n",
    "    #media de cada columna\n",
    "    mu = np.mean(X, axis = 0)\n",
    "    \n",
    "    #desviacion estandar de cada fila de X\n",
    "    sigma = np.std(X, axis = 0)\n",
    "    \n",
    "    sigma[sigma == 0] = 1\n",
    "    \n",
    "    #normalizamos los datos con la siguiente formula\n",
    "    X_norm = (X - mu) / sigma\n",
    "\n",
    "    return X_norm, mu, sigma"
   ]
  },
  {
   "cell_type": "markdown",
   "metadata": {},
   "source": [
    "## Funcion para graficar"
   ]
  },
  {
   "cell_type": "code",
   "execution_count": 53,
   "metadata": {},
   "outputs": [],
   "source": [
    "# Creamos una funcion que nos ayude con las graficas de cada dato respecto a la Y predicha\n",
    "def graficarDatos(x, y, xlabel, ylabel):\n",
    "    fig = pyplot.figure()\n",
    "    pyplot.plot(x, y, 'ro', ms=10, mec='k')\n",
    "\n",
    "    pyplot.xlabel(xlabel)\n",
    "    pyplot.ylabel(ylabel)"
   ]
  },
  {
   "cell_type": "markdown",
   "metadata": {},
   "source": [
    "## Creacion de la funcion del error cuadratico medio"
   ]
  },
  {
   "cell_type": "code",
   "execution_count": 54,
   "metadata": {},
   "outputs": [],
   "source": [
    "#Creamos la funcion:\n",
    "def mean_squared_error(y_pred, y_actual):\n",
    "    resta = y_pred - y_actual\n",
    "    err_cuadrado = np.sum(resta ** 2)\n",
    "    return err_cuadrado / len(y_pred)"
   ]
  },
  {
   "cell_type": "markdown",
   "metadata": {},
   "source": [
    "## Funcion de calculo de costo con regularizacion"
   ]
  },
  {
   "cell_type": "code",
   "execution_count": 55,
   "metadata": {},
   "outputs": [],
   "source": [
    "#aumentamos el parametro de lambda para aplicar regularizacion\n",
    "#Creamos la funcion de calcular costo\n",
    "def calcularCostoCR(X, y, theta, lambda_):\n",
    "    m = y.size\n",
    "    J = 0\n",
    "    \n",
    "    #creamos una varable temporal para theta, donde decimos que el primer valor de temp es 0, esto para respetar la formula donde j = 1\n",
    "    temp = theta.copy()\n",
    "    temp[0] = 0  # Excluimos theta_0 de la regularización\n",
    "    h = np.dot(X, theta)\n",
    "    J = (1 / (2 * m)) * np.sum(np.square(h - y)) + (lambda_ / (2 * m)) * np.sum(np.square(temp))\n",
    "    return J"
   ]
  },
  {
   "cell_type": "markdown",
   "metadata": {},
   "source": [
    "### Funcion de descenso por el gradiente con regularizacion"
   ]
  },
  {
   "cell_type": "code",
   "execution_count": 56,
   "metadata": {},
   "outputs": [],
   "source": [
    "#Creamos la funcion para calcular el descenso por Gradiente\n",
    "def calcularDescensoGradienteCR(X, y, theta, alpha,lambda_, numero_iteraciones):\n",
    "    m = y.shape[0]\n",
    "    theta = theta.copy()\n",
    "    J_historico = []\n",
    "\n",
    "    for i in range(numero_iteraciones):\n",
    "        \n",
    "        theta[0] = theta[0] - ((alpha/m) *( np.dot(X, theta) - y).dot(X[:, 0]))\n",
    "        theta[1:] = theta[1:]*(1-((alpha*lambda_)/m)) - (alpha / m) * (np.dot(X, theta) - y).dot(X[:, 1:])\n",
    "\n",
    "        # theta = theta*(1-((alpha*lambda_)/m)) - (alpha / m) * (np.dot(X, theta) - y).dot(X)\n",
    "        \n",
    "        # se hace uso de la funcion de costo para calcular el costo en cada iteracion, sin olvidar del parametro lambda_\n",
    "        J_historico.append(calcularCostoCR(X, y, theta, lambda_))\n",
    "\n",
    "    return theta, J_historico"
   ]
  },
  {
   "cell_type": "markdown",
   "metadata": {},
   "source": [
    "## Funcion de calculo de costo sin regularizacion"
   ]
  },
  {
   "cell_type": "code",
   "execution_count": 57,
   "metadata": {},
   "outputs": [],
   "source": [
    "def calcularCostoSR(X, y, theta):\n",
    "    m = y.size\n",
    "    J = 0\n",
    "    #h = np.dot(X, theta)\n",
    "    # print(h)\n",
    "    J = (1/(2 * m)) * np.sum(np.square(np.dot(X, theta) - y))\n",
    "    return J"
   ]
  },
  {
   "cell_type": "markdown",
   "metadata": {},
   "source": [
    "### Funcion de descenso por el gradiente sin regularizacion"
   ]
  },
  {
   "cell_type": "code",
   "execution_count": 58,
   "metadata": {},
   "outputs": [],
   "source": [
    "#Creamos la funcion para calcular el descenso por Gradiente\n",
    "def calcularDescensoGradienteSR(X, y, theta, alpha, numero_iteraciones):\n",
    "    m = y.shape[0]\n",
    "    theta = theta.copy()\n",
    "    J_historico = []\n",
    "\n",
    "    for i in range(numero_iteraciones):\n",
    "        \n",
    "        theta = theta - (alpha / m) * (np.dot(X, theta) - y).dot(X)\n",
    "        # se hace uso de la funcion de costo para calcular el costo en cada iteracion\n",
    "        J_historico.append(calcularCostoSR(X, y, theta))\n",
    "\n",
    "    return theta, J_historico"
   ]
  },
  {
   "cell_type": "markdown",
   "metadata": {},
   "source": [
    "## Funcion del calculo de la ecuacion de la normal con regularizacion"
   ]
  },
  {
   "cell_type": "code",
   "execution_count": 59,
   "metadata": {},
   "outputs": [],
   "source": [
    "def calcularThethaEcuacionNormalCR(X, y, lambda_):\n",
    "    m,n = X.shape\n",
    "    \n",
    "    # Creamos la matriz L\n",
    "    L = np.eye(n)  # Matriz identidad de tamaño (n+1) x (n+1)\n",
    "    L[0, 0] = 0  # Establecemos el primer elemento de la matriz L en 0\n",
    "    \n",
    "    theta = np.zeros(X.shape[1])\n",
    "\n",
    "    theta = np.dot(np.dot(np.linalg.inv(np.dot(np.transpose(X),X) + (lambda_*L)), np.transpose(X)),y)\n",
    "\n",
    "    return theta"
   ]
  },
  {
   "cell_type": "markdown",
   "metadata": {},
   "source": [
    "## Funcion del calculo de la ecuacion de la normal sin regularizacion"
   ]
  },
  {
   "cell_type": "code",
   "execution_count": 60,
   "metadata": {},
   "outputs": [],
   "source": [
    "def calcularThethaEcuacionNormalSR(X, y):\n",
    "    theta = np.zeros(X.shape[1])\n",
    "\n",
    "    theta = np.dot(np.dot(np.linalg.inv(np.dot(np.transpose(X),X)),np.transpose(X)),y)\n",
    "\n",
    "    return theta"
   ]
  },
  {
   "cell_type": "markdown",
   "metadata": {},
   "source": [
    "## 1. Usando Regularizacion\n",
    "\n",
    "La regularización es una técnica utilizada en el aprendizaje automático para prevenir el **sobreajuste (overfitting)** de un modelo a los datos de entrenamiento.\n",
    "\n",
    "El sobreajuste ocurre cuando un modelo se ajusta demasiado bien a los datos de entrenamiento y captura el ruido o las fluctuaciones aleatorias en los datos en lugar de aprender la verdadera relación subyacente entre las características y la variable objetivo. Esto puede resultar en un rendimiento deficiente del modelo cuando se enfrenta a nuevos datos que no formaban parte del conjunto de entrenamiento."
   ]
  },
  {
   "cell_type": "markdown",
   "metadata": {},
   "source": [
    "### 1.1 regresion lineal multivariable"
   ]
  },
  {
   "cell_type": "markdown",
   "metadata": {},
   "source": [
    "Carga de los datos para la regresion lineal multivariable:"
   ]
  },
  {
   "cell_type": "code",
   "execution_count": 61,
   "metadata": {},
   "outputs": [],
   "source": [
    "#hacemos una copia de y_train y y_test para usarlo en la regresion lineal multivariable\n",
    "\n",
    "#estos datos seran usados para el entrenamiento\n",
    "X_testRLM = X_test.copy()\n",
    "y_testRLM = y_test.copy()\n",
    "m_test_RLM = len(y_testRLM)\n",
    "\n",
    "#estos datos seran usados para el test\n",
    "X_trainRLM = X_train.copy()\n",
    "y_trainRLM = y_train.copy()\n",
    "m_train_RLM = len(y_trainRLM)"
   ]
  },
  {
   "cell_type": "markdown",
   "metadata": {},
   "source": [
    "#### 1.1.1 Normalizacion de las caracteristicas\n",
    "\n",
    "Se hace uso de la funcion de `featureNormalize(X) ` donde se recibe un parametro de tipo matriz para normalizar cada dato dentro de ella, retornandome la **matriz normalizda**, **sigma(desviacion estandar)**, y mi **mu(media)**."
   ]
  },
  {
   "cell_type": "code",
   "execution_count": 62,
   "metadata": {},
   "outputs": [
    {
     "name": "stdout",
     "output_type": "stream",
     "text": [
      "    X[:,0]   X[:, 1]   X[:, 2]   X[:, 3]   X[:, 4]   X[:, 5]   X[:, 6]   X[:, 7]   X[:, 8]   X[:, 9]  X[:, 10]  X[:, 11]  X[:, 12]  X[:, 13]  X[:, 14]  X[:, 15]  X[:, 16]  X[:, 17]\n",
      "------------------------------------------------------------------------------------------------------------------------------------------------------------------------------------\n",
      "    -0.395    -0.474    -0.324    -0.044    -0.920    -0.085    -0.306     0.909     1.150    -0.007    -0.656     0.404    -0.208    -0.675    -1.397     0.442     1.126     0.013\n",
      "    -1.469    -1.453    -1.184    -0.286    -0.920    -0.085    -0.306    -0.625    -1.413    -1.200    -0.200    -1.431    -0.208     0.751    -0.060    -0.540    -1.047    -0.281\n",
      "    -0.395    -1.453    -1.095    -0.188     0.002    -0.085    -0.306    -0.625    -1.413    -0.969    -0.451    -0.989    -0.208     1.276    -0.553    -0.860    -1.193    -0.179\n",
      "    -0.395     0.178     0.018    -0.188    -0.920    -0.085    -0.306     0.909    -0.559    -0.616     1.190     0.200    -0.208    -0.881    -1.194     0.300    -0.268    -0.195\n",
      "    -1.469     0.504    -0.367    -0.344     0.923    -0.085    -0.306    -0.625     0.296    -0.414     0.016     1.219    -0.208    -0.825     1.040     0.037     0.157    -0.083\n",
      "    -0.395    -0.474     0.293     0.954     0.002    -0.085    -0.306    -0.625     0.296    -0.336     1.236     0.234    -0.208    -0.956    -0.547     1.275     0.113     2.355\n",
      "     1.752     0.830    -0.037    -0.188    -0.920    -0.085    -0.306     0.909    -0.559    -0.713     1.258    -0.072    -0.208    -0.825     1.218     0.300    -0.665    -0.190\n",
      "     1.752     0.178     1.373    -0.043    -0.920    -0.085     2.320     0.909     1.150     0.139     2.580    -0.241    -0.208    -0.937     1.435    -0.390     1.229     0.015\n",
      "    -0.395    -0.474    -0.346    -0.165    -0.920    -0.085    -0.306     0.909     0.296    -0.397     0.028    -0.377    -0.208     1.088    -0.179    -1.252    -0.004    -0.157\n",
      "    -0.395     0.504    -0.511    -0.252     0.923    -0.085    -0.306    -0.625    -0.559    -0.214    -0.656     1.117    -0.208    -0.750    -1.279     1.218    -0.283    -0.327\n"
     ]
    }
   ],
   "source": [
    "#introductimos los datos a la funcion de normalizacion\n",
    "X_norm_RLM, mu_RLM, sigma_RLM = featureNormalize(X_trainRLM)\n",
    "\n",
    "# imprimimos algunos valores de X_norm\n",
    "print('{:>10s}{:>10s}{:>10s}{:>10s}{:>10s}{:>10s}{:>10s}{:>10s}{:>10s}{:>10s}{:>10s}{:>10s}{:>10s}{:>10s}{:>10s}{:>10s}{:>10s}{:>10s}'.format(\n",
    "    'X[:,0]', 'X[:, 1]', 'X[:, 2]', 'X[:, 3]', 'X[:, 4]', 'X[:, 5]', 'X[:, 6]', 'X[:, 7]', 'X[:, 8]', 'X[:, 9]', 'X[:, 10]', 'X[:, 11]',\n",
    "    'X[:, 12]', 'X[:, 13]', 'X[:, 14]', 'X[:, 15]', 'X[:, 16]', 'X[:, 17]'\n",
    "))\n",
    "print('-' * 180)\n",
    "\n",
    "for i in range(10):\n",
    "    print('{:10.3f}{:10.3f}{:10.3f}{:10.3f}{:10.3f}{:10.3f}{:10.3f}{:10.3f}{:10.3f}{:10.3f}{:10.3f}{:10.3f}{:10.3f}{:10.3f}{:10.3f}{:10.3f}{:10.3f}{:10.3f}'.format(\n",
    "        X_norm_RLM[i, 0], \n",
    "        X_norm_RLM[i, 1], \n",
    "        X_norm_RLM[i, 2], \n",
    "        X_norm_RLM[i, 3], \n",
    "        X_norm_RLM[i, 4], \n",
    "        X_norm_RLM[i, 5], \n",
    "        X_norm_RLM[i, 6], \n",
    "        X_norm_RLM[i, 7], \n",
    "        X_norm_RLM[i, 8], \n",
    "        X_norm_RLM[i, 9], \n",
    "        X_norm_RLM[i, 10], \n",
    "        X_norm_RLM[i, 11],\n",
    "        X_norm_RLM[i, 12],\n",
    "        X_norm_RLM[i, 13], \n",
    "        X_norm_RLM[i, 14], \n",
    "        X_norm_RLM[i, 15], \n",
    "        X_norm_RLM[i, 16], \n",
    "        X_norm_RLM[i, 17],))\n",
    "\n"
   ]
  },
  {
   "cell_type": "markdown",
   "metadata": {},
   "source": [
    "#### 1.1.2 Agregamos la columna de unos a nuestra matriz"
   ]
  },
  {
   "cell_type": "code",
   "execution_count": 63,
   "metadata": {},
   "outputs": [
    {
     "name": "stdout",
     "output_type": "stream",
     "text": [
      "    X[:,0]   X[:, 1]   X[:, 2]   X[:, 3]   X[:, 4]   X[:, 5]   X[:, 6]   X[:, 7]   X[:, 8]   X[:, 9]  X[:, 10]  X[:, 11]  X[:, 12]  X[:, 13]  X[:, 14]  X[:, 15]  X[:, 16]  X[:, 17]  X[:, 18]\n",
      "------------------------------------------------------------------------------------------------------------------------------------------------------------------------------------\n",
      "     1.000    -0.395    -0.474    -0.324    -0.044    -0.920    -0.085    -0.306     0.909     1.150    -0.007    -0.656     0.404    -0.208    -0.675    -1.397     0.442     1.126     0.013\n",
      "     1.000    -1.469    -1.453    -1.184    -0.286    -0.920    -0.085    -0.306    -0.625    -1.413    -1.200    -0.200    -1.431    -0.208     0.751    -0.060    -0.540    -1.047    -0.281\n",
      "     1.000    -0.395    -1.453    -1.095    -0.188     0.002    -0.085    -0.306    -0.625    -1.413    -0.969    -0.451    -0.989    -0.208     1.276    -0.553    -0.860    -1.193    -0.179\n",
      "     1.000    -0.395     0.178     0.018    -0.188    -0.920    -0.085    -0.306     0.909    -0.559    -0.616     1.190     0.200    -0.208    -0.881    -1.194     0.300    -0.268    -0.195\n",
      "     1.000    -1.469     0.504    -0.367    -0.344     0.923    -0.085    -0.306    -0.625     0.296    -0.414     0.016     1.219    -0.208    -0.825     1.040     0.037     0.157    -0.083\n",
      "     1.000    -0.395    -0.474     0.293     0.954     0.002    -0.085    -0.306    -0.625     0.296    -0.336     1.236     0.234    -0.208    -0.956    -0.547     1.275     0.113     2.355\n",
      "     1.000     1.752     0.830    -0.037    -0.188    -0.920    -0.085    -0.306     0.909    -0.559    -0.713     1.258    -0.072    -0.208    -0.825     1.218     0.300    -0.665    -0.190\n",
      "     1.000     1.752     0.178     1.373    -0.043    -0.920    -0.085     2.320     0.909     1.150     0.139     2.580    -0.241    -0.208    -0.937     1.435    -0.390     1.229     0.015\n",
      "     1.000    -0.395    -0.474    -0.346    -0.165    -0.920    -0.085    -0.306     0.909     0.296    -0.397     0.028    -0.377    -0.208     1.088    -0.179    -1.252    -0.004    -0.157\n",
      "     1.000    -0.395     0.504    -0.511    -0.252     0.923    -0.085    -0.306    -0.625    -0.559    -0.214    -0.656     1.117    -0.208    -0.750    -1.279     1.218    -0.283    -0.327\n"
     ]
    }
   ],
   "source": [
    "X_ready_RLM = np.concatenate([np.ones((m_train_RLM, 1)), X_norm_RLM], axis=1)\n",
    "\n",
    "# imprimimos algunos valores de X_norm\n",
    "print('{:>10s}{:>10s}{:>10s}{:>10s}{:>10s}{:>10s}{:>10s}{:>10s}{:>10s}{:>10s}{:>10s}{:>10s}{:>10s}{:>10s}{:>10s}{:>10s}{:>10s}{:>10s}{:>10s}'.format(\n",
    "    'X[:,0]', 'X[:, 1]', 'X[:, 2]', 'X[:, 3]', 'X[:, 4]', 'X[:, 5]', 'X[:, 6]', 'X[:, 7]', 'X[:, 8]', 'X[:, 9]', 'X[:, 10]', 'X[:, 11]',\n",
    "    'X[:, 12]', 'X[:, 13]', 'X[:, 14]', 'X[:, 15]', 'X[:, 16]', 'X[:, 17]', 'X[:, 18]'\n",
    "))\n",
    "print('-' * 180)\n",
    "\n",
    "for i in range(10):\n",
    "    print('{:10.3f}{:10.3f}{:10.3f}{:10.3f}{:10.3f}{:10.3f}{:10.3f}{:10.3f}{:10.3f}{:10.3f}{:10.3f}{:10.3f}{:10.3f}{:10.3f}{:10.3f}{:10.3f}{:10.3f}{:10.3f}{:10.3f}'.format(\n",
    "        X_ready_RLM[i, 0], \n",
    "        X_ready_RLM[i, 1], \n",
    "        X_ready_RLM[i, 2], \n",
    "        X_ready_RLM[i, 3], \n",
    "        X_ready_RLM[i, 4], \n",
    "        X_ready_RLM[i, 5], \n",
    "        X_ready_RLM[i, 6], \n",
    "        X_ready_RLM[i, 7], \n",
    "        X_ready_RLM[i, 8], \n",
    "        X_ready_RLM[i, 9], \n",
    "        X_ready_RLM[i, 10], \n",
    "        X_ready_RLM[i, 11],\n",
    "        X_ready_RLM[i, 12],\n",
    "        X_ready_RLM[i, 13], \n",
    "        X_ready_RLM[i, 14], \n",
    "        X_ready_RLM[i, 15], \n",
    "        X_ready_RLM[i, 16], \n",
    "        X_ready_RLM[i, 17],\n",
    "        X_ready_RLM[i, 18]))"
   ]
  },
  {
   "cell_type": "markdown",
   "metadata": {},
   "source": [
    "#### 1.1.3 Descenso por el gradiente\n",
    "\n",
    "El descenso por el gradiente con la función de costo es un algoritmo fundamental en el aprendizaje automático supervisado, especialmente en problemas de optimización de modelos. Su propósito principal es minimizar la función de costo (o pérdida) de un modelo mediante ajustes iterativos de los parámetros del modelo."
   ]
  },
  {
   "cell_type": "markdown",
   "metadata": {},
   "source": [
    "##### 1.1.3.1 Cálculo del costo $J(\\theta)$"
   ]
  },
  {
   "cell_type": "markdown",
   "metadata": {},
   "source": [
    "hacemos uso de la funcion `def calcularCosto(X, y, theta, lambda_)`;"
   ]
  },
  {
   "cell_type": "markdown",
   "metadata": {},
   "source": [
    "Ejemplo de funcionamiento de la funcion computeCoste con dos valores diferentes de $\\theta$."
   ]
  },
  {
   "cell_type": "code",
   "execution_count": 64,
   "metadata": {},
   "outputs": [
    {
     "name": "stdout",
     "output_type": "stream",
     "text": [
      "19\n",
      "########################################################################################################\n",
      "con theta:[0.2 3.  0.2 0.1 3.  0.2 1.1 2.  0.7 0.8 5.8 0.9 0.7 2.  0.5 0.8 1.  0.2\n",
      " 0.3] se obtiene un costo de: 209918722471.0707\n",
      "########################################################################################################\n",
      "con theta:[0.1  2.   0.5  0.2  8.   0.7  1.3  8.   1.7  0.7  7.1  0.6  0.6  1.\n",
      " 0.3  0.9  2.   0.12 0.7 ] se obtiene un costo de: 209917518348.3954\n"
     ]
    }
   ],
   "source": [
    "theta_RLM=np.array([0.2, 3.0, 0.2,0.1, 3.0, 0.2,1.1, 2.0, 0.7,0.8, 5.8, 0.9,0.7, 2.0, 0.5,0.8, 1.0, 0.2,0.3])\n",
    "theta_RLM1=np.array([0.1, 2.0, 0.5,0.2, 8.0, 0.7,1.3, 8.0, 1.7,0.7, 7.1, 0.6,0.6, 1.0, 0.3,0.9, 2.0, 0.12,0.7])\n",
    "\n",
    "lambda_ = 1000\n",
    "print(theta_RLM.shape[0])\n",
    "print(f\"########################################################################################################\")\n",
    "print(f\"con theta:{ theta_RLM } se obtiene un costo de: {calcularCostoCR(X_ready_RLM, y_trainRLM, theta_RLM, lambda_)}\")\n",
    "print(f\"########################################################################################################\")\n",
    "print(f\"con theta:{ theta_RLM1 } se obtiene un costo de: {calcularCostoCR(X_ready_RLM, y_trainRLM, theta_RLM1, lambda_)}\")"
   ]
  },
  {
   "cell_type": "markdown",
   "metadata": {},
   "source": [
    "##### 1.1.3.2Descenso por el gradiente\n",
    "\n",
    "Hacemos uso de la funcion para hacer el calculo del descenso por el gradiente y asi encontrar nuestras **Thetas**, se hizo la modificacion para que la funcion ahora reciba el parametro de ``lamda_``"
   ]
  },
  {
   "cell_type": "markdown",
   "metadata": {},
   "source": [
    "Se inicializan los parametros $\\theta$ con 0 y la taza de aprendizaje $\\alpha$ con 0.00009."
   ]
  },
  {
   "cell_type": "code",
   "execution_count": 111,
   "metadata": {},
   "outputs": [
    {
     "name": "stdout",
     "output_type": "stream",
     "text": [
      "########################################################################################################\n",
      "Los valores de theta calculados son:\n",
      "theta 1: 537767.3151570671\n",
      "theta 2: -26006.483323707715\n",
      "theta 3: 32435.214060366427\n",
      "theta 4: 75892.95542475116\n",
      "theta 5: 3549.622897456415\n",
      "theta 6: 5399.731103951505\n",
      "theta 7: 45605.33855185711\n",
      "theta 8: 40771.94489080824\n",
      "theta 9: 17340.438943302812\n",
      "theta 10: 99816.75322960115\n",
      "theta 11: 69688.86479463907\n",
      "theta 12: 26438.57702070923\n",
      "theta 13: -68489.00224620069\n",
      "theta 14: 10429.30557586353\n",
      "theta 15: -23728.174747204775\n",
      "theta 16: 79127.30848129092\n",
      "theta 17: -26437.998206975255\n",
      "theta 18: 24080.050090089757\n",
      "theta 19: -7711.6762394290645\n",
      "########################################################################################################\n",
      "con un costo de: 20901521586.956726 \n",
      "la cantidad de theta son:  19\n"
     ]
    }
   ],
   "source": [
    "#creamos un theta con 19 columnas de ceros\n",
    "theta = np.zeros(len(X_ready_RLM[0]))\n",
    "\n",
    "#numero de iteraciones sera 1000000 y un alpha 0.00009\n",
    "num_ite_RLM = 15000\n",
    "alpha_RLM = 0.0009\n",
    "lambda_RLM = 1000\n",
    "\n",
    "theta_RLM, J_historico_RLM = calcularDescensoGradienteCR(X_ready_RLM, y_trainRLM, theta , alpha_RLM,lambda_RLM, num_ite_RLM)\n",
    "print(\"########################################################################################################\")\n",
    "print(\"Los valores de theta calculados son:\")\n",
    "i = 0\n",
    "for tht_RLM in theta_RLM:\n",
    "    i += 1\n",
    "    print(f\"theta {i}: {tht_RLM}\")\n",
    "\n",
    "print(f\"########################################################################################################\")\n",
    "#mostramos el ultimo costo, este seria el mejor costo\n",
    "print(f\"con un costo de: { J_historico_RLM[-1]} \")\n",
    "\n",
    "print(\"la cantidad de theta son: \", theta_RLM.shape[0])"
   ]
  },
  {
   "cell_type": "markdown",
   "metadata": {},
   "source": [
    "#### 1.1.4 Grafica de la convergencia del costo\n",
    "graficamos el costo"
   ]
  },
  {
   "cell_type": "code",
   "execution_count": 66,
   "metadata": {},
   "outputs": [
    {
     "data": {
      "text/plain": [
       "Text(0, 0.5, 'Costo J')"
      ]
     },
     "execution_count": 66,
     "metadata": {},
     "output_type": "execute_result"
    },
    {
     "data": {
      "image/png": "[encoded data removed]",
      "text/plain": [
       "<Figure size 640x480 with 1 Axes>"
      ]
     },
     "metadata": {},
     "output_type": "display_data"
    }
   ],
   "source": [
    "pyplot.plot(np.arange(len(J_historico_RLM)), J_historico_RLM, lw=2)\n",
    "pyplot.title(\"Grafica de la convergencia del costo\")\n",
    "pyplot.xlabel('Numero de iteraciones')\n",
    "pyplot.ylabel('Costo J')"
   ]
  },
  {
   "cell_type": "markdown",
   "metadata": {},
   "source": [
    "##### 1.1.4.1 Grafica de la regresion lineal\n",
    "\n",
    "En esta parte se trazan los datos de entrenamiento y una línea que representa la regresión lineal ajustada a esos datos."
   ]
  },
  {
   "cell_type": "code",
   "execution_count": 67,
   "metadata": {},
   "outputs": [
    {
     "data": {
      "text/plain": [
       "<matplotlib.legend.Legend at 0x15aa02e3ef0>"
      ]
     },
     "execution_count": 67,
     "metadata": {},
     "output_type": "execute_result"
    },
    {
     "data": {
      "image/png": "[encoded data removed]",
      "text/plain": [
       "<Figure size 640x480 with 1 Axes>"
      ]
     },
     "metadata": {},
     "output_type": "display_data"
    }
   ],
   "source": [
    "graficarDatos(X_norm_RLM[:, 1],  X_norm_RLM[:, 2] , \"X_norm_1\", \"X_norm_2\")\n",
    "\n",
    "pyplot.plot(X_norm_RLM[:,1], np.dot(X_ready_RLM, theta_RLM), '-')\n",
    "\n",
    "pyplot.legend(['Datos de entrenamiento', 'regresion lineal'])"
   ]
  },
  {
   "cell_type": "markdown",
   "metadata": {},
   "source": [
    "haciendo una pequeña prueba:"
   ]
  },
  {
   "cell_type": "code",
   "execution_count": 68,
   "metadata": {},
   "outputs": [
    {
     "name": "stdout",
     "output_type": "stream",
     "text": [
      "La prediccion de la casa es de: [218875.95888595]\n"
     ]
    }
   ],
   "source": [
    "X_arrayRLM = np.array([1,3,1,1180,5650,1,0,0,3,7,1180,0,1955,0,98178,47.5112,-122.257,1340,5650])\n",
    "X_arrayRLM = X_arrayRLM.reshape(1, -1)\n",
    "\n",
    "X_arrayRLM[:, 1:] = (X_arrayRLM[:, 1:] - mu_RLM) / sigma_RLM\n",
    "\n",
    "prediccion_RLM = np.dot(X_arrayRLM, theta_RLM)\n",
    "\n",
    "print (f\"La prediccion de la casa es de: {prediccion_RLM}\")"
   ]
  },
  {
   "cell_type": "markdown",
   "metadata": {},
   "source": [
    "#### 1.1.5 Ejemplos de Predicciones"
   ]
  },
  {
   "cell_type": "markdown",
   "metadata": {},
   "source": [
    "Se creo una matriz con 11 ejemplos, donde se hace las predicciones correspondientes:"
   ]
  },
  {
   "cell_type": "code",
   "execution_count": 69,
   "metadata": {},
   "outputs": [
    {
     "name": "stdout",
     "output_type": "stream",
     "text": [
      "20\n",
      "19\n",
      "+----+------------+-------------+---------------+------------+----------+--------------+--------+-------------+---------+--------------+-----------------+------------+----------------+-----------+---------+----------+-----------------+--------------+----------+\n",
      "|    |   bedrooms |   bathrooms |   sqft_living |   sqft_lot |   floors |   waterfront |   view |   condition |   grade |   sqft_above |   sqft_basement |   yr_built |   yr_renovated |   zipcode |     lat |     long |   sqft_living15 |   sqft_lot15 |    Price |\n",
      "+====+============+=============+===============+============+==========+==============+========+=============+=========+==============+=================+============+================+===========+=========+==========+=================+==============+==========+\n",
      "|  1 |          3 |        1    |          1180 |       5650 |      1   |            0 |      0 |           3 |       7 |         1180 |               0 |       1955 |              0 |     98178 | 47.5112 | -122.257 |            1340 |         5650 | 218876   |\n",
      "+----+------------+-------------+---------------+------------+----------+--------------+--------+-------------+---------+--------------+-----------------+------------+----------------+-----------+---------+----------+-----------------+--------------+----------+\n",
      "|  1 |          2 |        0.75 |          1020 |       1076 |      2   |            0 |      0 |           3 |       7 |         1020 |               0 |       2008 |              0 |     98144 | 47.5941 | -122.299 |            1020 |         1357 | 155265   |\n",
      "+----+------------+-------------+---------------+------------+----------+--------------+--------+-------------+---------+--------------+-----------------+------------+----------------+-----------+---------+----------+-----------------+--------------+----------+\n",
      "|  1 |          4 |        2.75 |          3555 |       6565 |      2   |            0 |      0 |           3 |       9 |         3555 |               0 |       2014 |              0 |     98053 | 47.6847 | -122.017 |            3625 |         5637 | 897843   |\n",
      "+----+------------+-------------+---------------+------------+----------+--------------+--------+-------------+---------+--------------+-----------------+------------+----------------+-----------+---------+----------+-----------------+--------------+----------+\n",
      "|  1 |          2 |        1    |          1040 |      13920 |      1   |            0 |      0 |           3 |       6 |         1040 |               0 |       1973 |           1867 |     98198 | 47.3756 | -122.306 |            1100 |         7575 |  58471.7 |\n",
      "+----+------------+-------------+---------------+------------+----------+--------------+--------+-------------+---------+--------------+-----------------+------------+----------------+-----------+---------+----------+-----------------+--------------+----------+\n",
      "|  1 |          4 |        1.75 |          1860 |       7350 |      1   |            0 |      0 |           4 |       7 |         1090 |             770 |       1977 |           1900 |     98031 | 47.3979 | -122.174 |            1710 |         7350 | 340329   |\n",
      "+----+------------+-------------+---------------+------------+----------+--------------+--------+-------------+---------+--------------+-----------------+------------+----------------+-----------+---------+----------+-----------------+--------------+----------+\n",
      "|  1 |          1 |        1    |          1060 |      54846 |      1   |            1 |      4 |           3 |       5 |         1060 |               0 |       1935 |              0 |     98070 | 47.4716 | -122.445 |            2258 |        31762 | 974132   |\n",
      "+----+------------+-------------+---------------+------------+----------+--------------+--------+-------------+---------+--------------+-----------------+------------+----------------+-----------+---------+----------+-----------------+--------------+----------+\n",
      "|  1 |          4 |        1.5  |          2220 |       9496 |      1   |            0 |      0 |           4 |       7 |         1490 |             730 |       1954 |              0 |     98004 | 47.6233 | -122.206 |            1800 |         8286 | 545906   |\n",
      "+----+------------+-------------+---------------+------------+----------+--------------+--------+-------------+---------+--------------+-----------------+------------+----------------+-----------+---------+----------+-----------------+--------------+----------+\n",
      "|  1 |          4 |        1.5  |          1560 |       6534 |      1   |            0 |      0 |           4 |       7 |         1560 |               0 |       1962 |              0 |     98007 | 47.6012 | -122.152 |            1560 |         6969 | 401677   |\n",
      "+----+------------+-------------+---------------+------------+----------+--------------+--------+-------------+---------+--------------+-----------------+------------+----------------+-----------+---------+----------+-----------------+--------------+----------+\n",
      "|  1 |          5 |        3    |          2510 |       4125 |      1.5 |            0 |      3 |           5 |       8 |         1590 |             920 |       1925 |              0 |     98144 | 47.5968 | -122.29  |            2190 |         5415 | 923202   |\n",
      "+----+------------+-------------+---------------+------------+----------+--------------+--------+-------------+---------+--------------+-----------------+------------+----------------+-----------+---------+----------+-----------------+--------------+----------+\n",
      "|  1 |          3 |        2.5  |          1680 |       2096 |      2   |            0 |      0 |           3 |       8 |         1380 |             300 |       2008 |              0 |     98117 | 47.6904 | -122.37  |            1360 |         2096 | 483167   |\n",
      "+----+------------+-------------+---------------+------------+----------+--------------+--------+-------------+---------+--------------+-----------------+------------+----------------+-----------+---------+----------+-----------------+--------------+----------+\n",
      "|  1 |          3 |        2.25 |          2020 |       3600 |      2   |            0 |      0 |           3 |       8 |         2020 |               0 |       1998 |              0 |     98033 | 47.6678 | -122.165 |            2070 |         3699 | 571089   |\n",
      "+----+------------+-------------+---------------+------------+----------+--------------+--------+-------------+---------+--------------+-----------------+------------+----------------+-----------+---------+----------+-----------------+--------------+----------+\n"
     ]
    }
   ],
   "source": [
    "#Creamos la matriz con 11 ejemplos para hacer la prueba predecir un precio de cada ejemplo:\n",
    "matriz_datos_RLM = np.array([\n",
    "    [1,3,1,1180,5650,1,0,0,3,7,1180,0,1955,0,98178,47.5112,-122.257,1340,5650],\n",
    "    [1,2,0.75,1020,1076,2,0,0,3,7,1020,0,2008,0,98144,47.5941,-122.299,1020,1357],\n",
    "    [1,4,2.75,3555,6565,2,0,0,3,9,3555,0,2014,0,98053,47.6847,-122.017,3625,5637],\n",
    "    [1,2,1,1040,13920,1,0,0,3,6,1040,0,1973,1867,98198,47.3756,-122.306,1100,7575],\n",
    "    [1,4,1.75,1860,7350,1,0,0,4,7,1090,770,1977,1900,98031,47.3979,-122.174,1710,7350],\n",
    "    [1,1,1,1060,54846,1,1,4,3,5,1060,0,1935,0,98070,47.4716,-122.445,2258,31762],\n",
    "    [1,4,1.5,2220,9496,1,0,0,4,7,1490,730,1954,0,98004,47.6233,-122.206,1800,8286],\n",
    "    [1,4,1.5,1560,6534,1,0,0,4,7,1560,0,1962,0,98007,47.6012,-122.152,1560,6969],\n",
    "    [1,5,3,2510,4125,1.5,0,3,5,8,1590,920,1925,0,98144,47.5968,-122.29,2190,5415],\n",
    "    [1,3,2.5,1680,2096,2,0,0,3,8,1380,300,2008,0,98117,47.6904,-122.37,1360,2096],\n",
    "    [1,3,2.25,2020,3600,2,0,0,3,8,2020,0,1998,0,98033,47.6678,-122.165,2070,3699]\n",
    "])\n",
    "\n",
    "#creamos un vector parta almacenar cada Y predicha\n",
    "y_pre_RLM = []\n",
    "matriz_datos_RLM_copy = matriz_datos_RLM.copy()\n",
    "\n",
    "#Normalizamos todos, menos el primer valor de cada ejemplo\n",
    "\n",
    "matriz_datos_RLM_copy[:, 1:] = (matriz_datos_RLM_copy[:, 1:] - mu_RLM) / sigma_RLM\n",
    "\n",
    "\n",
    "#Calculamos la Y predicha de los 11 ejemplos de prediccion\n",
    "for datos in matriz_datos_RLM_copy:\n",
    "    y_pre_RLM.append(np.dot(datos, theta_RLM))\n",
    "\n",
    "matriz_datos_RLM = np.column_stack((matriz_datos_RLM, y_pre_RLM))\n",
    "\n",
    "nombres_columnas = ['bedrooms','bathrooms','sqft_living','sqft_lot','floors','waterfront','view','condition','grade','sqft_above','sqft_basement','yr_built','yr_renovated','zipcode','lat','long','sqft_living15','sqft_lot15','Price']\n",
    "\n",
    "# Convertir la matriz en una lista de listas\n",
    "datos_para_tabla = matriz_datos_RLM.tolist()\n",
    "\n",
    "print(len(matriz_datos_RLM[0]))\n",
    "print(len(matriz_datos_RLM_copy[0]))\n",
    "\n",
    "# Imprimir la tabla\n",
    "print(tabulate(datos_para_tabla, headers=nombres_columnas, tablefmt='grid'))"
   ]
  },
  {
   "cell_type": "markdown",
   "metadata": {},
   "source": [
    "#### 1.1.6 Validaciones\n",
    "Para hacer las validaciones correspondientes, primero se crea la funcion del **Mean squeared error**\n",
    "\n",
    "Siguiendo el consejo de 80/20, donde 80% es para la fase de entrenamiento, y 20% es para la fase de prueba.\n",
    "\n",
    "haciendo calculo del error cuadratico medio:"
   ]
  },
  {
   "cell_type": "code",
   "execution_count": 70,
   "metadata": {},
   "outputs": [
    {
     "name": "stdout",
     "output_type": "stream",
     "text": [
      "Error Cuadrático Medio (MSE) = 45584372752.44013\n",
      "Raíz del Error Cuadrático Medio (RMSE) = 213504.97125931314\n"
     ]
    }
   ],
   "source": [
    "#Concatenamos de unos a la primera posicion del X_test\n",
    "X_testRLM_ready = np.concatenate([np.ones((m_test_RLM, 1)), X_testRLM], axis=1)\n",
    "\n",
    "# Normalizamos todos, menos el primer valor de cada ejemplo porque este contiene los unos\n",
    "X_testRLM_ready[:, 1:] = (X_testRLM_ready[:, 1:] - mu_RLM) / sigma_RLM\n",
    "\n",
    "#creamos un array que almacenara cada una de las y_predicha\n",
    "y_predicha_RLM = []\n",
    "for data_RLM in X_testRLM_ready:\n",
    "    y_predicha_RLM.append(np.dot(data_RLM, theta_RLM))\n",
    "\n",
    "mse_RLM = mean_squared_error(y_predicha_RLM, y_testRLM)\n",
    "#calculamos el error cuadratico medio:\n",
    "print('Error Cuadrático Medio (MSE) = ' + str(mse_RLM))\n",
    "print('Raíz del Error Cuadrático Medio (RMSE) = ' + str(np.sqrt(mse_RLM)))"
   ]
  },
  {
   "cell_type": "markdown",
   "metadata": {},
   "source": [
    "### 1.2 Regresion Polinomica"
   ]
  },
  {
   "cell_type": "markdown",
   "metadata": {},
   "source": [
    "Importamos **PolynomialFeatures** es una clase en scikit-learn que se utiliza para generar características polinómicas a partir de un conjunto de características existente. En el contexto de regresión polinómica, puedes usar PolynomialFeatures para generar nuevas características que son combinaciones polinómicas de las características originales."
   ]
  },
  {
   "cell_type": "code",
   "execution_count": 71,
   "metadata": {},
   "outputs": [],
   "source": [
    "from sklearn.preprocessing import PolynomialFeatures"
   ]
  },
  {
   "cell_type": "markdown",
   "metadata": {},
   "source": [
    "Carga de los datos para la regresion lineal multivariable:"
   ]
  },
  {
   "cell_type": "code",
   "execution_count": 72,
   "metadata": {},
   "outputs": [
    {
     "name": "stdout",
     "output_type": "stream",
     "text": [
      "la cantidad de columnas de X_trainRLP es de:  190\n",
      "la cantidad de ejemplos de X_trainRLP es de:  17290\n"
     ]
    }
   ],
   "source": [
    "#hacemos una copia de y_train y y_test para usarlo en la regresion lineal multivariable\n",
    "\n",
    "#estos datos seran usados para el entrenamiento\n",
    "X_testRLP = X_test.copy()\n",
    "y_testRLP = y_test.copy()\n",
    "m_test_RLP = len(y_testRLM)\n",
    "#estos datos seran usados para el test\n",
    "\n",
    "#hacemos uso de la libreria PolynomialFeatures para hacer la regresion polinomial de grado 2\n",
    "poly = PolynomialFeatures(degree=2)\n",
    "#hacemos una copia de y_train y y_test para usarlo en la regresion polinomial\n",
    "X_trainRLP = poly.fit_transform(X_train.copy())\n",
    "y_trainRLP = y_train.copy()\n",
    "m_train_RLP = len(y_trainRLM)\n",
    "\n",
    "print(\"la cantidad de columnas de X_trainRLP es de: \", X_trainRLP.shape[1])\n",
    "print(\"la cantidad de ejemplos de X_trainRLP es de: \", X_trainRLP.shape[0])"
   ]
  },
  {
   "cell_type": "markdown",
   "metadata": {},
   "source": [
    "#### 1.2.1 Normalizacion de las caracteristicas\n",
    "\n",
    "Se hace uso de la funcion de `featureNormalize(X) ` para normalizar cada una de las 190 feactures de mi nueva matriz de datos donde se recibe un parametro de tipo matriz para normalizar cada dato dentro de ella, retornandome la **matriz normalizda**, **sigma(desviacion estandar)**, y mi **mu(media)**."
   ]
  },
  {
   "cell_type": "code",
   "execution_count": 73,
   "metadata": {},
   "outputs": [
    {
     "data": {
      "text/plain": [
       "(17290, 190)"
      ]
     },
     "execution_count": 73,
     "metadata": {},
     "output_type": "execute_result"
    }
   ],
   "source": [
    "#introductimos los datos a la funcion de normalizacion\n",
    "X_norm_RLP, mu_RLP, sigma_RLP = featureNormalize(X_trainRLP)\n",
    "\n",
    "X_norm_RLP.shape"
   ]
  },
  {
   "cell_type": "markdown",
   "metadata": {},
   "source": [
    "#### 1.2.2 Agregamos la columna de unos a nuestra matriz"
   ]
  },
  {
   "cell_type": "code",
   "execution_count": 74,
   "metadata": {},
   "outputs": [
    {
     "name": "stdout",
     "output_type": "stream",
     "text": [
      "La cantidad de columnas de X_ready_RLP es de:  191\n"
     ]
    }
   ],
   "source": [
    "X_ready_RLP = np.concatenate([np.ones((m_train_RLP, 1)), X_norm_RLP], axis=1)\n",
    "print(\"La cantidad de columnas de X_ready_RLP es de: \", X_ready_RLP.shape[1])"
   ]
  },
  {
   "cell_type": "markdown",
   "metadata": {},
   "source": [
    "#### 1.2.3 Descenso por el gradiente\n",
    "\n",
    "haciendo uso de la funcio de `calcularCosto(X , y, theta, lamda_)` donde `X` sera nuestra matriz normalizada, y sera nuestra `y_predicha` que en este caso sera el precio, `Thetha` que seran nuestros valores inciales, y `lamda_` que sera nuestro parametro de regularizacion."
   ]
  },
  {
   "cell_type": "markdown",
   "metadata": {},
   "source": [
    "##### 1.2.3.1 Cálculo del costo $J(\\theta)$"
   ]
  },
  {
   "cell_type": "markdown",
   "metadata": {},
   "source": [
    "Ejemplo de funcionamiento de la funcion computeCoste con dos valores diferentes de $\\theta$."
   ]
  },
  {
   "cell_type": "code",
   "execution_count": 75,
   "metadata": {},
   "outputs": [
    {
     "name": "stdout",
     "output_type": "stream",
     "text": [
      "191\n",
      "########################################################################################################\n",
      "con theta:[0.05775568 0.03933114 0.90191385 0.47112046 0.5352292  0.03492634\n",
      " 0.93214846 0.91341082 0.4268449  0.44680133 0.39018489 0.94554837\n",
      " 0.15682191 0.55954727 0.24552774 0.80257085 0.88503954 0.5399353\n",
      " 0.55685521 0.95224039 0.27356897 0.65871667 0.28944908 0.78152477\n",
      " 0.98373325 0.80937855 0.44279091 0.7892571  0.94632214 0.7196434\n",
      " 0.15075184 0.40420857 0.36132485 0.00273106 0.41495094 0.67211179\n",
      " 0.33911486 0.03312878 0.25574473 0.36270968 0.14506142 0.3295759\n",
      " 0.34490124 0.28304783 0.91502288 0.62681505 0.9861013  0.35172387\n",
      " 0.56159508 0.00258611 0.30413931 0.41461689 0.20274833 0.04898539\n",
      " 0.25754167 0.88135713 0.13733804 0.07731174 0.71934258 0.2113358\n",
      " 0.52293202 0.20901737 0.30941829 0.77289312 0.35191815 0.89304129\n",
      " 0.77299861 0.81748502 0.74188274 0.7188767  0.87992728 0.39457091\n",
      " 0.4963133  0.80277215 0.07558544 0.23680871 0.69838015 0.90449363\n",
      " 0.03646371 0.77537555 0.59378546 0.77783642 0.4664782  0.81651191\n",
      " 0.24870702 0.76692643 0.49370751 0.06552119 0.31724806 0.01848267\n",
      " 0.97490096 0.31222028 0.3761921  0.1698521  0.42943699 0.58204975\n",
      " 0.97648489 0.27452671 0.94145128 0.20531382 0.22833229 0.37503701\n",
      " 0.74831506 0.83233786 0.69957908 0.91075897 0.19656059 0.20731138\n",
      " 0.34626305 0.45579482 0.8781432  0.26338034 0.26951377 0.91345485\n",
      " 0.29767579 0.72567187 0.39053437 0.79817606 0.09150119 0.94132774\n",
      " 0.60077933 0.64046991 0.47337269 0.57098207 0.47849947 0.46962083\n",
      " 0.69464768 0.13854874 0.08382926 0.64733477 0.52368919 0.16251719\n",
      " 0.87180837 0.2365054  0.79562718 0.78245643 0.47572047 0.80036645\n",
      " 0.47493314 0.31359783 0.92725361 0.37021118 0.70565846 0.71384828\n",
      " 0.0389835  0.15437264 0.05293614 0.7278725  0.25641152 0.70016222\n",
      " 0.39934619 0.62564463 0.94405127 0.29045384 0.53580068 0.911527\n",
      " 0.10536024 0.66130769 0.05892094 0.50904457 0.01553883 0.02166131\n",
      " 0.34279015 0.86150867 0.22931193 0.47941955 0.69973719 0.51740549\n",
      " 0.39169624 0.25477811 0.22522798 0.59747836 0.29966551 0.95105781\n",
      " 0.94406816 0.20603817 0.16303489 0.52472336 0.15395442 0.49001999\n",
      " 0.39938934 0.89849769 0.55400937 0.97296146 0.81381407 0.27883047\n",
      " 0.44143508 0.54762061 0.05652564 0.95701031 0.6489763 ] se obtiene un costo de: 209912273617.89938\n",
      "########################################################################################################\n",
      "con theta:[0.31815443 0.35822149 0.02403902 0.50378993 0.85145328 0.24328632\n",
      " 0.00635008 0.87486505 0.99920025 0.7789759  0.45712447 0.05376061\n",
      " 0.52902659 0.58517287 0.26857484 0.609044   0.66533604 0.06431339\n",
      " 0.00648189 0.62294223 0.42705124 0.06200633 0.09760744 0.43391344\n",
      " 0.5000498  0.00144213 0.06030398 0.13630308 0.72013577 0.90460457\n",
      " 0.8840365  0.45174245 0.38868985 0.54131963 0.93206242 0.87291425\n",
      " 0.9124125  0.51873459 0.51891076 0.34631289 0.5952114  0.86525834\n",
      " 0.23236605 0.93428226 0.35615385 0.79847751 0.5670606  0.6659011\n",
      " 0.111976   0.01835215 0.8278089  0.91711367 0.96373022 0.41262498\n",
      " 0.96796786 0.92164205 0.0077397  0.73671741 0.5943663  0.54008521\n",
      " 0.36160016 0.61538411 0.71406024 0.38845265 0.79481962 0.04212143\n",
      " 0.98510742 0.07754898 0.1667426  0.30641234 0.46122367 0.82793845\n",
      " 0.78539879 0.70341943 0.41558294 0.23847217 0.30840075 0.2475739\n",
      " 0.6486241  0.62036898 0.21617054 0.04769368 0.90351279 0.08082958\n",
      " 0.4914356  0.56919519 0.61090039 0.57885953 0.3313794  0.74427893\n",
      " 0.83862379 0.75506674 0.75752729 0.75002214 0.70631381 0.89718402\n",
      " 0.57831668 0.52801474 0.06787791 0.28990589 0.73085836 0.96835908\n",
      " 0.96140477 0.08725341 0.06497434 0.96127889 0.35731926 0.16816738\n",
      " 0.14091268 0.21345694 0.41375647 0.39586102 0.05029813 0.22295718\n",
      " 0.65906808 0.30359178 0.57519421 0.51306736 0.5684871  0.63839632\n",
      " 0.84844766 0.24721188 0.77004701 0.94557778 0.39488732 0.39830396\n",
      " 0.45665187 0.38487141 0.2891656  0.26621865 0.20720485 0.96359446\n",
      " 0.22946648 0.04965728 0.36073636 0.74130655 0.31323596 0.78970546\n",
      " 0.50121538 0.67164091 0.16757956 0.08605156 0.95548554 0.54813893\n",
      " 0.57793156 0.13587116 0.58038718 0.27172578 0.42289324 0.05190378\n",
      " 0.48445429 0.34162324 0.38647422 0.89770513 0.94626534 0.72610238\n",
      " 0.16095458 0.55890264 0.71075939 0.78108196 0.03570582 0.36017706\n",
      " 0.64933161 0.06747502 0.76285803 0.47192241 0.3876609  0.91594554\n",
      " 0.56428887 0.89155673 0.47135611 0.96407751 0.55135276 0.22281445\n",
      " 0.18885704 0.40274523 0.16586197 0.57828349 0.90072799 0.69054207\n",
      " 0.46039151 0.7976067  0.70535634 0.7371965  0.17694132 0.06559369\n",
      " 0.00288309 0.49964197 0.62184571 0.93684665 0.84593139] se obtiene un costo de: 209911252335.3025\n"
     ]
    }
   ],
   "source": [
    "#creamos un theta con 190 columnas de valores aleatorios\n",
    "theta_RLP=np.random.rand(len(X_ready_RLP[1]))\n",
    "theta_RLP1=np.random.rand(len(X_ready_RLP[1]))\n",
    "\n",
    "print(len(theta_RLP))\n",
    "lambda_RLP = 1000\n",
    "\n",
    "print(f\"########################################################################################################\")\n",
    "print(f\"con theta:{ theta_RLP } se obtiene un costo de: {calcularCostoCR(X_ready_RLP, y_trainRLP, theta_RLP, lambda_RLP)}\")\n",
    "print(f\"########################################################################################################\")\n",
    "print(f\"con theta:{ theta_RLP1 } se obtiene un costo de: {calcularCostoCR(X_ready_RLP, y_trainRLP, theta_RLP1, lambda_RLP)}\")"
   ]
  },
  {
   "cell_type": "markdown",
   "metadata": {},
   "source": [
    "##### 1.2.3.2Descenso por el gradiente\n",
    "\n",
    "Creamos la funcion para hacer el calculo del descenso por el gradiente y asi encontrar nuestras **Thetas**, se hizo la modificacion para que la funcion ahora reciba el parametro de ``lamda_``\n",
    "\n",
    "Haciendo uso de la funcion de `calcularDescensoGradiente(X,y, theta, alpha, lambda_,num_iteraciones)`:"
   ]
  },
  {
   "cell_type": "code",
   "execution_count": 76,
   "metadata": {},
   "outputs": [
    {
     "name": "stdout",
     "output_type": "stream",
     "text": [
      "########################################################################################################\n",
      "Los valores de theta calculados son:\n",
      "theta 1: 535345.0735608558\n",
      "theta 2: 0.0\n",
      "theta 3: -4869.568831818136\n",
      "theta 4: -3302.437230532716\n",
      "theta 5: -3995.430465837314\n",
      "theta 6: 2462.99163056737\n",
      "theta 7: -76.88404571706343\n",
      "theta 8: -1347.5967408727324\n",
      "theta 9: -2415.5025995474193\n",
      "theta 10: -1045.8826942837004\n",
      "theta 11: 11358.670177644122\n",
      "theta 12: -2238.7532624272267\n",
      "theta 13: -4070.0183507393695\n",
      "theta 14: -13506.557644424669\n",
      "theta 15: -3382.063558865083\n",
      "theta 16: -14516.476472413804\n",
      "theta 17: 22377.15371196528\n",
      "theta 18: -7581.491595408281\n",
      "theta 19: 153.07355692743943\n",
      "theta 20: 2323.9375445170685\n",
      "theta 21: 5381.324552649225\n",
      "theta 22: -626.2003750296753\n",
      "theta 23: 1479.368984612988\n",
      "theta 24: -2965.578238021526\n",
      "theta 25: -955.0894907621263\n",
      "theta 26: 5247.612103114691\n",
      "theta 27: -945.1350911639428\n",
      "theta 28: 1515.759524329121\n",
      "theta 29: 8507.281992896242\n",
      "theta 30: 4629.039629835663\n",
      "theta 31: -6474.373336712659\n",
      "theta 32: -6310.787143624513\n",
      "theta 33: -2684.5047110967444\n",
      "theta 34: -4904.40079862834\n",
      "theta 35: -4452.668435188817\n",
      "theta 36: 4770.334652139494\n",
      "theta 37: -232.32840053495713\n",
      "theta 38: -2602.9591768818627\n",
      "theta 39: 15338.21443992211\n",
      "theta 40: 21095.960853345165\n",
      "theta 41: -3348.8866571451085\n",
      "theta 42: 2482.3412741629913\n",
      "theta 43: 6582.436322637041\n",
      "theta 44: 8703.915246166713\n",
      "theta 45: 857.2692059498333\n",
      "theta 46: 16870.649538594684\n",
      "theta 47: 21661.046530227937\n",
      "theta 48: 7339.197408878965\n",
      "theta 49: -3790.32373991208\n",
      "theta 50: -1066.171190686937\n",
      "theta 51: -3325.8715249312754\n",
      "theta 52: -2882.1220654992744\n",
      "theta 53: 3183.130342881332\n",
      "theta 54: 4606.662831599533\n",
      "theta 55: -4055.5295937763126\n",
      "theta 56: 23994.278009200454\n",
      "theta 57: -4082.191423268419\n",
      "theta 58: 2920.216743264745\n",
      "theta 59: 16187.880801742205\n",
      "theta 60: 12263.523869921188\n",
      "theta 61: 5877.821801295404\n",
      "theta 62: 17634.975578369747\n",
      "theta 63: 24858.2031503717\n",
      "theta 64: 9577.536883670322\n",
      "theta 65: -5263.175159013603\n",
      "theta 66: 12576.386205799212\n",
      "theta 67: -4024.1906412636736\n",
      "theta 68: -3511.5194329471988\n",
      "theta 69: 3831.6721896895256\n",
      "theta 70: 6458.565411944442\n",
      "theta 71: -6456.786289970312\n",
      "theta 72: 2686.7450072995616\n",
      "theta 73: -3049.5407274204667\n",
      "theta 74: -1534.6653696413637\n",
      "theta 75: -319.1829798016829\n",
      "theta 76: 2101.5209354838144\n",
      "theta 77: 1919.3525832792304\n",
      "theta 78: -2880.0668518253724\n",
      "theta 79: -7478.798913875394\n",
      "theta 80: 2671.3524851229654\n",
      "theta 81: -1763.3108817188422\n",
      "theta 82: 2452.877687488021\n",
      "theta 83: 2380.483667383654\n",
      "theta 84: -2445.448583486613\n",
      "theta 85: 122.01576549555296\n",
      "theta 86: 10022.147704194076\n",
      "theta 87: 2634.5191218271834\n",
      "theta 88: -1251.1822716730624\n",
      "theta 89: -749.9898497638915\n",
      "theta 90: 4804.337552542122\n",
      "theta 91: 7913.639524865835\n",
      "theta 92: -184.6056366440229\n",
      "theta 93: 11046.794368623929\n",
      "theta 94: -838.9385622397584\n",
      "theta 95: -5372.58683015354\n",
      "theta 96: -71.90252214349806\n",
      "theta 97: 229.06650110730814\n",
      "theta 98: -33.73093051072969\n",
      "theta 99: -8897.369896776594\n",
      "theta 100: -6163.520509097075\n",
      "theta 101: -1347.5967408727324\n",
      "theta 102: -2898.544667501859\n",
      "theta 103: -2521.6062356345988\n",
      "theta 104: 4368.673805024762\n",
      "theta 105: 17661.907256755705\n",
      "theta 106: 8573.411550945386\n",
      "theta 107: -1058.2021134605836\n",
      "theta 108: -6412.46171819772\n",
      "theta 109: -1385.2804137884561\n",
      "theta 110: -1168.771185126009\n",
      "theta 111: 1407.929608902697\n",
      "theta 112: 14647.213732544918\n",
      "theta 113: -2646.307349461866\n",
      "theta 114: 1801.908078128242\n",
      "theta 115: 5445.229411620496\n",
      "theta 116: 6673.204094395562\n",
      "theta 117: 16235.76569953707\n",
      "theta 118: -872.6947672633133\n",
      "theta 119: -2841.329030091084\n",
      "theta 120: -4627.194871503607\n",
      "theta 121: -2430.6756661864283\n",
      "theta 122: -2188.914626438596\n",
      "theta 123: 2376.7917238791238\n",
      "theta 124: 8274.698820669813\n",
      "theta 125: -3332.0823255535574\n",
      "theta 126: 366.3825028222608\n",
      "theta 127: 14483.03662028425\n",
      "theta 128: 6395.025444504594\n",
      "theta 129: 1025.1758674627433\n",
      "theta 130: -2524.685998525421\n",
      "theta 131: -3900.8099236649477\n",
      "theta 132: -1099.2722957495002\n",
      "theta 133: -672.3956775727925\n",
      "theta 134: 1012.5585751420768\n",
      "theta 135: 17257.183446772142\n",
      "theta 136: 1299.643543666704\n",
      "theta 137: 22879.01512702316\n",
      "theta 138: 15847.306942316227\n",
      "theta 139: 9158.208526467432\n",
      "theta 140: 8924.720488633513\n",
      "theta 141: 3927.4461806577838\n",
      "theta 142: 11321.561016537926\n",
      "theta 143: 12095.712334465134\n",
      "theta 144: -11598.451367292333\n",
      "theta 145: 7450.300827907991\n",
      "theta 146: -786.955503842658\n",
      "theta 147: 20944.659793539664\n",
      "theta 148: 23862.761837232236\n",
      "theta 149: -3359.4591078087037\n",
      "theta 150: 12058.130623344188\n",
      "theta 151: -2267.7554828917664\n",
      "theta 152: -1803.2165677926778\n",
      "theta 153: 2084.6931840841817\n",
      "theta 154: 2947.7055329437185\n",
      "theta 155: -6219.7797835247275\n",
      "theta 156: -13773.599533993547\n",
      "theta 157: -4633.570155383406\n",
      "theta 158: 10450.301728732402\n",
      "theta 159: -4074.2874719181737\n",
      "theta 160: -3887.1722718465553\n",
      "theta 161: 4017.5860725083166\n",
      "theta 162: 12308.291522810026\n",
      "theta 163: -4113.394567916201\n",
      "theta 164: -12990.542877591146\n",
      "theta 165: -3219.3943100246947\n",
      "theta 166: -14191.502232929533\n",
      "theta 167: -9229.030992982292\n",
      "theta 168: 13298.414604113592\n",
      "theta 169: -2345.810495208539\n",
      "theta 170: 2394.0049414525547\n",
      "theta 171: -3125.79787359912\n",
      "theta 172: -3410.4780612272425\n",
      "theta 173: -3355.2342582348974\n",
      "theta 174: 3394.3386722858795\n",
      "theta 175: 17928.644038186223\n",
      "theta 176: -2045.778700897325\n",
      "theta 177: -14516.65370771613\n",
      "theta 178: 18443.900908526706\n",
      "theta 179: -555.0246795854813\n",
      "theta 180: 130.25142579684518\n",
      "theta 181: 2308.739684634019\n",
      "theta 182: 22132.69183035103\n",
      "theta 183: -22647.90755857615\n",
      "theta 184: 577.8552636616844\n",
      "theta 185: 2214.928351194649\n",
      "theta 186: 7595.94099919851\n",
      "theta 187: -315.4934840983808\n",
      "theta 188: -2307.696854411838\n",
      "theta 189: 3645.9533550296364\n",
      "theta 190: -1418.691729649118\n",
      "theta 191: 4430.791124329939\n",
      "########################################################################################################\n",
      "con un costo de: 15617343651.705801 \n",
      "la cantidad de theta son:  191\n"
     ]
    }
   ],
   "source": [
    "#creamos un theta con 19 columnas de ceros\n",
    "theta_RLP = np.zeros(len(X_ready_RLP[0]))\n",
    "\n",
    "#numero de iteraciones sera 1000000 y un alpha 0.00009\n",
    "num_ite_RLP = 6000\n",
    "alpha_RLP = 0.0009\n",
    "lambda__RLP = 1000\n",
    "\n",
    "theta_RLP, J_historico_RLP = calcularDescensoGradienteCR(X_ready_RLP, y_trainRLP, theta_RLP , alpha_RLP,lambda_RLP, num_ite_RLP)\n",
    "print(\"########################################################################################################\")\n",
    "print(\"Los valores de theta calculados son:\")\n",
    "i = 0\n",
    "for tht in theta_RLP:\n",
    "    i += 1\n",
    "    print(f\"theta {i}: {tht}\")\n",
    "\n",
    "print(f\"########################################################################################################\")\n",
    "#mostramos el ultimo costo, este seria el mejor costo\n",
    "print(f\"con un costo de: { J_historico_RLP[-1]} \")\n",
    "\n",
    "print(\"la cantidad de theta son: \", theta_RLP.shape[0])"
   ]
  },
  {
   "cell_type": "markdown",
   "metadata": {},
   "source": [
    "#### 1.2.4 Grafica de la convergencia del costo\n",
    "graficamos el costo"
   ]
  },
  {
   "cell_type": "code",
   "execution_count": 77,
   "metadata": {},
   "outputs": [
    {
     "data": {
      "text/plain": [
       "Text(0, 0.5, 'Costo J')"
      ]
     },
     "execution_count": 77,
     "metadata": {},
     "output_type": "execute_result"
    },
    {
     "data": {
      "image/png": "[encoded data removed]",
      "text/plain": [
       "<Figure size 640x480 with 1 Axes>"
      ]
     },
     "metadata": {},
     "output_type": "display_data"
    }
   ],
   "source": [
    "pyplot.plot(np.arange(len(J_historico_RLP)), J_historico_RLP, lw=2)\n",
    "pyplot.title(\"Grafica de la convergencia del costo\")\n",
    "pyplot.xlabel('Numero de iteraciones')\n",
    "pyplot.ylabel('Costo J')"
   ]
  },
  {
   "cell_type": "markdown",
   "metadata": {},
   "source": [
    "##### 1.2.4.1 Grafica de la regresion Polinomial\n",
    "\n",
    "En esta parte se trazan los datos de entrenamiento y una línea que representa la regresión lineal ajustada a esos datos."
   ]
  },
  {
   "cell_type": "code",
   "execution_count": 78,
   "metadata": {},
   "outputs": [
    {
     "data": {
      "text/plain": [
       "<matplotlib.legend.Legend at 0x15aa039be60>"
      ]
     },
     "execution_count": 78,
     "metadata": {},
     "output_type": "execute_result"
    },
    {
     "data": {
      "image/png": "[encoded data removed]",
      "text/plain": [
       "<Figure size 640x480 with 1 Axes>"
      ]
     },
     "metadata": {},
     "output_type": "display_data"
    }
   ],
   "source": [
    "graficarDatos(X_norm_RLP[:, 150], X_norm_RLP[:, 151] , \"X_norm_150\", \"X_norm_151\")\n",
    "\n",
    "pyplot.plot(X_norm_RLP[:,150], np.dot(X_ready_RLP, theta_RLP), '-')\n",
    "\n",
    "pyplot.legend(['Datos de entrenamiento', 'regresion lineal'])"
   ]
  },
  {
   "cell_type": "markdown",
   "metadata": {},
   "source": [
    "haciendo una pequeña prueba:"
   ]
  },
  {
   "cell_type": "code",
   "execution_count": 79,
   "metadata": {},
   "outputs": [
    {
     "name": "stdout",
     "output_type": "stream",
     "text": [
      "La prediccion de la casa es de: [258321.78283319]\n"
     ]
    }
   ],
   "source": [
    "X_arrayRLP = np.array([3,1,1180,5650,1,0,0,3,7,1180,0,1955,0,98178,47.5112,-122.257,1340,5650])\n",
    "X_arrayRLP = X_arrayRLP.reshape(1, -1)\n",
    "\n",
    "poly = PolynomialFeatures(degree=2)\n",
    "#hacemos una copia de y_train y y_test para usarlo en la regresion polinomial\n",
    "X_arrayRLP = poly.fit_transform(X_arrayRLP)\n",
    "\n",
    "X_arrayRLP = np.concatenate([np.ones((X_arrayRLP.shape[0], 1)), X_arrayRLP], axis=1)\n",
    "\n",
    "X_arrayRLP[:, 1:] = (X_arrayRLP[:, 1:] - mu_RLP) / sigma_RLP\n",
    "\n",
    "prediccion_RLP = np.dot(X_arrayRLP, theta_RLP)\n",
    "\n",
    "print (f\"La prediccion de la casa es de: {prediccion_RLP}\")"
   ]
  },
  {
   "cell_type": "markdown",
   "metadata": {},
   "source": [
    "#### 1.2.5 Ejemplos de Predicciones\n",
    "\n",
    "Se creo una matriz con 11 ejemplos, donde se hace las predicciones correspondientes:"
   ]
  },
  {
   "cell_type": "code",
   "execution_count": 80,
   "metadata": {},
   "outputs": [
    {
     "name": "stdout",
     "output_type": "stream",
     "text": [
      "20\n",
      "19\n",
      "+------------+-------------+---------------+------------+----------+--------------+--------+-------------+---------+--------------+-----------------+------------+----------------+-----------+---------+----------+-----------------+--------------+----------+\n",
      "|   bedrooms |   bathrooms |   sqft_living |   sqft_lot |   floors |   waterfront |   view |   condition |   grade |   sqft_above |   sqft_basement |   yr_built |   yr_renovated |   zipcode |     lat |     long |   sqft_living15 |   sqft_lot15 |    Price |\n",
      "+============+=============+===============+============+==========+==============+========+=============+=========+==============+=================+============+================+===========+=========+==========+=================+==============+==========+\n",
      "|          3 |        1    |          1180 |       5650 |      1   |            0 |      0 |           3 |       7 |         1180 |               0 |       1955 |              0 |     98178 | 47.5112 | -122.257 |            1340 |         5650 | 258322   |\n",
      "+------------+-------------+---------------+------------+----------+--------------+--------+-------------+---------+--------------+-----------------+------------+----------------+-----------+---------+----------+-----------------+--------------+----------+\n",
      "|          2 |        0.75 |          1020 |       1076 |      2   |            0 |      0 |           3 |       7 |         1020 |               0 |       2008 |              0 |     98144 | 47.5941 | -122.299 |            1020 |         1357 | 226309   |\n",
      "+------------+-------------+---------------+------------+----------+--------------+--------+-------------+---------+--------------+-----------------+------------+----------------+-----------+---------+----------+-----------------+--------------+----------+\n",
      "|          4 |        2.75 |          3555 |       6565 |      2   |            0 |      0 |           3 |       9 |         3555 |               0 |       2014 |              0 |     98053 | 47.6847 | -122.017 |            3625 |         5637 | 856175   |\n",
      "+------------+-------------+---------------+------------+----------+--------------+--------+-------------+---------+--------------+-----------------+------------+----------------+-----------+---------+----------+-----------------+--------------+----------+\n",
      "|          2 |        1    |          1040 |      13920 |      1   |            0 |      0 |           3 |       6 |         1040 |               0 |       1973 |           1867 |     98198 | 47.3756 | -122.306 |            1100 |         7575 |  34911.7 |\n",
      "+------------+-------------+---------------+------------+----------+--------------+--------+-------------+---------+--------------+-----------------+------------+----------------+-----------+---------+----------+-----------------+--------------+----------+\n",
      "|          4 |        1.75 |          1860 |       7350 |      1   |            0 |      0 |           4 |       7 |         1090 |             770 |       1977 |           1900 |     98031 | 47.3979 | -122.174 |            1710 |         7350 | 339537   |\n",
      "+------------+-------------+---------------+------------+----------+--------------+--------+-------------+---------+--------------+-----------------+------------+----------------+-----------+---------+----------+-----------------+--------------+----------+\n",
      "|          1 |        1    |          1060 |      54846 |      1   |            1 |      4 |           3 |       5 |         1060 |               0 |       1935 |              0 |     98070 | 47.4716 | -122.445 |            2258 |        31762 | 505818   |\n",
      "+------------+-------------+---------------+------------+----------+--------------+--------+-------------+---------+--------------+-----------------+------------+----------------+-----------+---------+----------+-----------------+--------------+----------+\n",
      "|          4 |        1.5  |          2220 |       9496 |      1   |            0 |      0 |           4 |       7 |         1490 |             730 |       1954 |              0 |     98004 | 47.6233 | -122.206 |            1800 |         8286 | 514631   |\n",
      "+------------+-------------+---------------+------------+----------+--------------+--------+-------------+---------+--------------+-----------------+------------+----------------+-----------+---------+----------+-----------------+--------------+----------+\n",
      "|          4 |        1.5  |          1560 |       6534 |      1   |            0 |      0 |           4 |       7 |         1560 |               0 |       1962 |              0 |     98007 | 47.6012 | -122.152 |            1560 |         6969 | 420326   |\n",
      "+------------+-------------+---------------+------------+----------+--------------+--------+-------------+---------+--------------+-----------------+------------+----------------+-----------+---------+----------+-----------------+--------------+----------+\n",
      "|          5 |        3    |          2510 |       4125 |      1.5 |            0 |      3 |           5 |       8 |         1590 |             920 |       1925 |              0 |     98144 | 47.5968 | -122.29  |            2190 |         5415 | 901406   |\n",
      "+------------+-------------+---------------+------------+----------+--------------+--------+-------------+---------+--------------+-----------------+------------+----------------+-----------+---------+----------+-----------------+--------------+----------+\n",
      "|          3 |        2.5  |          1680 |       2096 |      2   |            0 |      0 |           3 |       8 |         1380 |             300 |       2008 |              0 |     98117 | 47.6904 | -122.37  |            1360 |         2096 | 485890   |\n",
      "+------------+-------------+---------------+------------+----------+--------------+--------+-------------+---------+--------------+-----------------+------------+----------------+-----------+---------+----------+-----------------+--------------+----------+\n",
      "|          3 |        2.25 |          2020 |       3600 |      2   |            0 |      0 |           3 |       8 |         2020 |               0 |       1998 |              0 |     98033 | 47.6678 | -122.165 |            2070 |         3699 | 542093   |\n",
      "+------------+-------------+---------------+------------+----------+--------------+--------+-------------+---------+--------------+-----------------+------------+----------------+-----------+---------+----------+-----------------+--------------+----------+\n"
     ]
    }
   ],
   "source": [
    "#Creamos la matriz con 11 ejemplos para hacer la prueba predecir un precio de cada ejemplo:\n",
    "matriz_datos_RLP = np.array([\n",
    "    [3,1,1180,5650,1,0,0,3,7,1180,0,1955,0,98178,47.5112,-122.257,1340,5650],\n",
    "    [2,0.75,1020,1076,2,0,0,3,7,1020,0,2008,0,98144,47.5941,-122.299,1020,1357],\n",
    "    [4,2.75,3555,6565,2,0,0,3,9,3555,0,2014,0,98053,47.6847,-122.017,3625,5637],\n",
    "    [2,1,1040,13920,1,0,0,3,6,1040,0,1973,1867,98198,47.3756,-122.306,1100,7575],\n",
    "    [4,1.75,1860,7350,1,0,0,4,7,1090,770,1977,1900,98031,47.3979,-122.174,1710,7350],\n",
    "    [1,1,1060,54846,1,1,4,3,5,1060,0,1935,0,98070,47.4716,-122.445,2258,31762],\n",
    "    [4,1.5,2220,9496,1,0,0,4,7,1490,730,1954,0,98004,47.6233,-122.206,1800,8286],\n",
    "    [4,1.5,1560,6534,1,0,0,4,7,1560,0,1962,0,98007,47.6012,-122.152,1560,6969],\n",
    "    [5,3,2510,4125,1.5,0,3,5,8,1590,920,1925,0,98144,47.5968,-122.29,2190,5415],\n",
    "    [3,2.5,1680,2096,2,0,0,3,8,1380,300,2008,0,98117,47.6904,-122.37,1360,2096],\n",
    "    [3,2.25,2020,3600,2,0,0,3,8,2020,0,1998,0,98033,47.6678,-122.165,2070,3699]\n",
    "])\n",
    "\n",
    "#creamos un vector parta almacenar cada Y predicha\n",
    "y_pre_RLP = []\n",
    "\n",
    "matriz_datos_RLP_copy = matriz_datos_RLP.copy()\n",
    "\n",
    "poly = PolynomialFeatures(degree=2)\n",
    "#hacemos una copia de y_train y y_test para usarlo en la regresion polinomial\n",
    "matriz_datos_RLP = poly.fit_transform(matriz_datos_RLP)\n",
    "\n",
    "matriz_datos_RLP = np.concatenate([np.ones((matriz_datos_RLP.shape[0], 1)), matriz_datos_RLP], axis=1)\n",
    "\n",
    "\n",
    "#Normalizamos todos, menos el primer valor de cada ejemplo\n",
    "\n",
    "matriz_datos_RLP[:, 1:] = (matriz_datos_RLP[:, 1:] - mu_RLP) / sigma_RLP\n",
    "\n",
    "\n",
    "#Calculamos la Y predicha de los 11 ejemplos de prediccion\n",
    "for datos in matriz_datos_RLP:\n",
    "    y_pre_RLP.append(np.dot(datos, theta_RLP.T))\n",
    "\n",
    "matriz_datos_RLP_copy = np.column_stack((matriz_datos_RLP_copy, y_pre_RLP))\n",
    "\n",
    "nombres_columnas = ['bedrooms','bathrooms','sqft_living','sqft_lot','floors','waterfront','view','condition','grade','sqft_above','sqft_basement','yr_built','yr_renovated','zipcode','lat','long','sqft_living15','sqft_lot15','Price']\n",
    "\n",
    "# Convertir la matriz en una lista de listas\n",
    "datos_para_tabla = matriz_datos_RLP_copy.tolist()\n",
    "\n",
    "print(len(matriz_datos_RLM[0]))\n",
    "print(len(matriz_datos_RLM_copy[0]))\n",
    "\n",
    "# Imprimir la tabla\n",
    "print(tabulate(datos_para_tabla, headers=nombres_columnas, tablefmt='grid'))"
   ]
  },
  {
   "cell_type": "markdown",
   "metadata": {},
   "source": [
    "#### 1.2.6 Validaciones\n",
    "Para hacer las validaciones correspondientes, primero se crea la funcion del **Mean squeared error**\n",
    "\n",
    "Siguiendo el consejo de 80/20, donde 80% es para la fase de entrenamiento, y 20% es para la fase de prueba.\n",
    "\n",
    "haciendo calculo del error cuadratico medio:"
   ]
  },
  {
   "cell_type": "code",
   "execution_count": 81,
   "metadata": {},
   "outputs": [
    {
     "name": "stdout",
     "output_type": "stream",
     "text": [
      "Error Cuadrático Medio (MSE) = 39756473197.06052\n",
      "Raíz del Error Cuadrático Medio (RMSE) = 199390.25351571353\n"
     ]
    }
   ],
   "source": [
    "poly = PolynomialFeatures(degree=2)\n",
    "#hacemos una copia de y_train y y_test para usarlo en la regresion polinomial\n",
    "X_testRLP = poly.fit_transform(X_testRLP)\n",
    "\n",
    "# Normalizamos todos, menos el primer valor de cada ejemplo porque este contiene los unos\n",
    "X_testRLP = (X_testRLP - mu_RLP) / sigma_RLP\n",
    "\n",
    "#Concatenamos de unos a la primera posicion del X_test\n",
    "X_testRLP_ready = np.concatenate([np.ones((m_test_RLP, 1)), X_testRLP], axis=1)\n",
    "\n",
    "#creamos un array que almacenara cada una de las y_predicha\n",
    "y_predicha_RLP = []\n",
    "for data_RLP in X_testRLP_ready:\n",
    "    y_predicha_RLP.append(np.dot(data_RLP, theta_RLP))\n",
    "\n",
    "mse_RLP = mean_squared_error(y_predicha_RLP, y_testRLP)\n",
    "#calculamos el error cuadratico medio:\n",
    "#calculamos el error cuadratico medio:\n",
    "print('Error Cuadrático Medio (MSE) = ' + str(mse_RLP))\n",
    "print('Raíz del Error Cuadrático Medio (RMSE) = ' + str(np.sqrt(mse_RLP)))"
   ]
  },
  {
   "cell_type": "markdown",
   "metadata": {},
   "source": [
    "### 1.3 Ecuacion de la normal\n",
    "\n",
    "Utilizada en el contexto de la regresión lineal para calcular los parámetros del modelo de regresión directamente a partir de los datos de entrenamiento. Se denomina \"normal\" porque se deriva de la \"ecuación normal\" de un sistema de ecuaciones lineales."
   ]
  },
  {
   "cell_type": "markdown",
   "metadata": {},
   "source": [
    "#### 1.3.1 Agregando la columna de unos a la matriz $X$ para tener el termino de intersección"
   ]
  },
  {
   "cell_type": "code",
   "execution_count": 82,
   "metadata": {},
   "outputs": [
    {
     "name": "stdout",
     "output_type": "stream",
     "text": [
      "X_ren[:,0]  X_ren[:, 1]  X_ren[:, 2]  X_ren[:, 3]  X_ren[:, 4]  X_ren[:, 5]  X_ren[:, 6]  X_ren[:, 7]  X_ren[:, 8]  X_ren[:, 9]  X_ren[:, 10]  X_ren[:, 11]  X_ren[:, 12]  X_ren[:, 13]  X_ren[:, 14]  X_ren[:, 15]  X_ren[:, 16]  X_ren[:, 17]  X_ren[:, 18]\n",
      "--------------------------------------------------------------------------------------------------------------------------------------------------------------------------------------------------------------------------------------------------------------------\n",
      "         1           2           2           1390          6670           1            0             0           3             6          720           670         1941             0          98115           48          -122            920          6380\n",
      "         1           3           3           2540          8604           2            0             0           3             8         2540             0         1991             0          98092           47          -122           2260          7438\n",
      "         1           3           3           3280         10558           1            0             2           4             9         2040          1240         1979             0          98006           48          -122           3150          9998\n",
      "         1           4           3           2060         21344           1            0             0           2             8         1460           600         1978             0          98005           48          -122           2060         16088\n",
      "         1           3           1           1060          9241           1            0             0           4             7         1060             0         1956             0          98133           48          -122           1900          6484\n",
      "         1           2           1            800          4046           1            0             0           3             7          800             0         1940             0          98117           48          -122           1400          4046\n",
      "         1           3           2           1560         14288           1            0             0           3             6          780           780         1944             0          98125           48          -122           1320          8928\n",
      "         1           4           2           2040         11850           1            0             2           3             7         1020          1020         1959             0          98033           48          -122           2040          8504\n",
      "         1           5           2           3750         91681           2            1             4           3            10         3750             0         1925             0          98118           48          -122           3540         24293\n",
      "         1           2           2           1440          4225           1            0             0           3             8         1440             0         2005             0          98053           48          -122           1680          6200\n"
     ]
    }
   ],
   "source": [
    "# Cargamos los datos utilizando pandasd\n",
    "data = pd.read_csv('kc_house_data.csv', delimiter=',')\n",
    "\n",
    "#retiramos el id y la fecha del las columnas, quitamos el precio ya que ira a el vector Y, tambien quitamos los titulos\n",
    "dataset = data.drop(['id', 'date'], axis=1).astype(float)\n",
    "\n",
    "# Seleccionar aleatoriamente 20,000 ejemplos\n",
    "sampled_dataset = dataset.sample(n=20000, random_state=42)\n",
    "\n",
    "train_dataset, test_dataset = train_test_split(sampled_dataset, test_size=0.2, random_state=42)\n",
    "\n",
    "X_testEc = test_dataset.drop(['price'], axis=1).values\n",
    "y_testEc = test_dataset['price'].values\n",
    "m_testEc = len(y_testEc)\n",
    "\n",
    "# Seleccionamos las columnas para X y la columna 'price' para Y\n",
    "X_trainEc = train_dataset.drop(['price'], axis=1).values\n",
    "y_trainEc = train_dataset['price'].values\n",
    "m_trainEc = len(y_trainEc)\n",
    "\n",
    "#añadimos unos a la X\n",
    "X_ren = np.concatenate([np.ones((m_trainEc, 1)), X_trainEc], axis=1)\n",
    "\n",
    "#Imprimimos X_ready\n",
    "print('{:>8s}{:>10s}{:>10s}{:>10s}{:>8s}{:>8s}{:>8s}{:>8s}{:>6s}{:>10s}{:>10s}{:>10s}{:>10s}{:>10s}{:>10s}{:>10s}{:>10s}{:>10s}{:>10s}'.format(\n",
    "    'X_ren[:,0]', '  X_ren[:, 1]', '  X_ren[:, 2]', '  X_ren[:, 3]', '  X_ren[:, 4]', '  X_ren[:, 5]', '  X_ren[:, 6]', '  X_ren[:, 7]', '  X_ren[:, 8]', '  X_ren[:, 9]', '  X_ren[:, 10]', '  X_ren[:, 11]',\n",
    "    '  X_ren[:, 12]', '  X_ren[:, 13]', '  X_ren[:, 14]', '  X_ren[:, 15]', '  X_ren[:, 16]', '  X_ren[:, 17]', '  X_ren[:, 18]'\n",
    "))\n",
    "print('-' * 260)\n",
    "\n",
    "for i in range(10):\n",
    "    print('{:10.0f}{:12.0f}{:12.0f}{:15.0f}{:14.0f}{:12.0f}{:13.0f}{:14.0f}{:12.0f}{:14.0f}{:13.0f}{:14.0f}{:13.0f}{:14.0f}{:15.0f}{:13.0f}{:14.0f}{:15.0f}{:14.0f}'.format(\n",
    "        X_ren[i, 0], X_ren[i, 1], X_ren[i, 2], X_ren[i, 3], X_ren[i, 4], X_ren[i, 5], X_ren[i, 6], X_ren[i, 7], X_ren[i, 8], X_ren[i, 9], X_ren[i, 10], X_ren[i, 11],\n",
    "        X_ren[i, 12], X_ren[i, 13], X_ren[i, 14], X_ren[i, 15], X_ren[i, 16], X_ren[i, 17], X_ren[i, 18]\n",
    "    ))"
   ]
  },
  {
   "cell_type": "markdown",
   "metadata": {},
   "source": [
    "#### 1.3.2 Calculando Theta"
   ]
  },
  {
   "cell_type": "code",
   "execution_count": 83,
   "metadata": {},
   "outputs": [
    {
     "name": "stdout",
     "output_type": "stream",
     "text": [
      "########################################################################################################\n",
      "Los valores de theta usando la ecuacion de la normal es calculados son:\n",
      "theta 1: 2693979.917729182\n",
      "theta 2: -38736.85779052556\n",
      "theta 3: 31626.94094242448\n",
      "theta 4: 120.97182354138238\n",
      "theta 5: 0.02176411252180918\n",
      "theta 6: 21617.720152530528\n",
      "theta 7: 62327.35927787108\n",
      "theta 8: 62940.69827965201\n",
      "theta 9: 17709.42778153056\n",
      "theta 10: 99429.60939657292\n",
      "theta 11: 64.21046443993296\n",
      "theta 12: 56.76153198926804\n",
      "theta 13: -3171.3563311629127\n",
      "theta 14: 22.195685971886096\n",
      "theta 15: -70.42016517903511\n",
      "theta 16: 125587.59564667387\n",
      "theta 17: -30925.407833100686\n",
      "theta 18: 33.449250353321325\n",
      "theta 19: -0.5077583847040019\n",
      "########################################################################################################\n"
     ]
    }
   ],
   "source": [
    "# Calculamos thea haciendo uso de la funcion\n",
    "lambda_Ec = 1000\n",
    "theta_Ec = calcularThethaEcuacionNormalCR(X_ren, y_trainEc, lambda_Ec);\n",
    "\n",
    "print(f\"########################################################################################################\")\n",
    "print(\"Los valores de theta usando la ecuacion de la normal es calculados son:\")\n",
    "i = 0\n",
    "for thtEc in theta_Ec:\n",
    "    i += 1\n",
    "    print(f\"theta {i}: {thtEc}\")\n",
    "print(f\"########################################################################################################\")"
   ]
  },
  {
   "cell_type": "markdown",
   "metadata": {},
   "source": [
    "Haciendo pequeña prueba"
   ]
  },
  {
   "cell_type": "code",
   "execution_count": 84,
   "metadata": {},
   "outputs": [
    {
     "name": "stdout",
     "output_type": "stream",
     "text": [
      "La prediccion de la casa es de: 274693.1375955767\n"
     ]
    }
   ],
   "source": [
    "X_arrayEc = np.array([1,3,1,1180,5650,1,0,0,3,7,1180,0,1955,0,98178,47.5112,-122.257,1340,5650])\n",
    "\n",
    "prediccion_Ec = np.dot(X_arrayEc, theta_Ec)\n",
    "\n",
    "print (f\"La prediccion de la casa es de: {prediccion_Ec}\")"
   ]
  },
  {
   "cell_type": "markdown",
   "metadata": {},
   "source": [
    "#### 1.3.3 Ejemplos de Predicciones haciendo uso de la Ecuacion de la normal\n",
    "\n",
    "Se creo una matriz con 11 ejemplos, donde se hace las predicciones correpondientes:"
   ]
  },
  {
   "cell_type": "code",
   "execution_count": 85,
   "metadata": {},
   "outputs": [
    {
     "name": "stdout",
     "output_type": "stream",
     "text": [
      "+----+------------+-------------+---------------+------------+----------+--------------+--------+-------------+---------+--------------+-----------------+------------+----------------+-----------+---------+----------+-----------------+--------------+---------+\n",
      "|    |   bedrooms |   bathrooms |   sqft_living |   sqft_lot |   floors |   waterfront |   view |   condition |   grade |   sqft_above |   sqft_basement |   yr_built |   yr_renovated |   zipcode |     lat |     long |   sqft_living15 |   sqft_lot15 |   Price |\n",
      "+====+============+=============+===============+============+==========+==============+========+=============+=========+==============+=================+============+================+===========+=========+==========+=================+==============+=========+\n",
      "|  1 |          3 |        1    |          1180 |       5650 |      1   |            0 |      0 |           3 |       7 |         1180 |               0 |       1955 |              0 |     98178 | 47.5112 | -122.257 |            1340 |         5650 |  274693 |\n",
      "+----+------------+-------------+---------------+------------+----------+--------------+--------+-------------+---------+--------------+-----------------+------------+----------------+-----------+---------+----------+-----------------+--------------+---------+\n",
      "|  1 |          2 |        0.75 |          1020 |       1076 |      2   |            0 |      0 |           3 |       7 |         1020 |               0 |       2008 |              0 |     98144 | 47.5941 | -122.299 |            1020 |         1357 |  134911 |\n",
      "+----+------------+-------------+---------------+------------+----------+--------------+--------+-------------+---------+--------------+-----------------+------------+----------------+-----------+---------+----------+-----------------+--------------+---------+\n",
      "|  1 |          4 |        2.75 |          3555 |       6565 |      2   |            0 |      0 |           3 |       9 |         3555 |               0 |       2014 |              0 |     98053 | 47.6847 | -122.017 |            3625 |         5637 |  864106 |\n",
      "+----+------------+-------------+---------------+------------+----------+--------------+--------+-------------+---------+--------------+-----------------+------------+----------------+-----------+---------+----------+-----------------+--------------+---------+\n",
      "|  1 |          2 |        1    |          1040 |      13920 |      1   |            0 |      0 |           3 |       6 |         1040 |               0 |       1973 |           2020 |     98198 | 47.3756 | -122.306 |            1100 |         7575 |  150078 |\n",
      "+----+------------+-------------+---------------+------------+----------+--------------+--------+-------------+---------+--------------+-----------------+------------+----------------+-----------+---------+----------+-----------------+--------------+---------+\n",
      "|  1 |          4 |        1.75 |          1860 |       7350 |      1   |            0 |      0 |           4 |       7 |         1090 |             770 |       1977 |           2000 |     98031 | 47.3979 | -122.174 |            1710 |         7350 |  377302 |\n",
      "+----+------------+-------------+---------------+------------+----------+--------------+--------+-------------+---------+--------------+-----------------+------------+----------------+-----------+---------+----------+-----------------+--------------+---------+\n",
      "|  1 |          1 |        1    |          1060 |      54846 |      1   |            1 |      4 |           3 |       5 |         1060 |               0 |       1935 |              0 |     98070 | 47.4716 | -122.445 |            2258 |        31762 |  535568 |\n",
      "+----+------------+-------------+---------------+------------+----------+--------------+--------+-------------+---------+--------------+-----------------+------------+----------------+-----------+---------+----------+-----------------+--------------+---------+\n",
      "|  1 |          4 |        1.5  |          2220 |       9496 |      1   |            0 |      0 |           4 |       7 |         1490 |             730 |       1954 |              0 |     98004 | 47.6233 | -122.206 |            1800 |         8286 |  498689 |\n",
      "+----+------------+-------------+---------------+------------+----------+--------------+--------+-------------+---------+--------------+-----------------+------------+----------------+-----------+---------+----------+-----------------+--------------+---------+\n",
      "|  1 |          4 |        1.5  |          1560 |       6534 |      1   |            0 |      0 |           4 |       7 |         1560 |               0 |       1962 |              0 |     98007 | 47.6012 | -122.152 |            1560 |         6969 |  344455 |\n",
      "+----+------------+-------------+---------------+------------+----------+--------------+--------+-------------+---------+--------------+-----------------+------------+----------------+-----------+---------+----------+-----------------+--------------+---------+\n",
      "|  1 |          5 |        3    |          2510 |       4125 |      1.5 |            0 |      3 |           5 |       8 |         1590 |             920 |       1925 |              0 |     98144 | 47.5968 | -122.29  |            2190 |         5415 |  972216 |\n",
      "+----+------------+-------------+---------------+------------+----------+--------------+--------+-------------+---------+--------------+-----------------+------------+----------------+-----------+---------+----------+-----------------+--------------+---------+\n",
      "|  1 |          3 |        2.5  |          1680 |       2096 |      2   |            0 |      0 |           3 |       8 |         1380 |             300 |       2008 |              0 |     98117 | 47.6904 | -122.37  |            1360 |         2096 |  398147 |\n",
      "+----+------------+-------------+---------------+------------+----------+--------------+--------+-------------+---------+--------------+-----------------+------------+----------------+-----------+---------+----------+-----------------+--------------+---------+\n",
      "|  1 |          3 |        2.25 |          2020 |       3600 |      2   |            0 |      0 |           3 |       8 |         2020 |               0 |       1998 |              0 |     98033 | 47.6678 | -122.165 |            2070 |         3699 |  506856 |\n",
      "+----+------------+-------------+---------------+------------+----------+--------------+--------+-------------+---------+--------------+-----------------+------------+----------------+-----------+---------+----------+-----------------+--------------+---------+\n"
     ]
    }
   ],
   "source": [
    "matriz_datosEc = np.array([\n",
    "    [1,3,1,1180,5650,1,0,0,3,7,1180,0,1955,0,98178,47.5112,-122.257,1340,5650],\n",
    "    [1,2,0.75,1020,1076,2,0,0,3,7,1020,0,2008,0,98144,47.5941,-122.299,1020,1357],\n",
    "    [1,4,2.75,3555,6565,2,0,0,3,9,3555,0,2014,0,98053,47.6847,-122.017,3625,5637],\n",
    "    [1,2,1,1040,13920,1,0,0,3,6,1040,0,1973,2020,98198,47.3756,-122.306,1100,7575],\n",
    "    [1,4,1.75,1860,7350,1,0,0,4,7,1090,770,1977,2000,98031,47.3979,-122.174,1710,7350],\n",
    "    [1,1,1,1060,54846,1,1,4,3,5,1060,0,1935,0,98070,47.4716,-122.445,2258,31762],\n",
    "    [1,4,1.5,2220,9496,1,0,0,4,7,1490,730,1954,0,98004,47.6233,-122.206,1800,8286],\n",
    "    [1,4,1.5,1560,6534,1,0,0,4,7,1560,0,1962,0,98007,47.6012,-122.152,1560,6969],\n",
    "    [1,5,3,2510,4125,1.5,0,3,5,8,1590,920,1925,0,98144,47.5968,-122.29,2190,5415],\n",
    "    [1,3,2.5,1680,2096,2,0,0,3,8,1380,300,2008,0,98117,47.6904,-122.37,1360,2096],\n",
    "    [1,3,2.25,2020,3600,2,0,0,3,8,2020,0,1998,0,98033,47.6678,-122.165,2070,3699]\n",
    "])\n",
    "\n",
    "#creamos un vector parta almacenar cada Y predicha\n",
    "y_pre_Ec = []\n",
    "#Calculamos la Y predicha de los 11 ejemplos de prediccion\n",
    "for datosEc in matriz_datosEc:\n",
    "    y_pre_Ec.append(np.dot(datosEc, theta_Ec))\n",
    "\n",
    "matriz_datosEc = np.column_stack((matriz_datosEc, y_pre_Ec))\n",
    "\n",
    "nombres_columnas = ['bedrooms','bathrooms','sqft_living','sqft_lot','floors','waterfront','view','condition','grade','sqft_above','sqft_basement','yr_built','yr_renovated','zipcode','lat','long','sqft_living15','sqft_lot15','Price']\n",
    "\n",
    "# Convertir la matriz en una lista de listas\n",
    "datos_para_tabla = matriz_datosEc.tolist()\n",
    "\n",
    "# Imprimir la tabla\n",
    "print(tabulate(datos_para_tabla, headers=nombres_columnas, tablefmt='grid'))"
   ]
  },
  {
   "cell_type": "markdown",
   "metadata": {},
   "source": [
    "#### 1.3.4 Validaciones\n",
    "Para hacer las validaciones correspondientes, primero se crea la funcion del **Mean squeared error**\n",
    "\n",
    "Siguiendo el consejo de 80/20, donde 80% es para la fase de entrenamiento, y 20% es para la fase de prueba."
   ]
  },
  {
   "cell_type": "code",
   "execution_count": 86,
   "metadata": {},
   "outputs": [
    {
     "name": "stdout",
     "output_type": "stream",
     "text": [
      "Error Cuadrático Medio (MSE) = 46140716256.15447\n",
      "Raíz del Error Cuadrático Medio (RMSE) = 214803.90186436204\n"
     ]
    }
   ],
   "source": [
    "#Concatenamos de unos a la primera posicion del X_test\n",
    "X_ready_testEc = np.concatenate([np.ones((m_testEc, 1)), X_testEc], axis=1)\n",
    "\n",
    "#creamos un array que almacenara cada una de las y_predicha\n",
    "y_predicha_Ec = []\n",
    "for data_test_ready in X_ready_testEc:\n",
    "    y_predicha_Ec.append(np.dot(data_test_ready, theta_Ec))\n",
    "\n",
    "#calculamos el error cuadratico medio:\n",
    "mse_Ec = mean_squared_error(y_predicha_Ec, y_testEc)\n",
    "#calculamos el error cuadratico medio:\n",
    "print('Error Cuadrático Medio (MSE) = ' + str(mse_Ec))\n",
    "print('Raíz del Error Cuadrático Medio (RMSE) = ' + str(np.sqrt(mse_Ec)))"
   ]
  },
  {
   "cell_type": "markdown",
   "metadata": {},
   "source": [
    "## 2. Usando sin regularizacion"
   ]
  },
  {
   "cell_type": "markdown",
   "metadata": {},
   "source": [
    "En esta parte del laboratorio no se usara la parte de regularizacion, esto para ver como es el comportamiento del modelo."
   ]
  },
  {
   "cell_type": "markdown",
   "metadata": {},
   "source": [
    "### 2.1 regresion lineal multivariable"
   ]
  },
  {
   "cell_type": "code",
   "execution_count": 87,
   "metadata": {},
   "outputs": [],
   "source": [
    "#hacemos una copia de y_train y y_test para usarlo en la regresion lineal multivariable\n",
    "\n",
    "#estos datos seran usados para el entrenamiento\n",
    "X_testRLM = X_test.copy()\n",
    "y_testRLM = y_test.copy()\n",
    "m_test_RLM = len(y_testRLM)\n",
    "\n",
    "#estos datos seran usados para el test\n",
    "X_trainRLM = X_train.copy()\n",
    "y_trainRLM = y_train.copy()\n",
    "m_train_RLM = len(y_trainRLM)"
   ]
  },
  {
   "cell_type": "markdown",
   "metadata": {},
   "source": [
    "#### 2.1.1 Normalizacion de las caracteristicas\n",
    "\n",
    "Se hace uso de la funcion de `featureNormalize(X) ` donde se recibe un parametro de tipo matriz para normalizar cada dato dentro de ella, retornandome la **matriz normalizda**, **sigma(desviacion estandar)**, y mi **mu(media)**."
   ]
  },
  {
   "cell_type": "code",
   "execution_count": 88,
   "metadata": {},
   "outputs": [
    {
     "name": "stdout",
     "output_type": "stream",
     "text": [
      "    X[:,0]   X[:, 1]   X[:, 2]   X[:, 3]   X[:, 4]   X[:, 5]   X[:, 6]   X[:, 7]   X[:, 8]   X[:, 9]  X[:, 10]  X[:, 11]  X[:, 12]  X[:, 13]  X[:, 14]  X[:, 15]  X[:, 16]  X[:, 17]\n",
      "------------------------------------------------------------------------------------------------------------------------------------------------------------------------------------\n",
      "    -0.395    -0.474    -0.324    -0.044    -0.920    -0.085    -0.306     0.909     1.150    -0.007    -0.656     0.404    -0.208    -0.675    -1.397     0.442     1.126     0.013\n",
      "    -1.469    -1.453    -1.184    -0.286    -0.920    -0.085    -0.306    -0.625    -1.413    -1.200    -0.200    -1.431    -0.208     0.751    -0.060    -0.540    -1.047    -0.281\n",
      "    -0.395    -1.453    -1.095    -0.188     0.002    -0.085    -0.306    -0.625    -1.413    -0.969    -0.451    -0.989    -0.208     1.276    -0.553    -0.860    -1.193    -0.179\n",
      "    -0.395     0.178     0.018    -0.188    -0.920    -0.085    -0.306     0.909    -0.559    -0.616     1.190     0.200    -0.208    -0.881    -1.194     0.300    -0.268    -0.195\n",
      "    -1.469     0.504    -0.367    -0.344     0.923    -0.085    -0.306    -0.625     0.296    -0.414     0.016     1.219    -0.208    -0.825     1.040     0.037     0.157    -0.083\n",
      "    -0.395    -0.474     0.293     0.954     0.002    -0.085    -0.306    -0.625     0.296    -0.336     1.236     0.234    -0.208    -0.956    -0.547     1.275     0.113     2.355\n",
      "     1.752     0.830    -0.037    -0.188    -0.920    -0.085    -0.306     0.909    -0.559    -0.713     1.258    -0.072    -0.208    -0.825     1.218     0.300    -0.665    -0.190\n",
      "     1.752     0.178     1.373    -0.043    -0.920    -0.085     2.320     0.909     1.150     0.139     2.580    -0.241    -0.208    -0.937     1.435    -0.390     1.229     0.015\n",
      "    -0.395    -0.474    -0.346    -0.165    -0.920    -0.085    -0.306     0.909     0.296    -0.397     0.028    -0.377    -0.208     1.088    -0.179    -1.252    -0.004    -0.157\n",
      "    -0.395     0.504    -0.511    -0.252     0.923    -0.085    -0.306    -0.625    -0.559    -0.214    -0.656     1.117    -0.208    -0.750    -1.279     1.218    -0.283    -0.327\n"
     ]
    }
   ],
   "source": [
    "#introductimos los datos a la funcion de normalizacion\n",
    "X_norm_RLM, mu_RLM, sigma_RLM = featureNormalize(X_trainRLM)\n",
    "\n",
    "# imprimimos algunos valores de X_norm\n",
    "print('{:>10s}{:>10s}{:>10s}{:>10s}{:>10s}{:>10s}{:>10s}{:>10s}{:>10s}{:>10s}{:>10s}{:>10s}{:>10s}{:>10s}{:>10s}{:>10s}{:>10s}{:>10s}'.format(\n",
    "    'X[:,0]', 'X[:, 1]', 'X[:, 2]', 'X[:, 3]', 'X[:, 4]', 'X[:, 5]', 'X[:, 6]', 'X[:, 7]', 'X[:, 8]', 'X[:, 9]', 'X[:, 10]', 'X[:, 11]',\n",
    "    'X[:, 12]', 'X[:, 13]', 'X[:, 14]', 'X[:, 15]', 'X[:, 16]', 'X[:, 17]'\n",
    "))\n",
    "print('-' * 180)\n",
    "\n",
    "for i in range(10):\n",
    "    print('{:10.3f}{:10.3f}{:10.3f}{:10.3f}{:10.3f}{:10.3f}{:10.3f}{:10.3f}{:10.3f}{:10.3f}{:10.3f}{:10.3f}{:10.3f}{:10.3f}{:10.3f}{:10.3f}{:10.3f}{:10.3f}'.format(\n",
    "        X_norm_RLM[i, 0], \n",
    "        X_norm_RLM[i, 1], \n",
    "        X_norm_RLM[i, 2], \n",
    "        X_norm_RLM[i, 3], \n",
    "        X_norm_RLM[i, 4], \n",
    "        X_norm_RLM[i, 5], \n",
    "        X_norm_RLM[i, 6], \n",
    "        X_norm_RLM[i, 7], \n",
    "        X_norm_RLM[i, 8], \n",
    "        X_norm_RLM[i, 9], \n",
    "        X_norm_RLM[i, 10], \n",
    "        X_norm_RLM[i, 11],\n",
    "        X_norm_RLM[i, 12],\n",
    "        X_norm_RLM[i, 13], \n",
    "        X_norm_RLM[i, 14], \n",
    "        X_norm_RLM[i, 15], \n",
    "        X_norm_RLM[i, 16], \n",
    "        X_norm_RLM[i, 17],))"
   ]
  },
  {
   "cell_type": "markdown",
   "metadata": {},
   "source": [
    "#### 2.1.2 Agregamos la columna de unos a nuestra matriz\n",
    "\n",
    "Agregamos nuestra variable de sesgo que sera nuestra columna de unos."
   ]
  },
  {
   "cell_type": "code",
   "execution_count": 89,
   "metadata": {},
   "outputs": [
    {
     "name": "stdout",
     "output_type": "stream",
     "text": [
      "    X[:,0]   X[:, 1]   X[:, 2]   X[:, 3]   X[:, 4]   X[:, 5]   X[:, 6]   X[:, 7]   X[:, 8]   X[:, 9]  X[:, 10]  X[:, 11]  X[:, 12]  X[:, 13]  X[:, 14]  X[:, 15]  X[:, 16]  X[:, 17]  X[:, 18]\n",
      "------------------------------------------------------------------------------------------------------------------------------------------------------------------------------------\n",
      "     1.000    -0.395    -0.474    -0.324    -0.044    -0.920    -0.085    -0.306     0.909     1.150    -0.007    -0.656     0.404    -0.208    -0.675    -1.397     0.442     1.126     0.013\n",
      "     1.000    -1.469    -1.453    -1.184    -0.286    -0.920    -0.085    -0.306    -0.625    -1.413    -1.200    -0.200    -1.431    -0.208     0.751    -0.060    -0.540    -1.047    -0.281\n",
      "     1.000    -0.395    -1.453    -1.095    -0.188     0.002    -0.085    -0.306    -0.625    -1.413    -0.969    -0.451    -0.989    -0.208     1.276    -0.553    -0.860    -1.193    -0.179\n",
      "     1.000    -0.395     0.178     0.018    -0.188    -0.920    -0.085    -0.306     0.909    -0.559    -0.616     1.190     0.200    -0.208    -0.881    -1.194     0.300    -0.268    -0.195\n",
      "     1.000    -1.469     0.504    -0.367    -0.344     0.923    -0.085    -0.306    -0.625     0.296    -0.414     0.016     1.219    -0.208    -0.825     1.040     0.037     0.157    -0.083\n",
      "     1.000    -0.395    -0.474     0.293     0.954     0.002    -0.085    -0.306    -0.625     0.296    -0.336     1.236     0.234    -0.208    -0.956    -0.547     1.275     0.113     2.355\n",
      "     1.000     1.752     0.830    -0.037    -0.188    -0.920    -0.085    -0.306     0.909    -0.559    -0.713     1.258    -0.072    -0.208    -0.825     1.218     0.300    -0.665    -0.190\n",
      "     1.000     1.752     0.178     1.373    -0.043    -0.920    -0.085     2.320     0.909     1.150     0.139     2.580    -0.241    -0.208    -0.937     1.435    -0.390     1.229     0.015\n",
      "     1.000    -0.395    -0.474    -0.346    -0.165    -0.920    -0.085    -0.306     0.909     0.296    -0.397     0.028    -0.377    -0.208     1.088    -0.179    -1.252    -0.004    -0.157\n",
      "     1.000    -0.395     0.504    -0.511    -0.252     0.923    -0.085    -0.306    -0.625    -0.559    -0.214    -0.656     1.117    -0.208    -0.750    -1.279     1.218    -0.283    -0.327\n"
     ]
    }
   ],
   "source": [
    "X_ready_RLM = np.concatenate([np.ones((m_train_RLM, 1)), X_norm_RLM], axis=1)\n",
    "\n",
    "# imprimimos algunos valores de X_norm\n",
    "print('{:>10s}{:>10s}{:>10s}{:>10s}{:>10s}{:>10s}{:>10s}{:>10s}{:>10s}{:>10s}{:>10s}{:>10s}{:>10s}{:>10s}{:>10s}{:>10s}{:>10s}{:>10s}{:>10s}'.format(\n",
    "    'X[:,0]', 'X[:, 1]', 'X[:, 2]', 'X[:, 3]', 'X[:, 4]', 'X[:, 5]', 'X[:, 6]', 'X[:, 7]', 'X[:, 8]', 'X[:, 9]', 'X[:, 10]', 'X[:, 11]',\n",
    "    'X[:, 12]', 'X[:, 13]', 'X[:, 14]', 'X[:, 15]', 'X[:, 16]', 'X[:, 17]', 'X[:, 18]'\n",
    "))\n",
    "print('-' * 180)\n",
    "\n",
    "for i in range(10):\n",
    "    print('{:10.3f}{:10.3f}{:10.3f}{:10.3f}{:10.3f}{:10.3f}{:10.3f}{:10.3f}{:10.3f}{:10.3f}{:10.3f}{:10.3f}{:10.3f}{:10.3f}{:10.3f}{:10.3f}{:10.3f}{:10.3f}{:10.3f}'.format(\n",
    "        X_ready_RLM[i, 0], \n",
    "        X_ready_RLM[i, 1], \n",
    "        X_ready_RLM[i, 2], \n",
    "        X_ready_RLM[i, 3], \n",
    "        X_ready_RLM[i, 4], \n",
    "        X_ready_RLM[i, 5], \n",
    "        X_ready_RLM[i, 6], \n",
    "        X_ready_RLM[i, 7], \n",
    "        X_ready_RLM[i, 8], \n",
    "        X_ready_RLM[i, 9], \n",
    "        X_ready_RLM[i, 10], \n",
    "        X_ready_RLM[i, 11],\n",
    "        X_ready_RLM[i, 12],\n",
    "        X_ready_RLM[i, 13], \n",
    "        X_ready_RLM[i, 14], \n",
    "        X_ready_RLM[i, 15], \n",
    "        X_ready_RLM[i, 16], \n",
    "        X_ready_RLM[i, 17],\n",
    "        X_ready_RLM[i, 18]))"
   ]
  },
  {
   "cell_type": "markdown",
   "metadata": {},
   "source": [
    "#### 2.1.3 Descenso por el gradiente\n",
    "\n",
    "El descenso por el gradiente con la función de costo es un algoritmo fundamental en el aprendizaje automático supervisado, especialmente en problemas de optimización de modelos. Su propósito principal es minimizar la función de costo (o pérdida) de un modelo mediante ajustes iterativos de los parámetros del modelo."
   ]
  },
  {
   "cell_type": "markdown",
   "metadata": {},
   "source": [
    "##### 2.1.3.1 Cálculo del costo $J(\\theta)$"
   ]
  },
  {
   "cell_type": "markdown",
   "metadata": {},
   "source": [
    "Haciendo uso de la funcion `calcularCostoSR(X,y,theta)` con un ejemplo de funcionamiento de la funcion computeCoste con dos valores diferentes de $\\theta$."
   ]
  },
  {
   "cell_type": "code",
   "execution_count": 90,
   "metadata": {},
   "outputs": [
    {
     "name": "stdout",
     "output_type": "stream",
     "text": [
      "19\n",
      "########################################################################################################\n",
      "con theta:[0.2 3.  0.2 0.1 3.  0.2 1.1 2.  0.7 0.8 5.8 0.9 0.7 2.  0.5 0.8 1.  0.2\n",
      " 0.3] se obtiene un costo de: 209918722469.17972\n",
      "########################################################################################################\n",
      "con theta:[0.1  2.   0.5  0.2  8.   0.7  1.3  8.   1.7  0.7  7.1  0.6  0.6  1.\n",
      " 0.3  0.9  2.   0.12 0.7 ] se obtiene un costo de: 209917518342.74518\n"
     ]
    }
   ],
   "source": [
    "theta_RLM=np.array([0.2, 3.0, 0.2,0.1, 3.0, 0.2,1.1, 2.0, 0.7,0.8, 5.8, 0.9,0.7, 2.0, 0.5,0.8, 1.0, 0.2,0.3])\n",
    "theta_RLM1=np.array([0.1, 2.0, 0.5,0.2, 8.0, 0.7,1.3, 8.0, 1.7,0.7, 7.1, 0.6,0.6, 1.0, 0.3,0.9, 2.0, 0.12,0.7])\n",
    "\n",
    "print(theta.shape[0])\n",
    "print(f\"########################################################################################################\")\n",
    "print(f\"con theta:{ theta_RLM } se obtiene un costo de: {calcularCostoSR(X_ready_RLM, y_trainRLM, theta_RLM)}\")\n",
    "print(f\"########################################################################################################\")\n",
    "print(f\"con theta:{ theta_RLM1 } se obtiene un costo de: {calcularCostoSR(X_ready_RLM, y_trainRLM, theta_RLM1)}\")"
   ]
  },
  {
   "cell_type": "markdown",
   "metadata": {},
   "source": [
    "##### 2.1.3.2Descenso por el gradiente\n",
    "\n",
    "Hacemos uso de la funcion para hacer el calculo del descenso por el gradiente y asi encontrar nuestras **Thetas**, ahora ya no recibira el parametro de ``lamda_``:"
   ]
  },
  {
   "cell_type": "markdown",
   "metadata": {},
   "source": [
    "Se inicializan los parametros $\\theta$ con 0 y la taza de aprendizaje $\\alpha$ con 0.00009."
   ]
  },
  {
   "cell_type": "code",
   "execution_count": 91,
   "metadata": {},
   "outputs": [
    {
     "name": "stdout",
     "output_type": "stream",
     "text": [
      "########################################################################################################\n",
      "Los valores de theta calculados son:\n",
      "theta 1: 504779.1501080341\n",
      "theta 2: -18119.190355848543\n",
      "theta 3: 30169.282961937464\n",
      "theta 4: 71312.73596737614\n",
      "theta 5: 2818.4074518078824\n",
      "theta 6: 7470.034713691754\n",
      "theta 7: 45469.80320892104\n",
      "theta 8: 43857.62535859122\n",
      "theta 9: 21926.776567094752\n",
      "theta 10: 87742.30180578487\n",
      "theta 11: 64111.514154491095\n",
      "theta 12: 27411.560264747117\n",
      "theta 13: -56095.4395173484\n",
      "theta 14: 15423.087765555643\n",
      "theta 15: -13138.933323754825\n",
      "theta 16: 79851.69917942701\n",
      "theta 17: -25331.818198262612\n",
      "theta 18: 41333.051678554795\n",
      "theta 19: -5619.496940121401\n",
      "########################################################################################################\n",
      "con un costo de: 20588012047.449326 \n",
      "la cantidad de theta son:  19\n"
     ]
    }
   ],
   "source": [
    "#creamos un theta con 19 columnas de ceros\n",
    "theta_RLM = np.zeros(len(X_ready_RLM[0]))\n",
    "\n",
    "#numero de iteraciones sera 1000000 y un alpha 0.00009\n",
    "num_ite_RLM = 3100\n",
    "alpha_RLM = 0.0009\n",
    "\n",
    "theta_RLM, J_historico_RLM = calcularDescensoGradienteSR(X_ready_RLM, y_trainRLM, theta_RLM, alpha_RLM, num_ite_RLM)\n",
    "print(\"########################################################################################################\")\n",
    "print(\"Los valores de theta calculados son:\")\n",
    "i = 0\n",
    "for tht in theta_RLM:\n",
    "    i += 1\n",
    "    print(f\"theta {i}: {tht}\")\n",
    "\n",
    "print(f\"########################################################################################################\")\n",
    "#mostramos el ultimo costo, este seria el mejor costo\n",
    "print(f\"con un costo de: { J_historico_RLM[-1]} \")\n",
    "print(\"la cantidad de theta son: \", theta.shape[0])"
   ]
  },
  {
   "cell_type": "markdown",
   "metadata": {},
   "source": [
    "#### 2.1.4 Grafica de la convergencia del costo\n",
    "graficamos el costo"
   ]
  },
  {
   "cell_type": "code",
   "execution_count": 92,
   "metadata": {},
   "outputs": [
    {
     "data": {
      "text/plain": [
       "Text(0, 0.5, 'Costo J')"
      ]
     },
     "execution_count": 92,
     "metadata": {},
     "output_type": "execute_result"
    },
    {
     "data": {
      "image/png": "[encoded data removed]",
      "text/plain": [
       "<Figure size 640x480 with 1 Axes>"
      ]
     },
     "metadata": {},
     "output_type": "display_data"
    }
   ],
   "source": [
    "pyplot.plot(np.arange(len(J_historico_RLM)), J_historico_RLM, lw=2)\n",
    "pyplot.title(\"Grafica de la convergencia del costo\")\n",
    "pyplot.xlabel('Numero de iteraciones')\n",
    "pyplot.ylabel('Costo J')"
   ]
  },
  {
   "cell_type": "markdown",
   "metadata": {},
   "source": [
    "##### 2.1.4.1 Grafica de la regresion lineal\n",
    "\n",
    "En esta parte se trazan los datos de entrenamiento y una línea que representa la regresión lineal ajustada a esos datos."
   ]
  },
  {
   "cell_type": "code",
   "execution_count": 93,
   "metadata": {},
   "outputs": [
    {
     "data": {
      "text/plain": [
       "<matplotlib.legend.Legend at 0x15a9fc347a0>"
      ]
     },
     "execution_count": 93,
     "metadata": {},
     "output_type": "execute_result"
    },
    {
     "data": {
      "image/png": "[encoded data removed]",
      "text/plain": [
       "<Figure size 640x480 with 1 Axes>"
      ]
     },
     "metadata": {},
     "output_type": "display_data"
    }
   ],
   "source": [
    "graficarDatos(X_ready_RLM[:, 1],  X_ready_RLM[:, 2] , \"X_ready_RLM_1\", \"X_ready_RLM_2\")\n",
    "\n",
    "pyplot.plot(X_ready_RLM[:,1], np.dot(X_ready_RLM, theta_RLM), '-')\n",
    "\n",
    "pyplot.legend(['Datos de entrenamiento', 'regresion lineal'])"
   ]
  },
  {
   "cell_type": "markdown",
   "metadata": {},
   "source": [
    "haciendo una pequeña prueba:"
   ]
  },
  {
   "cell_type": "code",
   "execution_count": 94,
   "metadata": {},
   "outputs": [
    {
     "name": "stdout",
     "output_type": "stream",
     "text": [
      "La prediccion de la casa es de: [189696.00534635]\n"
     ]
    }
   ],
   "source": [
    "X_arrayRLM = np.array([1,3,1,1180,5650,1,0,0,3,7,1180,0,1955,0,98178,47.5112,-122.257,1340,5650])\n",
    "X_arrayRLM = X_arrayRLM.reshape(1, -1)\n",
    "\n",
    "X_arrayRLM[:, 1:] = (X_arrayRLM[:, 1:] - mu_RLM) / sigma_RLM\n",
    "\n",
    "prediccion_RLM = np.dot(X_arrayRLM, theta_RLM)\n",
    "\n",
    "print (f\"La prediccion de la casa es de: {prediccion_RLM}\")"
   ]
  },
  {
   "cell_type": "markdown",
   "metadata": {},
   "source": [
    "#### 2.1.5 Ejemplos de Predicciones\n",
    "\n",
    "Se creo una matriz con 11 ejemplos, donde se hace las predicciones correspondientes:"
   ]
  },
  {
   "cell_type": "code",
   "execution_count": 95,
   "metadata": {},
   "outputs": [
    {
     "name": "stdout",
     "output_type": "stream",
     "text": [
      "20\n",
      "19\n",
      "+----+------------+-------------+---------------+------------+----------+--------------+--------+-------------+---------+--------------+-----------------+------------+----------------+-----------+---------+----------+-----------------+--------------+----------+\n",
      "|    |   bedrooms |   bathrooms |   sqft_living |   sqft_lot |   floors |   waterfront |   view |   condition |   grade |   sqft_above |   sqft_basement |   yr_built |   yr_renovated |   zipcode |     lat |     long |   sqft_living15 |   sqft_lot15 |    Price |\n",
      "+====+============+=============+===============+============+==========+==============+========+=============+=========+==============+=================+============+================+===========+=========+==========+=================+==============+==========+\n",
      "|  1 |          3 |        1    |          1180 |       5650 |      1   |            0 |      0 |           3 |       7 |         1180 |               0 |       1955 |              0 |     98178 | 47.5112 | -122.257 |            1340 |         5650 | 189696   |\n",
      "+----+------------+-------------+---------------+------------+----------+--------------+--------+-------------+---------+--------------+-----------------+------------+----------------+-----------+---------+----------+-----------------+--------------+----------+\n",
      "|  1 |          2 |        0.75 |          1020 |       1076 |      2   |            0 |      0 |           3 |       7 |         1020 |               0 |       2008 |              0 |     98144 | 47.5941 | -122.299 |            1020 |         1357 | 131909   |\n",
      "+----+------------+-------------+---------------+------------+----------+--------------+--------+-------------+---------+--------------+-----------------+------------+----------------+-----------+---------+----------+-----------------+--------------+----------+\n",
      "|  1 |          4 |        2.75 |          3555 |       6565 |      2   |            0 |      0 |           3 |       9 |         3555 |               0 |       2014 |              0 |     98053 | 47.6847 | -122.017 |            3625 |         5637 | 888692   |\n",
      "+----+------------+-------------+---------------+------------+----------+--------------+--------+-------------+---------+--------------+-----------------+------------+----------------+-----------+---------+----------+-----------------+--------------+----------+\n",
      "|  1 |          2 |        1    |          1040 |      13920 |      1   |            0 |      0 |           3 |       6 |         1040 |               0 |       1973 |           1867 |     98198 | 47.3756 | -122.306 |            1100 |         7575 |  61536.8 |\n",
      "+----+------------+-------------+---------------+------------+----------+--------------+--------+-------------+---------+--------------+-----------------+------------+----------------+-----------+---------+----------+-----------------+--------------+----------+\n",
      "|  1 |          4 |        1.75 |          1860 |       7350 |      1   |            0 |      0 |           4 |       7 |         1090 |             770 |       1977 |           1900 |     98031 | 47.3979 | -122.174 |            1710 |         7350 | 337669   |\n",
      "+----+------------+-------------+---------------+------------+----------+--------------+--------+-------------+---------+--------------+-----------------+------------+----------------+-----------+---------+----------+-----------------+--------------+----------+\n",
      "|  1 |          1 |        1    |          1060 |      54846 |      1   |            1 |      4 |           3 |       5 |         1060 |               0 |       1935 |              0 |     98070 | 47.4716 | -122.445 |            2258 |        31762 | 958745   |\n",
      "+----+------------+-------------+---------------+------------+----------+--------------+--------+-------------+---------+--------------+-----------------+------------+----------------+-----------+---------+----------+-----------------+--------------+----------+\n",
      "|  1 |          4 |        1.5  |          2220 |       9496 |      1   |            0 |      0 |           4 |       7 |         1490 |             730 |       1954 |              0 |     98004 | 47.6233 | -122.206 |            1800 |         8286 | 503007   |\n",
      "+----+------------+-------------+---------------+------------+----------+--------------+--------+-------------+---------+--------------+-----------------+------------+----------------+-----------+---------+----------+-----------------+--------------+----------+\n",
      "|  1 |          4 |        1.5  |          1560 |       6534 |      1   |            0 |      0 |           4 |       7 |         1560 |               0 |       1962 |              0 |     98007 | 47.6012 | -122.152 |            1560 |         6969 | 358003   |\n",
      "+----+------------+-------------+---------------+------------+----------+--------------+--------+-------------+---------+--------------+-----------------+------------+----------------+-----------+---------+----------+-----------------+--------------+----------+\n",
      "|  1 |          5 |        3    |          2510 |       4125 |      1.5 |            0 |      3 |           5 |       8 |         1590 |             920 |       1925 |              0 |     98144 | 47.5968 | -122.29  |            2190 |         5415 | 917762   |\n",
      "+----+------------+-------------+---------------+------------+----------+--------------+--------+-------------+---------+--------------+-----------------+------------+----------------+-----------+---------+----------+-----------------+--------------+----------+\n",
      "|  1 |          3 |        2.5  |          1680 |       2096 |      2   |            0 |      0 |           3 |       8 |         1380 |             300 |       2008 |              0 |     98117 | 47.6904 | -122.37  |            1360 |         2096 | 450553   |\n",
      "+----+------------+-------------+---------------+------------+----------+--------------+--------+-------------+---------+--------------+-----------------+------------+----------------+-----------+---------+----------+-----------------+--------------+----------+\n",
      "|  1 |          3 |        2.25 |          2020 |       3600 |      2   |            0 |      0 |           3 |       8 |         2020 |               0 |       1998 |              0 |     98033 | 47.6678 | -122.165 |            2070 |         3699 | 531254   |\n",
      "+----+------------+-------------+---------------+------------+----------+--------------+--------+-------------+---------+--------------+-----------------+------------+----------------+-----------+---------+----------+-----------------+--------------+----------+\n"
     ]
    }
   ],
   "source": [
    "#Creamos la matriz con 11 ejemplos para hacer la prueba predecir un precio de cada ejemplo:\n",
    "matriz_datos_RLM = np.array([\n",
    "    [1,3,1,1180,5650,1,0,0,3,7,1180,0,1955,0,98178,47.5112,-122.257,1340,5650],\n",
    "    [1,2,0.75,1020,1076,2,0,0,3,7,1020,0,2008,0,98144,47.5941,-122.299,1020,1357],\n",
    "    [1,4,2.75,3555,6565,2,0,0,3,9,3555,0,2014,0,98053,47.6847,-122.017,3625,5637],\n",
    "    [1,2,1,1040,13920,1,0,0,3,6,1040,0,1973,1867,98198,47.3756,-122.306,1100,7575],\n",
    "    [1,4,1.75,1860,7350,1,0,0,4,7,1090,770,1977,1900,98031,47.3979,-122.174,1710,7350],\n",
    "    [1,1,1,1060,54846,1,1,4,3,5,1060,0,1935,0,98070,47.4716,-122.445,2258,31762],\n",
    "    [1,4,1.5,2220,9496,1,0,0,4,7,1490,730,1954,0,98004,47.6233,-122.206,1800,8286],\n",
    "    [1,4,1.5,1560,6534,1,0,0,4,7,1560,0,1962,0,98007,47.6012,-122.152,1560,6969],\n",
    "    [1,5,3,2510,4125,1.5,0,3,5,8,1590,920,1925,0,98144,47.5968,-122.29,2190,5415],\n",
    "    [1,3,2.5,1680,2096,2,0,0,3,8,1380,300,2008,0,98117,47.6904,-122.37,1360,2096],\n",
    "    [1,3,2.25,2020,3600,2,0,0,3,8,2020,0,1998,0,98033,47.6678,-122.165,2070,3699]\n",
    "])\n",
    "\n",
    "#creamos un vector parta almacenar cada Y predicha\n",
    "y_pre_RLM = []\n",
    "matriz_datos_RLM_copy = matriz_datos_RLM.copy()\n",
    "\n",
    "#Normalizamos todos, menos el primer valor de cada ejemplo\n",
    "\n",
    "matriz_datos_RLM_copy[:, 1:] = (matriz_datos_RLM_copy[:, 1:] - mu_RLM) / sigma_RLM\n",
    "\n",
    "\n",
    "#Calculamos la Y predicha de los 11 ejemplos de prediccion\n",
    "for datos in matriz_datos_RLM_copy:\n",
    "    y_pre_RLM.append(np.dot(datos, theta_RLM))\n",
    "\n",
    "matriz_datos_RLM = np.column_stack((matriz_datos_RLM, y_pre_RLM))\n",
    "\n",
    "nombres_columnas = ['bedrooms','bathrooms','sqft_living','sqft_lot','floors','waterfront','view','condition','grade','sqft_above','sqft_basement','yr_built','yr_renovated','zipcode','lat','long','sqft_living15','sqft_lot15','Price']\n",
    "\n",
    "# Convertir la matriz en una lista de listas\n",
    "datos_para_tabla = matriz_datos_RLM.tolist()\n",
    "\n",
    "print(len(matriz_datos_RLM[0]))\n",
    "print(len(matriz_datos_RLM_copy[0]))\n",
    "\n",
    "# Imprimir la tabla\n",
    "print(tabulate(datos_para_tabla, headers=nombres_columnas, tablefmt='grid'))"
   ]
  },
  {
   "cell_type": "markdown",
   "metadata": {},
   "source": [
    "#### 2.1.6 Validaciones\n",
    "Para hacer las validaciones correspondientes, primero se crea la funcion del **Mean squeared error**\n",
    "\n",
    "Siguiendo el consejo de 80/20, donde 80% es para la fase de entrenamiento, y 20% es para la fase de prueba.\n",
    "\n",
    "haciendo calculo del error cuadratico medio:"
   ]
  },
  {
   "cell_type": "code",
   "execution_count": 96,
   "metadata": {},
   "outputs": [
    {
     "name": "stdout",
     "output_type": "stream",
     "text": [
      "Error Cuadrático Medio (MSE) = 47647558790.402115\n",
      "Raíz del Error Cuadrático Medio (RMSE) = 218283.2077609318\n"
     ]
    }
   ],
   "source": [
    "#Concatenamos de unos a la primera posicion del X_test\n",
    "X_testRLM_ready = np.concatenate([np.ones((m_test_RLM, 1)), X_testRLM], axis=1)\n",
    "\n",
    "# Normalizamos todos, menos el primer valor de cada ejemplo porque este contiene los unos\n",
    "X_testRLM_ready[:, 1:] = (X_testRLM_ready[:, 1:] - mu_RLM) / sigma_RLM\n",
    "\n",
    "#creamos un array que almacenara cada una de las y_predicha\n",
    "y_predicha_RLM = []\n",
    "for data_RLM in X_testRLM_ready:\n",
    "    y_predicha_RLM.append(np.dot(data_RLM, theta_RLM))\n",
    "\n",
    "mse_RLM = mean_squared_error(y_predicha_RLM, y_testRLM)\n",
    "#calculamos el error cuadratico medio:\n",
    "print('Error Cuadrático Medio (MSE) = ' + str(mse_RLM))\n",
    "print('Raíz del Error Cuadrático Medio (RMSE) = ' + str(np.sqrt(mse_RLM)))"
   ]
  },
  {
   "cell_type": "markdown",
   "metadata": {},
   "source": [
    "### 2.2 Regresion Polinomica"
   ]
  },
  {
   "cell_type": "markdown",
   "metadata": {},
   "source": [
    "haciendo uso de **PolynomialFeatures**:"
   ]
  },
  {
   "cell_type": "markdown",
   "metadata": {},
   "source": [
    "Carga de los datos para la regresion Polinomial:"
   ]
  },
  {
   "cell_type": "code",
   "execution_count": 97,
   "metadata": {},
   "outputs": [
    {
     "name": "stdout",
     "output_type": "stream",
     "text": [
      "la cantidad de columnas de X_trainRLP es de:  190\n",
      "la cantidad de ejemplos de X_trainRLP es de:  17290\n"
     ]
    }
   ],
   "source": [
    "#hacemos una copia de y_train y y_test para usarlo en la regresion lineal multivariable\n",
    "\n",
    "#estos datos seran usados para el entrenamiento\n",
    "X_testRLP = X_test.copy()\n",
    "y_testRLP = y_test.copy()\n",
    "m_test_RLP = len(y_testRLM)\n",
    "#estos datos seran usados para el test\n",
    "\n",
    "#hacemos uso de la libreria PolynomialFeatures para hacer la regresion polinomial de grado 2\n",
    "poly = PolynomialFeatures(degree=2)\n",
    "#hacemos una copia de y_train y y_test para usarlo en la regresion polinomial\n",
    "X_trainRLP = poly.fit_transform(X_train.copy())\n",
    "y_trainRLP = y_train.copy()\n",
    "m_train_RLP = len(y_trainRLM)\n",
    "\n",
    "print(\"la cantidad de columnas de X_trainRLP es de: \", X_trainRLP.shape[1])\n",
    "print(\"la cantidad de ejemplos de X_trainRLP es de: \", X_trainRLP.shape[0])"
   ]
  },
  {
   "cell_type": "markdown",
   "metadata": {},
   "source": [
    "#### 2.2.1 Normalizacion de las caracteristicas\n",
    "\n",
    "Se hace uso de la funcion de `featureNormalize(X) ` para normalizar cada una de las 190 feactures de mi nueva matriz de datos donde se recibe un parametro de tipo matriz para normalizar cada dato dentro de ella, retornandome la **matriz normalizda**, **sigma(desviacion estandar)**, y mi **mu(media)**."
   ]
  },
  {
   "cell_type": "code",
   "execution_count": 98,
   "metadata": {},
   "outputs": [
    {
     "data": {
      "text/plain": [
       "(17290, 190)"
      ]
     },
     "execution_count": 98,
     "metadata": {},
     "output_type": "execute_result"
    }
   ],
   "source": [
    "#introductimos los datos a la funcion de normalizacion\n",
    "X_norm_RLP, mu_RLP, sigma_RLP = featureNormalize(X_trainRLP)\n",
    "\n",
    "X_norm_RLP.shape"
   ]
  },
  {
   "cell_type": "markdown",
   "metadata": {},
   "source": [
    "#### 2.2.2 Agregamos la columna de unos a nuestra matriz"
   ]
  },
  {
   "cell_type": "code",
   "execution_count": 99,
   "metadata": {},
   "outputs": [
    {
     "name": "stdout",
     "output_type": "stream",
     "text": [
      "La cantidad de columnas de X_ready_RLP es de:  191\n"
     ]
    }
   ],
   "source": [
    "X_ready_RLP = np.concatenate([np.ones((m_train_RLP, 1)), X_norm_RLP], axis=1)\n",
    "print(\"La cantidad de columnas de X_ready_RLP es de: \", X_ready_RLP.shape[1])"
   ]
  },
  {
   "cell_type": "markdown",
   "metadata": {},
   "source": [
    "#### 2.2.3 Descenso por el gradiente\n",
    "\n",
    "haciendo uso de la funcio de `calcularCosto(X , y, theta, lamda_)` donde `X` sera nuestra matriz normalizada, y sera nuestra `y_predicha` que en este caso sera el precio, `Thetha` que seran nuestros valores inciales, pero en este caso sin incluir el parametro de regularizacion."
   ]
  },
  {
   "cell_type": "markdown",
   "metadata": {},
   "source": [
    "##### 2.2.3.1 Cálculo del costo $J(\\theta)$"
   ]
  },
  {
   "cell_type": "code",
   "execution_count": 100,
   "metadata": {},
   "outputs": [
    {
     "name": "stdout",
     "output_type": "stream",
     "text": [
      "191\n",
      "########################################################################################################\n",
      "con theta:[0.52351314 0.01448719 0.84921704 0.22297708 0.52305591 0.35420132\n",
      " 0.20297633 0.54379427 0.3787868  0.73964877 0.00837508 0.51823553\n",
      " 0.2164498  0.01605873 0.90966511 0.07802625 0.72480023 0.86841249\n",
      " 0.03880482 0.20465699 0.82651419 0.01610884 0.18513148 0.49772694\n",
      " 0.18090168 0.02123969 0.84603988 0.89552306 0.55750525 0.7168355\n",
      " 0.95785432 0.26044807 0.26448734 0.1469907  0.44878582 0.12575968\n",
      " 0.17179435 0.9399445  0.9257971  0.83697814 0.72453285 0.96717887\n",
      " 0.84609011 0.15993714 0.35421052 0.66449423 0.59282216 0.21668346\n",
      " 0.42062663 0.12727689 0.05053031 0.44495613 0.02784474 0.66927186\n",
      " 0.68698524 0.07366883 0.48126934 0.55041781 0.74954419 0.66135487\n",
      " 0.32841908 0.29744672 0.70982217 0.63342624 0.98157725 0.91551883\n",
      " 0.37672676 0.71311784 0.25464467 0.81291875 0.24306483 0.2300564\n",
      " 0.29937005 0.65537243 0.01524365 0.07539857 0.03786889 0.47661378\n",
      " 0.65898867 0.6921703  0.91091971 0.53504114 0.2464741  0.92364216\n",
      " 0.31198123 0.91765627 0.3181752  0.2771381  0.20393969 0.4537976\n",
      " 0.87176587 0.30168558 0.66185289 0.65849984 0.83692322 0.65745677\n",
      " 0.54282684 0.49988435 0.27755957 0.13889469 0.18604448 0.8675192\n",
      " 0.28521103 0.9363887  0.98893615 0.57928944 0.8656025  0.47492308\n",
      " 0.26841148 0.38139181 0.03054225 0.39356342 0.1719862  0.74111326\n",
      " 0.1704715  0.52527648 0.65778152 0.16631092 0.21941877 0.49409486\n",
      " 0.49207777 0.75295606 0.88564499 0.95329148 0.82585042 0.3280966\n",
      " 0.62425041 0.38437422 0.70925502 0.48824115 0.75279037 0.78029019\n",
      " 0.23232266 0.05513584 0.38513269 0.89902002 0.54558163 0.47051411\n",
      " 0.09612056 0.34544897 0.25189806 0.9553633  0.29696944 0.87745678\n",
      " 0.0431184  0.48594504 0.19574122 0.26041697 0.47249189 0.59584793\n",
      " 0.83144275 0.1662538  0.27207522 0.42283242 0.01273094 0.10727182\n",
      " 0.60008387 0.87078495 0.68580881 0.70001472 0.16066646 0.82555648\n",
      " 0.79274846 0.11788348 0.44064635 0.99835259 0.04030545 0.23376226\n",
      " 0.25359475 0.54140883 0.93774634 0.07242309 0.89218886 0.80270519\n",
      " 0.50004988 0.13724292 0.01687834 0.81996617 0.96987091 0.29016891\n",
      " 0.7248675  0.37581967 0.67749152 0.781649   0.81460844 0.19584671\n",
      " 0.9245126  0.55397133 0.92953985 0.35716495 0.37242834] se obtiene un costo de: 209911981262.43802\n",
      "########################################################################################################\n",
      "con theta:[0.66724749 0.35635812 0.82238234 0.03089368 0.76483364 0.4591993\n",
      " 0.20307812 0.06255871 0.95408982 0.41685203 0.26167497 0.08267787\n",
      " 0.68838249 0.23346387 0.59631997 0.37456616 0.58300901 0.94365531\n",
      " 0.43689896 0.43756452 0.25634751 0.95941858 0.12646587 0.34200004\n",
      " 0.00142209 0.0205996  0.07253149 0.85347461 0.08508896 0.72938968\n",
      " 0.28334975 0.27873919 0.76894706 0.2837157  0.87353462 0.99417879\n",
      " 0.70254629 0.66351818 0.95479777 0.39497247 0.19674387 0.88486823\n",
      " 0.95070548 0.65600739 0.12703582 0.83138861 0.67075468 0.03721394\n",
      " 0.82830305 0.93307525 0.05417489 0.77666993 0.26717173 0.06680931\n",
      " 0.59492628 0.16927409 0.26532523 0.54964181 0.80315918 0.32379886\n",
      " 0.77409342 0.99722807 0.8900071  0.67720374 0.065901   0.80220599\n",
      " 0.46105778 0.39413268 0.21674291 0.12539502 0.5506198  0.15895301\n",
      " 0.70961891 0.72162562 0.47794446 0.40762504 0.21813106 0.70737296\n",
      " 0.07119602 0.84642741 0.08741758 0.82790439 0.27115852 0.65970678\n",
      " 0.98523792 0.99020623 0.06176422 0.05559903 0.70363048 0.93897405\n",
      " 0.81638181 0.39688789 0.58846828 0.53537918 0.14164323 0.69115319\n",
      " 0.01272602 0.17636873 0.61497687 0.91893671 0.07905696 0.03713238\n",
      " 0.44297755 0.58080889 0.41130415 0.6305088  0.19960928 0.01055688\n",
      " 0.9391307  0.4147395  0.50756114 0.13758976 0.30608155 0.82643483\n",
      " 0.65249209 0.51142547 0.11704137 0.21101321 0.68134014 0.64550525\n",
      " 0.68989358 0.47099772 0.63975658 0.03387255 0.09027978 0.44074692\n",
      " 0.69013645 0.74667886 0.42742411 0.62391964 0.5951056  0.65077007\n",
      " 0.71334453 0.67672708 0.81621241 0.58644325 0.07280725 0.09410476\n",
      " 0.83488007 0.54531745 0.65803031 0.36597453 0.32251904 0.72824726\n",
      " 0.82033167 0.55566113 0.7943169  0.09404053 0.9753654  0.58240985\n",
      " 0.78492832 0.09190985 0.15704457 0.20772633 0.7319261  0.93268394\n",
      " 0.57468209 0.88425283 0.96033189 0.60029339 0.6375887  0.7704763\n",
      " 0.76492426 0.84122718 0.8822547  0.10953817 0.85681953 0.83060147\n",
      " 0.66547618 0.57023218 0.00173124 0.95588393 0.11221275 0.06936526\n",
      " 0.89925878 0.0016839  0.07042123 0.93049714 0.14787022 0.91911693\n",
      " 0.65613771 0.08594318 0.76017822 0.15020539 0.11173517 0.16558602\n",
      " 0.2820391  0.07604419 0.9352315  0.29923715 0.24580949] se obtiene un costo de: 209911529883.11115\n"
     ]
    }
   ],
   "source": [
    "#creamos un theta con 190 columnas de valores aleatorios\n",
    "theta_RLP1=np.random.rand(len(X_ready_RLP[1]))\n",
    "theta_RLP2=np.random.rand(len(X_ready_RLP[1]))\n",
    "\n",
    "\n",
    "print(len(theta_RLP1))\n",
    "lambda_RLP = 1000\n",
    "\n",
    "print(f\"########################################################################################################\")\n",
    "print(f\"con theta:{ theta_RLP1 } se obtiene un costo de: {calcularCostoSR(X_ready_RLP, y_trainRLP, theta_RLP1)}\")\n",
    "print(f\"########################################################################################################\")\n",
    "print(f\"con theta:{ theta_RLP2 } se obtiene un costo de: {calcularCostoSR(X_ready_RLP, y_trainRLP, theta_RLP2)}\")"
   ]
  },
  {
   "cell_type": "markdown",
   "metadata": {},
   "source": [
    "##### 2.2.3.2 Descenso por el gradiente\n",
    "\n",
    "Creamos la funcion para hacer el calculo del descenso por el gradiente y asi encontrar nuestras **Thetas**\n",
    "Haciendo uso de la funcion de `calcularDescensoGradiente(X,y, theta, alpha,num_iteraciones)`:"
   ]
  },
  {
   "cell_type": "code",
   "execution_count": 101,
   "metadata": {},
   "outputs": [
    {
     "name": "stdout",
     "output_type": "stream",
     "text": [
      "########################################################################################################\n",
      "Los valores de theta calculados son:\n",
      "theta 1: 531806.0770503972\n",
      "theta 2: 0.0\n",
      "theta 3: -5027.547654926053\n",
      "theta 4: -3405.583454332372\n",
      "theta 5: -4340.000567059962\n",
      "theta 6: 2560.597990457745\n",
      "theta 7: -135.5873300674213\n",
      "theta 8: -1534.3834064607408\n",
      "theta 9: -2643.153146097622\n",
      "theta 10: -978.6053047329448\n",
      "theta 11: 11706.566492131156\n",
      "theta 12: -2444.512891977379\n",
      "theta 13: -4397.26101907355\n",
      "theta 14: -13861.064475767756\n",
      "theta 15: -3584.1656550969365\n",
      "theta 16: -15487.982233005612\n",
      "theta 17: 22752.350939377066\n",
      "theta 18: -7916.315620747603\n",
      "theta 19: -39.50904618574523\n",
      "theta 20: 2391.2750734227648\n",
      "theta 21: 5927.747187432195\n",
      "theta 22: -401.48583997824176\n",
      "theta 23: 1600.4974361417515\n",
      "theta 24: -3084.296285224395\n",
      "theta 25: -999.1001485370211\n",
      "theta 26: 5396.732832365082\n",
      "theta 27: -845.1002724275138\n",
      "theta 28: 1444.6779624870035\n",
      "theta 29: 8605.357580226633\n",
      "theta 30: 4723.056099636129\n",
      "theta 31: -6369.611817254209\n",
      "theta 32: -6468.7638581460005\n",
      "theta 33: -2626.6508845395933\n",
      "theta 34: -5064.361315868975\n",
      "theta 35: -4610.589453861021\n",
      "theta 36: 4928.494576289731\n",
      "theta 37: -227.62105737853926\n",
      "theta 38: -2699.1837607917646\n",
      "theta 39: 15727.636691193278\n",
      "theta 40: 21469.93149702061\n",
      "theta 41: -3495.512133836473\n",
      "theta 42: 2649.0322994628837\n",
      "theta 43: 6910.609703403216\n",
      "theta 44: 9018.178698737272\n",
      "theta 45: 739.6111663300917\n",
      "theta 46: 17019.29004148297\n",
      "theta 47: 21940.027032535574\n",
      "theta 48: 7750.577936448252\n",
      "theta 49: -3895.8071640778953\n",
      "theta 50: -793.3186177995545\n",
      "theta 51: -3430.653664257517\n",
      "theta 52: -2987.4523900625136\n",
      "theta 53: 3287.563680528006\n",
      "theta 54: 4911.096288560896\n",
      "theta 55: -4160.763120477073\n",
      "theta 56: 24456.12945921899\n",
      "theta 57: -4296.077121491845\n",
      "theta 58: 2958.3269519545684\n",
      "theta 59: 16717.229906909113\n",
      "theta 60: 12782.670173327282\n",
      "theta 61: 5387.598038007337\n",
      "theta 62: 17624.13005961147\n",
      "theta 63: 25222.10947829252\n",
      "theta 64: 10081.058748334182\n",
      "theta 65: -5590.225362901177\n",
      "theta 66: 12976.992668436516\n",
      "theta 67: -4370.16220517528\n",
      "theta 68: -3861.3409751591007\n",
      "theta 69: 4179.234709381707\n",
      "theta 70: 6704.772563965765\n",
      "theta 71: -6580.11041460308\n",
      "theta 72: 2950.72968977748\n",
      "theta 73: -3107.2030219799203\n",
      "theta 74: -1592.1923319114958\n",
      "theta 75: -365.175744713913\n",
      "theta 76: 2233.625384908486\n",
      "theta 77: 1868.0099151193472\n",
      "theta 78: -3062.938677663714\n",
      "theta 79: -7722.13227503855\n",
      "theta 80: 2747.9298569153593\n",
      "theta 81: -1656.3686840311095\n",
      "theta 82: 2550.4394087887886\n",
      "theta 83: 2480.985748728373\n",
      "theta 84: -2543.883111487904\n",
      "theta 85: 77.70844043329936\n",
      "theta 86: 10101.042755143435\n",
      "theta 87: 2656.6166799331827\n",
      "theta 88: -1092.7041398256845\n",
      "theta 89: -546.203050958509\n",
      "theta 90: 4740.995467604527\n",
      "theta 91: 8047.271751453029\n",
      "theta 92: -204.5786691653027\n",
      "theta 93: 11250.714359731694\n",
      "theta 94: -903.3781294419498\n",
      "theta 95: -5403.062576516617\n",
      "theta 96: -132.19789212423626\n",
      "theta 97: 171.78018757338626\n",
      "theta 98: 24.81186417243833\n",
      "theta 99: -8749.447843242187\n",
      "theta 100: -6220.124049305384\n",
      "theta 101: -1534.3834064607408\n",
      "theta 102: -3112.802741138585\n",
      "theta 103: -2745.4470429615367\n",
      "theta 104: 4457.340493023847\n",
      "theta 105: 18219.503633718763\n",
      "theta 106: 8903.482969321487\n",
      "theta 107: -1239.422576189541\n",
      "theta 108: -6804.795445951609\n",
      "theta 109: -1571.5483616143163\n",
      "theta 110: -1358.084204595048\n",
      "theta 111: 1594.2670033849035\n",
      "theta 112: 14676.562897128757\n",
      "theta 113: -2881.647220665182\n",
      "theta 114: 1467.7532750494418\n",
      "theta 115: 5046.6470452216945\n",
      "theta 116: 6655.6878961554885\n",
      "theta 117: 16925.515588846316\n",
      "theta 118: -915.8505775870576\n",
      "theta 119: -3046.732460522712\n",
      "theta 120: -4827.4171095774855\n",
      "theta 121: -2658.7478900985166\n",
      "theta 122: -2421.2098588116737\n",
      "theta 123: 2606.5478507044595\n",
      "theta 124: 8442.018226210539\n",
      "theta 125: -3385.337586307304\n",
      "theta 126: 412.8266906678137\n",
      "theta 127: 14652.016191902763\n",
      "theta 128: 6123.237171567981\n",
      "theta 129: 500.89190649765396\n",
      "theta 130: -2469.2095650889955\n",
      "theta 131: -4063.180114070509\n",
      "theta 132: -1034.6498392443725\n",
      "theta 133: -601.2223073783823\n",
      "theta 134: 943.753765227246\n",
      "theta 135: 16776.108409844084\n",
      "theta 136: 1493.7268400635637\n",
      "theta 137: 23179.38487316281\n",
      "theta 138: 15890.27569227039\n",
      "theta 139: 9024.775728741908\n",
      "theta 140: 9247.724343515463\n",
      "theta 141: 3811.7900829485307\n",
      "theta 142: 11666.045356811454\n",
      "theta 143: 12441.01900482499\n",
      "theta 144: -11945.657386900635\n",
      "theta 145: 7607.479739816213\n",
      "theta 146: -735.8401656194944\n",
      "theta 147: 21164.836984043162\n",
      "theta 148: 24567.596518573377\n",
      "theta 149: -3560.374364504369\n",
      "theta 150: 12386.203806577954\n",
      "theta 151: -2474.408502054423\n",
      "theta 152: -2013.2222261981144\n",
      "theta 153: 2292.445808545301\n",
      "theta 154: 3211.581783076908\n",
      "theta 155: -6302.80676166686\n",
      "theta 156: -13622.232223529229\n",
      "theta 157: -4936.489876183033\n",
      "theta 158: 10945.575291573059\n",
      "theta 159: -4402.687042944619\n",
      "theta 160: -4217.557314985986\n",
      "theta 161: 4347.124014298378\n",
      "theta 162: 12343.571474666758\n",
      "theta 163: -4342.95009895655\n",
      "theta 164: -13358.932829975267\n",
      "theta 165: -3424.452761544593\n",
      "theta 166: -14586.072204187374\n",
      "theta 167: -9512.053848112515\n",
      "theta 168: 13635.994528062936\n",
      "theta 169: -2504.2052051442934\n",
      "theta 170: 2447.871068107736\n",
      "theta 171: -3334.010823557863\n",
      "theta 172: -3612.2691952076325\n",
      "theta 173: -3556.426156528837\n",
      "theta 174: 3596.632964636654\n",
      "theta 175: 17834.544657533934\n",
      "theta 176: -2081.57134450885\n",
      "theta 177: -15488.215188507158\n",
      "theta 178: 18626.527631470515\n",
      "theta 179: -460.3156390781901\n",
      "theta 180: -64.08610536484163\n",
      "theta 181: 2376.149530209365\n",
      "theta 182: 22515.26261081615\n",
      "theta 183: -23096.766015184105\n",
      "theta 184: 382.24524156409706\n",
      "theta 185: 2285.786138070412\n",
      "theta 186: 7929.945708208996\n",
      "theta 187: -120.59763172818\n",
      "theta 188: -2375.953032819311\n",
      "theta 189: 3730.485165463406\n",
      "theta 190: -1425.3411821283637\n",
      "theta 191: 4611.694589000756\n",
      "########################################################################################################\n",
      "con un costo de: 15222543374.700386 \n",
      "la cantidad de theta son:  191\n"
     ]
    }
   ],
   "source": [
    "#creamos un theta con 19 columnas de ceros\n",
    "theta_RLP = np.zeros(len(X_ready_RLP[0]))\n",
    "\n",
    "#numero de iteraciones sera 1000000 y un alpha 0.0009\n",
    "num_ite_RLP = 5000\n",
    "alpha_RLP = 0.0009\n",
    "\n",
    "theta_RLP, J_historico_RLP = calcularDescensoGradienteSR(X_ready_RLP, y_trainRLP, theta_RLP , alpha_RLP, num_ite_RLP)\n",
    "print(\"########################################################################################################\")\n",
    "print(\"Los valores de theta calculados son:\")\n",
    "i = 0\n",
    "for tht2 in theta_RLP:\n",
    "    i += 1\n",
    "    print(f\"theta {i}: {tht2}\")\n",
    "\n",
    "print(f\"########################################################################################################\")\n",
    "#mostramos el ultimo costo, este seria el mejor costo\n",
    "print(f\"con un costo de: { J_historico_RLP[-1]} \")\n",
    "\n",
    "print(\"la cantidad de theta son: \", theta_RLP.shape[0])"
   ]
  },
  {
   "cell_type": "markdown",
   "metadata": {},
   "source": [
    "#### 2.2.4 Grafica de la convergencia del costo\n",
    "Graficamos el costo"
   ]
  },
  {
   "cell_type": "code",
   "execution_count": 102,
   "metadata": {},
   "outputs": [
    {
     "data": {
      "text/plain": [
       "Text(0, 0.5, 'Costo J')"
      ]
     },
     "execution_count": 102,
     "metadata": {},
     "output_type": "execute_result"
    },
    {
     "data": {
      "image/png": "[encoded data removed]",
      "text/plain": [
       "<Figure size 640x480 with 1 Axes>"
      ]
     },
     "metadata": {},
     "output_type": "display_data"
    }
   ],
   "source": [
    "pyplot.plot(np.arange(len(J_historico_RLP)), J_historico_RLP, lw=2)\n",
    "pyplot.title(\"Grafica de la convergencia del costo\")\n",
    "pyplot.xlabel('Numero de iteraciones')\n",
    "pyplot.ylabel('Costo J')"
   ]
  },
  {
   "cell_type": "markdown",
   "metadata": {},
   "source": [
    "##### 2.2.4.1 Grafica de la regresion Polinomial\n",
    "\n",
    "En esta parte se trazan los datos de entrenamiento y una línea que representa la regresión lineal ajustada a esos datos."
   ]
  },
  {
   "cell_type": "code",
   "execution_count": 103,
   "metadata": {},
   "outputs": [
    {
     "data": {
      "text/plain": [
       "<matplotlib.legend.Legend at 0x15aa0dc4a10>"
      ]
     },
     "execution_count": 103,
     "metadata": {},
     "output_type": "execute_result"
    },
    {
     "data": {
      "image/png": "[encoded data removed]",
      "text/plain": [
       "<Figure size 640x480 with 1 Axes>"
      ]
     },
     "metadata": {},
     "output_type": "display_data"
    }
   ],
   "source": [
    "graficarDatos(X_norm_RLP[:, 150], X_norm_RLP[:, 151] , \"X_norm_150\", \"X_norm_151\")\n",
    "\n",
    "pyplot.plot(X_norm_RLP[:,150], np.dot(X_ready_RLP, theta_RLP), '-')\n",
    "\n",
    "pyplot.legend(['Datos de entrenamiento', 'regresion lineal'])"
   ]
  },
  {
   "cell_type": "markdown",
   "metadata": {},
   "source": [
    "haciendo una pequeña prueba:"
   ]
  },
  {
   "cell_type": "code",
   "execution_count": 104,
   "metadata": {},
   "outputs": [
    {
     "name": "stdout",
     "output_type": "stream",
     "text": [
      "La prediccion de la casa es de: [253211.63162483]\n"
     ]
    }
   ],
   "source": [
    "X_arrayRLP = np.array([3,1,1180,5650,1,0,0,3,7,1180,0,1955,0,98178,47.5112,-122.257,1340,5650])\n",
    "X_arrayRLP = X_arrayRLP.reshape(1, -1)\n",
    "\n",
    "poly = PolynomialFeatures(degree=2)\n",
    "#hacemos una copia de y_train y y_test para usarlo en la regresion polinomial\n",
    "X_arrayRLP = poly.fit_transform(X_arrayRLP)\n",
    "\n",
    "X_arrayRLP = np.concatenate([np.ones((X_arrayRLP.shape[0], 1)), X_arrayRLP], axis=1)\n",
    "\n",
    "X_arrayRLP[:, 1:] = (X_arrayRLP[:, 1:] - mu_RLP) / sigma_RLP\n",
    "\n",
    "prediccion_RLP = np.dot(X_arrayRLP, theta_RLP)\n",
    "\n",
    "print (f\"La prediccion de la casa es de: {prediccion_RLP}\")"
   ]
  },
  {
   "cell_type": "markdown",
   "metadata": {},
   "source": [
    "#### 2.2.5 Ejemplos de Predicciones\n",
    "\n",
    "Se creo una matriz con 11 ejemplos, donde se hace las predicciones correspondientes:"
   ]
  },
  {
   "cell_type": "code",
   "execution_count": 105,
   "metadata": {},
   "outputs": [
    {
     "name": "stdout",
     "output_type": "stream",
     "text": [
      "20\n",
      "19\n",
      "+------------+-------------+---------------+------------+----------+--------------+--------+-------------+---------+--------------+-----------------+------------+----------------+-----------+---------+----------+-----------------+--------------+----------+\n",
      "|   bedrooms |   bathrooms |   sqft_living |   sqft_lot |   floors |   waterfront |   view |   condition |   grade |   sqft_above |   sqft_basement |   yr_built |   yr_renovated |   zipcode |     lat |     long |   sqft_living15 |   sqft_lot15 |    Price |\n",
      "+============+=============+===============+============+==========+==============+========+=============+=========+==============+=================+============+================+===========+=========+==========+=================+==============+==========+\n",
      "|          3 |        1    |          1180 |       5650 |      1   |            0 |      0 |           3 |       7 |         1180 |               0 |       1955 |              0 |     98178 | 47.5112 | -122.257 |            1340 |         5650 | 253212   |\n",
      "+------------+-------------+---------------+------------+----------+--------------+--------+-------------+---------+--------------+-----------------+------------+----------------+-----------+---------+----------+-----------------+--------------+----------+\n",
      "|          2 |        0.75 |          1020 |       1076 |      2   |            0 |      0 |           3 |       7 |         1020 |               0 |       2008 |              0 |     98144 | 47.5941 | -122.299 |            1020 |         1357 | 221272   |\n",
      "+------------+-------------+---------------+------------+----------+--------------+--------+-------------+---------+--------------+-----------------+------------+----------------+-----------+---------+----------+-----------------+--------------+----------+\n",
      "|          4 |        2.75 |          3555 |       6565 |      2   |            0 |      0 |           3 |       9 |         3555 |               0 |       2014 |              0 |     98053 | 47.6847 | -122.017 |            3625 |         5637 | 850335   |\n",
      "+------------+-------------+---------------+------------+----------+--------------+--------+-------------+---------+--------------+-----------------+------------+----------------+-----------+---------+----------+-----------------+--------------+----------+\n",
      "|          2 |        1    |          1040 |      13920 |      1   |            0 |      0 |           3 |       6 |         1040 |               0 |       1973 |           1867 |     98198 | 47.3756 | -122.306 |            1100 |         7575 |  21692.9 |\n",
      "+------------+-------------+---------------+------------+----------+--------------+--------+-------------+---------+--------------+-----------------+------------+----------------+-----------+---------+----------+-----------------+--------------+----------+\n",
      "|          4 |        1.75 |          1860 |       7350 |      1   |            0 |      0 |           4 |       7 |         1090 |             770 |       1977 |           1900 |     98031 | 47.3979 | -122.174 |            1710 |         7350 | 331609   |\n",
      "+------------+-------------+---------------+------------+----------+--------------+--------+-------------+---------+--------------+-----------------+------------+----------------+-----------+---------+----------+-----------------+--------------+----------+\n",
      "|          1 |        1    |          1060 |      54846 |      1   |            1 |      4 |           3 |       5 |         1060 |               0 |       1935 |              0 |     98070 | 47.4716 | -122.445 |            2258 |        31762 | 484934   |\n",
      "+------------+-------------+---------------+------------+----------+--------------+--------+-------------+---------+--------------+-----------------+------------+----------------+-----------+---------+----------+-----------------+--------------+----------+\n",
      "|          4 |        1.5  |          2220 |       9496 |      1   |            0 |      0 |           4 |       7 |         1490 |             730 |       1954 |              0 |     98004 | 47.6233 | -122.206 |            1800 |         8286 | 512074   |\n",
      "+------------+-------------+---------------+------------+----------+--------------+--------+-------------+---------+--------------+-----------------+------------+----------------+-----------+---------+----------+-----------------+--------------+----------+\n",
      "|          4 |        1.5  |          1560 |       6534 |      1   |            0 |      0 |           4 |       7 |         1560 |               0 |       1962 |              0 |     98007 | 47.6012 | -122.152 |            1560 |         6969 | 419778   |\n",
      "+------------+-------------+---------------+------------+----------+--------------+--------+-------------+---------+--------------+-----------------+------------+----------------+-----------+---------+----------+-----------------+--------------+----------+\n",
      "|          5 |        3    |          2510 |       4125 |      1.5 |            0 |      3 |           5 |       8 |         1590 |             920 |       1925 |              0 |     98144 | 47.5968 | -122.29  |            2190 |         5415 | 895334   |\n",
      "+------------+-------------+---------------+------------+----------+--------------+--------+-------------+---------+--------------+-----------------+------------+----------------+-----------+---------+----------+-----------------+--------------+----------+\n",
      "|          3 |        2.5  |          1680 |       2096 |      2   |            0 |      0 |           3 |       8 |         1380 |             300 |       2008 |              0 |     98117 | 47.6904 | -122.37  |            1360 |         2096 | 482704   |\n",
      "+------------+-------------+---------------+------------+----------+--------------+--------+-------------+---------+--------------+-----------------+------------+----------------+-----------+---------+----------+-----------------+--------------+----------+\n",
      "|          3 |        2.25 |          2020 |       3600 |      2   |            0 |      0 |           3 |       8 |         2020 |               0 |       1998 |              0 |     98033 | 47.6678 | -122.165 |            2070 |         3699 | 539959   |\n",
      "+------------+-------------+---------------+------------+----------+--------------+--------+-------------+---------+--------------+-----------------+------------+----------------+-----------+---------+----------+-----------------+--------------+----------+\n"
     ]
    }
   ],
   "source": [
    "#Creamos la matriz con 11 ejemplos para hacer la prueba predecir un precio de cada ejemplo:\n",
    "matriz_datos_RLP = np.array([\n",
    "    [3,1,1180,5650,1,0,0,3,7,1180,0,1955,0,98178,47.5112,-122.257,1340,5650],\n",
    "    [2,0.75,1020,1076,2,0,0,3,7,1020,0,2008,0,98144,47.5941,-122.299,1020,1357],\n",
    "    [4,2.75,3555,6565,2,0,0,3,9,3555,0,2014,0,98053,47.6847,-122.017,3625,5637],\n",
    "    [2,1,1040,13920,1,0,0,3,6,1040,0,1973,1867,98198,47.3756,-122.306,1100,7575],\n",
    "    [4,1.75,1860,7350,1,0,0,4,7,1090,770,1977,1900,98031,47.3979,-122.174,1710,7350],\n",
    "    [1,1,1060,54846,1,1,4,3,5,1060,0,1935,0,98070,47.4716,-122.445,2258,31762],\n",
    "    [4,1.5,2220,9496,1,0,0,4,7,1490,730,1954,0,98004,47.6233,-122.206,1800,8286],\n",
    "    [4,1.5,1560,6534,1,0,0,4,7,1560,0,1962,0,98007,47.6012,-122.152,1560,6969],\n",
    "    [5,3,2510,4125,1.5,0,3,5,8,1590,920,1925,0,98144,47.5968,-122.29,2190,5415],\n",
    "    [3,2.5,1680,2096,2,0,0,3,8,1380,300,2008,0,98117,47.6904,-122.37,1360,2096],\n",
    "    [3,2.25,2020,3600,2,0,0,3,8,2020,0,1998,0,98033,47.6678,-122.165,2070,3699]\n",
    "])\n",
    "\n",
    "#creamos un vector parta almacenar cada Y predicha\n",
    "y_pre_RLP = []\n",
    "\n",
    "matriz_datos_RLP_copy = matriz_datos_RLP.copy()\n",
    "\n",
    "poly = PolynomialFeatures(degree=2)\n",
    "#hacemos una copia de y_train y y_test para usarlo en la regresion polinomial\n",
    "matriz_datos_RLP = poly.fit_transform(matriz_datos_RLP)\n",
    "\n",
    "matriz_datos_RLP = np.concatenate([np.ones((matriz_datos_RLP.shape[0], 1)), matriz_datos_RLP], axis=1)\n",
    "\n",
    "\n",
    "#Normalizamos todos, menos el primer valor de cada ejemplo\n",
    "\n",
    "matriz_datos_RLP[:, 1:] = (matriz_datos_RLP[:, 1:] - mu_RLP) / sigma_RLP\n",
    "\n",
    "\n",
    "#Calculamos la Y predicha de los 11 ejemplos de prediccion\n",
    "for datos in matriz_datos_RLP:\n",
    "    y_pre_RLP.append(np.dot(datos, theta_RLP.T))\n",
    "\n",
    "matriz_datos_RLP_copy = np.column_stack((matriz_datos_RLP_copy, y_pre_RLP))\n",
    "\n",
    "nombres_columnas = ['bedrooms','bathrooms','sqft_living','sqft_lot','floors','waterfront','view','condition','grade','sqft_above','sqft_basement','yr_built','yr_renovated','zipcode','lat','long','sqft_living15','sqft_lot15','Price']\n",
    "\n",
    "# Convertir la matriz en una lista de listas\n",
    "datos_para_tabla = matriz_datos_RLP_copy.tolist()\n",
    "\n",
    "print(len(matriz_datos_RLM[0]))\n",
    "print(len(matriz_datos_RLM_copy[0]))\n",
    "\n",
    "# Imprimir la tabla\n",
    "print(tabulate(datos_para_tabla, headers=nombres_columnas, tablefmt='grid'))"
   ]
  },
  {
   "cell_type": "markdown",
   "metadata": {},
   "source": [
    "### 2.3 Ecuacion de la normal\n",
    "\n",
    "Utilizada en el contexto de la regresión lineal para calcular los parámetros del modelo de regresión directamente a partir de los datos de entrenamiento. Se denomina \"normal\" porque se deriva de la \"ecuación normal\" de un sistema de ecuaciones lineales."
   ]
  },
  {
   "cell_type": "markdown",
   "metadata": {},
   "source": [
    "#### 2.3.1 Agregando la columna de unos a la matriz $X$ para tener el termino de intersección"
   ]
  },
  {
   "cell_type": "code",
   "execution_count": 106,
   "metadata": {},
   "outputs": [
    {
     "name": "stdout",
     "output_type": "stream",
     "text": [
      "X_ren[:,0]  X_ren[:, 1]  X_ren[:, 2]  X_ren[:, 3]  X_ren[:, 4]  X_ren[:, 5]  X_ren[:, 6]  X_ren[:, 7]  X_ren[:, 8]  X_ren[:, 9]  X_ren[:, 10]  X_ren[:, 11]  X_ren[:, 12]  X_ren[:, 13]  X_ren[:, 14]  X_ren[:, 15]  X_ren[:, 16]  X_ren[:, 17]  X_ren[:, 18]\n",
      "--------------------------------------------------------------------------------------------------------------------------------------------------------------------------------------------------------------------------------------------------------------------\n",
      "         1           2           2           1390          6670           1            0             0           3             6          720           670         1941             0          98115           48          -122            920          6380\n",
      "         1           3           3           2540          8604           2            0             0           3             8         2540             0         1991             0          98092           47          -122           2260          7438\n",
      "         1           3           3           3280         10558           1            0             2           4             9         2040          1240         1979             0          98006           48          -122           3150          9998\n",
      "         1           4           3           2060         21344           1            0             0           2             8         1460           600         1978             0          98005           48          -122           2060         16088\n",
      "         1           3           1           1060          9241           1            0             0           4             7         1060             0         1956             0          98133           48          -122           1900          6484\n",
      "         1           2           1            800          4046           1            0             0           3             7          800             0         1940             0          98117           48          -122           1400          4046\n",
      "         1           3           2           1560         14288           1            0             0           3             6          780           780         1944             0          98125           48          -122           1320          8928\n",
      "         1           4           2           2040         11850           1            0             2           3             7         1020          1020         1959             0          98033           48          -122           2040          8504\n",
      "         1           5           2           3750         91681           2            1             4           3            10         3750             0         1925             0          98118           48          -122           3540         24293\n",
      "         1           2           2           1440          4225           1            0             0           3             8         1440             0         2005             0          98053           48          -122           1680          6200\n"
     ]
    }
   ],
   "source": [
    "# Cargamos los datos utilizando pandasd\n",
    "data = pd.read_csv('kc_house_data.csv', delimiter=',')\n",
    "\n",
    "#retiramos el id y la fecha del las columnas, quitamos el precio ya que ira a el vector Y, tambien quitamos los titulos\n",
    "dataset = data.drop(['id', 'date'], axis=1).astype(float)\n",
    "\n",
    "# Seleccionar aleatoriamente 20,000 ejemplos\n",
    "sampled_dataset = dataset.sample(n=20000, random_state=42)\n",
    "\n",
    "train_dataset, test_dataset = train_test_split(sampled_dataset, test_size=0.2, random_state=42)\n",
    "\n",
    "X_testEc = test_dataset.drop(['price'], axis=1).values\n",
    "y_testEc = test_dataset['price'].values\n",
    "m_testEc = len(y_testEc)\n",
    "\n",
    "# Seleccionamos las columnas para X y la columna 'price' para Y\n",
    "X_trainEc = train_dataset.drop(['price'], axis=1).values\n",
    "y_trainEc = train_dataset['price'].values\n",
    "m_trainEc = len(y_trainEc)\n",
    "\n",
    "#añadimos unos a la X\n",
    "X_ren = np.concatenate([np.ones((m_trainEc, 1)), X_trainEc], axis=1)\n",
    "\n",
    "#Imprimimos X_ready\n",
    "print('{:>8s}{:>10s}{:>10s}{:>10s}{:>8s}{:>8s}{:>8s}{:>8s}{:>6s}{:>10s}{:>10s}{:>10s}{:>10s}{:>10s}{:>10s}{:>10s}{:>10s}{:>10s}{:>10s}'.format(\n",
    "    'X_ren[:,0]', '  X_ren[:, 1]', '  X_ren[:, 2]', '  X_ren[:, 3]', '  X_ren[:, 4]', '  X_ren[:, 5]', '  X_ren[:, 6]', '  X_ren[:, 7]', '  X_ren[:, 8]', '  X_ren[:, 9]', '  X_ren[:, 10]', '  X_ren[:, 11]',\n",
    "    '  X_ren[:, 12]', '  X_ren[:, 13]', '  X_ren[:, 14]', '  X_ren[:, 15]', '  X_ren[:, 16]', '  X_ren[:, 17]', '  X_ren[:, 18]'\n",
    "))\n",
    "print('-' * 260)\n",
    "\n",
    "for i in range(10):\n",
    "    print('{:10.0f}{:12.0f}{:12.0f}{:15.0f}{:14.0f}{:12.0f}{:13.0f}{:14.0f}{:12.0f}{:14.0f}{:13.0f}{:14.0f}{:13.0f}{:14.0f}{:15.0f}{:13.0f}{:14.0f}{:15.0f}{:14.0f}'.format(\n",
    "        X_ren[i, 0], X_ren[i, 1], X_ren[i, 2], X_ren[i, 3], X_ren[i, 4], X_ren[i, 5], X_ren[i, 6], X_ren[i, 7], X_ren[i, 8], X_ren[i, 9], X_ren[i, 10], X_ren[i, 11],\n",
    "        X_ren[i, 12], X_ren[i, 13], X_ren[i, 14], X_ren[i, 15], X_ren[i, 16], X_ren[i, 17], X_ren[i, 18]\n",
    "    ))"
   ]
  },
  {
   "cell_type": "markdown",
   "metadata": {},
   "source": [
    "#### 2.3.2 Calculando Theta"
   ]
  },
  {
   "cell_type": "code",
   "execution_count": 107,
   "metadata": {},
   "outputs": [
    {
     "name": "stdout",
     "output_type": "stream",
     "text": [
      "########################################################################################################\n",
      "Los valores de theta usando la ecuacion de la normal es calculados son:\n",
      "theta 1: 15550765.562788932\n",
      "theta 2: -3336164.915750435\n",
      "theta 3: -384208.4392969166\n",
      "theta 4: 38293.39210539675\n",
      "theta 5: 0.2649409555920973\n",
      "theta 6: 269602.53481336473\n",
      "theta 7: 1540664.1240256045\n",
      "theta 8: -25775.18209456873\n",
      "theta 9: 14609.543056991997\n",
      "theta 10: 149134.68604321865\n",
      "theta 11: -37727.46992693181\n",
      "theta 12: -37623.77740831107\n",
      "theta 13: -2556.2520189300158\n",
      "theta 14: 18.57716656465609\n",
      "theta 15: -567.0177064511505\n",
      "theta 16: 610567.276181861\n",
      "theta 17: -215629.0738984424\n",
      "theta 18: 27.76142619483184\n",
      "theta 19: -0.3921443226667025\n",
      "########################################################################################################\n"
     ]
    }
   ],
   "source": [
    "# Calculamos thea haciendo uso de la funcion\n",
    "lambda_Ec = 1000\n",
    "theta_Ec = calcularThethaEcuacionNormalSR(X_ren, y_trainEc);\n",
    "\n",
    "print(f\"########################################################################################################\")\n",
    "print(\"Los valores de theta usando la ecuacion de la normal es calculados son:\")\n",
    "i = 0\n",
    "for thtEc in theta_Ec:\n",
    "    i += 1\n",
    "    print(f\"theta {i}: {thtEc}\")\n",
    "print(f\"########################################################################################################\")"
   ]
  },
  {
   "cell_type": "markdown",
   "metadata": {},
   "source": [
    "Haciendo pequeña prueba"
   ]
  },
  {
   "cell_type": "code",
   "execution_count": 108,
   "metadata": {},
   "outputs": [
    {
     "name": "stdout",
     "output_type": "stream",
     "text": [
      "La prediccion de la casa es de: 1924516.7039576033\n"
     ]
    }
   ],
   "source": [
    "X_arrayEc = np.array([1,3,1,1180,5650,1,0,0,3,7,1180,0,1955,0,98178,47.5112,-122.257,1340,5650])\n",
    "\n",
    "prediccion_Ec = np.dot(X_arrayEc, theta_Ec.T)\n",
    "\n",
    "print (f\"La prediccion de la casa es de: {prediccion_Ec}\")"
   ]
  },
  {
   "cell_type": "markdown",
   "metadata": {},
   "source": [
    "#### 2.3.3 Ejemplos de Predicciones haciendo uso de la Ecuacion de la normal\n",
    "Se creo una matriz con 11 ejemplos, donde se hace las predicciones correpondientes:"
   ]
  },
  {
   "cell_type": "code",
   "execution_count": 109,
   "metadata": {},
   "outputs": [
    {
     "name": "stdout",
     "output_type": "stream",
     "text": [
      "+----+------------+-------------+---------------+------------+----------+--------------+--------+-------------+---------+--------------+-----------------+------------+----------------+-----------+---------+----------+-----------------+--------------+-------------------+\n",
      "|    |   bedrooms |   bathrooms |   sqft_living |   sqft_lot |   floors |   waterfront |   view |   condition |   grade |   sqft_above |   sqft_basement |   yr_built |   yr_renovated |   zipcode |     lat |     long |   sqft_living15 |   sqft_lot15 |             Price |\n",
      "+====+============+=============+===============+============+==========+==============+========+=============+=========+==============+=================+============+================+===========+=========+==========+=================+==============+===================+\n",
      "|  1 |          3 |        1    |          1180 |       5650 |      1   |            0 |      0 |           3 |       7 |         1180 |               0 |       1955 |              0 |     98178 | 47.5112 | -122.257 |            1340 |         5650 |       1.92452e+06 |\n",
      "+----+------------+-------------+---------------+------------+----------+--------------+--------+-------------+---------+--------------+-----------------+------------+----------------+-----------+---------+----------+-----------------+--------------+-------------------+\n",
      "|  1 |          2 |        0.75 |          1020 |       1076 |      2   |            0 |      0 |           3 |       7 |         1020 |               0 |       2008 |              0 |     98144 | 47.5941 | -122.299 |            1020 |         1357 |       5.47085e+06 |\n",
      "+----+------------+-------------+---------------+------------+----------+--------------+--------+-------------+---------+--------------+-----------------+------------+----------------+-----------+---------+----------+-----------------+--------------+-------------------+\n",
      "|  1 |          4 |        2.75 |          3555 |       6565 |      2   |            0 |      0 |           3 |       9 |         3555 |               0 |       2014 |              0 |     98053 | 47.6847 | -122.017 |            3625 |         5637 | -134153           |\n",
      "+----+------------+-------------+---------------+------------+----------+--------------+--------+-------------+---------+--------------+-----------------+------------+----------------+-----------+---------+----------+-----------------+--------------+-------------------+\n",
      "|  1 |          2 |        1    |          1040 |      13920 |      1   |            0 |      0 |           3 |       6 |         1040 |               0 |       1973 |           2020 |     98198 | 47.3756 | -122.306 |            1100 |         7575 |       4.93504e+06 |\n",
      "+----+------------+-------------+---------------+------------+----------+--------------+--------+-------------+---------+--------------+-----------------+------------+----------------+-----------+---------+----------+-----------------+--------------+-------------------+\n",
      "|  1 |          4 |        1.75 |          1860 |       7350 |      1   |            0 |      0 |           4 |       7 |         1090 |             770 |       1977 |           2000 |     98031 | 47.3979 | -122.174 |            1710 |         7350 |      -1.23328e+06 |\n",
      "+----+------------+-------------+---------------+------------+----------+--------------+--------+-------------+---------+--------------+-----------------+------------+----------------+-----------+---------+----------+-----------------+--------------+-------------------+\n",
      "|  1 |          1 |        1    |          1060 |      54846 |      1   |            1 |      4 |           3 |       5 |         1060 |               0 |       1935 |              0 |     98070 | 47.4716 | -122.445 |            2258 |        31762 |       9.82523e+06 |\n",
      "+----+------------+-------------+---------------+------------+----------+--------------+--------+-------------+---------+--------------+-----------------+------------+----------------+-----------+---------+----------+-----------------+--------------+-------------------+\n",
      "|  1 |          4 |        1.5  |          2220 |       9496 |      1   |            0 |      0 |           4 |       7 |         1490 |             730 |       1954 |              0 |     98004 | 47.6233 | -122.206 |            1800 |         8286 | -753468           |\n",
      "+----+------------+-------------+---------------+------------+----------+--------------+--------+-------------+---------+--------------+-----------------+------------+----------------+-----------+---------+----------+-----------------+--------------+-------------------+\n",
      "|  1 |          4 |        1.5  |          1560 |       6534 |      1   |            0 |      0 |           4 |       7 |         1560 |               0 |       1962 |              0 |     98007 | 47.6012 | -122.152 |            1560 |         6969 |      -1.25689e+06 |\n",
      "+----+------------+-------------+---------------+------------+----------+--------------+--------+-------------+---------+--------------+-----------------+------------+----------------+-----------+---------+----------+-----------------+--------------+-------------------+\n",
      "|  1 |          5 |        3    |          2510 |       4125 |      1.5 |            0 |      3 |           5 |       8 |         1590 |             920 |       1925 |              0 |     98144 | 47.5968 | -122.29  |            2190 |         5415 |      -4.2537e+06  |\n",
      "+----+------------+-------------+---------------+------------+----------+--------------+--------+-------------+---------+--------------+-----------------+------------+----------------+-----------+---------+----------+-----------------+--------------+-------------------+\n",
      "|  1 |          3 |        2.5  |          1680 |       2096 |      2   |            0 |      0 |           3 |       8 |         1380 |             300 |       2008 |              0 |     98117 | 47.6904 | -122.37  |            1360 |         2096 |       2.1149e+06  |\n",
      "+----+------------+-------------+---------------+------------+----------+--------------+--------+-------------+---------+--------------+-----------------+------------+----------------+-----------+---------+----------+-----------------+--------------+-------------------+\n",
      "|  1 |          3 |        2.25 |          2020 |       3600 |      2   |            0 |      0 |           3 |       8 |         2020 |               0 |       1998 |              0 |     98033 | 47.6678 | -122.165 |            2070 |         3699 |       2.40693e+06 |\n",
      "+----+------------+-------------+---------------+------------+----------+--------------+--------+-------------+---------+--------------+-----------------+------------+----------------+-----------+---------+----------+-----------------+--------------+-------------------+\n"
     ]
    }
   ],
   "source": [
    "matriz_datosEc = np.array([\n",
    "    [1,3,1,1180,5650,1,0,0,3,7,1180,0,1955,0,98178,47.5112,-122.257,1340,5650],\n",
    "    [1,2,0.75,1020,1076,2,0,0,3,7,1020,0,2008,0,98144,47.5941,-122.299,1020,1357],\n",
    "    [1,4,2.75,3555,6565,2,0,0,3,9,3555,0,2014,0,98053,47.6847,-122.017,3625,5637],\n",
    "    [1,2,1,1040,13920,1,0,0,3,6,1040,0,1973,2020,98198,47.3756,-122.306,1100,7575],\n",
    "    [1,4,1.75,1860,7350,1,0,0,4,7,1090,770,1977,2000,98031,47.3979,-122.174,1710,7350],\n",
    "    [1,1,1,1060,54846,1,1,4,3,5,1060,0,1935,0,98070,47.4716,-122.445,2258,31762],\n",
    "    [1,4,1.5,2220,9496,1,0,0,4,7,1490,730,1954,0,98004,47.6233,-122.206,1800,8286],\n",
    "    [1,4,1.5,1560,6534,1,0,0,4,7,1560,0,1962,0,98007,47.6012,-122.152,1560,6969],\n",
    "    [1,5,3,2510,4125,1.5,0,3,5,8,1590,920,1925,0,98144,47.5968,-122.29,2190,5415],\n",
    "    [1,3,2.5,1680,2096,2,0,0,3,8,1380,300,2008,0,98117,47.6904,-122.37,1360,2096],\n",
    "    [1,3,2.25,2020,3600,2,0,0,3,8,2020,0,1998,0,98033,47.6678,-122.165,2070,3699]\n",
    "])\n",
    "\n",
    "#creamos un vector parta almacenar cada Y predicha\n",
    "y_pre_Ec = []\n",
    "#Calculamos la Y predicha de los 11 ejemplos de prediccion\n",
    "for datosEc in matriz_datosEc:\n",
    "    y_pre_Ec.append(np.dot(datosEc, theta_Ec))\n",
    "\n",
    "matriz_datosEc = np.column_stack((matriz_datosEc, y_pre_Ec))\n",
    "\n",
    "nombres_columnas = ['bedrooms','bathrooms','sqft_living','sqft_lot','floors','waterfront','view','condition','grade','sqft_above','sqft_basement','yr_built','yr_renovated','zipcode','lat','long','sqft_living15','sqft_lot15','Price']\n",
    "\n",
    "# Convertir la matriz en una lista de listas\n",
    "datos_para_tabla = matriz_datosEc.tolist()\n",
    "\n",
    "# Imprimir la tabla\n",
    "print(tabulate(datos_para_tabla, headers=nombres_columnas, tablefmt='grid'))"
   ]
  },
  {
   "cell_type": "markdown",
   "metadata": {},
   "source": [
    "#### 2.3.4 Validaciones\n",
    "Para hacer las validaciones correspondientes, primero se crea la funcion del **Mean squeared error**\n",
    "\n",
    "Siguiendo el consejo de 80/20, donde 80% es para la fase de entrenamiento, y 20% es para la fase de prueba."
   ]
  },
  {
   "cell_type": "code",
   "execution_count": 110,
   "metadata": {},
   "outputs": [
    {
     "name": "stdout",
     "output_type": "stream",
     "text": [
      "Error Cuadrático Medio (MSE) = 8652638787130.842\n",
      "Raíz del Error Cuadrático Medio (RMSE) = 2941536.8070331607\n"
     ]
    }
   ],
   "source": [
    "#Concatenamos de unos a la primera posicion del X_test para la ecuacion normal\n",
    "X_ready_testEc = np.concatenate([np.ones((m_testEc, 1)), X_testEc], axis=1)\n",
    "\n",
    "#creamos un array que almacenara cada una de las y_predicha  para la ecuacion normal\n",
    "y_predicha_Ec = []\n",
    "for data_test_ready in X_ready_testEc:\n",
    "    y_predicha_Ec.append(np.dot(data_test_ready, theta_Ec))\n",
    "\n",
    "#calculamos el error cuadratico medio y la raiz del error cuadratico medio:\n",
    "mse_Ec = mean_squared_error(y_predicha_Ec, y_testEc)\n",
    "#calculamos el error cuadratico medio:\n",
    "print('Error Cuadrático Medio (MSE) = ' + str(mse_Ec))\n",
    "print('Raíz del Error Cuadrático Medio (RMSE) = ' + str(np.sqrt(mse_Ec)))"
   ]
  }
 ],
 "metadata": {
  "kernelspec": {
   "display_name": "Python 3",
   "language": "python",
   "name": "python3"
  },
  "language_info": {
   "codemirror_mode": {
    "name": "ipython",
    "version": 3
   },
   "file_extension": ".py",
   "mimetype": "text/x-python",
   "name": "python",
   "nbconvert_exporter": "python",
   "pygments_lexer": "ipython3",
   "version": "3.12.2"
  }
 },
 "nbformat": 4,
 "nbformat_minor": 2
}
