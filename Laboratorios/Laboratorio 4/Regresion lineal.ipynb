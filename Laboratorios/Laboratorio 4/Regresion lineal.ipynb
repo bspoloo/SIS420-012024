{
 "cells": [
  {
   "cell_type": "markdown",
   "metadata": {},
   "source": [
    "# Laboratorio 4(Aplicacion de Regularizacion) Grupo 1\n",
    " <h3>En este laboratorio se hizo el uso del dataset para aplicar la regularización y sin utilizar regularización, y com siguiente se presento los resultados de ambas experiencias<h3>\n",
    " <HR>\n",
    " <h3>\n",
    "  NOMBRE: POLO ORELLANA BRAYAN SIMON <br>\n",
    "  CARRERA: INGENIERIA DE SISTEMAS <BR>\n",
    "  FECHA: 26/03/2024 <BR>\n",
    "\n",
    "  * [Enlace de invitacion para ser colaborador](https://github.com/bspoloo/SIS420-012024/invitations)\n",
    "  \n",
    "  * [Enlace al git hub](https://github.com/bspoloo/SIS420-012024/tree/main/Laboratorios/Lab%201)\n",
    "  \n",
    "  * [Enlace al Colab](https://colab.research.google.com/github/bspoloo/SIS420-012024/blob/main/Laboratorios/Laboratorio%204/Regresion%20lineal.ipynb?hl=es#scrollTo=jmDd6cd2hQ_W)\n",
    "  \n",
    " <h3>\n",
    "\n",
    " Para el laboratorio implementando regularizacion se hizo uso del dataset para predecir el precio de las casas en USA. El enlace al dataset es [House Sales in King County, USA](https://www.kaggle.com/datasets/harlfoxem/housesalesprediction).\n",
    "\n",
    "El conjunto de datos, denominado ``kc_house_data.csv``, contiene un conjunto de entrenamiento de precios de casas en el condado de King. Este conjunto de datos probablemente incluye varias características relevantes para predecir el precio de las casas, como el tamaño de la vivienda, el número de habitaciones, la ubicación, las características específicas de la casa, etc.\n"
   ]
  },
  {
   "cell_type": "markdown",
   "metadata": {},
   "source": [
    "Primero se importo todas las librerias necesarias:"
   ]
  },
  {
   "cell_type": "code",
   "execution_count": 374,
   "metadata": {},
   "outputs": [],
   "source": [
    "# utilizando la libreria os para manejos de directorios\n",
    "import os\n",
    "\n",
    "# Computacion vectorial y cientifica para python\n",
    "import numpy as np\n",
    "\n",
    "#importamos pandas para el manejo del dataset, y separarlos dentro de una matriz\n",
    "import pandas as pd\n",
    "\n",
    "#esta tabulate nos sirve para hacer tablas\n",
    "from tabulate import tabulate\n",
    "\n",
    "# Librerias para graficación (trazado de gráficos)\n",
    "from matplotlib import pyplot\n",
    "from mpl_toolkits.mplot3d import Axes3D  # -> Necesario para graficar superficies 3D\n",
    "\n",
    "#Para separa el 20% y 80%\n",
    "from sklearn.model_selection import train_test_split\n",
    "\n",
    "# llama a matplotlib a embeber graficas dentro de los cuadernillos\n",
    "%matplotlib inline"
   ]
  },
  {
   "cell_type": "markdown",
   "metadata": {},
   "source": [
    "## Carga de datos del dataset\n",
    "\n",
    "cargamos los datos haciendo el uso de la libreria **Pandas** que  es una herramienta poderosa y versátil utilizada para manipulación y análisis de datos. Ofrece estructuras de datos flexibles y eficientes para trabajar con datos tabulares, como hojas de cálculo en Excel o tablas SQL. Algunas de las funcionalidades clave de pandas incluyen:"
   ]
  },
  {
   "cell_type": "code",
   "execution_count": 375,
   "metadata": {},
   "outputs": [
    {
     "data": {
      "text/html": [
       "<div>\n",
       "<style scoped>\n",
       "    .dataframe tbody tr th:only-of-type {\n",
       "        vertical-align: middle;\n",
       "    }\n",
       "\n",
       "    .dataframe tbody tr th {\n",
       "        vertical-align: top;\n",
       "    }\n",
       "\n",
       "    .dataframe thead th {\n",
       "        text-align: right;\n",
       "    }\n",
       "</style>\n",
       "<table border=\"1\" class=\"dataframe\">\n",
       "  <thead>\n",
       "    <tr style=\"text-align: right;\">\n",
       "      <th></th>\n",
       "      <th>id</th>\n",
       "      <th>date</th>\n",
       "      <th>price</th>\n",
       "      <th>bedrooms</th>\n",
       "      <th>bathrooms</th>\n",
       "      <th>sqft_living</th>\n",
       "      <th>sqft_lot</th>\n",
       "      <th>floors</th>\n",
       "      <th>waterfront</th>\n",
       "      <th>view</th>\n",
       "      <th>...</th>\n",
       "      <th>grade</th>\n",
       "      <th>sqft_above</th>\n",
       "      <th>sqft_basement</th>\n",
       "      <th>yr_built</th>\n",
       "      <th>yr_renovated</th>\n",
       "      <th>zipcode</th>\n",
       "      <th>lat</th>\n",
       "      <th>long</th>\n",
       "      <th>sqft_living15</th>\n",
       "      <th>sqft_lot15</th>\n",
       "    </tr>\n",
       "  </thead>\n",
       "  <tbody>\n",
       "    <tr>\n",
       "      <th>0</th>\n",
       "      <td>7129300520</td>\n",
       "      <td>20141013T000000</td>\n",
       "      <td>221900.0</td>\n",
       "      <td>3</td>\n",
       "      <td>1.00</td>\n",
       "      <td>1180</td>\n",
       "      <td>5650</td>\n",
       "      <td>1.0</td>\n",
       "      <td>0</td>\n",
       "      <td>0</td>\n",
       "      <td>...</td>\n",
       "      <td>7</td>\n",
       "      <td>1180</td>\n",
       "      <td>0</td>\n",
       "      <td>1955</td>\n",
       "      <td>0</td>\n",
       "      <td>98178</td>\n",
       "      <td>47.5112</td>\n",
       "      <td>-122.257</td>\n",
       "      <td>1340</td>\n",
       "      <td>5650</td>\n",
       "    </tr>\n",
       "    <tr>\n",
       "      <th>1</th>\n",
       "      <td>6414100192</td>\n",
       "      <td>20141209T000000</td>\n",
       "      <td>538000.0</td>\n",
       "      <td>3</td>\n",
       "      <td>2.25</td>\n",
       "      <td>2570</td>\n",
       "      <td>7242</td>\n",
       "      <td>2.0</td>\n",
       "      <td>0</td>\n",
       "      <td>0</td>\n",
       "      <td>...</td>\n",
       "      <td>7</td>\n",
       "      <td>2170</td>\n",
       "      <td>400</td>\n",
       "      <td>1951</td>\n",
       "      <td>1991</td>\n",
       "      <td>98125</td>\n",
       "      <td>47.7210</td>\n",
       "      <td>-122.319</td>\n",
       "      <td>1690</td>\n",
       "      <td>7639</td>\n",
       "    </tr>\n",
       "    <tr>\n",
       "      <th>2</th>\n",
       "      <td>5631500400</td>\n",
       "      <td>20150225T000000</td>\n",
       "      <td>180000.0</td>\n",
       "      <td>2</td>\n",
       "      <td>1.00</td>\n",
       "      <td>770</td>\n",
       "      <td>10000</td>\n",
       "      <td>1.0</td>\n",
       "      <td>0</td>\n",
       "      <td>0</td>\n",
       "      <td>...</td>\n",
       "      <td>6</td>\n",
       "      <td>770</td>\n",
       "      <td>0</td>\n",
       "      <td>1933</td>\n",
       "      <td>0</td>\n",
       "      <td>98028</td>\n",
       "      <td>47.7379</td>\n",
       "      <td>-122.233</td>\n",
       "      <td>2720</td>\n",
       "      <td>8062</td>\n",
       "    </tr>\n",
       "    <tr>\n",
       "      <th>3</th>\n",
       "      <td>2487200875</td>\n",
       "      <td>20141209T000000</td>\n",
       "      <td>604000.0</td>\n",
       "      <td>4</td>\n",
       "      <td>3.00</td>\n",
       "      <td>1960</td>\n",
       "      <td>5000</td>\n",
       "      <td>1.0</td>\n",
       "      <td>0</td>\n",
       "      <td>0</td>\n",
       "      <td>...</td>\n",
       "      <td>7</td>\n",
       "      <td>1050</td>\n",
       "      <td>910</td>\n",
       "      <td>1965</td>\n",
       "      <td>0</td>\n",
       "      <td>98136</td>\n",
       "      <td>47.5208</td>\n",
       "      <td>-122.393</td>\n",
       "      <td>1360</td>\n",
       "      <td>5000</td>\n",
       "    </tr>\n",
       "    <tr>\n",
       "      <th>4</th>\n",
       "      <td>1954400510</td>\n",
       "      <td>20150218T000000</td>\n",
       "      <td>510000.0</td>\n",
       "      <td>3</td>\n",
       "      <td>2.00</td>\n",
       "      <td>1680</td>\n",
       "      <td>8080</td>\n",
       "      <td>1.0</td>\n",
       "      <td>0</td>\n",
       "      <td>0</td>\n",
       "      <td>...</td>\n",
       "      <td>8</td>\n",
       "      <td>1680</td>\n",
       "      <td>0</td>\n",
       "      <td>1987</td>\n",
       "      <td>0</td>\n",
       "      <td>98074</td>\n",
       "      <td>47.6168</td>\n",
       "      <td>-122.045</td>\n",
       "      <td>1800</td>\n",
       "      <td>7503</td>\n",
       "    </tr>\n",
       "    <tr>\n",
       "      <th>...</th>\n",
       "      <td>...</td>\n",
       "      <td>...</td>\n",
       "      <td>...</td>\n",
       "      <td>...</td>\n",
       "      <td>...</td>\n",
       "      <td>...</td>\n",
       "      <td>...</td>\n",
       "      <td>...</td>\n",
       "      <td>...</td>\n",
       "      <td>...</td>\n",
       "      <td>...</td>\n",
       "      <td>...</td>\n",
       "      <td>...</td>\n",
       "      <td>...</td>\n",
       "      <td>...</td>\n",
       "      <td>...</td>\n",
       "      <td>...</td>\n",
       "      <td>...</td>\n",
       "      <td>...</td>\n",
       "      <td>...</td>\n",
       "      <td>...</td>\n",
       "    </tr>\n",
       "    <tr>\n",
       "      <th>21608</th>\n",
       "      <td>263000018</td>\n",
       "      <td>20140521T000000</td>\n",
       "      <td>360000.0</td>\n",
       "      <td>3</td>\n",
       "      <td>2.50</td>\n",
       "      <td>1530</td>\n",
       "      <td>1131</td>\n",
       "      <td>3.0</td>\n",
       "      <td>0</td>\n",
       "      <td>0</td>\n",
       "      <td>...</td>\n",
       "      <td>8</td>\n",
       "      <td>1530</td>\n",
       "      <td>0</td>\n",
       "      <td>2009</td>\n",
       "      <td>0</td>\n",
       "      <td>98103</td>\n",
       "      <td>47.6993</td>\n",
       "      <td>-122.346</td>\n",
       "      <td>1530</td>\n",
       "      <td>1509</td>\n",
       "    </tr>\n",
       "    <tr>\n",
       "      <th>21609</th>\n",
       "      <td>6600060120</td>\n",
       "      <td>20150223T000000</td>\n",
       "      <td>400000.0</td>\n",
       "      <td>4</td>\n",
       "      <td>2.50</td>\n",
       "      <td>2310</td>\n",
       "      <td>5813</td>\n",
       "      <td>2.0</td>\n",
       "      <td>0</td>\n",
       "      <td>0</td>\n",
       "      <td>...</td>\n",
       "      <td>8</td>\n",
       "      <td>2310</td>\n",
       "      <td>0</td>\n",
       "      <td>2014</td>\n",
       "      <td>0</td>\n",
       "      <td>98146</td>\n",
       "      <td>47.5107</td>\n",
       "      <td>-122.362</td>\n",
       "      <td>1830</td>\n",
       "      <td>7200</td>\n",
       "    </tr>\n",
       "    <tr>\n",
       "      <th>21610</th>\n",
       "      <td>1523300141</td>\n",
       "      <td>20140623T000000</td>\n",
       "      <td>402101.0</td>\n",
       "      <td>2</td>\n",
       "      <td>0.75</td>\n",
       "      <td>1020</td>\n",
       "      <td>1350</td>\n",
       "      <td>2.0</td>\n",
       "      <td>0</td>\n",
       "      <td>0</td>\n",
       "      <td>...</td>\n",
       "      <td>7</td>\n",
       "      <td>1020</td>\n",
       "      <td>0</td>\n",
       "      <td>2009</td>\n",
       "      <td>0</td>\n",
       "      <td>98144</td>\n",
       "      <td>47.5944</td>\n",
       "      <td>-122.299</td>\n",
       "      <td>1020</td>\n",
       "      <td>2007</td>\n",
       "    </tr>\n",
       "    <tr>\n",
       "      <th>21611</th>\n",
       "      <td>291310100</td>\n",
       "      <td>20150116T000000</td>\n",
       "      <td>400000.0</td>\n",
       "      <td>3</td>\n",
       "      <td>2.50</td>\n",
       "      <td>1600</td>\n",
       "      <td>2388</td>\n",
       "      <td>2.0</td>\n",
       "      <td>0</td>\n",
       "      <td>0</td>\n",
       "      <td>...</td>\n",
       "      <td>8</td>\n",
       "      <td>1600</td>\n",
       "      <td>0</td>\n",
       "      <td>2004</td>\n",
       "      <td>0</td>\n",
       "      <td>98027</td>\n",
       "      <td>47.5345</td>\n",
       "      <td>-122.069</td>\n",
       "      <td>1410</td>\n",
       "      <td>1287</td>\n",
       "    </tr>\n",
       "    <tr>\n",
       "      <th>21612</th>\n",
       "      <td>1523300157</td>\n",
       "      <td>20141015T000000</td>\n",
       "      <td>325000.0</td>\n",
       "      <td>2</td>\n",
       "      <td>0.75</td>\n",
       "      <td>1020</td>\n",
       "      <td>1076</td>\n",
       "      <td>2.0</td>\n",
       "      <td>0</td>\n",
       "      <td>0</td>\n",
       "      <td>...</td>\n",
       "      <td>7</td>\n",
       "      <td>1020</td>\n",
       "      <td>0</td>\n",
       "      <td>2008</td>\n",
       "      <td>0</td>\n",
       "      <td>98144</td>\n",
       "      <td>47.5941</td>\n",
       "      <td>-122.299</td>\n",
       "      <td>1020</td>\n",
       "      <td>1357</td>\n",
       "    </tr>\n",
       "  </tbody>\n",
       "</table>\n",
       "<p>21613 rows × 21 columns</p>\n",
       "</div>"
      ],
      "text/plain": [
       "               id             date     price  bedrooms  bathrooms  \\\n",
       "0      7129300520  20141013T000000  221900.0         3       1.00   \n",
       "1      6414100192  20141209T000000  538000.0         3       2.25   \n",
       "2      5631500400  20150225T000000  180000.0         2       1.00   \n",
       "3      2487200875  20141209T000000  604000.0         4       3.00   \n",
       "4      1954400510  20150218T000000  510000.0         3       2.00   \n",
       "...           ...              ...       ...       ...        ...   \n",
       "21608   263000018  20140521T000000  360000.0         3       2.50   \n",
       "21609  6600060120  20150223T000000  400000.0         4       2.50   \n",
       "21610  1523300141  20140623T000000  402101.0         2       0.75   \n",
       "21611   291310100  20150116T000000  400000.0         3       2.50   \n",
       "21612  1523300157  20141015T000000  325000.0         2       0.75   \n",
       "\n",
       "       sqft_living  sqft_lot  floors  waterfront  view  ...  grade  \\\n",
       "0             1180      5650     1.0           0     0  ...      7   \n",
       "1             2570      7242     2.0           0     0  ...      7   \n",
       "2              770     10000     1.0           0     0  ...      6   \n",
       "3             1960      5000     1.0           0     0  ...      7   \n",
       "4             1680      8080     1.0           0     0  ...      8   \n",
       "...            ...       ...     ...         ...   ...  ...    ...   \n",
       "21608         1530      1131     3.0           0     0  ...      8   \n",
       "21609         2310      5813     2.0           0     0  ...      8   \n",
       "21610         1020      1350     2.0           0     0  ...      7   \n",
       "21611         1600      2388     2.0           0     0  ...      8   \n",
       "21612         1020      1076     2.0           0     0  ...      7   \n",
       "\n",
       "       sqft_above  sqft_basement  yr_built  yr_renovated  zipcode      lat  \\\n",
       "0            1180              0      1955             0    98178  47.5112   \n",
       "1            2170            400      1951          1991    98125  47.7210   \n",
       "2             770              0      1933             0    98028  47.7379   \n",
       "3            1050            910      1965             0    98136  47.5208   \n",
       "4            1680              0      1987             0    98074  47.6168   \n",
       "...           ...            ...       ...           ...      ...      ...   \n",
       "21608        1530              0      2009             0    98103  47.6993   \n",
       "21609        2310              0      2014             0    98146  47.5107   \n",
       "21610        1020              0      2009             0    98144  47.5944   \n",
       "21611        1600              0      2004             0    98027  47.5345   \n",
       "21612        1020              0      2008             0    98144  47.5941   \n",
       "\n",
       "          long  sqft_living15  sqft_lot15  \n",
       "0     -122.257           1340        5650  \n",
       "1     -122.319           1690        7639  \n",
       "2     -122.233           2720        8062  \n",
       "3     -122.393           1360        5000  \n",
       "4     -122.045           1800        7503  \n",
       "...        ...            ...         ...  \n",
       "21608 -122.346           1530        1509  \n",
       "21609 -122.362           1830        7200  \n",
       "21610 -122.299           1020        2007  \n",
       "21611 -122.069           1410        1287  \n",
       "21612 -122.299           1020        1357  \n",
       "\n",
       "[21613 rows x 21 columns]"
      ]
     },
     "execution_count": 375,
     "metadata": {},
     "output_type": "execute_result"
    }
   ],
   "source": [
    "#cargamos el dataset a un dataframe\n",
    "df = pd.read_csv('kc_house_data.csv', delimiter=',')\n",
    "\n",
    "#mostramos el dataset\n",
    "df"
   ]
  },
  {
   "cell_type": "markdown",
   "metadata": {},
   "source": [
    "## Analisis del dataset\n",
    "Hacemos un analisis del dataset mostrando su informacion usando la funcion de `info()`:"
   ]
  },
  {
   "cell_type": "code",
   "execution_count": 376,
   "metadata": {},
   "outputs": [
    {
     "name": "stdout",
     "output_type": "stream",
     "text": [
      "<class 'pandas.core.frame.DataFrame'>\n",
      "RangeIndex: 21613 entries, 0 to 21612\n",
      "Data columns (total 21 columns):\n",
      " #   Column         Non-Null Count  Dtype  \n",
      "---  ------         --------------  -----  \n",
      " 0   id             21613 non-null  int64  \n",
      " 1   date           21613 non-null  object \n",
      " 2   price          21613 non-null  float64\n",
      " 3   bedrooms       21613 non-null  int64  \n",
      " 4   bathrooms      21613 non-null  float64\n",
      " 5   sqft_living    21613 non-null  int64  \n",
      " 6   sqft_lot       21613 non-null  int64  \n",
      " 7   floors         21613 non-null  float64\n",
      " 8   waterfront     21613 non-null  int64  \n",
      " 9   view           21613 non-null  int64  \n",
      " 10  condition      21613 non-null  int64  \n",
      " 11  grade          21613 non-null  int64  \n",
      " 12  sqft_above     21613 non-null  int64  \n",
      " 13  sqft_basement  21613 non-null  int64  \n",
      " 14  yr_built       21613 non-null  int64  \n",
      " 15  yr_renovated   21613 non-null  int64  \n",
      " 16  zipcode        21613 non-null  int64  \n",
      " 17  lat            21613 non-null  float64\n",
      " 18  long           21613 non-null  float64\n",
      " 19  sqft_living15  21613 non-null  int64  \n",
      " 20  sqft_lot15     21613 non-null  int64  \n",
      "dtypes: float64(5), int64(15), object(1)\n",
      "memory usage: 3.5+ MB\n"
     ]
    }
   ],
   "source": [
    "df.info()"
   ]
  },
  {
   "cell_type": "code",
   "execution_count": 377,
   "metadata": {},
   "outputs": [
    {
     "data": {
      "text/html": [
       "<div>\n",
       "<style scoped>\n",
       "    .dataframe tbody tr th:only-of-type {\n",
       "        vertical-align: middle;\n",
       "    }\n",
       "\n",
       "    .dataframe tbody tr th {\n",
       "        vertical-align: top;\n",
       "    }\n",
       "\n",
       "    .dataframe thead th {\n",
       "        text-align: right;\n",
       "    }\n",
       "</style>\n",
       "<table border=\"1\" class=\"dataframe\">\n",
       "  <thead>\n",
       "    <tr style=\"text-align: right;\">\n",
       "      <th></th>\n",
       "      <th>price</th>\n",
       "      <th>bedrooms</th>\n",
       "      <th>bathrooms</th>\n",
       "      <th>sqft_living</th>\n",
       "      <th>sqft_lot</th>\n",
       "      <th>floors</th>\n",
       "      <th>waterfront</th>\n",
       "      <th>view</th>\n",
       "      <th>condition</th>\n",
       "      <th>grade</th>\n",
       "      <th>sqft_above</th>\n",
       "      <th>sqft_basement</th>\n",
       "      <th>yr_built</th>\n",
       "      <th>yr_renovated</th>\n",
       "      <th>zipcode</th>\n",
       "      <th>lat</th>\n",
       "      <th>long</th>\n",
       "      <th>sqft_living15</th>\n",
       "      <th>sqft_lot15</th>\n",
       "    </tr>\n",
       "  </thead>\n",
       "  <tbody>\n",
       "    <tr>\n",
       "      <th>0</th>\n",
       "      <td>221900.0</td>\n",
       "      <td>3.0</td>\n",
       "      <td>1.00</td>\n",
       "      <td>1180.0</td>\n",
       "      <td>5650.0</td>\n",
       "      <td>1.0</td>\n",
       "      <td>0.0</td>\n",
       "      <td>0.0</td>\n",
       "      <td>3.0</td>\n",
       "      <td>7.0</td>\n",
       "      <td>1180.0</td>\n",
       "      <td>0.0</td>\n",
       "      <td>1955.0</td>\n",
       "      <td>0.0</td>\n",
       "      <td>98178.0</td>\n",
       "      <td>47.5112</td>\n",
       "      <td>-122.257</td>\n",
       "      <td>1340.0</td>\n",
       "      <td>5650.0</td>\n",
       "    </tr>\n",
       "    <tr>\n",
       "      <th>1</th>\n",
       "      <td>538000.0</td>\n",
       "      <td>3.0</td>\n",
       "      <td>2.25</td>\n",
       "      <td>2570.0</td>\n",
       "      <td>7242.0</td>\n",
       "      <td>2.0</td>\n",
       "      <td>0.0</td>\n",
       "      <td>0.0</td>\n",
       "      <td>3.0</td>\n",
       "      <td>7.0</td>\n",
       "      <td>2170.0</td>\n",
       "      <td>400.0</td>\n",
       "      <td>1951.0</td>\n",
       "      <td>1991.0</td>\n",
       "      <td>98125.0</td>\n",
       "      <td>47.7210</td>\n",
       "      <td>-122.319</td>\n",
       "      <td>1690.0</td>\n",
       "      <td>7639.0</td>\n",
       "    </tr>\n",
       "    <tr>\n",
       "      <th>2</th>\n",
       "      <td>180000.0</td>\n",
       "      <td>2.0</td>\n",
       "      <td>1.00</td>\n",
       "      <td>770.0</td>\n",
       "      <td>10000.0</td>\n",
       "      <td>1.0</td>\n",
       "      <td>0.0</td>\n",
       "      <td>0.0</td>\n",
       "      <td>3.0</td>\n",
       "      <td>6.0</td>\n",
       "      <td>770.0</td>\n",
       "      <td>0.0</td>\n",
       "      <td>1933.0</td>\n",
       "      <td>0.0</td>\n",
       "      <td>98028.0</td>\n",
       "      <td>47.7379</td>\n",
       "      <td>-122.233</td>\n",
       "      <td>2720.0</td>\n",
       "      <td>8062.0</td>\n",
       "    </tr>\n",
       "    <tr>\n",
       "      <th>3</th>\n",
       "      <td>604000.0</td>\n",
       "      <td>4.0</td>\n",
       "      <td>3.00</td>\n",
       "      <td>1960.0</td>\n",
       "      <td>5000.0</td>\n",
       "      <td>1.0</td>\n",
       "      <td>0.0</td>\n",
       "      <td>0.0</td>\n",
       "      <td>5.0</td>\n",
       "      <td>7.0</td>\n",
       "      <td>1050.0</td>\n",
       "      <td>910.0</td>\n",
       "      <td>1965.0</td>\n",
       "      <td>0.0</td>\n",
       "      <td>98136.0</td>\n",
       "      <td>47.5208</td>\n",
       "      <td>-122.393</td>\n",
       "      <td>1360.0</td>\n",
       "      <td>5000.0</td>\n",
       "    </tr>\n",
       "    <tr>\n",
       "      <th>4</th>\n",
       "      <td>510000.0</td>\n",
       "      <td>3.0</td>\n",
       "      <td>2.00</td>\n",
       "      <td>1680.0</td>\n",
       "      <td>8080.0</td>\n",
       "      <td>1.0</td>\n",
       "      <td>0.0</td>\n",
       "      <td>0.0</td>\n",
       "      <td>3.0</td>\n",
       "      <td>8.0</td>\n",
       "      <td>1680.0</td>\n",
       "      <td>0.0</td>\n",
       "      <td>1987.0</td>\n",
       "      <td>0.0</td>\n",
       "      <td>98074.0</td>\n",
       "      <td>47.6168</td>\n",
       "      <td>-122.045</td>\n",
       "      <td>1800.0</td>\n",
       "      <td>7503.0</td>\n",
       "    </tr>\n",
       "    <tr>\n",
       "      <th>...</th>\n",
       "      <td>...</td>\n",
       "      <td>...</td>\n",
       "      <td>...</td>\n",
       "      <td>...</td>\n",
       "      <td>...</td>\n",
       "      <td>...</td>\n",
       "      <td>...</td>\n",
       "      <td>...</td>\n",
       "      <td>...</td>\n",
       "      <td>...</td>\n",
       "      <td>...</td>\n",
       "      <td>...</td>\n",
       "      <td>...</td>\n",
       "      <td>...</td>\n",
       "      <td>...</td>\n",
       "      <td>...</td>\n",
       "      <td>...</td>\n",
       "      <td>...</td>\n",
       "      <td>...</td>\n",
       "    </tr>\n",
       "    <tr>\n",
       "      <th>21608</th>\n",
       "      <td>360000.0</td>\n",
       "      <td>3.0</td>\n",
       "      <td>2.50</td>\n",
       "      <td>1530.0</td>\n",
       "      <td>1131.0</td>\n",
       "      <td>3.0</td>\n",
       "      <td>0.0</td>\n",
       "      <td>0.0</td>\n",
       "      <td>3.0</td>\n",
       "      <td>8.0</td>\n",
       "      <td>1530.0</td>\n",
       "      <td>0.0</td>\n",
       "      <td>2009.0</td>\n",
       "      <td>0.0</td>\n",
       "      <td>98103.0</td>\n",
       "      <td>47.6993</td>\n",
       "      <td>-122.346</td>\n",
       "      <td>1530.0</td>\n",
       "      <td>1509.0</td>\n",
       "    </tr>\n",
       "    <tr>\n",
       "      <th>21609</th>\n",
       "      <td>400000.0</td>\n",
       "      <td>4.0</td>\n",
       "      <td>2.50</td>\n",
       "      <td>2310.0</td>\n",
       "      <td>5813.0</td>\n",
       "      <td>2.0</td>\n",
       "      <td>0.0</td>\n",
       "      <td>0.0</td>\n",
       "      <td>3.0</td>\n",
       "      <td>8.0</td>\n",
       "      <td>2310.0</td>\n",
       "      <td>0.0</td>\n",
       "      <td>2014.0</td>\n",
       "      <td>0.0</td>\n",
       "      <td>98146.0</td>\n",
       "      <td>47.5107</td>\n",
       "      <td>-122.362</td>\n",
       "      <td>1830.0</td>\n",
       "      <td>7200.0</td>\n",
       "    </tr>\n",
       "    <tr>\n",
       "      <th>21610</th>\n",
       "      <td>402101.0</td>\n",
       "      <td>2.0</td>\n",
       "      <td>0.75</td>\n",
       "      <td>1020.0</td>\n",
       "      <td>1350.0</td>\n",
       "      <td>2.0</td>\n",
       "      <td>0.0</td>\n",
       "      <td>0.0</td>\n",
       "      <td>3.0</td>\n",
       "      <td>7.0</td>\n",
       "      <td>1020.0</td>\n",
       "      <td>0.0</td>\n",
       "      <td>2009.0</td>\n",
       "      <td>0.0</td>\n",
       "      <td>98144.0</td>\n",
       "      <td>47.5944</td>\n",
       "      <td>-122.299</td>\n",
       "      <td>1020.0</td>\n",
       "      <td>2007.0</td>\n",
       "    </tr>\n",
       "    <tr>\n",
       "      <th>21611</th>\n",
       "      <td>400000.0</td>\n",
       "      <td>3.0</td>\n",
       "      <td>2.50</td>\n",
       "      <td>1600.0</td>\n",
       "      <td>2388.0</td>\n",
       "      <td>2.0</td>\n",
       "      <td>0.0</td>\n",
       "      <td>0.0</td>\n",
       "      <td>3.0</td>\n",
       "      <td>8.0</td>\n",
       "      <td>1600.0</td>\n",
       "      <td>0.0</td>\n",
       "      <td>2004.0</td>\n",
       "      <td>0.0</td>\n",
       "      <td>98027.0</td>\n",
       "      <td>47.5345</td>\n",
       "      <td>-122.069</td>\n",
       "      <td>1410.0</td>\n",
       "      <td>1287.0</td>\n",
       "    </tr>\n",
       "    <tr>\n",
       "      <th>21612</th>\n",
       "      <td>325000.0</td>\n",
       "      <td>2.0</td>\n",
       "      <td>0.75</td>\n",
       "      <td>1020.0</td>\n",
       "      <td>1076.0</td>\n",
       "      <td>2.0</td>\n",
       "      <td>0.0</td>\n",
       "      <td>0.0</td>\n",
       "      <td>3.0</td>\n",
       "      <td>7.0</td>\n",
       "      <td>1020.0</td>\n",
       "      <td>0.0</td>\n",
       "      <td>2008.0</td>\n",
       "      <td>0.0</td>\n",
       "      <td>98144.0</td>\n",
       "      <td>47.5941</td>\n",
       "      <td>-122.299</td>\n",
       "      <td>1020.0</td>\n",
       "      <td>1357.0</td>\n",
       "    </tr>\n",
       "  </tbody>\n",
       "</table>\n",
       "<p>21613 rows × 19 columns</p>\n",
       "</div>"
      ],
      "text/plain": [
       "          price  bedrooms  bathrooms  sqft_living  sqft_lot  floors  \\\n",
       "0      221900.0       3.0       1.00       1180.0    5650.0     1.0   \n",
       "1      538000.0       3.0       2.25       2570.0    7242.0     2.0   \n",
       "2      180000.0       2.0       1.00        770.0   10000.0     1.0   \n",
       "3      604000.0       4.0       3.00       1960.0    5000.0     1.0   \n",
       "4      510000.0       3.0       2.00       1680.0    8080.0     1.0   \n",
       "...         ...       ...        ...          ...       ...     ...   \n",
       "21608  360000.0       3.0       2.50       1530.0    1131.0     3.0   \n",
       "21609  400000.0       4.0       2.50       2310.0    5813.0     2.0   \n",
       "21610  402101.0       2.0       0.75       1020.0    1350.0     2.0   \n",
       "21611  400000.0       3.0       2.50       1600.0    2388.0     2.0   \n",
       "21612  325000.0       2.0       0.75       1020.0    1076.0     2.0   \n",
       "\n",
       "       waterfront  view  condition  grade  sqft_above  sqft_basement  \\\n",
       "0             0.0   0.0        3.0    7.0      1180.0            0.0   \n",
       "1             0.0   0.0        3.0    7.0      2170.0          400.0   \n",
       "2             0.0   0.0        3.0    6.0       770.0            0.0   \n",
       "3             0.0   0.0        5.0    7.0      1050.0          910.0   \n",
       "4             0.0   0.0        3.0    8.0      1680.0            0.0   \n",
       "...           ...   ...        ...    ...         ...            ...   \n",
       "21608         0.0   0.0        3.0    8.0      1530.0            0.0   \n",
       "21609         0.0   0.0        3.0    8.0      2310.0            0.0   \n",
       "21610         0.0   0.0        3.0    7.0      1020.0            0.0   \n",
       "21611         0.0   0.0        3.0    8.0      1600.0            0.0   \n",
       "21612         0.0   0.0        3.0    7.0      1020.0            0.0   \n",
       "\n",
       "       yr_built  yr_renovated  zipcode      lat     long  sqft_living15  \\\n",
       "0        1955.0           0.0  98178.0  47.5112 -122.257         1340.0   \n",
       "1        1951.0        1991.0  98125.0  47.7210 -122.319         1690.0   \n",
       "2        1933.0           0.0  98028.0  47.7379 -122.233         2720.0   \n",
       "3        1965.0           0.0  98136.0  47.5208 -122.393         1360.0   \n",
       "4        1987.0           0.0  98074.0  47.6168 -122.045         1800.0   \n",
       "...         ...           ...      ...      ...      ...            ...   \n",
       "21608    2009.0           0.0  98103.0  47.6993 -122.346         1530.0   \n",
       "21609    2014.0           0.0  98146.0  47.5107 -122.362         1830.0   \n",
       "21610    2009.0           0.0  98144.0  47.5944 -122.299         1020.0   \n",
       "21611    2004.0           0.0  98027.0  47.5345 -122.069         1410.0   \n",
       "21612    2008.0           0.0  98144.0  47.5941 -122.299         1020.0   \n",
       "\n",
       "       sqft_lot15  \n",
       "0          5650.0  \n",
       "1          7639.0  \n",
       "2          8062.0  \n",
       "3          5000.0  \n",
       "4          7503.0  \n",
       "...           ...  \n",
       "21608      1509.0  \n",
       "21609      7200.0  \n",
       "21610      2007.0  \n",
       "21611      1287.0  \n",
       "21612      1357.0  \n",
       "\n",
       "[21613 rows x 19 columns]"
      ]
     },
     "execution_count": 377,
     "metadata": {},
     "output_type": "execute_result"
    }
   ],
   "source": [
    "dataset = df.drop(['id', 'date'], axis=1).astype(float)\n",
    "dataset"
   ]
  },
  {
   "cell_type": "markdown",
   "metadata": {},
   "source": [
    "Se puede notar que nuestro dataset cuenta con 21 columnas, donde nuestra colummna `price` sera nuestra Y_predicha, el cual se busca calcular el precio de una casa dada 20 caracteristicas."
   ]
  },
  {
   "cell_type": "markdown",
   "metadata": {},
   "source": [
    "## Separacion del 80% de los datos para entrenamiento y 20% para pruebas\n",
    "\n",
    "Haremos uso de la libreria `sklearn` haciendo uso de su funcion `train_test_split()`, donde recibe como parametros:\n",
    "\n",
    "`Arrays o matrices de características (X): `Estos son los datos que se utilizarán para hacer predicciones. Por lo general, son las variables independientes o características del conjunto de datos.\n",
    "\n",
    "`test_size (opcional):` Este parámetro especifica el tamaño del conjunto de prueba. Puede ser un número decimal entre 0 y 1, que representa el porcentaje del conjunto de datos que se asignará al conjunto de prueba, o puede ser un entero que representa el número absoluto de muestras en el conjunto de prueba. Por ejemplo, si test_size=0.2, se asignará el 20% del conjunto de datos al conjunto de prueba.\n",
    "\n",
    "`train_size (opcional):` Este parámetro especifica el tamaño del conjunto de entrenamiento. Al igual que test_size, puede ser un número decimal entre 0 y 1 o un entero que representa el número absoluto de muestras en el conjunto de entrenamiento. Si no se proporciona, se calcula automáticamente como 1 - test_size.\n",
    "\n",
    "`random_state (opcional):` Este parámetro permite establecer una semilla para la generación de números pseudoaleatorios. Esto garantiza que la división de los datos sea reproducible. Si se establece en un número entero, el resultado será el mismo cada vez que se ejecute el código."
   ]
  },
  {
   "cell_type": "code",
   "execution_count": 378,
   "metadata": {},
   "outputs": [
    {
     "name": "stdout",
     "output_type": "stream",
     "text": [
      "  X[:,0] X[:, 1]   X[:, 2]   X[:, 3] X[:, 4] X[:, 5] X[:, 6] X[:, 7]X[:, 8]   X[:, 9]  X[:, 10]  X[:, 11]  X[:, 12]  X[:, 13]  X[:, 14]  X[:, 15]  X[:, 16]  X[:, 17]         Y\n",
      "------------------------------------------------------------------------------------------------------------------------------------------------------------------------------------\n",
      "       3       2      1780     13095       1       0       0       4       9      1780       0      1983         0     98042     47.37   -122.15      2750      13095        325000\n",
      "       2       1      1000      3700       1       0       0       3       6       800     200      1929         0     98118     47.55   -122.29      1270       5000        257000\n",
      "       3       1      1080      7486       2       0       0       3       6       990      90      1942         0     98146     47.48   -122.33      1170       7800        228500\n",
      "       3       2      2090      7500       1       0       0       4       7      1280     810      1977         0     98031     47.40   -122.17      1800       7350        288000\n",
      "       2       2      1741      1439       2       0       0       3       8      1446     295      2007         0     98034     47.70   -122.21      2090      10454        479000\n",
      "       3       2      2340     51836       2       0       0       3       8      1510     830      1978         0     98027     47.48   -122.03      2060      77536        459900\n",
      "       5       3      2040      7488       1       0       0       4       7      1200     840      1969         0     98034     47.73   -122.17      1530       7488        449500\n",
      "       5       2      3320     13138       1       0       2       4       9      1900    1420      1964         0     98028     47.76   -122.27      2820      13138        769000\n",
      "       3       2      1760      8400       1       0       0       4       8      1460     300      1960         0     98136     47.54   -122.39      1980       8400        680000\n",
      "       3       2      1610      5024       2       0       0       3       7      1610       0      2004         0     98038     47.38   -122.04      1790       3717        293500\n"
     ]
    }
   ],
   "source": [
    "#retiramos el id y la fecha del las columnas, quitamos el precio ya que ira a el vector Y, tambien quitamos los titulos\n",
    "dataset = df.drop(['id', 'date'], axis=1).astype(float)\n",
    "\n",
    "#separamos el 20% para test y el 80% para entrenamiento deld dataset\n",
    "train_dataset, test_dataset = train_test_split(dataset, test_size=0.2, random_state=42)\n",
    "\n",
    "# Seleccionamos las columnas para X y la columna 'price' para y\n",
    "X_test = test_dataset.drop(['price'], axis=1).values\n",
    "y_test = test_dataset['price'].values\n",
    "m_test = len(y_test)\n",
    "\n",
    "# Seleccionamos las columnas para X y la columna 'price' para y\n",
    "X_train = train_dataset.drop(['price'], axis=1).values\n",
    "y_train = train_dataset['price'].values\n",
    "m_train = len(y_test)\n",
    "# Ahora, X y y deberían contener datos numéricos del 80% del dataset\n",
    "\n",
    "# imprimir todos las X de datos solo 10\n",
    "print('{:>8s}{:>8s}{:>10s}{:>10s}{:>8s}{:>8s}{:>8s}{:>8s}{:>6s}{:>10s}{:>10s}{:>10s}{:>10s}{:>10s}{:>10s}{:>10s}{:>10s}{:>10s}{:>10s}'.format(\n",
    "    'X[:,0]', 'X[:, 1]', 'X[:, 2]', 'X[:, 3]', 'X[:, 4]', 'X[:, 5]', 'X[:, 6]', 'X[:, 7]', 'X[:, 8]', 'X[:, 9]', 'X[:, 10]', 'X[:, 11]',\n",
    "    'X[:, 12]', 'X[:, 13]', 'X[:, 14]', 'X[:, 15]', 'X[:, 16]', 'X[:, 17]', 'Y'\n",
    "))\n",
    "print('-' * 180)\n",
    "\n",
    "for i in range(10):\n",
    "    print('{:8.0f}{:8.0f}{:10.0f}{:10.0f}{:8.0f}{:8.0f}{:8.0f}{:8.0f}{:8.0f}{:10.0f}{:8.0f}{:10.0f}{:10.0f}{:10.0f}{:10.2f}{:10.2f}{:10.0f}{:11.0f}{:14.0f}'.format(\n",
    "        X_train[i, 0], \n",
    "        X_train[i, 1], \n",
    "        X_train[i, 2], \n",
    "        X_train[i, 3], \n",
    "        X_train[i, 4], \n",
    "        X_train[i, 5], \n",
    "        X_train[i, 6], \n",
    "        X_train[i, 7], \n",
    "        X_train[i, 8], \n",
    "        X_train[i, 9], \n",
    "        X_train[i, 10], \n",
    "        X_train[i, 11],\n",
    "        X_train[i, 12],\n",
    "        X_train[i, 13], \n",
    "        X_train[i, 14], \n",
    "        X_train[i, 15], \n",
    "        X_train[i, 16], \n",
    "        X_train[i, 17], \n",
    "        y_train[i]\n",
    "    ))\n"
   ]
  },
  {
   "cell_type": "code",
   "execution_count": 379,
   "metadata": {},
   "outputs": [
    {
     "name": "stdout",
     "output_type": "stream",
     "text": [
      " \n",
      "El 80% de ejemplos para entrenamiento son la cantidad de: 17290 de ejemplos\n",
      "El 20% de ejemplos para pruebas son la cantidad de: 4323 de ejemplos\n",
      "La cantidad total de ejemplos es de: 21613 de ejemplos\n"
     ]
    }
   ],
   "source": [
    "#mostramos la cantidad de ejemplos\n",
    "print(\" \")\n",
    "print('El 80% de ejemplos para entrenamiento son la cantidad de: {:.0f} de ejemplos'.format( len(train_dataset)))\n",
    "print('El 20% de ejemplos para pruebas son la cantidad de: {:.0f} de ejemplos'.format( len(test_dataset)))\n",
    "print('La cantidad total de ejemplos es de: {:.0f} de ejemplos'.format( len(dataset)))"
   ]
  },
  {
   "cell_type": "markdown",
   "metadata": {},
   "source": [
    "## Funcion para la Normalización de caracteristicas\n",
    "\n",
    "Al visualizar los datos se puede observar que las caracteristicas tienen diferentes magnitudes, por lo cual se debe transformar cada valor en una escala de valores similares, esto con el fin de que el descenso por el gradiente pueda converger mas rapidamente. En este caso\n",
    "\n",
    "Hacemos el uso de la siguiente funcion para normalizar los datos:"
   ]
  },
  {
   "cell_type": "code",
   "execution_count": 380,
   "metadata": {},
   "outputs": [],
   "source": [
    "def  featureNormalize(X):\n",
    "    X_norm = X.copy()\n",
    "\n",
    "    #creamos un array de ceros con una longitud igual al número de columnas en el array X. La variable mu y sigma se inicializa como este array de ceros.\n",
    "    mu = np.zeros(X.shape[1])\n",
    "    sigma = np.zeros(X.shape[1])\n",
    "\n",
    "    #Creamos el promedio de cada filaa de X\n",
    "    #media de cada columna\n",
    "    mu = np.mean(X, axis = 0)\n",
    "    \n",
    "    #desviacion estandar de cada fila de X\n",
    "    sigma = np.std(X, axis = 0)\n",
    "    \n",
    "    sigma[sigma == 0] = 1\n",
    "    \n",
    "    #normalizamos los datos con la siguiente formula\n",
    "    X_norm = (X - mu) / sigma\n",
    "\n",
    "    return X_norm, mu, sigma"
   ]
  },
  {
   "cell_type": "markdown",
   "metadata": {},
   "source": [
    "## Funcion para graficar"
   ]
  },
  {
   "cell_type": "code",
   "execution_count": 381,
   "metadata": {},
   "outputs": [],
   "source": [
    "# Creamos una funcion que nos ayude con las graficas de cada dato respecto a la Y predicha\n",
    "def graficarDatos(x, y, xlabel, ylabel):\n",
    "    fig = pyplot.figure()\n",
    "    pyplot.plot(x, y, 'ro', ms=10, mec='k')\n",
    "\n",
    "    pyplot.xlabel(xlabel)\n",
    "    pyplot.ylabel(ylabel)"
   ]
  },
  {
   "cell_type": "markdown",
   "metadata": {},
   "source": [
    "## Creacion de la funcion del error cuadratico medio"
   ]
  },
  {
   "cell_type": "code",
   "execution_count": 382,
   "metadata": {},
   "outputs": [],
   "source": [
    "#Creamos la funcion:\n",
    "def mean_squared_error(y_pred, y_actual):\n",
    "    resta = y_pred - y_actual\n",
    "    err_cuadrado = np.sum(resta ** 2)\n",
    "    return err_cuadrado / len(y_pred)"
   ]
  },
  {
   "cell_type": "markdown",
   "metadata": {},
   "source": [
    "## 1. Usando Regularizacion\n",
    "\n",
    "La regularización es una técnica utilizada en el aprendizaje automático para prevenir el **sobreajuste (overfitting)** de un modelo a los datos de entrenamiento.\n",
    "\n",
    "El sobreajuste ocurre cuando un modelo se ajusta demasiado bien a los datos de entrenamiento y captura el ruido o las fluctuaciones aleatorias en los datos en lugar de aprender la verdadera relación subyacente entre las características y la variable objetivo. Esto puede resultar en un rendimiento deficiente del modelo cuando se enfrenta a nuevos datos que no formaban parte del conjunto de entrenamiento."
   ]
  },
  {
   "cell_type": "markdown",
   "metadata": {},
   "source": [
    "### 1.1 regresion lineal multivariable"
   ]
  },
  {
   "cell_type": "markdown",
   "metadata": {},
   "source": [
    "Carga de los datos para la regresion lineal multivariable:"
   ]
  },
  {
   "cell_type": "code",
   "execution_count": 383,
   "metadata": {},
   "outputs": [],
   "source": [
    "#hacemos una copia de y_train y y_test para usarlo en la regresion lineal multivariable\n",
    "\n",
    "#estos datos seran usados para el entrenamiento\n",
    "X_testRLM = X_test.copy()\n",
    "y_testRLM = y_test.copy()\n",
    "m_test_RLM = len(y_testRLM)\n",
    "\n",
    "#estos datos seran usados para el test\n",
    "X_trainRLM = X_train.copy()\n",
    "y_trainRLM = y_train.copy()\n",
    "m_train_RLM = len(y_trainRLM)"
   ]
  },
  {
   "cell_type": "markdown",
   "metadata": {},
   "source": [
    "#### 1.1.1 Normalizacion de las caracteristicas\n",
    "\n",
    "Se hace uso de la funcion de `featureNormalize(X) ` donde se recibe un parametro de tipo matriz para normalizar cada dato dentro de ella, retornandome la **matriz normalizda**, **sigma(desviacion estandar)**, y mi **mu(media)**."
   ]
  },
  {
   "cell_type": "code",
   "execution_count": 384,
   "metadata": {},
   "outputs": [
    {
     "name": "stdout",
     "output_type": "stream",
     "text": [
      "    X[:,0]   X[:, 1]   X[:, 2]   X[:, 3]   X[:, 4]   X[:, 5]   X[:, 6]   X[:, 7]   X[:, 8]   X[:, 9]  X[:, 10]  X[:, 11]  X[:, 12]  X[:, 13]  X[:, 14]  X[:, 15]  X[:, 16]  X[:, 17]\n",
      "------------------------------------------------------------------------------------------------------------------------------------------------------------------------------------\n",
      "    -0.395    -0.474    -0.324    -0.044    -0.920    -0.085    -0.306     0.909     1.150    -0.007    -0.656     0.404    -0.208    -0.675    -1.397     0.442     1.126     0.013\n",
      "    -1.469    -1.453    -1.184    -0.286    -0.920    -0.085    -0.306    -0.625    -1.413    -1.200    -0.200    -1.431    -0.208     0.751    -0.060    -0.540    -1.047    -0.281\n",
      "    -0.395    -1.453    -1.095    -0.188     0.002    -0.085    -0.306    -0.625    -1.413    -0.969    -0.451    -0.989    -0.208     1.276    -0.553    -0.860    -1.193    -0.179\n",
      "    -0.395     0.178     0.018    -0.188    -0.920    -0.085    -0.306     0.909    -0.559    -0.616     1.190     0.200    -0.208    -0.881    -1.194     0.300    -0.268    -0.195\n",
      "    -1.469     0.504    -0.367    -0.344     0.923    -0.085    -0.306    -0.625     0.296    -0.414     0.016     1.219    -0.208    -0.825     1.040     0.037     0.157    -0.083\n",
      "    -0.395    -0.474     0.293     0.954     0.002    -0.085    -0.306    -0.625     0.296    -0.336     1.236     0.234    -0.208    -0.956    -0.547     1.275     0.113     2.355\n",
      "     1.752     0.830    -0.037    -0.188    -0.920    -0.085    -0.306     0.909    -0.559    -0.713     1.258    -0.072    -0.208    -0.825     1.218     0.300    -0.665    -0.190\n",
      "     1.752     0.178     1.373    -0.043    -0.920    -0.085     2.320     0.909     1.150     0.139     2.580    -0.241    -0.208    -0.937     1.435    -0.390     1.229     0.015\n",
      "    -0.395    -0.474    -0.346    -0.165    -0.920    -0.085    -0.306     0.909     0.296    -0.397     0.028    -0.377    -0.208     1.088    -0.179    -1.252    -0.004    -0.157\n",
      "    -0.395     0.504    -0.511    -0.252     0.923    -0.085    -0.306    -0.625    -0.559    -0.214    -0.656     1.117    -0.208    -0.750    -1.279     1.218    -0.283    -0.327\n"
     ]
    }
   ],
   "source": [
    "#introductimos los datos a la funcion de normalizacion\n",
    "X_norm_RLM, mu_RLM, sigma_RLM = featureNormalize(X_trainRLM)\n",
    "\n",
    "# imprimimos algunos valores de X_norm\n",
    "print('{:>10s}{:>10s}{:>10s}{:>10s}{:>10s}{:>10s}{:>10s}{:>10s}{:>10s}{:>10s}{:>10s}{:>10s}{:>10s}{:>10s}{:>10s}{:>10s}{:>10s}{:>10s}'.format(\n",
    "    'X[:,0]', 'X[:, 1]', 'X[:, 2]', 'X[:, 3]', 'X[:, 4]', 'X[:, 5]', 'X[:, 6]', 'X[:, 7]', 'X[:, 8]', 'X[:, 9]', 'X[:, 10]', 'X[:, 11]',\n",
    "    'X[:, 12]', 'X[:, 13]', 'X[:, 14]', 'X[:, 15]', 'X[:, 16]', 'X[:, 17]'\n",
    "))\n",
    "print('-' * 180)\n",
    "\n",
    "for i in range(10):\n",
    "    print('{:10.3f}{:10.3f}{:10.3f}{:10.3f}{:10.3f}{:10.3f}{:10.3f}{:10.3f}{:10.3f}{:10.3f}{:10.3f}{:10.3f}{:10.3f}{:10.3f}{:10.3f}{:10.3f}{:10.3f}{:10.3f}'.format(\n",
    "        X_norm_RLM[i, 0], \n",
    "        X_norm_RLM[i, 1], \n",
    "        X_norm_RLM[i, 2], \n",
    "        X_norm_RLM[i, 3], \n",
    "        X_norm_RLM[i, 4], \n",
    "        X_norm_RLM[i, 5], \n",
    "        X_norm_RLM[i, 6], \n",
    "        X_norm_RLM[i, 7], \n",
    "        X_norm_RLM[i, 8], \n",
    "        X_norm_RLM[i, 9], \n",
    "        X_norm_RLM[i, 10], \n",
    "        X_norm_RLM[i, 11],\n",
    "        X_norm_RLM[i, 12],\n",
    "        X_norm_RLM[i, 13], \n",
    "        X_norm_RLM[i, 14], \n",
    "        X_norm_RLM[i, 15], \n",
    "        X_norm_RLM[i, 16], \n",
    "        X_norm_RLM[i, 17],))\n",
    "\n"
   ]
  },
  {
   "cell_type": "markdown",
   "metadata": {},
   "source": [
    "#### 1.1.2 Agregamos la columna de unos a nuestra matriz"
   ]
  },
  {
   "cell_type": "code",
   "execution_count": 385,
   "metadata": {},
   "outputs": [
    {
     "name": "stdout",
     "output_type": "stream",
     "text": [
      "    X[:,0]   X[:, 1]   X[:, 2]   X[:, 3]   X[:, 4]   X[:, 5]   X[:, 6]   X[:, 7]   X[:, 8]   X[:, 9]  X[:, 10]  X[:, 11]  X[:, 12]  X[:, 13]  X[:, 14]  X[:, 15]  X[:, 16]  X[:, 17]  X[:, 18]\n",
      "------------------------------------------------------------------------------------------------------------------------------------------------------------------------------------\n",
      "     1.000    -0.395    -0.474    -0.324    -0.044    -0.920    -0.085    -0.306     0.909     1.150    -0.007    -0.656     0.404    -0.208    -0.675    -1.397     0.442     1.126     0.013\n",
      "     1.000    -1.469    -1.453    -1.184    -0.286    -0.920    -0.085    -0.306    -0.625    -1.413    -1.200    -0.200    -1.431    -0.208     0.751    -0.060    -0.540    -1.047    -0.281\n",
      "     1.000    -0.395    -1.453    -1.095    -0.188     0.002    -0.085    -0.306    -0.625    -1.413    -0.969    -0.451    -0.989    -0.208     1.276    -0.553    -0.860    -1.193    -0.179\n",
      "     1.000    -0.395     0.178     0.018    -0.188    -0.920    -0.085    -0.306     0.909    -0.559    -0.616     1.190     0.200    -0.208    -0.881    -1.194     0.300    -0.268    -0.195\n",
      "     1.000    -1.469     0.504    -0.367    -0.344     0.923    -0.085    -0.306    -0.625     0.296    -0.414     0.016     1.219    -0.208    -0.825     1.040     0.037     0.157    -0.083\n",
      "     1.000    -0.395    -0.474     0.293     0.954     0.002    -0.085    -0.306    -0.625     0.296    -0.336     1.236     0.234    -0.208    -0.956    -0.547     1.275     0.113     2.355\n",
      "     1.000     1.752     0.830    -0.037    -0.188    -0.920    -0.085    -0.306     0.909    -0.559    -0.713     1.258    -0.072    -0.208    -0.825     1.218     0.300    -0.665    -0.190\n",
      "     1.000     1.752     0.178     1.373    -0.043    -0.920    -0.085     2.320     0.909     1.150     0.139     2.580    -0.241    -0.208    -0.937     1.435    -0.390     1.229     0.015\n",
      "     1.000    -0.395    -0.474    -0.346    -0.165    -0.920    -0.085    -0.306     0.909     0.296    -0.397     0.028    -0.377    -0.208     1.088    -0.179    -1.252    -0.004    -0.157\n",
      "     1.000    -0.395     0.504    -0.511    -0.252     0.923    -0.085    -0.306    -0.625    -0.559    -0.214    -0.656     1.117    -0.208    -0.750    -1.279     1.218    -0.283    -0.327\n"
     ]
    }
   ],
   "source": [
    "X_ready_RLM = np.concatenate([np.ones((m_train_RLM, 1)), X_norm_RLM], axis=1)\n",
    "\n",
    "# imprimimos algunos valores de X_norm\n",
    "print('{:>10s}{:>10s}{:>10s}{:>10s}{:>10s}{:>10s}{:>10s}{:>10s}{:>10s}{:>10s}{:>10s}{:>10s}{:>10s}{:>10s}{:>10s}{:>10s}{:>10s}{:>10s}{:>10s}'.format(\n",
    "    'X[:,0]', 'X[:, 1]', 'X[:, 2]', 'X[:, 3]', 'X[:, 4]', 'X[:, 5]', 'X[:, 6]', 'X[:, 7]', 'X[:, 8]', 'X[:, 9]', 'X[:, 10]', 'X[:, 11]',\n",
    "    'X[:, 12]', 'X[:, 13]', 'X[:, 14]', 'X[:, 15]', 'X[:, 16]', 'X[:, 17]', 'X[:, 18]'\n",
    "))\n",
    "print('-' * 180)\n",
    "\n",
    "for i in range(10):\n",
    "    print('{:10.3f}{:10.3f}{:10.3f}{:10.3f}{:10.3f}{:10.3f}{:10.3f}{:10.3f}{:10.3f}{:10.3f}{:10.3f}{:10.3f}{:10.3f}{:10.3f}{:10.3f}{:10.3f}{:10.3f}{:10.3f}{:10.3f}'.format(\n",
    "        X_ready_RLM[i, 0], \n",
    "        X_ready_RLM[i, 1], \n",
    "        X_ready_RLM[i, 2], \n",
    "        X_ready_RLM[i, 3], \n",
    "        X_ready_RLM[i, 4], \n",
    "        X_ready_RLM[i, 5], \n",
    "        X_ready_RLM[i, 6], \n",
    "        X_ready_RLM[i, 7], \n",
    "        X_ready_RLM[i, 8], \n",
    "        X_ready_RLM[i, 9], \n",
    "        X_ready_RLM[i, 10], \n",
    "        X_ready_RLM[i, 11],\n",
    "        X_ready_RLM[i, 12],\n",
    "        X_ready_RLM[i, 13], \n",
    "        X_ready_RLM[i, 14], \n",
    "        X_ready_RLM[i, 15], \n",
    "        X_ready_RLM[i, 16], \n",
    "        X_ready_RLM[i, 17],\n",
    "        X_ready_RLM[i, 18]))"
   ]
  },
  {
   "cell_type": "markdown",
   "metadata": {},
   "source": [
    "#### 1.1.3 Descenso por el gradiente\n",
    "\n",
    "El descenso por el gradiente con la función de costo es un algoritmo fundamental en el aprendizaje automático supervisado, especialmente en problemas de optimización de modelos. Su propósito principal es minimizar la función de costo (o pérdida) de un modelo mediante ajustes iterativos de los parámetros del modelo."
   ]
  },
  {
   "cell_type": "markdown",
   "metadata": {},
   "source": [
    "##### 1.1.3.1 Cálculo del costo $J(\\theta)$"
   ]
  },
  {
   "cell_type": "code",
   "execution_count": 386,
   "metadata": {},
   "outputs": [],
   "source": [
    "#aumentamos el parametro de lambda para aplicar regularizacion\n",
    "#Creamos la funcion de calcular costo\n",
    "def calcularCosto(X, y, theta, lambda_):\n",
    "    m = y.size\n",
    "    J = 0\n",
    "    \n",
    "    #creamos una varable temporal para theta, donde decimos que el primer valor de temp es 0, esto para respetar la formula donde j = 1\n",
    "    temp = theta\n",
    "    temp[0] = 0\n",
    "    #h = np.dot(X, theta)\n",
    "    # print(h)\n",
    "    J = (1/(2 * m)) * np.sum(np.square(np.dot(X, theta) - y)) + (lambda_ / (2 * m)) * np.sum(np.square(temp))\n",
    "    return J"
   ]
  },
  {
   "cell_type": "markdown",
   "metadata": {},
   "source": [
    "Ejemplo de funcionamiento de la funcion computeCoste con dos valores diferentes de $\\theta$."
   ]
  },
  {
   "cell_type": "code",
   "execution_count": 387,
   "metadata": {},
   "outputs": [
    {
     "name": "stdout",
     "output_type": "stream",
     "text": [
      "19\n",
      "########################################################################################################\n",
      "con theta:[0.2 3.  0.2 0.1 3.  0.2 1.1 2.  0.7 0.8 5.8 0.9 0.7 2.  0.5 0.8 1.  0.2\n",
      " 0.3] se obtiene un costo de: 209918830024.66028\n",
      "########################################################################################################\n",
      "con theta:[0.1  2.   0.5  0.2  8.   0.7  1.3  8.   1.7  0.7  7.1  0.6  0.6  1.\n",
      " 0.3  0.9  2.   0.12 0.7 ] se obtiene un costo de: 209917572125.19516\n"
     ]
    }
   ],
   "source": [
    "theta=np.array([0.2, 3.0, 0.2,0.1, 3.0, 0.2,1.1, 2.0, 0.7,0.8, 5.8, 0.9,0.7, 2.0, 0.5,0.8, 1.0, 0.2,0.3])\n",
    "theta1=np.array([0.1, 2.0, 0.5,0.2, 8.0, 0.7,1.3, 8.0, 1.7,0.7, 7.1, 0.6,0.6, 1.0, 0.3,0.9, 2.0, 0.12,0.7])\n",
    "\n",
    "lambda_ = 1000\n",
    "print(theta.shape[0])\n",
    "print(f\"########################################################################################################\")\n",
    "print(f\"con theta:{ theta } se obtiene un costo de: {calcularCosto(X_ready_RLM, y_trainRLM, theta, lambda_)}\")\n",
    "print(f\"########################################################################################################\")\n",
    "print(f\"con theta:{ theta1 } se obtiene un costo de: {calcularCosto(X_ready_RLM, y_trainRLM, theta1, lambda_)}\")"
   ]
  },
  {
   "cell_type": "markdown",
   "metadata": {},
   "source": [
    "##### 1.1.3.2Descenso por el gradiente\n",
    "\n",
    "Creamos la funcion para hacer el calculo del descenso por el gradiente y asi encontrar nuestras **Thetas**, se hizo la modificacion para que la funcion ahora reciba el parametro de ``lamda_``"
   ]
  },
  {
   "cell_type": "code",
   "execution_count": 388,
   "metadata": {},
   "outputs": [],
   "source": [
    "#Creamos la funcion para calcular el descenso por Gradiente\n",
    "def calcularDescensoGradiente(X, y, theta, alpha,lambda_, numero_iteraciones):\n",
    "    m = y.shape[0]\n",
    "    theta = theta.copy()\n",
    "    J_historico = []\n",
    "\n",
    "    for i in range(numero_iteraciones):\n",
    "        theta = theta - (alpha / m) * (np.dot(X, theta) - y).dot(X)\n",
    "        \n",
    "        # se hace uso de la funcion de costo para calcular el costo en cada iteracion, sin olvidar del parametro lambda_\n",
    "        J_historico.append(calcularCosto(X, y, theta, lambda_))\n",
    "\n",
    "    return theta, J_historico"
   ]
  },
  {
   "cell_type": "markdown",
   "metadata": {},
   "source": [
    "Se inicializan los parametros $\\theta$ con 0 y la taza de aprendizaje $\\alpha$ con 0.00009."
   ]
  },
  {
   "cell_type": "code",
   "execution_count": 389,
   "metadata": {},
   "outputs": [
    {
     "name": "stdout",
     "output_type": "stream",
     "text": [
      "########################################################################################################\n",
      "Los valores de theta calculados son:\n",
      "theta 1: 0.0\n",
      "theta 2: -18119.190355883362\n",
      "theta 3: 30169.282961904843\n",
      "theta 4: 71312.7359672852\n",
      "theta 5: 2818.407451509464\n",
      "theta 6: 7470.034713846131\n",
      "theta 7: 45469.80320896676\n",
      "theta 8: 43857.62535876008\n",
      "theta 9: 21926.776567148994\n",
      "theta 10: 87742.30180595949\n",
      "theta 11: 64111.51415420493\n",
      "theta 12: 27411.56026509586\n",
      "theta 13: -56095.43951797542\n",
      "theta 14: 15423.087765593058\n",
      "theta 15: -13138.933322533972\n",
      "theta 16: 79851.69917873734\n",
      "theta 17: -25331.818194579253\n",
      "theta 18: 41333.05167819735\n",
      "theta 19: -5619.4969404384365\n",
      "########################################################################################################\n",
      "con un costo de: 164642045117.09067 \n",
      "la cantidad de theta son:  19\n"
     ]
    }
   ],
   "source": [
    "#creamos un theta con 19 columnas de ceros\n",
    "theta = np.zeros(len(X_ready_RLM[0]))\n",
    "\n",
    "#numero de iteraciones sera 1000000 y un alpha 0.00009\n",
    "num_ite = 3100\n",
    "alpha = 0.0009\n",
    "lambda_ = 0.9\n",
    "\n",
    "theta, J_historico = calcularDescensoGradiente(X_ready_RLM, y_trainRLM, theta , alpha,lambda_, num_ite)\n",
    "print(\"########################################################################################################\")\n",
    "print(\"Los valores de theta calculados son:\")\n",
    "i = 0\n",
    "for tht in theta:\n",
    "    i += 1\n",
    "    print(f\"theta {i}: {tht}\")\n",
    "\n",
    "print(f\"########################################################################################################\")\n",
    "#mostramos el ultimo costo, este seria el mejor costo\n",
    "print(f\"con un costo de: { J_historico[-1]} \")\n",
    "\n",
    "print(\"la cantidad de theta son: \", theta.shape[0])"
   ]
  },
  {
   "cell_type": "markdown",
   "metadata": {},
   "source": [
    "##### 1.1.4 Grafica de la convergencia del costo\n",
    "graficamos el costo"
   ]
  },
  {
   "cell_type": "code",
   "execution_count": 390,
   "metadata": {},
   "outputs": [
    {
     "data": {
      "text/plain": [
       "Text(0, 0.5, 'Costo J')"
      ]
     },
     "execution_count": 390,
     "metadata": {},
     "output_type": "execute_result"
    },
    {
     "data": {
      "image/png": "[encoded data removed]",
      "text/plain": [
       "<Figure size 640x480 with 1 Axes>"
      ]
     },
     "metadata": {},
     "output_type": "display_data"
    }
   ],
   "source": [
    "pyplot.plot(np.arange(len(J_historico)), J_historico, lw=2)\n",
    "pyplot.title(\"Grafica de la convergencia del costo\")\n",
    "pyplot.xlabel('Numero de iteraciones')\n",
    "pyplot.ylabel('Costo J')"
   ]
  },
  {
   "cell_type": "markdown",
   "metadata": {},
   "source": [
    "##### 1.1.4.1 Grafica de la regresion lineal\n",
    "\n",
    "En esta parte se trazan los datos de entrenamiento y una línea que representa la regresión lineal ajustada a esos datos."
   ]
  },
  {
   "cell_type": "code",
   "execution_count": 391,
   "metadata": {},
   "outputs": [
    {
     "data": {
      "text/plain": [
       "<matplotlib.legend.Legend at 0x21ec47b3a10>"
      ]
     },
     "execution_count": 391,
     "metadata": {},
     "output_type": "execute_result"
    },
    {
     "data": {
      "image/png": "[encoded data removed]",
      "text/plain": [
       "<Figure size 640x480 with 1 Axes>"
      ]
     },
     "metadata": {},
     "output_type": "display_data"
    }
   ],
   "source": [
    "graficarDatos(X_ready_RLM[:, 1],  X_ready_RLM[:, 2] , \"xlabel16\", \"xlabel17\")\n",
    "\n",
    "pyplot.plot(X_ready_RLM[:,1], np.dot(X_ready_RLM, theta), '-')\n",
    "\n",
    "pyplot.legend(['Datos de entrenamiento', 'regresion lineal'])"
   ]
  },
  {
   "cell_type": "markdown",
   "metadata": {},
   "source": [
    "haciendo una pequeña prueba:"
   ]
  },
  {
   "cell_type": "code",
   "execution_count": 392,
   "metadata": {},
   "outputs": [
    {
     "name": "stdout",
     "output_type": "stream",
     "text": [
      "La prediccion de la casa es de: [-315083.14475965]\n"
     ]
    }
   ],
   "source": [
    "X_array = np.array([1,3,1,1180,5650,1,0,0,3,7,1180,0,1955,0,98178,47.5112,-122.257,1340,5650])\n",
    "X_array = X_array.reshape(1, -1)\n",
    "\n",
    "X_array[:, 1:] = (X_array[:, 1:] - mu_RLM) / sigma_RLM\n",
    "\n",
    "prediccion = np.dot(X_array, theta)\n",
    "\n",
    "print (f\"La prediccion de la casa es de: {prediccion}\")"
   ]
  },
  {
   "cell_type": "markdown",
   "metadata": {},
   "source": [
    "#### 1.1.6 Ejemplos de Predicciones"
   ]
  },
  {
   "cell_type": "markdown",
   "metadata": {},
   "source": [
    "Se creo una matriz con 11 ejemplos, donde se hace las predicciones correspondientes:"
   ]
  },
  {
   "cell_type": "code",
   "execution_count": 393,
   "metadata": {},
   "outputs": [
    {
     "name": "stdout",
     "output_type": "stream",
     "text": [
      "20\n",
      "19\n",
      "+----+------------+-------------+---------------+------------+----------+--------------+--------+-------------+---------+--------------+-----------------+------------+----------------+-----------+---------+----------+-----------------+--------------+------------+\n",
      "|    |   bedrooms |   bathrooms |   sqft_living |   sqft_lot |   floors |   waterfront |   view |   condition |   grade |   sqft_above |   sqft_basement |   yr_built |   yr_renovated |   zipcode |     lat |     long |   sqft_living15 |   sqft_lot15 |      Price |\n",
      "+====+============+=============+===============+============+==========+==============+========+=============+=========+==============+=================+============+================+===========+=========+==========+=================+==============+============+\n",
      "|  1 |          3 |        1    |          1180 |       5650 |      1   |            0 |      0 |           3 |       7 |         1180 |               0 |       1955 |              0 |     98178 | 47.5112 | -122.257 |            1340 |         5650 | -315083    |\n",
      "+----+------------+-------------+---------------+------------+----------+--------------+--------+-------------+---------+--------------+-----------------+------------+----------------+-----------+---------+----------+-----------------+--------------+------------+\n",
      "|  1 |          2 |        0.75 |          1020 |       1076 |      2   |            0 |      0 |           3 |       7 |         1020 |               0 |       2008 |              0 |     98144 | 47.5941 | -122.299 |            1020 |         1357 | -372870    |\n",
      "+----+------------+-------------+---------------+------------+----------+--------------+--------+-------------+---------+--------------+-----------------+------------+----------------+-----------+---------+----------+-----------------+--------------+------------+\n",
      "|  1 |          4 |        2.75 |          3555 |       6565 |      2   |            0 |      0 |           3 |       9 |         3555 |               0 |       2014 |              0 |     98053 | 47.6847 | -122.017 |            3625 |         5637 |  383913    |\n",
      "+----+------------+-------------+---------------+------------+----------+--------------+--------+-------------+---------+--------------+-----------------+------------+----------------+-----------+---------+----------+-----------------+--------------+------------+\n",
      "|  1 |          2 |        1    |          1040 |      13920 |      1   |            0 |      0 |           3 |       6 |         1040 |               0 |       1973 |           1867 |     98198 | 47.3756 | -122.306 |            1100 |         7575 | -443242    |\n",
      "+----+------------+-------------+---------------+------------+----------+--------------+--------+-------------+---------+--------------+-----------------+------------+----------------+-----------+---------+----------+-----------------+--------------+------------+\n",
      "|  1 |          4 |        1.75 |          1860 |       7350 |      1   |            0 |      0 |           4 |       7 |         1090 |             770 |       1977 |           1900 |     98031 | 47.3979 | -122.174 |            1710 |         7350 | -167110    |\n",
      "+----+------------+-------------+---------------+------------+----------+--------------+--------+-------------+---------+--------------+-----------------+------------+----------------+-----------+---------+----------+-----------------+--------------+------------+\n",
      "|  1 |          1 |        1    |          1060 |      54846 |      1   |            1 |      4 |           3 |       5 |         1060 |               0 |       1935 |              0 |     98070 | 47.4716 | -122.445 |            2258 |        31762 |  453966    |\n",
      "+----+------------+-------------+---------------+------------+----------+--------------+--------+-------------+---------+--------------+-----------------+------------+----------------+-----------+---------+----------+-----------------+--------------+------------+\n",
      "|  1 |          4 |        1.5  |          2220 |       9496 |      1   |            0 |      0 |           4 |       7 |         1490 |             730 |       1954 |              0 |     98004 | 47.6233 | -122.206 |            1800 |         8286 |   -1771.94 |\n",
      "+----+------------+-------------+---------------+------------+----------+--------------+--------+-------------+---------+--------------+-----------------+------------+----------------+-----------+---------+----------+-----------------+--------------+------------+\n",
      "|  1 |          4 |        1.5  |          1560 |       6534 |      1   |            0 |      0 |           4 |       7 |         1560 |               0 |       1962 |              0 |     98007 | 47.6012 | -122.152 |            1560 |         6969 | -146776    |\n",
      "+----+------------+-------------+---------------+------------+----------+--------------+--------+-------------+---------+--------------+-----------------+------------+----------------+-----------+---------+----------+-----------------+--------------+------------+\n",
      "|  1 |          5 |        3    |          2510 |       4125 |      1.5 |            0 |      3 |           5 |       8 |         1590 |             920 |       1925 |              0 |     98144 | 47.5968 | -122.29  |            2190 |         5415 |  412982    |\n",
      "+----+------------+-------------+---------------+------------+----------+--------------+--------+-------------+---------+--------------+-----------------+------------+----------------+-----------+---------+----------+-----------------+--------------+------------+\n",
      "|  1 |          3 |        2.5  |          1680 |       2096 |      2   |            0 |      0 |           3 |       8 |         1380 |             300 |       2008 |              0 |     98117 | 47.6904 | -122.37  |            1360 |         2096 |  -54226    |\n",
      "+----+------------+-------------+---------------+------------+----------+--------------+--------+-------------+---------+--------------+-----------------+------------+----------------+-----------+---------+----------+-----------------+--------------+------------+\n",
      "|  1 |          3 |        2.25 |          2020 |       3600 |      2   |            0 |      0 |           3 |       8 |         2020 |               0 |       1998 |              0 |     98033 | 47.6678 | -122.165 |            2070 |         3699 |   26475.2  |\n",
      "+----+------------+-------------+---------------+------------+----------+--------------+--------+-------------+---------+--------------+-----------------+------------+----------------+-----------+---------+----------+-----------------+--------------+------------+\n"
     ]
    }
   ],
   "source": [
    "#Creamos la matriz con 11 ejemplos para hacer la prueba predecir un precio de cada ejemplo:\n",
    "matriz_datos_RLM = np.array([\n",
    "    [1,3,1,1180,5650,1,0,0,3,7,1180,0,1955,0,98178,47.5112,-122.257,1340,5650],\n",
    "    [1,2,0.75,1020,1076,2,0,0,3,7,1020,0,2008,0,98144,47.5941,-122.299,1020,1357],\n",
    "    [1,4,2.75,3555,6565,2,0,0,3,9,3555,0,2014,0,98053,47.6847,-122.017,3625,5637],\n",
    "    [1,2,1,1040,13920,1,0,0,3,6,1040,0,1973,1867,98198,47.3756,-122.306,1100,7575],\n",
    "    [1,4,1.75,1860,7350,1,0,0,4,7,1090,770,1977,1900,98031,47.3979,-122.174,1710,7350],\n",
    "    [1,1,1,1060,54846,1,1,4,3,5,1060,0,1935,0,98070,47.4716,-122.445,2258,31762],\n",
    "    [1,4,1.5,2220,9496,1,0,0,4,7,1490,730,1954,0,98004,47.6233,-122.206,1800,8286],\n",
    "    [1,4,1.5,1560,6534,1,0,0,4,7,1560,0,1962,0,98007,47.6012,-122.152,1560,6969],\n",
    "    [1,5,3,2510,4125,1.5,0,3,5,8,1590,920,1925,0,98144,47.5968,-122.29,2190,5415],\n",
    "    [1,3,2.5,1680,2096,2,0,0,3,8,1380,300,2008,0,98117,47.6904,-122.37,1360,2096],\n",
    "    [1,3,2.25,2020,3600,2,0,0,3,8,2020,0,1998,0,98033,47.6678,-122.165,2070,3699]\n",
    "])\n",
    "\n",
    "#creamos un vector parta almacenar cada Y predicha\n",
    "y_pre = []\n",
    "matriz_datos_RLM_copy = matriz_datos_RLM.copy()\n",
    "\n",
    "#Normalizamos todos, menos el primer valor de cada ejemplo\n",
    "\n",
    "matriz_datos_RLM_copy[:, 1:] = (matriz_datos_RLM_copy[:, 1:] - mu_RLM) / sigma_RLM\n",
    "\n",
    "\n",
    "#Calculamos la Y predicha de los 11 ejemplos de prediccion\n",
    "for datos in matriz_datos_RLM_copy:\n",
    "    y_pre.append(np.dot(datos, theta))\n",
    "\n",
    "matriz_datos_RLM = np.column_stack((matriz_datos_RLM, y_pre))\n",
    "\n",
    "nombres_columnas = ['bedrooms','bathrooms','sqft_living','sqft_lot','floors','waterfront','view','condition','grade','sqft_above','sqft_basement','yr_built','yr_renovated','zipcode','lat','long','sqft_living15','sqft_lot15','Price']\n",
    "\n",
    "# Convertir la matriz en una lista de listas\n",
    "datos_para_tabla = matriz_datos_RLM.tolist()\n",
    "\n",
    "print(len(matriz_datos_RLM[0]))\n",
    "print(len(matriz_datos_RLM_copy[0]))\n",
    "\n",
    "# Imprimir la tabla\n",
    "print(tabulate(datos_para_tabla, headers=nombres_columnas, tablefmt='grid'))"
   ]
  },
  {
   "cell_type": "markdown",
   "metadata": {},
   "source": [
    "#### 1.1.7 Validaciones\n",
    "Para hacer las validaciones correspondientes, primero se crea la funcion del **Mean squeared error**\n",
    "\n",
    "Siguiendo el consejo de 80/20, donde 80% es para la fase de entrenamiento, y 20% es para la fase de prueba.\n",
    "\n",
    "haciendo calculo del error cuadratico medio:"
   ]
  },
  {
   "cell_type": "code",
   "execution_count": 394,
   "metadata": {},
   "outputs": [
    {
     "name": "stdout",
     "output_type": "stream",
     "text": [
      "Error Cuadrático Medio (MSE) = 339104534734.9084\n",
      "Raíz del Error Cuadrático Medio (RMSE) = 582326.8281085016\n"
     ]
    }
   ],
   "source": [
    "#Concatenamos de unos a la primera posicion del X_test\n",
    "X_testRLM_ready = np.concatenate([np.ones((m_test_RLM, 1)), X_testRLM], axis=1)\n",
    "\n",
    "# Normalizamos todos, menos el primer valor de cada ejemplo porque este contiene los unos\n",
    "X_testRLM_ready[:, 1:] = (X_testRLM_ready[:, 1:] - mu_RLM) / sigma_RLM\n",
    "\n",
    "#creamos un array que almacenara cada una de las y_predicha\n",
    "y_predicha = []\n",
    "for data_RLM in X_testRLM_ready:\n",
    "    y_predicha.append(np.dot(data_RLM, theta))\n",
    "\n",
    "mse = mean_squared_error(y_predicha, y_testRLM)\n",
    "#calculamos el error cuadratico medio:\n",
    "print('Error Cuadrático Medio (MSE) = ' + str(mse))\n",
    "print('Raíz del Error Cuadrático Medio (RMSE) = ' + str(np.sqrt(mse)))"
   ]
  },
  {
   "cell_type": "markdown",
   "metadata": {},
   "source": [
    "### 1.2 Regresion Polinomica"
   ]
  },
  {
   "cell_type": "markdown",
   "metadata": {},
   "source": [
    "Importamos **PolynomialFeatures** es una clase en scikit-learn que se utiliza para generar características polinómicas a partir de un conjunto de características existente. En el contexto de regresión polinómica, puedes usar PolynomialFeatures para generar nuevas características que son combinaciones polinómicas de las características originales."
   ]
  },
  {
   "cell_type": "code",
   "execution_count": 395,
   "metadata": {},
   "outputs": [],
   "source": [
    "from sklearn.preprocessing import PolynomialFeatures"
   ]
  },
  {
   "cell_type": "markdown",
   "metadata": {},
   "source": [
    "Carga de los datos para la regresion lineal multivariable:"
   ]
  },
  {
   "cell_type": "code",
   "execution_count": 396,
   "metadata": {},
   "outputs": [
    {
     "name": "stdout",
     "output_type": "stream",
     "text": [
      "la cantidad de columnas de X_trainRLP es de:  190\n",
      "la cantidad de ejemplos de X_trainRLP es de:  17290\n"
     ]
    }
   ],
   "source": [
    "#hacemos una copia de y_train y y_test para usarlo en la regresion lineal multivariable\n",
    "\n",
    "#estos datos seran usados para el entrenamiento\n",
    "X_testRLP = X_test.copy()\n",
    "y_testRLP = y_test.copy()\n",
    "m_test_RLP = len(y_testRLM)\n",
    "#estos datos seran usados para el test\n",
    "\n",
    "#hacemos uso de la libreria PolynomialFeatures para hacer la regresion polinomial de grado 2\n",
    "poly = PolynomialFeatures(degree=2)\n",
    "#hacemos una copia de y_train y y_test para usarlo en la regresion polinomial\n",
    "X_trainRLP = poly.fit_transform(X_train.copy())\n",
    "y_trainRLP = y_train.copy()\n",
    "m_train_RLP = len(y_trainRLM)\n",
    "\n",
    "print(\"la cantidad de columnas de X_trainRLP es de: \", X_trainRLP.shape[1])\n",
    "print(\"la cantidad de ejemplos de X_trainRLP es de: \", X_trainRLP.shape[0])"
   ]
  },
  {
   "cell_type": "markdown",
   "metadata": {},
   "source": [
    "#### 1.2.1 Normalizacion de las caracteristicas\n",
    "\n",
    "Se hace uso de la funcion de `featureNormalize(X) ` para normalizar cada una de las 190 feactures de mi nueva matriz de datos donde se recibe un parametro de tipo matriz para normalizar cada dato dentro de ella, retornandome la **matriz normalizda**, **sigma(desviacion estandar)**, y mi **mu(media)**."
   ]
  },
  {
   "cell_type": "code",
   "execution_count": 397,
   "metadata": {},
   "outputs": [
    {
     "data": {
      "text/plain": [
       "(17290, 190)"
      ]
     },
     "execution_count": 397,
     "metadata": {},
     "output_type": "execute_result"
    }
   ],
   "source": [
    "#introductimos los datos a la funcion de normalizacion\n",
    "X_norm_RLP, mu_RLP, sigma_RLP = featureNormalize(X_trainRLP)\n",
    "\n",
    "X_norm_RLP.shape\n",
    "# mu_RLP.shape\n",
    "# sigma_RLP.shape"
   ]
  },
  {
   "cell_type": "markdown",
   "metadata": {},
   "source": [
    "#### 1.2.2 Agregamos la columna de unos a nuestra matriz"
   ]
  },
  {
   "cell_type": "code",
   "execution_count": 398,
   "metadata": {},
   "outputs": [
    {
     "name": "stdout",
     "output_type": "stream",
     "text": [
      "La cantidad de columnas de X_ready_RLP es de:  191\n"
     ]
    }
   ],
   "source": [
    "X_ready_RLP = np.concatenate([np.ones((m_train_RLP, 1)), X_norm_RLP], axis=1)\n",
    "print(\"La cantidad de columnas de X_ready_RLP es de: \", X_ready_RLP.shape[1])"
   ]
  },
  {
   "cell_type": "markdown",
   "metadata": {},
   "source": [
    "#### 1.2.3 Descenso por el gradiente\n",
    "\n",
    "haciendo uso de la funcio de `calcularCosto(X , y, theta, lamda_)` donde `X` sera nuestra matriz normalizada, y sera nuestra `y_predicha` que en este caso sera el precio, `Thetha` que seran nuestros valores inciales, y `lamda_` que sera nuestro parametro de regularizacion."
   ]
  },
  {
   "cell_type": "markdown",
   "metadata": {},
   "source": [
    "##### 1.2.3.1 Cálculo del costo $J(\\theta)$"
   ]
  },
  {
   "cell_type": "markdown",
   "metadata": {},
   "source": [
    "Ejemplo de funcionamiento de la funcion computeCoste con dos valores diferentes de $\\theta$."
   ]
  },
  {
   "cell_type": "code",
   "execution_count": 399,
   "metadata": {},
   "outputs": [
    {
     "name": "stdout",
     "output_type": "stream",
     "text": [
      "191\n",
      "########################################################################################################\n",
      "con theta:[     0.         -18119.19035588  30169.2829619   71312.73596729\n",
      "   2818.40745151   7470.03471385  45469.80320897  43857.62535876\n",
      "  21926.77656715  87742.30180596  64111.5141542   27411.5602651\n",
      " -56095.43951798  15423.08776559 -13138.93332253  79851.69917874\n",
      " -25331.81819458  41333.0516782   -5619.49694044] se obtiene un costo de: 209912572578.8609\n",
      "########################################################################################################\n",
      "con theta:[0.   2.   0.5  0.2  8.   0.7  1.3  8.   1.7  0.7  7.1  0.6  0.6  1.\n",
      " 0.3  0.9  2.   0.12 0.7 ] se obtiene un costo de: 209911703578.09756\n"
     ]
    }
   ],
   "source": [
    "#creamos un theta con 190 columnas de valores aleatorios\n",
    "theta_RLP=np.random.rand(len(X_ready_RLP[1]))\n",
    "theta_RLP2=np.random.rand(len(X_ready_RLP[1]))\n",
    "\n",
    "\n",
    "print(len(theta_RLP))\n",
    "lambda_RLP = 1000\n",
    "\n",
    "print(f\"########################################################################################################\")\n",
    "print(f\"con theta:{ theta } se obtiene un costo de: {calcularCosto(X_ready_RLP, y_trainRLP, theta_RLP, lambda_RLP)}\")\n",
    "print(f\"########################################################################################################\")\n",
    "print(f\"con theta:{ theta1 } se obtiene un costo de: {calcularCosto(X_ready_RLP, y_trainRLP, theta_RLP2, lambda_RLP)}\")"
   ]
  },
  {
   "cell_type": "markdown",
   "metadata": {},
   "source": [
    "##### 1.2.3.2Descenso por el gradiente\n",
    "\n",
    "Creamos la funcion para hacer el calculo del descenso por el gradiente y asi encontrar nuestras **Thetas**, se hizo la modificacion para que la funcion ahora reciba el parametro de ``lamda_``\n",
    "\n",
    "Haciendo uso de la funcion de `calcularDescensoGradiente(X,y, theta, alpha, lambda_,num_iteraciones)`:"
   ]
  },
  {
   "cell_type": "code",
   "execution_count": 400,
   "metadata": {},
   "outputs": [
    {
     "name": "stdout",
     "output_type": "stream",
     "text": [
      "########################################################################################################\n",
      "Los valores de theta calculados son:\n",
      "theta 1: 0.0\n",
      "theta 2: 0.0\n",
      "theta 3: -3673.0220850411292\n",
      "theta 4: 726.5752343574524\n",
      "theta 5: 4617.829535995788\n",
      "theta 6: 90.95672982788602\n",
      "theta 7: -104.27418906554743\n",
      "theta 8: 1640.753816928206\n",
      "theta 9: 1490.2978942621974\n",
      "theta 10: 1920.3396761063177\n",
      "theta 11: 9863.602911863145\n",
      "theta 12: 4747.706872135844\n",
      "theta 13: 658.5108268581497\n",
      "theta 14: -9071.566442398682\n",
      "theta 15: 315.51291096407795\n",
      "theta 16: -910.7746449391316\n",
      "theta 17: 16916.156337393015\n",
      "theta 18: -4922.021699187553\n",
      "theta 19: 3218.710510541655\n",
      "theta 20: -791.5958071776894\n",
      "theta 21: -1496.868676634941\n",
      "theta 22: 451.06110026601834\n",
      "theta 23: 3759.6734652297973\n",
      "theta 24: -633.4051111513847\n",
      "theta 25: -1187.2549264983102\n",
      "theta 26: 3774.4177709254795\n",
      "theta 27: 2530.585537318275\n",
      "theta 28: -1383.4445157447965\n",
      "theta 29: 2947.9382808027467\n",
      "theta 30: 4124.005879438477\n",
      "theta 31: 565.4942057677642\n",
      "theta 32: -4167.895599018986\n",
      "theta 33: 966.9998126434423\n",
      "theta 34: -3677.294675996199\n",
      "theta 35: -3479.3881130543095\n",
      "theta 36: 3649.9592412123848\n",
      "theta 37: 1413.5000784590266\n",
      "theta 38: -1384.8286778725173\n",
      "theta 39: 5105.458808082031\n",
      "theta 40: 8663.416669820988\n",
      "theta 41: 255.37693765848803\n",
      "theta 42: 1657.235675956045\n",
      "theta 43: 4864.335089616048\n",
      "theta 44: 5118.133521911456\n",
      "theta 45: 2096.0784129308245\n",
      "theta 46: 6687.095923348476\n",
      "theta 47: 8296.828539663515\n",
      "theta 48: 4617.537725407947\n",
      "theta 49: 393.2065341076412\n",
      "theta 50: 2148.5068542556346\n",
      "theta 51: 723.7524091162591\n",
      "theta 52: 882.0456671287935\n",
      "theta 53: -748.2359253070301\n",
      "theta 54: 4761.656509823344\n",
      "theta 55: -419.1947111714055\n",
      "theta 56: 10754.705644982769\n",
      "theta 57: 666.9272799294625\n",
      "theta 58: 4962.974123881685\n",
      "theta 59: 7029.077030120465\n",
      "theta 60: 6628.186020740545\n",
      "theta 61: 5832.556844878687\n",
      "theta 62: 9462.66889150023\n",
      "theta 63: 10521.344765044072\n",
      "theta 64: 6021.61459403369\n",
      "theta 65: 4244.150309794163\n",
      "theta 66: 4405.316072765232\n",
      "theta 67: 4615.160144606996\n",
      "theta 68: 4754.917231656622\n",
      "theta 69: -4643.464928139484\n",
      "theta 70: 7090.232652099753\n",
      "theta 71: -81.68992788251357\n",
      "theta 72: 741.9138818518925\n",
      "theta 73: 37.379282169007865\n",
      "theta 74: 53.647448142216945\n",
      "theta 75: -726.3026773000136\n",
      "theta 76: -108.04243363347729\n",
      "theta 77: 817.8386224876243\n",
      "theta 78: 1161.7911140696574\n",
      "theta 79: -1989.2880918314722\n",
      "theta 80: 93.18758154385709\n",
      "theta 81: -918.1671689525443\n",
      "theta 82: 89.96896051693842\n",
      "theta 83: 105.28800025748271\n",
      "theta 84: -89.96511056806574\n",
      "theta 85: 456.6760613737126\n",
      "theta 86: 595.4269260751496\n",
      "theta 87: 218.09540661639207\n",
      "theta 88: 2337.451816989474\n",
      "theta 89: 2863.2665436621405\n",
      "theta 90: 1816.770891252667\n",
      "theta 91: 4245.959855235169\n",
      "theta 92: 3962.246914588191\n",
      "theta 93: 4226.897476706921\n",
      "theta 94: -496.86074354999016\n",
      "theta 95: 605.0155135790818\n",
      "theta 96: -103.02429042937153\n",
      "theta 97: 41.00859987027881\n",
      "theta 98: 80.48778671452004\n",
      "theta 99: 1872.5330120490764\n",
      "theta 100: -1023.8138789991052\n",
      "theta 101: 1640.753816928206\n",
      "theta 102: 1477.9330666109527\n",
      "theta 103: 1260.364319722238\n",
      "theta 104: 3523.466381908263\n",
      "theta 105: 6545.735630564895\n",
      "theta 106: 6521.825182464245\n",
      "theta 107: 1717.2609471962578\n",
      "theta 108: -888.6527102139748\n",
      "theta 109: 1635.9599315481926\n",
      "theta 110: 1665.5855069914437\n",
      "theta 111: -1630.9470143510607\n",
      "theta 112: 4795.841162796171\n",
      "theta 113: -447.79100567433113\n",
      "theta 114: 1899.5911375478372\n",
      "theta 115: 2046.864527519768\n",
      "theta 116: 3848.3081183648387\n",
      "theta 117: 7016.19486598058\n",
      "theta 118: 3991.192651334587\n",
      "theta 119: 1474.420285106683\n",
      "theta 120: 3.69912036479285\n",
      "theta 121: 1487.404989619586\n",
      "theta 122: 1523.5485790602675\n",
      "theta 123: -1492.1677359861135\n",
      "theta 124: 4215.028892554581\n",
      "theta 125: -1180.0194905883827\n",
      "theta 126: 2071.0584950637744\n",
      "theta 127: 8981.697875949878\n",
      "theta 128: 6363.4676745006345\n",
      "theta 129: 987.606054848705\n",
      "theta 130: 1209.6841404405768\n",
      "theta 131: 258.0117858309213\n",
      "theta 132: 1917.2658895121967\n",
      "theta 133: 2179.877621551111\n",
      "theta 134: -1947.8169965764355\n",
      "theta 135: 5358.529671500241\n",
      "theta 136: -878.1879338729334\n",
      "theta 137: 11610.325280196217\n",
      "theta 138: 8993.226984255389\n",
      "theta 139: 3726.714536839895\n",
      "theta 140: 8580.201546000131\n",
      "theta 141: 1763.1683284625956\n",
      "theta 142: 9866.065300622222\n",
      "theta 143: 10184.540770581565\n",
      "theta 144: -9926.817232925936\n",
      "theta 145: 6914.13626813536\n",
      "theta 146: -37.433183679658065\n",
      "theta 147: 9310.361124113944\n",
      "theta 148: 8268.009791336051\n",
      "theta 149: 4361.369766398496\n",
      "theta 150: 3808.401366557786\n",
      "theta 151: 4746.098401337395\n",
      "theta 152: 4881.108962856678\n",
      "theta 153: -4774.819872432058\n",
      "theta 154: 6477.527722103253\n",
      "theta 155: 377.85775853713346\n",
      "theta 156: 2066.7815148847635\n",
      "theta 157: 576.3075374627898\n",
      "theta 158: 4864.576411581418\n",
      "theta 159: 656.5514545575799\n",
      "theta 160: 696.0767267453157\n",
      "theta 161: -663.6603757760525\n",
      "theta 162: 4228.138498410394\n",
      "theta 163: -1979.1791219901856\n",
      "theta 164: -9009.006999113286\n",
      "theta 165: 312.412612279891\n",
      "theta 166: -9213.244633096683\n",
      "theta 167: -5823.275102035503\n",
      "theta 168: 8952.50472262311\n",
      "theta 169: 2669.4426749615313\n",
      "theta 170: -796.1018682699417\n",
      "theta 171: 341.2692069061281\n",
      "theta 172: 312.83632966014545\n",
      "theta 173: 327.37324187526053\n",
      "theta 174: -314.9991347502334\n",
      "theta 175: 3216.2671536814178\n",
      "theta 176: -1272.8876651518747\n",
      "theta 177: -911.7062717156614\n",
      "theta 178: 15720.90721859711\n",
      "theta 179: -3387.507753206532\n",
      "theta 180: 3217.4083610406165\n",
      "theta 181: -793.1139144684065\n",
      "theta 182: 16896.30349707036\n",
      "theta 183: -16779.692704019533\n",
      "theta 184: 3378.2070662998794\n",
      "theta 185: -775.0870121263569\n",
      "theta 186: 4922.48175917439\n",
      "theta 187: -3248.5026555885534\n",
      "theta 188: 792.1230264132511\n",
      "theta 189: 4805.681555398728\n",
      "theta 190: -215.42240465954754\n",
      "theta 191: -120.17577030986064\n",
      "########################################################################################################\n",
      "con un costo de: 162302336612.51022 \n",
      "la cantidad de theta son:  191\n"
     ]
    }
   ],
   "source": [
    "#creamos un theta con 19 columnas de ceros\n",
    "theta_RLP = np.zeros(len(X_ready_RLP[0]))\n",
    "\n",
    "#numero de iteraciones sera 1000000 y un alpha 0.00009\n",
    "num_ite = 400\n",
    "alpha = 0.0009\n",
    "lambda_ = 1000\n",
    "\n",
    "theta_RLP, J_historico = calcularDescensoGradiente(X_ready_RLP, y_trainRLP, theta_RLP , alpha,lambda_, num_ite)\n",
    "print(\"########################################################################################################\")\n",
    "print(\"Los valores de theta calculados son:\")\n",
    "i = 0\n",
    "for tht in theta_RLP:\n",
    "    i += 1\n",
    "    print(f\"theta {i}: {tht}\")\n",
    "\n",
    "print(f\"########################################################################################################\")\n",
    "#mostramos el ultimo costo, este seria el mejor costo\n",
    "print(f\"con un costo de: { J_historico[-1]} \")\n",
    "\n",
    "print(\"la cantidad de theta son: \", theta_RLP.shape[0])"
   ]
  },
  {
   "cell_type": "markdown",
   "metadata": {},
   "source": [
    "##### 1.2.4 Grafica de la convergencia del costo\n",
    "graficamos el costo"
   ]
  },
  {
   "cell_type": "code",
   "execution_count": 401,
   "metadata": {},
   "outputs": [
    {
     "data": {
      "text/plain": [
       "Text(0, 0.5, 'Costo J')"
      ]
     },
     "execution_count": 401,
     "metadata": {},
     "output_type": "execute_result"
    },
    {
     "data": {
      "image/png": "[encoded data removed]",
      "text/plain": [
       "<Figure size 640x480 with 1 Axes>"
      ]
     },
     "metadata": {},
     "output_type": "display_data"
    }
   ],
   "source": [
    "pyplot.plot(np.arange(len(J_historico)), J_historico, lw=2)\n",
    "pyplot.title(\"Grafica de la convergencia del costo\")\n",
    "pyplot.xlabel('Numero de iteraciones')\n",
    "pyplot.ylabel('Costo J')"
   ]
  },
  {
   "cell_type": "markdown",
   "metadata": {},
   "source": [
    "##### 1.2.4.1 Grafica de la regresion Polinomial\n",
    "\n",
    "En esta parte se trazan los datos de entrenamiento y una línea que representa la regresión lineal ajustada a esos datos."
   ]
  },
  {
   "cell_type": "code",
   "execution_count": 402,
   "metadata": {},
   "outputs": [
    {
     "data": {
      "text/plain": [
       "<matplotlib.legend.Legend at 0x21e8001be60>"
      ]
     },
     "execution_count": 402,
     "metadata": {},
     "output_type": "execute_result"
    },
    {
     "data": {
      "image/png": "[encoded data removed]",
      "text/plain": [
       "<Figure size 640x480 with 1 Axes>"
      ]
     },
     "metadata": {},
     "output_type": "display_data"
    }
   ],
   "source": [
    "graficarDatos(X_ready_RLP[:, 150], X_ready_RLP[:, 150] , \"xlabel16\", \"xlabel17\")\n",
    "\n",
    "pyplot.plot(X_ready_RLP[:,150], np.dot(X_ready_RLP, theta_RLP), '-')\n",
    "\n",
    "pyplot.legend(['Datos de entrenamiento', 'regresion lineal'])"
   ]
  },
  {
   "cell_type": "markdown",
   "metadata": {},
   "source": [
    "haciendo una pequeña prueba:"
   ]
  },
  {
   "cell_type": "code",
   "execution_count": 403,
   "metadata": {},
   "outputs": [
    {
     "name": "stdout",
     "output_type": "stream",
     "text": [
      "La prediccion de la casa es de: [-264528.86435803]\n"
     ]
    }
   ],
   "source": [
    "X_array1 = np.array([3,1,1180,5650,1,0,0,3,7,1180,0,1955,0,98178,47.5112,-122.257,1340,5650])\n",
    "X_array1 = X_array1.reshape(1, -1)\n",
    "\n",
    "poly = PolynomialFeatures(degree=2)\n",
    "#hacemos una copia de y_train y y_test para usarlo en la regresion polinomial\n",
    "X_array1 = poly.fit_transform(X_array1)\n",
    "\n",
    "X_array1 = np.concatenate([np.ones((X_array1.shape[0], 1)), X_array1], axis=1)\n",
    "\n",
    "X_array1[:, 1:] = (X_array1[:, 1:] - mu_RLP) / sigma_RLP\n",
    "\n",
    "prediccion1 = np.dot(X_array1, theta_RLP)\n",
    "\n",
    "print (f\"La prediccion de la casa es de: {prediccion1}\")"
   ]
  },
  {
   "cell_type": "markdown",
   "metadata": {},
   "source": [
    "#### 1.2.6 Ejemplos de Predicciones\n",
    "\n",
    "Se creo una matriz con 11 ejemplos, donde se hace las predicciones correspondientes:"
   ]
  },
  {
   "cell_type": "code",
   "execution_count": 404,
   "metadata": {},
   "outputs": [
    {
     "name": "stdout",
     "output_type": "stream",
     "text": [
      "20\n",
      "19\n",
      "+----+------------+-------------+---------------+------------+----------+--------------+--------+-------------+---------+--------------+-----------------+------------+----------------+-----------+---------+----------+-----------------+--------------+------------+\n",
      "|    |   bedrooms |   bathrooms |   sqft_living |   sqft_lot |   floors |   waterfront |   view |   condition |   grade |   sqft_above |   sqft_basement |   yr_built |   yr_renovated |   zipcode |     lat |     long |   sqft_living15 |   sqft_lot15 |      Price |\n",
      "+====+============+=============+===============+============+==========+==============+========+=============+=========+==============+=================+============+================+===========+=========+==========+=================+==============+============+\n",
      "|  1 |          3 |        1    |          1180 |       5650 |      1   |            0 |      0 |           3 |       7 |         1180 |               0 |       1955 |              0 |     98178 | 47.5112 | -122.257 |            1340 |         5650 | -315083    |\n",
      "+----+------------+-------------+---------------+------------+----------+--------------+--------+-------------+---------+--------------+-----------------+------------+----------------+-----------+---------+----------+-----------------+--------------+------------+\n",
      "|  1 |          2 |        0.75 |          1020 |       1076 |      2   |            0 |      0 |           3 |       7 |         1020 |               0 |       2008 |              0 |     98144 | 47.5941 | -122.299 |            1020 |         1357 | -372870    |\n",
      "+----+------------+-------------+---------------+------------+----------+--------------+--------+-------------+---------+--------------+-----------------+------------+----------------+-----------+---------+----------+-----------------+--------------+------------+\n",
      "|  1 |          4 |        2.75 |          3555 |       6565 |      2   |            0 |      0 |           3 |       9 |         3555 |               0 |       2014 |              0 |     98053 | 47.6847 | -122.017 |            3625 |         5637 |  383913    |\n",
      "+----+------------+-------------+---------------+------------+----------+--------------+--------+-------------+---------+--------------+-----------------+------------+----------------+-----------+---------+----------+-----------------+--------------+------------+\n",
      "|  1 |          2 |        1    |          1040 |      13920 |      1   |            0 |      0 |           3 |       6 |         1040 |               0 |       1973 |           1867 |     98198 | 47.3756 | -122.306 |            1100 |         7575 | -443242    |\n",
      "+----+------------+-------------+---------------+------------+----------+--------------+--------+-------------+---------+--------------+-----------------+------------+----------------+-----------+---------+----------+-----------------+--------------+------------+\n",
      "|  1 |          4 |        1.75 |          1860 |       7350 |      1   |            0 |      0 |           4 |       7 |         1090 |             770 |       1977 |           1900 |     98031 | 47.3979 | -122.174 |            1710 |         7350 | -167110    |\n",
      "+----+------------+-------------+---------------+------------+----------+--------------+--------+-------------+---------+--------------+-----------------+------------+----------------+-----------+---------+----------+-----------------+--------------+------------+\n",
      "|  1 |          1 |        1    |          1060 |      54846 |      1   |            1 |      4 |           3 |       5 |         1060 |               0 |       1935 |              0 |     98070 | 47.4716 | -122.445 |            2258 |        31762 |  453966    |\n",
      "+----+------------+-------------+---------------+------------+----------+--------------+--------+-------------+---------+--------------+-----------------+------------+----------------+-----------+---------+----------+-----------------+--------------+------------+\n",
      "|  1 |          4 |        1.5  |          2220 |       9496 |      1   |            0 |      0 |           4 |       7 |         1490 |             730 |       1954 |              0 |     98004 | 47.6233 | -122.206 |            1800 |         8286 |   -1771.94 |\n",
      "+----+------------+-------------+---------------+------------+----------+--------------+--------+-------------+---------+--------------+-----------------+------------+----------------+-----------+---------+----------+-----------------+--------------+------------+\n",
      "|  1 |          4 |        1.5  |          1560 |       6534 |      1   |            0 |      0 |           4 |       7 |         1560 |               0 |       1962 |              0 |     98007 | 47.6012 | -122.152 |            1560 |         6969 | -146776    |\n",
      "+----+------------+-------------+---------------+------------+----------+--------------+--------+-------------+---------+--------------+-----------------+------------+----------------+-----------+---------+----------+-----------------+--------------+------------+\n",
      "|  1 |          5 |        3    |          2510 |       4125 |      1.5 |            0 |      3 |           5 |       8 |         1590 |             920 |       1925 |              0 |     98144 | 47.5968 | -122.29  |            2190 |         5415 |  412982    |\n",
      "+----+------------+-------------+---------------+------------+----------+--------------+--------+-------------+---------+--------------+-----------------+------------+----------------+-----------+---------+----------+-----------------+--------------+------------+\n",
      "|  1 |          3 |        2.5  |          1680 |       2096 |      2   |            0 |      0 |           3 |       8 |         1380 |             300 |       2008 |              0 |     98117 | 47.6904 | -122.37  |            1360 |         2096 |  -54226    |\n",
      "+----+------------+-------------+---------------+------------+----------+--------------+--------+-------------+---------+--------------+-----------------+------------+----------------+-----------+---------+----------+-----------------+--------------+------------+\n",
      "|  1 |          3 |        2.25 |          2020 |       3600 |      2   |            0 |      0 |           3 |       8 |         2020 |               0 |       1998 |              0 |     98033 | 47.6678 | -122.165 |            2070 |         3699 |   26475.2  |\n",
      "+----+------------+-------------+---------------+------------+----------+--------------+--------+-------------+---------+--------------+-----------------+------------+----------------+-----------+---------+----------+-----------------+--------------+------------+\n"
     ]
    }
   ],
   "source": [
    "#Creamos la matriz con 11 ejemplos para hacer la prueba predecir un precio de cada ejemplo:\n",
    "matriz_datos_RLP = np.array([\n",
    "    [3,1,1180,5650,1,0,0,3,7,1180,0,1955,0,98178,47.5112,-122.257,1340,5650],\n",
    "    [2,0.75,1020,1076,2,0,0,3,7,1020,0,2008,0,98144,47.5941,-122.299,1020,1357],\n",
    "    [4,2.75,3555,6565,2,0,0,3,9,3555,0,2014,0,98053,47.6847,-122.017,3625,5637],\n",
    "    [2,1,1040,13920,1,0,0,3,6,1040,0,1973,1867,98198,47.3756,-122.306,1100,7575],\n",
    "    [4,1.75,1860,7350,1,0,0,4,7,1090,770,1977,1900,98031,47.3979,-122.174,1710,7350],\n",
    "    [1,1,1060,54846,1,1,4,3,5,1060,0,1935,0,98070,47.4716,-122.445,2258,31762],\n",
    "    [4,1.5,2220,9496,1,0,0,4,7,1490,730,1954,0,98004,47.6233,-122.206,1800,8286],\n",
    "    [4,1.5,1560,6534,1,0,0,4,7,1560,0,1962,0,98007,47.6012,-122.152,1560,6969],\n",
    "    [5,3,2510,4125,1.5,0,3,5,8,1590,920,1925,0,98144,47.5968,-122.29,2190,5415],\n",
    "    [3,2.5,1680,2096,2,0,0,3,8,1380,300,2008,0,98117,47.6904,-122.37,1360,2096],\n",
    "    [3,2.25,2020,3600,2,0,0,3,8,2020,0,1998,0,98033,47.6678,-122.165,2070,3699]\n",
    "])\n",
    "\n",
    "#creamos un vector parta almacenar cada Y predicha\n",
    "y_pre = []\n",
    "\n",
    "\n",
    "\n",
    "poly = PolynomialFeatures(degree=2)\n",
    "#hacemos una copia de y_train y y_test para usarlo en la regresion polinomial\n",
    "matriz_datos_RLP = poly.fit_transform(matriz_datos_RLP)\n",
    "\n",
    "matriz_datos_RLP = np.concatenate([np.ones((matriz_datos_RLP.shape[0], 1)), matriz_datos_RLP], axis=1)\n",
    "\n",
    "matriz_datos_RLP_copy = matriz_datos_RLP.copy()\n",
    "#Normalizamos todos, menos el primer valor de cada ejemplo\n",
    "\n",
    "matriz_datos_RLP_copy[:, 1:] = (matriz_datos_RLP_copy[:, 1:] - mu_RLP) / sigma_RLP\n",
    "\n",
    "\n",
    "#Calculamos la Y predicha de los 11 ejemplos de prediccion\n",
    "for datos in matriz_datos_RLP_copy:\n",
    "    y_pre.append(np.dot(datos, theta_RLP))\n",
    "\n",
    "matriz_datos_RLP = np.column_stack((matriz_datos_RLP, y_pre))\n",
    "\n",
    "nombres_columnas = ['bedrooms','bathrooms','sqft_living','sqft_lot','floors','waterfront','view','condition','grade','sqft_above','sqft_basement','yr_built','yr_renovated','zipcode','lat','long','sqft_living15','sqft_lot15','Price']\n",
    "\n",
    "# Convertir la matriz en una lista de listas\n",
    "datos_para_tabla = matriz_datos_RLM.tolist()\n",
    "\n",
    "print(len(matriz_datos_RLM[0]))\n",
    "print(len(matriz_datos_RLM_copy[0]))\n",
    "\n",
    "# Imprimir la tabla\n",
    "print(tabulate(datos_para_tabla, headers=nombres_columnas, tablefmt='grid'))"
   ]
  },
  {
   "cell_type": "markdown",
   "metadata": {},
   "source": [
    "#### 1.2.7 Validaciones\n",
    "Para hacer las validaciones correspondientes, primero se crea la funcion del **Mean squeared error**\n",
    "\n",
    "Siguiendo el consejo de 80/20, donde 80% es para la fase de entrenamiento, y 20% es para la fase de prueba.\n",
    "\n",
    "haciendo calculo del error cuadratico medio:"
   ]
  },
  {
   "cell_type": "code",
   "execution_count": 405,
   "metadata": {},
   "outputs": [
    {
     "name": "stdout",
     "output_type": "stream",
     "text": [
      "Error Cuadrático Medio (MSE) = 334234758930.79407\n",
      "Raíz del Error Cuadrático Medio (RMSE) = 578130.3995906062\n"
     ]
    }
   ],
   "source": [
    "poly = PolynomialFeatures(degree=2)\n",
    "#hacemos una copia de y_train y y_test para usarlo en la regresion polinomial\n",
    "X_testRLP = poly.fit_transform(X_testRLP)\n",
    "\n",
    "# Normalizamos todos, menos el primer valor de cada ejemplo porque este contiene los unos\n",
    "X_testRLP = (X_testRLP - mu_RLP) / sigma_RLP\n",
    "\n",
    "#Concatenamos de unos a la primera posicion del X_test\n",
    "X_testRLP_ready = np.concatenate([np.ones((m_test_RLP, 1)), X_testRLP], axis=1)\n",
    "\n",
    "#creamos un array que almacenara cada una de las y_predicha\n",
    "y_predicha = []\n",
    "for data_RLP in X_testRLP_ready:\n",
    "    y_predicha.append(np.dot(data_RLP, theta_RLP))\n",
    "\n",
    "mse = mean_squared_error(y_predicha, y_testRLP)\n",
    "#calculamos el error cuadratico medio:\n",
    "#calculamos el error cuadratico medio:\n",
    "print('Error Cuadrático Medio (MSE) = ' + str(mse))\n",
    "print('Raíz del Error Cuadrático Medio (RMSE) = ' + str(np.sqrt(mse)))"
   ]
  },
  {
   "cell_type": "markdown",
   "metadata": {},
   "source": [
    "## 2. Usando sin regularizacion"
   ]
  }
 ],
 "metadata": {
  "kernelspec": {
   "display_name": "Python 3",
   "language": "python",
   "name": "python3"
  },
  "language_info": {
   "codemirror_mode": {
    "name": "ipython",
    "version": 3
   },
   "file_extension": ".py",
   "mimetype": "text/x-python",
   "name": "python",
   "nbconvert_exporter": "python",
   "pygments_lexer": "ipython3",
   "version": "3.12.2"
  }
 },
 "nbformat": 4,
 "nbformat_minor": 2
}
