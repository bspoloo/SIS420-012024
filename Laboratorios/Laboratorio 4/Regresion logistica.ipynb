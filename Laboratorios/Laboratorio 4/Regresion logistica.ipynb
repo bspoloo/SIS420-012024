{
 "cells": [
  {
   "cell_type": "markdown",
   "metadata": {},
   "source": [
    "\n",
    "# Laboratorio 4(Aplicacion de Regularizacion - Regresion Logistica) Grupo 1\n",
    " <h3>En este laboratorio se hizo el uso del dataset para aplicar la regularización y sin utilizar regularización a la Regresion Logistica, y como siguiente se presento los resultados de ambas experiencias<h3>\n",
    " <HR>\n",
    " <h3>\n",
    "  NOMBRE: POLO ORELLANA BRAYAN SIMON <br>\n",
    "  CARRERA: INGENIERIA DE SISTEMAS <BR>\n",
    "  FECHA: 26/03/2024 <BR>\n",
    "\n",
    "  * [Enlace de invitacion para ser colaborador](https://github.com/bspoloo/SIS420-012024/invitations)\n",
    "  \n",
    "  * [Enlace al git hub](https://github.com/bspoloo/SIS420-012024/tree/main/Laboratorios/Laboratorio%202)\n",
    "  \n",
    "  * [Enlace al Colab](https://colab.research.google.com/github/bspoloo/SIS420-012024/blob/main/Laboratorios/Laboratorio%202/Laboratorio%202.ipynb?hl=es)\n",
    " <h3>"
   ]
  },
  {
   "cell_type": "markdown",
   "metadata": {},
   "source": [
    "Para el laboratorio hizo uso del para entrenar el modelo de **Regresion Logistica** aplicado regularizacion y predecir si un paciente tiene alguna enfermedad cardiovascular.\n",
    "\n",
    "Estos problemas a menudo se deben a la aterosclerosis. Esta afección ocurre cuando la grasa y el colesterol se acumulan en las paredes del vaso sanguíneo (arteria). El enlace al dataset es [Cardiovascular Disease dataset](https://www.kaggle.com/datasets/sulianova/cardiovascular-disease-dataset).\n",
    "\n",
    "El archivo `cardiovascular_diseases_dv3.csv` contiene un conjunto de datos de entrenamiento de datos si un paciente tiene una enfermedad cardiovascular."
   ]
  },
  {
   "cell_type": "markdown",
   "metadata": {},
   "source": [
    "Primero se importo todas las librerias necesarias:"
   ]
  },
  {
   "cell_type": "code",
   "execution_count": 98,
   "metadata": {},
   "outputs": [],
   "source": [
    "# utilizando la libreria os para manejos de directorios\n",
    "import os\n",
    "\n",
    "# Computacion vectorial y cientifica para python\n",
    "import numpy as np\n",
    "\n",
    "#importamos pandas para el manejo del dataset, y separarlos dentro de una matriz\n",
    "import pandas as pd\n",
    "\n",
    "#esta tabulate nos sirve para hacer tablas\n",
    "from tabulate import tabulate\n",
    "\n",
    "# Librerias para graficación (trazado de gráficos)\n",
    "from matplotlib import pyplot\n",
    "from mpl_toolkits.mplot3d import Axes3D  # -> Necesario para graficar superficies 3D\n",
    "\n",
    "#Para separa el 20% y 80%\n",
    "from sklearn.model_selection import train_test_split\n",
    "\n",
    "# llama a matplotlib a embeber graficas dentro de los cuadernillos\n",
    "%matplotlib inline"
   ]
  },
  {
   "cell_type": "markdown",
   "metadata": {},
   "source": [
    "## Carga de datos del dataset\n",
    "\n",
    "cargamos los datos haciendo el uso de la libreria **Pandas** que  es una herramienta poderosa y versátil utilizada para manipulación y análisis de datos. Ofrece estructuras de datos flexibles y eficientes para trabajar con datos tabulares, como hojas de cálculo en Excel o tablas SQL. Algunas de las funcionalidades clave de pandas incluyen:"
   ]
  },
  {
   "cell_type": "code",
   "execution_count": 99,
   "metadata": {},
   "outputs": [
    {
     "data": {
      "text/html": [
       "<div>\n",
       "<style scoped>\n",
       "    .dataframe tbody tr th:only-of-type {\n",
       "        vertical-align: middle;\n",
       "    }\n",
       "\n",
       "    .dataframe tbody tr th {\n",
       "        vertical-align: top;\n",
       "    }\n",
       "\n",
       "    .dataframe thead th {\n",
       "        text-align: right;\n",
       "    }\n",
       "</style>\n",
       "<table border=\"1\" class=\"dataframe\">\n",
       "  <thead>\n",
       "    <tr style=\"text-align: right;\">\n",
       "      <th></th>\n",
       "      <th>AGE</th>\n",
       "      <th>GENDER</th>\n",
       "      <th>HEIGHT</th>\n",
       "      <th>WEIGHT</th>\n",
       "      <th>AP_HIGH</th>\n",
       "      <th>AP_LOW</th>\n",
       "      <th>CHOLESTEROL</th>\n",
       "      <th>GLUCOSE</th>\n",
       "      <th>SMOKE</th>\n",
       "      <th>ALCOHOL</th>\n",
       "      <th>PHYSICAL_ACTIVITY</th>\n",
       "      <th>CARDIO_DISEASE</th>\n",
       "    </tr>\n",
       "  </thead>\n",
       "  <tbody>\n",
       "    <tr>\n",
       "      <th>0</th>\n",
       "      <td>50</td>\n",
       "      <td>2</td>\n",
       "      <td>168</td>\n",
       "      <td>62</td>\n",
       "      <td>110</td>\n",
       "      <td>80</td>\n",
       "      <td>1</td>\n",
       "      <td>1</td>\n",
       "      <td>0</td>\n",
       "      <td>0</td>\n",
       "      <td>1</td>\n",
       "      <td>0</td>\n",
       "    </tr>\n",
       "    <tr>\n",
       "      <th>1</th>\n",
       "      <td>55</td>\n",
       "      <td>1</td>\n",
       "      <td>156</td>\n",
       "      <td>85</td>\n",
       "      <td>140</td>\n",
       "      <td>90</td>\n",
       "      <td>3</td>\n",
       "      <td>1</td>\n",
       "      <td>0</td>\n",
       "      <td>0</td>\n",
       "      <td>1</td>\n",
       "      <td>1</td>\n",
       "    </tr>\n",
       "    <tr>\n",
       "      <th>2</th>\n",
       "      <td>52</td>\n",
       "      <td>1</td>\n",
       "      <td>165</td>\n",
       "      <td>64</td>\n",
       "      <td>130</td>\n",
       "      <td>70</td>\n",
       "      <td>3</td>\n",
       "      <td>1</td>\n",
       "      <td>0</td>\n",
       "      <td>0</td>\n",
       "      <td>0</td>\n",
       "      <td>1</td>\n",
       "    </tr>\n",
       "    <tr>\n",
       "      <th>3</th>\n",
       "      <td>48</td>\n",
       "      <td>2</td>\n",
       "      <td>169</td>\n",
       "      <td>82</td>\n",
       "      <td>150</td>\n",
       "      <td>100</td>\n",
       "      <td>1</td>\n",
       "      <td>1</td>\n",
       "      <td>0</td>\n",
       "      <td>0</td>\n",
       "      <td>1</td>\n",
       "      <td>1</td>\n",
       "    </tr>\n",
       "    <tr>\n",
       "      <th>4</th>\n",
       "      <td>48</td>\n",
       "      <td>1</td>\n",
       "      <td>156</td>\n",
       "      <td>56</td>\n",
       "      <td>100</td>\n",
       "      <td>60</td>\n",
       "      <td>1</td>\n",
       "      <td>1</td>\n",
       "      <td>0</td>\n",
       "      <td>0</td>\n",
       "      <td>0</td>\n",
       "      <td>0</td>\n",
       "    </tr>\n",
       "    <tr>\n",
       "      <th>...</th>\n",
       "      <td>...</td>\n",
       "      <td>...</td>\n",
       "      <td>...</td>\n",
       "      <td>...</td>\n",
       "      <td>...</td>\n",
       "      <td>...</td>\n",
       "      <td>...</td>\n",
       "      <td>...</td>\n",
       "      <td>...</td>\n",
       "      <td>...</td>\n",
       "      <td>...</td>\n",
       "      <td>...</td>\n",
       "    </tr>\n",
       "    <tr>\n",
       "      <th>68778</th>\n",
       "      <td>53</td>\n",
       "      <td>2</td>\n",
       "      <td>168</td>\n",
       "      <td>76</td>\n",
       "      <td>120</td>\n",
       "      <td>80</td>\n",
       "      <td>1</td>\n",
       "      <td>1</td>\n",
       "      <td>1</td>\n",
       "      <td>0</td>\n",
       "      <td>1</td>\n",
       "      <td>0</td>\n",
       "    </tr>\n",
       "    <tr>\n",
       "      <th>68779</th>\n",
       "      <td>62</td>\n",
       "      <td>1</td>\n",
       "      <td>158</td>\n",
       "      <td>126</td>\n",
       "      <td>140</td>\n",
       "      <td>90</td>\n",
       "      <td>2</td>\n",
       "      <td>2</td>\n",
       "      <td>0</td>\n",
       "      <td>0</td>\n",
       "      <td>1</td>\n",
       "      <td>1</td>\n",
       "    </tr>\n",
       "    <tr>\n",
       "      <th>68780</th>\n",
       "      <td>52</td>\n",
       "      <td>2</td>\n",
       "      <td>183</td>\n",
       "      <td>105</td>\n",
       "      <td>180</td>\n",
       "      <td>90</td>\n",
       "      <td>3</td>\n",
       "      <td>1</td>\n",
       "      <td>0</td>\n",
       "      <td>1</td>\n",
       "      <td>0</td>\n",
       "      <td>1</td>\n",
       "    </tr>\n",
       "    <tr>\n",
       "      <th>68781</th>\n",
       "      <td>61</td>\n",
       "      <td>1</td>\n",
       "      <td>163</td>\n",
       "      <td>72</td>\n",
       "      <td>135</td>\n",
       "      <td>80</td>\n",
       "      <td>1</td>\n",
       "      <td>2</td>\n",
       "      <td>0</td>\n",
       "      <td>0</td>\n",
       "      <td>0</td>\n",
       "      <td>1</td>\n",
       "    </tr>\n",
       "    <tr>\n",
       "      <th>68782</th>\n",
       "      <td>56</td>\n",
       "      <td>1</td>\n",
       "      <td>170</td>\n",
       "      <td>72</td>\n",
       "      <td>120</td>\n",
       "      <td>80</td>\n",
       "      <td>2</td>\n",
       "      <td>1</td>\n",
       "      <td>0</td>\n",
       "      <td>0</td>\n",
       "      <td>1</td>\n",
       "      <td>0</td>\n",
       "    </tr>\n",
       "  </tbody>\n",
       "</table>\n",
       "<p>68783 rows × 12 columns</p>\n",
       "</div>"
      ],
      "text/plain": [
       "       AGE  GENDER  HEIGHT  WEIGHT  AP_HIGH  AP_LOW  CHOLESTEROL  GLUCOSE  \\\n",
       "0       50       2     168      62      110      80            1        1   \n",
       "1       55       1     156      85      140      90            3        1   \n",
       "2       52       1     165      64      130      70            3        1   \n",
       "3       48       2     169      82      150     100            1        1   \n",
       "4       48       1     156      56      100      60            1        1   \n",
       "...    ...     ...     ...     ...      ...     ...          ...      ...   \n",
       "68778   53       2     168      76      120      80            1        1   \n",
       "68779   62       1     158     126      140      90            2        2   \n",
       "68780   52       2     183     105      180      90            3        1   \n",
       "68781   61       1     163      72      135      80            1        2   \n",
       "68782   56       1     170      72      120      80            2        1   \n",
       "\n",
       "       SMOKE  ALCOHOL  PHYSICAL_ACTIVITY  CARDIO_DISEASE  \n",
       "0          0        0                  1               0  \n",
       "1          0        0                  1               1  \n",
       "2          0        0                  0               1  \n",
       "3          0        0                  1               1  \n",
       "4          0        0                  0               0  \n",
       "...      ...      ...                ...             ...  \n",
       "68778      1        0                  1               0  \n",
       "68779      0        0                  1               1  \n",
       "68780      0        1                  0               1  \n",
       "68781      0        0                  0               1  \n",
       "68782      0        0                  1               0  \n",
       "\n",
       "[68783 rows x 12 columns]"
      ]
     },
     "execution_count": 99,
     "metadata": {},
     "output_type": "execute_result"
    }
   ],
   "source": [
    "#cargamos el dataset a un dataframe\n",
    "df = pd.read_csv('cardiovascular_diseases_dv3.csv', delimiter=';')\n",
    "\n",
    "#mostramos el dataset\n",
    "df"
   ]
  },
  {
   "cell_type": "markdown",
   "metadata": {},
   "source": [
    "## Analisis del dataset\n",
    "Hacemos un analisis del dataset mostrando su informacion usando la funcion de `info()`:"
   ]
  },
  {
   "cell_type": "code",
   "execution_count": 100,
   "metadata": {},
   "outputs": [
    {
     "name": "stdout",
     "output_type": "stream",
     "text": [
      "<class 'pandas.core.frame.DataFrame'>\n",
      "RangeIndex: 68783 entries, 0 to 68782\n",
      "Data columns (total 12 columns):\n",
      " #   Column             Non-Null Count  Dtype\n",
      "---  ------             --------------  -----\n",
      " 0   AGE                68783 non-null  int64\n",
      " 1   GENDER             68783 non-null  int64\n",
      " 2   HEIGHT             68783 non-null  int64\n",
      " 3   WEIGHT             68783 non-null  int64\n",
      " 4   AP_HIGH            68783 non-null  int64\n",
      " 5   AP_LOW             68783 non-null  int64\n",
      " 6   CHOLESTEROL        68783 non-null  int64\n",
      " 7   GLUCOSE            68783 non-null  int64\n",
      " 8   SMOKE              68783 non-null  int64\n",
      " 9   ALCOHOL            68783 non-null  int64\n",
      " 10  PHYSICAL_ACTIVITY  68783 non-null  int64\n",
      " 11  CARDIO_DISEASE     68783 non-null  int64\n",
      "dtypes: int64(12)\n",
      "memory usage: 6.3 MB\n"
     ]
    }
   ],
   "source": [
    "df.info()"
   ]
  },
  {
   "cell_type": "markdown",
   "metadata": {},
   "source": [
    "con la siguiente informacion se puede ver lo siguiente, el cual son las caracteristicas del dataset:\n",
    "\n",
    "**Variables de entrada(X):**\n",
    "\n",
    "1. **age(Edad).-** Se refiere a la edad del paciente en años.\n",
    "2. **gender(Genero).-** Hace referencia al genero del paciente, 1 si es hombre y 2 si es mujer.\n",
    "3. **height(Altura).-** Es la altura del paciente medido en cm.\n",
    "4. **weight(Peso).-** Es el peso del paciente medido en Kg\n",
    "5. **ap_hight(Presión arterial sistólica).-** Presión arterial sistólica del paciente.\n",
    "6. **ap_low(Presión arterial diastólica).-** Presión arterial diastólica del paciente.\n",
    "7. **cholesterol(Colesterol).-** Nivel de colesterol en el paciente donde. 1: normal, 2: por encima de lo normal, 3: muy por encima de lo normal.\n",
    "8. **glocose(Glucosa).-** Nivel de glucosa del paciente donde. 1: normal, 2: por encima de lo normal, 3: muy por encima de lo normal.\n",
    "9. **smoke(Fuma).-** Indica si el paciente fuma. 1:Si y 2:No.\n",
    "10. **alcohol(alcohol).-** Indica si el paciente consume alcohol. 1:Si y 2:No.\n",
    "11. **fhisycal activity(Actividad fisica).-** Indical si el paciente realiza algun tipo de actividad fisica donde. 1:Si y 2:No.\n",
    "\n",
    "**Variable de salida(y):**\n",
    "\n",
    "1. **cardiovascular disease(Enfermedad cardiovascular).-** Presencia o ausencia de enfermedad cardiovascular, donde: 1:Si y 2:No."
   ]
  },
  {
   "cell_type": "markdown",
   "metadata": {},
   "source": [
    "## Separacion del 80% de los datos para entrenamiento y 20% para pruebas\n",
    "\n",
    "Haremos uso de la libreria `sklearn` haciendo uso de su funcion `train_test_split()`, donde recibe como parametros:\n",
    "\n",
    "`Arrays o matrices de características (X): `Estos son los datos que se utilizarán para hacer predicciones. Por lo general, son las variables independientes o características del conjunto de datos.\n",
    "\n",
    "`test_size (opcional):` Este parámetro especifica el tamaño del conjunto de prueba. Puede ser un número decimal entre 0 y 1, que representa el porcentaje del conjunto de datos que se asignará al conjunto de prueba, o puede ser un entero que representa el número absoluto de muestras en el conjunto de prueba. Por ejemplo, si test_size=0.2, se asignará el 20% del conjunto de datos al conjunto de prueba.\n",
    "\n",
    "`train_size (opcional):` Este parámetro especifica el tamaño del conjunto de entrenamiento. Al igual que test_size, puede ser un número decimal entre 0 y 1 o un entero que representa el número absoluto de muestras en el conjunto de entrenamiento. Si no se proporciona, se calcula automáticamente como 1 - test_size.\n",
    "\n",
    "`random_state (opcional):` Este parámetro permite establecer una semilla para la generación de números pseudoaleatorios. Esto garantiza que la división de los datos sea reproducible. Si se establece en un número entero, el resultado será el mismo cada vez que se ejecute el código."
   ]
  },
  {
   "cell_type": "code",
   "execution_count": 101,
   "metadata": {},
   "outputs": [
    {
     "name": "stdout",
     "output_type": "stream",
     "text": [
      "  X[:,0] X[:, 1]   X[:, 2]   X[:, 3] X[:, 4] X[:, 5] X[:, 6] X[:, 7]X[:, 8]   X[:, 9]  X[:, 10]         Y\n",
      "--------------------------------------------------------------------------------------------------------------\n",
      "      50       1       173        72     120      70       1       1       0         0       1           1\n",
      "      62       2       174        52     120      80       1       1       1         0       1           1\n",
      "      46       2       156        62     115      70       1       1       0         0       1           0\n",
      "      58       1       158        90     140      90       1       1       0         0       1           1\n",
      "      62       1       156        90     160      80       3       3       0         0       1           0\n",
      "      60       1       151        44     120      80       1       2       0         0       1           0\n",
      "      40       1       156        56     120      70       1       1       0         0       1           0\n",
      "      45       1       157        43     120      80       1       1       0         0       1           0\n",
      "      56       1       167        78     130      80       3       3       0         0       1           1\n",
      "      40       2       174        82     120      80       1       1       1         0       1           0\n",
      " \n",
      "El 80% de ejemplos para entrenamiento son la cantidad de: 55026 de ejemplos\n",
      "El 20% de ejemplos para pruebas son la cantidad de: 13757 de ejemplos\n",
      "La cantidad total de ejemplos es de: 68783 de ejemplos\n"
     ]
    }
   ],
   "source": [
    "# usamos la libreria train_test_split que nos ayudara a separar el 80% y 20% de los datos.\n",
    "train_dataset, test_dataset = train_test_split(df, test_size=0.2, random_state=42)\n",
    "\n",
    "#Separamos en X_test los datos, pero dropeando nuestra y que seria 'CARDIO_DISEASE'\n",
    "X_test = test_dataset.drop(['CARDIO_DISEASE'], axis=1).values\n",
    "#Separamos en y_test los datos, pero solo cargando la columna de 'CARDIO_DISEASE', ya que esa sera nuestra y\n",
    "y_test = test_dataset['CARDIO_DISEASE'].values\n",
    "m_test = len(y_test)\n",
    "\n",
    "# tomamos train_dataset, seleccionamos las columnas para X_train y la columna 'CARDIO_DISEASE' para y_train\n",
    "X_train = train_dataset.drop(['CARDIO_DISEASE'], axis=1).values\n",
    "y_train = train_dataset['CARDIO_DISEASE'].values\n",
    "m_train = len(y_train)\n",
    "\n",
    "\n",
    "#Imprimimos algunos datos:\n",
    "# imprimir todos las X de datos solo 10\n",
    "print('{:>8s}{:>8s}{:>10s}{:>10s}{:>8s}{:>8s}{:>8s}{:>8s}{:>6s}{:>10s}{:>10s}{:>10s}'.format(\n",
    "    'X[:,0]', 'X[:, 1]', 'X[:, 2]', 'X[:, 3]', 'X[:, 4]', 'X[:, 5]', 'X[:, 6]', 'X[:, 7]', 'X[:, 8]', 'X[:, 9]', 'X[:, 10]', 'Y'\n",
    "))\n",
    "print('-' * 110)\n",
    "\n",
    "for i in range(10):\n",
    "    print('{:8.0f}{:8.0f}{:10.0f}{:10.0f}{:8.0f}{:8.0f}{:8.0f}{:8.0f}{:8.0f}{:10.0f}{:8.0f}{:12.0f}'.format(\n",
    "        X_train[i, 0], X_train[i, 1], X_train[i, 2], X_train[i, 3], X_train[i, 4], X_train[i, 5], X_train[i, 6], X_train[i, 7], X_train[i, 8], X_train[i, 9], X_train[i, 10], y_train[i]\n",
    "    ))\n",
    "\n",
    "print(\" \")\n",
    "print('El 80% de ejemplos para entrenamiento son la cantidad de: {:.0f} de ejemplos'.format( len(train_dataset)))\n",
    "print('El 20% de ejemplos para pruebas son la cantidad de: {:.0f} de ejemplos'.format( len(test_dataset)))\n",
    "print('La cantidad total de ejemplos es de: {:.0f} de ejemplos'.format( len(df)))"
   ]
  },
  {
   "cell_type": "markdown",
   "metadata": {},
   "source": [
    "## Funcion para la Normalización de caracteristicas\n",
    "\n",
    "Al visualizar los datos se puede observar que las caracteristicas tienen diferentes magnitudes, por lo cual se debe transformar cada valor en una escala de valores similares, esto con el fin de que el descenso por el gradiente pueda converger mas rapidamente. En este caso\n",
    "\n",
    "Hacemos el uso de la siguiente funcion para normalizar los datos:"
   ]
  },
  {
   "cell_type": "code",
   "execution_count": 102,
   "metadata": {},
   "outputs": [],
   "source": [
    "def  featureNormalize(X):\n",
    "    X_norm = X.copy()\n",
    "\n",
    "    #creamos un array de ceros con una longitud igual al número de columnas en el array X. La variable mu y sigma se inicializa como este array de ceros.\n",
    "    mu = np.zeros(X.shape[1])\n",
    "    sigma = np.zeros(X.shape[1])\n",
    "\n",
    "    #Creamos el promedio de cada filaa de X\n",
    "    #media de cada columna\n",
    "    mu = np.mean(X, axis = 0)\n",
    "    \n",
    "    #desviacion estandar de cada fila de X\n",
    "    sigma = np.std(X, axis = 0)\n",
    "    \n",
    "    sigma[sigma == 0] = 1\n",
    "    \n",
    "    #normalizamos los datos con la siguiente formula\n",
    "    X_norm = (X - mu) / sigma\n",
    "\n",
    "    return X_norm, mu, sigma"
   ]
  },
  {
   "cell_type": "markdown",
   "metadata": {},
   "source": [
    "## Funcion para el calculo de la sigmoide\n",
    "\n",
    "También conocida como la función logística, es una función matemática que toma cualquier número real como entrada y devuelve un valor en el rango de 0 a 1. Donde nuestra **Z** es nuestra hipotesis."
   ]
  },
  {
   "cell_type": "code",
   "execution_count": 103,
   "metadata": {},
   "outputs": [],
   "source": [
    "def sigmoid(z):\n",
    "    # Calcula la sigmoide de una entrada z\n",
    "    # convierte la intrada a un arreglo numpy\n",
    "    z = np.array(z)\n",
    "\n",
    "    g = np.zeros(z.shape)\n",
    "\n",
    "    g = 1 / (1 + np.exp(-z))\n",
    "\n",
    "    return g"
   ]
  },
  {
   "cell_type": "markdown",
   "metadata": {},
   "source": [
    "## Funcion de calculo de costo con regularizacion"
   ]
  },
  {
   "cell_type": "code",
   "execution_count": 104,
   "metadata": {},
   "outputs": [],
   "source": [
    "def calcularCostoCR(theta, X, y, lambda_):\n",
    "    # Inicializar algunos valores utiles\n",
    "    m = y.size  # numero de ejemplos de entrenamiento\n",
    "\n",
    "    J = 0\n",
    "    \n",
    "    # temp = theta.copy()\n",
    "    # temp[0] = 0\n",
    "    \n",
    "    #hacemos el uso de la funcion sigmoid\n",
    "    h = sigmoid(X.dot(theta.T))\n",
    "    \n",
    "    J = (1 / m) * np.sum(-y.dot(np.log(h)) - (1 - y).dot(np.log(1 - h)))\n",
    "\n",
    "    # Calculamos el término de regularización (sin incluir el primer término de theta)\n",
    "    regularization_term = (lambda_ / (2 * m)) * np.sum(np.square(theta[1:]))\n",
    "\n",
    "    # Sumamos el término de regularización al costo total\n",
    "    J += regularization_term\n",
    "\n",
    "    return J"
   ]
  },
  {
   "cell_type": "markdown",
   "metadata": {},
   "source": [
    "### Funcion de descenso por el gradiente con regularizacion"
   ]
  },
  {
   "cell_type": "code",
   "execution_count": 105,
   "metadata": {},
   "outputs": [],
   "source": [
    "def descensoGradienteCR(theta, X, y, alpha, lambda_, num_iters):\n",
    "    # Inicializa algunos valores\n",
    "    m = y.shape[0] # numero de ejemplos de entrenamiento\n",
    "\n",
    "    # realiza una copia de theta, el cual será acutalizada por el descenso por el gradiente\n",
    "    theta = theta.copy()\n",
    "    J_history = []\n",
    "\n",
    "    for i in range(num_iters):\n",
    "        h = sigmoid(X.dot(theta.T))\n",
    "        \n",
    "        # Calcula el término de regularización (excepto para el término de sesgo theta[0])\n",
    "        regularization_term = (lambda_ / m) * theta[1:]\n",
    "        \n",
    "        theta[0] -= alpha * (1 / m) * np.sum(h - y)\n",
    "        theta[1:] -= alpha * ((1 / m) * (X[:, 1:].T.dot(h - y)) + regularization_term)\n",
    "\n",
    "        # Calcula y guarda el costo en cada iteración\n",
    "        J_history.append(calcularCostoCR(theta, X, y, lambda_))\n",
    "        \n",
    "    return theta, J_history"
   ]
  },
  {
   "cell_type": "markdown",
   "metadata": {},
   "source": [
    "## Funcion de calculo de costo sin regularizacion"
   ]
  },
  {
   "cell_type": "code",
   "execution_count": 106,
   "metadata": {},
   "outputs": [],
   "source": [
    "def calcularCostoSR(theta, X, y):\n",
    "    # Inicializar algunos valores utiles\n",
    "    m = y.size  # numero de ejemplos de entrenamiento\n",
    "\n",
    "    J = 0\n",
    "    \n",
    "    #hacemos el uso de la funcion sigmoid\n",
    "    h = sigmoid(X.dot(theta.T))\n",
    "    J = (1 / m) * np.sum(-y.dot(np.log(h)) - (1 - y).dot(np.log(1 - h)))\n",
    "\n",
    "    return J"
   ]
  },
  {
   "cell_type": "markdown",
   "metadata": {},
   "source": [
    "### Funcion de descenso por el gradiente sin regularizacion"
   ]
  },
  {
   "cell_type": "code",
   "execution_count": 107,
   "metadata": {},
   "outputs": [],
   "source": [
    "def descensoGradienteSR(theta, X, y, alpha, num_iters):\n",
    "    # Inicializa algunos valores\n",
    "    m = y.shape[0] # numero de ejemplos de entrenamiento\n",
    "\n",
    "    # realiza una copia de theta, el cual será acutalizada por el descenso por el gradiente\n",
    "    theta = theta.copy()\n",
    "    J_history = []\n",
    "\n",
    "    for i in range(num_iters):\n",
    "        h = sigmoid(X.dot(theta.T))\n",
    "        theta = theta - (alpha / m) * (h - y).dot(X)\n",
    "\n",
    "        J_history.append(calcularCostoSR(theta, X, y))\n",
    "    return theta, J_history"
   ]
  },
  {
   "cell_type": "markdown",
   "metadata": {},
   "source": [
    "## 1. Usando regularizacion\n",
    "\n",
    "La regularización es una técnica utilizada en el aprendizaje automático para prevenir el **sobreajuste (overfitting)** de un modelo a los datos de entrenamiento.\n",
    "\n",
    "El sobreajuste ocurre cuando un modelo se ajusta demasiado bien a los datos de entrenamiento y captura el ruido o las fluctuaciones aleatorias en los datos en lugar de aprender la verdadera relación subyacente entre las características y la variable objetivo. Esto puede resultar en un rendimiento deficiente del modelo cuando se enfrenta a nuevos datos que no formaban parte del conjunto de entrenamiento."
   ]
  },
  {
   "cell_type": "markdown",
   "metadata": {},
   "source": [
    "### 1.1 Regresion Logistica\n",
    "\n",
    "Carga de los datos para la regresion logistica:"
   ]
  },
  {
   "cell_type": "code",
   "execution_count": 108,
   "metadata": {},
   "outputs": [
    {
     "name": "stdout",
     "output_type": "stream",
     "text": [
      "  X[:,0] X[:, 1]   X[:, 2]   X[:, 3] X[:, 4] X[:, 5] X[:, 6] X[:, 7]X[:, 8]   X[:, 9]  X[:, 10]         Y\n",
      "--------------------------------------------------------------------------------------------------------------\n",
      "      50       1       173        72     120      70       1       1       0         0       1           1\n",
      "      62       2       174        52     120      80       1       1       1         0       1           1\n",
      "      46       2       156        62     115      70       1       1       0         0       1           0\n",
      "      58       1       158        90     140      90       1       1       0         0       1           1\n",
      "      62       1       156        90     160      80       3       3       0         0       1           0\n",
      "      60       1       151        44     120      80       1       2       0         0       1           0\n",
      "      40       1       156        56     120      70       1       1       0         0       1           0\n",
      "      45       1       157        43     120      80       1       1       0         0       1           0\n",
      "      56       1       167        78     130      80       3       3       0         0       1           1\n",
      "      40       2       174        82     120      80       1       1       1         0       1           0\n",
      " \n",
      "El 80% de ejemplos para entrenamiento son la cantidad de: 55026 de ejemplos\n",
      "El 20% de ejemplos para pruebas son la cantidad de: 13757 de ejemplos\n",
      "La cantidad total de ejemplos es de: 68783 de ejemplos\n"
     ]
    }
   ],
   "source": [
    "#hacemos una copia de y_train y y_test para usarlo en la regresion lineal multivariable\n",
    "\n",
    "#estos datos seran usados para el entrenamiento\n",
    "X_testCR = X_test.copy()\n",
    "y_testCR = y_test.copy()\n",
    "m_test_CR = len(y_testCR)\n",
    "\n",
    "#estos datos seran usados para el test\n",
    "X_trainCR = X_train.copy()\n",
    "y_trainCR = y_train.copy()\n",
    "m_train_CR = len(y_trainCR)\n",
    "\n",
    "#Imprimimos algunos datos:\n",
    "# imprimir todos las X de datos solo 10\n",
    "print('{:>8s}{:>8s}{:>10s}{:>10s}{:>8s}{:>8s}{:>8s}{:>8s}{:>6s}{:>10s}{:>10s}{:>10s}'.format(\n",
    "    'X[:,0]', 'X[:, 1]', 'X[:, 2]', 'X[:, 3]', 'X[:, 4]', 'X[:, 5]', 'X[:, 6]', 'X[:, 7]', 'X[:, 8]', 'X[:, 9]', 'X[:, 10]', 'Y'\n",
    "))\n",
    "print('-' * 110)\n",
    "\n",
    "for i in range(10):\n",
    "    print('{:8.0f}{:8.0f}{:10.0f}{:10.0f}{:8.0f}{:8.0f}{:8.0f}{:8.0f}{:8.0f}{:10.0f}{:8.0f}{:12.0f}'.format(\n",
    "        X_trainCR[i, 0], \n",
    "        X_trainCR[i, 1],\n",
    "        X_trainCR[i, 2],\n",
    "        X_trainCR[i, 3], \n",
    "        X_trainCR[i, 4], \n",
    "        X_trainCR[i, 5],\n",
    "        X_trainCR[i, 6], \n",
    "        X_trainCR[i, 7], \n",
    "        X_trainCR[i, 8], \n",
    "        X_trainCR[i, 9], \n",
    "        X_trainCR[i, 10], \n",
    "        y_trainCR[i]\n",
    "    ))\n",
    "\n",
    "#mostramos la cantidad de ejemplos\n",
    "print(\" \")\n",
    "print('El 80% de ejemplos para entrenamiento son la cantidad de: {:.0f} de ejemplos'.format( len(train_dataset)))\n",
    "print('El 20% de ejemplos para pruebas son la cantidad de: {:.0f} de ejemplos'.format( len(test_dataset)))\n",
    "print('La cantidad total de ejemplos es de: {:.0f} de ejemplos'.format( len(df)))"
   ]
  },
  {
   "cell_type": "markdown",
   "metadata": {},
   "source": [
    "#### 1.1.1 Normalizacion de las caracteristicas\n",
    "\n",
    "Se hace uso de la funcion de `featureNormalize(X) ` donde se recibe un parametro de tipo matriz para normalizar cada dato dentro de ella, retornandome la **matriz normalizda**, **sigma(desviacion estandar)**, y mi **mu(media)**.\n",
    "\n",
    "Almacenando los datos normalizados en **X_norm** usando la funcion **featureNormaliza()**, normalizando los datos de X_train"
   ]
  },
  {
   "cell_type": "code",
   "execution_count": 109,
   "metadata": {},
   "outputs": [
    {
     "name": "stdout",
     "output_type": "stream",
     "text": [
      "  X[:,0] X[:, 1]   X[:, 2]   X[:, 3] X[:, 4] X[:, 5] X[:, 6] X[:, 7]X[:, 8]   X[:, 9]  X[:, 10]\n",
      "--------------------------------------------------------------------------------------------------------------\n",
      "  -0.495  -0.730     1.058    -0.146  -0.393  -1.183  -0.538  -0.396  -0.310    -0.238   0.497\n",
      "   1.281   1.370     1.180    -1.543  -0.393  -0.143  -0.538  -0.396   3.226    -0.238   0.497\n",
      "  -1.087   1.370    -1.024    -0.844  -0.692  -1.183  -0.538  -0.396  -0.310    -0.238   0.497\n",
      "   0.689  -0.730    -0.779     1.112   0.803   0.896  -0.538  -0.396  -0.310    -0.238   0.497\n",
      "   1.281  -0.730    -1.024     1.112   1.999  -0.143   2.401   3.085  -0.310    -0.238   0.497\n",
      "   0.985  -0.730    -1.636    -2.102  -0.393  -0.143  -0.538   1.345  -0.310    -0.238   0.497\n",
      "  -1.974  -0.730    -1.024    -1.263  -0.393  -1.183  -0.538  -0.396  -0.310    -0.238   0.497\n",
      "  -1.235  -0.730    -0.901    -2.172  -0.393  -0.143  -0.538  -0.396  -0.310    -0.238   0.497\n",
      "   0.393  -0.730     0.323     0.274   0.205  -0.143   2.401   3.085  -0.310    -0.238   0.497\n",
      "  -1.974   1.370     1.180     0.553  -0.393  -0.143  -0.538  -0.396   3.226    -0.238   0.497\n"
     ]
    }
   ],
   "source": [
    "X_norm_CR, mu_CR, sigma_CR= featureNormalize(X_trainCR)\n",
    "\n",
    "# imprimir todos las X_norm de datos solo 10\n",
    "print('{:>8s}{:>8s}{:>10s}{:>10s}{:>8s}{:>8s}{:>8s}{:>8s}{:>6s}{:>10s}{:>10s}'.format(\n",
    "    'X[:,0]', 'X[:, 1]', 'X[:, 2]', 'X[:, 3]', 'X[:, 4]', 'X[:, 5]', 'X[:, 6]', 'X[:, 7]', 'X[:, 8]', 'X[:, 9]', 'X[:, 10]'\n",
    "))\n",
    "print('-' * 110)\n",
    "\n",
    "for i in range(10):\n",
    "    print('{:8.3f}{:8.3f}{:10.3f}{:10.3f}{:8.3f}{:8.3f}{:8.3f}{:8.3f}{:8.3f}{:10.3f}{:8.3f}'.format(\n",
    "        X_norm_CR[i, 0], \n",
    "        X_norm_CR[i, 1],\n",
    "        X_norm_CR[i, 2], \n",
    "        X_norm_CR[i, 3], \n",
    "        X_norm_CR[i, 4], \n",
    "        X_norm_CR[i, 5],\n",
    "        X_norm_CR[i, 6],\n",
    "        X_norm_CR[i, 7], \n",
    "        X_norm_CR[i, 8], \n",
    "        X_norm_CR[i, 9], \n",
    "        X_norm_CR[i, 10]\n",
    "    ))"
   ]
  },
  {
   "cell_type": "markdown",
   "metadata": {},
   "source": [
    "#### 1.1.2 Agregamos la columna de unos a nuestra matriz"
   ]
  },
  {
   "cell_type": "code",
   "execution_count": 110,
   "metadata": {},
   "outputs": [
    {
     "name": "stdout",
     "output_type": "stream",
     "text": [
      "  X[:,0] X[:, 1]   X[:, 2]   X[:, 3] X[:, 4] X[:, 5] X[:, 6] X[:, 7]X[:, 8]   X[:, 9]  X[:, 10]  X[:, 11]\n",
      "----------------------------------------------------------------------------------------------------------------------------------\n",
      "   1.000  -0.495    -0.730     1.058  -0.146  -0.393  -1.183  -0.538  -0.396    -0.310  -0.238   0.497\n",
      "   1.000   1.281     1.370     1.180  -1.543  -0.393  -0.143  -0.538  -0.396     3.226  -0.238   0.497\n",
      "   1.000  -1.087     1.370    -1.024  -0.844  -0.692  -1.183  -0.538  -0.396    -0.310  -0.238   0.497\n",
      "   1.000   0.689    -0.730    -0.779   1.112   0.803   0.896  -0.538  -0.396    -0.310  -0.238   0.497\n",
      "   1.000   1.281    -0.730    -1.024   1.112   1.999  -0.143   2.401   3.085    -0.310  -0.238   0.497\n",
      "   1.000   0.985    -0.730    -1.636  -2.102  -0.393  -0.143  -0.538   1.345    -0.310  -0.238   0.497\n",
      "   1.000  -1.974    -0.730    -1.024  -1.263  -0.393  -1.183  -0.538  -0.396    -0.310  -0.238   0.497\n",
      "   1.000  -1.235    -0.730    -0.901  -2.172  -0.393  -0.143  -0.538  -0.396    -0.310  -0.238   0.497\n",
      "   1.000   0.393    -0.730     0.323   0.274   0.205  -0.143   2.401   3.085    -0.310  -0.238   0.497\n",
      "   1.000  -1.974     1.370     1.180   0.553  -0.393  -0.143  -0.538  -0.396     3.226  -0.238   0.497\n"
     ]
    }
   ],
   "source": [
    "X_ready_CR = np.concatenate([np.ones((m_train_CR, 1)), X_norm_CR], axis=1)\n",
    "\n",
    "# print(len(X_ready[0]))\n",
    "\n",
    "# imprimir todos las X_norm de datos solo 10\n",
    "print('{:>8s}{:>8s}{:>10s}{:>10s}{:>8s}{:>8s}{:>8s}{:>8s}{:>6s}{:>10s}{:>10s}{:>10s}'.format(\n",
    "    'X[:,0]', 'X[:, 1]', 'X[:, 2]', 'X[:, 3]', 'X[:, 4]', 'X[:, 5]', 'X[:, 6]', 'X[:, 7]', 'X[:, 8]', 'X[:, 9]', 'X[:, 10]', 'X[:, 11]'\n",
    "))\n",
    "print('-' * 130)\n",
    "\n",
    "for i in range(10):\n",
    "    print('{:8.3f}{:8.3f}{:10.3f}{:10.3f}{:8.3f}{:8.3f}{:8.3f}{:8.3f}{:8.3f}{:10.3f}{:8.3f}{:8.3f}'.format(\n",
    "        X_ready_CR[i, 0],\n",
    "        X_ready_CR[i, 1], \n",
    "        X_ready_CR[i, 2], \n",
    "        X_ready_CR[i, 3],\n",
    "        X_ready_CR[i, 4], \n",
    "        X_ready_CR[i, 5], \n",
    "        X_ready_CR[i, 6], \n",
    "        X_ready_CR[i, 7], \n",
    "        X_ready_CR[i, 8], \n",
    "        X_ready_CR[i, 9], \n",
    "        X_ready_CR[i, 10], \n",
    "        X_ready_CR[i, 11]\n",
    "    ))\n"
   ]
  },
  {
   "cell_type": "markdown",
   "metadata": {},
   "source": [
    "#### 1.1.3 Descenso por el gradiente\n",
    "\n",
    "Al igual que regresion lineal se aplicara el descenso por la gradiente, con la diferencia que aqui se hara el uso de la funcion **sigmoid()**:"
   ]
  },
  {
   "cell_type": "markdown",
   "metadata": {},
   "source": [
    "##### 1.1.3.1 Cálculo del costo $J(\\theta)$\n",
    "\n",
    "hacemos uso de la funcion def `calcularCosto(X, y, theta, lambda_)`;"
   ]
  },
  {
   "cell_type": "markdown",
   "metadata": {},
   "source": [
    "Ejemplo de funcionamiento de la funcion computeCoste con dos valores diferentes de $\\theta$."
   ]
  },
  {
   "cell_type": "code",
   "execution_count": 111,
   "metadata": {},
   "outputs": [
    {
     "name": "stdout",
     "output_type": "stream",
     "text": [
      "12\n",
      "########################################################################################################\n",
      "con theta:[0.2 3.  0.2 0.1 3.  0.2 1.1 2.  0.7 0.8 5.8 0.9] se obtiene un costo de: nan\n",
      "########################################################################################################\n",
      "con theta:[0.1 2.  0.5 0.2 8.  0.7 1.3 8.  1.7 0.7 7.1 7.2] se obtiene un costo de: nan\n"
     ]
    },
    {
     "name": "stderr",
     "output_type": "stream",
     "text": [
      "C:\\Users\\ANIMETX\\AppData\\Local\\Temp\\ipykernel_4744\\294937797.py:13: RuntimeWarning: divide by zero encountered in log\n",
      "  J = (1 / m) * np.sum(-y.dot(np.log(h)) - (1 - y).dot(np.log(1 - h)))\n"
     ]
    }
   ],
   "source": [
    "theta_CR=np.array([0.2, 3.0, 0.2,0.1, 3.0, 0.2,1.1, 2.0, 0.7,0.8, 5.8, 0.9])\n",
    "theta_CR1=np.array([0.1, 2.0, 0.5,0.2, 8.0, 0.7,1.3, 8.0, 1.7,0.7, 7.1, 7.2])\n",
    "\n",
    "lambda_ = 1000\n",
    "print(theta_CR.shape[0])\n",
    "print(f\"########################################################################################################\")\n",
    "print(f\"con theta:{ theta_CR } se obtiene un costo de: {calcularCostoCR(theta_CR, X_ready_CR, y_trainCR, lambda_)}\")\n",
    "print(f\"########################################################################################################\")\n",
    "print(f\"con theta:{ theta_CR1 } se obtiene un costo de: {calcularCostoCR(theta_CR ,X_ready_CR, y_trainCR, lambda_)}\")"
   ]
  },
  {
   "cell_type": "markdown",
   "metadata": {},
   "source": [
    "##### 1.1.3.2Descenso por el gradiente\n",
    "\n",
    "Hacemos uso de la funcion para hacer el calculo del descenso por el gradiente y asi encontrar nuestras **Thetas**, se hizo la modificacion para que la funcion ahora reciba el parametro de ``lamda_``"
   ]
  },
  {
   "cell_type": "markdown",
   "metadata": {},
   "source": [
    "Se inicializan los parametros $\\theta$ con 0 y la taza de aprendizaje $\\alpha$ con 0.00009."
   ]
  },
  {
   "cell_type": "code",
   "execution_count": 112,
   "metadata": {},
   "outputs": [
    {
     "name": "stdout",
     "output_type": "stream",
     "text": [
      "########################################################################################################\n",
      "Los valores de theta calculados son:\n",
      "theta 1: -0.005525687971136652\n",
      "theta 2: 0.2898292545244821\n",
      "theta 3: -0.011653468145171816\n",
      "theta 4: -0.02974982527695866\n",
      "theta 5: 0.1609850732204257\n",
      "theta 6: 0.5465391285126422\n",
      "theta 7: 0.3051217491601402\n",
      "theta 8: 0.2532316903259185\n",
      "theta 9: 0.01318102118910723\n",
      "theta 10: -0.03502721046187477\n",
      "theta 11: -0.03186999591459235\n",
      "theta 12: -0.06943510659835729\n",
      "########################################################################################################\n",
      "con un costo de: 0.5738205658870382 \n"
     ]
    }
   ],
   "source": [
    "#creamos un theta con 19 columnas de ceros\n",
    "theta_CR = np.zeros(len(X_ready_CR[0]))\n",
    "\n",
    "#numero de iteraciones sera 900 y un alpha 0.009\n",
    "num_ite_CR = 900\n",
    "alpha_CR = 0.009\n",
    "lambda_CR = 1000\n",
    "\n",
    "theta_CR, J_historico_CR = descensoGradienteCR(theta_CR, X_ready_CR, y_trainCR, alpha_CR, lambda_CR, num_ite_CR)\n",
    "\n",
    "print(\"########################################################################################################\")\n",
    "print(\"Los valores de theta calculados son:\")\n",
    "i = 0\n",
    "for tht in theta_CR:\n",
    "    i += 1\n",
    "    print(f\"theta {i}: {tht}\")\n",
    "\n",
    "\n",
    "print(f\"########################################################################################################\")\n",
    "#mostramos el ultimo costo, este seria el mejor costo\n",
    "print(f\"con un costo de: { J_historico_CR[-1]} \")"
   ]
  },
  {
   "cell_type": "markdown",
   "metadata": {},
   "source": [
    "#### 1.1.4 Grafica de la convergencia del costo\n",
    "graficamos el costo"
   ]
  },
  {
   "cell_type": "code",
   "execution_count": 113,
   "metadata": {},
   "outputs": [
    {
     "data": {
      "text/plain": [
       "Text(0, 0.5, 'Costo J')"
      ]
     },
     "execution_count": 113,
     "metadata": {},
     "output_type": "execute_result"
    },
    {
     "data": {
      "image/png": "[encoded data removed]",
      "text/plain": [
       "<Figure size 640x480 with 1 Axes>"
      ]
     },
     "metadata": {},
     "output_type": "display_data"
    }
   ],
   "source": [
    "pyplot.plot(np.arange(len(J_historico_CR)), J_historico_CR, lw=2)\n",
    "pyplot.title(\"Grafica de la convergencia del costo\")\n",
    "pyplot.xlabel('Numero de iteraciones')\n",
    "pyplot.ylabel('Costo J')"
   ]
  },
  {
   "cell_type": "markdown",
   "metadata": {},
   "source": [
    "Haciendo la prueba con un ejemplo"
   ]
  },
  {
   "cell_type": "code",
   "execution_count": 114,
   "metadata": {},
   "outputs": [
    {
     "name": "stdout",
     "output_type": "stream",
     "text": [
      "Una persona con las caracteristicas: [1, 58, 1, 159, 53, 110, 70, 1, 1, 0, 0, 1] \n",
      "Tiene una probabilidad de tener diabetes de: 25.44330785379769 %\n",
      "Con valores de theta: [-0.00552569  0.28982925 -0.01165347 -0.02974983  0.16098507  0.54653913\n",
      "  0.30512175  0.25323169  0.01318102 -0.03502721 -0.03187    -0.06943511]\n"
     ]
    }
   ],
   "source": [
    "X_array_CR = [1,58,1,159,53,110,70,1,1,0,0,1]\n",
    "X_array_copy_CR = X_array_CR.copy()\n",
    "#Se normaliza las caracteristicas para la prueba. haciendo el uso de mu y sigma calculados anteriormente, solamente los valores despues del primero, porque este es el 1.\n",
    "X_array_CR[1:] = (X_array_CR[1:] - mu_CR) / sigma_CR\n",
    "\n",
    "resultados_CR = sigmoid(np.dot(X_array_CR, theta_CR)) \n",
    "\n",
    "print(f\"Una persona con las caracteristicas: {X_array_copy_CR} \")\n",
    "print(f'Tiene una probabilidad de tener diabetes de: {resultados_CR * 100} %')\n",
    "\n",
    "print(f\"Con valores de theta: { theta_CR }\")"
   ]
  },
  {
   "cell_type": "markdown",
   "metadata": {},
   "source": [
    "#### 1.1.5 Ejemplos de Predicciones\n",
    "\n",
    "Se creo una matriz con 11 ejemplos, donde se hace las predicciones correspondientes:"
   ]
  },
  {
   "cell_type": "markdown",
   "metadata": {},
   "source": [
    "##### 1.1.5.1 Definiendo nuestro umbral clasificador\n",
    "Donde:\n",
    "\n",
    "* Si $h(\\theta)$ >= 0.5, predice \"y = 1\".\n",
    "* Si $h(\\theta)$ < 0.5 , predice \"y = 0\"."
   ]
  },
  {
   "cell_type": "code",
   "execution_count": 115,
   "metadata": {},
   "outputs": [
    {
     "name": "stdout",
     "output_type": "stream",
     "text": [
      "+-------+----------+----------+----------+-----------+----------+---------------+-----------+---------+-----------+---------------------+------------------+-------------------------+\n",
      "|   AGE |   GENDER |   HEIGHT |   WEIGHT |   AP_HIGH |   AP_LOW |   CHOLESTEROL |   GLUCOSE |   SMOKE |   ALCOHOL |   PHYSICAL_ACTIVITY |   CARDIO_DISEASE |   CARDIO_DISEASE(Si/No) |\n",
      "+=======+==========+==========+==========+===========+==========+===============+===========+=========+===========+=====================+==================+=========================+\n",
      "|    50 |        2 |      168 |       62 |       110 |       80 |             1 |         1 |       0 |         0 |                   1 |         0.257871 |                       0 |\n",
      "+-------+----------+----------+----------+-----------+----------+---------------+-----------+---------+-----------+---------------------+------------------+-------------------------+\n",
      "|    62 |        1 |      165 |       68 |       150 |       80 |             2 |         1 |       0 |         0 |                   0 |         0.8044   |                       1 |\n",
      "+-------+----------+----------+----------+-----------+----------+---------------+-----------+---------+-----------+---------------------+------------------+-------------------------+\n",
      "|    58 |        1 |      153 |       78 |       140 |       90 |             2 |         1 |       0 |         0 |                   1 |         0.771126 |                       1 |\n",
      "+-------+----------+----------+----------+-----------+----------+---------------+-----------+---------+-----------+---------------------+------------------+-------------------------+\n",
      "|    46 |        1 |      169 |       64 |       120 |       80 |             3 |         1 |       0 |         0 |                   1 |         0.471481 |                       0 |\n",
      "+-------+----------+----------+----------+-----------+----------+---------------+-----------+---------+-----------+---------------------+------------------+-------------------------+\n",
      "|    46 |        1 |      158 |       58 |       110 |       80 |             1 |         1 |       0 |         0 |                   1 |         0.229228 |                       0 |\n",
      "+-------+----------+----------+----------+-----------+----------+---------------+-----------+---------+-----------+---------------------+------------------+-------------------------+\n",
      "|    60 |        2 |      170 |       69 |       120 |       80 |             1 |         1 |       1 |         1 |                   1 |         0.378664 |                       0 |\n",
      "+-------+----------+----------+----------+-----------+----------+---------------+-----------+---------+-----------+---------------------+------------------+-------------------------+\n",
      "|    52 |        2 |      171 |       98 |       110 |       90 |             1 |         1 |       0 |         0 |                   1 |         0.435304 |                       0 |\n",
      "+-------+----------+----------+----------+-----------+----------+---------------+-----------+---------+-----------+---------------------+------------------+-------------------------+\n",
      "|    52 |        1 |      153 |       63 |       110 |       70 |             2 |         1 |       0 |         0 |                   1 |         0.304504 |                       0 |\n",
      "+-------+----------+----------+----------+-----------+----------+---------------+-----------+---------+-----------+---------------------+------------------+-------------------------+\n",
      "|    59 |        2 |      165 |       65 |       120 |       80 |             1 |         1 |       0 |         0 |                   1 |         0.425637 |                       0 |\n",
      "+-------+----------+----------+----------+-----------+----------+---------------+-----------+---------+-----------+---------------------+------------------+-------------------------+\n",
      "|    64 |        1 |      148 |       50 |       120 |       80 |             2 |         1 |       0 |         0 |                   1 |         0.550959 |                       1 |\n",
      "+-------+----------+----------+----------+-----------+----------+---------------+-----------+---------+-----------+---------------------+------------------+-------------------------+\n",
      "|    54 |        2 |      169 |       55 |       120 |       80 |             1 |         1 |       1 |         0 |                   1 |         0.31757  |                       0 |\n",
      "+-------+----------+----------+----------+-----------+----------+---------------+-----------+---------+-----------+---------------------+------------------+-------------------------+\n"
     ]
    }
   ],
   "source": [
    "nombres_columnas = ['AGE','GENDER','HEIGHT','WEIGHT','AP_HIGH','AP_LOW','CHOLESTEROL','GLUCOSE','SMOKE','ALCOHOL','PHYSICAL_ACTIVITY','CARDIO_DISEASE', 'CARDIO_DISEASE(Si/No)']\n",
    "\n",
    "matriz_datos_CR = np.array([\n",
    "[50,2,168,62,110,80,1,1,0,0,1],\n",
    "[62,1,165,68,150,80,2,1,0,0,0],\n",
    "[58,1,153,78,140,90,2,1,0,0,1],\n",
    "[46,1,169,64,120,80,3,1,0,0,1],\n",
    "[46,1,158,58,110,80,1,1,0,0,1],\n",
    "[60,2,170,69,120,80,1,1,1,1,1],\n",
    "[52,2,171,98,110,90,1,1,0,0,1],\n",
    "[52,1,153,63,110,70,2,1,0,0,1],\n",
    "[59,2,165,65,120,80,1,1,0,0,1],\n",
    "[64,1,148,50,120,80,2,1,0,0,1],\n",
    "[54,2,169,55,120,80,1,1,1,0,1],\n",
    "])\n",
    "\n",
    "para_tabla = matriz_datos_CR.copy()\n",
    "#creamos un vector parta almacenar cada Y predicha\n",
    "y_pre_CR = []\n",
    "\n",
    "matriz_datos_CR = (matriz_datos_CR- mu_CR) / sigma_CR\n",
    "matriz_datos_CR = np.concatenate([np.ones((len(matriz_datos_CR), 1)), matriz_datos_CR], axis=1)\n",
    "\n",
    "# Calculamos la Y predicha de los 11 ejemplos de prediccion\n",
    "# Calculamos la Y predicha de cada fila de la matriz\n",
    "for j in matriz_datos_CR:\n",
    "    y_pre_CR.append(sigmoid(np.dot(j, theta_CR)))\n",
    "\n",
    "# Convertimos la lista a un array unidimensional\n",
    "\n",
    "y_pre_CR = np.array(y_pre_CR)\n",
    "\n",
    "# usamos umbral para definir si tiene o no la enfermedad\n",
    "y_pre_umbral_CR = (y_pre_CR >= 0.5).astype(int)\n",
    "\n",
    "para_tabla = np.column_stack((para_tabla, y_pre_CR))\n",
    "para_tabla = np.column_stack((para_tabla, y_pre_umbral_CR))\n",
    "# Convertir la matriz en una lista de listas\n",
    "datos_para_tabla = para_tabla.tolist()\n",
    "\n",
    "# Imprimir la tabla\n",
    "print(tabulate(datos_para_tabla, headers=nombres_columnas, tablefmt='grid'))"
   ]
  },
  {
   "cell_type": "markdown",
   "metadata": {},
   "source": [
    "#### 1.1.6 Validaciones\n",
    "Para hacer las validaciones correspondientes se hizo el uso siguiendo el consejo de 80/20, donde 80% es para la fase de entrenamiento, y 20% es para la fase de prueba."
   ]
  },
  {
   "cell_type": "markdown",
   "metadata": {},
   "source": [
    "##### 1.1.6.1 Normalizamos el X_test que es el 20% separado a un incio:"
   ]
  },
  {
   "cell_type": "code",
   "execution_count": 116,
   "metadata": {},
   "outputs": [],
   "source": [
    "X_norm_test_CR = (X_testCR- mu_CR) / sigma_CR\n",
    "m_test= len(X_testCR)"
   ]
  },
  {
   "cell_type": "markdown",
   "metadata": {},
   "source": [
    "##### 1.1.6.2 Concadenamos unos a matriz X normalizado del test:"
   ]
  },
  {
   "cell_type": "code",
   "execution_count": 117,
   "metadata": {},
   "outputs": [
    {
     "name": "stdout",
     "output_type": "stream",
     "text": [
      "  X[:,0] X[:, 1]   X[:, 2]   X[:, 3] X[:, 4] X[:, 5] X[:, 6] X[:, 7]X[:, 8]   X[:, 9]  X[:, 10]  X[:, 11]\n",
      "--------------------------------------------------------------------------------------------------------------\n",
      "   1.000  -0.643    -0.730    -1.024  -0.844  -1.589  -1.183   0.931  -0.396    -0.310  -0.238   0.497\n",
      "   1.000   0.393    -0.730    -0.044   0.274  -0.393  -0.143  -0.538  -0.396    -0.310  -0.238   0.497\n",
      "   1.000   0.541    -0.730    -0.044   0.274  -0.393  -0.143  -0.538  -0.396    -0.310  -0.238   0.497\n",
      "   1.000   0.097    -0.730     0.323   2.160   1.999   1.935  -0.538  -0.396    -0.310  -0.238   0.497\n",
      "   1.000  -0.199    -0.730    -2.982   0.204   0.803   0.896  -0.538  -0.396    -0.310  -0.238   0.497\n",
      "   1.000  -0.495    -0.730     0.445  -0.076   1.401   0.896  -0.538  -0.396    -0.310  -0.238  -2.014\n",
      "   1.000   1.281     1.370    -0.534   0.902  -0.991  -1.183  -0.538  -0.396    -0.310  -0.238   0.497\n",
      "   1.000  -0.643    -0.730    -1.146   1.671  -0.393  -0.143  -0.538  -0.396    -0.310  -0.238   0.497\n",
      "   1.000  -0.199     1.370     0.078  -0.285   0.205  -0.143  -0.538  -0.396     3.226  -0.238   0.497\n",
      "   1.000   0.393     1.370     0.568  -0.425   0.803   0.896   0.931  -0.396    -0.310  -0.238   0.497\n"
     ]
    }
   ],
   "source": [
    "X_test_ready_CR = np.concatenate([np.ones((m_test_CR, 1)), X_norm_test_CR], axis=1)\n",
    "\n",
    "# imprimir todos las X_norm de datos solo 10\n",
    "print('{:>8s}{:>8s}{:>10s}{:>10s}{:>8s}{:>8s}{:>8s}{:>8s}{:>6s}{:>10s}{:>10s}{:>10s}'.format(\n",
    "    'X[:,0]', 'X[:, 1]', 'X[:, 2]', 'X[:, 3]', 'X[:, 4]', 'X[:, 5]', 'X[:, 6]', 'X[:, 7]', 'X[:, 8]', 'X[:, 9]', 'X[:, 10]', 'X[:, 11]'\n",
    "))\n",
    "print('-' * 110)\n",
    "\n",
    "for i in range(10):\n",
    "    print('{:8.3f}{:8.3f}{:10.3f}{:10.3f}{:8.3f}{:8.3f}{:8.3f}{:8.3f}{:8.3f}{:10.3f}{:8.3f}{:8.3f}'.format(\n",
    "    X_test_ready_CR[i, 0],\n",
    "    X_test_ready_CR[i, 1],\n",
    "    X_test_ready_CR[i, 2],\n",
    "    X_test_ready_CR[i, 3], \n",
    "    X_test_ready_CR[i, 4],\n",
    "    X_test_ready_CR[i, 5], \n",
    "    X_test_ready_CR[i, 6],\n",
    "    X_test_ready_CR[i, 7], \n",
    "    X_test_ready_CR[i, 8], \n",
    "    X_test_ready_CR[i, 9], \n",
    "    X_test_ready_CR[i, 10], \n",
    "    X_test_ready_CR[i, 11]\n",
    "    ))"
   ]
  },
  {
   "cell_type": "markdown",
   "metadata": {},
   "source": [
    "##### 1.1.6.3 Hacemos el calculo de Y predicha "
   ]
  },
  {
   "cell_type": "code",
   "execution_count": 118,
   "metadata": {},
   "outputs": [
    {
     "name": "stdout",
     "output_type": "stream",
     "text": [
      "  X[:,0] X[:, 1]   X[:, 2]   X[:, 3] X[:, 4] X[:, 5] X[:, 6] X[:, 7]X[:, 8]   X[:, 9]  X[:, 10]  X[:, 11]         y     (y) usando el umbral\n",
      "--------------------------------------------------------------------------------------------------------------------------------------------\n",
      "   1.000  -0.643    -0.730    -1.024  -0.844  -1.589  -1.183   0.931  -0.396    -0.310  -0.238   0.497           0.21              0\n",
      "   1.000   0.393    -0.730    -0.044   0.274  -0.393  -0.143  -0.538  -0.396    -0.310  -0.238   0.497           0.44              0\n",
      "   1.000   0.541    -0.730    -0.044   0.274  -0.393  -0.143  -0.538  -0.396    -0.310  -0.238   0.497           0.45              0\n",
      "   1.000   0.097    -0.730     0.323   2.160   1.999   1.935  -0.538  -0.396    -0.310  -0.238   0.497           0.87              1\n",
      "   1.000  -0.199    -0.730    -2.982   0.204   0.803   0.896  -0.538  -0.396    -0.310  -0.238   0.497           0.65              1\n",
      "   1.000  -0.495    -0.730     0.445  -0.076   1.401   0.896  -0.538  -0.396    -0.310  -0.238  -2.014           0.71              1\n",
      "   1.000   1.281     1.370    -0.534   0.902  -0.991  -1.183  -0.538  -0.396    -0.310  -0.238   0.497           0.37              0\n",
      "   1.000  -0.643    -0.730    -1.146   1.671  -0.393  -0.143  -0.538  -0.396    -0.310  -0.238   0.497           0.43              0\n",
      "   1.000  -0.199     1.370     0.078  -0.285   0.205  -0.143  -0.538  -0.396     3.226  -0.238   0.497           0.42              0\n",
      "   1.000   0.393     1.370     0.568  -0.425   0.803   0.896   0.931  -0.396    -0.310  -0.238   0.497           0.72              1\n"
     ]
    }
   ],
   "source": [
    "y_predicha_CR =[]\n",
    "# Calculamos la Y predicha de cada fila de la matriz\n",
    "for dato in X_test_ready_CR:\n",
    "    y_predicha_CR.append(sigmoid(np.dot(dato, theta_CR.T)))\n",
    "\n",
    "# Convertimos la lista a un array unidimensional\n",
    "y_predicha_CR = np.array(y_predicha_CR)\n",
    "\n",
    "#usando el umbral donde todo aquello que sea >= 0.5 sera 1, y si es menor sera 0\n",
    "y_umbral_CR = (y_predicha_CR >= 0.5).astype(int)\n",
    "\n",
    "# imprimir todos las X_norm de datos solo 10\n",
    "print('{:>8s}{:>8s}{:>10s}{:>10s}{:>8s}{:>8s}{:>8s}{:>8s}{:>6s}{:>10s}{:>10s}{:>10s}{:>10s}{:>25s}'.format(\n",
    "    'X[:,0]', 'X[:, 1]', 'X[:, 2]', 'X[:, 3]', 'X[:, 4]', 'X[:, 5]', 'X[:, 6]', 'X[:, 7]', 'X[:, 8]', 'X[:, 9]', 'X[:, 10]', 'X[:, 11]','y','(y) usando el umbral'\n",
    "))\n",
    "print('-' * 140)\n",
    "\n",
    "#Mostrando algunos datos\n",
    "for i in range(10):\n",
    "    print('{:8.3f}{:8.3f}{:10.3f}{:10.3f}{:8.3f}{:8.3f}{:8.3f}{:8.3f}{:8.3f}{:10.3f}{:8.3f}{:8.3f}{:15.2f}{:15.0f}'.format(\n",
    "    X_test_ready_CR[i, 0],\n",
    "    X_test_ready_CR[i, 1], \n",
    "    X_test_ready_CR[i, 2], \n",
    "    X_test_ready_CR[i, 3],\n",
    "    X_test_ready_CR[i, 4], \n",
    "    X_test_ready_CR[i, 5], \n",
    "    X_test_ready_CR[i, 6],\n",
    "    X_test_ready_CR[i, 7], \n",
    "    X_test_ready_CR[i, 8], \n",
    "    X_test_ready_CR[i, 9], \n",
    "    X_test_ready_CR[i, 10],\n",
    "    X_test_ready_CR[i, 11], \n",
    "    y_predicha_CR[i], \n",
    "    y_umbral_CR[i]\n",
    "    ))"
   ]
  },
  {
   "cell_type": "markdown",
   "metadata": {},
   "source": [
    "##### 1.1.6.4 Calculando la precision del entrenamiento:\n",
    "se hace uso del **np.mean**, Calcula la media (promedio) de los valores booleanos. Dado que True se interpreta como 1 y False como 0 en operaciones aritméticas, la media resultante será la proporción de elementos iguales en **y_predicha** e **y_test**."
   ]
  },
  {
   "cell_type": "code",
   "execution_count": 119,
   "metadata": {},
   "outputs": [
    {
     "name": "stdout",
     "output_type": "stream",
     "text": [
      "Precisión de entrenamiento: 72.65 %\n"
     ]
    }
   ],
   "source": [
    "print('Precisión de entrenamiento: {:.2f} %'.format(np.mean(y_umbral_CR == y_test) * 100))"
   ]
  }
 ],
 "metadata": {
  "kernelspec": {
   "display_name": "Python 3",
   "language": "python",
   "name": "python3"
  },
  "language_info": {
   "codemirror_mode": {
    "name": "ipython",
    "version": 3
   },
   "file_extension": ".py",
   "mimetype": "text/x-python",
   "name": "python",
   "nbconvert_exporter": "python",
   "pygments_lexer": "ipython3",
   "version": "3.12.2"
  }
 },
 "nbformat": 4,
 "nbformat_minor": 2
}
