{
  "cells": [
    {
      "cell_type": "markdown",
      "metadata": {
        "id": "u7EegeFc8bqa"
      },
      "source": [
        "# Laboratorio 5(Redes neuronales) Grupo 1\n",
        " <h3>Implementacion del modelo redes neuronales para realizar predicciones de clasificacion.<h3>\n",
        " <HR>\n",
        " <h3>\n",
        "  NOMBRE: POLO ORELLANA BRAYAN SIMON <br>\n",
        "  CARRERA: INGENIERIA DE SISTEMAS <BR>\n",
        "  FECHA: 15/04/2024 <BR>\n",
        "\n",
        "  * [Enlace de invitacion para ser colaborador](https://github.com/bspoloo/SIS420-012024/invitations)\n",
        "  \n",
        "  * [Enlace al git hub](https://github.com/bspoloo/SIS420-012024/tree/main/Examen%20Laboratorios/Examen%201)\n",
        "  \n",
        "  * [Enlace al Colab](https://colab.research.google.com/github/bspoloo/SIS420-012024/blob/main/Examen%20Laboratorios/Examen%201/Redes%20neuronales/Redes_Neuronales_Regresion_lineal.ipynb?hl=es)\n",
        " <h3>"
      ]
    },
    {
      "cell_type": "markdown",
      "metadata": {
        "id": "VG47R3-68bqb"
      },
      "source": [
        "Para el laboratorio hizo uso del para entrenar el modelo de **Redes neuronales** y predecir el número de veces que se comparten en redes sociales (popularidad).\n",
        "\n",
        "El enlace al dataset es [Online News Popularity](https://archive.ics.uci.edu/dataset/332/online+news+popularity).\n",
        "\n",
        "El archivo `OnlineNewsPopularity.csv` conjunto de datos resume un conjunto heterogéneo de características sobre artículos publicados por Mashable en un período de dos años. El objetivo es predecir el número de veces que se comparten en redes sociales (popularidad)."
      ]
    },
    {
      "cell_type": "markdown",
      "metadata": {
        "id": "vtI8krjJ8bqb"
      },
      "source": [
        "Importamos la librerias necesarias:"
      ]
    },
    {
      "cell_type": "code",
      "execution_count": 50,
      "metadata": {
        "id": "Ad6suGJF8bqc"
      },
      "outputs": [],
      "source": [
        "# used for manipulating directory paths\n",
        "import os\n",
        "\n",
        "# Scientific and vector computation for python\n",
        "import numpy as np\n",
        "\n",
        "# Plotting library\n",
        "from matplotlib import pyplot\n",
        "\n",
        "# Optimization module in scipy\n",
        "from scipy import optimize\n",
        "\n",
        "# will be used to load MATLAB mat datafile format\n",
        "from scipy.io import loadmat\n",
        "\n",
        "\n",
        "import pandas as pd\n",
        "\n",
        "#esta tabulate nos sirve para hacer tablas\n",
        "from tabulate import tabulate\n",
        "\n",
        "# Librerias para graficación (trazado de gráficos)\n",
        "from matplotlib import pyplot\n",
        "# tells matplotlib to embed plots within the notebook\n",
        "import utils\n",
        "#Para separa el 20% y 80%\n",
        "from sklearn.model_selection import train_test_split\n",
        "%matplotlib inline"
      ]
    },
    {
      "cell_type": "code",
      "execution_count": 724,
      "metadata": {
        "colab": {
          "base_uri": "https://localhost:8080/"
        },
        "id": "H_gvEdUG8bqc",
        "outputId": "7b367fda-0172-4f57-9597-120696f2ba44"
      },
      "outputs": [
        {
          "name": "stdout",
          "output_type": "stream",
          "text": [
            "Drive already mounted at /content/gdrive; to attempt to forcibly remount, call drive.mount(\"/content/gdrive\", force_remount=True).\n"
          ]
        }
      ],
      "source": [
        "from google.colab import drive\n",
        "drive.mount(\"/content/gdrive\")"
      ]
    },
    {
      "cell_type": "markdown",
      "metadata": {
        "id": "k6AndErF8bqc"
      },
      "source": [
        "# Red nueronal"
      ]
    },
    {
      "cell_type": "code",
      "execution_count": 33,
      "metadata": {
        "colab": {
          "base_uri": "https://localhost:8080/",
          "height": 617
        },
        "id": "5GmcZ0148bqc",
        "outputId": "badd1e2d-ca40-4061-b36c-6c9ff74f4a25"
      },
      "outputs": [
        {
          "data": {
            "text/html": [
              "<div>\n",
              "<style scoped>\n",
              "    .dataframe tbody tr th:only-of-type {\n",
              "        vertical-align: middle;\n",
              "    }\n",
              "\n",
              "    .dataframe tbody tr th {\n",
              "        vertical-align: top;\n",
              "    }\n",
              "\n",
              "    .dataframe thead th {\n",
              "        text-align: right;\n",
              "    }\n",
              "</style>\n",
              "<table border=\"1\" class=\"dataframe\">\n",
              "  <thead>\n",
              "    <tr style=\"text-align: right;\">\n",
              "      <th></th>\n",
              "      <th>time_left</th>\n",
              "      <th>ct_score</th>\n",
              "      <th>t_score</th>\n",
              "      <th>map</th>\n",
              "      <th>bomb_planted</th>\n",
              "      <th>ct_health</th>\n",
              "      <th>t_health</th>\n",
              "      <th>ct_armor</th>\n",
              "      <th>t_armor</th>\n",
              "      <th>ct_money</th>\n",
              "      <th>...</th>\n",
              "      <th>t_grenade_flashbang</th>\n",
              "      <th>ct_grenade_smokegrenade</th>\n",
              "      <th>t_grenade_smokegrenade</th>\n",
              "      <th>ct_grenade_incendiarygrenade</th>\n",
              "      <th>t_grenade_incendiarygrenade</th>\n",
              "      <th>ct_grenade_molotovgrenade</th>\n",
              "      <th>t_grenade_molotovgrenade</th>\n",
              "      <th>ct_grenade_decoygrenade</th>\n",
              "      <th>t_grenade_decoygrenade</th>\n",
              "      <th>round_winner</th>\n",
              "    </tr>\n",
              "  </thead>\n",
              "  <tbody>\n",
              "    <tr>\n",
              "      <th>0</th>\n",
              "      <td>175.00</td>\n",
              "      <td>0.0</td>\n",
              "      <td>0.0</td>\n",
              "      <td>de_dust2</td>\n",
              "      <td>False</td>\n",
              "      <td>500.0</td>\n",
              "      <td>500.0</td>\n",
              "      <td>0.0</td>\n",
              "      <td>0.0</td>\n",
              "      <td>4000.0</td>\n",
              "      <td>...</td>\n",
              "      <td>0.0</td>\n",
              "      <td>0.0</td>\n",
              "      <td>0.0</td>\n",
              "      <td>0.0</td>\n",
              "      <td>0.0</td>\n",
              "      <td>0.0</td>\n",
              "      <td>0.0</td>\n",
              "      <td>0.0</td>\n",
              "      <td>0.0</td>\n",
              "      <td>CT</td>\n",
              "    </tr>\n",
              "    <tr>\n",
              "      <th>1</th>\n",
              "      <td>156.03</td>\n",
              "      <td>0.0</td>\n",
              "      <td>0.0</td>\n",
              "      <td>de_dust2</td>\n",
              "      <td>False</td>\n",
              "      <td>500.0</td>\n",
              "      <td>500.0</td>\n",
              "      <td>400.0</td>\n",
              "      <td>300.0</td>\n",
              "      <td>600.0</td>\n",
              "      <td>...</td>\n",
              "      <td>0.0</td>\n",
              "      <td>0.0</td>\n",
              "      <td>2.0</td>\n",
              "      <td>0.0</td>\n",
              "      <td>0.0</td>\n",
              "      <td>0.0</td>\n",
              "      <td>0.0</td>\n",
              "      <td>0.0</td>\n",
              "      <td>0.0</td>\n",
              "      <td>CT</td>\n",
              "    </tr>\n",
              "    <tr>\n",
              "      <th>2</th>\n",
              "      <td>96.03</td>\n",
              "      <td>0.0</td>\n",
              "      <td>0.0</td>\n",
              "      <td>de_dust2</td>\n",
              "      <td>False</td>\n",
              "      <td>391.0</td>\n",
              "      <td>400.0</td>\n",
              "      <td>294.0</td>\n",
              "      <td>200.0</td>\n",
              "      <td>750.0</td>\n",
              "      <td>...</td>\n",
              "      <td>0.0</td>\n",
              "      <td>0.0</td>\n",
              "      <td>2.0</td>\n",
              "      <td>0.0</td>\n",
              "      <td>0.0</td>\n",
              "      <td>0.0</td>\n",
              "      <td>0.0</td>\n",
              "      <td>0.0</td>\n",
              "      <td>0.0</td>\n",
              "      <td>CT</td>\n",
              "    </tr>\n",
              "    <tr>\n",
              "      <th>3</th>\n",
              "      <td>76.03</td>\n",
              "      <td>0.0</td>\n",
              "      <td>0.0</td>\n",
              "      <td>de_dust2</td>\n",
              "      <td>False</td>\n",
              "      <td>391.0</td>\n",
              "      <td>400.0</td>\n",
              "      <td>294.0</td>\n",
              "      <td>200.0</td>\n",
              "      <td>750.0</td>\n",
              "      <td>...</td>\n",
              "      <td>0.0</td>\n",
              "      <td>0.0</td>\n",
              "      <td>0.0</td>\n",
              "      <td>0.0</td>\n",
              "      <td>0.0</td>\n",
              "      <td>0.0</td>\n",
              "      <td>0.0</td>\n",
              "      <td>0.0</td>\n",
              "      <td>0.0</td>\n",
              "      <td>CT</td>\n",
              "    </tr>\n",
              "    <tr>\n",
              "      <th>4</th>\n",
              "      <td>174.97</td>\n",
              "      <td>1.0</td>\n",
              "      <td>0.0</td>\n",
              "      <td>de_dust2</td>\n",
              "      <td>False</td>\n",
              "      <td>500.0</td>\n",
              "      <td>500.0</td>\n",
              "      <td>192.0</td>\n",
              "      <td>0.0</td>\n",
              "      <td>18350.0</td>\n",
              "      <td>...</td>\n",
              "      <td>0.0</td>\n",
              "      <td>0.0</td>\n",
              "      <td>0.0</td>\n",
              "      <td>0.0</td>\n",
              "      <td>0.0</td>\n",
              "      <td>0.0</td>\n",
              "      <td>0.0</td>\n",
              "      <td>0.0</td>\n",
              "      <td>0.0</td>\n",
              "      <td>CT</td>\n",
              "    </tr>\n",
              "    <tr>\n",
              "      <th>...</th>\n",
              "      <td>...</td>\n",
              "      <td>...</td>\n",
              "      <td>...</td>\n",
              "      <td>...</td>\n",
              "      <td>...</td>\n",
              "      <td>...</td>\n",
              "      <td>...</td>\n",
              "      <td>...</td>\n",
              "      <td>...</td>\n",
              "      <td>...</td>\n",
              "      <td>...</td>\n",
              "      <td>...</td>\n",
              "      <td>...</td>\n",
              "      <td>...</td>\n",
              "      <td>...</td>\n",
              "      <td>...</td>\n",
              "      <td>...</td>\n",
              "      <td>...</td>\n",
              "      <td>...</td>\n",
              "      <td>...</td>\n",
              "      <td>...</td>\n",
              "    </tr>\n",
              "    <tr>\n",
              "      <th>122405</th>\n",
              "      <td>15.41</td>\n",
              "      <td>11.0</td>\n",
              "      <td>14.0</td>\n",
              "      <td>de_train</td>\n",
              "      <td>True</td>\n",
              "      <td>200.0</td>\n",
              "      <td>242.0</td>\n",
              "      <td>195.0</td>\n",
              "      <td>359.0</td>\n",
              "      <td>100.0</td>\n",
              "      <td>...</td>\n",
              "      <td>2.0</td>\n",
              "      <td>1.0</td>\n",
              "      <td>1.0</td>\n",
              "      <td>0.0</td>\n",
              "      <td>0.0</td>\n",
              "      <td>0.0</td>\n",
              "      <td>0.0</td>\n",
              "      <td>0.0</td>\n",
              "      <td>0.0</td>\n",
              "      <td>T</td>\n",
              "    </tr>\n",
              "    <tr>\n",
              "      <th>122406</th>\n",
              "      <td>174.93</td>\n",
              "      <td>11.0</td>\n",
              "      <td>15.0</td>\n",
              "      <td>de_train</td>\n",
              "      <td>False</td>\n",
              "      <td>500.0</td>\n",
              "      <td>500.0</td>\n",
              "      <td>95.0</td>\n",
              "      <td>175.0</td>\n",
              "      <td>11500.0</td>\n",
              "      <td>...</td>\n",
              "      <td>2.0</td>\n",
              "      <td>1.0</td>\n",
              "      <td>0.0</td>\n",
              "      <td>0.0</td>\n",
              "      <td>0.0</td>\n",
              "      <td>0.0</td>\n",
              "      <td>0.0</td>\n",
              "      <td>0.0</td>\n",
              "      <td>0.0</td>\n",
              "      <td>T</td>\n",
              "    </tr>\n",
              "    <tr>\n",
              "      <th>122407</th>\n",
              "      <td>114.93</td>\n",
              "      <td>11.0</td>\n",
              "      <td>15.0</td>\n",
              "      <td>de_train</td>\n",
              "      <td>False</td>\n",
              "      <td>500.0</td>\n",
              "      <td>500.0</td>\n",
              "      <td>495.0</td>\n",
              "      <td>475.0</td>\n",
              "      <td>1200.0</td>\n",
              "      <td>...</td>\n",
              "      <td>4.0</td>\n",
              "      <td>3.0</td>\n",
              "      <td>5.0</td>\n",
              "      <td>1.0</td>\n",
              "      <td>0.0</td>\n",
              "      <td>0.0</td>\n",
              "      <td>5.0</td>\n",
              "      <td>0.0</td>\n",
              "      <td>0.0</td>\n",
              "      <td>T</td>\n",
              "    </tr>\n",
              "    <tr>\n",
              "      <th>122408</th>\n",
              "      <td>94.93</td>\n",
              "      <td>11.0</td>\n",
              "      <td>15.0</td>\n",
              "      <td>de_train</td>\n",
              "      <td>False</td>\n",
              "      <td>500.0</td>\n",
              "      <td>500.0</td>\n",
              "      <td>495.0</td>\n",
              "      <td>475.0</td>\n",
              "      <td>1200.0</td>\n",
              "      <td>...</td>\n",
              "      <td>5.0</td>\n",
              "      <td>0.0</td>\n",
              "      <td>3.0</td>\n",
              "      <td>0.0</td>\n",
              "      <td>0.0</td>\n",
              "      <td>0.0</td>\n",
              "      <td>4.0</td>\n",
              "      <td>0.0</td>\n",
              "      <td>0.0</td>\n",
              "      <td>T</td>\n",
              "    </tr>\n",
              "    <tr>\n",
              "      <th>122409</th>\n",
              "      <td>74.93</td>\n",
              "      <td>11.0</td>\n",
              "      <td>15.0</td>\n",
              "      <td>de_train</td>\n",
              "      <td>False</td>\n",
              "      <td>375.0</td>\n",
              "      <td>479.0</td>\n",
              "      <td>395.0</td>\n",
              "      <td>466.0</td>\n",
              "      <td>1100.0</td>\n",
              "      <td>...</td>\n",
              "      <td>3.0</td>\n",
              "      <td>0.0</td>\n",
              "      <td>2.0</td>\n",
              "      <td>0.0</td>\n",
              "      <td>0.0</td>\n",
              "      <td>0.0</td>\n",
              "      <td>3.0</td>\n",
              "      <td>0.0</td>\n",
              "      <td>0.0</td>\n",
              "      <td>T</td>\n",
              "    </tr>\n",
              "  </tbody>\n",
              "</table>\n",
              "<p>122410 rows × 97 columns</p>\n",
              "</div>"
            ],
            "text/plain": [
              "        time_left  ct_score  t_score       map  bomb_planted  ct_health  \\\n",
              "0          175.00       0.0      0.0  de_dust2         False      500.0   \n",
              "1          156.03       0.0      0.0  de_dust2         False      500.0   \n",
              "2           96.03       0.0      0.0  de_dust2         False      391.0   \n",
              "3           76.03       0.0      0.0  de_dust2         False      391.0   \n",
              "4          174.97       1.0      0.0  de_dust2         False      500.0   \n",
              "...           ...       ...      ...       ...           ...        ...   \n",
              "122405      15.41      11.0     14.0  de_train          True      200.0   \n",
              "122406     174.93      11.0     15.0  de_train         False      500.0   \n",
              "122407     114.93      11.0     15.0  de_train         False      500.0   \n",
              "122408      94.93      11.0     15.0  de_train         False      500.0   \n",
              "122409      74.93      11.0     15.0  de_train         False      375.0   \n",
              "\n",
              "        t_health  ct_armor  t_armor  ct_money  ...  t_grenade_flashbang  \\\n",
              "0          500.0       0.0      0.0    4000.0  ...                  0.0   \n",
              "1          500.0     400.0    300.0     600.0  ...                  0.0   \n",
              "2          400.0     294.0    200.0     750.0  ...                  0.0   \n",
              "3          400.0     294.0    200.0     750.0  ...                  0.0   \n",
              "4          500.0     192.0      0.0   18350.0  ...                  0.0   \n",
              "...          ...       ...      ...       ...  ...                  ...   \n",
              "122405     242.0     195.0    359.0     100.0  ...                  2.0   \n",
              "122406     500.0      95.0    175.0   11500.0  ...                  2.0   \n",
              "122407     500.0     495.0    475.0    1200.0  ...                  4.0   \n",
              "122408     500.0     495.0    475.0    1200.0  ...                  5.0   \n",
              "122409     479.0     395.0    466.0    1100.0  ...                  3.0   \n",
              "\n",
              "        ct_grenade_smokegrenade  t_grenade_smokegrenade  \\\n",
              "0                           0.0                     0.0   \n",
              "1                           0.0                     2.0   \n",
              "2                           0.0                     2.0   \n",
              "3                           0.0                     0.0   \n",
              "4                           0.0                     0.0   \n",
              "...                         ...                     ...   \n",
              "122405                      1.0                     1.0   \n",
              "122406                      1.0                     0.0   \n",
              "122407                      3.0                     5.0   \n",
              "122408                      0.0                     3.0   \n",
              "122409                      0.0                     2.0   \n",
              "\n",
              "        ct_grenade_incendiarygrenade  t_grenade_incendiarygrenade  \\\n",
              "0                                0.0                          0.0   \n",
              "1                                0.0                          0.0   \n",
              "2                                0.0                          0.0   \n",
              "3                                0.0                          0.0   \n",
              "4                                0.0                          0.0   \n",
              "...                              ...                          ...   \n",
              "122405                           0.0                          0.0   \n",
              "122406                           0.0                          0.0   \n",
              "122407                           1.0                          0.0   \n",
              "122408                           0.0                          0.0   \n",
              "122409                           0.0                          0.0   \n",
              "\n",
              "        ct_grenade_molotovgrenade  t_grenade_molotovgrenade  \\\n",
              "0                             0.0                       0.0   \n",
              "1                             0.0                       0.0   \n",
              "2                             0.0                       0.0   \n",
              "3                             0.0                       0.0   \n",
              "4                             0.0                       0.0   \n",
              "...                           ...                       ...   \n",
              "122405                        0.0                       0.0   \n",
              "122406                        0.0                       0.0   \n",
              "122407                        0.0                       5.0   \n",
              "122408                        0.0                       4.0   \n",
              "122409                        0.0                       3.0   \n",
              "\n",
              "        ct_grenade_decoygrenade  t_grenade_decoygrenade  round_winner  \n",
              "0                           0.0                     0.0            CT  \n",
              "1                           0.0                     0.0            CT  \n",
              "2                           0.0                     0.0            CT  \n",
              "3                           0.0                     0.0            CT  \n",
              "4                           0.0                     0.0            CT  \n",
              "...                         ...                     ...           ...  \n",
              "122405                      0.0                     0.0             T  \n",
              "122406                      0.0                     0.0             T  \n",
              "122407                      0.0                     0.0             T  \n",
              "122408                      0.0                     0.0             T  \n",
              "122409                      0.0                     0.0             T  \n",
              "\n",
              "[122410 rows x 97 columns]"
            ]
          },
          "execution_count": 33,
          "metadata": {},
          "output_type": "execute_result"
        }
      ],
      "source": [
        "# dataset = pd.read_csv('/content/gdrive/MyDrive/Datasets/OnlineNewsPopularity.csv', delimiter=',')\n",
        "\n",
        "dataset = pd.read_csv('csgo_round_snapshots.csv', delimiter=',')\n",
        "\n",
        "#para usarlo a travez de google colab\n",
        "# dataset = dataset.sample(n=20000, random_state=42)\n",
        "\n",
        "dataset"
      ]
    },
    {
      "cell_type": "markdown",
      "metadata": {
        "id": "ZRIcDdkO8bqd"
      },
      "source": [
        "## Tratamiento de datos\n",
        "\n",
        "vamos a eliminar las columnas de nuestro dataset que no necesitamos, en este caso la direccion de url:"
      ]
    },
    {
      "cell_type": "code",
      "execution_count": 34,
      "metadata": {
        "colab": {
          "base_uri": "https://localhost:8080/",
          "height": 444
        },
        "id": "9K197ebR8bqd",
        "outputId": "8fcce8ed-ee1d-4d8f-a1d4-db991d187bff"
      },
      "outputs": [],
      "source": [
        "#dropeamos la columna de url\n",
        "# dataset = dataset.drop(['url'], axis=1)\n",
        "\n",
        "# dataset"
      ]
    },
    {
      "cell_type": "markdown",
      "metadata": {},
      "source": [
        "## Analisis del dataset\n",
        "\n",
        "para tener una mejor vista del los tipos de datos del dataset, hacemos un `info()`:"
      ]
    },
    {
      "cell_type": "code",
      "execution_count": 35,
      "metadata": {},
      "outputs": [
        {
          "name": "stdout",
          "output_type": "stream",
          "text": [
            "<class 'pandas.core.frame.DataFrame'>\n",
            "RangeIndex: 122410 entries, 0 to 122409\n",
            "Data columns (total 97 columns):\n",
            " #   Column                        Non-Null Count   Dtype  \n",
            "---  ------                        --------------   -----  \n",
            " 0   time_left                     122410 non-null  float64\n",
            " 1   ct_score                      122410 non-null  float64\n",
            " 2   t_score                       122410 non-null  float64\n",
            " 3   map                           122410 non-null  object \n",
            " 4   bomb_planted                  122410 non-null  bool   \n",
            " 5   ct_health                     122410 non-null  float64\n",
            " 6   t_health                      122410 non-null  float64\n",
            " 7   ct_armor                      122410 non-null  float64\n",
            " 8   t_armor                       122410 non-null  float64\n",
            " 9   ct_money                      122410 non-null  float64\n",
            " 10  t_money                       122410 non-null  float64\n",
            " 11  ct_helmets                    122410 non-null  float64\n",
            " 12  t_helmets                     122410 non-null  float64\n",
            " 13  ct_defuse_kits                122410 non-null  float64\n",
            " 14  ct_players_alive              122410 non-null  float64\n",
            " 15  t_players_alive               122410 non-null  float64\n",
            " 16  ct_weapon_ak47                122410 non-null  float64\n",
            " 17  t_weapon_ak47                 122410 non-null  float64\n",
            " 18  ct_weapon_aug                 122410 non-null  float64\n",
            " 19  t_weapon_aug                  122410 non-null  float64\n",
            " 20  ct_weapon_awp                 122410 non-null  float64\n",
            " 21  t_weapon_awp                  122410 non-null  float64\n",
            " 22  ct_weapon_bizon               122410 non-null  float64\n",
            " 23  t_weapon_bizon                122410 non-null  float64\n",
            " 24  ct_weapon_cz75auto            122410 non-null  float64\n",
            " 25  t_weapon_cz75auto             122410 non-null  float64\n",
            " 26  ct_weapon_elite               122410 non-null  float64\n",
            " 27  t_weapon_elite                122410 non-null  float64\n",
            " 28  ct_weapon_famas               122410 non-null  float64\n",
            " 29  t_weapon_famas                122410 non-null  float64\n",
            " 30  ct_weapon_g3sg1               122410 non-null  float64\n",
            " 31  t_weapon_g3sg1                122410 non-null  float64\n",
            " 32  ct_weapon_galilar             122410 non-null  float64\n",
            " 33  t_weapon_galilar              122410 non-null  float64\n",
            " 34  ct_weapon_glock               122410 non-null  float64\n",
            " 35  t_weapon_glock                122410 non-null  float64\n",
            " 36  ct_weapon_m249                122410 non-null  float64\n",
            " 37  t_weapon_m249                 122410 non-null  float64\n",
            " 38  ct_weapon_m4a1s               122410 non-null  float64\n",
            " 39  t_weapon_m4a1s                122410 non-null  float64\n",
            " 40  ct_weapon_m4a4                122410 non-null  float64\n",
            " 41  t_weapon_m4a4                 122410 non-null  float64\n",
            " 42  ct_weapon_mac10               122410 non-null  float64\n",
            " 43  t_weapon_mac10                122410 non-null  float64\n",
            " 44  ct_weapon_mag7                122410 non-null  float64\n",
            " 45  t_weapon_mag7                 122410 non-null  float64\n",
            " 46  ct_weapon_mp5sd               122410 non-null  float64\n",
            " 47  t_weapon_mp5sd                122410 non-null  float64\n",
            " 48  ct_weapon_mp7                 122410 non-null  float64\n",
            " 49  t_weapon_mp7                  122410 non-null  float64\n",
            " 50  ct_weapon_mp9                 122410 non-null  float64\n",
            " 51  t_weapon_mp9                  122410 non-null  float64\n",
            " 52  ct_weapon_negev               122410 non-null  float64\n",
            " 53  t_weapon_negev                122410 non-null  float64\n",
            " 54  ct_weapon_nova                122410 non-null  float64\n",
            " 55  t_weapon_nova                 122410 non-null  float64\n",
            " 56  ct_weapon_p90                 122410 non-null  float64\n",
            " 57  t_weapon_p90                  122410 non-null  float64\n",
            " 58  ct_weapon_r8revolver          122410 non-null  float64\n",
            " 59  t_weapon_r8revolver           122410 non-null  float64\n",
            " 60  ct_weapon_sawedoff            122410 non-null  float64\n",
            " 61  t_weapon_sawedoff             122410 non-null  float64\n",
            " 62  ct_weapon_scar20              122410 non-null  float64\n",
            " 63  t_weapon_scar20               122410 non-null  float64\n",
            " 64  ct_weapon_sg553               122410 non-null  float64\n",
            " 65  t_weapon_sg553                122410 non-null  float64\n",
            " 66  ct_weapon_ssg08               122410 non-null  float64\n",
            " 67  t_weapon_ssg08                122410 non-null  float64\n",
            " 68  ct_weapon_ump45               122410 non-null  float64\n",
            " 69  t_weapon_ump45                122410 non-null  float64\n",
            " 70  ct_weapon_xm1014              122410 non-null  float64\n",
            " 71  t_weapon_xm1014               122410 non-null  float64\n",
            " 72  ct_weapon_deagle              122410 non-null  float64\n",
            " 73  t_weapon_deagle               122410 non-null  float64\n",
            " 74  ct_weapon_fiveseven           122410 non-null  float64\n",
            " 75  t_weapon_fiveseven            122410 non-null  float64\n",
            " 76  ct_weapon_usps                122410 non-null  float64\n",
            " 77  t_weapon_usps                 122410 non-null  float64\n",
            " 78  ct_weapon_p250                122410 non-null  float64\n",
            " 79  t_weapon_p250                 122410 non-null  float64\n",
            " 80  ct_weapon_p2000               122410 non-null  float64\n",
            " 81  t_weapon_p2000                122410 non-null  float64\n",
            " 82  ct_weapon_tec9                122410 non-null  float64\n",
            " 83  t_weapon_tec9                 122410 non-null  float64\n",
            " 84  ct_grenade_hegrenade          122410 non-null  float64\n",
            " 85  t_grenade_hegrenade           122410 non-null  float64\n",
            " 86  ct_grenade_flashbang          122410 non-null  float64\n",
            " 87  t_grenade_flashbang           122410 non-null  float64\n",
            " 88  ct_grenade_smokegrenade       122410 non-null  float64\n",
            " 89  t_grenade_smokegrenade        122410 non-null  float64\n",
            " 90  ct_grenade_incendiarygrenade  122410 non-null  float64\n",
            " 91  t_grenade_incendiarygrenade   122410 non-null  float64\n",
            " 92  ct_grenade_molotovgrenade     122410 non-null  float64\n",
            " 93  t_grenade_molotovgrenade      122410 non-null  float64\n",
            " 94  ct_grenade_decoygrenade       122410 non-null  float64\n",
            " 95  t_grenade_decoygrenade        122410 non-null  float64\n",
            " 96  round_winner                  122410 non-null  object \n",
            "dtypes: bool(1), float64(94), object(2)\n",
            "memory usage: 89.8+ MB\n"
          ]
        }
      ],
      "source": [
        "dataset.info()"
      ]
    },
    {
      "cell_type": "code",
      "execution_count": 36,
      "metadata": {},
      "outputs": [
        {
          "data": {
            "text/plain": [
              "map\n",
              "de_inferno     23811\n",
              "de_dust2       22144\n",
              "de_nuke        19025\n",
              "de_mirage      18576\n",
              "de_overpass    14081\n",
              "de_train       13491\n",
              "de_vertigo     11137\n",
              "de_cache         145\n",
              "Name: count, dtype: int64"
            ]
          },
          "execution_count": 36,
          "metadata": {},
          "output_type": "execute_result"
        }
      ],
      "source": [
        "#para contar cuantas clases contiene nuestra columna y\n",
        "class_counts1 = dataset[\"map\"].value_counts()\n",
        "class_counts2 = dataset[\"bomb_planted\"].value_counts()\n",
        "class_counts3 = dataset[\"round_winner\"].value_counts()\n",
        "\n",
        "#mostramos la cantidad de clases tiene, y en que cantidad\n",
        "class_counts1"
      ]
    },
    {
      "cell_type": "code",
      "execution_count": 37,
      "metadata": {},
      "outputs": [
        {
          "data": {
            "text/plain": [
              "bomb_planted\n",
              "False    108726\n",
              "True      13684\n",
              "Name: count, dtype: int64"
            ]
          },
          "execution_count": 37,
          "metadata": {},
          "output_type": "execute_result"
        }
      ],
      "source": [
        "class_counts2"
      ]
    },
    {
      "cell_type": "code",
      "execution_count": 38,
      "metadata": {},
      "outputs": [
        {
          "data": {
            "text/plain": [
              "round_winner\n",
              "T     62406\n",
              "CT    60004\n",
              "Name: count, dtype: int64"
            ]
          },
          "execution_count": 38,
          "metadata": {},
          "output_type": "execute_result"
        }
      ],
      "source": [
        "class_counts3"
      ]
    },
    {
      "cell_type": "markdown",
      "metadata": {
        "id": "f6qhVBGk8bqe"
      },
      "source": [
        "podemo notar que todos son de tipo float, por lo cual no nos traera problemas al momento de entrenar el modelo."
      ]
    },
    {
      "cell_type": "markdown",
      "metadata": {},
      "source": [
        "cambiamos todos los string que a numeros:"
      ]
    },
    {
      "cell_type": "code",
      "execution_count": 39,
      "metadata": {},
      "outputs": [],
      "source": [
        "dataset['map'] = dataset['map'].map({'de_inferno': 0, 'de_dust2': 1, 'de_nuke': 2, 'de_mirage': 3, 'de_overpass': 4, 'de_train': 5, 'de_vertigo': 6, 'de_cache': 7})\n",
        "dataset['bomb_planted'] = dataset['bomb_planted'].map({False: 0, True: 1})\n",
        "dataset['round_winner'] = dataset['round_winner'].map({'T': 0, 'CT': 1})\n",
        "\n"
      ]
    },
    {
      "cell_type": "code",
      "execution_count": 40,
      "metadata": {},
      "outputs": [
        {
          "data": {
            "text/html": [
              "<div>\n",
              "<style scoped>\n",
              "    .dataframe tbody tr th:only-of-type {\n",
              "        vertical-align: middle;\n",
              "    }\n",
              "\n",
              "    .dataframe tbody tr th {\n",
              "        vertical-align: top;\n",
              "    }\n",
              "\n",
              "    .dataframe thead th {\n",
              "        text-align: right;\n",
              "    }\n",
              "</style>\n",
              "<table border=\"1\" class=\"dataframe\">\n",
              "  <thead>\n",
              "    <tr style=\"text-align: right;\">\n",
              "      <th></th>\n",
              "      <th>time_left</th>\n",
              "      <th>ct_score</th>\n",
              "      <th>t_score</th>\n",
              "      <th>map</th>\n",
              "      <th>bomb_planted</th>\n",
              "      <th>ct_health</th>\n",
              "      <th>t_health</th>\n",
              "      <th>ct_armor</th>\n",
              "      <th>t_armor</th>\n",
              "      <th>ct_money</th>\n",
              "      <th>...</th>\n",
              "      <th>t_grenade_flashbang</th>\n",
              "      <th>ct_grenade_smokegrenade</th>\n",
              "      <th>t_grenade_smokegrenade</th>\n",
              "      <th>ct_grenade_incendiarygrenade</th>\n",
              "      <th>t_grenade_incendiarygrenade</th>\n",
              "      <th>ct_grenade_molotovgrenade</th>\n",
              "      <th>t_grenade_molotovgrenade</th>\n",
              "      <th>ct_grenade_decoygrenade</th>\n",
              "      <th>t_grenade_decoygrenade</th>\n",
              "      <th>round_winner</th>\n",
              "    </tr>\n",
              "  </thead>\n",
              "  <tbody>\n",
              "    <tr>\n",
              "      <th>0</th>\n",
              "      <td>175.00</td>\n",
              "      <td>0.0</td>\n",
              "      <td>0.0</td>\n",
              "      <td>1</td>\n",
              "      <td>0</td>\n",
              "      <td>500.0</td>\n",
              "      <td>500.0</td>\n",
              "      <td>0.0</td>\n",
              "      <td>0.0</td>\n",
              "      <td>4000.0</td>\n",
              "      <td>...</td>\n",
              "      <td>0.0</td>\n",
              "      <td>0.0</td>\n",
              "      <td>0.0</td>\n",
              "      <td>0.0</td>\n",
              "      <td>0.0</td>\n",
              "      <td>0.0</td>\n",
              "      <td>0.0</td>\n",
              "      <td>0.0</td>\n",
              "      <td>0.0</td>\n",
              "      <td>1</td>\n",
              "    </tr>\n",
              "    <tr>\n",
              "      <th>1</th>\n",
              "      <td>156.03</td>\n",
              "      <td>0.0</td>\n",
              "      <td>0.0</td>\n",
              "      <td>1</td>\n",
              "      <td>0</td>\n",
              "      <td>500.0</td>\n",
              "      <td>500.0</td>\n",
              "      <td>400.0</td>\n",
              "      <td>300.0</td>\n",
              "      <td>600.0</td>\n",
              "      <td>...</td>\n",
              "      <td>0.0</td>\n",
              "      <td>0.0</td>\n",
              "      <td>2.0</td>\n",
              "      <td>0.0</td>\n",
              "      <td>0.0</td>\n",
              "      <td>0.0</td>\n",
              "      <td>0.0</td>\n",
              "      <td>0.0</td>\n",
              "      <td>0.0</td>\n",
              "      <td>1</td>\n",
              "    </tr>\n",
              "    <tr>\n",
              "      <th>2</th>\n",
              "      <td>96.03</td>\n",
              "      <td>0.0</td>\n",
              "      <td>0.0</td>\n",
              "      <td>1</td>\n",
              "      <td>0</td>\n",
              "      <td>391.0</td>\n",
              "      <td>400.0</td>\n",
              "      <td>294.0</td>\n",
              "      <td>200.0</td>\n",
              "      <td>750.0</td>\n",
              "      <td>...</td>\n",
              "      <td>0.0</td>\n",
              "      <td>0.0</td>\n",
              "      <td>2.0</td>\n",
              "      <td>0.0</td>\n",
              "      <td>0.0</td>\n",
              "      <td>0.0</td>\n",
              "      <td>0.0</td>\n",
              "      <td>0.0</td>\n",
              "      <td>0.0</td>\n",
              "      <td>1</td>\n",
              "    </tr>\n",
              "    <tr>\n",
              "      <th>3</th>\n",
              "      <td>76.03</td>\n",
              "      <td>0.0</td>\n",
              "      <td>0.0</td>\n",
              "      <td>1</td>\n",
              "      <td>0</td>\n",
              "      <td>391.0</td>\n",
              "      <td>400.0</td>\n",
              "      <td>294.0</td>\n",
              "      <td>200.0</td>\n",
              "      <td>750.0</td>\n",
              "      <td>...</td>\n",
              "      <td>0.0</td>\n",
              "      <td>0.0</td>\n",
              "      <td>0.0</td>\n",
              "      <td>0.0</td>\n",
              "      <td>0.0</td>\n",
              "      <td>0.0</td>\n",
              "      <td>0.0</td>\n",
              "      <td>0.0</td>\n",
              "      <td>0.0</td>\n",
              "      <td>1</td>\n",
              "    </tr>\n",
              "    <tr>\n",
              "      <th>4</th>\n",
              "      <td>174.97</td>\n",
              "      <td>1.0</td>\n",
              "      <td>0.0</td>\n",
              "      <td>1</td>\n",
              "      <td>0</td>\n",
              "      <td>500.0</td>\n",
              "      <td>500.0</td>\n",
              "      <td>192.0</td>\n",
              "      <td>0.0</td>\n",
              "      <td>18350.0</td>\n",
              "      <td>...</td>\n",
              "      <td>0.0</td>\n",
              "      <td>0.0</td>\n",
              "      <td>0.0</td>\n",
              "      <td>0.0</td>\n",
              "      <td>0.0</td>\n",
              "      <td>0.0</td>\n",
              "      <td>0.0</td>\n",
              "      <td>0.0</td>\n",
              "      <td>0.0</td>\n",
              "      <td>1</td>\n",
              "    </tr>\n",
              "    <tr>\n",
              "      <th>...</th>\n",
              "      <td>...</td>\n",
              "      <td>...</td>\n",
              "      <td>...</td>\n",
              "      <td>...</td>\n",
              "      <td>...</td>\n",
              "      <td>...</td>\n",
              "      <td>...</td>\n",
              "      <td>...</td>\n",
              "      <td>...</td>\n",
              "      <td>...</td>\n",
              "      <td>...</td>\n",
              "      <td>...</td>\n",
              "      <td>...</td>\n",
              "      <td>...</td>\n",
              "      <td>...</td>\n",
              "      <td>...</td>\n",
              "      <td>...</td>\n",
              "      <td>...</td>\n",
              "      <td>...</td>\n",
              "      <td>...</td>\n",
              "      <td>...</td>\n",
              "    </tr>\n",
              "    <tr>\n",
              "      <th>122405</th>\n",
              "      <td>15.41</td>\n",
              "      <td>11.0</td>\n",
              "      <td>14.0</td>\n",
              "      <td>5</td>\n",
              "      <td>1</td>\n",
              "      <td>200.0</td>\n",
              "      <td>242.0</td>\n",
              "      <td>195.0</td>\n",
              "      <td>359.0</td>\n",
              "      <td>100.0</td>\n",
              "      <td>...</td>\n",
              "      <td>2.0</td>\n",
              "      <td>1.0</td>\n",
              "      <td>1.0</td>\n",
              "      <td>0.0</td>\n",
              "      <td>0.0</td>\n",
              "      <td>0.0</td>\n",
              "      <td>0.0</td>\n",
              "      <td>0.0</td>\n",
              "      <td>0.0</td>\n",
              "      <td>0</td>\n",
              "    </tr>\n",
              "    <tr>\n",
              "      <th>122406</th>\n",
              "      <td>174.93</td>\n",
              "      <td>11.0</td>\n",
              "      <td>15.0</td>\n",
              "      <td>5</td>\n",
              "      <td>0</td>\n",
              "      <td>500.0</td>\n",
              "      <td>500.0</td>\n",
              "      <td>95.0</td>\n",
              "      <td>175.0</td>\n",
              "      <td>11500.0</td>\n",
              "      <td>...</td>\n",
              "      <td>2.0</td>\n",
              "      <td>1.0</td>\n",
              "      <td>0.0</td>\n",
              "      <td>0.0</td>\n",
              "      <td>0.0</td>\n",
              "      <td>0.0</td>\n",
              "      <td>0.0</td>\n",
              "      <td>0.0</td>\n",
              "      <td>0.0</td>\n",
              "      <td>0</td>\n",
              "    </tr>\n",
              "    <tr>\n",
              "      <th>122407</th>\n",
              "      <td>114.93</td>\n",
              "      <td>11.0</td>\n",
              "      <td>15.0</td>\n",
              "      <td>5</td>\n",
              "      <td>0</td>\n",
              "      <td>500.0</td>\n",
              "      <td>500.0</td>\n",
              "      <td>495.0</td>\n",
              "      <td>475.0</td>\n",
              "      <td>1200.0</td>\n",
              "      <td>...</td>\n",
              "      <td>4.0</td>\n",
              "      <td>3.0</td>\n",
              "      <td>5.0</td>\n",
              "      <td>1.0</td>\n",
              "      <td>0.0</td>\n",
              "      <td>0.0</td>\n",
              "      <td>5.0</td>\n",
              "      <td>0.0</td>\n",
              "      <td>0.0</td>\n",
              "      <td>0</td>\n",
              "    </tr>\n",
              "    <tr>\n",
              "      <th>122408</th>\n",
              "      <td>94.93</td>\n",
              "      <td>11.0</td>\n",
              "      <td>15.0</td>\n",
              "      <td>5</td>\n",
              "      <td>0</td>\n",
              "      <td>500.0</td>\n",
              "      <td>500.0</td>\n",
              "      <td>495.0</td>\n",
              "      <td>475.0</td>\n",
              "      <td>1200.0</td>\n",
              "      <td>...</td>\n",
              "      <td>5.0</td>\n",
              "      <td>0.0</td>\n",
              "      <td>3.0</td>\n",
              "      <td>0.0</td>\n",
              "      <td>0.0</td>\n",
              "      <td>0.0</td>\n",
              "      <td>4.0</td>\n",
              "      <td>0.0</td>\n",
              "      <td>0.0</td>\n",
              "      <td>0</td>\n",
              "    </tr>\n",
              "    <tr>\n",
              "      <th>122409</th>\n",
              "      <td>74.93</td>\n",
              "      <td>11.0</td>\n",
              "      <td>15.0</td>\n",
              "      <td>5</td>\n",
              "      <td>0</td>\n",
              "      <td>375.0</td>\n",
              "      <td>479.0</td>\n",
              "      <td>395.0</td>\n",
              "      <td>466.0</td>\n",
              "      <td>1100.0</td>\n",
              "      <td>...</td>\n",
              "      <td>3.0</td>\n",
              "      <td>0.0</td>\n",
              "      <td>2.0</td>\n",
              "      <td>0.0</td>\n",
              "      <td>0.0</td>\n",
              "      <td>0.0</td>\n",
              "      <td>3.0</td>\n",
              "      <td>0.0</td>\n",
              "      <td>0.0</td>\n",
              "      <td>0</td>\n",
              "    </tr>\n",
              "  </tbody>\n",
              "</table>\n",
              "<p>122410 rows × 97 columns</p>\n",
              "</div>"
            ],
            "text/plain": [
              "        time_left  ct_score  t_score  map  bomb_planted  ct_health  t_health  \\\n",
              "0          175.00       0.0      0.0    1             0      500.0     500.0   \n",
              "1          156.03       0.0      0.0    1             0      500.0     500.0   \n",
              "2           96.03       0.0      0.0    1             0      391.0     400.0   \n",
              "3           76.03       0.0      0.0    1             0      391.0     400.0   \n",
              "4          174.97       1.0      0.0    1             0      500.0     500.0   \n",
              "...           ...       ...      ...  ...           ...        ...       ...   \n",
              "122405      15.41      11.0     14.0    5             1      200.0     242.0   \n",
              "122406     174.93      11.0     15.0    5             0      500.0     500.0   \n",
              "122407     114.93      11.0     15.0    5             0      500.0     500.0   \n",
              "122408      94.93      11.0     15.0    5             0      500.0     500.0   \n",
              "122409      74.93      11.0     15.0    5             0      375.0     479.0   \n",
              "\n",
              "        ct_armor  t_armor  ct_money  ...  t_grenade_flashbang  \\\n",
              "0            0.0      0.0    4000.0  ...                  0.0   \n",
              "1          400.0    300.0     600.0  ...                  0.0   \n",
              "2          294.0    200.0     750.0  ...                  0.0   \n",
              "3          294.0    200.0     750.0  ...                  0.0   \n",
              "4          192.0      0.0   18350.0  ...                  0.0   \n",
              "...          ...      ...       ...  ...                  ...   \n",
              "122405     195.0    359.0     100.0  ...                  2.0   \n",
              "122406      95.0    175.0   11500.0  ...                  2.0   \n",
              "122407     495.0    475.0    1200.0  ...                  4.0   \n",
              "122408     495.0    475.0    1200.0  ...                  5.0   \n",
              "122409     395.0    466.0    1100.0  ...                  3.0   \n",
              "\n",
              "        ct_grenade_smokegrenade  t_grenade_smokegrenade  \\\n",
              "0                           0.0                     0.0   \n",
              "1                           0.0                     2.0   \n",
              "2                           0.0                     2.0   \n",
              "3                           0.0                     0.0   \n",
              "4                           0.0                     0.0   \n",
              "...                         ...                     ...   \n",
              "122405                      1.0                     1.0   \n",
              "122406                      1.0                     0.0   \n",
              "122407                      3.0                     5.0   \n",
              "122408                      0.0                     3.0   \n",
              "122409                      0.0                     2.0   \n",
              "\n",
              "        ct_grenade_incendiarygrenade  t_grenade_incendiarygrenade  \\\n",
              "0                                0.0                          0.0   \n",
              "1                                0.0                          0.0   \n",
              "2                                0.0                          0.0   \n",
              "3                                0.0                          0.0   \n",
              "4                                0.0                          0.0   \n",
              "...                              ...                          ...   \n",
              "122405                           0.0                          0.0   \n",
              "122406                           0.0                          0.0   \n",
              "122407                           1.0                          0.0   \n",
              "122408                           0.0                          0.0   \n",
              "122409                           0.0                          0.0   \n",
              "\n",
              "        ct_grenade_molotovgrenade  t_grenade_molotovgrenade  \\\n",
              "0                             0.0                       0.0   \n",
              "1                             0.0                       0.0   \n",
              "2                             0.0                       0.0   \n",
              "3                             0.0                       0.0   \n",
              "4                             0.0                       0.0   \n",
              "...                           ...                       ...   \n",
              "122405                        0.0                       0.0   \n",
              "122406                        0.0                       0.0   \n",
              "122407                        0.0                       5.0   \n",
              "122408                        0.0                       4.0   \n",
              "122409                        0.0                       3.0   \n",
              "\n",
              "        ct_grenade_decoygrenade  t_grenade_decoygrenade  round_winner  \n",
              "0                           0.0                     0.0             1  \n",
              "1                           0.0                     0.0             1  \n",
              "2                           0.0                     0.0             1  \n",
              "3                           0.0                     0.0             1  \n",
              "4                           0.0                     0.0             1  \n",
              "...                         ...                     ...           ...  \n",
              "122405                      0.0                     0.0             0  \n",
              "122406                      0.0                     0.0             0  \n",
              "122407                      0.0                     0.0             0  \n",
              "122408                      0.0                     0.0             0  \n",
              "122409                      0.0                     0.0             0  \n",
              "\n",
              "[122410 rows x 97 columns]"
            ]
          },
          "execution_count": 40,
          "metadata": {},
          "output_type": "execute_result"
        }
      ],
      "source": [
        "#Mostramos el dataset ya con todos los valores numericos\n",
        "dataset"
      ]
    },
    {
      "cell_type": "markdown",
      "metadata": {
        "id": "IF48XaO48bqe"
      },
      "source": [
        "## Separacion del 80% de los datos para entrenamiento y 20% para pruebas\n",
        "\n",
        "Haremos uso de la libreria `sklearn` haciendo uso de su funcion `train_test_split()`, donde recibe como parametros:\n",
        "\n",
        "`Arrays o matrices de características (X): `Estos son los datos que se utilizarán para hacer predicciones. Por lo general, son las variables independientes o características del conjunto de datos.\n",
        "\n",
        "`test_size (opcional):` Este parámetro especifica el tamaño del conjunto de prueba. Puede ser un número decimal entre 0 y 1, que representa el porcentaje del conjunto de datos que se asignará al conjunto de prueba, o puede ser un entero que representa el número absoluto de muestras en el conjunto de prueba. Por ejemplo, si test_size=0.2, se asignará el 20% del conjunto de datos al conjunto de prueba.\n",
        "\n",
        "`train_size (opcional):` Este parámetro especifica el tamaño del conjunto de entrenamiento. Al igual que test_size, puede ser un número decimal entre 0 y 1 o un entero que representa el número absoluto de muestras en el conjunto de entrenamiento. Si no se proporciona, se calcula automáticamente como 1 - test_size.\n",
        "\n",
        "`random_state (opcional):` Este parámetro permite establecer una semilla para la generación de números pseudoaleatorios. Esto garantiza que la división de los datos sea reproducible. Si se establece en un número entero, el resultado será el mismo cada vez que se ejecute el código."
      ]
    },
    {
      "cell_type": "code",
      "execution_count": 41,
      "metadata": {
        "colab": {
          "base_uri": "https://localhost:8080/"
        },
        "id": "V7oravS78bqe",
        "outputId": "bc1f5a49-16b9-4594-9014-36fbb0cec4ea"
      },
      "outputs": [
        {
          "name": "stdout",
          "output_type": "stream",
          "text": [
            "[[ 33.46  13.    15.   ...   0.     0.     0.  ]\n",
            " [ 51.48  15.     7.   ...   1.     0.     0.  ]\n",
            " [ 94.9   17.    15.   ...   3.     0.     0.  ]\n",
            " ...\n",
            " [ 74.95   4.     3.   ...   4.     1.     0.  ]\n",
            " [114.91   0.     0.   ...   0.     0.     0.  ]\n",
            " [ 54.94   4.    12.   ...   1.     0.     1.  ]]\n",
            "[1 0 0 ... 1 0 1]\n"
          ]
        }
      ],
      "source": [
        "#separamos el 20% para test y el 80% para entrenamiento deld dataset\n",
        "train_dataset, test_dataset = train_test_split(dataset, test_size=0.2, random_state=42)\n",
        "\n",
        "# Seleccionamos las columnas para X y la columna 'shares' para y\n",
        "X_test = test_dataset.drop(['round_winner'], axis=1).values\n",
        "y_test = test_dataset['round_winner'].values\n",
        "m_test = len(y_test)\n",
        "\n",
        "# Seleccionamos las columnas para X y la columna 'shares' para y\n",
        "X_train = train_dataset.drop(['round_winner'], axis=1).values\n",
        "y_train = train_dataset['round_winner'].values\n",
        "m_train = len(y_train)\n",
        "# Ahora, X y y deberían contener datos numéricos del 80% del dataset\n",
        "\n",
        "\n",
        "\n",
        "# imprimir todos las X de datos\n",
        "print(X_train)\n",
        "print(y_train)\n"
      ]
    },
    {
      "cell_type": "markdown",
      "metadata": {},
      "source": [
        "Visualizamos algunos datos de entrenamiento:"
      ]
    },
    {
      "cell_type": "code",
      "execution_count": 42,
      "metadata": {},
      "outputs": [
        {
          "name": "stdout",
          "output_type": "stream",
          "text": [
            "    X[:,0]   X[:, 1]   X[:, 2]   X[:, 3]   X[:, 4]   X[:, 5]   X[:, 6]   X[:, 7]   X[:, 8]   X[:, 9]  X[:, 10]  X[:, 11]  X[:, 12]  X[:, 13]  X[:, 14]  X[:, 15]  X[:, 16]  X[:, 17]  X[:, 18]  X[:, 19]  X[:, 20]  X[:, 21]  X[:, 22]     Y\n",
            "----------------------------------------------------------------------------------------------------------------------------------------------------------------------------------------------------------------------------------------------------------\n",
            "        33        13        15         0         1       338      80       384        85     18850      4700         4         0         4         4         2         0         0         0         0         1         0         0       1\n",
            "        51        15         7         3         0       300     212       300       342       300      1450         2         4         1         3         4         0         3         1         0         0         1         0       0\n",
            "        95        17        15         6         0       381     495       400       497     30900     21100         4         5         4         4         5         0         1         0         0         1         1         0       0\n",
            "       100         4         5         0         0       500     274       451       367     34850       150         4         4         4         5         4         1         4         0         0         1         0         0       1\n",
            "        95        11        12         5         0       500     500       486       500     24400       200         5         5         5         5         5         0         4         0         0         1         0         0       1\n",
            "        36         5         6         2         0       472     371       499       393     17750      3500         5         4         5         5         4         0         0         0         0         1         0         0       1\n",
            "        35         8         4         4         0       200     246       195       288       850      2200         2         3         2         2         3         1         0         0         0         1         1         0       0\n",
            "       112         5         2         1         0       500     500       500       500      2000      1000         5         3         2         5         5         1         4         1         0         1         1         0       0\n",
            "        27        13        14         3         1       209     200       300       200      1300      2050         3         2         1         3         2         0         1         0         0         1         1         0       0\n",
            "        57         8         2         2         0       375      52       385        98     12700       450         4         1         2         4         1         0         1         3         0         1         0         0       1\n",
            " \n",
            "El 80% de ejemplos para entrenamiento son la cantidad de: 97928 de ejemplos\n",
            "El 20% de ejemplos para pruebas son la cantidad de: 24482 de ejemplos\n",
            "La cantidad total de ejemplos es de: 122410 de ejemplos\n"
          ]
        }
      ],
      "source": [
        "#Visualizamos una cantidad de datos de entrenamiento\n",
        "print('{:>10s}{:>10s}{:>10s}{:>10s}{:>10s}{:>10s}{:>10s}{:>10s}{:>10s}{:>10s}{:>10s}{:>10s}{:>10s}{:>10s}{:>10s}{:>10s}{:>10s}{:>10s}{:>10s}{:>10s}{:>10s}{:>10s}{:>10s}{:>6s}'.format(\n",
        "    'X[:,0]', 'X[:, 1]', 'X[:, 2]', 'X[:, 3]', 'X[:, 4]', 'X[:, 5]', 'X[:, 6]', 'X[:, 7]', 'X[:, 8]', 'X[:, 9]', 'X[:, 10]', 'X[:, 11]', 'X[:, 12]', \n",
        "    'X[:, 13]', 'X[:, 14]', 'X[:, 15]', 'X[:, 16]', 'X[:, 17]', 'X[:, 18]', 'X[:, 19]', 'X[:, 20]', 'X[:, 21]', 'X[:, 22]','Y'\n",
        "))\n",
        "print('-' * 250)\n",
        "\n",
        "for i in range(10):\n",
        "    print('{:10.0f}{:10.0f}{:10.0f}{:10.0f}{:10.0f}{:10.0f}{:8.0f}{:10.0f}{:10.0f}{:10.0f}{:10.0f}{:10.0f}{:10.0f}{:10.0f}{:10.0f}{:10.0f}{:10.0f}{:10.0f}{:10.0f}{:10.0f}{:10.0f}{:10.0f}{:10.0f}{:8.0f}'.format(\n",
        "        X_train[i, 0],\n",
        "        X_train[i, 1],\n",
        "        X_train[i, 2], \n",
        "        X_train[i, 3], \n",
        "        X_train[i, 4], \n",
        "        X_train[i, 5], \n",
        "        X_train[i, 6], \n",
        "        X_train[i, 7], \n",
        "        X_train[i, 8], \n",
        "        X_train[i, 9], \n",
        "        X_train[i, 10],\n",
        "        X_train[i, 11],\n",
        "        X_train[i, 12], \n",
        "        X_train[i, 13], \n",
        "        X_train[i, 14], \n",
        "        X_train[i, 15], \n",
        "        X_train[i, 16],\n",
        "        X_train[i, 17],\n",
        "        X_train[i, 18],\n",
        "        X_train[i, 19], \n",
        "        X_train[i, 20], \n",
        "        X_train[i, 21], \n",
        "        X_train[i, 22], \n",
        "        y_train[i]\n",
        "    ))\n",
        "\n",
        "print(\" \")\n",
        "print('El 80% de ejemplos para entrenamiento son la cantidad de: {:.0f} de ejemplos'.format( len(X_train)))\n",
        "print('El 20% de ejemplos para pruebas son la cantidad de: {:.0f} de ejemplos'.format( len(X_test)))\n",
        "print('La cantidad total de ejemplos es de: {:.0f} de ejemplos'.format( len(dataset)))"
      ]
    },
    {
      "cell_type": "code",
      "execution_count": 43,
      "metadata": {
        "colab": {
          "base_uri": "https://localhost:8080/"
        },
        "id": "ORiMeaLT8bqe",
        "outputId": "4efc68d7-e8aa-4ad5-a4fd-8505ae7acd05"
      },
      "outputs": [
        {
          "name": "stdout",
          "output_type": "stream",
          "text": [
            "el 80% de datos es:97928 y el 20% es: 24482\n",
            "la totalidad de datos es:  122410\n"
          ]
        }
      ],
      "source": [
        "print(f\"el 80% de datos es:{X_train.shape[0]} y el 20% es: {X_test.shape[0]}\")\n",
        "print( \"la totalidad de datos es: \", dataset.shape[0])"
      ]
    },
    {
      "cell_type": "markdown",
      "metadata": {
        "id": "foch2pK-8bqe"
      },
      "source": [
        "## Usamos el shape para tener una imagen mas clara de las entradas\n",
        "\n",
        "Con esta funcion podemos obtener la cantidad de caracteristicas que estamos usando y la cantidad de ejemplos que contiene nuestra matriz."
      ]
    },
    {
      "cell_type": "code",
      "execution_count": 44,
      "metadata": {
        "colab": {
          "base_uri": "https://localhost:8080/"
        },
        "id": "kbGpo-C_8bqf",
        "outputId": "0a48b0e4-b285-4919-cb59-77a3c6725239"
      },
      "outputs": [
        {
          "name": "stdout",
          "output_type": "stream",
          "text": [
            "la cantidad de columnas es:  96\n",
            "la cantidad de ejemplos es:  97928\n"
          ]
        }
      ],
      "source": [
        "print(\"la cantidad de columnas es: \", X_train.shape[1])\n",
        "print(\"la cantidad de ejemplos es: \", X_train.shape[0])"
      ]
    },
    {
      "cell_type": "markdown",
      "metadata": {
        "id": "edO9y0Rd8bqf"
      },
      "source": [
        "## Definimos las capas\n",
        "\n",
        "En este apartado definiremos la cantidad de capas que tendra el modelo:\n",
        "\n",
        "- **Capa de entrada:** Es la cantidad de caracteristicas con las que cuenta el dataset.\n",
        "\n",
        "- **Capa oculta:** esto se define haciendo pruebas.\n",
        "\n",
        "- **Capa de salida:**como este modelo es de regresion lineal, se debe usar solo una capa de salida."
      ]
    },
    {
      "cell_type": "code",
      "execution_count": 46,
      "metadata": {
        "colab": {
          "base_uri": "https://localhost:8080/"
        },
        "id": "FCn590yB8bqf",
        "outputId": "4a70fd09-2136-4c66-82e7-ff893b1dbc52"
      },
      "outputs": [
        {
          "name": "stdout",
          "output_type": "stream",
          "text": [
            "la cantidad de elementos en la capa de entrada es:  96\n",
            "la cantidad de elementos en la capa de oculta es:  5\n",
            "la cantidad de elementos en la capa de salida es:  2\n"
          ]
        }
      ],
      "source": [
        "# Configurando parametros necesario\n",
        "input_layer_size  = X_train.shape[1]  # Entrada de 59 caracteristicas, es la cantidad de columnas existente en el dataset\n",
        "hidden_layer_size = 5   # 40 unidades ocultas en la capa oculta\n",
        "num_labels = 2         # como es una clasificacion tiene solo 2 salidas\n",
        "\n",
        "print(\"la cantidad de elementos en la capa de entrada es: \",input_layer_size)\n",
        "print(\"la cantidad de elementos en la capa de oculta es: \",hidden_layer_size)\n",
        "print(\"la cantidad de elementos en la capa de salida es: \",num_labels)"
      ]
    },
    {
      "cell_type": "markdown",
      "metadata": {
        "id": "U86XZ_L-8bqf"
      },
      "source": [
        "## Inicializacion de Thetas\n",
        "\n",
        "Inicializamos los valores de theta1 y theta2 con valores aleatorios para evitar conflictos:"
      ]
    },
    {
      "cell_type": "code",
      "execution_count": 47,
      "metadata": {
        "id": "3eHmXjJS8bqf"
      },
      "outputs": [],
      "source": [
        "pesos = {}\n",
        "pesos['Theta1'] = np.random.rand(hidden_layer_size , input_layer_size + 1)\n",
        "pesos['Theta2'] = np.random.rand(num_labels, hidden_layer_size + 1)"
      ]
    },
    {
      "cell_type": "markdown",
      "metadata": {
        "id": "CzVTMk5O8bqf"
      },
      "source": [
        "### Guardamos los valores de theta en nuevas variables\n",
        "\n",
        "`.ravel()` Son funciones que convierten estas matrices en vectores unidimensionales, es decir, aplanan las matrices. Esto puede ser útil para ciertas operaciones o para la visualización de los datos.\n",
        "\n",
        "Al inicializar los pesos con valores aleatorios pequeños, se garantiza que las neuronas en una capa oculta comiencen a aprender diferentes funciones. Esto aumenta la capacidad de representación de la red neuronal y permite que aprenda patrones complejos en los datos de entrada. Además, la aleatorización ayuda a evitar que el algoritmo de aprendizaje se atasque en mínimos locales subóptimos durante el entrenamiento."
      ]
    },
    {
      "cell_type": "code",
      "execution_count": 48,
      "metadata": {
        "colab": {
          "base_uri": "https://localhost:8080/"
        },
        "id": "wAUckipj8bqf",
        "outputId": "48113e13-caec-480e-d30b-e913541c9fa6"
      },
      "outputs": [
        {
          "name": "stdout",
          "output_type": "stream",
          "text": [
            "El tamaño de Theta1 es de:  (485,)\n",
            "El tamaño de Theta2 es de:  (12,)\n"
          ]
        }
      ],
      "source": [
        "Theta1, Theta2 = pesos['Theta1'], pesos['Theta2']\n",
        "\n",
        "\n",
        "print(\"El tamaño de Theta1 es de: \",Theta1.ravel().shape)\n",
        "print(\"El tamaño de Theta2 es de: \",Theta2.ravel().shape)"
      ]
    },
    {
      "cell_type": "markdown",
      "metadata": {
        "id": "ui7uhEi88bqg"
      },
      "source": [
        "### Concadenamos Theta1 y Theta2 para formar un solo array"
      ]
    },
    {
      "cell_type": "code",
      "execution_count": 49,
      "metadata": {
        "colab": {
          "base_uri": "https://localhost:8080/"
        },
        "id": "7xYqhbAo8bqg",
        "outputId": "a4e4fbbc-8bbf-44b3-ecbe-0d9f251dd9d9"
      },
      "outputs": [
        {
          "name": "stdout",
          "output_type": "stream",
          "text": [
            "(497,)\n"
          ]
        }
      ],
      "source": [
        "nn_params = np.concatenate([Theta1.ravel(), Theta2.ravel()])\n",
        "print(nn_params.shape)"
      ]
    },
    {
      "cell_type": "markdown",
      "metadata": {
        "id": "deGbbKz4oYX_"
      },
      "source": [
        "Esto se puede comprobar porque nos da la suma de Theta1 con Theta2."
      ]
    },
    {
      "cell_type": "markdown",
      "metadata": {
        "id": "IVRN6T_68bqg"
      },
      "source": [
        "## Funcion de activacion\n",
        "\n",
        "Esta función simplemente pasa la entrada directamente a la salida sin aplicar ninguna transformación no lineal."
      ]
    },
    {
      "cell_type": "code",
      "execution_count": 52,
      "metadata": {
        "id": "83LFPlwu8bqg"
      },
      "outputs": [],
      "source": [
        "def sigmoid(z):\n",
        "    \"\"\"\n",
        "    Computes the sigmoid of z.\n",
        "    \"\"\"\n",
        "    return 1.0 / (1.0 + np.exp(-z))\n",
        "\n",
        "\n",
        "def sigmoidGradient(z):\n",
        "\n",
        "    g = np.zeros(z.shape)\n",
        "\n",
        "    g = sigmoid(z) * (1 - sigmoid(z))\n",
        "\n",
        "    return g"
      ]
    },
    {
      "cell_type": "markdown",
      "metadata": {
        "id": "2a9VtELL8bqg"
      },
      "source": [
        "## Funcion de costo"
      ]
    },
    {
      "cell_type": "code",
      "execution_count": 736,
      "metadata": {
        "colab": {
          "base_uri": "https://localhost:8080/"
        },
        "id": "G5hvzhZH-o_-",
        "outputId": "38e96852-ad51-4b0e-f92a-8602462cd925"
      },
      "outputs": [
        {
          "name": "stdout",
          "output_type": "stream",
          "text": [
            "(306,)\n"
          ]
        }
      ],
      "source": [
        "print(nn_params.shape)"
      ]
    },
    {
      "cell_type": "code",
      "execution_count": 54,
      "metadata": {
        "id": "H8_YdprL8bqg"
      },
      "outputs": [],
      "source": [
        "def nnCostFunction(nn_params,\n",
        "                   input_layer_size,\n",
        "                   hidden_layer_size,\n",
        "                   num_labels,\n",
        "                   X, y, lambda_=0.0):\n",
        "   \n",
        "    Theta1 = np.reshape(nn_params[:hidden_layer_size * (input_layer_size + 1)],\n",
        "                        (hidden_layer_size, (input_layer_size + 1)))\n",
        "\n",
        "    Theta2 = np.reshape(nn_params[(hidden_layer_size * (input_layer_size + 1)):],\n",
        "                        (num_labels, (hidden_layer_size + 1)))\n",
        "\n",
        "    m = y.size\n",
        "         \n",
        "    J = 0\n",
        "    Theta1_grad = np.zeros(Theta1.shape)\n",
        "    Theta2_grad = np.zeros(Theta2.shape)\n",
        "    \n",
        "    a1 = np.concatenate([np.ones((m, 1)), X], axis=1)\n",
        "    \n",
        "    a2 = utils.sigmoid(a1.dot(Theta1.T))\n",
        "    a2 = np.concatenate([np.ones((a2.shape[0], 1)), a2], axis=1)\n",
        "    \n",
        "    a3 = utils.sigmoid(a2.dot(Theta2.T))\n",
        "    \n",
        "    y_matrix = y.reshape(-1)\n",
        "    y_matrix = np.eye(num_labels)[y_matrix]\n",
        "    \n",
        "    temp1 = Theta1\n",
        "    temp2 = Theta2\n",
        "    \n",
        "    \n",
        "    reg_term = (lambda_ / (2 * m)) * (np.sum(np.square(temp1[:, 1:])) + np.sum(np.square(temp2[:, 1:])))\n",
        "    \n",
        "    J = (-1 / m) * np.sum((np.log(a3) * y_matrix) + np.log(1 - a3) * (1 - y_matrix)) + reg_term\n",
        "    \n",
        "    # Backpropogation\n",
        "    \n",
        "    delta_3 = a3 - y_matrix\n",
        "    delta_2 = delta_3.dot(Theta2)[:, 1:] * sigmoidGradient(a1.dot(Theta1.T))\n",
        "\n",
        "    Delta1 = delta_2.T.dot(a1)\n",
        "    Delta2 = delta_3.T.dot(a2)\n",
        "    \n",
        "    Theta1_grad = (1 / m) * Delta1\n",
        "    Theta1_grad[:, 1:] = Theta1_grad[:, 1:] + (lambda_ / m) * Theta1[:, 1:]\n",
        "    \n",
        "    Theta2_grad = (1 / m) * Delta2\n",
        "    Theta2_grad[:, 1:] = Theta2_grad[:, 1:] + (lambda_ / m) * Theta2[:, 1:]\n",
        "    \n",
        "    \n",
        "    grad = np.concatenate([Theta1_grad.ravel(), Theta2_grad.ravel()])\n",
        "    \n",
        "    return J, grad"
      ]
    },
    {
      "cell_type": "markdown",
      "metadata": {
        "id": "mKy1CCgk8bqg"
      },
      "source": [
        "## Normalizacion de los datos\n",
        "\n",
        "Al visualizar los datos se puede observar que las caracteristicas tienen diferentes magnitudes, por lo cual se debe transformar cada valor en una escala de valores similares."
      ]
    },
    {
      "cell_type": "code",
      "execution_count": 55,
      "metadata": {
        "id": "g1LN1-oV8bqg"
      },
      "outputs": [],
      "source": [
        "def  featureNormalize(X):\n",
        "    X_norm = X.copy()\n",
        "\n",
        "    #creamos un array de ceros con una longitud igual al número de columnas en el array X. La variable mu y sigma se inicializa como este array de ceros.\n",
        "    mu = np.zeros(X.shape[1])\n",
        "    sigma = np.zeros(X.shape[1])\n",
        "\n",
        "    #Creamos el promedio de cada columna de X\n",
        "    mu = np.mean(X, axis = 0)\n",
        "    sigma = np.std(X, axis = 0)\n",
        "\n",
        "    sigma[sigma == 0] = 1\n",
        "\n",
        "    #normalizamos los datos con la siguiente formula\n",
        "    X_norm = (X - mu) / sigma\n",
        "\n",
        "    return X_norm, mu, sigma"
      ]
    },
    {
      "cell_type": "code",
      "execution_count": 58,
      "metadata": {
        "id": "XAuFRmmm8bqh"
      },
      "outputs": [
        {
          "name": "stdout",
          "output_type": "stream",
          "text": [
            "    X[:,0]   X[:, 1]   X[:, 2]   X[:, 3]   X[:, 4]   X[:, 5]   X[:, 6]   X[:, 7]   X[:, 8]   X[:, 9]  X[:, 10]  X[:, 11]  X[:, 12]  X[:, 13]  X[:, 14]  X[:, 15]  X[:, 16]  X[:, 17]  X[:, 18]  X[:, 19]  X[:, 20]  X[:, 21]  X[:, 22]     Y\n",
            "----------------------------------------------------------------------------------------------------------------------------------------------------------------------------------------------------------------------------------------------------------\n",
            "     -1.18      1.31      1.70     -1.29      2.82     -0.56     -2.30      0.41     -1.22      0.81     -0.54      1.06     -1.38      1.49     -0.23     -1.84     -0.47     -0.91     -0.29     -0.08      0.63     -0.67      0.00       1\n",
            "     -0.85      1.73      0.05      0.25     -0.35     -0.85     -1.36     -0.08      0.25     -0.85     -0.81     -0.03      0.61     -0.38     -1.06     -0.22     -0.47      1.29      1.88     -0.08     -0.85      1.42      0.00       0\n",
            "     -0.05      2.15      1.70      1.79     -0.35     -0.23      0.66      0.50      1.14      1.88      0.81      1.06      1.11      1.49     -0.23      0.60     -0.47     -0.18     -0.29     -0.08      0.63      1.42      0.00       0\n",
            "      0.03     -0.56     -0.37     -1.29     -0.35      0.66     -0.92      0.80      0.39      2.23     -0.91      1.06      0.61      1.49      0.60     -0.22      1.24      2.02     -0.29     -0.08      0.63     -0.67      0.00       1\n",
            "     -0.05      0.90      1.08      1.28     -0.35      0.66      0.70      1.01      1.15      1.30     -0.91      1.60      1.11      2.11      0.60      0.60     -0.47      2.02     -0.29     -0.08      0.63     -0.67      0.00       1\n",
            "     -1.14     -0.36     -0.16     -0.26     -0.35      0.45     -0.23      1.08      0.54      0.71     -0.64      1.60      0.61      2.11      0.60     -0.22     -0.47     -0.91     -0.29     -0.08      0.63     -0.67      0.00       1\n",
            "     -1.16      0.27     -0.58      0.77     -0.35     -1.60     -1.12     -0.70     -0.06     -0.80     -0.74     -0.03      0.11      0.24     -1.89     -1.03      1.24     -0.91     -0.29     -0.08      0.63      1.42      0.00       0\n",
            "      0.26     -0.36     -0.99     -0.78     -0.35      0.66      0.70      1.09      1.15     -0.69     -0.84      1.60      0.11      0.24      0.60      0.60      1.24      2.02      1.88     -0.08      0.63      1.42      0.00       0\n",
            "     -1.31      1.31      1.50      0.25      2.82     -1.54     -1.45     -0.08     -0.56     -0.76     -0.76      0.51     -0.39     -0.38     -1.06     -1.84     -0.47     -0.18     -0.29     -0.08      0.63      1.42      0.00       0\n",
            "     -0.75      0.27     -0.99     -0.26     -0.35     -0.28     -2.50      0.41     -1.15      0.26     -0.89      1.06     -0.88      0.24     -0.23     -2.66     -0.47     -0.18      6.23     -0.08      0.63     -0.67      0.00       1\n"
          ]
        }
      ],
      "source": [
        "X_norm, mu, sigma = featureNormalize(X_train)\n",
        "\n",
        "# imprimir todos las X_norm de datos solo 10\n",
        "print('{:>10s}{:>10s}{:>10s}{:>10s}{:>10s}{:>10s}{:>10s}{:>10s}{:>10s}{:>10s}{:>10s}{:>10s}{:>10s}{:>10s}{:>10s}{:>10s}{:>10s}{:>10s}{:>10s}{:>10s}{:>10s}{:>10s}{:>10s}{:>6s}'.format(\n",
        "    'X[:,0]', 'X[:, 1]', 'X[:, 2]', 'X[:, 3]', 'X[:, 4]', 'X[:, 5]', 'X[:, 6]', 'X[:, 7]', 'X[:, 8]', 'X[:, 9]', 'X[:, 10]', 'X[:, 11]', 'X[:, 12]', \n",
        "    'X[:, 13]', 'X[:, 14]', 'X[:, 15]', 'X[:, 16]', 'X[:, 17]', 'X[:, 18]', 'X[:, 19]', 'X[:, 20]', 'X[:, 21]', 'X[:, 22]','Y'\n",
        "))\n",
        "print('-' * 250)\n",
        "\n",
        "for i in range(10):\n",
        "    print('{:10.2f}{:10.2f}{:10.2f}{:10.2f}{:10.2f}{:10.2f}{:10.2f}{:10.2f}{:10.2f}{:10.2f}{:10.2f}{:10.2f}{:10.2f}{:10.2f}{:10.2f}{:10.2f}{:10.2f}{:10.2f}{:10.2f}{:10.2f}{:10.2f}{:10.2f}{:10.2f}{:8.0f}'.format(\n",
        "        X_norm[i, 0],\n",
        "        X_norm[i, 1],\n",
        "        X_norm[i, 2], \n",
        "        X_norm[i, 3], \n",
        "        X_norm[i, 4], \n",
        "        X_norm[i, 5], \n",
        "        X_norm[i, 6], \n",
        "        X_norm[i, 7], \n",
        "        X_norm[i, 8], \n",
        "        X_norm[i, 9], \n",
        "        X_norm[i, 10],\n",
        "        X_norm[i, 11],\n",
        "        X_norm[i, 12], \n",
        "        X_norm[i, 13], \n",
        "        X_norm[i, 14], \n",
        "        X_norm[i, 15], \n",
        "        X_norm[i, 16],\n",
        "        X_norm[i, 17],\n",
        "        X_norm[i, 18],\n",
        "        X_norm[i, 19], \n",
        "        X_norm[i, 20], \n",
        "        X_norm[i, 21], \n",
        "        X_norm[i, 22], \n",
        "        y_train[i]\n",
        "    ))"
      ]
    },
    {
      "cell_type": "code",
      "execution_count": 60,
      "metadata": {
        "colab": {
          "base_uri": "https://localhost:8080/"
        },
        "id": "L42PD6bQBPjm",
        "outputId": "74934a4f-b279-4bf2-ff7b-1117db49ddb1"
      },
      "outputs": [
        {
          "name": "stdout",
          "output_type": "stream",
          "text": [
            "Longitud de nn_params: 497\n",
            "Expected size for Theta2: 12\n"
          ]
        }
      ],
      "source": [
        "print(\"Longitud de nn_params:\", len(nn_params))\n",
        "print(\"Expected size for Theta2:\", (hidden_layer_size + 1) * num_labels)"
      ]
    },
    {
      "cell_type": "markdown",
      "metadata": {
        "id": "onVWi9gF8bqh"
      },
      "source": [
        "## Calculo del costo"
      ]
    },
    {
      "cell_type": "code",
      "execution_count": 741,
      "metadata": {
        "colab": {
          "base_uri": "https://localhost:8080/"
        },
        "id": "sCAuNAW58bqh",
        "outputId": "0a21f194-3b92-47f9-8c82-9f50d47aff47"
      },
      "outputs": [
        {
          "name": "stdout",
          "output_type": "stream",
          "text": [
            "Costo en parametros (cargado de ex4weights): 96552629.225325 \n",
            "El costo debe esta cercano a               : 96558327.522023\n"
          ]
        }
      ],
      "source": [
        "lambda_ = 10000\n",
        "J, _ = nnCostFunction(nn_params, input_layer_size, hidden_layer_size, num_labels, X_norm, y_train, lambda_)\n",
        "print('Costo en parametros (cargado de ex4weights): %.6f ' % J)\n",
        "print('El costo debe esta cercano a               : 96558327.522023')"
      ]
    },
    {
      "cell_type": "markdown",
      "metadata": {
        "id": "fpdUGYU1awLO"
      },
      "source": [
        "## Inicializar pesos aleatorios\n",
        "\n",
        "Inicialisamos los pesos de una capa de una red neuronal de manera aleatoria pero controlada. Aquí hay una explicación línea por línea de lo que hace la función:\n",
        "\n",
        "Recibe dos parámetros: **L_in** que es el número de unidades en la capa de entrada y L_out que es el número de unidades en la capa de salida.\n",
        "\n",
        "epsilon_init es un parámetro opcional que controla el rango de los valores iniciales de los pesos.\n",
        "\n",
        "Se inicializa una matriz de pesos W con dimensiones **(L_out, 1 + L_in).** Esto significa que habrá L_out filas (una para cada unidad en la capa de salida) y **1 + L_in** columnas (una para cada conexión de entrada más un término de sesgo).\n",
        "\n",
        "Se generan valores aleatorios en el rango [0, 1) utilizando **np.random.rand(L_out, 1 + L_in).**\n",
        "\n",
        "Estos valores aleatorios se escalan y se trasladan para estar en el rango [-epsilon_init, epsilon_init] multiplicando por 2 * epsilon_init y restando epsilon_init.\n",
        "Esto garantiza que los valores estén en el rango deseado.\n",
        "\n",
        "La matriz de pesos inicializada aleatoriamente se devuelve como salida de la función."
      ]
    },
    {
      "cell_type": "code",
      "execution_count": 742,
      "metadata": {
        "id": "CRznyU7Say8m"
      },
      "outputs": [],
      "source": [
        "def randInitializeWeights(L_in, L_out, epsilon_init=0.12):\n",
        "\n",
        "    W = np.zeros((L_out, 1 + L_in))\n",
        "    W = np.random.rand(L_out, 1 + L_in) * 2 * epsilon_init - epsilon_init\n",
        "\n",
        "    return W"
      ]
    },
    {
      "cell_type": "code",
      "execution_count": 743,
      "metadata": {
        "colab": {
          "base_uri": "https://localhost:8080/"
        },
        "id": "DcdyxL3ia6UO",
        "outputId": "61939931-e06b-4fd9-a7a4-18afb25660da"
      },
      "outputs": [
        {
          "name": "stdout",
          "output_type": "stream",
          "text": [
            "Inicialización de parámetros de redes neuronales...\n"
          ]
        }
      ],
      "source": [
        "print('Inicialización de parámetros de redes neuronales...')\n",
        "\n",
        "initial_Theta1 = randInitializeWeights(input_layer_size, hidden_layer_size)\n",
        "initial_Theta2 = randInitializeWeights(hidden_layer_size, num_labels)\n",
        "\n",
        "# Desenrrollr parametros\n",
        "initial_nn_params = np.concatenate([initial_Theta1.ravel(), initial_Theta2.ravel()], axis=0)"
      ]
    },
    {
      "cell_type": "markdown",
      "metadata": {
        "id": "ROcALjEvpi_f"
      },
      "source": [
        "## Calculo de Thetas"
      ]
    },
    {
      "cell_type": "code",
      "execution_count": 744,
      "metadata": {
        "colab": {
          "base_uri": "https://localhost:8080/"
        },
        "id": "tQ1CmxeXbBZm",
        "outputId": "2e61e47a-2d3a-4fda-a7d4-d65c4c296ee5"
      },
      "outputs": [
        {
          "name": "stderr",
          "output_type": "stream",
          "text": [
            "<ipython-input-744-fd6245226a93>:15: OptimizeWarning: Unknown solver options: maxiter\n",
            "  res = optimize.minimize(costFunction,\n"
          ]
        }
      ],
      "source": [
        "# Después de haber completado la tarea, cambie el maxiter a uno más grande\n",
        "# Usando un numero maximo de iteraciones\n",
        "options= {'maxiter': 1000}\n",
        "\n",
        "# Tratamos con diferentes valores de lambda_\n",
        "lambda_ = 1\n",
        "\n",
        "# define una función anónima (lambda) llamada costFunction.\n",
        "costFunction = lambda p: nnCostFunction(p, input_layer_size,\n",
        "                                        hidden_layer_size,\n",
        "                                        num_labels, X_norm, y_train, lambda_)\n",
        "\n",
        "# Ahora, costFunction es una función que toma solo un argumento.\n",
        "# (los parámetros de la red neuronal)\n",
        "res = optimize.minimize(costFunction,\n",
        "                        initial_nn_params,\n",
        "                        jac=True,\n",
        "                        method='TNC',\n",
        "                        options=options)\n",
        "\n",
        "# obtenemos la solución de la optimización\n",
        "nn_params = res.x\n",
        "\n",
        "# Obtenemos Theta1 y Theta2 de nn_params\n",
        "Theta1 = np.reshape(nn_params[:hidden_layer_size * (input_layer_size + 1)],\n",
        "                    (hidden_layer_size, (input_layer_size + 1)))\n",
        "\n",
        "Theta2 = np.reshape(nn_params[(hidden_layer_size * (input_layer_size + 1)):],\n",
        "                    (num_labels, (hidden_layer_size + 1)))"
      ]
    },
    {
      "cell_type": "code",
      "execution_count": 745,
      "metadata": {
        "colab": {
          "base_uri": "https://localhost:8080/"
        },
        "id": "NsrvZ3kZexBI",
        "outputId": "96669ab7-0d10-4871-c1ea-0ec85afe4715"
      },
      "outputs": [
        {
          "name": "stdout",
          "output_type": "stream",
          "text": [
            "Thetha 0 es:  [-3.13253873e+01 -5.16885504e+00 -2.69305399e+00 -6.50747220e+00\n",
            " -5.86411362e+00 -5.29426009e-01  4.34815483e+00 -4.62016646e+00\n",
            "  3.44968567e+00 -3.51698427e+00 -1.42425280e+00  6.08879823e+00\n",
            " -3.78122668e+00  3.30377819e-01  5.39049411e+00  7.52411071e-01\n",
            "  8.97383433e-01  5.12573869e-01  1.42671139e+00 -2.40605206e+00\n",
            " -5.96621012e+00  4.12878773e+00  2.28846990e+00 -2.52976327e+00\n",
            " -5.67761961e+00  2.59970305e+00  8.95268917e+00 -2.63840370e+01\n",
            " -1.05341936e+01 -1.96241830e+00 -8.33873662e+00 -1.50246878e+00\n",
            "  7.77491407e-01 -5.93843651e-01  6.35852202e-01  1.53841615e+00\n",
            " -2.44631966e+00  3.90920693e-01 -1.76507949e+00  2.37443773e-01\n",
            " -5.95202154e-01  6.57546786e+00 -4.37525427e+00 -3.56833574e-01\n",
            " -8.19339920e+00  1.30112196e+00  7.24150557e-01  2.71678335e-01\n",
            " -4.25265926e-02 -2.51677011e+00 -6.83732356e-02  1.23300308e+00\n",
            " -2.25309914e+00  9.39024972e+00 -9.22812810e-01  1.07482923e+00\n",
            " -2.21204173e-02 -1.70691157e+00  4.64413886e-01 -4.49575405e+00]\n",
            "\n",
            "Thetha 1 es:  [ 8.94266177e+00 -1.06684870e+00  3.36422327e-01  6.89679035e-03\n",
            " -3.20924554e+00 -6.73811045e-01  3.66335690e-01  5.48853112e+00\n",
            "  5.48838402e-01  5.81776649e+00  3.23272238e+00  1.31519981e+00\n",
            "  2.77745235e+00  1.53646323e+00 -8.41492557e-01 -1.49348033e+00\n",
            "  1.04919138e-01 -1.53999853e+00 -7.78693757e+00 -1.88610584e+00\n",
            " -9.29548563e-01  6.03395251e+00  1.16346767e+00  2.03328869e+00\n",
            "  6.87275067e+00  6.87511123e+00  1.28808588e+01  4.07510369e+00\n",
            "  8.64001781e+00  9.35137129e+00  8.78853896e+00 -6.05266531e-02\n",
            " -5.68718727e-01 -2.60273902e-01 -4.48285492e-01 -3.87260612e-01\n",
            "  1.77635865e+00  1.20306302e+00  2.30695439e+00 -1.01735801e+00\n",
            " -7.55916848e-01 -8.17859262e+00  9.76593257e+00 -1.65652472e+00\n",
            "  6.15528708e+00 -2.03063540e-01  2.06421856e+00  3.35825626e+00\n",
            " -2.19834894e+00 -2.31570865e-01  4.37915391e+00  1.02268792e+00\n",
            "  3.57296979e+00 -5.23146415e+00 -7.37562615e+00 -4.78366947e+00\n",
            "  4.38723226e+00  1.87076182e+00 -1.20099540e+00  3.54985529e+00]\n",
            "\n",
            "Thetha 2 es:  [-2.38987317e+00  1.39447414e+00  4.15786734e-01  9.52757581e-01\n",
            "  1.61498306e+00 -4.05120629e-01 -4.75950903e-01 -1.33781199e+00\n",
            " -9.25008026e-01 -1.20035123e+00 -5.74288372e-01 -1.72565473e+00\n",
            " -1.01640810e-01 -4.90363590e-01 -8.34368520e-01  3.64115745e-01\n",
            " -1.63247218e-01  4.02699919e-01  3.13475004e+00  1.31539505e+00\n",
            "  7.39577047e-01 -2.81672261e+00 -8.10457197e-01 -4.55579324e-01\n",
            " -1.88497327e+00 -2.73898722e+00 -6.39394281e+00  8.78203749e-01\n",
            " -1.25591042e+00 -2.99331847e+00 -2.11004274e+00  2.75161476e-01\n",
            " -1.24770979e-03  1.83361010e-01 -5.39942629e-02 -2.03219022e-01\n",
            " -1.48999561e-01 -4.24797486e-01 -5.48694967e-01  2.77786929e-01\n",
            "  2.50906818e-01  2.19888250e+00 -3.17120157e+00  7.44814739e-01\n",
            " -1.84606696e+00 -3.59387289e-01 -1.11869493e+00 -1.78072694e+00\n",
            "  7.24673471e-01  2.96528068e-01 -2.36457898e+00 -6.12168710e-01\n",
            " -1.40870477e+00  1.07428867e+00  3.10342352e+00  1.28666451e+00\n",
            " -1.33690297e+00 -2.07013853e-01  2.92790062e-01 -5.58127583e-01]\n",
            "\n",
            "Thetha 3 es:  [-31.55548573  -4.43238202  -2.49905263  -6.1566055   -6.13038554\n",
            "  -1.01250002   3.99734028  -5.00710898   2.56132465  -3.9759346\n",
            "  -2.17939737   5.76881048  -3.35321244   0.03438347   3.58977829\n",
            "   0.67373112   0.55648035   0.69809485   2.60534631  -1.47353325\n",
            "  -6.19486252   3.25720173   1.5181837   -2.48926278  -5.96815412\n",
            "   1.09253686   5.89928473 -25.50105837  -9.6339816   -2.8003462\n",
            "  -9.75251475  -1.07601453   0.624195    -0.43861903   0.56890209\n",
            "   1.29572686  -1.98837551  -0.17340936  -1.99554061   0.34139793\n",
            "  -0.86759817   7.16825279  -5.32615417   0.17615456  -7.28779375\n",
            "   0.88847542   0.05945257  -0.72895985  -0.4467219   -2.87024656\n",
            "  -1.19271079   0.74169524  -2.82191332  10.24765922   0.33659007\n",
            "   1.09143719  -0.69588666  -2.04723635   0.69419346  -4.14134902]\n",
            "\n",
            "Thetha 4 es:  [ 5.80645300e+00  1.70946728e+00  4.81465931e-01  1.28943053e+00\n",
            "  1.98311733e+00 -5.03128333e-01 -7.23856008e-01 -1.37011138e+00\n",
            " -1.17048725e+00 -1.33784768e+00 -7.33942275e-01 -2.09983990e+00\n",
            " -2.66070925e-02 -5.92860823e-01 -1.06654367e+00  4.15462413e-01\n",
            " -2.08995425e-01  4.40939908e-01  3.25394855e+00  1.50061664e+00\n",
            "  1.02164994e+00 -3.40795017e+00 -1.02625451e+00 -3.17666103e-01\n",
            " -1.66579936e+00 -3.31120618e+00 -7.08115400e+00  3.16732624e+00\n",
            " -1.06828423e+00 -3.20244298e+00 -1.99106485e+00  3.23438607e-01\n",
            "  1.18654979e-03  2.31605759e-01 -2.48008594e-02 -2.15977912e-01\n",
            " -1.41441412e-01 -5.28289919e-01 -6.60064681e-01  3.05892324e-01\n",
            "  2.74627171e-01  2.00420400e+00 -3.36242722e+00  8.50952140e-01\n",
            " -1.15484816e+00 -4.90851462e-01 -1.21372714e+00 -1.73048725e+00\n",
            "  8.38599597e-01  5.00987412e-01 -2.19691121e+00 -7.51262598e-01\n",
            " -1.40582094e+00  3.02473415e-01  3.46868882e+00  1.39151354e+00\n",
            " -1.62377682e+00 -2.68185256e-01  3.67182314e-01 -5.42116696e-01]\n",
            "\n"
          ]
        }
      ],
      "source": [
        "for i in range(len(Theta1)):\n",
        "    print(\"Thetha\",i,\"es: \", Theta1[i])\n",
        "    print(\"\")"
      ]
    },
    {
      "cell_type": "code",
      "execution_count": 746,
      "metadata": {
        "colab": {
          "base_uri": "https://localhost:8080/"
        },
        "id": "HQIUJ6rIfxi3",
        "outputId": "167a72b2-3bbd-4232-f8de-912828c3ba68"
      },
      "outputs": [
        {
          "name": "stdout",
          "output_type": "stream",
          "text": [
            "Thetha 0 es:  [-3.13253873e+01 -5.16885504e+00 -2.69305399e+00 -6.50747220e+00\n",
            " -5.86411362e+00 -5.29426009e-01  4.34815483e+00 -4.62016646e+00\n",
            "  3.44968567e+00 -3.51698427e+00 -1.42425280e+00  6.08879823e+00\n",
            " -3.78122668e+00  3.30377819e-01  5.39049411e+00  7.52411071e-01\n",
            "  8.97383433e-01  5.12573869e-01  1.42671139e+00 -2.40605206e+00\n",
            " -5.96621012e+00  4.12878773e+00  2.28846990e+00 -2.52976327e+00\n",
            " -5.67761961e+00  2.59970305e+00  8.95268917e+00 -2.63840370e+01\n",
            " -1.05341936e+01 -1.96241830e+00 -8.33873662e+00 -1.50246878e+00\n",
            "  7.77491407e-01 -5.93843651e-01  6.35852202e-01  1.53841615e+00\n",
            " -2.44631966e+00  3.90920693e-01 -1.76507949e+00  2.37443773e-01\n",
            " -5.95202154e-01  6.57546786e+00 -4.37525427e+00 -3.56833574e-01\n",
            " -8.19339920e+00  1.30112196e+00  7.24150557e-01  2.71678335e-01\n",
            " -4.25265926e-02 -2.51677011e+00 -6.83732356e-02  1.23300308e+00\n",
            " -2.25309914e+00  9.39024972e+00 -9.22812810e-01  1.07482923e+00\n",
            " -2.21204173e-02 -1.70691157e+00  4.64413886e-01 -4.49575405e+00]\n",
            "\n"
          ]
        }
      ],
      "source": [
        "for i in range(len(Theta2)):\n",
        "    print(\"Thetha\",i,\"es: \", Theta1[i])\n",
        "    print(\"\")"
      ]
    },
    {
      "cell_type": "markdown",
      "metadata": {
        "id": "HtG9YMHkq48R"
      },
      "source": [
        "## Funcion para realizar predicciones\n",
        "\n",
        "Predecir la salida de una entrada dada una red neuronal entrenada, Genera la salida prevista de X dados los pesos entrenados de un neural"
      ]
    },
    {
      "cell_type": "code",
      "execution_count": 747,
      "metadata": {
        "id": "Yno4wwXgbeJ_"
      },
      "outputs": [],
      "source": [
        "def predict(Theta1, Theta2, X):\n",
        "\n",
        "    # Compute the output using the trained weights\n",
        "    h1 = np.dot(np.concatenate([np.ones((X.shape[0], 1)), X], axis=1), Theta1.T)\n",
        "    output = np.dot(np.concatenate([np.ones((h1.shape[0], 1)), h1], axis=1), Theta2.T)\n",
        "\n",
        "    return output"
      ]
    },
    {
      "cell_type": "code",
      "execution_count": 748,
      "metadata": {
        "colab": {
          "base_uri": "https://localhost:8080/"
        },
        "id": "YVbdPMIhbpL-",
        "outputId": "18f2f347-babf-4ee8-da2c-f72ed595d9e9"
      },
      "outputs": [
        {
          "name": "stdout",
          "output_type": "stream",
          "text": [
            "las predicciones para los 6 ejemplos son:\n",
            "Para el ejemplo  1  es: [-1316.84027775]\n",
            "\n",
            "Para el ejemplo  2  es: [-1316.84027775]\n",
            "\n",
            "Para el ejemplo  3  es: [-185.44304447]\n",
            "\n",
            "Para el ejemplo  4  es: [605.16076741]\n",
            "\n",
            "Para el ejemplo  5  es: [-154.37093343]\n",
            "\n",
            "Para el ejemplo  6  es: [1170.19664301]\n",
            "\n"
          ]
        }
      ],
      "source": [
        "#Creamos la matriz con 6 ejemplos para hacer la prueba predecir un precio de cada ejemplo:\n",
        "matriz_datos = np.array([\n",
        "    [731.0, 9.0, 255.0, 0.604743080614, 0.999999993289, 0.79194630341, 3.0, 1.0, 1.0, 0.0, 4.9137254902, 4.0, 0.0, 0.0, 1.0, 0.0, 0.0, 0.0, 0.0, 0.0, 0.0, 0.0, 0.0, 0.0, 0.0, 0.0, 0.0, 0.0, 0.0, 0.0, 1.0, 0.0, 0.0, 0.0, 0.0, 0.0, 0.0, 0.0, 0.799755687423, 0.0500466753998, 0.0500962518137, 0.0501006734234, 0.0500007119405, 0.341245791246, 0.148947811448, 0.043137254902, 0.0156862745098, 0.733333333333, 0.266666666667, 0.286914600551, 0.0333333333333, 0.7, -0.11875, -0.125, -0.1, 0.0, 0.0, 0.5, 0.0],\n",
        "    [731.0, 9.0, 255.0, 0.604743080614, 0.999999993289, 0.79194630341, 3.0, 1.0, 1.0, 0.0, 4.9137254902, 4.0, 0.0, 0.0, 1.0, 0.0, 0.0, 0.0, 0.0, 0.0, 0.0, 0.0, 0.0, 0.0, 0.0, 0.0, 0.0, 0.0, 0.0, 0.0, 1.0, 0.0, 0.0, 0.0, 0.0, 0.0, 0.0, 0.0, 0.799755687423, 0.0500466753998, 0.0500962518137, 0.0501006734234, 0.0500007119405, 0.341245791246, 0.148947811448, 0.043137254902, 0.0156862745098, 0.733333333333, 0.266666666667, 0.286914600551, 0.0333333333333, 0.7, -0.11875, -0.125, -0.1, 0.0, 0.0, 0.5, 0.0],\n",
        "    [731.0, 13.0, 1072.0, 0.41564561695, 0.999999998565, 0.540889525766, 19.0, 19.0, 20.0, 0.0, 4.6828358209, 7.0, 0.0, 0.0, 0.0, 0.0, 1.0, 0.0, 0.0, 0.0, 0.0, 0.0, 0.0, 0.0, 0.0, 0.0, 0.0, 545.0, 16000.0, 3151.15789474, 1.0, 0.0, 0.0, 0.0, 0.0, 0.0, 0.0, 0.0, 0.0286328101715, 0.0287935517322, 0.0285751849112, 0.028571675324, 0.885426777861, 0.513502122877, 0.281003475691, 0.0746268656716, 0.0121268656716, 0.860215053763, 0.139784946237, 0.411127435065, 0.0333333333333, 1.0, -0.220192307692, -0.5, -0.05, 0.454545454545, 0.136363636364, 0.0454545454545, 0.136363636364],\n",
        "    [731.0, 13.0, 244.0, 0.559999997511, 0.999999993197, 0.680272104216, 3.0, 2.0, 1.0, 0.0, 4.42213114754, 4.0, 0.0, 0.0, 1.0, 0.0, 0.0, 0.0, 0.0, 0.0, 0.0, 0.0, 0.0, 0.0, 0.0, 0.0, 0.0, 2800.0, 2800.0, 2800.0, 1.0, 0.0, 0.0, 0.0, 0.0, 0.0, 0.0, 0.0, 0.300293733076, 0.0500009756327, 0.0500010257644, 0.0500001760383, 0.549704089489, 0.331639928699, -0.0923054070113, 0.016393442623, 0.0245901639344, 0.4, 0.6, 0.292424242424, 0.136363636364, 0.433333333333, -0.456481481481, -1.0, -0.125, 0.7, -0.4, 0.2, 0.4],\n",
        "    [731.0, 11.0, 723.0, 0.490934448409, 0.999999997845, 0.642241377926, 18.0, 1.0, 1.0, 0.0, 5.22821576763, 6.0, 0.0, 0.0, 1.0, 0.0, 0.0, 0.0, 0.0, 0.0, 0.0, 0.0, 0.0, 0.0, 0.0, 0.0, 0.0, 0.0, 0.0, 0.0, 1.0, 0.0, 0.0, 0.0, 0.0, 0.0, 0.0, 0.0, 0.866656685064, 0.0333372075669, 0.0333354827452, 0.0333356642467, 0.0333349603771, 0.375048678466, 0.182696038139, 0.0636237897649, 0.00829875518672, 0.884615384615, 0.115384615385, 0.340572181442, 0.0333333333333, 1.0, -0.213888888889, -0.6, -0.1, 0.5, 0.5, 0.0, 0.5],\n",
        "    [731.0, 14.0, 290.0, 0.611510789167, 0.999999994048, 0.76190475737, 0.0, 0.0, 14.0, 0.0, 4.06896551724, 9.0, 0.0, 0.0, 0.0, 0.0, 1.0, 0.0, 0.0, 0.0, 0.0, 0.0, 0.0, 0.0, 0.0, 0.0, 0.0, 0.0, 0.0, 0.0, 1.0, 0.0, 0.0, 0.0, 0.0, 0.0, 0.0, 0.0, 0.0222448007009, 0.306856235824, 0.0222310333686, 0.0222241628314, 0.626443767275, 0.571906729634, 0.31812180244, 0.0620689655172, 0.0103448275862, 0.857142857143, 0.142857142857, 0.438908128908, 0.136363636364, 1.0, -0.177777777778, -0.4, -0.00833333333333, 0.0, 0.0, 0.5, 0.0]\n",
        "])\n",
        "\n",
        "\n",
        "#Normalizamos todos\n",
        "matriz_datos= (matriz_datos - mu) / sigma\n",
        "\n",
        "\n",
        "#Calculamos la Y predicha de los 6 ejemplos de prediccion\n",
        "pred = predict(Theta1, Theta2, matriz_datos)\n",
        "\n",
        "print(\"las predicciones para los 6 ejemplos son:\")\n",
        "i = 0\n",
        "for i in range(len(matriz_datos)):\n",
        "    print(\"Para el ejemplo \",i+1,\" es:\", pred[i])\n",
        "    print(\"\")\n",
        "\n",
        "\n",
        "\n",
        "# print('Training Set Accuracy: %f' % (np.mean(pred == y[:]) * 100))"
      ]
    },
    {
      "cell_type": "markdown",
      "metadata": {
        "id": "5jgogKAyrU9h"
      },
      "source": [
        "## Validaciones\n",
        "Para hacer las validaciones correspondientes, primero se crea la funcion del **Mean squeared error**\n",
        "\n",
        "Siguiendo el consejo de 80/20, donde 80% es para la fase de entrenamiento, y 20% es para la fase de prueba.\n",
        "\n",
        "haciendo calculo del error cuadratico medio:"
      ]
    },
    {
      "cell_type": "code",
      "execution_count": 749,
      "metadata": {
        "id": "R3Z0tFDueRHX"
      },
      "outputs": [],
      "source": [
        "#Creamos la funcion:\n",
        "def mean_squared_error(y_pred, y_actual):\n",
        "    resta = y_pred - y_actual\n",
        "    err_cuadrado = np.sum(resta ** 2)\n",
        "    return err_cuadrado / len(y_pred)"
      ]
    },
    {
      "cell_type": "code",
      "execution_count": 750,
      "metadata": {
        "colab": {
          "base_uri": "https://localhost:8080/"
        },
        "id": "HuawPjOSdPh3",
        "outputId": "5cd9d071-a9f0-4a32-cc31-ab3df3977b30"
      },
      "outputs": [
        {
          "name": "stdout",
          "output_type": "stream",
          "text": [
            "[[2705.48521807]\n",
            " [2983.97361792]\n",
            " [2152.63004782]\n",
            " ...\n",
            " [9694.26883892]\n",
            " [ 898.32702443]\n",
            " [2004.16815176]]\n"
          ]
        }
      ],
      "source": [
        "X_test = (X_test - mu)/ sigma\n",
        "\n",
        "pred = predict(Theta1, Theta2, X_test)\n",
        "\n",
        "print(pred)"
      ]
    },
    {
      "cell_type": "code",
      "execution_count": 751,
      "metadata": {
        "colab": {
          "base_uri": "https://localhost:8080/"
        },
        "id": "NQptvnRdeWbu",
        "outputId": "9630c57e-b700-4a55-f839-518da97dbb0f"
      },
      "outputs": [
        {
          "name": "stdout",
          "output_type": "stream",
          "text": [
            "Error Cuadrático Medio (MSE) = 304088397323.0252\n",
            "Raíz del Error Cuadrático Medio (RMSE) = 551442.1069550504\n"
          ]
        }
      ],
      "source": [
        "mse = mean_squared_error(pred, y_test)\n",
        "#calculamos el error cuadratico medio:\n",
        "print('Error Cuadrático Medio (MSE) = ' + str(mse))\n",
        "print('Raíz del Error Cuadrático Medio (RMSE) = ' + str(np.sqrt(mse)))"
      ]
    },
    {
      "cell_type": "markdown",
      "metadata": {
        "id": "0fV5x8wVrp8I"
      },
      "source": [
        "## ¿Concluciones?\n",
        "\n",
        "Una vez hecha las predicciones del modelos, se puede determinar que el modelo no reliza las predicciones casi exactas, esto debido a la diferencia entre el valor esperado y el calculado.\n",
        "\n",
        "**¿Porque?**\n",
        "\n",
        "porque respecto al costo y el tiempo de entrenamiento que son algo elevados, pero el modelo nos da un resultado mas cercano al valor que nosotros queremos encontrar como en este caso el numero de veces compartidas"
      ]
    },
    {
      "cell_type": "markdown",
      "metadata": {
        "id": "G4BhLJzvryU_"
      },
      "source": [
        "### ¿Cuales son los mejores hiperparametros?\n",
        "\n",
        "Se eligio aquellos hiperparametros de acuerdo a la grafica de costo realizada para cada modelo, guiandonos en que la grafica de costo no este muy curveada pero tampoco que este demasiado recta. A continuacion se muestra los hiperparametros seleccionados:\n",
        "- **Numero de iteraciones.-** se eligio como una cantidad de **1000** iteraciones, esto para evitar el sobreajuste.\n",
        "\n",
        "- **Lambda.-** Para el hiperparametro **lambda** se uso el valor de **1000**, porque se siguio las recomendaciones que el hiperparametro lambda podria estar entre 10, 100 o 1000, se hizo la prueba con cada uno pero el que mejor resultados pero con mayor tiempo de entrenamiento y procesamiento nos dio fue el valor de un lamdda de *1000*, pero se hizo la prueba con un valor de lambda cercano a cero."
      ]
    }
  ],
  "metadata": {
    "colab": {
      "include_colab_link": true,
      "provenance": [],
      "toc_visible": true
    },
    "kernelspec": {
      "display_name": "Python 3",
      "language": "python",
      "name": "python3"
    },
    "language_info": {
      "codemirror_mode": {
        "name": "ipython",
        "version": 3
      },
      "file_extension": ".py",
      "mimetype": "text/x-python",
      "name": "python",
      "nbconvert_exporter": "python",
      "pygments_lexer": "ipython3",
      "version": "3.12.2"
    }
  },
  "nbformat": 4,
  "nbformat_minor": 0
}
