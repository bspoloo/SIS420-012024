{
  "cells": [
    {
      "cell_type": "markdown",
      "metadata": {
        "id": "view-in-github",
        "colab_type": "text"
      },
      "source": [
        "<a href=\"https://colab.research.google.com/github/bspoloo/SIS420-012024/blob/main/Laboratorios/Laboratorio%205/Laboratorio_5_(Usando_Pytorch).ipynb\" target=\"_parent\"><img src=\"https://colab.research.google.com/assets/colab-badge.svg\" alt=\"Open In Colab\"/></a>"
      ]
    },
    {
      "cell_type": "markdown",
      "metadata": {
        "id": "T2HWIl36XlPi"
      },
      "source": [
        "# Laboratorio 5(Redes neuronales usando Pytorch) Grupo 1\n",
        " <h3>Implementacion del modelo redes neuronales con el framework de Pytorch para realizar predicciones de clasificacion.<h3>\n",
        " <HR>\n",
        " <h3>\n",
        "  NOMBRE: POLO ORELLANA BRAYAN SIMON <br>\n",
        "  CARRERA: INGENIERIA DE SISTEMAS <BR>\n",
        "  FECHA: 02/05/2024 <BR>\n",
        "\n",
        "  * [Enlace de invitacion para ser colaborador](https://github.com/bspoloo/SIS420-012024/invitations)\n",
        "  \n",
        "  * [Enlace al git hub](https://github.com/bspoloo/SIS420-012024/tree/main/Laboratorios/Laboratorio%205)\n",
        "  \n",
        "  * [Enlace al Colab](https://colab.research.google.com/drive/1XkWP1OWgmBz80uPD4q0tmch999rMs9S7?authuser=2#scrollTo=x-bqRMgg7f2v&uniqifier=1)\n",
        " <h3>"
      ]
    },
    {
      "cell_type": "markdown",
      "source": [
        "Para el laboratorio hizo uso del dataset `csgo_roun_snapshots.csv` para entrenar el modelo de **Redes neuronales** usando la libreria de **pythorch** y si en una partida de counter strike el equipo ganador entre **terrorista** y **antiterrorista**.\n",
        "\n",
        "El enlace al dataset es [CS:GO Round Winner Classification](https://www.kaggle.com/datasets/christianlillelund/csgo-round-winner-classification).\n",
        "\n",
        "El archivo `csgo_roun_snapshots.csv` cuenta con un conjunto de datos consta de instantáneas de rondas de aproximadamente 700 demostraciones de torneos de alto nivel en 2019 y 2020. Se filtraron las rondas de calentamiento y los reinicios, y para las rondas en vivo restantes se registró una instantánea de la ronda cada 20 segundos hasta que se decide la ronda.."
      ],
      "metadata": {
        "id": "3yP2cBSE3TRO"
      }
    },
    {
      "cell_type": "markdown",
      "source": [
        "Importamos la librerias necesarias:"
      ],
      "metadata": {
        "id": "izqXgpih5MF2"
      }
    },
    {
      "cell_type": "code",
      "execution_count": null,
      "metadata": {
        "id": "RrkbuyYDXlPk"
      },
      "outputs": [],
      "source": [
        "# Used for directory and path manipulation\n",
        "import os\n",
        "# Scientific and vector computation for Python\n",
        "import numpy as np\n",
        "# Library for graphics\n",
        "from matplotlib import pyplot as plt\n",
        "#Para separa el 20% y 80%\n",
        "from sklearn.model_selection import train_test_split\n",
        "import pandas as pd\n",
        "\n",
        "import torch\n",
        "from torch import optim  # Para optimizadores como SGD, Adam, etc.\n",
        "from torch import nn  # Todos los módulos de redes neuronales\n",
        "from torch.utils.data import DataLoader  # Facilita la gestión de conjuntos de datos creando mini lotes, etc.\n",
        "\n",
        "import torchvision  # Paquete torch para cosas relacionadas con la visión\n",
        "import torchvision.transforms as transforms  # Transformaciones que podemos realizar en nuestro conjunto de datos para aumentar\n",
        "import torch.nn.functional as F  # Funciones sin parámetros, como (algunas) funciones de activación\n",
        "import torchvision.datasets as datasets  # Conjuntos de datos estándar\n",
        "from tqdm import tqdm  # ¡Para una barra de progreso agradable!\n",
        "from torch.utils.data import Dataset\n",
        "\n",
        "# Le dice a matplotlib que incruste gráficos en el cuaderno\n",
        "%matplotlib inline"
      ]
    },
    {
      "cell_type": "code",
      "source": [
        "from google.colab import drive\n",
        "drive.mount(\"/content/gdrive\")"
      ],
      "metadata": {
        "colab": {
          "base_uri": "https://localhost:8080/"
        },
        "id": "Yo6vKaJa5oLF",
        "outputId": "f489a895-de6e-46f1-9588-7b9d7048361b"
      },
      "execution_count": null,
      "outputs": [
        {
          "output_type": "stream",
          "name": "stdout",
          "text": [
            "Drive already mounted at /content/gdrive; to attempt to forcibly remount, call drive.mount(\"/content/gdrive\", force_remount=True).\n"
          ]
        }
      ]
    },
    {
      "cell_type": "markdown",
      "source": [
        "## Red neuronal (Pytorch)\n",
        "\n",
        "### Cargamos los datos del dataset\n",
        "cargamos los datos haciendo el uso de la libreria **Pandas** que  es una herramienta poderosa y versátil utilizada para manipulación y análisis de datos. Ofrece estructuras de datos flexibles y eficientes para trabajar con datos tabulares, como hojas de cálculo en Excel o tablas SQL. Algunas de las funcionalidades clave de pandas incluyen:"
      ],
      "metadata": {
        "id": "50iXi-kG50pG"
      }
    },
    {
      "cell_type": "code",
      "source": [
        "dataset = pd.read_csv('/content/gdrive/MyDrive/Datasets/csgo_round_snapshots.csv', delimiter=',')\n",
        "\n",
        "# dataset = pd.read_csv('csgo_round_snapshots.csv', delimiter=',')\n",
        "\n",
        "#para usarlo a travez de google colab\n",
        "# dataset = dataset.sample(n=20000, random_state=42)\n",
        "\n",
        "dataset"
      ],
      "metadata": {
        "colab": {
          "base_uri": "https://localhost:8080/",
          "height": 444
        },
        "id": "XXzmvw125_0t",
        "outputId": "04fdef6c-b307-413b-f20a-8457738895aa"
      },
      "execution_count": null,
      "outputs": [
        {
          "output_type": "execute_result",
          "data": {
            "text/plain": [
              "        time_left  ct_score  t_score       map  bomb_planted  ct_health  \\\n",
              "0          175.00       0.0      0.0  de_dust2         False      500.0   \n",
              "1          156.03       0.0      0.0  de_dust2         False      500.0   \n",
              "2           96.03       0.0      0.0  de_dust2         False      391.0   \n",
              "3           76.03       0.0      0.0  de_dust2         False      391.0   \n",
              "4          174.97       1.0      0.0  de_dust2         False      500.0   \n",
              "...           ...       ...      ...       ...           ...        ...   \n",
              "122405      15.41      11.0     14.0  de_train          True      200.0   \n",
              "122406     174.93      11.0     15.0  de_train         False      500.0   \n",
              "122407     114.93      11.0     15.0  de_train         False      500.0   \n",
              "122408      94.93      11.0     15.0  de_train         False      500.0   \n",
              "122409      74.93      11.0     15.0  de_train         False      375.0   \n",
              "\n",
              "        t_health  ct_armor  t_armor  ct_money  ...  t_grenade_flashbang  \\\n",
              "0          500.0       0.0      0.0    4000.0  ...                  0.0   \n",
              "1          500.0     400.0    300.0     600.0  ...                  0.0   \n",
              "2          400.0     294.0    200.0     750.0  ...                  0.0   \n",
              "3          400.0     294.0    200.0     750.0  ...                  0.0   \n",
              "4          500.0     192.0      0.0   18350.0  ...                  0.0   \n",
              "...          ...       ...      ...       ...  ...                  ...   \n",
              "122405     242.0     195.0    359.0     100.0  ...                  2.0   \n",
              "122406     500.0      95.0    175.0   11500.0  ...                  2.0   \n",
              "122407     500.0     495.0    475.0    1200.0  ...                  4.0   \n",
              "122408     500.0     495.0    475.0    1200.0  ...                  5.0   \n",
              "122409     479.0     395.0    466.0    1100.0  ...                  3.0   \n",
              "\n",
              "        ct_grenade_smokegrenade  t_grenade_smokegrenade  \\\n",
              "0                           0.0                     0.0   \n",
              "1                           0.0                     2.0   \n",
              "2                           0.0                     2.0   \n",
              "3                           0.0                     0.0   \n",
              "4                           0.0                     0.0   \n",
              "...                         ...                     ...   \n",
              "122405                      1.0                     1.0   \n",
              "122406                      1.0                     0.0   \n",
              "122407                      3.0                     5.0   \n",
              "122408                      0.0                     3.0   \n",
              "122409                      0.0                     2.0   \n",
              "\n",
              "        ct_grenade_incendiarygrenade  t_grenade_incendiarygrenade  \\\n",
              "0                                0.0                          0.0   \n",
              "1                                0.0                          0.0   \n",
              "2                                0.0                          0.0   \n",
              "3                                0.0                          0.0   \n",
              "4                                0.0                          0.0   \n",
              "...                              ...                          ...   \n",
              "122405                           0.0                          0.0   \n",
              "122406                           0.0                          0.0   \n",
              "122407                           1.0                          0.0   \n",
              "122408                           0.0                          0.0   \n",
              "122409                           0.0                          0.0   \n",
              "\n",
              "        ct_grenade_molotovgrenade  t_grenade_molotovgrenade  \\\n",
              "0                             0.0                       0.0   \n",
              "1                             0.0                       0.0   \n",
              "2                             0.0                       0.0   \n",
              "3                             0.0                       0.0   \n",
              "4                             0.0                       0.0   \n",
              "...                           ...                       ...   \n",
              "122405                        0.0                       0.0   \n",
              "122406                        0.0                       0.0   \n",
              "122407                        0.0                       5.0   \n",
              "122408                        0.0                       4.0   \n",
              "122409                        0.0                       3.0   \n",
              "\n",
              "        ct_grenade_decoygrenade  t_grenade_decoygrenade  round_winner  \n",
              "0                           0.0                     0.0            CT  \n",
              "1                           0.0                     0.0            CT  \n",
              "2                           0.0                     0.0            CT  \n",
              "3                           0.0                     0.0            CT  \n",
              "4                           0.0                     0.0            CT  \n",
              "...                         ...                     ...           ...  \n",
              "122405                      0.0                     0.0             T  \n",
              "122406                      0.0                     0.0             T  \n",
              "122407                      0.0                     0.0             T  \n",
              "122408                      0.0                     0.0             T  \n",
              "122409                      0.0                     0.0             T  \n",
              "\n",
              "[122410 rows x 97 columns]"
            ],
            "text/html": [
              "\n",
              "  <div id=\"df-e25ee7b2-06b8-4ac4-ac27-2621c63ff335\" class=\"colab-df-container\">\n",
              "    <div>\n",
              "<style scoped>\n",
              "    .dataframe tbody tr th:only-of-type {\n",
              "        vertical-align: middle;\n",
              "    }\n",
              "\n",
              "    .dataframe tbody tr th {\n",
              "        vertical-align: top;\n",
              "    }\n",
              "\n",
              "    .dataframe thead th {\n",
              "        text-align: right;\n",
              "    }\n",
              "</style>\n",
              "<table border=\"1\" class=\"dataframe\">\n",
              "  <thead>\n",
              "    <tr style=\"text-align: right;\">\n",
              "      <th></th>\n",
              "      <th>time_left</th>\n",
              "      <th>ct_score</th>\n",
              "      <th>t_score</th>\n",
              "      <th>map</th>\n",
              "      <th>bomb_planted</th>\n",
              "      <th>ct_health</th>\n",
              "      <th>t_health</th>\n",
              "      <th>ct_armor</th>\n",
              "      <th>t_armor</th>\n",
              "      <th>ct_money</th>\n",
              "      <th>...</th>\n",
              "      <th>t_grenade_flashbang</th>\n",
              "      <th>ct_grenade_smokegrenade</th>\n",
              "      <th>t_grenade_smokegrenade</th>\n",
              "      <th>ct_grenade_incendiarygrenade</th>\n",
              "      <th>t_grenade_incendiarygrenade</th>\n",
              "      <th>ct_grenade_molotovgrenade</th>\n",
              "      <th>t_grenade_molotovgrenade</th>\n",
              "      <th>ct_grenade_decoygrenade</th>\n",
              "      <th>t_grenade_decoygrenade</th>\n",
              "      <th>round_winner</th>\n",
              "    </tr>\n",
              "  </thead>\n",
              "  <tbody>\n",
              "    <tr>\n",
              "      <th>0</th>\n",
              "      <td>175.00</td>\n",
              "      <td>0.0</td>\n",
              "      <td>0.0</td>\n",
              "      <td>de_dust2</td>\n",
              "      <td>False</td>\n",
              "      <td>500.0</td>\n",
              "      <td>500.0</td>\n",
              "      <td>0.0</td>\n",
              "      <td>0.0</td>\n",
              "      <td>4000.0</td>\n",
              "      <td>...</td>\n",
              "      <td>0.0</td>\n",
              "      <td>0.0</td>\n",
              "      <td>0.0</td>\n",
              "      <td>0.0</td>\n",
              "      <td>0.0</td>\n",
              "      <td>0.0</td>\n",
              "      <td>0.0</td>\n",
              "      <td>0.0</td>\n",
              "      <td>0.0</td>\n",
              "      <td>CT</td>\n",
              "    </tr>\n",
              "    <tr>\n",
              "      <th>1</th>\n",
              "      <td>156.03</td>\n",
              "      <td>0.0</td>\n",
              "      <td>0.0</td>\n",
              "      <td>de_dust2</td>\n",
              "      <td>False</td>\n",
              "      <td>500.0</td>\n",
              "      <td>500.0</td>\n",
              "      <td>400.0</td>\n",
              "      <td>300.0</td>\n",
              "      <td>600.0</td>\n",
              "      <td>...</td>\n",
              "      <td>0.0</td>\n",
              "      <td>0.0</td>\n",
              "      <td>2.0</td>\n",
              "      <td>0.0</td>\n",
              "      <td>0.0</td>\n",
              "      <td>0.0</td>\n",
              "      <td>0.0</td>\n",
              "      <td>0.0</td>\n",
              "      <td>0.0</td>\n",
              "      <td>CT</td>\n",
              "    </tr>\n",
              "    <tr>\n",
              "      <th>2</th>\n",
              "      <td>96.03</td>\n",
              "      <td>0.0</td>\n",
              "      <td>0.0</td>\n",
              "      <td>de_dust2</td>\n",
              "      <td>False</td>\n",
              "      <td>391.0</td>\n",
              "      <td>400.0</td>\n",
              "      <td>294.0</td>\n",
              "      <td>200.0</td>\n",
              "      <td>750.0</td>\n",
              "      <td>...</td>\n",
              "      <td>0.0</td>\n",
              "      <td>0.0</td>\n",
              "      <td>2.0</td>\n",
              "      <td>0.0</td>\n",
              "      <td>0.0</td>\n",
              "      <td>0.0</td>\n",
              "      <td>0.0</td>\n",
              "      <td>0.0</td>\n",
              "      <td>0.0</td>\n",
              "      <td>CT</td>\n",
              "    </tr>\n",
              "    <tr>\n",
              "      <th>3</th>\n",
              "      <td>76.03</td>\n",
              "      <td>0.0</td>\n",
              "      <td>0.0</td>\n",
              "      <td>de_dust2</td>\n",
              "      <td>False</td>\n",
              "      <td>391.0</td>\n",
              "      <td>400.0</td>\n",
              "      <td>294.0</td>\n",
              "      <td>200.0</td>\n",
              "      <td>750.0</td>\n",
              "      <td>...</td>\n",
              "      <td>0.0</td>\n",
              "      <td>0.0</td>\n",
              "      <td>0.0</td>\n",
              "      <td>0.0</td>\n",
              "      <td>0.0</td>\n",
              "      <td>0.0</td>\n",
              "      <td>0.0</td>\n",
              "      <td>0.0</td>\n",
              "      <td>0.0</td>\n",
              "      <td>CT</td>\n",
              "    </tr>\n",
              "    <tr>\n",
              "      <th>4</th>\n",
              "      <td>174.97</td>\n",
              "      <td>1.0</td>\n",
              "      <td>0.0</td>\n",
              "      <td>de_dust2</td>\n",
              "      <td>False</td>\n",
              "      <td>500.0</td>\n",
              "      <td>500.0</td>\n",
              "      <td>192.0</td>\n",
              "      <td>0.0</td>\n",
              "      <td>18350.0</td>\n",
              "      <td>...</td>\n",
              "      <td>0.0</td>\n",
              "      <td>0.0</td>\n",
              "      <td>0.0</td>\n",
              "      <td>0.0</td>\n",
              "      <td>0.0</td>\n",
              "      <td>0.0</td>\n",
              "      <td>0.0</td>\n",
              "      <td>0.0</td>\n",
              "      <td>0.0</td>\n",
              "      <td>CT</td>\n",
              "    </tr>\n",
              "    <tr>\n",
              "      <th>...</th>\n",
              "      <td>...</td>\n",
              "      <td>...</td>\n",
              "      <td>...</td>\n",
              "      <td>...</td>\n",
              "      <td>...</td>\n",
              "      <td>...</td>\n",
              "      <td>...</td>\n",
              "      <td>...</td>\n",
              "      <td>...</td>\n",
              "      <td>...</td>\n",
              "      <td>...</td>\n",
              "      <td>...</td>\n",
              "      <td>...</td>\n",
              "      <td>...</td>\n",
              "      <td>...</td>\n",
              "      <td>...</td>\n",
              "      <td>...</td>\n",
              "      <td>...</td>\n",
              "      <td>...</td>\n",
              "      <td>...</td>\n",
              "      <td>...</td>\n",
              "    </tr>\n",
              "    <tr>\n",
              "      <th>122405</th>\n",
              "      <td>15.41</td>\n",
              "      <td>11.0</td>\n",
              "      <td>14.0</td>\n",
              "      <td>de_train</td>\n",
              "      <td>True</td>\n",
              "      <td>200.0</td>\n",
              "      <td>242.0</td>\n",
              "      <td>195.0</td>\n",
              "      <td>359.0</td>\n",
              "      <td>100.0</td>\n",
              "      <td>...</td>\n",
              "      <td>2.0</td>\n",
              "      <td>1.0</td>\n",
              "      <td>1.0</td>\n",
              "      <td>0.0</td>\n",
              "      <td>0.0</td>\n",
              "      <td>0.0</td>\n",
              "      <td>0.0</td>\n",
              "      <td>0.0</td>\n",
              "      <td>0.0</td>\n",
              "      <td>T</td>\n",
              "    </tr>\n",
              "    <tr>\n",
              "      <th>122406</th>\n",
              "      <td>174.93</td>\n",
              "      <td>11.0</td>\n",
              "      <td>15.0</td>\n",
              "      <td>de_train</td>\n",
              "      <td>False</td>\n",
              "      <td>500.0</td>\n",
              "      <td>500.0</td>\n",
              "      <td>95.0</td>\n",
              "      <td>175.0</td>\n",
              "      <td>11500.0</td>\n",
              "      <td>...</td>\n",
              "      <td>2.0</td>\n",
              "      <td>1.0</td>\n",
              "      <td>0.0</td>\n",
              "      <td>0.0</td>\n",
              "      <td>0.0</td>\n",
              "      <td>0.0</td>\n",
              "      <td>0.0</td>\n",
              "      <td>0.0</td>\n",
              "      <td>0.0</td>\n",
              "      <td>T</td>\n",
              "    </tr>\n",
              "    <tr>\n",
              "      <th>122407</th>\n",
              "      <td>114.93</td>\n",
              "      <td>11.0</td>\n",
              "      <td>15.0</td>\n",
              "      <td>de_train</td>\n",
              "      <td>False</td>\n",
              "      <td>500.0</td>\n",
              "      <td>500.0</td>\n",
              "      <td>495.0</td>\n",
              "      <td>475.0</td>\n",
              "      <td>1200.0</td>\n",
              "      <td>...</td>\n",
              "      <td>4.0</td>\n",
              "      <td>3.0</td>\n",
              "      <td>5.0</td>\n",
              "      <td>1.0</td>\n",
              "      <td>0.0</td>\n",
              "      <td>0.0</td>\n",
              "      <td>5.0</td>\n",
              "      <td>0.0</td>\n",
              "      <td>0.0</td>\n",
              "      <td>T</td>\n",
              "    </tr>\n",
              "    <tr>\n",
              "      <th>122408</th>\n",
              "      <td>94.93</td>\n",
              "      <td>11.0</td>\n",
              "      <td>15.0</td>\n",
              "      <td>de_train</td>\n",
              "      <td>False</td>\n",
              "      <td>500.0</td>\n",
              "      <td>500.0</td>\n",
              "      <td>495.0</td>\n",
              "      <td>475.0</td>\n",
              "      <td>1200.0</td>\n",
              "      <td>...</td>\n",
              "      <td>5.0</td>\n",
              "      <td>0.0</td>\n",
              "      <td>3.0</td>\n",
              "      <td>0.0</td>\n",
              "      <td>0.0</td>\n",
              "      <td>0.0</td>\n",
              "      <td>4.0</td>\n",
              "      <td>0.0</td>\n",
              "      <td>0.0</td>\n",
              "      <td>T</td>\n",
              "    </tr>\n",
              "    <tr>\n",
              "      <th>122409</th>\n",
              "      <td>74.93</td>\n",
              "      <td>11.0</td>\n",
              "      <td>15.0</td>\n",
              "      <td>de_train</td>\n",
              "      <td>False</td>\n",
              "      <td>375.0</td>\n",
              "      <td>479.0</td>\n",
              "      <td>395.0</td>\n",
              "      <td>466.0</td>\n",
              "      <td>1100.0</td>\n",
              "      <td>...</td>\n",
              "      <td>3.0</td>\n",
              "      <td>0.0</td>\n",
              "      <td>2.0</td>\n",
              "      <td>0.0</td>\n",
              "      <td>0.0</td>\n",
              "      <td>0.0</td>\n",
              "      <td>3.0</td>\n",
              "      <td>0.0</td>\n",
              "      <td>0.0</td>\n",
              "      <td>T</td>\n",
              "    </tr>\n",
              "  </tbody>\n",
              "</table>\n",
              "<p>122410 rows × 97 columns</p>\n",
              "</div>\n",
              "    <div class=\"colab-df-buttons\">\n",
              "\n",
              "  <div class=\"colab-df-container\">\n",
              "    <button class=\"colab-df-convert\" onclick=\"convertToInteractive('df-e25ee7b2-06b8-4ac4-ac27-2621c63ff335')\"\n",
              "            title=\"Convert this dataframe to an interactive table.\"\n",
              "            style=\"display:none;\">\n",
              "\n",
              "  <svg xmlns=\"http://www.w3.org/2000/svg\" height=\"24px\" viewBox=\"0 -960 960 960\">\n",
              "    <path d=\"M120-120v-720h720v720H120Zm60-500h600v-160H180v160Zm220 220h160v-160H400v160Zm0 220h160v-160H400v160ZM180-400h160v-160H180v160Zm440 0h160v-160H620v160ZM180-180h160v-160H180v160Zm440 0h160v-160H620v160Z\"/>\n",
              "  </svg>\n",
              "    </button>\n",
              "\n",
              "  <style>\n",
              "    .colab-df-container {\n",
              "      display:flex;\n",
              "      gap: 12px;\n",
              "    }\n",
              "\n",
              "    .colab-df-convert {\n",
              "      background-color: #E8F0FE;\n",
              "      border: none;\n",
              "      border-radius: 50%;\n",
              "      cursor: pointer;\n",
              "      display: none;\n",
              "      fill: #1967D2;\n",
              "      height: 32px;\n",
              "      padding: 0 0 0 0;\n",
              "      width: 32px;\n",
              "    }\n",
              "\n",
              "    .colab-df-convert:hover {\n",
              "      background-color: #E2EBFA;\n",
              "      box-shadow: 0px 1px 2px rgba(60, 64, 67, 0.3), 0px 1px 3px 1px rgba(60, 64, 67, 0.15);\n",
              "      fill: #174EA6;\n",
              "    }\n",
              "\n",
              "    .colab-df-buttons div {\n",
              "      margin-bottom: 4px;\n",
              "    }\n",
              "\n",
              "    [theme=dark] .colab-df-convert {\n",
              "      background-color: #3B4455;\n",
              "      fill: #D2E3FC;\n",
              "    }\n",
              "\n",
              "    [theme=dark] .colab-df-convert:hover {\n",
              "      background-color: #434B5C;\n",
              "      box-shadow: 0px 1px 3px 1px rgba(0, 0, 0, 0.15);\n",
              "      filter: drop-shadow(0px 1px 2px rgba(0, 0, 0, 0.3));\n",
              "      fill: #FFFFFF;\n",
              "    }\n",
              "  </style>\n",
              "\n",
              "    <script>\n",
              "      const buttonEl =\n",
              "        document.querySelector('#df-e25ee7b2-06b8-4ac4-ac27-2621c63ff335 button.colab-df-convert');\n",
              "      buttonEl.style.display =\n",
              "        google.colab.kernel.accessAllowed ? 'block' : 'none';\n",
              "\n",
              "      async function convertToInteractive(key) {\n",
              "        const element = document.querySelector('#df-e25ee7b2-06b8-4ac4-ac27-2621c63ff335');\n",
              "        const dataTable =\n",
              "          await google.colab.kernel.invokeFunction('convertToInteractive',\n",
              "                                                    [key], {});\n",
              "        if (!dataTable) return;\n",
              "\n",
              "        const docLinkHtml = 'Like what you see? Visit the ' +\n",
              "          '<a target=\"_blank\" href=https://colab.research.google.com/notebooks/data_table.ipynb>data table notebook</a>'\n",
              "          + ' to learn more about interactive tables.';\n",
              "        element.innerHTML = '';\n",
              "        dataTable['output_type'] = 'display_data';\n",
              "        await google.colab.output.renderOutput(dataTable, element);\n",
              "        const docLink = document.createElement('div');\n",
              "        docLink.innerHTML = docLinkHtml;\n",
              "        element.appendChild(docLink);\n",
              "      }\n",
              "    </script>\n",
              "  </div>\n",
              "\n",
              "\n",
              "<div id=\"df-de637729-d4de-4226-92b2-f4ee2619a106\">\n",
              "  <button class=\"colab-df-quickchart\" onclick=\"quickchart('df-de637729-d4de-4226-92b2-f4ee2619a106')\"\n",
              "            title=\"Suggest charts\"\n",
              "            style=\"display:none;\">\n",
              "\n",
              "<svg xmlns=\"http://www.w3.org/2000/svg\" height=\"24px\"viewBox=\"0 0 24 24\"\n",
              "     width=\"24px\">\n",
              "    <g>\n",
              "        <path d=\"M19 3H5c-1.1 0-2 .9-2 2v14c0 1.1.9 2 2 2h14c1.1 0 2-.9 2-2V5c0-1.1-.9-2-2-2zM9 17H7v-7h2v7zm4 0h-2V7h2v10zm4 0h-2v-4h2v4z\"/>\n",
              "    </g>\n",
              "</svg>\n",
              "  </button>\n",
              "\n",
              "<style>\n",
              "  .colab-df-quickchart {\n",
              "      --bg-color: #E8F0FE;\n",
              "      --fill-color: #1967D2;\n",
              "      --hover-bg-color: #E2EBFA;\n",
              "      --hover-fill-color: #174EA6;\n",
              "      --disabled-fill-color: #AAA;\n",
              "      --disabled-bg-color: #DDD;\n",
              "  }\n",
              "\n",
              "  [theme=dark] .colab-df-quickchart {\n",
              "      --bg-color: #3B4455;\n",
              "      --fill-color: #D2E3FC;\n",
              "      --hover-bg-color: #434B5C;\n",
              "      --hover-fill-color: #FFFFFF;\n",
              "      --disabled-bg-color: #3B4455;\n",
              "      --disabled-fill-color: #666;\n",
              "  }\n",
              "\n",
              "  .colab-df-quickchart {\n",
              "    background-color: var(--bg-color);\n",
              "    border: none;\n",
              "    border-radius: 50%;\n",
              "    cursor: pointer;\n",
              "    display: none;\n",
              "    fill: var(--fill-color);\n",
              "    height: 32px;\n",
              "    padding: 0;\n",
              "    width: 32px;\n",
              "  }\n",
              "\n",
              "  .colab-df-quickchart:hover {\n",
              "    background-color: var(--hover-bg-color);\n",
              "    box-shadow: 0 1px 2px rgba(60, 64, 67, 0.3), 0 1px 3px 1px rgba(60, 64, 67, 0.15);\n",
              "    fill: var(--button-hover-fill-color);\n",
              "  }\n",
              "\n",
              "  .colab-df-quickchart-complete:disabled,\n",
              "  .colab-df-quickchart-complete:disabled:hover {\n",
              "    background-color: var(--disabled-bg-color);\n",
              "    fill: var(--disabled-fill-color);\n",
              "    box-shadow: none;\n",
              "  }\n",
              "\n",
              "  .colab-df-spinner {\n",
              "    border: 2px solid var(--fill-color);\n",
              "    border-color: transparent;\n",
              "    border-bottom-color: var(--fill-color);\n",
              "    animation:\n",
              "      spin 1s steps(1) infinite;\n",
              "  }\n",
              "\n",
              "  @keyframes spin {\n",
              "    0% {\n",
              "      border-color: transparent;\n",
              "      border-bottom-color: var(--fill-color);\n",
              "      border-left-color: var(--fill-color);\n",
              "    }\n",
              "    20% {\n",
              "      border-color: transparent;\n",
              "      border-left-color: var(--fill-color);\n",
              "      border-top-color: var(--fill-color);\n",
              "    }\n",
              "    30% {\n",
              "      border-color: transparent;\n",
              "      border-left-color: var(--fill-color);\n",
              "      border-top-color: var(--fill-color);\n",
              "      border-right-color: var(--fill-color);\n",
              "    }\n",
              "    40% {\n",
              "      border-color: transparent;\n",
              "      border-right-color: var(--fill-color);\n",
              "      border-top-color: var(--fill-color);\n",
              "    }\n",
              "    60% {\n",
              "      border-color: transparent;\n",
              "      border-right-color: var(--fill-color);\n",
              "    }\n",
              "    80% {\n",
              "      border-color: transparent;\n",
              "      border-right-color: var(--fill-color);\n",
              "      border-bottom-color: var(--fill-color);\n",
              "    }\n",
              "    90% {\n",
              "      border-color: transparent;\n",
              "      border-bottom-color: var(--fill-color);\n",
              "    }\n",
              "  }\n",
              "</style>\n",
              "\n",
              "  <script>\n",
              "    async function quickchart(key) {\n",
              "      const quickchartButtonEl =\n",
              "        document.querySelector('#' + key + ' button');\n",
              "      quickchartButtonEl.disabled = true;  // To prevent multiple clicks.\n",
              "      quickchartButtonEl.classList.add('colab-df-spinner');\n",
              "      try {\n",
              "        const charts = await google.colab.kernel.invokeFunction(\n",
              "            'suggestCharts', [key], {});\n",
              "      } catch (error) {\n",
              "        console.error('Error during call to suggestCharts:', error);\n",
              "      }\n",
              "      quickchartButtonEl.classList.remove('colab-df-spinner');\n",
              "      quickchartButtonEl.classList.add('colab-df-quickchart-complete');\n",
              "    }\n",
              "    (() => {\n",
              "      let quickchartButtonEl =\n",
              "        document.querySelector('#df-de637729-d4de-4226-92b2-f4ee2619a106 button');\n",
              "      quickchartButtonEl.style.display =\n",
              "        google.colab.kernel.accessAllowed ? 'block' : 'none';\n",
              "    })();\n",
              "  </script>\n",
              "</div>\n",
              "    </div>\n",
              "  </div>\n"
            ],
            "application/vnd.google.colaboratory.intrinsic+json": {
              "type": "dataframe",
              "variable_name": "dataset"
            }
          },
          "metadata": {},
          "execution_count": 442
        }
      ]
    },
    {
      "cell_type": "markdown",
      "source": [
        "### Analisis del dataset\n",
        "\n",
        "para tener una mejor vista del los tipos de datos del dataset, hacemos un `info()`:"
      ],
      "metadata": {
        "id": "4x8XJFke6ksX"
      }
    },
    {
      "cell_type": "code",
      "source": [
        "dataset.info()"
      ],
      "metadata": {
        "colab": {
          "base_uri": "https://localhost:8080/"
        },
        "id": "NJxPmbg56mlm",
        "outputId": "b44bd541-2945-4612-b527-9f02f021bd1a"
      },
      "execution_count": null,
      "outputs": [
        {
          "output_type": "stream",
          "name": "stdout",
          "text": [
            "<class 'pandas.core.frame.DataFrame'>\n",
            "RangeIndex: 122410 entries, 0 to 122409\n",
            "Data columns (total 97 columns):\n",
            " #   Column                        Non-Null Count   Dtype  \n",
            "---  ------                        --------------   -----  \n",
            " 0   time_left                     122410 non-null  float64\n",
            " 1   ct_score                      122410 non-null  float64\n",
            " 2   t_score                       122410 non-null  float64\n",
            " 3   map                           122410 non-null  object \n",
            " 4   bomb_planted                  122410 non-null  bool   \n",
            " 5   ct_health                     122410 non-null  float64\n",
            " 6   t_health                      122410 non-null  float64\n",
            " 7   ct_armor                      122410 non-null  float64\n",
            " 8   t_armor                       122410 non-null  float64\n",
            " 9   ct_money                      122410 non-null  float64\n",
            " 10  t_money                       122410 non-null  float64\n",
            " 11  ct_helmets                    122410 non-null  float64\n",
            " 12  t_helmets                     122410 non-null  float64\n",
            " 13  ct_defuse_kits                122410 non-null  float64\n",
            " 14  ct_players_alive              122410 non-null  float64\n",
            " 15  t_players_alive               122410 non-null  float64\n",
            " 16  ct_weapon_ak47                122410 non-null  float64\n",
            " 17  t_weapon_ak47                 122410 non-null  float64\n",
            " 18  ct_weapon_aug                 122410 non-null  float64\n",
            " 19  t_weapon_aug                  122410 non-null  float64\n",
            " 20  ct_weapon_awp                 122410 non-null  float64\n",
            " 21  t_weapon_awp                  122410 non-null  float64\n",
            " 22  ct_weapon_bizon               122410 non-null  float64\n",
            " 23  t_weapon_bizon                122410 non-null  float64\n",
            " 24  ct_weapon_cz75auto            122410 non-null  float64\n",
            " 25  t_weapon_cz75auto             122410 non-null  float64\n",
            " 26  ct_weapon_elite               122410 non-null  float64\n",
            " 27  t_weapon_elite                122410 non-null  float64\n",
            " 28  ct_weapon_famas               122410 non-null  float64\n",
            " 29  t_weapon_famas                122410 non-null  float64\n",
            " 30  ct_weapon_g3sg1               122410 non-null  float64\n",
            " 31  t_weapon_g3sg1                122410 non-null  float64\n",
            " 32  ct_weapon_galilar             122410 non-null  float64\n",
            " 33  t_weapon_galilar              122410 non-null  float64\n",
            " 34  ct_weapon_glock               122410 non-null  float64\n",
            " 35  t_weapon_glock                122410 non-null  float64\n",
            " 36  ct_weapon_m249                122410 non-null  float64\n",
            " 37  t_weapon_m249                 122410 non-null  float64\n",
            " 38  ct_weapon_m4a1s               122410 non-null  float64\n",
            " 39  t_weapon_m4a1s                122410 non-null  float64\n",
            " 40  ct_weapon_m4a4                122410 non-null  float64\n",
            " 41  t_weapon_m4a4                 122410 non-null  float64\n",
            " 42  ct_weapon_mac10               122410 non-null  float64\n",
            " 43  t_weapon_mac10                122410 non-null  float64\n",
            " 44  ct_weapon_mag7                122410 non-null  float64\n",
            " 45  t_weapon_mag7                 122410 non-null  float64\n",
            " 46  ct_weapon_mp5sd               122410 non-null  float64\n",
            " 47  t_weapon_mp5sd                122410 non-null  float64\n",
            " 48  ct_weapon_mp7                 122410 non-null  float64\n",
            " 49  t_weapon_mp7                  122410 non-null  float64\n",
            " 50  ct_weapon_mp9                 122410 non-null  float64\n",
            " 51  t_weapon_mp9                  122410 non-null  float64\n",
            " 52  ct_weapon_negev               122410 non-null  float64\n",
            " 53  t_weapon_negev                122410 non-null  float64\n",
            " 54  ct_weapon_nova                122410 non-null  float64\n",
            " 55  t_weapon_nova                 122410 non-null  float64\n",
            " 56  ct_weapon_p90                 122410 non-null  float64\n",
            " 57  t_weapon_p90                  122410 non-null  float64\n",
            " 58  ct_weapon_r8revolver          122410 non-null  float64\n",
            " 59  t_weapon_r8revolver           122410 non-null  float64\n",
            " 60  ct_weapon_sawedoff            122410 non-null  float64\n",
            " 61  t_weapon_sawedoff             122410 non-null  float64\n",
            " 62  ct_weapon_scar20              122410 non-null  float64\n",
            " 63  t_weapon_scar20               122410 non-null  float64\n",
            " 64  ct_weapon_sg553               122410 non-null  float64\n",
            " 65  t_weapon_sg553                122410 non-null  float64\n",
            " 66  ct_weapon_ssg08               122410 non-null  float64\n",
            " 67  t_weapon_ssg08                122410 non-null  float64\n",
            " 68  ct_weapon_ump45               122410 non-null  float64\n",
            " 69  t_weapon_ump45                122410 non-null  float64\n",
            " 70  ct_weapon_xm1014              122410 non-null  float64\n",
            " 71  t_weapon_xm1014               122410 non-null  float64\n",
            " 72  ct_weapon_deagle              122410 non-null  float64\n",
            " 73  t_weapon_deagle               122410 non-null  float64\n",
            " 74  ct_weapon_fiveseven           122410 non-null  float64\n",
            " 75  t_weapon_fiveseven            122410 non-null  float64\n",
            " 76  ct_weapon_usps                122410 non-null  float64\n",
            " 77  t_weapon_usps                 122410 non-null  float64\n",
            " 78  ct_weapon_p250                122410 non-null  float64\n",
            " 79  t_weapon_p250                 122410 non-null  float64\n",
            " 80  ct_weapon_p2000               122410 non-null  float64\n",
            " 81  t_weapon_p2000                122410 non-null  float64\n",
            " 82  ct_weapon_tec9                122410 non-null  float64\n",
            " 83  t_weapon_tec9                 122410 non-null  float64\n",
            " 84  ct_grenade_hegrenade          122410 non-null  float64\n",
            " 85  t_grenade_hegrenade           122410 non-null  float64\n",
            " 86  ct_grenade_flashbang          122410 non-null  float64\n",
            " 87  t_grenade_flashbang           122410 non-null  float64\n",
            " 88  ct_grenade_smokegrenade       122410 non-null  float64\n",
            " 89  t_grenade_smokegrenade        122410 non-null  float64\n",
            " 90  ct_grenade_incendiarygrenade  122410 non-null  float64\n",
            " 91  t_grenade_incendiarygrenade   122410 non-null  float64\n",
            " 92  ct_grenade_molotovgrenade     122410 non-null  float64\n",
            " 93  t_grenade_molotovgrenade      122410 non-null  float64\n",
            " 94  ct_grenade_decoygrenade       122410 non-null  float64\n",
            " 95  t_grenade_decoygrenade        122410 non-null  float64\n",
            " 96  round_winner                  122410 non-null  object \n",
            "dtypes: bool(1), float64(94), object(2)\n",
            "memory usage: 89.8+ MB\n"
          ]
        }
      ]
    },
    {
      "cell_type": "markdown",
      "source": [
        "Se puede observar que hay columnas con datos que no son numeros, por lo tanto se procede a tratarlos:"
      ],
      "metadata": {
        "id": "Bh4hiPGO6zZW"
      }
    },
    {
      "cell_type": "code",
      "source": [
        "#para contar cuantas clases contiene nuestra columna y\n",
        "class_counts1 = dataset[\"map\"].value_counts()\n",
        "class_counts2 = dataset[\"bomb_planted\"].value_counts()\n",
        "class_counts3 = dataset[\"round_winner\"].value_counts()\n",
        "\n",
        "#mostramos la cantidad de clases tiene, y en que cantidad\n",
        "class_counts1"
      ],
      "metadata": {
        "colab": {
          "base_uri": "https://localhost:8080/"
        },
        "id": "MCQKuVT66rTe",
        "outputId": "c1099453-f4cd-4a03-f407-e752e8b099b8"
      },
      "execution_count": null,
      "outputs": [
        {
          "output_type": "execute_result",
          "data": {
            "text/plain": [
              "map\n",
              "de_inferno     23811\n",
              "de_dust2       22144\n",
              "de_nuke        19025\n",
              "de_mirage      18576\n",
              "de_overpass    14081\n",
              "de_train       13491\n",
              "de_vertigo     11137\n",
              "de_cache         145\n",
              "Name: count, dtype: int64"
            ]
          },
          "metadata": {},
          "execution_count": 444
        }
      ]
    },
    {
      "cell_type": "code",
      "source": [
        "class_counts2"
      ],
      "metadata": {
        "colab": {
          "base_uri": "https://localhost:8080/"
        },
        "id": "f41-YvbT69PW",
        "outputId": "199216b0-9d4b-40fd-be03-9e7dba6b97d8"
      },
      "execution_count": null,
      "outputs": [
        {
          "output_type": "execute_result",
          "data": {
            "text/plain": [
              "bomb_planted\n",
              "False    108726\n",
              "True      13684\n",
              "Name: count, dtype: int64"
            ]
          },
          "metadata": {},
          "execution_count": 445
        }
      ]
    },
    {
      "cell_type": "code",
      "source": [
        "class_counts3"
      ],
      "metadata": {
        "colab": {
          "base_uri": "https://localhost:8080/"
        },
        "id": "3BG6Y7E16_Gu",
        "outputId": "2928651a-0adc-43da-f263-7650b58fdb71"
      },
      "execution_count": null,
      "outputs": [
        {
          "output_type": "execute_result",
          "data": {
            "text/plain": [
              "round_winner\n",
              "T     62406\n",
              "CT    60004\n",
              "Name: count, dtype: int64"
            ]
          },
          "metadata": {},
          "execution_count": 446
        }
      ]
    },
    {
      "cell_type": "markdown",
      "source": [
        "podemo notar que todos son de tipo float, por lo cual no nos traera problemas al momento de entrenar el modelo.\n",
        "\n",
        "cambiamos todos los string que a numeros:"
      ],
      "metadata": {
        "id": "viwhvzWv7BsW"
      }
    },
    {
      "cell_type": "code",
      "source": [
        "dataset['map'] = dataset['map'].map({'de_inferno': 0, 'de_dust2': 1, 'de_nuke': 2, 'de_mirage': 3, 'de_overpass': 4, 'de_train': 5, 'de_vertigo': 6, 'de_cache': 7})\n",
        "dataset['bomb_planted'] = dataset['bomb_planted'].map({False: 0, True: 1})\n",
        "dataset['round_winner'] = dataset['round_winner'].map({'T': 0, 'CT': 1})\n"
      ],
      "metadata": {
        "id": "dXuA0yxw7DxG"
      },
      "execution_count": null,
      "outputs": []
    },
    {
      "cell_type": "markdown",
      "source": [
        "Mostramos el dataset ya con todos los valores numericos:\n"
      ],
      "metadata": {
        "id": "g48mtdsQ7I99"
      }
    },
    {
      "cell_type": "code",
      "source": [
        "dataset"
      ],
      "metadata": {
        "colab": {
          "base_uri": "https://localhost:8080/",
          "height": 444
        },
        "id": "ikRMe50b7HPG",
        "outputId": "34fee753-8d83-4d6f-c5f7-232fb44777bc"
      },
      "execution_count": null,
      "outputs": [
        {
          "output_type": "execute_result",
          "data": {
            "text/plain": [
              "        time_left  ct_score  t_score  map  bomb_planted  ct_health  t_health  \\\n",
              "0          175.00       0.0      0.0    1             0      500.0     500.0   \n",
              "1          156.03       0.0      0.0    1             0      500.0     500.0   \n",
              "2           96.03       0.0      0.0    1             0      391.0     400.0   \n",
              "3           76.03       0.0      0.0    1             0      391.0     400.0   \n",
              "4          174.97       1.0      0.0    1             0      500.0     500.0   \n",
              "...           ...       ...      ...  ...           ...        ...       ...   \n",
              "122405      15.41      11.0     14.0    5             1      200.0     242.0   \n",
              "122406     174.93      11.0     15.0    5             0      500.0     500.0   \n",
              "122407     114.93      11.0     15.0    5             0      500.0     500.0   \n",
              "122408      94.93      11.0     15.0    5             0      500.0     500.0   \n",
              "122409      74.93      11.0     15.0    5             0      375.0     479.0   \n",
              "\n",
              "        ct_armor  t_armor  ct_money  ...  t_grenade_flashbang  \\\n",
              "0            0.0      0.0    4000.0  ...                  0.0   \n",
              "1          400.0    300.0     600.0  ...                  0.0   \n",
              "2          294.0    200.0     750.0  ...                  0.0   \n",
              "3          294.0    200.0     750.0  ...                  0.0   \n",
              "4          192.0      0.0   18350.0  ...                  0.0   \n",
              "...          ...      ...       ...  ...                  ...   \n",
              "122405     195.0    359.0     100.0  ...                  2.0   \n",
              "122406      95.0    175.0   11500.0  ...                  2.0   \n",
              "122407     495.0    475.0    1200.0  ...                  4.0   \n",
              "122408     495.0    475.0    1200.0  ...                  5.0   \n",
              "122409     395.0    466.0    1100.0  ...                  3.0   \n",
              "\n",
              "        ct_grenade_smokegrenade  t_grenade_smokegrenade  \\\n",
              "0                           0.0                     0.0   \n",
              "1                           0.0                     2.0   \n",
              "2                           0.0                     2.0   \n",
              "3                           0.0                     0.0   \n",
              "4                           0.0                     0.0   \n",
              "...                         ...                     ...   \n",
              "122405                      1.0                     1.0   \n",
              "122406                      1.0                     0.0   \n",
              "122407                      3.0                     5.0   \n",
              "122408                      0.0                     3.0   \n",
              "122409                      0.0                     2.0   \n",
              "\n",
              "        ct_grenade_incendiarygrenade  t_grenade_incendiarygrenade  \\\n",
              "0                                0.0                          0.0   \n",
              "1                                0.0                          0.0   \n",
              "2                                0.0                          0.0   \n",
              "3                                0.0                          0.0   \n",
              "4                                0.0                          0.0   \n",
              "...                              ...                          ...   \n",
              "122405                           0.0                          0.0   \n",
              "122406                           0.0                          0.0   \n",
              "122407                           1.0                          0.0   \n",
              "122408                           0.0                          0.0   \n",
              "122409                           0.0                          0.0   \n",
              "\n",
              "        ct_grenade_molotovgrenade  t_grenade_molotovgrenade  \\\n",
              "0                             0.0                       0.0   \n",
              "1                             0.0                       0.0   \n",
              "2                             0.0                       0.0   \n",
              "3                             0.0                       0.0   \n",
              "4                             0.0                       0.0   \n",
              "...                           ...                       ...   \n",
              "122405                        0.0                       0.0   \n",
              "122406                        0.0                       0.0   \n",
              "122407                        0.0                       5.0   \n",
              "122408                        0.0                       4.0   \n",
              "122409                        0.0                       3.0   \n",
              "\n",
              "        ct_grenade_decoygrenade  t_grenade_decoygrenade  round_winner  \n",
              "0                           0.0                     0.0             1  \n",
              "1                           0.0                     0.0             1  \n",
              "2                           0.0                     0.0             1  \n",
              "3                           0.0                     0.0             1  \n",
              "4                           0.0                     0.0             1  \n",
              "...                         ...                     ...           ...  \n",
              "122405                      0.0                     0.0             0  \n",
              "122406                      0.0                     0.0             0  \n",
              "122407                      0.0                     0.0             0  \n",
              "122408                      0.0                     0.0             0  \n",
              "122409                      0.0                     0.0             0  \n",
              "\n",
              "[122410 rows x 97 columns]"
            ],
            "text/html": [
              "\n",
              "  <div id=\"df-fb002f26-1bb9-49cc-94bc-9f7b21334d2e\" class=\"colab-df-container\">\n",
              "    <div>\n",
              "<style scoped>\n",
              "    .dataframe tbody tr th:only-of-type {\n",
              "        vertical-align: middle;\n",
              "    }\n",
              "\n",
              "    .dataframe tbody tr th {\n",
              "        vertical-align: top;\n",
              "    }\n",
              "\n",
              "    .dataframe thead th {\n",
              "        text-align: right;\n",
              "    }\n",
              "</style>\n",
              "<table border=\"1\" class=\"dataframe\">\n",
              "  <thead>\n",
              "    <tr style=\"text-align: right;\">\n",
              "      <th></th>\n",
              "      <th>time_left</th>\n",
              "      <th>ct_score</th>\n",
              "      <th>t_score</th>\n",
              "      <th>map</th>\n",
              "      <th>bomb_planted</th>\n",
              "      <th>ct_health</th>\n",
              "      <th>t_health</th>\n",
              "      <th>ct_armor</th>\n",
              "      <th>t_armor</th>\n",
              "      <th>ct_money</th>\n",
              "      <th>...</th>\n",
              "      <th>t_grenade_flashbang</th>\n",
              "      <th>ct_grenade_smokegrenade</th>\n",
              "      <th>t_grenade_smokegrenade</th>\n",
              "      <th>ct_grenade_incendiarygrenade</th>\n",
              "      <th>t_grenade_incendiarygrenade</th>\n",
              "      <th>ct_grenade_molotovgrenade</th>\n",
              "      <th>t_grenade_molotovgrenade</th>\n",
              "      <th>ct_grenade_decoygrenade</th>\n",
              "      <th>t_grenade_decoygrenade</th>\n",
              "      <th>round_winner</th>\n",
              "    </tr>\n",
              "  </thead>\n",
              "  <tbody>\n",
              "    <tr>\n",
              "      <th>0</th>\n",
              "      <td>175.00</td>\n",
              "      <td>0.0</td>\n",
              "      <td>0.0</td>\n",
              "      <td>1</td>\n",
              "      <td>0</td>\n",
              "      <td>500.0</td>\n",
              "      <td>500.0</td>\n",
              "      <td>0.0</td>\n",
              "      <td>0.0</td>\n",
              "      <td>4000.0</td>\n",
              "      <td>...</td>\n",
              "      <td>0.0</td>\n",
              "      <td>0.0</td>\n",
              "      <td>0.0</td>\n",
              "      <td>0.0</td>\n",
              "      <td>0.0</td>\n",
              "      <td>0.0</td>\n",
              "      <td>0.0</td>\n",
              "      <td>0.0</td>\n",
              "      <td>0.0</td>\n",
              "      <td>1</td>\n",
              "    </tr>\n",
              "    <tr>\n",
              "      <th>1</th>\n",
              "      <td>156.03</td>\n",
              "      <td>0.0</td>\n",
              "      <td>0.0</td>\n",
              "      <td>1</td>\n",
              "      <td>0</td>\n",
              "      <td>500.0</td>\n",
              "      <td>500.0</td>\n",
              "      <td>400.0</td>\n",
              "      <td>300.0</td>\n",
              "      <td>600.0</td>\n",
              "      <td>...</td>\n",
              "      <td>0.0</td>\n",
              "      <td>0.0</td>\n",
              "      <td>2.0</td>\n",
              "      <td>0.0</td>\n",
              "      <td>0.0</td>\n",
              "      <td>0.0</td>\n",
              "      <td>0.0</td>\n",
              "      <td>0.0</td>\n",
              "      <td>0.0</td>\n",
              "      <td>1</td>\n",
              "    </tr>\n",
              "    <tr>\n",
              "      <th>2</th>\n",
              "      <td>96.03</td>\n",
              "      <td>0.0</td>\n",
              "      <td>0.0</td>\n",
              "      <td>1</td>\n",
              "      <td>0</td>\n",
              "      <td>391.0</td>\n",
              "      <td>400.0</td>\n",
              "      <td>294.0</td>\n",
              "      <td>200.0</td>\n",
              "      <td>750.0</td>\n",
              "      <td>...</td>\n",
              "      <td>0.0</td>\n",
              "      <td>0.0</td>\n",
              "      <td>2.0</td>\n",
              "      <td>0.0</td>\n",
              "      <td>0.0</td>\n",
              "      <td>0.0</td>\n",
              "      <td>0.0</td>\n",
              "      <td>0.0</td>\n",
              "      <td>0.0</td>\n",
              "      <td>1</td>\n",
              "    </tr>\n",
              "    <tr>\n",
              "      <th>3</th>\n",
              "      <td>76.03</td>\n",
              "      <td>0.0</td>\n",
              "      <td>0.0</td>\n",
              "      <td>1</td>\n",
              "      <td>0</td>\n",
              "      <td>391.0</td>\n",
              "      <td>400.0</td>\n",
              "      <td>294.0</td>\n",
              "      <td>200.0</td>\n",
              "      <td>750.0</td>\n",
              "      <td>...</td>\n",
              "      <td>0.0</td>\n",
              "      <td>0.0</td>\n",
              "      <td>0.0</td>\n",
              "      <td>0.0</td>\n",
              "      <td>0.0</td>\n",
              "      <td>0.0</td>\n",
              "      <td>0.0</td>\n",
              "      <td>0.0</td>\n",
              "      <td>0.0</td>\n",
              "      <td>1</td>\n",
              "    </tr>\n",
              "    <tr>\n",
              "      <th>4</th>\n",
              "      <td>174.97</td>\n",
              "      <td>1.0</td>\n",
              "      <td>0.0</td>\n",
              "      <td>1</td>\n",
              "      <td>0</td>\n",
              "      <td>500.0</td>\n",
              "      <td>500.0</td>\n",
              "      <td>192.0</td>\n",
              "      <td>0.0</td>\n",
              "      <td>18350.0</td>\n",
              "      <td>...</td>\n",
              "      <td>0.0</td>\n",
              "      <td>0.0</td>\n",
              "      <td>0.0</td>\n",
              "      <td>0.0</td>\n",
              "      <td>0.0</td>\n",
              "      <td>0.0</td>\n",
              "      <td>0.0</td>\n",
              "      <td>0.0</td>\n",
              "      <td>0.0</td>\n",
              "      <td>1</td>\n",
              "    </tr>\n",
              "    <tr>\n",
              "      <th>...</th>\n",
              "      <td>...</td>\n",
              "      <td>...</td>\n",
              "      <td>...</td>\n",
              "      <td>...</td>\n",
              "      <td>...</td>\n",
              "      <td>...</td>\n",
              "      <td>...</td>\n",
              "      <td>...</td>\n",
              "      <td>...</td>\n",
              "      <td>...</td>\n",
              "      <td>...</td>\n",
              "      <td>...</td>\n",
              "      <td>...</td>\n",
              "      <td>...</td>\n",
              "      <td>...</td>\n",
              "      <td>...</td>\n",
              "      <td>...</td>\n",
              "      <td>...</td>\n",
              "      <td>...</td>\n",
              "      <td>...</td>\n",
              "      <td>...</td>\n",
              "    </tr>\n",
              "    <tr>\n",
              "      <th>122405</th>\n",
              "      <td>15.41</td>\n",
              "      <td>11.0</td>\n",
              "      <td>14.0</td>\n",
              "      <td>5</td>\n",
              "      <td>1</td>\n",
              "      <td>200.0</td>\n",
              "      <td>242.0</td>\n",
              "      <td>195.0</td>\n",
              "      <td>359.0</td>\n",
              "      <td>100.0</td>\n",
              "      <td>...</td>\n",
              "      <td>2.0</td>\n",
              "      <td>1.0</td>\n",
              "      <td>1.0</td>\n",
              "      <td>0.0</td>\n",
              "      <td>0.0</td>\n",
              "      <td>0.0</td>\n",
              "      <td>0.0</td>\n",
              "      <td>0.0</td>\n",
              "      <td>0.0</td>\n",
              "      <td>0</td>\n",
              "    </tr>\n",
              "    <tr>\n",
              "      <th>122406</th>\n",
              "      <td>174.93</td>\n",
              "      <td>11.0</td>\n",
              "      <td>15.0</td>\n",
              "      <td>5</td>\n",
              "      <td>0</td>\n",
              "      <td>500.0</td>\n",
              "      <td>500.0</td>\n",
              "      <td>95.0</td>\n",
              "      <td>175.0</td>\n",
              "      <td>11500.0</td>\n",
              "      <td>...</td>\n",
              "      <td>2.0</td>\n",
              "      <td>1.0</td>\n",
              "      <td>0.0</td>\n",
              "      <td>0.0</td>\n",
              "      <td>0.0</td>\n",
              "      <td>0.0</td>\n",
              "      <td>0.0</td>\n",
              "      <td>0.0</td>\n",
              "      <td>0.0</td>\n",
              "      <td>0</td>\n",
              "    </tr>\n",
              "    <tr>\n",
              "      <th>122407</th>\n",
              "      <td>114.93</td>\n",
              "      <td>11.0</td>\n",
              "      <td>15.0</td>\n",
              "      <td>5</td>\n",
              "      <td>0</td>\n",
              "      <td>500.0</td>\n",
              "      <td>500.0</td>\n",
              "      <td>495.0</td>\n",
              "      <td>475.0</td>\n",
              "      <td>1200.0</td>\n",
              "      <td>...</td>\n",
              "      <td>4.0</td>\n",
              "      <td>3.0</td>\n",
              "      <td>5.0</td>\n",
              "      <td>1.0</td>\n",
              "      <td>0.0</td>\n",
              "      <td>0.0</td>\n",
              "      <td>5.0</td>\n",
              "      <td>0.0</td>\n",
              "      <td>0.0</td>\n",
              "      <td>0</td>\n",
              "    </tr>\n",
              "    <tr>\n",
              "      <th>122408</th>\n",
              "      <td>94.93</td>\n",
              "      <td>11.0</td>\n",
              "      <td>15.0</td>\n",
              "      <td>5</td>\n",
              "      <td>0</td>\n",
              "      <td>500.0</td>\n",
              "      <td>500.0</td>\n",
              "      <td>495.0</td>\n",
              "      <td>475.0</td>\n",
              "      <td>1200.0</td>\n",
              "      <td>...</td>\n",
              "      <td>5.0</td>\n",
              "      <td>0.0</td>\n",
              "      <td>3.0</td>\n",
              "      <td>0.0</td>\n",
              "      <td>0.0</td>\n",
              "      <td>0.0</td>\n",
              "      <td>4.0</td>\n",
              "      <td>0.0</td>\n",
              "      <td>0.0</td>\n",
              "      <td>0</td>\n",
              "    </tr>\n",
              "    <tr>\n",
              "      <th>122409</th>\n",
              "      <td>74.93</td>\n",
              "      <td>11.0</td>\n",
              "      <td>15.0</td>\n",
              "      <td>5</td>\n",
              "      <td>0</td>\n",
              "      <td>375.0</td>\n",
              "      <td>479.0</td>\n",
              "      <td>395.0</td>\n",
              "      <td>466.0</td>\n",
              "      <td>1100.0</td>\n",
              "      <td>...</td>\n",
              "      <td>3.0</td>\n",
              "      <td>0.0</td>\n",
              "      <td>2.0</td>\n",
              "      <td>0.0</td>\n",
              "      <td>0.0</td>\n",
              "      <td>0.0</td>\n",
              "      <td>3.0</td>\n",
              "      <td>0.0</td>\n",
              "      <td>0.0</td>\n",
              "      <td>0</td>\n",
              "    </tr>\n",
              "  </tbody>\n",
              "</table>\n",
              "<p>122410 rows × 97 columns</p>\n",
              "</div>\n",
              "    <div class=\"colab-df-buttons\">\n",
              "\n",
              "  <div class=\"colab-df-container\">\n",
              "    <button class=\"colab-df-convert\" onclick=\"convertToInteractive('df-fb002f26-1bb9-49cc-94bc-9f7b21334d2e')\"\n",
              "            title=\"Convert this dataframe to an interactive table.\"\n",
              "            style=\"display:none;\">\n",
              "\n",
              "  <svg xmlns=\"http://www.w3.org/2000/svg\" height=\"24px\" viewBox=\"0 -960 960 960\">\n",
              "    <path d=\"M120-120v-720h720v720H120Zm60-500h600v-160H180v160Zm220 220h160v-160H400v160Zm0 220h160v-160H400v160ZM180-400h160v-160H180v160Zm440 0h160v-160H620v160ZM180-180h160v-160H180v160Zm440 0h160v-160H620v160Z\"/>\n",
              "  </svg>\n",
              "    </button>\n",
              "\n",
              "  <style>\n",
              "    .colab-df-container {\n",
              "      display:flex;\n",
              "      gap: 12px;\n",
              "    }\n",
              "\n",
              "    .colab-df-convert {\n",
              "      background-color: #E8F0FE;\n",
              "      border: none;\n",
              "      border-radius: 50%;\n",
              "      cursor: pointer;\n",
              "      display: none;\n",
              "      fill: #1967D2;\n",
              "      height: 32px;\n",
              "      padding: 0 0 0 0;\n",
              "      width: 32px;\n",
              "    }\n",
              "\n",
              "    .colab-df-convert:hover {\n",
              "      background-color: #E2EBFA;\n",
              "      box-shadow: 0px 1px 2px rgba(60, 64, 67, 0.3), 0px 1px 3px 1px rgba(60, 64, 67, 0.15);\n",
              "      fill: #174EA6;\n",
              "    }\n",
              "\n",
              "    .colab-df-buttons div {\n",
              "      margin-bottom: 4px;\n",
              "    }\n",
              "\n",
              "    [theme=dark] .colab-df-convert {\n",
              "      background-color: #3B4455;\n",
              "      fill: #D2E3FC;\n",
              "    }\n",
              "\n",
              "    [theme=dark] .colab-df-convert:hover {\n",
              "      background-color: #434B5C;\n",
              "      box-shadow: 0px 1px 3px 1px rgba(0, 0, 0, 0.15);\n",
              "      filter: drop-shadow(0px 1px 2px rgba(0, 0, 0, 0.3));\n",
              "      fill: #FFFFFF;\n",
              "    }\n",
              "  </style>\n",
              "\n",
              "    <script>\n",
              "      const buttonEl =\n",
              "        document.querySelector('#df-fb002f26-1bb9-49cc-94bc-9f7b21334d2e button.colab-df-convert');\n",
              "      buttonEl.style.display =\n",
              "        google.colab.kernel.accessAllowed ? 'block' : 'none';\n",
              "\n",
              "      async function convertToInteractive(key) {\n",
              "        const element = document.querySelector('#df-fb002f26-1bb9-49cc-94bc-9f7b21334d2e');\n",
              "        const dataTable =\n",
              "          await google.colab.kernel.invokeFunction('convertToInteractive',\n",
              "                                                    [key], {});\n",
              "        if (!dataTable) return;\n",
              "\n",
              "        const docLinkHtml = 'Like what you see? Visit the ' +\n",
              "          '<a target=\"_blank\" href=https://colab.research.google.com/notebooks/data_table.ipynb>data table notebook</a>'\n",
              "          + ' to learn more about interactive tables.';\n",
              "        element.innerHTML = '';\n",
              "        dataTable['output_type'] = 'display_data';\n",
              "        await google.colab.output.renderOutput(dataTable, element);\n",
              "        const docLink = document.createElement('div');\n",
              "        docLink.innerHTML = docLinkHtml;\n",
              "        element.appendChild(docLink);\n",
              "      }\n",
              "    </script>\n",
              "  </div>\n",
              "\n",
              "\n",
              "<div id=\"df-a5145905-012f-4bf9-9684-92ac89f64b5e\">\n",
              "  <button class=\"colab-df-quickchart\" onclick=\"quickchart('df-a5145905-012f-4bf9-9684-92ac89f64b5e')\"\n",
              "            title=\"Suggest charts\"\n",
              "            style=\"display:none;\">\n",
              "\n",
              "<svg xmlns=\"http://www.w3.org/2000/svg\" height=\"24px\"viewBox=\"0 0 24 24\"\n",
              "     width=\"24px\">\n",
              "    <g>\n",
              "        <path d=\"M19 3H5c-1.1 0-2 .9-2 2v14c0 1.1.9 2 2 2h14c1.1 0 2-.9 2-2V5c0-1.1-.9-2-2-2zM9 17H7v-7h2v7zm4 0h-2V7h2v10zm4 0h-2v-4h2v4z\"/>\n",
              "    </g>\n",
              "</svg>\n",
              "  </button>\n",
              "\n",
              "<style>\n",
              "  .colab-df-quickchart {\n",
              "      --bg-color: #E8F0FE;\n",
              "      --fill-color: #1967D2;\n",
              "      --hover-bg-color: #E2EBFA;\n",
              "      --hover-fill-color: #174EA6;\n",
              "      --disabled-fill-color: #AAA;\n",
              "      --disabled-bg-color: #DDD;\n",
              "  }\n",
              "\n",
              "  [theme=dark] .colab-df-quickchart {\n",
              "      --bg-color: #3B4455;\n",
              "      --fill-color: #D2E3FC;\n",
              "      --hover-bg-color: #434B5C;\n",
              "      --hover-fill-color: #FFFFFF;\n",
              "      --disabled-bg-color: #3B4455;\n",
              "      --disabled-fill-color: #666;\n",
              "  }\n",
              "\n",
              "  .colab-df-quickchart {\n",
              "    background-color: var(--bg-color);\n",
              "    border: none;\n",
              "    border-radius: 50%;\n",
              "    cursor: pointer;\n",
              "    display: none;\n",
              "    fill: var(--fill-color);\n",
              "    height: 32px;\n",
              "    padding: 0;\n",
              "    width: 32px;\n",
              "  }\n",
              "\n",
              "  .colab-df-quickchart:hover {\n",
              "    background-color: var(--hover-bg-color);\n",
              "    box-shadow: 0 1px 2px rgba(60, 64, 67, 0.3), 0 1px 3px 1px rgba(60, 64, 67, 0.15);\n",
              "    fill: var(--button-hover-fill-color);\n",
              "  }\n",
              "\n",
              "  .colab-df-quickchart-complete:disabled,\n",
              "  .colab-df-quickchart-complete:disabled:hover {\n",
              "    background-color: var(--disabled-bg-color);\n",
              "    fill: var(--disabled-fill-color);\n",
              "    box-shadow: none;\n",
              "  }\n",
              "\n",
              "  .colab-df-spinner {\n",
              "    border: 2px solid var(--fill-color);\n",
              "    border-color: transparent;\n",
              "    border-bottom-color: var(--fill-color);\n",
              "    animation:\n",
              "      spin 1s steps(1) infinite;\n",
              "  }\n",
              "\n",
              "  @keyframes spin {\n",
              "    0% {\n",
              "      border-color: transparent;\n",
              "      border-bottom-color: var(--fill-color);\n",
              "      border-left-color: var(--fill-color);\n",
              "    }\n",
              "    20% {\n",
              "      border-color: transparent;\n",
              "      border-left-color: var(--fill-color);\n",
              "      border-top-color: var(--fill-color);\n",
              "    }\n",
              "    30% {\n",
              "      border-color: transparent;\n",
              "      border-left-color: var(--fill-color);\n",
              "      border-top-color: var(--fill-color);\n",
              "      border-right-color: var(--fill-color);\n",
              "    }\n",
              "    40% {\n",
              "      border-color: transparent;\n",
              "      border-right-color: var(--fill-color);\n",
              "      border-top-color: var(--fill-color);\n",
              "    }\n",
              "    60% {\n",
              "      border-color: transparent;\n",
              "      border-right-color: var(--fill-color);\n",
              "    }\n",
              "    80% {\n",
              "      border-color: transparent;\n",
              "      border-right-color: var(--fill-color);\n",
              "      border-bottom-color: var(--fill-color);\n",
              "    }\n",
              "    90% {\n",
              "      border-color: transparent;\n",
              "      border-bottom-color: var(--fill-color);\n",
              "    }\n",
              "  }\n",
              "</style>\n",
              "\n",
              "  <script>\n",
              "    async function quickchart(key) {\n",
              "      const quickchartButtonEl =\n",
              "        document.querySelector('#' + key + ' button');\n",
              "      quickchartButtonEl.disabled = true;  // To prevent multiple clicks.\n",
              "      quickchartButtonEl.classList.add('colab-df-spinner');\n",
              "      try {\n",
              "        const charts = await google.colab.kernel.invokeFunction(\n",
              "            'suggestCharts', [key], {});\n",
              "      } catch (error) {\n",
              "        console.error('Error during call to suggestCharts:', error);\n",
              "      }\n",
              "      quickchartButtonEl.classList.remove('colab-df-spinner');\n",
              "      quickchartButtonEl.classList.add('colab-df-quickchart-complete');\n",
              "    }\n",
              "    (() => {\n",
              "      let quickchartButtonEl =\n",
              "        document.querySelector('#df-a5145905-012f-4bf9-9684-92ac89f64b5e button');\n",
              "      quickchartButtonEl.style.display =\n",
              "        google.colab.kernel.accessAllowed ? 'block' : 'none';\n",
              "    })();\n",
              "  </script>\n",
              "</div>\n",
              "    </div>\n",
              "  </div>\n"
            ],
            "application/vnd.google.colaboratory.intrinsic+json": {
              "type": "dataframe",
              "variable_name": "dataset"
            }
          },
          "metadata": {},
          "execution_count": 448
        }
      ]
    },
    {
      "cell_type": "markdown",
      "source": [
        "### Separamos los datos de nuestra columna Y para cada clase:"
      ],
      "metadata": {
        "id": "riFLJSla7ZDv"
      }
    },
    {
      "cell_type": "code",
      "source": [
        "# hacemos uso del DataFrame llamado 'dataset' que contiene nuestros datos datos\n",
        "# y es la columna que contiene las etiquetas de clase (en este caso, 'round_winner')\n",
        "\n",
        "#creamos una variable temporal que contentra toda la columna de 'round_winner'\n",
        "y_temp = dataset['round_winner']\n",
        "\n",
        "# Para la clase 0\n",
        "\n",
        "#donde y_temp es igual a 0, separamos los datos en train_class_0, test_class_0\n",
        "data_class_0 = dataset[y_temp == 0]\n",
        "train_class_0, test_class_0 = train_test_split(data_class_0, test_size=0.2, random_state=42)\n",
        "\n",
        "# Para la clase 1\n",
        "\n",
        "#donde y_temp es igual a 1, separamos los datos en train_class_1, test_class_1\n",
        "data_class_1 = dataset[y_temp == 1]\n",
        "train_class_1, test_class_1 = train_test_split(data_class_1, test_size=0.2, random_state=42)"
      ],
      "metadata": {
        "id": "x-bqRMgg7f2v"
      },
      "execution_count": null,
      "outputs": []
    },
    {
      "cell_type": "code",
      "source": [
        "print(f\"Para la clase 0 tenemos una cantidad de: { data_class_0.shape[0]} donde el 80% es: {train_class_0.shape[0]} y el 20% es: {test_class_0.shape[0]}\")\n",
        "print(f\"Para la clase 1 tenemos una cantidad de: { data_class_1.shape[0]} donde el 80% es: {train_class_1.shape[0]} y el 20% es: {test_class_1.shape[0]}\")\n",
        "print(f\"La cantidad total de datos es: {dataset.shape[0]}\")"
      ],
      "metadata": {
        "colab": {
          "base_uri": "https://localhost:8080/"
        },
        "id": "HLYhJ-d57i52",
        "outputId": "86e40425-1aab-444b-c2b9-1c3a7412e4d4"
      },
      "execution_count": null,
      "outputs": [
        {
          "output_type": "stream",
          "name": "stdout",
          "text": [
            "Para la clase 0 tenemos una cantidad de: 62406 donde el 80% es: 49924 y el 20% es: 12482\n",
            "Para la clase 1 tenemos una cantidad de: 60004 donde el 80% es: 48003 y el 20% es: 12001\n",
            "La cantidad total de datos es: 122410\n"
          ]
        }
      ]
    },
    {
      "cell_type": "markdown",
      "source": [
        "### Separacion del 80% de los datos para entrenamiento y 20% para pruebas\n",
        "\n",
        "Haremos uso de la libreria `sklearn` haciendo uso de su funcion `train_test_split()`, donde recibe como parametros:\n",
        "\n",
        "`Arrays o matrices de características (X): `Estos son los datos que se utilizarán para hacer predicciones. Por lo general, son las variables independientes o características del conjunto de datos.\n",
        "\n",
        "`test_size (opcional):` Este parámetro especifica el tamaño del conjunto de prueba. Puede ser un número decimal entre 0 y 1, que representa el porcentaje del conjunto de datos que se asignará al conjunto de prueba, o puede ser un entero que representa el número absoluto de muestras en el conjunto de prueba. Por ejemplo, si test_size=0.2, se asignará el 20% del conjunto de datos al conjunto de prueba.\n",
        "\n",
        "`train_size (opcional):` Este parámetro especifica el tamaño del conjunto de entrenamiento. Al igual que test_size, puede ser un número decimal entre 0 y 1 o un entero que representa el número absoluto de muestras en el conjunto de entrenamiento. Si no se proporciona, se calcula automáticamente como 1 - test_size.\n",
        "\n",
        "`random_state (opcional):` Este parámetro permite establecer una semilla para la generación de números pseudoaleatorios. Esto garantiza que la división de los datos sea reproducible. Si se establece en un número entero, el resultado será el mismo cada vez que se ejecute el código."
      ],
      "metadata": {
        "id": "ETfj9Tca77zn"
      }
    },
    {
      "cell_type": "code",
      "source": [
        "#separando los datos de entrenamiento y pruebas\n",
        "\n",
        "#para los datos de entrenamiento\n",
        "train_dataset = pd.concat([train_class_0, train_class_1]).values\n",
        "test_dataset = pd.concat([test_class_0, test_class_1]).values\n",
        "\n",
        "\n",
        "indices_train = np.random.permutation(len(train_dataset))\n",
        "indices_test = np.random.permutation(len(test_dataset))\n",
        "\n",
        "train_dataset = pd.concat([train_class_0, train_class_1]).values\n",
        "\n",
        "train_dataset = train_dataset[indices_train]\n",
        "train_test = test_dataset[indices_test]\n",
        "\n",
        "m_train = len(train_dataset)\n",
        "m_test = len(test_dataset)"
      ],
      "metadata": {
        "id": "dtIH4i2X7_ge"
      },
      "execution_count": null,
      "outputs": []
    },
    {
      "cell_type": "code",
      "source": [
        "print(m_train)\n",
        "print(m_test)\n",
        "print(\"El total de ejemplos es: \", (m_train + m_test))"
      ],
      "metadata": {
        "colab": {
          "base_uri": "https://localhost:8080/"
        },
        "id": "byoZOSD4ENFB",
        "outputId": "45ae0582-fc11-4ebb-9ac4-f2a48385c727"
      },
      "execution_count": null,
      "outputs": [
        {
          "output_type": "stream",
          "name": "stdout",
          "text": [
            "97927\n",
            "24483\n",
            "El total de ejemplos es:  122410\n"
          ]
        }
      ]
    },
    {
      "cell_type": "markdown",
      "source": [
        "#### Convertimos los datos a tensores de Pythorch\n",
        "\n",
        "Este código conviertimos los datos **train_dataset** y **Test_dataset** en tensores de PyTorch."
      ],
      "metadata": {
        "id": "FZ7Ot0ReAapP"
      }
    },
    {
      "cell_type": "markdown",
      "source": [
        "Creamos la clase  indicar a PyTorch cuáles son los datos de entrada (features) y cuáles son las etiquetas (targets), creamnos una clase personalizada que herede de torch.utils.data.Dataset y sobrescribir los métodos **__len__** y **__getitem__.**"
      ],
      "metadata": {
        "id": "x00ok4RRmvox"
      }
    },
    {
      "cell_type": "code",
      "source": [
        "class TuConjuntoDatos(Dataset):\n",
        "    def __init__(self, data, targets):\n",
        "        self.data = data\n",
        "        self.targets = targets\n",
        "\n",
        "    def __len__(self):\n",
        "        return len(self.data)\n",
        "\n",
        "    def __getitem__(self, idx):\n",
        "        features = torch.tensor(self.data[idx, :-1], dtype=torch.float32)  # Todas las columnas excepto la última\n",
        "        target = torch.tensor(self.data[idx, -1], dtype=torch.long)  # Última columna (etiqueta)\n",
        "        return features, target\n",
        "\n",
        "    def get_features_shape(self):\n",
        "        return (self.data.shape[1] - 1)"
      ],
      "metadata": {
        "id": "HzQGors0mbqR"
      },
      "execution_count": null,
      "outputs": []
    },
    {
      "cell_type": "markdown",
      "source": [
        "hacemos uso de la clase anterior, indicando cual es nuestra columna \"target\", en este caso la ultima, **-1**:"
      ],
      "metadata": {
        "id": "LHWSriIJt--C"
      }
    },
    {
      "cell_type": "code",
      "source": [
        "train_dataset = TuConjuntoDatos(train_dataset, -1)  # No se necesitan etiquetas durante el entrenamiento\n",
        "test_dataset = TuConjuntoDatos(test_dataset, -1)"
      ],
      "metadata": {
        "id": "MYi8Opv5AA_P"
      },
      "execution_count": null,
      "outputs": []
    },
    {
      "cell_type": "code",
      "source": [
        "print(f\"el 80% de datos es:{len(train_dataset)} y el 20% es: {len(test_dataset)}\")\n",
        "print( \"la totalidad de datos es: \", dataset.shape[0])"
      ],
      "metadata": {
        "colab": {
          "base_uri": "https://localhost:8080/"
        },
        "id": "NmpB0l4w8Gju",
        "outputId": "7da19585-6a72-4f90-92cc-2fc31116621c"
      },
      "execution_count": null,
      "outputs": [
        {
          "output_type": "stream",
          "name": "stdout",
          "text": [
            "el 80% de datos es:97927 y el 20% es: 24483\n",
            "la totalidad de datos es:  122410\n"
          ]
        }
      ]
    },
    {
      "cell_type": "markdown",
      "source": [
        "### Creacion de la clase de Red neuronal MLS\n",
        "\n",
        "Aquí creamos nuestra red neuronal simple. Para más detalles aquí estamos subclasificando y\n",
        "Heredando de **nn.Module**."
      ],
      "metadata": {
        "id": "V1O6o1vT8PmG"
      }
    },
    {
      "cell_type": "code",
      "execution_count": null,
      "metadata": {
        "id": "hA63y9BgDGi-"
      },
      "outputs": [],
      "source": [
        "class RedNeuronalMLS(nn.Module):\n",
        "    def __init__(self, input_size, num_classes):\n",
        "        super(RedNeuronalMLS, self).__init__()\n",
        "        self.fc1 = nn.Linear(input_size, 50)\n",
        "        self.fc2 = nn.Linear(50, num_classes)\n",
        "\n",
        "    def forward(self, x):\n",
        "        x = self.fc1(x)\n",
        "        x = F.sigmoid(x)\n",
        "        x = self.fc2(x)\n",
        "        return x"
      ]
    },
    {
      "cell_type": "markdown",
      "source": [
        "### Definimos la arquitectura del modelo\n",
        "\n",
        "En este apartado definiremos la cantidad de capas que tendra el modelo:\n",
        "\n",
        "- **Capa de entrada:** Es la cantidad de caracteristicas con las que cuenta el dataset.\n",
        "- **Capa de salida:** como este modelo cuenta con dos clases, por lo tanto solo tendra un valor de 2"
      ],
      "metadata": {
        "id": "G0Xs0aRI9qif"
      }
    },
    {
      "cell_type": "code",
      "source": [
        "# Configurando parametros necesario\n",
        "input_layer_size = train_dataset.get_features_shape() # Entrada de 96 caracteristicas, es la cantidad de columnas existente en el dataset\n",
        "num_labels = 2         # como es una clasificacion tiene solo 2 salidas\n",
        "\n",
        "print(\"la cantidad de elementos en la capa de entrada es: \",input_layer_size)\n",
        "print(\"la cantidad de elementos en la capa de salida es: \",num_labels)"
      ],
      "metadata": {
        "colab": {
          "base_uri": "https://localhost:8080/"
        },
        "id": "y_Vhhl1t9ra3",
        "outputId": "61f02b08-f0ec-4c10-c1e4-7ee63be4e212"
      },
      "execution_count": null,
      "outputs": [
        {
          "output_type": "stream",
          "name": "stdout",
          "text": [
            "la cantidad de elementos en la capa de entrada es:  96\n",
            "la cantidad de elementos en la capa de salida es:  2\n"
          ]
        }
      ]
    },
    {
      "cell_type": "markdown",
      "source": [
        "#### Hiperparametros:\n",
        "\n",
        "Hiperparámetros de nuestra red neuronal que dependen del conjunto de datos, y\n",
        "También simplemente experimentando para ver qué funciona bien (tasa de aprendizaje, por ejemplo)."
      ],
      "metadata": {
        "id": "2Xh5O4Zt-JBu"
      }
    },
    {
      "cell_type": "code",
      "source": [
        "input_size = input_layer_size\n",
        "num_classes = num_labels\n",
        "learning_rate = 0.001\n",
        "batch_size = 1000\n",
        "num_epochs = 3\n",
        "\n",
        "print(\"la cantidad de elementos en la entrada es: \",input_size)"
      ],
      "metadata": {
        "colab": {
          "base_uri": "https://localhost:8080/"
        },
        "id": "bvAXtGD491Vn",
        "outputId": "0892e653-6f09-421b-ed59-e2c4421796fd"
      },
      "execution_count": null,
      "outputs": [
        {
          "output_type": "stream",
          "name": "stdout",
          "text": [
            "la cantidad de elementos en la entrada es:  96\n"
          ]
        }
      ]
    },
    {
      "cell_type": "markdown",
      "source": [
        "#### Verificamos que el GPU este habilitado\n",
        "\n",
        "\n",
        "Este código sirve para configurar el dispositivo en el que se ejecutarán los cálculos de PyTorch. Si una GPU está disponible en el sistema, el código configura el dispositivo para usar la GPU (CUDA), de lo contrario, se configura para utilizar la CPU."
      ],
      "metadata": {
        "id": "KJHfidDX-tBm"
      }
    },
    {
      "cell_type": "code",
      "execution_count": null,
      "metadata": {
        "colab": {
          "base_uri": "https://localhost:8080/"
        },
        "id": "COAUlsr8DLfF",
        "outputId": "4d6028ee-f174-40c0-879e-de9780d75408"
      },
      "outputs": [
        {
          "output_type": "stream",
          "name": "stdout",
          "text": [
            "cuda\n"
          ]
        }
      ],
      "source": [
        "# Configuramos el dispositivo cuda para GPU si está disponible\n",
        "device = torch.device(\"cuda\" if torch.cuda.is_available() else \"cpu\")\n",
        "print(device)"
      ]
    },
    {
      "cell_type": "markdown",
      "source": [
        "#### Cargamos conjuntos de datos en lotes:\n",
        "\n",
        "* **dataset:** El conjunto de datos que se va a cargar en lotes. En este caso, * * * train_dataset y test_dataset son los conjuntos de datos de entrenamiento y prueba, respectivamente.\n",
        "* **batch_size:** El tamaño de los lotes de datos. Especifica cuántas muestras se cargarán a la vez durante el entrenamiento o la evaluación.\n",
        "* **shuffle:** Un booleano que indica si se deben mezclar los datos antes de cargarlos en lotes. Esto es útil durante el entrenamiento para evitar que el modelo aprenda patrones basados en el orden de los datos."
      ],
      "metadata": {
        "id": "IUGwnkoEGJUp"
      }
    },
    {
      "cell_type": "code",
      "execution_count": null,
      "metadata": {
        "colab": {
          "base_uri": "https://localhost:8080/"
        },
        "id": "10BjWiz3DYmW",
        "outputId": "1c159200-3da4-4dd7-d885-36efbf584742"
      },
      "outputs": [
        {
          "output_type": "stream",
          "name": "stdout",
          "text": [
            "97927\n",
            "24483\n",
            "la cantidad de lotes para el dataset de entrenamiento es:  98\n",
            "la cantidad de lotes para el dataset de prueba es:  25\n"
          ]
        }
      ],
      "source": [
        "print(len(train_dataset))\n",
        "print(len(test_dataset))\n",
        "\n",
        "train_loader = DataLoader(dataset=train_dataset, batch_size=batch_size, shuffle=True)\n",
        "test_loader = DataLoader(dataset=test_dataset, batch_size=batch_size, shuffle=True)\n",
        "\n",
        "print(\"la cantidad de lotes para el dataset de entrenamiento es: \",len(train_loader))\n",
        "print(\"la cantidad de lotes para el dataset de prueba es: \",len(test_loader))"
      ]
    },
    {
      "cell_type": "markdown",
      "source": [
        "### Modelo de red neuronal\n",
        "\n",
        "Este código crea una instancia de un modelo de red neuronal y lo mueve al dispositivo especificado (ya sea GPU o CPU) para su entrenamiento y evaluación.\n",
        "\n",
        "* **RedNeuronalMLS:** Usamos la clase para crear el modelo.\n",
        "* **input_size:** es el tamaño de entrada del modelo, es decir, el número de características en cada ejemplo de entrada.\n",
        "num_classes es el número de clases en el problema de clasificación, es decir, el número de categorías diferentes a predecir.\n",
        "* **.to(device):** mueve el modelo a la GPU (cuda) si está disponible, de lo contrario, lo deja en la CPU (cpu)."
      ],
      "metadata": {
        "id": "VrExWdEuHPI5"
      }
    },
    {
      "cell_type": "code",
      "execution_count": null,
      "metadata": {
        "id": "_MtcDzEqEqeO"
      },
      "outputs": [],
      "source": [
        "# Initialize network\n",
        "model = RedNeuronalMLS(input_size=input_size, num_classes=num_classes).to(device)"
      ]
    },
    {
      "cell_type": "markdown",
      "source": [
        "Mostramos algunas caracteristicas del modelo:"
      ],
      "metadata": {
        "id": "CF0Cd4WZHuyA"
      }
    },
    {
      "cell_type": "code",
      "execution_count": null,
      "metadata": {
        "colab": {
          "base_uri": "https://localhost:8080/"
        },
        "id": "n4QhA5rv4Td0",
        "outputId": "0cdb1411-09b2-4e5b-9ddf-31874ada4e9a"
      },
      "outputs": [
        {
          "output_type": "execute_result",
          "data": {
            "text/plain": [
              "RedNeuronalMLS(\n",
              "  (fc1): Linear(in_features=96, out_features=50, bias=True)\n",
              "  (fc2): Linear(in_features=50, out_features=2, bias=True)\n",
              ")"
            ]
          },
          "metadata": {},
          "execution_count": 462
        }
      ],
      "source": [
        "model"
      ]
    },
    {
      "cell_type": "markdown",
      "source": [
        "#### Funcion de perdida o costo para el modelo:\n",
        "\n",
        "como este es un modelo de clasificacion, se procede a crearlo con la funcion de **CrossEntropyLoss()** y el optimizador creando una instancia del **optimizador Adam**."
      ],
      "metadata": {
        "id": "ceRVGjQeH1iI"
      }
    },
    {
      "cell_type": "code",
      "execution_count": null,
      "metadata": {
        "id": "JOXxAOpEFiCT"
      },
      "outputs": [],
      "source": [
        "# Perdida y optimizador\n",
        "criterion = nn.CrossEntropyLoss()\n",
        "optimizer = optim.Adam(model.parameters(), lr=learning_rate)"
      ]
    },
    {
      "cell_type": "markdown",
      "source": [
        "### Entrenamiento de la Red neuronal\n",
        "\n",
        "Haciendo el uso dos ciclos For, en el primero para el uso del los **\"epochs\"** el cual ira iterando uno por uno dentro del segundo For, el c se recorre el cargador de datos de entrenamiento **(train_loader)** para obtener lotes **(batches)** de datos y sus respectivas etiquetas. **batch_idx **es el índice del lote actual, data contiene las entradas del lote y targets contiene las etiquetas correspondientes."
      ],
      "metadata": {
        "id": "KCK_GZaUIq7K"
      }
    },
    {
      "cell_type": "code",
      "execution_count": null,
      "metadata": {
        "colab": {
          "base_uri": "https://localhost:8080/"
        },
        "id": "yNVVsm2uXlPl",
        "outputId": "f26fcfba-45f8-4530-ed26-a8a564ad5c84"
      },
      "outputs": [
        {
          "output_type": "stream",
          "name": "stderr",
          "text": [
            "\r  0%|          | 0/98 [00:00<?, ?it/s]"
          ]
        },
        {
          "output_type": "stream",
          "name": "stdout",
          "text": [
            "torch.Size([1000, 96])\n",
            "torch.Size([1000, 96])\n",
            "torch.Size([1000, 96])\n",
            "torch.Size([1000, 96])\n"
          ]
        },
        {
          "output_type": "stream",
          "name": "stderr",
          "text": [
            "\r  5%|▌         | 5/98 [00:00<00:01, 46.64it/s]"
          ]
        },
        {
          "output_type": "stream",
          "name": "stdout",
          "text": [
            "torch.Size([1000, 96])\n",
            "torch.Size([1000, 96])\n",
            "torch.Size([1000, 96])\n",
            "torch.Size([1000, 96])\n",
            "torch.Size([1000, 96])\n"
          ]
        },
        {
          "output_type": "stream",
          "name": "stderr",
          "text": [
            "\r 11%|█         | 11/98 [00:00<00:01, 49.91it/s]"
          ]
        },
        {
          "output_type": "stream",
          "name": "stdout",
          "text": [
            "torch.Size([1000, 96])\n",
            "torch.Size([1000, 96])\n",
            "torch.Size([1000, 96])\n",
            "torch.Size([1000, 96])\n",
            "torch.Size([1000, 96])\n",
            "torch.Size([1000, 96])\n"
          ]
        },
        {
          "output_type": "stream",
          "name": "stderr",
          "text": [
            "\r 16%|█▋        | 16/98 [00:00<00:01, 47.06it/s]"
          ]
        },
        {
          "output_type": "stream",
          "name": "stdout",
          "text": [
            "torch.Size([1000, 96])\n",
            "torch.Size([1000, 96])\n",
            "torch.Size([1000, 96])\n",
            "torch.Size([1000, 96])\n"
          ]
        },
        {
          "output_type": "stream",
          "name": "stderr",
          "text": [
            "\r 21%|██▏       | 21/98 [00:00<00:01, 47.71it/s]"
          ]
        },
        {
          "output_type": "stream",
          "name": "stdout",
          "text": [
            "torch.Size([1000, 96])\n",
            "torch.Size([1000, 96])\n",
            "torch.Size([1000, 96])\n",
            "torch.Size([1000, 96])\n",
            "torch.Size([1000, 96])\n",
            "torch.Size([1000, 96])\n"
          ]
        },
        {
          "output_type": "stream",
          "name": "stderr",
          "text": [
            "\r 27%|██▋       | 26/98 [00:00<00:01, 46.31it/s]"
          ]
        },
        {
          "output_type": "stream",
          "name": "stdout",
          "text": [
            "torch.Size([1000, 96])\n",
            "torch.Size([1000, 96])\n",
            "torch.Size([1000, 96])\n",
            "torch.Size([1000, 96])\n",
            "torch.Size([1000, 96])\n",
            "torch.Size([1000, 96])\n"
          ]
        },
        {
          "output_type": "stream",
          "name": "stderr",
          "text": [
            "\r 33%|███▎      | 32/98 [00:00<00:01, 47.62it/s]"
          ]
        },
        {
          "output_type": "stream",
          "name": "stdout",
          "text": [
            "torch.Size([1000, 96])\n",
            "torch.Size([1000, 96])\n",
            "torch.Size([1000, 96])\n",
            "torch.Size([1000, 96])\n"
          ]
        },
        {
          "output_type": "stream",
          "name": "stderr",
          "text": [
            "\r 38%|███▊      | 37/98 [00:00<00:01, 47.58it/s]"
          ]
        },
        {
          "output_type": "stream",
          "name": "stdout",
          "text": [
            "torch.Size([1000, 96])\n",
            "torch.Size([1000, 96])\n",
            "torch.Size([1000, 96])\n",
            "torch.Size([1000, 96])\n",
            "torch.Size([1000, 96])\n",
            "torch.Size([1000, 96])\n"
          ]
        },
        {
          "output_type": "stream",
          "name": "stderr",
          "text": [
            "\r 43%|████▎     | 42/98 [00:00<00:01, 46.28it/s]"
          ]
        },
        {
          "output_type": "stream",
          "name": "stdout",
          "text": [
            "torch.Size([1000, 96])\n",
            "torch.Size([1000, 96])\n",
            "torch.Size([1000, 96])\n",
            "torch.Size([1000, 96])\n"
          ]
        },
        {
          "output_type": "stream",
          "name": "stderr",
          "text": [
            "\r 48%|████▊     | 47/98 [00:00<00:01, 46.80it/s]"
          ]
        },
        {
          "output_type": "stream",
          "name": "stdout",
          "text": [
            "torch.Size([1000, 96])\n",
            "torch.Size([1000, 96])\n",
            "torch.Size([1000, 96])\n",
            "torch.Size([1000, 96])\n",
            "torch.Size([1000, 96])\n",
            "torch.Size([1000, 96])\n",
            "torch.Size([1000, 96])\n"
          ]
        },
        {
          "output_type": "stream",
          "name": "stderr",
          "text": [
            "\r 54%|█████▍    | 53/98 [00:01<00:00, 48.96it/s]"
          ]
        },
        {
          "output_type": "stream",
          "name": "stdout",
          "text": [
            "torch.Size([1000, 96])\n",
            "torch.Size([1000, 96])\n",
            "torch.Size([1000, 96])\n",
            "torch.Size([1000, 96])\n"
          ]
        },
        {
          "output_type": "stream",
          "name": "stderr",
          "text": [
            "\r 59%|█████▉    | 58/98 [00:01<00:00, 48.71it/s]"
          ]
        },
        {
          "output_type": "stream",
          "name": "stdout",
          "text": [
            "torch.Size([1000, 96])\n",
            "torch.Size([1000, 96])\n",
            "torch.Size([1000, 96])\n",
            "torch.Size([1000, 96])\n",
            "torch.Size([1000, 96])\n",
            "torch.Size([1000, 96])\n"
          ]
        },
        {
          "output_type": "stream",
          "name": "stderr",
          "text": [
            "\r 64%|██████▍   | 63/98 [00:01<00:00, 48.33it/s]"
          ]
        },
        {
          "output_type": "stream",
          "name": "stdout",
          "text": [
            "torch.Size([1000, 96])\n",
            "torch.Size([1000, 96])\n",
            "torch.Size([1000, 96])\n",
            "torch.Size([1000, 96])\n"
          ]
        },
        {
          "output_type": "stream",
          "name": "stderr",
          "text": [
            "\r 69%|██████▉   | 68/98 [00:01<00:00, 46.93it/s]"
          ]
        },
        {
          "output_type": "stream",
          "name": "stdout",
          "text": [
            "torch.Size([1000, 96])\n",
            "torch.Size([1000, 96])\n",
            "torch.Size([1000, 96])\n",
            "torch.Size([1000, 96])\n",
            "torch.Size([1000, 96])\n",
            "torch.Size([1000, 96])\n"
          ]
        },
        {
          "output_type": "stream",
          "name": "stderr",
          "text": [
            "\r 74%|███████▍  | 73/98 [00:01<00:00, 47.68it/s]"
          ]
        },
        {
          "output_type": "stream",
          "name": "stdout",
          "text": [
            "torch.Size([1000, 96])\n",
            "torch.Size([1000, 96])\n",
            "torch.Size([1000, 96])\n",
            "torch.Size([1000, 96])\n"
          ]
        },
        {
          "output_type": "stream",
          "name": "stderr",
          "text": [
            "\r 80%|███████▉  | 78/98 [00:01<00:00, 47.83it/s]"
          ]
        },
        {
          "output_type": "stream",
          "name": "stdout",
          "text": [
            "torch.Size([1000, 96])\n",
            "torch.Size([1000, 96])\n",
            "torch.Size([1000, 96])\n",
            "torch.Size([1000, 96])\n",
            "torch.Size([1000, 96])\n",
            "torch.Size([1000, 96])\n"
          ]
        },
        {
          "output_type": "stream",
          "name": "stderr",
          "text": [
            "\r 85%|████████▍ | 83/98 [00:01<00:00, 47.16it/s]"
          ]
        },
        {
          "output_type": "stream",
          "name": "stdout",
          "text": [
            "torch.Size([1000, 96])\n",
            "torch.Size([1000, 96])\n",
            "torch.Size([1000, 96])\n",
            "torch.Size([1000, 96])\n"
          ]
        },
        {
          "output_type": "stream",
          "name": "stderr",
          "text": [
            "\r 90%|████████▉ | 88/98 [00:01<00:00, 46.78it/s]"
          ]
        },
        {
          "output_type": "stream",
          "name": "stdout",
          "text": [
            "torch.Size([1000, 96])\n",
            "torch.Size([1000, 96])\n",
            "torch.Size([1000, 96])\n",
            "torch.Size([1000, 96])\n",
            "torch.Size([1000, 96])\n",
            "torch.Size([1000, 96])\n"
          ]
        },
        {
          "output_type": "stream",
          "name": "stderr",
          "text": [
            "\r 95%|█████████▍| 93/98 [00:01<00:00, 47.35it/s]"
          ]
        },
        {
          "output_type": "stream",
          "name": "stdout",
          "text": [
            "torch.Size([1000, 96])\n",
            "torch.Size([1000, 96])\n",
            "torch.Size([1000, 96])\n",
            "torch.Size([1000, 96])\n"
          ]
        },
        {
          "output_type": "stream",
          "name": "stderr",
          "text": [
            "100%|██████████| 98/98 [00:02<00:00, 47.41it/s]\n"
          ]
        },
        {
          "output_type": "stream",
          "name": "stdout",
          "text": [
            "torch.Size([1000, 96])\n",
            "torch.Size([927, 96])\n"
          ]
        },
        {
          "output_type": "stream",
          "name": "stderr",
          "text": [
            "\r  0%|          | 0/98 [00:00<?, ?it/s]"
          ]
        },
        {
          "output_type": "stream",
          "name": "stdout",
          "text": [
            "torch.Size([1000, 96])\n",
            "torch.Size([1000, 96])\n",
            "torch.Size([1000, 96])\n",
            "torch.Size([1000, 96])\n"
          ]
        },
        {
          "output_type": "stream",
          "name": "stderr",
          "text": [
            "\r  5%|▌         | 5/98 [00:00<00:01, 49.11it/s]"
          ]
        },
        {
          "output_type": "stream",
          "name": "stdout",
          "text": [
            "torch.Size([1000, 96])\n",
            "torch.Size([1000, 96])\n",
            "torch.Size([1000, 96])\n",
            "torch.Size([1000, 96])\n"
          ]
        },
        {
          "output_type": "stream",
          "name": "stderr",
          "text": [
            "\r 10%|█         | 10/98 [00:00<00:01, 48.24it/s]"
          ]
        },
        {
          "output_type": "stream",
          "name": "stdout",
          "text": [
            "torch.Size([1000, 96])\n",
            "torch.Size([1000, 96])\n",
            "torch.Size([1000, 96])\n",
            "torch.Size([1000, 96])\n",
            "torch.Size([1000, 96])\n",
            "torch.Size([1000, 96])\n"
          ]
        },
        {
          "output_type": "stream",
          "name": "stderr",
          "text": [
            "\r 15%|█▌        | 15/98 [00:00<00:01, 47.22it/s]"
          ]
        },
        {
          "output_type": "stream",
          "name": "stdout",
          "text": [
            "torch.Size([1000, 96])\n",
            "torch.Size([1000, 96])\n",
            "torch.Size([1000, 96])\n",
            "torch.Size([1000, 96])\n"
          ]
        },
        {
          "output_type": "stream",
          "name": "stderr",
          "text": [
            "\r 21%|██▏       | 21/98 [00:00<00:01, 48.81it/s]"
          ]
        },
        {
          "output_type": "stream",
          "name": "stdout",
          "text": [
            "torch.Size([1000, 96])\n",
            "torch.Size([1000, 96])\n",
            "torch.Size([1000, 96])\n",
            "torch.Size([1000, 96])\n",
            "torch.Size([1000, 96])\n",
            "torch.Size([1000, 96])\n",
            "torch.Size([1000, 96])\n",
            "torch.Size([1000, 96])\n"
          ]
        },
        {
          "output_type": "stream",
          "name": "stderr",
          "text": [
            "\r 28%|██▊       | 27/98 [00:00<00:01, 49.33it/s]"
          ]
        },
        {
          "output_type": "stream",
          "name": "stdout",
          "text": [
            "torch.Size([1000, 96])\n",
            "torch.Size([1000, 96])\n"
          ]
        },
        {
          "output_type": "stream",
          "name": "stderr",
          "text": [
            " 39%|███▉      | 38/98 [00:00<00:01, 37.59it/s]"
          ]
        },
        {
          "output_type": "stream",
          "name": "stdout",
          "text": [
            "torch.Size([1000, 96])\n",
            "torch.Size([1000, 96])\n",
            "torch.Size([1000, 96])\n",
            "torch.Size([1000, 96])\n",
            "torch.Size([1000, 96])\n",
            "torch.Size([1000, 96])\n",
            "torch.Size([1000, 96])\n",
            "torch.Size([1000, 96])\n",
            "torch.Size([1000, 96])\n",
            "torch.Size([1000, 96])\n",
            "torch.Size([1000, 96])\n"
          ]
        },
        {
          "output_type": "stream",
          "name": "stderr",
          "text": [
            "\r 45%|████▍     | 44/98 [00:01<00:01, 41.30it/s]"
          ]
        },
        {
          "output_type": "stream",
          "name": "stdout",
          "text": [
            "torch.Size([1000, 96])\n",
            "torch.Size([1000, 96])\n",
            "torch.Size([1000, 96])\n",
            "torch.Size([1000, 96])\n",
            "torch.Size([1000, 96])\n",
            "torch.Size([1000, 96])\n",
            "torch.Size([1000, 96])\n",
            "torch.Size([1000, 96])\n",
            "torch.Size([1000, 96])\n",
            "torch.Size([1000, 96])\n"
          ]
        },
        {
          "output_type": "stream",
          "name": "stderr",
          "text": [
            "\r 51%|█████     | 50/98 [00:01<00:01, 44.42it/s]"
          ]
        },
        {
          "output_type": "stream",
          "name": "stdout",
          "text": [
            "torch.Size([1000, 96])\n"
          ]
        },
        {
          "output_type": "stream",
          "name": "stderr",
          "text": [
            "\r 56%|█████▌    | 55/98 [00:01<00:00, 45.30it/s]"
          ]
        },
        {
          "output_type": "stream",
          "name": "stdout",
          "text": [
            "torch.Size([1000, 96])\n",
            "torch.Size([1000, 96])\n",
            "torch.Size([1000, 96])\n",
            "torch.Size([1000, 96])\n",
            "torch.Size([1000, 96])\n",
            "torch.Size([1000, 96])\n",
            "torch.Size([1000, 96])\n",
            "torch.Size([1000, 96])\n",
            "torch.Size([1000, 96])\n",
            "torch.Size([1000, 96])\n"
          ]
        },
        {
          "output_type": "stream",
          "name": "stderr",
          "text": [
            "\r 62%|██████▏   | 61/98 [00:01<00:00, 47.79it/s]"
          ]
        },
        {
          "output_type": "stream",
          "name": "stdout",
          "text": [
            "torch.Size([1000, 96])\n"
          ]
        },
        {
          "output_type": "stream",
          "name": "stderr",
          "text": [
            "\r 68%|██████▊   | 67/98 [00:01<00:00, 49.16it/s]"
          ]
        },
        {
          "output_type": "stream",
          "name": "stdout",
          "text": [
            "torch.Size([1000, 96])\n",
            "torch.Size([1000, 96])\n",
            "torch.Size([1000, 96])\n",
            "torch.Size([1000, 96])\n",
            "torch.Size([1000, 96])\n",
            "torch.Size([1000, 96])\n",
            "torch.Size([1000, 96])\n",
            "torch.Size([1000, 96])\n",
            "torch.Size([1000, 96])\n",
            "torch.Size([1000, 96])\n",
            "torch.Size([1000, 96])\n",
            "torch.Size([1000, 96])\n"
          ]
        },
        {
          "output_type": "stream",
          "name": "stderr",
          "text": [
            " 81%|████████  | 79/98 [00:01<00:00, 50.78it/s]"
          ]
        },
        {
          "output_type": "stream",
          "name": "stdout",
          "text": [
            "torch.Size([1000, 96])\n",
            "torch.Size([1000, 96])\n",
            "torch.Size([1000, 96])\n",
            "torch.Size([1000, 96])\n",
            "torch.Size([1000, 96])\n",
            "torch.Size([1000, 96])\n",
            "torch.Size([1000, 96])\n",
            "torch.Size([1000, 96])\n",
            "torch.Size([1000, 96])\n",
            "torch.Size([1000, 96])\n",
            "torch.Size([1000, 96])\n"
          ]
        },
        {
          "output_type": "stream",
          "name": "stderr",
          "text": [
            " 93%|█████████▎| 91/98 [00:01<00:00, 51.30it/s]"
          ]
        },
        {
          "output_type": "stream",
          "name": "stdout",
          "text": [
            "torch.Size([1000, 96])\n",
            "torch.Size([1000, 96])\n",
            "torch.Size([1000, 96])\n",
            "torch.Size([1000, 96])\n",
            "torch.Size([1000, 96])\n",
            "torch.Size([1000, 96])\n",
            "torch.Size([1000, 96])\n",
            "torch.Size([1000, 96])\n",
            "torch.Size([1000, 96])\n",
            "torch.Size([1000, 96])\n",
            "torch.Size([1000, 96])\n"
          ]
        },
        {
          "output_type": "stream",
          "name": "stderr",
          "text": [
            "100%|██████████| 98/98 [00:02<00:00, 46.61it/s]\n"
          ]
        },
        {
          "output_type": "stream",
          "name": "stdout",
          "text": [
            "torch.Size([1000, 96])\n",
            "torch.Size([1000, 96])\n",
            "torch.Size([927, 96])\n"
          ]
        },
        {
          "output_type": "stream",
          "name": "stderr",
          "text": [
            "\r  0%|          | 0/98 [00:00<?, ?it/s]"
          ]
        },
        {
          "output_type": "stream",
          "name": "stdout",
          "text": [
            "torch.Size([1000, 96])\n",
            "torch.Size([1000, 96])\n",
            "torch.Size([1000, 96])\n",
            "torch.Size([1000, 96])\n",
            "torch.Size([1000, 96])\n"
          ]
        },
        {
          "output_type": "stream",
          "name": "stderr",
          "text": [
            "\r  6%|▌         | 6/98 [00:00<00:01, 52.83it/s]"
          ]
        },
        {
          "output_type": "stream",
          "name": "stdout",
          "text": [
            "torch.Size([1000, 96])\n",
            "torch.Size([1000, 96])\n",
            "torch.Size([1000, 96])\n",
            "torch.Size([1000, 96])\n",
            "torch.Size([1000, 96])\n",
            "torch.Size([1000, 96])\n"
          ]
        },
        {
          "output_type": "stream",
          "name": "stderr",
          "text": [
            "\r 12%|█▏        | 12/98 [00:00<00:01, 50.14it/s]"
          ]
        },
        {
          "output_type": "stream",
          "name": "stdout",
          "text": [
            "torch.Size([1000, 96])\n",
            "torch.Size([1000, 96])\n",
            "torch.Size([1000, 96])\n",
            "torch.Size([1000, 96])\n",
            "torch.Size([1000, 96])\n"
          ]
        },
        {
          "output_type": "stream",
          "name": "stderr",
          "text": [
            "\r 18%|█▊        | 18/98 [00:00<00:01, 52.22it/s]"
          ]
        },
        {
          "output_type": "stream",
          "name": "stdout",
          "text": [
            "torch.Size([1000, 96])\n",
            "torch.Size([1000, 96])\n",
            "torch.Size([1000, 96])\n",
            "torch.Size([1000, 96])\n",
            "torch.Size([1000, 96])\n",
            "torch.Size([1000, 96])\n"
          ]
        },
        {
          "output_type": "stream",
          "name": "stderr",
          "text": [
            "\r 24%|██▍       | 24/98 [00:00<00:01, 51.96it/s]"
          ]
        },
        {
          "output_type": "stream",
          "name": "stdout",
          "text": [
            "torch.Size([1000, 96])\n",
            "torch.Size([1000, 96])\n",
            "torch.Size([1000, 96])\n",
            "torch.Size([1000, 96])\n",
            "torch.Size([1000, 96])\n",
            "torch.Size([1000, 96])\n",
            "torch.Size([1000, 96])\n"
          ]
        },
        {
          "output_type": "stream",
          "name": "stderr",
          "text": [
            " 36%|███▌      | 35/98 [00:00<00:01, 36.77it/s]"
          ]
        },
        {
          "output_type": "stream",
          "name": "stdout",
          "text": [
            "torch.Size([1000, 96])\n",
            "torch.Size([1000, 96])\n",
            "torch.Size([1000, 96])\n",
            "torch.Size([1000, 96])\n",
            "torch.Size([1000, 96])\n",
            "torch.Size([1000, 96])\n",
            "torch.Size([1000, 96])\n",
            "torch.Size([1000, 96])\n",
            "torch.Size([1000, 96])\n",
            "torch.Size([1000, 96])\n"
          ]
        },
        {
          "output_type": "stream",
          "name": "stderr",
          "text": [
            " 46%|████▌     | 45/98 [00:01<00:01, 40.86it/s]"
          ]
        },
        {
          "output_type": "stream",
          "name": "stdout",
          "text": [
            "torch.Size([1000, 96])\n",
            "torch.Size([1000, 96])\n",
            "torch.Size([1000, 96])\n",
            "torch.Size([1000, 96])\n",
            "torch.Size([1000, 96])\n",
            "torch.Size([1000, 96])\n",
            "torch.Size([1000, 96])\n",
            "torch.Size([1000, 96])\n",
            "torch.Size([1000, 96])\n",
            "torch.Size([1000, 96])\n"
          ]
        },
        {
          "output_type": "stream",
          "name": "stderr",
          "text": [
            " 56%|█████▌    | 55/98 [00:01<00:00, 43.14it/s]"
          ]
        },
        {
          "output_type": "stream",
          "name": "stdout",
          "text": [
            "torch.Size([1000, 96])\n",
            "torch.Size([1000, 96])\n",
            "torch.Size([1000, 96])\n",
            "torch.Size([1000, 96])\n",
            "torch.Size([1000, 96])\n",
            "torch.Size([1000, 96])\n",
            "torch.Size([1000, 96])\n",
            "torch.Size([1000, 96])\n",
            "torch.Size([1000, 96])\n",
            "torch.Size([1000, 96])\n",
            "torch.Size([1000, 96])\n"
          ]
        },
        {
          "output_type": "stream",
          "name": "stderr",
          "text": [
            " 68%|██████▊   | 67/98 [00:01<00:00, 48.69it/s]"
          ]
        },
        {
          "output_type": "stream",
          "name": "stdout",
          "text": [
            "torch.Size([1000, 96])\n",
            "torch.Size([1000, 96])\n",
            "torch.Size([1000, 96])\n",
            "torch.Size([1000, 96])\n",
            "torch.Size([1000, 96])\n",
            "torch.Size([1000, 96])\n",
            "torch.Size([1000, 96])\n",
            "torch.Size([1000, 96])\n",
            "torch.Size([1000, 96])\n",
            "torch.Size([1000, 96])\n",
            "torch.Size([1000, 96])\n",
            "torch.Size([1000, 96])\n"
          ]
        },
        {
          "output_type": "stream",
          "name": "stderr",
          "text": [
            " 81%|████████  | 79/98 [00:01<00:00, 51.00it/s]"
          ]
        },
        {
          "output_type": "stream",
          "name": "stdout",
          "text": [
            "torch.Size([1000, 96])\n",
            "torch.Size([1000, 96])\n",
            "torch.Size([1000, 96])\n",
            "torch.Size([1000, 96])\n",
            "torch.Size([1000, 96])\n",
            "torch.Size([1000, 96])\n",
            "torch.Size([1000, 96])\n",
            "torch.Size([1000, 96])\n",
            "torch.Size([1000, 96])\n",
            "torch.Size([1000, 96])\n",
            "torch.Size([1000, 96])\n"
          ]
        },
        {
          "output_type": "stream",
          "name": "stderr",
          "text": [
            " 93%|█████████▎| 91/98 [00:01<00:00, 52.21it/s]"
          ]
        },
        {
          "output_type": "stream",
          "name": "stdout",
          "text": [
            "torch.Size([1000, 96])\n",
            "torch.Size([1000, 96])\n",
            "torch.Size([1000, 96])\n",
            "torch.Size([1000, 96])\n",
            "torch.Size([1000, 96])\n",
            "torch.Size([1000, 96])\n",
            "torch.Size([1000, 96])\n",
            "torch.Size([1000, 96])\n",
            "torch.Size([1000, 96])\n",
            "torch.Size([1000, 96])\n",
            "torch.Size([1000, 96])\n"
          ]
        },
        {
          "output_type": "stream",
          "name": "stderr",
          "text": [
            "100%|██████████| 98/98 [00:02<00:00, 46.53it/s]"
          ]
        },
        {
          "output_type": "stream",
          "name": "stdout",
          "text": [
            "torch.Size([1000, 96])\n",
            "torch.Size([1000, 96])\n",
            "torch.Size([1000, 96])\n",
            "torch.Size([927, 96])\n"
          ]
        },
        {
          "output_type": "stream",
          "name": "stderr",
          "text": [
            "\n"
          ]
        }
      ],
      "source": [
        "# Train Network\n",
        "for epoch in range(num_epochs):\n",
        "    for batch_idx, (data, targets) in enumerate(tqdm(train_loader)):\n",
        "\n",
        "        # Obtenemos el CUDA si es posible\n",
        "        data = data.to(device=device)\n",
        "        targets = targets.to(device=device)\n",
        "\n",
        "\n",
        "        # Llegar a la forma correcta\n",
        "        data = data.reshape(data.shape[0], -1)\n",
        "        print(data.shape)\n",
        "        # print(\"-\"*30)\n",
        "\n",
        "        # forward\n",
        "        scores = model(data)\n",
        "        loss = criterion(scores, targets)\n",
        "\n",
        "        # backward\n",
        "        optimizer.zero_grad()\n",
        "        loss.backward()\n",
        "\n",
        "        # gradient descent or adam step\n",
        "        optimizer.step()"
      ]
    },
    {
      "cell_type": "markdown",
      "source": [
        "### validaciones\n",
        "\n",
        "Para hacer las validaciones correspondientes, se **creo check_accuracy()** el cual recibe como parametros nuestros dataset_loader y el modelo, donde nos retornara el procentaje de precision y las predicciones hechas en un vector:"
      ],
      "metadata": {
        "id": "7LA5TrlDuoxy"
      }
    },
    {
      "cell_type": "code",
      "execution_count": null,
      "metadata": {
        "id": "Zfpwc1XSGbYs"
      },
      "outputs": [],
      "source": [
        "# Check accuracy on training & test to see how good our model\n",
        "def check_accuracy(loader, model):\n",
        "    num_correct = 0\n",
        "    num_samples = 0\n",
        "    model.eval()\n",
        "\n",
        "    predicciones = []\n",
        "    with torch.no_grad():\n",
        "        for x, y in loader:\n",
        "            x = x.to(device=device)\n",
        "            y = y.to(device=device)\n",
        "            x = x.reshape(x.shape[0], -1)\n",
        "\n",
        "            scores = model(x)\n",
        "            _, predictions = scores.max(1)\n",
        "            predicciones.append(predictions)\n",
        "\n",
        "            num_correct += (predictions == y).sum()\n",
        "            num_samples += predictions.size(0)\n",
        "\n",
        "    model.train()\n",
        "    return num_correct/num_samples, predicciones"
      ]
    },
    {
      "cell_type": "markdown",
      "source": [
        "#### Precision con los datos de entrenamiento:"
      ],
      "metadata": {
        "id": "k3zsYR7cvVPT"
      }
    },
    {
      "cell_type": "code",
      "source": [
        "p_train, pred_train  = check_accuracy(train_loader, model)\n",
        "print(f\"Precisión en el conjunto de entrenamiento: {p_train*100:.2f} %\")"
      ],
      "metadata": {
        "colab": {
          "base_uri": "https://localhost:8080/"
        },
        "id": "yR97DVD4vZ67",
        "outputId": "41e334e4-63ca-4225-8b92-27d5007a4a8a"
      },
      "execution_count": null,
      "outputs": [
        {
          "output_type": "stream",
          "name": "stdout",
          "text": [
            "Precisión en el conjunto de entrenamiento: 73.44 %\n"
          ]
        }
      ]
    },
    {
      "cell_type": "markdown",
      "source": [
        "#### Precision con los datos de prueba:"
      ],
      "metadata": {
        "id": "2wqtC82UvjAb"
      }
    },
    {
      "cell_type": "code",
      "source": [
        "p_test, pred_test  = check_accuracy(test_loader, model)\n",
        "print(f\"Precisión en el conjunto de prueba: {p_test*100:.2f} %\")"
      ],
      "metadata": {
        "colab": {
          "base_uri": "https://localhost:8080/"
        },
        "id": "VGn-SvH5vlET",
        "outputId": "c46ec9d6-a07d-410b-e44c-be08d431e339"
      },
      "execution_count": null,
      "outputs": [
        {
          "output_type": "stream",
          "name": "stdout",
          "text": [
            "Precisión en el conjunto de prueba: 72.82 %\n"
          ]
        }
      ]
    },
    {
      "cell_type": "markdown",
      "source": [
        "## ¿Concluciones?\n",
        "\n",
        "Una vez hecha las predicciones del modelos, se puede determinar que el modelo reliza las predicciones con una precision del 72.82% con los datos de prueba y con un 73.44% con los datos de entrenamiento, puede considerarse casi buena, esto devido a que en un torneo de CS:GO las partidas son demasiado importantes, y tener el modelo con esta precision puede llegar a generar desconfianza."
      ],
      "metadata": {
        "id": "UtTSRUPJwUmT"
      }
    },
    {
      "cell_type": "markdown",
      "source": [
        "### ¿Cuales son los mejores hiperparametros?\n",
        "\n",
        "Se eligio aquellos hiperparametros de acuerdo a la grafica de costo realizada para cada modelo, guiandonos en que la grafica de costo no este muy curveada pero tampoco que este demasiado recta. A continuacion se muestra los hiperparametros seleccionados:\n",
        "\n",
        "* **Capa de entrada:** Es la cantidad de caracteristicas con las que cuenta el dataset.\n",
        "* **Capa de salida:** como este modelo cuenta con dos clases, por lo tanto solo tendra un valor de 2\n",
        "\n",
        "* **learning_rate.-** el la tasa de aprendisaje, para este hiperparametro se definio con el valor de 0.001, porque cada vez que se disminuia el valor de este, la precision decaia en un 51.5%, pero si se mantenia se llegaba por encima del 60%.\n",
        "* **batch_size.-** este hiperparametro nos indica la cantidad que tendra cada lote, se eligio el valor de 1000 guiandonos con la precision con los datos de entrenamiento y de prueba, si el valor era demasiado alto, como 10000 la precision rondaba entre los 61%, pero si lo reduciamos a 100 o 64, la precision llegaba a ser entre 51.6%, para una mejor precision se escogio el valor de 1000 por la preciosn que nos databa una precision de 72.82% y 73.44%.\n",
        "* **num_epochs.-** para el numoero de epochs(epocas) se definio 3, esto porque se defnio de acuerdo a la precision y capacidad de computo, si se tenia un valor alto, el entrenamiento tardaba mas y la precision era pesima, pero si el valor era entre 1 o 2, el entrenamiento era muy rapido, pero la precision pesima, llegando a la conclucion de escoger el valor de 3, que nos daba una mejor precision y el tiempo de entrenamiento era demasiado corto."
      ],
      "metadata": {
        "id": "W_Np93zixRTz"
      }
    }
  ],
  "metadata": {
    "accelerator": "GPU",
    "colab": {
      "machine_shape": "hm",
      "provenance": [],
      "toc_visible": true,
      "include_colab_link": true
    },
    "kernelspec": {
      "display_name": "Python 3",
      "language": "python",
      "name": "python3"
    },
    "language_info": {
      "codemirror_mode": {
        "name": "ipython",
        "version": 3
      },
      "file_extension": ".py",
      "mimetype": "text/x-python",
      "name": "python",
      "nbconvert_exporter": "python",
      "pygments_lexer": "ipython3",
      "version": "3.12.2"
    }
  },
  "nbformat": 4,
  "nbformat_minor": 0
}